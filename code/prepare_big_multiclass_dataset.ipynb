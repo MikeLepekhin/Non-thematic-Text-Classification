{
 "cells": [
  {
   "cell_type": "markdown",
   "metadata": {
    "colab_type": "text",
    "id": "IIlmOnlpd5b-"
   },
   "source": [
    "**Mounting of the Google Drive and downloading of the datasets**"
   ]
  },
  {
   "cell_type": "code",
   "execution_count": 1,
   "metadata": {
    "colab": {},
    "colab_type": "code",
    "id": "zeasuK4lOaw6"
   },
   "outputs": [],
   "source": [
    "import pandas as pd\n",
    "import numpy as np\n",
    "from matplotlib import pyplot as plt\n",
    "import tqdm\n",
    "from os.path import join as pathjoin"
   ]
  },
  {
   "cell_type": "code",
   "execution_count": 2,
   "metadata": {},
   "outputs": [
    {
     "name": "stdout",
     "output_type": "stream",
     "text": [
      "en_train  genre  rutenten1.predol  ukwac.predol\r\n"
     ]
    }
   ],
   "source": [
    "BIG_DATA_DIR = '/home/mlepekhin/data/big'\n",
    "!ls {BIG_DATA_DIR}"
   ]
  },
  {
   "cell_type": "code",
   "execution_count": 3,
   "metadata": {
    "colab": {
     "base_uri": "https://localhost:8080/",
     "height": 207
    },
    "colab_type": "code",
    "id": "UKI5rJq6RVs4",
    "outputId": "e6157242-4093-4214-da89-2d58fc3cc5cb"
   },
   "outputs": [
    {
     "name": "stdout",
     "output_type": "stream",
     "text": [
      "__label__A17 0.955\t The ' Baronet Supreme ' is upholstered using a needle teased hair pad to provide extra support , making it as comfortable as it is affordable . Each individual pocketed spring is enclosed in the finest quality cotton calico , used for its durability and ' breathing ' properties . Pictured here in an attractive Mulberry ticking on a turned wood leg , the ' Baronet Supreme'is available in a wide variety of mattress and divan covers and is one of the many Vi-Spring models featured in Ward Brothers Bed Department in Waterdale , Doncaster .  \n",
      "1616237 /home/mlepekhin/data/big/ukwac.predol\n"
     ]
    }
   ],
   "source": [
    "!head -1 {BIG_DATA_DIR}/ukwac.predol\n",
    "!wc -l {BIG_DATA_DIR}/ukwac.predol"
   ]
  },
  {
   "cell_type": "code",
   "execution_count": 4,
   "metadata": {
    "colab": {
     "base_uri": "https://localhost:8080/",
     "height": 207
    },
    "colab_type": "code",
    "id": "Vnj3dewQR3yz",
    "outputId": "096f9aa6-539e-463c-8c19-b75e3763138d"
   },
   "outputs": [],
   "source": [
    "def create_df(filename):\n",
    "    result_df = pd.DataFrame()\n",
    "    \n",
    "    with open(filename) as fin:\n",
    "        for line_id, line in tqdm.tqdm(enumerate(fin)):\n",
    "            if line_id == 100000:\n",
    "                break\n",
    "            header, text = line.split('\\t')\n",
    "            label, _ = header.split()\n",
    "            result_df = result_df.append({'target': label[9:], 'text': text}, ignore_index=True)\n",
    "    return result_df"
   ]
  },
  {
   "cell_type": "code",
   "execution_count": 32,
   "metadata": {},
   "outputs": [
    {
     "name": "stderr",
     "output_type": "stream",
     "text": [
      "100000it [04:03, 411.38it/s]\n"
     ]
    }
   ],
   "source": [
    "big_df = create_df(f'{BIG_DATA_DIR}/ukwac.predol')"
   ]
  },
  {
   "cell_type": "code",
   "execution_count": 33,
   "metadata": {},
   "outputs": [
    {
     "data": {
      "text/html": [
       "<div>\n",
       "<style scoped>\n",
       "    .dataframe tbody tr th:only-of-type {\n",
       "        vertical-align: middle;\n",
       "    }\n",
       "\n",
       "    .dataframe tbody tr th {\n",
       "        vertical-align: top;\n",
       "    }\n",
       "\n",
       "    .dataframe thead th {\n",
       "        text-align: right;\n",
       "    }\n",
       "</style>\n",
       "<table border=\"1\" class=\"dataframe\">\n",
       "  <thead>\n",
       "    <tr style=\"text-align: right;\">\n",
       "      <th></th>\n",
       "      <th>target</th>\n",
       "      <th>text</th>\n",
       "    </tr>\n",
       "  </thead>\n",
       "  <tbody>\n",
       "    <tr>\n",
       "      <th>0</th>\n",
       "      <td>A17</td>\n",
       "      <td>The ' Baronet Supreme ' is upholstered using ...</td>\n",
       "    </tr>\n",
       "    <tr>\n",
       "      <th>1</th>\n",
       "      <td>A17</td>\n",
       "      <td>This book explores some of the remarkable sto...</td>\n",
       "    </tr>\n",
       "    <tr>\n",
       "      <th>2</th>\n",
       "      <td>A17</td>\n",
       "      <td>Course Aims This course will teach support pr...</td>\n",
       "    </tr>\n",
       "    <tr>\n",
       "      <th>3</th>\n",
       "      <td>A7</td>\n",
       "      <td>In the News 24 November 2002 The Office of Fa...</td>\n",
       "    </tr>\n",
       "    <tr>\n",
       "      <th>4</th>\n",
       "      <td>A7</td>\n",
       "      <td>Signing the metadata for the SDSS federation ...</td>\n",
       "    </tr>\n",
       "  </tbody>\n",
       "</table>\n",
       "</div>"
      ],
      "text/plain": [
       "  target                                               text\n",
       "0    A17   The ' Baronet Supreme ' is upholstered using ...\n",
       "1    A17   This book explores some of the remarkable sto...\n",
       "2    A17   Course Aims This course will teach support pr...\n",
       "3     A7   In the News 24 November 2002 The Office of Fa...\n",
       "4     A7   Signing the metadata for the SDSS federation ..."
      ]
     },
     "execution_count": 33,
     "metadata": {},
     "output_type": "execute_result"
    }
   ],
   "source": [
    "big_df.head()"
   ]
  },
  {
   "cell_type": "code",
   "execution_count": 35,
   "metadata": {},
   "outputs": [],
   "source": [
    "big_df.to_csv(pathjoin(BIG_DATA_DIR, 'en.csv'))"
   ]
  },
  {
   "cell_type": "code",
   "execution_count": 6,
   "metadata": {},
   "outputs": [
    {
     "name": "stdout",
     "output_type": "stream",
     "text": [
      "__label__A8 0.843\tСИАБ раскидывает розничную сеть , Деловой Петербург  Петербургский Банк СИАБ намерен к середине лета 2012 года удвоить число офисов до 24 . Эксперты говорят , что этот путь развития нетипичен : многие банки сокращают сети .  Банк СИАБ до конца года намерен открыть восемь допофисов , а в течение первого полугодия 2012 года — еще 11 . Таким образом , сеть банка увеличится с пяти существующих до 24 офисов . Объем инвестиций составит около 25 млн рублей , из них в 2011 году будет потрачено до 11 млн рублей , уточняет председатель правления Банка СИАБ Галина Ванчикова .  Банк основан в 1995 году . Его основные бенефициары — председатель совета директоров банка Эдуард Таубин и член совета директоров Сергей Инкин ( владеют по 49,68 % акций ) . По данным « Интерфакс ЦЭА » , по объему активов СИАБ занимает 264 – е место в России и 15 – е в Петербурге .  Офисы будут оборудованы электронным кассиром и терминалом оплаты , что позволит совершать приходно – расходные операции ( пополнение пластиковых карт , открытие депозитов , снятие наличных и осуществление платежей ) . Банк СИАБ , в основном обслуживающий малый и средний бизнес , в последние 2 года начал активно развивать розничное направление : запустил интернет – банк и начал выпуск банковских карт для физлиц . Расширение розничной сети позволит СИАБу активнее собирать вклады физлиц и привлекать мелких юрлиц . Что касается среднего и крупного бизнеса , то для них размах сети роли не играет , говорит член совета директоров ПСКБ Владимир Прибыткин . « Вообще , Банк СИАБ выбрал нетипичную модель развития : многие банки , наоборот , приостановили развитие розничной сети , — замечает он . — Наращивают количество офисов только крупные , направленные на розницу банки » .  Экспресс – офисы  Офисы формата « экспресс » площадью до 10 м 2 СИАБ будет открывать на территории офисов « Интурист магазин путешествий » в Петербурге . С компанией банк начал сотрудничать в марте 2011 г. , начав выпускать с « Интуристом » кобрендинговые карты  Если Вы доверили свои деньги Банку СИАБ ( например , сделали вклад ) , у Вас автоматически возникает право на получение в кратчайшие сроки компенсации от государства в размере до 700 0 0 0 рублей в случае отзыва у Банка лицензии ( наступления страхового случая ) .   \n",
      "3741261 /home/mlepekhin/data/big/rutenten1.predol\n"
     ]
    }
   ],
   "source": [
    "!head -1 {BIG_DATA_DIR}/rutenten1.predol\n",
    "!wc -l {BIG_DATA_DIR}/rutenten1.predol"
   ]
  },
  {
   "cell_type": "code",
   "execution_count": 7,
   "metadata": {},
   "outputs": [
    {
     "name": "stderr",
     "output_type": "stream",
     "text": [
      "100000it [04:53, 340.38it/s]\n"
     ]
    }
   ],
   "source": [
    "big_ru_df = create_df(f'{BIG_DATA_DIR}/rutenten1.predol')"
   ]
  },
  {
   "cell_type": "code",
   "execution_count": 8,
   "metadata": {},
   "outputs": [],
   "source": [
    "big_ru_df.to_csv(pathjoin(BIG_DATA_DIR, 'ru.csv'))"
   ]
  }
 ],
 "metadata": {
  "colab": {
   "collapsed_sections": [],
   "name": "prepare_multiclass_dataset.ipynb",
   "provenance": [],
   "toc_visible": true
  },
  "kernelspec": {
   "display_name": "Python 3",
   "language": "python",
   "name": "python3"
  },
  "language_info": {
   "codemirror_mode": {
    "name": "ipython",
    "version": 3
   },
   "file_extension": ".py",
   "mimetype": "text/x-python",
   "name": "python",
   "nbconvert_exporter": "python",
   "pygments_lexer": "ipython3",
   "version": "3.8.3"
  }
 },
 "nbformat": 4,
 "nbformat_minor": 1
}
