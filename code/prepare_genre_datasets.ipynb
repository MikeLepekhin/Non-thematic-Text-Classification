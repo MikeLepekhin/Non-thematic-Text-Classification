{
 "cells": [
  {
   "cell_type": "code",
   "execution_count": 1,
   "metadata": {},
   "outputs": [],
   "source": [
    "from os.path import join as pathjoin\n",
    "import pandas as pd"
   ]
  },
  {
   "cell_type": "code",
   "execution_count": 2,
   "metadata": {},
   "outputs": [],
   "source": [
    "DATA_DIR = '/home/mlepekhin/data'\n",
    "GENRE_DATA_DIR = pathjoin(DATA_DIR, 'genre')"
   ]
  },
  {
   "cell_type": "code",
   "execution_count": 10,
   "metadata": {},
   "outputs": [],
   "source": [
    "!mkdir {GENRE_DATA_DIR}"
   ]
  },
  {
   "cell_type": "code",
   "execution_count": 17,
   "metadata": {},
   "outputs": [
    {
     "name": "stdout",
     "output_type": "stream",
     "text": [
      "(1264, 3)\n"
     ]
    },
    {
     "data": {
      "text/html": [
       "<div>\n",
       "<style scoped>\n",
       "    .dataframe tbody tr th:only-of-type {\n",
       "        vertical-align: middle;\n",
       "    }\n",
       "\n",
       "    .dataframe tbody tr th {\n",
       "        vertical-align: top;\n",
       "    }\n",
       "\n",
       "    .dataframe thead th {\n",
       "        text-align: right;\n",
       "    }\n",
       "</style>\n",
       "<table border=\"1\" class=\"dataframe\">\n",
       "  <thead>\n",
       "    <tr style=\"text-align: right;\">\n",
       "      <th></th>\n",
       "      <th>Unnamed: 0</th>\n",
       "      <th>target</th>\n",
       "      <th>text</th>\n",
       "    </tr>\n",
       "  </thead>\n",
       "  <tbody>\n",
       "    <tr>\n",
       "      <th>0</th>\n",
       "      <td>1605</td>\n",
       "      <td>A8</td>\n",
       "      <td>( INDIANAPOLIS – APRIL 16 , 2010 ) – Ash conti...</td>\n",
       "    </tr>\n",
       "    <tr>\n",
       "      <th>1</th>\n",
       "      <td>296</td>\n",
       "      <td>A1</td>\n",
       "      <td>\" Apache vs Yaws · Spoof signs \" A succinct in...</td>\n",
       "    </tr>\n",
       "    <tr>\n",
       "      <th>2</th>\n",
       "      <td>664</td>\n",
       "      <td>A12</td>\n",
       "      <td>ENQUIRY AND ADVICE : Usually arrive via teleph...</td>\n",
       "    </tr>\n",
       "    <tr>\n",
       "      <th>3</th>\n",
       "      <td>560</td>\n",
       "      <td>A22</td>\n",
       "      <td>Pay Someone To Write College Essay ADI special...</td>\n",
       "    </tr>\n",
       "    <tr>\n",
       "      <th>4</th>\n",
       "      <td>1168</td>\n",
       "      <td>A1</td>\n",
       "      <td>Moral Difference Between Hitting a Computer an...</td>\n",
       "    </tr>\n",
       "  </tbody>\n",
       "</table>\n",
       "</div>"
      ],
      "text/plain": [
       "   Unnamed: 0 target                                               text\n",
       "0        1605     A8  ( INDIANAPOLIS – APRIL 16 , 2010 ) – Ash conti...\n",
       "1         296     A1  \" Apache vs Yaws · Spoof signs \" A succinct in...\n",
       "2         664    A12  ENQUIRY AND ADVICE : Usually arrive via teleph...\n",
       "3         560    A22  Pay Someone To Write College Essay ADI special...\n",
       "4        1168     A1  Moral Difference Between Hitting a Computer an..."
      ]
     },
     "execution_count": 17,
     "metadata": {},
     "output_type": "execute_result"
    }
   ],
   "source": [
    "data_en = pd.read_csv(pathjoin(DATA_DIR, 'en_train'))\n",
    "print(data_en.shape)\n",
    "data_en.head()"
   ]
  },
  {
   "cell_type": "code",
   "execution_count": 18,
   "metadata": {},
   "outputs": [
    {
     "name": "stdout",
     "output_type": "stream",
     "text": [
      "(1447, 3)\n"
     ]
    },
    {
     "data": {
      "text/html": [
       "<div>\n",
       "<style scoped>\n",
       "    .dataframe tbody tr th:only-of-type {\n",
       "        vertical-align: middle;\n",
       "    }\n",
       "\n",
       "    .dataframe tbody tr th {\n",
       "        vertical-align: top;\n",
       "    }\n",
       "\n",
       "    .dataframe thead th {\n",
       "        text-align: right;\n",
       "    }\n",
       "</style>\n",
       "<table border=\"1\" class=\"dataframe\">\n",
       "  <thead>\n",
       "    <tr style=\"text-align: right;\">\n",
       "      <th></th>\n",
       "      <th>Unnamed: 0</th>\n",
       "      <th>target</th>\n",
       "      <th>text</th>\n",
       "    </tr>\n",
       "  </thead>\n",
       "  <tbody>\n",
       "    <tr>\n",
       "      <th>0</th>\n",
       "      <td>1532</td>\n",
       "      <td>A8</td>\n",
       "      <td>ОАО « Нижнекамскнефтехим » ( НКНХ ) не отказыв...</td>\n",
       "    </tr>\n",
       "    <tr>\n",
       "      <th>1</th>\n",
       "      <td>389</td>\n",
       "      <td>A11</td>\n",
       "      <td>... в ходе написания ходатайства : сделать его...</td>\n",
       "    </tr>\n",
       "    <tr>\n",
       "      <th>2</th>\n",
       "      <td>207</td>\n",
       "      <td>A14</td>\n",
       "      <td>3.2 . Т опливо и его характеристики . 3.3 . М ...</td>\n",
       "    </tr>\n",
       "    <tr>\n",
       "      <th>3</th>\n",
       "      <td>1574</td>\n",
       "      <td>A8</td>\n",
       "      <td>Президент России Дмитрий Медведев в субботу на...</td>\n",
       "    </tr>\n",
       "    <tr>\n",
       "      <th>4</th>\n",
       "      <td>196</td>\n",
       "      <td>A16</td>\n",
       "      <td>Что заставляло человечество меняться к лучшему...</td>\n",
       "    </tr>\n",
       "  </tbody>\n",
       "</table>\n",
       "</div>"
      ],
      "text/plain": [
       "   Unnamed: 0 target                                               text\n",
       "0        1532     A8  ОАО « Нижнекамскнефтехим » ( НКНХ ) не отказыв...\n",
       "1         389    A11  ... в ходе написания ходатайства : сделать его...\n",
       "2         207    A14  3.2 . Т опливо и его характеристики . 3.3 . М ...\n",
       "3        1574     A8  Президент России Дмитрий Медведев в субботу на...\n",
       "4         196    A16  Что заставляло человечество меняться к лучшему..."
      ]
     },
     "execution_count": 18,
     "metadata": {},
     "output_type": "execute_result"
    }
   ],
   "source": [
    "data_ru = pd.read_csv(pathjoin(DATA_DIR, 'ru_train'))\n",
    "print(data_ru.shape)\n",
    "data_ru.head()"
   ]
  },
  {
   "cell_type": "code",
   "execution_count": 3,
   "metadata": {},
   "outputs": [
    {
     "name": "stdout",
     "output_type": "stream",
     "text": [
      "(1447, 4)\n"
     ]
    },
    {
     "data": {
      "text/html": [
       "<div>\n",
       "<style scoped>\n",
       "    .dataframe tbody tr th:only-of-type {\n",
       "        vertical-align: middle;\n",
       "    }\n",
       "\n",
       "    .dataframe tbody tr th {\n",
       "        vertical-align: top;\n",
       "    }\n",
       "\n",
       "    .dataframe thead th {\n",
       "        text-align: right;\n",
       "    }\n",
       "</style>\n",
       "<table border=\"1\" class=\"dataframe\">\n",
       "  <thead>\n",
       "    <tr style=\"text-align: right;\">\n",
       "      <th></th>\n",
       "      <th>Unnamed: 0</th>\n",
       "      <th>Unnamed: 0.1</th>\n",
       "      <th>target</th>\n",
       "      <th>text</th>\n",
       "    </tr>\n",
       "  </thead>\n",
       "  <tbody>\n",
       "    <tr>\n",
       "      <th>0</th>\n",
       "      <td>0</td>\n",
       "      <td>1532</td>\n",
       "      <td>A8</td>\n",
       "      <td>оао « нижнекамскнефтехим » ( нкнх ) не отказыв...</td>\n",
       "    </tr>\n",
       "    <tr>\n",
       "      <th>1</th>\n",
       "      <td>1</td>\n",
       "      <td>389</td>\n",
       "      <td>A11</td>\n",
       "      <td>... в ход написание ходатайство : сделать он п...</td>\n",
       "    </tr>\n",
       "    <tr>\n",
       "      <th>2</th>\n",
       "      <td>2</td>\n",
       "      <td>207</td>\n",
       "      <td>A14</td>\n",
       "      <td>3.2 . т опливо и его характеристика . 3.3 . м ...</td>\n",
       "    </tr>\n",
       "    <tr>\n",
       "      <th>3</th>\n",
       "      <td>3</td>\n",
       "      <td>1574</td>\n",
       "      <td>A8</td>\n",
       "      <td>президент россия дмитрий медведев в суббота на...</td>\n",
       "    </tr>\n",
       "    <tr>\n",
       "      <th>4</th>\n",
       "      <td>4</td>\n",
       "      <td>196</td>\n",
       "      <td>A16</td>\n",
       "      <td>что заставлять человечество меняться к хороший...</td>\n",
       "    </tr>\n",
       "  </tbody>\n",
       "</table>\n",
       "</div>"
      ],
      "text/plain": [
       "   Unnamed: 0  Unnamed: 0.1 target  \\\n",
       "0           0          1532     A8   \n",
       "1           1           389    A11   \n",
       "2           2           207    A14   \n",
       "3           3          1574     A8   \n",
       "4           4           196    A16   \n",
       "\n",
       "                                                text  \n",
       "0  оао « нижнекамскнефтехим » ( нкнх ) не отказыв...  \n",
       "1  ... в ход написание ходатайство : сделать он п...  \n",
       "2  3.2 . т опливо и его характеристика . 3.3 . м ...  \n",
       "3  президент россия дмитрий медведев в суббота на...  \n",
       "4  что заставлять человечество меняться к хороший...  "
      ]
     },
     "execution_count": 3,
     "metadata": {},
     "output_type": "execute_result"
    }
   ],
   "source": [
    "data_ru_lemma = pd.read_csv(pathjoin(DATA_DIR, 'ru_train_lemma.csv'))\n",
    "print(data_ru_lemma.shape)\n",
    "data_ru_lemma.head()"
   ]
  },
  {
   "cell_type": "code",
   "execution_count": 4,
   "metadata": {},
   "outputs": [],
   "source": [
    "def split_by_genres(df, result_dir):\n",
    "    result_dict = {}\n",
    "    \n",
    "    for text, target in zip(df['text'].values, df['target'].values):\n",
    "        if target not in result_dict:\n",
    "            result_dict[target] = []\n",
    "        result_dict[target].append(text)\n",
    "        \n",
    "    for key, value in result_dict.items():\n",
    "        with open(pathjoin(result_dir, f'{key}.txt'), 'w') as fout:\n",
    "            for text in value:\n",
    "                fout.write(f'{text}\\n')"
   ]
  },
  {
   "cell_type": "code",
   "execution_count": 5,
   "metadata": {},
   "outputs": [
    {
     "name": "stdout",
     "output_type": "stream",
     "text": [
      "mkdir: cannot create directory ‘/home/mlepekhin/data/genre/ru’: File exists\n",
      "mkdir: cannot create directory ‘/home/mlepekhin/data/genre/en’: File exists\n"
     ]
    }
   ],
   "source": [
    "!mkdir {pathjoin(GENRE_DATA_DIR, 'ru')}\n",
    "!mkdir {pathjoin(GENRE_DATA_DIR, 'ru_lemma')}\n",
    "!mkdir {pathjoin(GENRE_DATA_DIR, 'en')}"
   ]
  },
  {
   "cell_type": "code",
   "execution_count": 7,
   "metadata": {},
   "outputs": [],
   "source": [
    "#split_by_genres(data_en, pathjoin(GENRE_DATA_DIR, 'en'))\n",
    "#split_by_genres(data_ru, pathjoin(GENRE_DATA_DIR, 'ru'))\n",
    "split_by_genres(data_ru_lemma, pathjoin(GENRE_DATA_DIR, 'ru_lemma'))"
   ]
  },
  {
   "cell_type": "code",
   "execution_count": null,
   "metadata": {},
   "outputs": [],
   "source": []
  }
 ],
 "metadata": {
  "kernelspec": {
   "display_name": "Python 3",
   "language": "python",
   "name": "python3"
  },
  "language_info": {
   "codemirror_mode": {
    "name": "ipython",
    "version": 3
   },
   "file_extension": ".py",
   "mimetype": "text/x-python",
   "name": "python",
   "nbconvert_exporter": "python",
   "pygments_lexer": "ipython3",
   "version": "3.8.3"
  }
 },
 "nbformat": 4,
 "nbformat_minor": 4
}
