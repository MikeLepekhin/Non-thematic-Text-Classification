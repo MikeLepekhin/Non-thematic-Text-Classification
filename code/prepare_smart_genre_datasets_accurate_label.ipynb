{
 "cells": [
  {
   "cell_type": "code",
   "execution_count": 1,
   "metadata": {},
   "outputs": [],
   "source": [
    "import numpy as np\n",
    "import pandas as pd\n",
    "import tqdm\n",
    "import re\n",
    "from os.path import join as pathjoin"
   ]
  },
  {
   "cell_type": "code",
   "execution_count": 2,
   "metadata": {},
   "outputs": [],
   "source": [
    "ru_topics = {\n",
    "    'music': ['музыка', 'рок-группа', 'альбом', 'песня', 'звук', 'рок', 'гитара', 'джаз', 'рэп', 'музыкант'],\n",
    "    'education': ['студент', 'обучение', 'курсы', 'изучение', 'навыки', 'образование', 'учитель', 'школа', 'университет'],\n",
    "    'politics': ['выборы', 'голосование', 'ассамблея', 'кандидат', 'демократия', \n",
    "                 'консул', 'министр', 'парламент', 'политик', 'законодательный', 'республиканский', 'собрание'],\n",
    "    'sport': ['футбол', 'тренер', 'баскетбол', 'турнир', 'расписание', 'игры', 'лига', 'дивизион', 'команда', 'полузащитник'],\n",
    "    'business': ['технология', 'платформа', 'компания', 'производство', 'продукт', 'дизайн',\n",
    "                 'обновление', 'автоматизация', 'пользователь', 'эксплуатация'],\n",
    "    'literature': ['книга', 'литература', 'художественная', 'толстой', 'шекспир', 'достоевский', 'роман', 'фанфин',\n",
    "                   'приключение'],\n",
    "    'crime': ['полиция', 'суд', 'преступник', 'инцидент', 'штраф', 'преступление', 'тюрьма', 'расследование', \n",
    "              'расследовать', 'жертва'],\n",
    "    'travel': ['турист', 'туризм', 'путешествие', 'море', 'каникулы', 'пляж', 'отель', 'хостел', 'отпуск'],\n",
    "    'games': ['игры', 'xbox', 'игрок', 'steam', 'карты', 'игроки', 'урон', 'switch', 'дракон', 'персонаж', \n",
    "              'геймплей', 'консоль'],\n",
    "    'arhitecture': ['здание', 'построить', 'церковь', 'строение', 'мост', \n",
    "                    'крыша', 'улица', 'стиль', 'башня', 'спроектирован', 'камень',\n",
    "                    'архитектура']\n",
    "}"
   ]
  },
  {
   "cell_type": "code",
   "execution_count": 3,
   "metadata": {},
   "outputs": [
    {
     "data": {
      "text/html": [
       "<div>\n",
       "<style scoped>\n",
       "    .dataframe tbody tr th:only-of-type {\n",
       "        vertical-align: middle;\n",
       "    }\n",
       "\n",
       "    .dataframe tbody tr th {\n",
       "        vertical-align: top;\n",
       "    }\n",
       "\n",
       "    .dataframe thead th {\n",
       "        text-align: right;\n",
       "    }\n",
       "</style>\n",
       "<table border=\"1\" class=\"dataframe\">\n",
       "  <thead>\n",
       "    <tr style=\"text-align: right;\">\n",
       "      <th></th>\n",
       "      <th>Unnamed: 0</th>\n",
       "      <th>target</th>\n",
       "      <th>text</th>\n",
       "    </tr>\n",
       "  </thead>\n",
       "  <tbody>\n",
       "    <tr>\n",
       "      <th>0</th>\n",
       "      <td>1532</td>\n",
       "      <td>A8</td>\n",
       "      <td>ОАО « Нижнекамскнефтехим » ( НКНХ ) не отказыв...</td>\n",
       "    </tr>\n",
       "    <tr>\n",
       "      <th>1</th>\n",
       "      <td>389</td>\n",
       "      <td>A11</td>\n",
       "      <td>... в ходе написания ходатайства : сделать его...</td>\n",
       "    </tr>\n",
       "    <tr>\n",
       "      <th>2</th>\n",
       "      <td>207</td>\n",
       "      <td>A14</td>\n",
       "      <td>3.2 . Т опливо и его характеристики . 3.3 . М ...</td>\n",
       "    </tr>\n",
       "    <tr>\n",
       "      <th>3</th>\n",
       "      <td>1574</td>\n",
       "      <td>A8</td>\n",
       "      <td>Президент России Дмитрий Медведев в субботу на...</td>\n",
       "    </tr>\n",
       "    <tr>\n",
       "      <th>4</th>\n",
       "      <td>196</td>\n",
       "      <td>A16</td>\n",
       "      <td>Что заставляло человечество меняться к лучшему...</td>\n",
       "    </tr>\n",
       "  </tbody>\n",
       "</table>\n",
       "</div>"
      ],
      "text/plain": [
       "   Unnamed: 0 target                                               text\n",
       "0        1532     A8  ОАО « Нижнекамскнефтехим » ( НКНХ ) не отказыв...\n",
       "1         389    A11  ... в ходе написания ходатайства : сделать его...\n",
       "2         207    A14  3.2 . Т опливо и его характеристики . 3.3 . М ...\n",
       "3        1574     A8  Президент России Дмитрий Медведев в субботу на...\n",
       "4         196    A16  Что заставляло человечество меняться к лучшему..."
      ]
     },
     "execution_count": 3,
     "metadata": {},
     "output_type": "execute_result"
    }
   ],
   "source": [
    "big_df_ru = pd.read_csv('/home/mlepekhin/data/ru_train')\n",
    "big_df_ru.head()"
   ]
  },
  {
   "cell_type": "code",
   "execution_count": 4,
   "metadata": {},
   "outputs": [],
   "source": [
    "from natasha import (\n",
    "    Segmenter,\n",
    "    MorphVocab,\n",
    "    NewsEmbedding,\n",
    "    NewsMorphTagger,\n",
    "    Doc\n",
    ")\n",
    "\n",
    "\n",
    "segmenter = Segmenter()\n",
    "morph_vocab = MorphVocab()\n",
    "emb = NewsEmbedding()\n",
    "morph_tagger = NewsMorphTagger(emb)"
   ]
  },
  {
   "cell_type": "code",
   "execution_count": 17,
   "metadata": {},
   "outputs": [],
   "source": [
    "def get_texts_for_topic_ru(topic_words, df, sent_for_topic):\n",
    "    result = []\n",
    "    \n",
    "    for text in df.text.values[:10000]:\n",
    "        prefix = ' '.join(text.split()[:100]).lower()\n",
    "        doc = Doc(prefix)\n",
    "        doc.segment(segmenter)\n",
    "        doc.tag_morph(morph_tagger)\n",
    "        for token in doc.tokens:\n",
    "            token.lemmatize(morph_vocab)\n",
    "            if token.lemma in topic_words:\n",
    "                result.append(text)\n",
    "                break\n",
    "        if len(result) == sent_for_topic:\n",
    "            return result\n",
    "    return result\n",
    "\n",
    "\n",
    "def make_topic_sentences_df(topic_dict, df, sent_for_topic=100, get_texts_for_topic=None):\n",
    "    result_df = pd.DataFrame()\n",
    "    \n",
    "    for target in np.unique(df.target.values):\n",
    "        genre_df = df[df.target == target]\n",
    "        for topic, topic_words in tqdm.tqdm(topic_dict.items()):\n",
    "            for sentence in get_texts_for_topic(set(topic_words), genre_df, sent_for_topic):\n",
    "                result_df = result_df.append(\n",
    "                    {'target': target, 'topic': topic, 'text': sentence},\n",
    "                    ignore_index=True\n",
    "                )\n",
    "    return result_df"
   ]
  },
  {
   "cell_type": "code",
   "execution_count": 18,
   "metadata": {},
   "outputs": [
    {
     "name": "stderr",
     "output_type": "stream",
     "text": [
      "100%|██████████| 10/10 [00:14<00:00,  1.42s/it]\n",
      "100%|██████████| 10/10 [00:09<00:00,  1.09it/s]\n",
      "100%|██████████| 10/10 [00:14<00:00,  1.40s/it]\n",
      "100%|██████████| 10/10 [00:11<00:00,  1.10s/it]\n",
      "100%|██████████| 10/10 [00:05<00:00,  1.96it/s]\n",
      "100%|██████████| 10/10 [00:06<00:00,  1.54it/s]\n",
      "100%|██████████| 10/10 [00:04<00:00,  2.32it/s]\n",
      "100%|██████████| 10/10 [00:04<00:00,  2.49it/s]\n",
      "100%|██████████| 10/10 [00:38<00:00,  3.82s/it]\n",
      "100%|██████████| 10/10 [00:04<00:00,  2.04it/s]\n"
     ]
    }
   ],
   "source": [
    "sent_df_ru = make_topic_sentences_df(ru_topics, big_df_ru, get_texts_for_topic=get_texts_for_topic_ru)"
   ]
  },
  {
   "cell_type": "code",
   "execution_count": 19,
   "metadata": {},
   "outputs": [
    {
     "name": "stdout",
     "output_type": "stream",
     "text": [
      "(864, 3)\n"
     ]
    },
    {
     "data": {
      "text/html": [
       "<div>\n",
       "<style scoped>\n",
       "    .dataframe tbody tr th:only-of-type {\n",
       "        vertical-align: middle;\n",
       "    }\n",
       "\n",
       "    .dataframe tbody tr th {\n",
       "        vertical-align: top;\n",
       "    }\n",
       "\n",
       "    .dataframe thead th {\n",
       "        text-align: right;\n",
       "    }\n",
       "</style>\n",
       "<table border=\"1\" class=\"dataframe\">\n",
       "  <thead>\n",
       "    <tr style=\"text-align: right;\">\n",
       "      <th></th>\n",
       "      <th>target</th>\n",
       "      <th>text</th>\n",
       "      <th>topic</th>\n",
       "    </tr>\n",
       "  </thead>\n",
       "  <tbody>\n",
       "    <tr>\n",
       "      <th>0</th>\n",
       "      <td>A1</td>\n",
       "      <td>Mar 1 , 2014 at 11:34 pm Отчизна катится к фаш...</td>\n",
       "      <td>music</td>\n",
       "    </tr>\n",
       "    <tr>\n",
       "      <th>1</th>\n",
       "      <td>A1</td>\n",
       "      <td>На 50 % тише Работая над тем , чтобы сделать с...</td>\n",
       "      <td>music</td>\n",
       "    </tr>\n",
       "    <tr>\n",
       "      <th>2</th>\n",
       "      <td>A1</td>\n",
       "      <td>ярмарка в марте несмотря на то , что в предыду...</td>\n",
       "      <td>music</td>\n",
       "    </tr>\n",
       "    <tr>\n",
       "      <th>3</th>\n",
       "      <td>A1</td>\n",
       "      <td>&lt;p&gt; Говорят , что правое полушарие отвечает за...</td>\n",
       "      <td>music</td>\n",
       "    </tr>\n",
       "    <tr>\n",
       "      <th>4</th>\n",
       "      <td>A1</td>\n",
       "      <td>« Окрашивание » африканских технологий * * * *...</td>\n",
       "      <td>education</td>\n",
       "    </tr>\n",
       "  </tbody>\n",
       "</table>\n",
       "</div>"
      ],
      "text/plain": [
       "  target                                               text      topic\n",
       "0     A1  Mar 1 , 2014 at 11:34 pm Отчизна катится к фаш...      music\n",
       "1     A1  На 50 % тише Работая над тем , чтобы сделать с...      music\n",
       "2     A1  ярмарка в марте несмотря на то , что в предыду...      music\n",
       "3     A1  <p> Говорят , что правое полушарие отвечает за...      music\n",
       "4     A1  « Окрашивание » африканских технологий * * * *...  education"
      ]
     },
     "execution_count": 19,
     "metadata": {},
     "output_type": "execute_result"
    }
   ],
   "source": [
    "print(sent_df_ru.shape)\n",
    "#print(sent_df_ru.sentence.values[:5])\n",
    "sent_df_ru.head()"
   ]
  },
  {
   "cell_type": "code",
   "execution_count": 20,
   "metadata": {},
   "outputs": [
    {
     "name": "stdout",
     "output_type": "stream",
     "text": [
      "mkdir: cannot create directory ‘/home/mlepekhin/data/smart_genre_accurate_labels’: File exists\r\n"
     ]
    }
   ],
   "source": [
    "!mkdir '/home/mlepekhin/data/smart_genre_accurate_labels'\n",
    "!mkdir -p '/home/mlepekhin/data/smart_genre_accurate_labels/ru'\n",
    "!mkdir -p '/home/mlepekhin/data/smart_genre_accurate_labels/en'"
   ]
  },
  {
   "cell_type": "code",
   "execution_count": 21,
   "metadata": {},
   "outputs": [],
   "source": [
    "def split_by_genres(df, result_dir):\n",
    "    result_dict = {}\n",
    "    \n",
    "    for text, target in zip(df['text'].values, df['target'].values):\n",
    "        if target not in result_dict:\n",
    "            result_dict[target] = []\n",
    "        result_dict[target].append(text)\n",
    "        \n",
    "    for key, value in result_dict.items():\n",
    "        with open(pathjoin(result_dir, f'{key}.txt'), 'w') as fout:\n",
    "            for text in value:\n",
    "                fout.write(f'{text}\\n')"
   ]
  },
  {
   "cell_type": "code",
   "execution_count": 22,
   "metadata": {},
   "outputs": [],
   "source": [
    "#split_by_genres(sent_df_ru, '/home/mlepekhin/data/smart_genre/ru')"
   ]
  },
  {
   "cell_type": "code",
   "execution_count": 23,
   "metadata": {},
   "outputs": [
    {
     "name": "stdout",
     "output_type": "stream",
     "text": [
      "all.csv\n",
      "2000 /home/mlepekhin/data/smart_genre/ru/A1.txt\n"
     ]
    }
   ],
   "source": [
    "!ls '/home/mlepekhin/data/smart_genre_accurate_labels/ru'\n",
    "!wc -l '/home/mlepekhin/data/smart_genre/ru/A1.txt'"
   ]
  },
  {
   "cell_type": "code",
   "execution_count": 24,
   "metadata": {},
   "outputs": [],
   "source": [
    "sent_df_ru.to_csv('/home/mlepekhin/data/smart_genre_accurate_labels/ru/all.csv')"
   ]
  },
  {
   "cell_type": "markdown",
   "metadata": {},
   "source": [
    "## English"
   ]
  },
  {
   "cell_type": "code",
   "execution_count": 25,
   "metadata": {},
   "outputs": [
    {
     "data": {
      "text/html": [
       "<div>\n",
       "<style scoped>\n",
       "    .dataframe tbody tr th:only-of-type {\n",
       "        vertical-align: middle;\n",
       "    }\n",
       "\n",
       "    .dataframe tbody tr th {\n",
       "        vertical-align: top;\n",
       "    }\n",
       "\n",
       "    .dataframe thead th {\n",
       "        text-align: right;\n",
       "    }\n",
       "</style>\n",
       "<table border=\"1\" class=\"dataframe\">\n",
       "  <thead>\n",
       "    <tr style=\"text-align: right;\">\n",
       "      <th></th>\n",
       "      <th>Unnamed: 0</th>\n",
       "      <th>target</th>\n",
       "      <th>text</th>\n",
       "    </tr>\n",
       "  </thead>\n",
       "  <tbody>\n",
       "    <tr>\n",
       "      <th>0</th>\n",
       "      <td>1605</td>\n",
       "      <td>A8</td>\n",
       "      <td>( INDIANAPOLIS – APRIL 16 , 2010 ) – Ash conti...</td>\n",
       "    </tr>\n",
       "    <tr>\n",
       "      <th>1</th>\n",
       "      <td>296</td>\n",
       "      <td>A1</td>\n",
       "      <td>\" Apache vs Yaws · Spoof signs \" A succinct in...</td>\n",
       "    </tr>\n",
       "    <tr>\n",
       "      <th>2</th>\n",
       "      <td>664</td>\n",
       "      <td>A12</td>\n",
       "      <td>ENQUIRY AND ADVICE : Usually arrive via teleph...</td>\n",
       "    </tr>\n",
       "    <tr>\n",
       "      <th>3</th>\n",
       "      <td>560</td>\n",
       "      <td>A22</td>\n",
       "      <td>Pay Someone To Write College Essay ADI special...</td>\n",
       "    </tr>\n",
       "    <tr>\n",
       "      <th>4</th>\n",
       "      <td>1168</td>\n",
       "      <td>A1</td>\n",
       "      <td>Moral Difference Between Hitting a Computer an...</td>\n",
       "    </tr>\n",
       "  </tbody>\n",
       "</table>\n",
       "</div>"
      ],
      "text/plain": [
       "   Unnamed: 0 target                                               text\n",
       "0        1605     A8  ( INDIANAPOLIS – APRIL 16 , 2010 ) – Ash conti...\n",
       "1         296     A1  \" Apache vs Yaws · Spoof signs \" A succinct in...\n",
       "2         664    A12  ENQUIRY AND ADVICE : Usually arrive via teleph...\n",
       "3         560    A22  Pay Someone To Write College Essay ADI special...\n",
       "4        1168     A1  Moral Difference Between Hitting a Computer an..."
      ]
     },
     "execution_count": 25,
     "metadata": {},
     "output_type": "execute_result"
    }
   ],
   "source": [
    "big_df_en = pd.read_csv('/home/mlepekhin/data/en_train')\n",
    "big_df_en.head()"
   ]
  },
  {
   "cell_type": "code",
   "execution_count": 26,
   "metadata": {},
   "outputs": [],
   "source": [
    "en_topics = {\n",
    "    'music': ['music', 'band', 'album', 'songs', 'sound', 'love', 'rock', 'playing', 'guitar', 'jazz'],\n",
    "    'education': ['student', 'learning', 'courses', 'teaching', 'skills', 'education', 'study', 'college'],\n",
    "    'politics': ['election', 'votes', 'assembly', 'candidate', 'democratic', \n",
    "                 'council', 'minister', 'parliament', 'politician', 'legislative', 'seats', 'vote'],\n",
    "    'sport': ['football', 'coach', 'basketball', 'tournament', 'schedule', 'games', 'league', 'division', 'team', 'teams'],\n",
    "    'business': ['technology', 'platform', 'companies', 'industry', 'product', 'design',\n",
    "                 'upgrade', 'automation', 'users', 'ideas'],\n",
    "    'literature': ['books', 'literature', 'fiction', 'tolstoy', 'shakespeare', 'dostoevsky', 'romanism', 'fanfics', 'adventure'],\n",
    "    'crime': ['police', 'court', 'officer', 'incident', 'charges', 'crime', 'prison', 'investigation', 'accused', 'victim'],\n",
    "    'travel': ['tourist', 'tourism', 'travel', 'seaside', 'vacation', 'beach', 'hotel', 'hostel'],\n",
    "    'games': ['games', 'xbox', 'players', 'steam', 'cards', 'player', 'damage', 'switch', 'dragon', 'character', \n",
    "              'reload', 'console'],\n",
    "    'arhitecture': ['building', 'historic', 'church', 'buildings', 'brick', \n",
    "                    'roof', 'street', 'style', 'tower', 'designed', 'stone', 'architecture']\n",
    "}"
   ]
  },
  {
   "cell_type": "code",
   "execution_count": 27,
   "metadata": {},
   "outputs": [
    {
     "name": "stdout",
     "output_type": "stream",
     "text": [
      "rocks : rock\n",
      "corpora : corpus\n"
     ]
    }
   ],
   "source": [
    "import nltk\n",
    "#nltk.download('wordnet')\n",
    "from nltk.stem import WordNetLemmatizer \n",
    "\n",
    "lemmatizer = WordNetLemmatizer() \n",
    "\n",
    "print(\"rocks :\", lemmatizer.lemmatize(\"rocks\")) \n",
    "print(\"corpora :\", lemmatizer.lemmatize(\"corpora\")) "
   ]
  },
  {
   "cell_type": "code",
   "execution_count": 28,
   "metadata": {},
   "outputs": [],
   "source": [
    "def get_texts_for_topic_en(topic_words, df, sent_for_topic):\n",
    "    result = []\n",
    "    \n",
    "    for text in df.text.values:\n",
    "        prefix_tokens = text.lower().split()[:100]\n",
    "        for token in prefix_tokens:\n",
    "            if lemmatizer.lemmatize(token) in topic_words:\n",
    "                result.append(text)\n",
    "                break\n",
    "        if len(result) == sent_for_topic:\n",
    "            return result\n",
    "    return result"
   ]
  },
  {
   "cell_type": "code",
   "execution_count": 29,
   "metadata": {},
   "outputs": [
    {
     "name": "stderr",
     "output_type": "stream",
     "text": [
      "100%|██████████| 10/10 [00:01<00:00,  8.35it/s]\n",
      "100%|██████████| 10/10 [00:00<00:00, 32.33it/s]\n",
      "100%|██████████| 10/10 [00:00<00:00, 11.90it/s]\n",
      "100%|██████████| 10/10 [00:00<00:00, 23.66it/s]\n",
      "100%|██████████| 10/10 [00:00<00:00, 17.08it/s]\n",
      "100%|██████████| 10/10 [00:00<00:00, 50.00it/s]\n",
      "100%|██████████| 10/10 [00:00<00:00, 28.94it/s]\n",
      "100%|██████████| 10/10 [00:00<00:00, 34.59it/s]\n",
      "100%|██████████| 10/10 [00:00<00:00, 19.90it/s]\n",
      "100%|██████████| 10/10 [00:00<00:00, 21.77it/s]\n",
      "100%|██████████| 10/10 [00:00<00:00, 40.05it/s]\n"
     ]
    }
   ],
   "source": [
    "sent_df_en = make_topic_sentences_df(en_topics, big_df_en, get_texts_for_topic=get_texts_for_topic_en)"
   ]
  },
  {
   "cell_type": "code",
   "execution_count": 30,
   "metadata": {},
   "outputs": [
    {
     "name": "stdout",
     "output_type": "stream",
     "text": [
      "(717, 3)\n"
     ]
    },
    {
     "data": {
      "text/html": [
       "<div>\n",
       "<style scoped>\n",
       "    .dataframe tbody tr th:only-of-type {\n",
       "        vertical-align: middle;\n",
       "    }\n",
       "\n",
       "    .dataframe tbody tr th {\n",
       "        vertical-align: top;\n",
       "    }\n",
       "\n",
       "    .dataframe thead th {\n",
       "        text-align: right;\n",
       "    }\n",
       "</style>\n",
       "<table border=\"1\" class=\"dataframe\">\n",
       "  <thead>\n",
       "    <tr style=\"text-align: right;\">\n",
       "      <th></th>\n",
       "      <th>target</th>\n",
       "      <th>text</th>\n",
       "      <th>topic</th>\n",
       "    </tr>\n",
       "  </thead>\n",
       "  <tbody>\n",
       "    <tr>\n",
       "      <th>0</th>\n",
       "      <td>A1</td>\n",
       "      <td>Thank you so much . It 's really scary to be h...</td>\n",
       "      <td>music</td>\n",
       "    </tr>\n",
       "    <tr>\n",
       "      <th>1</th>\n",
       "      <td>A1</td>\n",
       "      <td>The End of the Russia-China Debate Ten years a...</td>\n",
       "      <td>music</td>\n",
       "    </tr>\n",
       "    <tr>\n",
       "      <th>2</th>\n",
       "      <td>A1</td>\n",
       "      <td>School Choice – An Educational Custom Fit Imag...</td>\n",
       "      <td>music</td>\n",
       "    </tr>\n",
       "    <tr>\n",
       "      <th>3</th>\n",
       "      <td>A1</td>\n",
       "      <td>Tackling human organ donation dilemma By Andy ...</td>\n",
       "      <td>music</td>\n",
       "    </tr>\n",
       "    <tr>\n",
       "      <th>4</th>\n",
       "      <td>A1</td>\n",
       "      <td>Such changes are especially likely because the...</td>\n",
       "      <td>music</td>\n",
       "    </tr>\n",
       "  </tbody>\n",
       "</table>\n",
       "</div>"
      ],
      "text/plain": [
       "  target                                               text  topic\n",
       "0     A1  Thank you so much . It 's really scary to be h...  music\n",
       "1     A1  The End of the Russia-China Debate Ten years a...  music\n",
       "2     A1  School Choice – An Educational Custom Fit Imag...  music\n",
       "3     A1  Tackling human organ donation dilemma By Andy ...  music\n",
       "4     A1  Such changes are especially likely because the...  music"
      ]
     },
     "execution_count": 30,
     "metadata": {},
     "output_type": "execute_result"
    }
   ],
   "source": [
    "print(sent_df_en.shape)\n",
    "sent_df_en.head()"
   ]
  },
  {
   "cell_type": "code",
   "execution_count": 31,
   "metadata": {},
   "outputs": [],
   "source": [
    "sent_df_ru.to_csv('/home/mlepekhin/data/smart_genre_accurate_labels/en/all.csv')"
   ]
  },
  {
   "cell_type": "code",
   "execution_count": 32,
   "metadata": {},
   "outputs": [],
   "source": [
    "#split_by_genres(sent_df_en, '/home/mlepekhin/data/smart_genre/en')"
   ]
  },
  {
   "cell_type": "code",
   "execution_count": 33,
   "metadata": {},
   "outputs": [
    {
     "name": "stdout",
     "output_type": "stream",
     "text": [
      "A11.txt  A14.txt  A17.txt  A22.txt  A7.txt  A9.txt\n",
      "A12.txt  A16.txt  A1.txt   A4.txt   A8.txt  all.csv\n",
      "1994 /home/mlepekhin/data/smart_genre/en/A1.txt\n"
     ]
    }
   ],
   "source": [
    "!ls '/home/mlepekhin/data/smart_genre/en'\n",
    "!wc -l '/home/mlepekhin/data/smart_genre/en/A1.txt'"
   ]
  },
  {
   "cell_type": "code",
   "execution_count": 34,
   "metadata": {},
   "outputs": [
    {
     "name": "stdout",
     "output_type": "stream",
     "text": [
      "/home/mlepekhin/data/smart_genre/ru/all.csv\r\n"
     ]
    }
   ],
   "source": [
    "!ls '/home/mlepekhin/data/smart_genre/ru/all.csv'"
   ]
  },
  {
   "cell_type": "code",
   "execution_count": null,
   "metadata": {},
   "outputs": [],
   "source": []
  }
 ],
 "metadata": {
  "kernelspec": {
   "display_name": "Python 3",
   "language": "python",
   "name": "python3"
  },
  "language_info": {
   "codemirror_mode": {
    "name": "ipython",
    "version": 3
   },
   "file_extension": ".py",
   "mimetype": "text/x-python",
   "name": "python",
   "nbconvert_exporter": "python",
   "pygments_lexer": "ipython3",
   "version": "3.8.3"
  }
 },
 "nbformat": 4,
 "nbformat_minor": 4
}
