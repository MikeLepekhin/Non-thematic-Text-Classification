{
 "cells": [
  {
   "cell_type": "markdown",
   "metadata": {},
   "source": [
    "## Train a character-level GPT on some text data\n",
    "\n",
    "The inputs here are simple text files, which we chop up to individual characters and then train GPT on. So you could say this is a char-transformer instead of a char-rnn. Doesn't quite roll off the tongue as well. In this example we will feed it some Shakespeare, which we'll get it to predict character-level."
   ]
  },
  {
   "cell_type": "code",
   "execution_count": 1,
   "metadata": {},
   "outputs": [],
   "source": [
    "from allennlp.data.token_indexers import TokenIndexer, PretrainedTransformerIndexer\n",
    "from allennlp.data.tokenizers import Token, Tokenizer, PretrainedTransformerTokenizer\n",
    "\n",
    "import nltk\n",
    "import numpy as np\n",
    "from os import listdir\n",
    "from os.path import join as pathjoin\n",
    "import pandas as pd\n",
    "import torch\n",
    "import torch.nn as nn\n",
    "from torch.nn import functional as F\n",
    "import tqdm\n",
    "\n",
    "from mingpt.model import GPT, GPTConfig\n",
    "from mingpt.trainer import Trainer, TrainerConfig\n",
    "# make deterministic\n",
    "from mingpt.utils import sample, set_seed\n",
    "set_seed(128)\n",
    "np.random.seed(128)"
   ]
  },
  {
   "cell_type": "code",
   "execution_count": 2,
   "metadata": {},
   "outputs": [],
   "source": [
    "DATA_DIR = '/home/mlepekhin/data'\n",
    "MODELS_DIR = '/home/mlepekhin/models'\n",
    "transformer_model = 'DeepPavlov/rubert-base-cased'"
   ]
  },
  {
   "cell_type": "code",
   "execution_count": 3,
   "metadata": {},
   "outputs": [
    {
     "data": {
      "text/plain": [
       "{'token_ids': [101, 29895, 102],\n",
       " 'mask': [True, True, True],\n",
       " 'type_ids': [0, 0, 0]}"
      ]
     },
     "execution_count": 3,
     "metadata": {},
     "output_type": "execute_result"
    }
   ],
   "source": [
    "from allennlp.data import Vocabulary\n",
    "\n",
    "\n",
    "tokenizer = PretrainedTransformerTokenizer(transformer_model)\n",
    "indexer = PretrainedTransformerIndexer(transformer_model)\n",
    "bert_vocab = Vocabulary().from_files(\n",
    "    pathjoin('/home/mlepekhin/models', 'allennlp_rubert_from_discriminator', 'vocab')\n",
    ")\n",
    "indexer.tokens_to_indices(tokenizer.tokenize('присоединились'), bert_vocab)"
   ]
  },
  {
   "cell_type": "code",
   "execution_count": 4,
   "metadata": {},
   "outputs": [
    {
     "data": {
      "text/plain": [
       "29895"
      ]
     },
     "execution_count": 4,
     "metadata": {},
     "output_type": "execute_result"
    }
   ],
   "source": [
    "bert_token_to_index = bert_vocab.get_token_to_index_vocabulary('tags')\n",
    "bert_index_to_token = bert_vocab.get_index_to_token_vocabulary('tags')\n",
    "bert_token_to_index['присоединились']"
   ]
  },
  {
   "cell_type": "code",
   "execution_count": 5,
   "metadata": {},
   "outputs": [],
   "source": [
    "import math\n",
    "from torch.utils.data import Dataset\n",
    "\n",
    "def detokenize(tokens):\n",
    "    return ' '.join([str(x) for x in tokens[1:-1]]).replace(' ##', '')\n",
    "\n",
    "class BPEDataset(Dataset):\n",
    "    def __init__(self, data, block_size):\n",
    "        data_size, vocab_size = len(data), len(bert_token_to_index)\n",
    "        print('data has %d characters, %d unique.' % (data_size, vocab_size))\n",
    "        \n",
    "        self.block_size = block_size\n",
    "        self.vocab_size = vocab_size\n",
    "        self.data = data\n",
    "    \n",
    "    def __len__(self):\n",
    "        return len(self.data) - self.block_size\n",
    "\n",
    "    def __getitem__(self, idx):\n",
    "        # grab a chunk of (block_size + 1) characters from the data\n",
    "        chunk = self.data[idx:idx + self.block_size + 1]\n",
    "        # encode every character to an integer\n",
    "        dix = [bert_token_to_index[word] for word in chunk]\n",
    "        \"\"\"\n",
    "        arrange data and targets so that the first i elements of x\n",
    "        will be asked to predict the i-th element of y. Notice that\n",
    "        the eventual language model will actually make block_size\n",
    "        individual predictions at the same time based on this data,\n",
    "        so we are being clever and amortizing the cost of the forward\n",
    "        pass of the network. So for example if block_size is 4, then\n",
    "        we could e.g. sample a chunk of text \"hello\", the integers in\n",
    "        x will correspond to \"hell\" and in y will be \"ello\". This will\n",
    "        then actually \"multitask\" 4 separate examples at the same time\n",
    "        in the language model:\n",
    "        - given just \"h\", please predict \"e\" as next\n",
    "        - given \"he\" please predict \"l\" next\n",
    "        - given \"hel\" predict \"l\" next\n",
    "        - given \"hell\" predict \"o\" next\n",
    "        \n",
    "        In addition, because the DataLoader will create batches of examples,\n",
    "        every forward/backward pass during traning will simultaneously train\n",
    "        a LOT of predictions, amortizing a lot of computation. In particular,\n",
    "        for a batched input of integers X (B, T) where B is batch size and\n",
    "        T is block_size and Y (B, T), the network will during training be\n",
    "        simultaneously training to make B*T predictions, all at once! Of course,\n",
    "        at test time we can paralellize across batch B, but unlike during training\n",
    "        we cannot parallelize across the time dimension T - we have to run\n",
    "        a forward pass of the network to recover the next single character of the \n",
    "        sequence along each batch dimension, and repeatedly always feed in a next\n",
    "        character to get the next one.\n",
    "        \n",
    "        So yes there is a big asymmetry between train/test time of autoregressive\n",
    "        models. During training we can go B*T at a time with every forward pass,\n",
    "        but during test time we can only go B at a time, T times, with T forward \n",
    "        passes.\n",
    "        \"\"\"\n",
    "        x = torch.tensor(dix[:-1], dtype=torch.long)\n",
    "        y = torch.tensor(dix[1:], dtype=torch.long)\n",
    "        return x, y\n"
   ]
  },
  {
   "cell_type": "code",
   "execution_count": 6,
   "metadata": {},
   "outputs": [],
   "source": [
    "block_size = 128\n",
    "tokenizer = PretrainedTransformerTokenizer(transformer_model)"
   ]
  },
  {
   "cell_type": "code",
   "execution_count": 7,
   "metadata": {},
   "outputs": [
    {
     "name": "stdout",
     "output_type": "stream",
     "text": [
      "(1000, 3)\n"
     ]
    },
    {
     "data": {
      "text/html": [
       "<div>\n",
       "<style scoped>\n",
       "    .dataframe tbody tr th:only-of-type {\n",
       "        vertical-align: middle;\n",
       "    }\n",
       "\n",
       "    .dataframe tbody tr th {\n",
       "        vertical-align: top;\n",
       "    }\n",
       "\n",
       "    .dataframe thead th {\n",
       "        text-align: right;\n",
       "    }\n",
       "</style>\n",
       "<table border=\"1\" class=\"dataframe\">\n",
       "  <thead>\n",
       "    <tr style=\"text-align: right;\">\n",
       "      <th></th>\n",
       "      <th>Unnamed: 0</th>\n",
       "      <th>topic</th>\n",
       "      <th>sentence</th>\n",
       "    </tr>\n",
       "  </thead>\n",
       "  <tbody>\n",
       "    <tr>\n",
       "      <th>0</th>\n",
       "      <td>0</td>\n",
       "      <td>music</td>\n",
       "      <td>на тумбочке слева от шкафа рассматриваем альбо...</td>\n",
       "    </tr>\n",
       "    <tr>\n",
       "      <th>1</th>\n",
       "      <td>1</td>\n",
       "      <td>music</td>\n",
       "      <td>любое другое использование песен без дополните...</td>\n",
       "    </tr>\n",
       "    <tr>\n",
       "      <th>2</th>\n",
       "      <td>2</td>\n",
       "      <td>music</td>\n",
       "      <td>как правило , изобразительному искусству и муз...</td>\n",
       "    </tr>\n",
       "    <tr>\n",
       "      <th>3</th>\n",
       "      <td>3</td>\n",
       "      <td>music</td>\n",
       "      <td>детям частенько говорят : не занимайся музыкой...</td>\n",
       "    </tr>\n",
       "    <tr>\n",
       "      <th>4</th>\n",
       "      <td>4</td>\n",
       "      <td>music</td>\n",
       "      <td>обновлен раздел \" фотографии \" - добавлено нес...</td>\n",
       "    </tr>\n",
       "  </tbody>\n",
       "</table>\n",
       "</div>"
      ],
      "text/plain": [
       "   Unnamed: 0  topic                                           sentence\n",
       "0           0  music  на тумбочке слева от шкафа рассматриваем альбо...\n",
       "1           1  music  любое другое использование песен без дополните...\n",
       "2           2  music  как правило , изобразительному искусству и муз...\n",
       "3           3  music  детям частенько говорят : не занимайся музыкой...\n",
       "4           4  music  обновлен раздел \" фотографии \" - добавлено нес..."
      ]
     },
     "execution_count": 7,
     "metadata": {},
     "output_type": "execute_result"
    }
   ],
   "source": [
    "topic_sentences_df = pd.read_csv('/home/mlepekhin/data/ru_topic_big_sentences.csv')\n",
    "print(topic_sentences_df.shape)\n",
    "topic_sentences_df.head()"
   ]
  },
  {
   "cell_type": "code",
   "execution_count": 8,
   "metadata": {},
   "outputs": [
    {
     "data": {
      "text/plain": [
       "array([[200, 'politics',\n",
       "        'в этом году « дортрансэкспо » посетил министр транспорта и дорожного хозяйства республики татарстан фасхутдинов ильдус ирфанович , и дал'],\n",
       "       [201, 'politics',\n",
       "        'министр внутренних дел великобритании удоволетворил ходатайство об экстрадиции дудко'],\n",
       "       [202, 'politics',\n",
       "        '« с одной стороны , принципами демократии продиктовано то , что у нас в том или ином муниципальном образовании происходят'],\n",
       "       [203, 'politics',\n",
       "        'ситуацию надо менять кардинально » , — категорично высказался по этому поводу министр культуры области алексей бетехтин инвестиции в организацию'],\n",
       "       [204, 'politics',\n",
       "        'федеральным законом от 18 июля 2011 года № 242 -фз « о внесении изменений в отдельные законодательные акты российской федерации'],\n",
       "       [205, 'politics',\n",
       "        'вдвое сокращается срок госрегистрации заложенного имущества госдума вчера приняла во втором чтении законопроект \" о внесении изменений в отдельные законодательные'],\n",
       "       [206, 'politics',\n",
       "        '№ 264 -фз \" о внесении изменений в фз \" об ипотеке ( залоге недвижимости ) \" и отдельные законодательные'],\n",
       "       [207, 'politics',\n",
       "        'мария крюкова , pr-директор swiss realty group : « к нам поступает очень много звонков от потенциальных кандидатов — значительно'],\n",
       "       [208, 'politics',\n",
       "        'работа с органами министр мвд рашид нургалиев заявил , что в современных условиях каждый офицер милиции должен быть всесторонне развит'],\n",
       "       [209, 'politics',\n",
       "        '« мы готовы каждому барану сделать паспорт » , - заявил на заседании парламента 1 -й вице-премьер акылбек жапаров'],\n",
       "       [210, 'politics',\n",
       "        'а также наделить ещё и правом избирать и быть избранными - при голосовании с ними всегда можно договориться'],\n",
       "       [211, 'politics',\n",
       "        'для голосования не надо предъявлять документы о легальности проживания на кипре , достаточно всего лишь предъявить действующий заграничный паспорт рф'],\n",
       "       [212, 'politics',\n",
       "        'в связи с этим , к отбору кандидатов на эту позицию мы подходим с особой тщательностью'],\n",
       "       [213, 'politics',\n",
       "        'процесс состоит из трех этапов : анализ резюме ; личное интервью ; проведение кандидатом в нашей компании 10 -минутной презентации'],\n",
       "       [214, 'politics',\n",
       "        'кристин лагард , министр экономики , промышленности и занятости франции , на такие выводы имел определенную свою точку зрения'],\n",
       "       [215, 'politics',\n",
       "        '2011 немецкая делегация политиков и бизнесменов во главе с министром транспорта германии петером рамзауэром провела 15 ноября в санкт-петербурге с'],\n",
       "       [216, 'politics',\n",
       "        'как сообщили иа regnum участники встречи , министр транспорта германии высоко оценил проект строительства орловского тоннеля и неоднократно подчеркивал значимость'],\n",
       "       [217, 'politics',\n",
       "        '« seo site tools » : не менее функциональное расширение , чем прошлый кандидат , но не рекомендую использовать его'],\n",
       "       [218, 'politics',\n",
       "        'сейчас много говорят и пишут о том , что больше суток после грузинского нападения на южную осетию западные политики и'],\n",
       "       [219, 'politics',\n",
       "        'ответ : сравнивать эти события нельзя , тем более недопустимо , когда это делает политик столь высокого уровня'],\n",
       "       [220, 'politics',\n",
       "        'но когда столь влиятельный политик предупреждает создание антироссийских мифов , вряд ли стоит опасаться изоляции нашей страны , а тем'],\n",
       "       [221, 'politics',\n",
       "        'новости диалог депутатов и предпринимателей продолжается 15 марта 2010 12 марта состоялось очередное заседание консультативного совета предпринимателей при законодательном собрании'],\n",
       "       [222, 'politics',\n",
       "        'к диалогу были приглашены заместитель председателя законодательного собрания ленинградской области герман мозговой , депутаты татьяна павлова , виктор попов ,'],\n",
       "       [223, 'politics',\n",
       "        'виктор попов отметил , что в решении этого вопроса он заручился поддержкой большинства коллег по парламенту'],\n",
       "       [224, 'politics',\n",
       "        'в своих выступлениях депутаты областного парламента неоднократно заявляли , что за сро большое будущее'],\n",
       "       [225, 'politics',\n",
       "        'жителей ) конкурсный статус : полный пакет документов к списку городов официальная поддержка законодательное собрание новосибирской области правительство новосибирской области'],\n",
       "       [226, 'politics',\n",
       "        'музей вмф является местом уникального собрания документов и материалов по истории флота , современного морского образования и воспитания 2'],\n",
       "       [227, 'politics',\n",
       "        'ru для повышения явки избирателей на выборах в госдуму 2011 года центральная избирательная комиссия предлагает рассмотреть возможность дистанционного голосования через'],\n",
       "       [228, 'politics',\n",
       "        'в министерстве связи и массовых коммуникаций рф уже несколько дней лежит проект закона “ о внесении изменений в некоторые законодательные'],\n",
       "       [229, 'politics',\n",
       "        'кандидатом в президенты пойдет не действующий глава государства дмитрий медведев , а владимир путин'],\n",
       "       [230, 'politics',\n",
       "        'министр финансов алексей кудрин на саммите g- 20 в вашингтоне заявил журналистам , что не хочет работать в правительстве д'],\n",
       "       [231, 'politics',\n",
       "        'определяют самых востребованных профессионалов тремя способами : пользовательское голосование на сайте brainity'],\n",
       "       [232, 'politics',\n",
       "        'ru , выбор самих экспертов и редакционное голосование'],\n",
       "       [233, 'politics',\n",
       "        'по итогам читательского голосования \" brainer года \" - генеральный директор коммуникационного агентства pr'],\n",
       "       [234, 'politics',\n",
       "        ':: новости внеочередное общее собрание акционеров оао « мосэнерго » состоится 25 февраля 2011 года совет директоров оао « мосэнерго'],\n",
       "       [235, 'politics',\n",
       "        'такие предложения должны поступить в общество не менее чем за 30 дней до даты проведения внеочередного собрания общего акционеров ,'],\n",
       "       [236, 'politics',\n",
       "        'в этот день состоится торжественное собрание общественности города , ветеранов войны и труда и воинов российской армии и праздничный концерт'],\n",
       "       [237, 'politics',\n",
       "        'намсараева , республиканский театр кукол « ульгэр » - лауреаты театральной премии россии « золотая маска » , народная артистка'],\n",
       "       [238, 'politics',\n",
       "        '\" единая россия \" должна добиться максимального результата на выборах в госдуму , чтобы не \" расквасить \" парламент'],\n",
       "       [239, 'politics',\n",
       "        'потому что , если мы расквасим парламент , не будем в состоянии принимать нужные решения , в нужный момент все'],\n",
       "       [240, 'politics',\n",
       "        'он доказал , что демократия не означает зависимость от церкви'],\n",
       "       [241, 'politics',\n",
       "        'януш паликот , преуспевающий польский предприниматель , уже был депутатом сейма ( нижней палаты польского парламента'],\n",
       "       [242, 'politics',\n",
       "        'от экстравагантного политика ждали шоу , развлечения'],\n",
       "       [243, 'politics',\n",
       "        'однако паликот сделал то , на что долгие годы не решались политики союза левых демократов ( слд ) , –'],\n",
       "       [244, 'politics',\n",
       "        'до конца года , то есть на время председательства польши в ес , туск не собирается менять состав кабинета министров'],\n",
       "       [245, 'politics',\n",
       "        'таков прогноз итогов голосования от всероссийского центра изучения общественного мнения ( вциом )'],\n",
       "       [246, 'politics',\n",
       "        'многие склонны объяснять сложившуюся ситуацию и возникающие налоговые споры тем фактом , что существующая в стране законодательная база , касающаяся'],\n",
       "       [247, 'politics',\n",
       "        'министр культуры павел латушко предлагает обязать телеканалы показывать 20 - 25 процентов белорусского кино'],\n",
       "       [248, 'politics',\n",
       "        '10 14 : 57 прокуратура потребовала от министра образования ростовской области привлечь к ответственности должностных лиц школы-интерната , в котором'],\n",
       "       [249, 'politics',\n",
       "        'прокуратура ростовской области внесла представление министру общего и профессионального образования области с требованием привлечения виновных должностных лиц к дисциплинарной ответственности'],\n",
       "       [250, 'politics',\n",
       "        'хотя на ее страницах можно встретить пародии на всех известных политиков 70 -х – 90 -х годов'],\n",
       "       [251, 'politics',\n",
       "        'задача оказалась не из простых : действующих политиков в « кухтике » кот наплакал'],\n",
       "       [252, 'politics',\n",
       "        'национальная идея станет источником формирования идеи казахстанской демократии - демократической идеи казахстанцев , как основного принципа устройства системы участия казахстанцев'],\n",
       "       [253, 'politics',\n",
       "        'остается только пожелать , чтобы когда-нибудь наступило время проверки профессиональной пригодности как экспертов-специалистов , так и политиков ( проверки ,'],\n",
       "       [254, 'politics',\n",
       "        'в форуме участвуют министры экономики : латвии - артур кришьянис кариньш , литвы - виктор успаских , эстонии - эдгар'],\n",
       "       [255, 'politics', 'лозинский , кандидат экономических наук , зав'],\n",
       "       [256, 'politics',\n",
       "        'в то же время , сохраняются принятая ранее процедура голосования и экспертные органы конкурса : экспертный клуб , экспертный совет'],\n",
       "       [257, 'politics',\n",
       "        'также будут сохранены основные номинации конкурса и акция « народное голосование »'],\n",
       "       [258, 'politics',\n",
       "        'ru , росбизнесконсалтинг , лаборатория касперского , « 1 с-битрикс » , вгтрк , риа-новости , совет федерации федерального собрания'],\n",
       "       [259, 'politics',\n",
       "        'участники : заместитель министра топлива и энергетики а'],\n",
       "       [260, 'politics',\n",
       "        'в случае с берлином он перешел на прямые оскорбления , припоминая министру иностранных дел германии гидо вестервелле его нетрадиционную сексуальную'],\n",
       "       [261, 'politics',\n",
       "        'по результатам теста на уровень pas b cписки кандидатов , подтвердивших , по результатам сертификации , соответствующий уровень квалификации публикуются'],\n",
       "       [262, 'politics',\n",
       "        'в зале заседаний комитета по информационной политике прошло заседание круглого стола по теме : « перспективы развития законодательной базы в'],\n",
       "       [263, 'politics',\n",
       "        'кудий в своем докладе указал , что выработка механизма приведения в жизнь законодательных инициатив – первая задача медиасообщества и власти'],\n",
       "       [264, 'politics',\n",
       "        'как видите конкурс довольно простой и на данный момент кандидат № 1 — axel ( он единственный , кто оставил'],\n",
       "       [265, 'politics',\n",
       "        'сегодня я хочу рассказать о таком важном моменте в млм бизнесе , как привлечение кандидатов'],\n",
       "       [266, 'politics',\n",
       "        'в 2008 году за бизнесмена вступился премьер министр рф владимир путин'],\n",
       "       [267, 'politics',\n",
       "        'в гордуме калуги 17 ноября прошло собрание комитета по экономической , налоговой и бюджетно-финансовой политике'],\n",
       "       [268, 'politics',\n",
       "        'в совещании примут участие зампред правительства дмитрий козак , министр экономического развития эльвира набиуллина , министр связи и массовых коммуникаций'],\n",
       "       [269, 'politics',\n",
       "        'преследования сегодня депутаты законодательного собрания санкт-петербурга одобрили в первом чтении законопроект , предусматривающий административную ответственность за публичные действия , направленные'],\n",
       "       [270, 'politics',\n",
       "        'во время заседания лгбт-активисты провели серию одиночных пикетов напротив здания парламента , сообщает корреспондент открытого информагентства'],\n",
       "       [271, 'politics',\n",
       "        'правила рабочая схема номинаторами и участниками голосования ( жюри ) являются подписчики дискуссионного мейл-листа международного союза интернет-деятелей « еже »'],\n",
       "       [272, 'politics',\n",
       "        'все данные голосования прозрачны ( публикуются на всеобщее обозрение ) : кто кого выдвигает , кто за или против кого'],\n",
       "       [273, 'politics',\n",
       "        'финал голосование в финале жюри голосует за распределение между финалистами призовых мест в каждой номинации'],\n",
       "       [274, 'politics',\n",
       "        'право голоса на каждом этапе конкурса дает возможность до завершения голосования : \\x97 в первом туре стать номинатором , то'],\n",
       "       [275, 'politics',\n",
       "        'участники голосования могут номинировать себя и свои проекты и голосовать за них'],\n",
       "       [276, 'politics',\n",
       "        'в случае отзыва голоса число голосов , отданных за кандидата ( номинанта ) , уменьшается на единицу'],\n",
       "       [277, 'politics',\n",
       "        'кандидат ( номинант ) автоматически отзывается , как только число отданных за него голосов становится равным нулю'],\n",
       "       [278, 'politics',\n",
       "        'если голос отзывает номинатор , право называться номинатором наследуется участником голосования , проголосовавшим за кандидата после номинатора'],\n",
       "       [279, 'politics',\n",
       "        'право отзыва голоса дает возможность участникам голосования менять свое мнение до завершения голосования'],\n",
       "       [280, 'politics',\n",
       "        'если кандидат ( номинант ) берет самоотвод до завершения голосования , отданные за него голоса автоматически возвращаются членам жюри'],\n",
       "       [281, 'politics',\n",
       "        'при номинировании и голосовании оцениваются достижения номинантов за последний некалендарный год'],\n",
       "       [282, 'politics',\n",
       "        'информация о номинаторах и числе голосов , поданных за каждого кандидата ( номинанта ) , доступна онлайн в режиме реального'],\n",
       "       [283, 'politics',\n",
       "        'заместитель руководителя заместитель заместитель министра государственной налоговой министра финан- транспорта россий- службы российской сов российской ской федерации - федерации федерации'],\n",
       "       [284, 'politics',\n",
       "        'дополнительные тестирования выбирают работодатели после того , как им предложат несколько кандидатов согласно предъявленным требованиям'],\n",
       "       [285, 'politics',\n",
       "        'сотрудники кадровых агентств также отмечают , что даже после того , как кандидаты пройдут все возможные тестирования на профпригодность и'],\n",
       "       [286, 'politics',\n",
       "        'кандидат филологических наук , известный журналист и писатель'],\n",
       "       [287, 'politics',\n",
       "        'эти переговоры - главное условие для получения сербией в декабре статуса кандидата на вступление в европейский союз - были прерваны'],\n",
       "       [288, 'politics',\n",
       "        'как проводить голосования на своей страничке у вас есть возможность проводить на своей страничке опросы общественного мнения или голосования'],\n",
       "       [289, 'politics',\n",
       "        'чтобы создать голосование , вам необходимо зайти на страницу администрирования голосований ( используйте ваши имя пользователя и пароль в рол'],\n",
       "       [290, 'politics',\n",
       "        'заполнив все поля , нажмите на кнопку \" создать голосование \" и новое ваше голосование будет создано'],\n",
       "       [291, 'politics',\n",
       "        'в пределах одного голосования ( опросника ) можно создать как угодно много вопросов и , соответственно , ответов'],\n",
       "       [292, 'politics',\n",
       "        'можно создать вопросы и ответы сразу после создания голосования , а можно и потом в любое время , обратившись к'],\n",
       "       [293, 'politics',\n",
       "        'если вы пожелаете добавить еще вопросов / ответов в пределах данного голосования , то можете нажать на кнопку \" добавить'],\n",
       "       [294, 'politics',\n",
       "        'теперь у вас появилось голосование с кратким описанием и несколько кнопок для управления голосованием : редактировать голосование - здесь вы'],\n",
       "       [295, 'politics',\n",
       "        'удаление - при переходе в этот раздел вы сможете удалить либо голосование целиком , либо его отдельные вопросы ( у'],\n",
       "       [296, 'politics',\n",
       "        'сгенерировать код - система сгенерирует html -код , который необходимо будет вставить в вашу страницу , чтобы работало голосование'],\n",
       "       [297, 'politics',\n",
       "        'на расширенном заседании комиссии государственной думы \\xad по законодательному обеспечению противодействия коррупции депутаты обсудили меры борьбы с коррупцией в сфере'],\n",
       "       [298, 'politics',\n",
       "        'некоторые \\xad законодательные нормы в области заготовки древесины содержат коррупционные риски , создающие условия для злоупотребления властью в целях получения'],\n",
       "       [299, 'politics',\n",
       "        'политика вице-премьер правительства красноярского края анатолий тихонов ( на фото — второй справа ) назначен на пост первого заместителя председателя']],\n",
       "      dtype=object)"
      ]
     },
     "execution_count": 8,
     "metadata": {},
     "output_type": "execute_result"
    }
   ],
   "source": [
    "topic_sentences_df.values[200:300]"
   ]
  },
  {
   "cell_type": "code",
   "execution_count": 9,
   "metadata": {},
   "outputs": [
    {
     "name": "stdout",
     "output_type": "stream",
     "text": [
      "dict_keys(['music', 'education', 'politics', 'sport', 'business', 'literature', 'crime', 'travel', 'games', 'arhitecture'])\n"
     ]
    }
   ],
   "source": [
    "topic_dict = dict()\n",
    "\n",
    "for topic, sentence in zip(topic_sentences_df.topic.values, topic_sentences_df.sentence.values):\n",
    "    if topic not in topic_dict:\n",
    "        topic_dict[topic] = []\n",
    "    topic_dict[topic].append(sentence)\n",
    "print(topic_dict.keys())"
   ]
  },
  {
   "cell_type": "code",
   "execution_count": 10,
   "metadata": {},
   "outputs": [],
   "source": [
    "from mingpt.utils import sample\n",
    "\n",
    "def generate_topic_dataset(train_text_file, state_dict_file, n_layer=4, n_head=4, n_embd=256,\n",
    "                     texts_count=100, text_len=500):\n",
    "    text_sentences = nltk.tokenize.sent_tokenize(open(train_text_file, 'r').read())\n",
    "    tokens = np.concatenate([tokenizer.tokenize(sent) for sent in text_sentences])\n",
    "    tokens = [str(token) for token in tokens]\n",
    "    train_dataset = BPEDataset(tokens, block_size) \n",
    "    print(\"dataset is loaded\")\n",
    "    \n",
    "    mconf = GPTConfig(\n",
    "        train_dataset.vocab_size, train_dataset.block_size,\n",
    "        n_layer=n_layer, n_head=n_head, n_embd=n_embd\n",
    "    )\n",
    "    model = GPT(mconf)\n",
    "    model.load_state_dict(torch.load(state_dict_file))\n",
    "    print(\"model is loaded\")\n",
    "    \n",
    "    tconf = TrainerConfig(num_workers=1)\n",
    "    trainer = Trainer(model, train_dataset, None, tconf)\n",
    "    \n",
    "    for topic, topic_sentences in topic_dict.items():        \n",
    "        for text_id in range(texts_count):\n",
    "            context = tokenizer.tokenize(np.random.choice(topic_sentences))\n",
    "            x = torch.tensor([bert_token_to_index[str(s)] for s in context], dtype=torch.long)[None,...].to(trainer.device)\n",
    "            y = sample(model, x, text_len, temperature=1.0, sample=True, top_k=10)[0]\n",
    "            completion = ' '.join([bert_index_to_token[int(i)] for i in y]).replace(' ##', '')\n",
    "            completion = completion.replace('[CLS]', '').replace('[SEP]', '')\n",
    "            yield completion, topic\n",
    "        \n",
    "\n",
    "def test_keywords(train_text_file, state_dict_file, n_layer=8, n_head=8, n_embd=512):\n",
    "    text_sentences = nltk.tokenize.sent_tokenize(open(train_text_file, 'r').read())\n",
    "    tokens = np.concatenate([tokenizer.tokenize(sent)[1:-1] for sent in text_sentences])\n",
    "    tokens = [str(token) for token in tokens]\n",
    "    train_dataset = BPEDataset(tokens, block_size) \n",
    "    print(\"dataset is loaded\")\n",
    "    tokens_set = set(train_dataset.stoi.keys())\n",
    "    for topic, topic_keywords in topics.items():\n",
    "        print(len(set(topic_keywords) & tokens_set))"
   ]
  },
  {
   "cell_type": "code",
   "execution_count": 11,
   "metadata": {},
   "outputs": [],
   "source": [
    "GENRE_DATA_DIR = '/home/mlepekhin/data/genre'\n",
    "GPT_MODELS_DIR = '/home/mlepekhin/models/mini_gpt_bpe_tuned/'\n",
    "LANG = 'ru'"
   ]
  },
  {
   "cell_type": "code",
   "execution_count": 12,
   "metadata": {},
   "outputs": [],
   "source": [
    "#for train_text_file in tqdm.tqdm(listdir(pathjoin(GENRE_DATA_DIR, LANG))):\n",
    "#    label = train_text_file[:-4]\n",
    "#    print(label)\n",
    "#    test_keywords(\n",
    "#        pathjoin(GENRE_DATA_DIR, LANG, train_text_file),\n",
    "#        pathjoin(GPT_MODELS_DIR, LANG, label)\n",
    "#    )"
   ]
  },
  {
   "cell_type": "code",
   "execution_count": 13,
   "metadata": {},
   "outputs": [],
   "source": [
    "result_df = pd.DataFrame()"
   ]
  },
  {
   "cell_type": "code",
   "execution_count": null,
   "metadata": {},
   "outputs": [
    {
     "name": "stderr",
     "output_type": "stream",
     "text": [
      "\r",
      "  0%|          | 0/11 [00:00<?, ?it/s]"
     ]
    },
    {
     "name": "stdout",
     "output_type": "stream",
     "text": [
      "data has 199175 characters, 119547 unique.\n",
      "dataset is loaded\n",
      "model is loaded\n"
     ]
    },
    {
     "name": "stderr",
     "output_type": "stream",
     "text": [
      "\r",
      "  9%|▉         | 1/11 [33:21<5:33:32, 2001.21s/it]"
     ]
    },
    {
     "name": "stdout",
     "output_type": "stream",
     "text": [
      "data has 142847 characters, 119547 unique.\n",
      "dataset is loaded\n",
      "model is loaded\n"
     ]
    },
    {
     "name": "stderr",
     "output_type": "stream",
     "text": [
      "\r",
      " 18%|█▊        | 2/11 [1:06:20<4:59:12, 1994.76s/it]"
     ]
    },
    {
     "name": "stdout",
     "output_type": "stream",
     "text": [
      "data has 603817 characters, 119547 unique.\n",
      "dataset is loaded\n",
      "model is loaded\n"
     ]
    },
    {
     "name": "stderr",
     "output_type": "stream",
     "text": [
      "\r",
      " 27%|██▋       | 3/11 [1:39:29<4:25:44, 1993.04s/it]"
     ]
    },
    {
     "name": "stdout",
     "output_type": "stream",
     "text": [
      "data has 96004 characters, 119547 unique.\n",
      "dataset is loaded\n",
      "model is loaded\n"
     ]
    },
    {
     "name": "stderr",
     "output_type": "stream",
     "text": [
      "\r",
      " 36%|███▋      | 4/11 [2:12:25<3:51:54, 1987.72s/it]"
     ]
    },
    {
     "name": "stdout",
     "output_type": "stream",
     "text": [
      "data has 287136 characters, 119547 unique.\n",
      "dataset is loaded\n",
      "model is loaded\n"
     ]
    }
   ],
   "source": [
    "for train_text_file in tqdm.tqdm(listdir(pathjoin(GENRE_DATA_DIR, LANG))):\n",
    "    label = train_text_file[:-4]\n",
    "    if label.startswith('A'):\n",
    "        for text, topic in generate_topic_dataset(\n",
    "            pathjoin(GENRE_DATA_DIR, LANG, train_text_file),\n",
    "            pathjoin(GPT_MODELS_DIR, LANG, label)\n",
    "        ):\n",
    "            result_df = result_df.append({'text': text, 'target': label, 'topic': topic}, ignore_index=True)"
   ]
  },
  {
   "cell_type": "code",
   "execution_count": 17,
   "metadata": {},
   "outputs": [
    {
     "data": {
      "text/html": [
       "<div>\n",
       "<style scoped>\n",
       "    .dataframe tbody tr th:only-of-type {\n",
       "        vertical-align: middle;\n",
       "    }\n",
       "\n",
       "    .dataframe tbody tr th {\n",
       "        vertical-align: top;\n",
       "    }\n",
       "\n",
       "    .dataframe thead th {\n",
       "        text-align: right;\n",
       "    }\n",
       "</style>\n",
       "<table border=\"1\" class=\"dataframe\">\n",
       "  <thead>\n",
       "    <tr style=\"text-align: right;\">\n",
       "      <th></th>\n",
       "      <th>target</th>\n",
       "      <th>text</th>\n",
       "      <th>topic</th>\n",
       "    </tr>\n",
       "  </thead>\n",
       "  <tbody>\n",
       "    <tr>\n",
       "      <th>9995</th>\n",
       "      <td>A16</td>\n",
       "      <td>в конце xvii века западные государства постро...</td>\n",
       "      <td>arhitecture</td>\n",
       "    </tr>\n",
       "    <tr>\n",
       "      <th>9996</th>\n",
       "      <td>A16</td>\n",
       "      <td>шел через тучков мост , увидел проплывающую \"...</td>\n",
       "      <td>arhitecture</td>\n",
       "    </tr>\n",
       "    <tr>\n",
       "      <th>9997</th>\n",
       "      <td>A16</td>\n",
       "      <td>также в стенах города находится и величествен...</td>\n",
       "      <td>arhitecture</td>\n",
       "    </tr>\n",
       "    <tr>\n",
       "      <th>9998</th>\n",
       "      <td>A16</td>\n",
       "      <td>в случае нарушения сроков предоставления в со...</td>\n",
       "      <td>arhitecture</td>\n",
       "    </tr>\n",
       "    <tr>\n",
       "      <th>9999</th>\n",
       "      <td>A16</td>\n",
       "      <td>варианты нестандартных табличек : в соответст...</td>\n",
       "      <td>arhitecture</td>\n",
       "    </tr>\n",
       "  </tbody>\n",
       "</table>\n",
       "</div>"
      ],
      "text/plain": [
       "     target                                               text        topic\n",
       "9995    A16   в конце xvii века западные государства постро...  arhitecture\n",
       "9996    A16   шел через тучков мост , увидел проплывающую \"...  arhitecture\n",
       "9997    A16   также в стенах города находится и величествен...  arhitecture\n",
       "9998    A16   в случае нарушения сроков предоставления в со...  arhitecture\n",
       "9999    A16   варианты нестандартных табличек : в соответст...  arhitecture"
      ]
     },
     "execution_count": 17,
     "metadata": {},
     "output_type": "execute_result"
    }
   ],
   "source": [
    "result_df.tail()"
   ]
  },
  {
   "cell_type": "code",
   "execution_count": 18,
   "metadata": {},
   "outputs": [],
   "source": [
    "result_df.to_csv('/home/mlepekhin/data/min_gpt_bpe/ru_train_topic_big_prefixes.csv')"
   ]
  },
  {
   "cell_type": "code",
   "execution_count": null,
   "metadata": {},
   "outputs": [],
   "source": []
  },
  {
   "cell_type": "code",
   "execution_count": null,
   "metadata": {},
   "outputs": [],
   "source": []
  }
 ],
 "metadata": {
  "kernelspec": {
   "display_name": "Python 3",
   "language": "python",
   "name": "python3"
  },
  "language_info": {
   "codemirror_mode": {
    "name": "ipython",
    "version": 3
   },
   "file_extension": ".py",
   "mimetype": "text/x-python",
   "name": "python",
   "nbconvert_exporter": "python",
   "pygments_lexer": "ipython3",
   "version": "3.8.3"
  }
 },
 "nbformat": 4,
 "nbformat_minor": 4
}
