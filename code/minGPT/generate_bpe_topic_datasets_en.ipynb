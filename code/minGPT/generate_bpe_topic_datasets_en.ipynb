{
 "cells": [
  {
   "cell_type": "markdown",
   "metadata": {},
   "source": [
    "## Train a character-level GPT on some text data\n",
    "\n",
    "The inputs here are simple text files, which we chop up to individual characters and then train GPT on. So you could say this is a char-transformer instead of a char-rnn. Doesn't quite roll off the tongue as well. In this example we will feed it some Shakespeare, which we'll get it to predict character-level."
   ]
  },
  {
   "cell_type": "code",
   "execution_count": 1,
   "metadata": {},
   "outputs": [],
   "source": [
    "from allennlp.data.tokenizers import Token, Tokenizer, PretrainedTransformerTokenizer\n",
    "\n",
    "import nltk\n",
    "import numpy as np\n",
    "from os import listdir\n",
    "from os.path import join as pathjoin\n",
    "import pandas as pd\n",
    "import torch\n",
    "import torch.nn as nn\n",
    "from torch.nn import functional as F\n",
    "import tqdm\n",
    "\n",
    "from mingpt.model import GPT, GPTConfig\n",
    "from mingpt.trainer import Trainer, TrainerConfig\n",
    "# make deterministic\n",
    "from mingpt.utils import sample, set_seed\n",
    "set_seed(42)\n",
    "np.random.seed(42)"
   ]
  },
  {
   "cell_type": "code",
   "execution_count": 2,
   "metadata": {},
   "outputs": [],
   "source": [
    "DATA_DIR = '/home/mlepekhin/data'\n",
    "MODELS_DIR = '/home/mlepekhin/models'\n",
    "transformer_model = 'bert-base-cased'"
   ]
  },
  {
   "cell_type": "code",
   "execution_count": 3,
   "metadata": {},
   "outputs": [],
   "source": [
    "import math\n",
    "from torch.utils.data import Dataset\n",
    "\n",
    "\n",
    "def detokenize(tokens):\n",
    "    return ' '.join([str(x) for x in tokens[1:-1]]).replace(' ##', '')\n",
    "\n",
    "class BPEDataset(Dataset):\n",
    "    def __init__(self, data, block_size):\n",
    "        chars = sorted(list(set(data)))\n",
    "        data_size, vocab_size = len(data), len(chars)\n",
    "        print('data has %d characters, %d unique.' % (data_size, vocab_size))\n",
    "        \n",
    "        self.stoi = { ch:i for i,ch in enumerate(chars) }\n",
    "        self.itos = { i:ch for i,ch in enumerate(chars) }\n",
    "        self.block_size = block_size\n",
    "        self.vocab_size = vocab_size\n",
    "        self.data = data\n",
    "    \n",
    "    def __len__(self):\n",
    "        return len(self.data) - self.block_size\n",
    "\n",
    "    def __getitem__(self, idx):\n",
    "        # grab a chunk of (block_size + 1) characters from the data\n",
    "        chunk = self.data[idx:idx + self.block_size + 1]\n",
    "        # encode every character to an integer\n",
    "        dix = [self.stoi[s] for s in chunk]\n",
    "        \"\"\"\n",
    "        arrange data and targets so that the first i elements of x\n",
    "        will be asked to predict the i-th element of y. Notice that\n",
    "        the eventual language model will actually make block_size\n",
    "        individual predictions at the same time based on this data,\n",
    "        so we are being clever and amortizing the cost of the forward\n",
    "        pass of the network. So for example if block_size is 4, then\n",
    "        we could e.g. sample a chunk of text \"hello\", the integers in\n",
    "        x will correspond to \"hell\" and in y will be \"ello\". This will\n",
    "        then actually \"multitask\" 4 separate examples at the same time\n",
    "        in the language model:\n",
    "        - given just \"h\", please predict \"e\" as next\n",
    "        - given \"he\" please predict \"l\" next\n",
    "        - given \"hel\" predict \"l\" next\n",
    "        - given \"hell\" predict \"o\" next\n",
    "        \n",
    "        In addition, because the DataLoader will create batches of examples,\n",
    "        every forward/backward pass during traning will simultaneously train\n",
    "        a LOT of predictions, amortizing a lot of computation. In particular,\n",
    "        for a batched input of integers X (B, T) where B is batch size and\n",
    "        T is block_size and Y (B, T), the network will during training be\n",
    "        simultaneously training to make B*T predictions, all at once! Of course,\n",
    "        at test time we can paralellize across batch B, but unlike during training\n",
    "        we cannot parallelize across the time dimension T - we have to run\n",
    "        a forward pass of the network to recover the next single character of the \n",
    "        sequence along each batch dimension, and repeatedly always feed in a next\n",
    "        character to get the next one.\n",
    "        \n",
    "        So yes there is a big asymmetry between train/test time of autoregressive\n",
    "        models. During training we can go B*T at a time with every forward pass,\n",
    "        but during test time we can only go B at a time, T times, with T forward \n",
    "        passes.\n",
    "        \"\"\"\n",
    "        x = torch.tensor(dix[:-1], dtype=torch.long)\n",
    "        y = torch.tensor(dix[1:], dtype=torch.long)\n",
    "        return x, y"
   ]
  },
  {
   "cell_type": "code",
   "execution_count": 4,
   "metadata": {},
   "outputs": [],
   "source": [
    "block_size = 128\n",
    "tokenizer = PretrainedTransformerTokenizer(transformer_model)"
   ]
  },
  {
   "cell_type": "code",
   "execution_count": 5,
   "metadata": {},
   "outputs": [],
   "source": [
    "topics = {\n",
    "    'music': ['music', 'band', 'album', 'songs', 'sound', 'love', 'rock', 'playing', 'guitar', 'jazz'],\n",
    "    'education': ['student', 'learning', 'courses', 'teaching', 'skills', 'education', 'study', 'college'],\n",
    "    'politics': ['election', 'votes', 'assembly', 'candidate', 'democratic', \n",
    "                 'council', 'minister', 'parliament', 'politician', 'legislative', 'seats', 'vote'],\n",
    "    'sport': ['football', 'coach', 'basketball', 'tournament', 'schedule', 'games', 'league', 'division', 'team', 'teams'],\n",
    "    'business': ['technology', 'platform', 'companies', 'industry', 'product', 'design',\n",
    "                 'upgrade', 'automation', 'users', 'ideas'],\n",
    "    'literature': ['books', 'literature', 'fiction', 'tolstoy', 'shakespeare', 'dostoevsky', 'romanism', 'fanfics', 'adventure'],\n",
    "    'crime': ['police', 'court', 'officer', 'incident', 'charges', 'crime', 'prison', 'investigation', 'accused', 'victim'],\n",
    "    'travel': ['tourist', 'tourism', 'travel', 'seaside', 'vacation', 'beach', 'hotel', 'hostel'],\n",
    "    'games': ['games', 'xbox', 'players', 'steam', 'cards', 'player', 'damage', 'switch', 'dragon', 'character', \n",
    "              'reload', 'console'],\n",
    "    'arhitecture': ['building', 'historic', 'church', 'buildings', 'brick', \n",
    "                    'roof', 'street', 'style', 'tower', 'designed', 'stone', 'architecture']\n",
    "}"
   ]
  },
  {
   "cell_type": "code",
   "execution_count": 6,
   "metadata": {},
   "outputs": [],
   "source": [
    "from mingpt.utils import sample\n",
    "\n",
    "def generate_topic_dataset(train_text_file, state_dict_file, n_layer=8, n_head=8, n_embd=512,\n",
    "                     texts_count=10, text_len=500):\n",
    "    text_sentences = nltk.tokenize.sent_tokenize(open(train_text_file, 'r').read())\n",
    "    tokens = np.concatenate([tokenizer.tokenize(sent)[1:-1] for sent in text_sentences])\n",
    "    tokens = [str(token) for token in tokens]\n",
    "    train_dataset = BPEDataset(tokens, block_size) \n",
    "    tokens_set = set(train_dataset.stoi.keys())\n",
    "    print(\"dataset is loaded\")\n",
    "    \n",
    "    mconf = GPTConfig(\n",
    "        train_dataset.vocab_size, train_dataset.block_size,\n",
    "        n_layer=n_layer, n_head=n_head, n_embd=n_embd\n",
    "    )\n",
    "    model = GPT(mconf)\n",
    "    model.load_state_dict(torch.load(state_dict_file))\n",
    "    print(\"model is loaded\")\n",
    "    \n",
    "    tconf = TrainerConfig(num_workers=1)\n",
    "    trainer = Trainer(model, train_dataset, None, tconf)\n",
    "    \n",
    "    for topic, topic_keywords in topics.items():\n",
    "        first_word_candidates = list(set(topic_keywords) & tokens_set)\n",
    "        \n",
    "        for text_id in range(texts_count):\n",
    "            context = [np.random.choice(first_word_candidates)]\n",
    "            x = torch.tensor([train_dataset.stoi[s] for s in context], dtype=torch.long)[None,...].to(trainer.device)\n",
    "            y = sample(model, x, text_len, temperature=1.0, sample=True, top_k=10)[0]\n",
    "            completion = ' '.join([train_dataset.itos[int(i)] for i in y]).replace(' ##', '')\n",
    "            yield completion, topic\n",
    "        \n",
    "\n",
    "def test_keywords(train_text_file, state_dict_file, n_layer=8, n_head=8, n_embd=512):\n",
    "    text_sentences = nltk.tokenize.sent_tokenize(open(train_text_file, 'r').read())\n",
    "    tokens = np.concatenate([tokenizer.tokenize(sent)[1:-1] for sent in text_sentences])\n",
    "    tokens = [str(token) for token in tokens]\n",
    "    train_dataset = BPEDataset(tokens, block_size) \n",
    "    print(\"dataset is loaded\")\n",
    "    tokens_set = set(train_dataset.stoi.keys())\n",
    "    for topic, topic_keywords in topics.items():\n",
    "        print(len(set(topic_keywords) & tokens_set))"
   ]
  },
  {
   "cell_type": "code",
   "execution_count": 7,
   "metadata": {},
   "outputs": [],
   "source": [
    "GENRE_DATA_DIR = '/home/mlepekhin/data/genre'\n",
    "GPT_MODELS_DIR = '/home/mlepekhin/models/mini_gpt_bpe/'\n",
    "LANG = 'en'"
   ]
  },
  {
   "cell_type": "code",
   "execution_count": 8,
   "metadata": {},
   "outputs": [
    {
     "data": {
      "text/plain": [
       "'for train_text_file in tqdm.tqdm(listdir(pathjoin(GENRE_DATA_DIR, LANG))):\\n    label = train_text_file[:-4]\\n    print(label)\\n    test_keywords(\\n        pathjoin(GENRE_DATA_DIR, LANG, train_text_file),\\n        pathjoin(GPT_MODELS_DIR, LANG, label)\\n    )'"
      ]
     },
     "execution_count": 8,
     "metadata": {},
     "output_type": "execute_result"
    }
   ],
   "source": [
    "'''for train_text_file in tqdm.tqdm(listdir(pathjoin(GENRE_DATA_DIR, LANG))):\n",
    "    label = train_text_file[:-4]\n",
    "    print(label)\n",
    "    test_keywords(\n",
    "        pathjoin(GENRE_DATA_DIR, LANG, train_text_file),\n",
    "        pathjoin(GPT_MODELS_DIR, LANG, label)\n",
    "    )'''"
   ]
  },
  {
   "cell_type": "code",
   "execution_count": 9,
   "metadata": {},
   "outputs": [],
   "source": [
    "result_df = pd.DataFrame()"
   ]
  },
  {
   "cell_type": "code",
   "execution_count": 10,
   "metadata": {},
   "outputs": [
    {
     "name": "stderr",
     "output_type": "stream",
     "text": [
      "\r",
      "  0%|          | 0/11 [00:00<?, ?it/s]"
     ]
    },
    {
     "name": "stdout",
     "output_type": "stream",
     "text": [
      "A4\n",
      "data has 191478 characters, 11294 unique.\n",
      "dataset is loaded\n",
      "model is loaded\n"
     ]
    },
    {
     "name": "stderr",
     "output_type": "stream",
     "text": [
      "\r",
      "  9%|▉         | 1/11 [05:21<53:38, 321.84s/it]"
     ]
    },
    {
     "name": "stdout",
     "output_type": "stream",
     "text": [
      "A7\n",
      "data has 147526 characters, 9734 unique.\n",
      "dataset is loaded\n",
      "model is loaded\n"
     ]
    },
    {
     "name": "stderr",
     "output_type": "stream",
     "text": [
      "\r",
      " 27%|██▋       | 3/11 [16:18<43:25, 325.69s/it]"
     ]
    },
    {
     "name": "stdout",
     "output_type": "stream",
     "text": [
      "A17\n",
      "data has 48946 characters, 8009 unique.\n",
      "dataset is loaded\n",
      "model is loaded\n"
     ]
    },
    {
     "name": "stderr",
     "output_type": "stream",
     "text": [
      "\r",
      " 36%|███▋      | 4/11 [21:35<37:40, 322.95s/it]"
     ]
    },
    {
     "name": "stdout",
     "output_type": "stream",
     "text": [
      "A9\n",
      "data has 122065 characters, 6548 unique.\n",
      "dataset is loaded\n",
      "model is loaded\n"
     ]
    },
    {
     "name": "stderr",
     "output_type": "stream",
     "text": [
      "\r",
      " 45%|████▌     | 5/11 [26:55<32:13, 322.19s/it]"
     ]
    },
    {
     "name": "stdout",
     "output_type": "stream",
     "text": [
      "A11\n",
      "data has 128755 characters, 11215 unique.\n",
      "dataset is loaded\n",
      "model is loaded\n"
     ]
    },
    {
     "name": "stderr",
     "output_type": "stream",
     "text": [
      "\r",
      " 55%|█████▍    | 6/11 [32:20<26:54, 322.85s/it]"
     ]
    },
    {
     "name": "stdout",
     "output_type": "stream",
     "text": [
      "A8\n",
      "data has 83260 characters, 9642 unique.\n",
      "dataset is loaded\n",
      "model is loaded\n"
     ]
    },
    {
     "name": "stderr",
     "output_type": "stream",
     "text": [
      "\r",
      " 64%|██████▎   | 7/11 [37:42<21:30, 322.69s/it]"
     ]
    },
    {
     "name": "stdout",
     "output_type": "stream",
     "text": [
      "A12\n",
      "data has 116782 characters, 11574 unique.\n",
      "dataset is loaded\n",
      "model is loaded\n"
     ]
    },
    {
     "name": "stderr",
     "output_type": "stream",
     "text": [
      "\r",
      " 73%|███████▎  | 8/11 [43:15<16:17, 325.79s/it]"
     ]
    },
    {
     "name": "stdout",
     "output_type": "stream",
     "text": [
      "A1\n",
      "data has 463101 characters, 16955 unique.\n",
      "dataset is loaded\n",
      "model is loaded\n"
     ]
    },
    {
     "name": "stderr",
     "output_type": "stream",
     "text": [
      "\r",
      " 82%|████████▏ | 9/11 [49:18<11:14, 337.08s/it]"
     ]
    },
    {
     "name": "stdout",
     "output_type": "stream",
     "text": [
      "A22\n",
      "data has 218385 characters, 16623 unique.\n",
      "dataset is loaded\n",
      "model is loaded\n"
     ]
    },
    {
     "name": "stderr",
     "output_type": "stream",
     "text": [
      "\r",
      " 91%|█████████ | 10/11 [55:25<05:46, 346.08s/it]"
     ]
    },
    {
     "name": "stdout",
     "output_type": "stream",
     "text": [
      "A16\n",
      "data has 255033 characters, 16025 unique.\n",
      "dataset is loaded\n",
      "model is loaded\n"
     ]
    },
    {
     "name": "stderr",
     "output_type": "stream",
     "text": [
      "100%|██████████| 11/11 [1:01:31<00:00, 335.63s/it]\n"
     ]
    }
   ],
   "source": [
    "for train_text_file in tqdm.tqdm(listdir(pathjoin(GENRE_DATA_DIR, LANG))):\n",
    "    label = train_text_file[:-4]\n",
    "    print(label)\n",
    "    for text, topic in generate_topic_dataset(\n",
    "        pathjoin(GENRE_DATA_DIR, LANG, train_text_file),\n",
    "        pathjoin(GPT_MODELS_DIR, LANG, label)\n",
    "    ):\n",
    "        result_df = result_df.append({'text': text, 'target': label, 'topic': topic}, ignore_index=True)"
   ]
  },
  {
   "cell_type": "code",
   "execution_count": 13,
   "metadata": {},
   "outputs": [
    {
     "data": {
      "text/html": [
       "<div>\n",
       "<style scoped>\n",
       "    .dataframe tbody tr th:only-of-type {\n",
       "        vertical-align: middle;\n",
       "    }\n",
       "\n",
       "    .dataframe tbody tr th {\n",
       "        vertical-align: top;\n",
       "    }\n",
       "\n",
       "    .dataframe thead th {\n",
       "        text-align: right;\n",
       "    }\n",
       "</style>\n",
       "<table border=\"1\" class=\"dataframe\">\n",
       "  <thead>\n",
       "    <tr style=\"text-align: right;\">\n",
       "      <th></th>\n",
       "      <th>target</th>\n",
       "      <th>text</th>\n",
       "      <th>topic</th>\n",
       "    </tr>\n",
       "  </thead>\n",
       "  <tbody>\n",
       "    <tr>\n",
       "      <th>0</th>\n",
       "      <td>A4</td>\n",
       "      <td>love ; you will learn from me by luck ; you co...</td>\n",
       "      <td>music</td>\n",
       "    </tr>\n",
       "    <tr>\n",
       "      <th>1</th>\n",
       "      <td>A4</td>\n",
       "      <td>playing at home with his shoulders . \" You are...</td>\n",
       "      <td>music</td>\n",
       "    </tr>\n",
       "    <tr>\n",
       "      <th>2</th>\n",
       "      <td>A4</td>\n",
       "      <td>rock to put and shook her handkerchief away in...</td>\n",
       "      <td>music</td>\n",
       "    </tr>\n",
       "    <tr>\n",
       "      <th>3</th>\n",
       "      <td>A4</td>\n",
       "      <td>love with him – and he began to think that thi...</td>\n",
       "      <td>music</td>\n",
       "    </tr>\n",
       "    <tr>\n",
       "      <th>4</th>\n",
       "      <td>A4</td>\n",
       "      <td>songs . In degrees others . Their armour , daz...</td>\n",
       "      <td>music</td>\n",
       "    </tr>\n",
       "  </tbody>\n",
       "</table>\n",
       "</div>"
      ],
      "text/plain": [
       "  target                                               text  topic\n",
       "0     A4  love ; you will learn from me by luck ; you co...  music\n",
       "1     A4  playing at home with his shoulders . \" You are...  music\n",
       "2     A4  rock to put and shook her handkerchief away in...  music\n",
       "3     A4  love with him – and he began to think that thi...  music\n",
       "4     A4  songs . In degrees others . Their armour , daz...  music"
      ]
     },
     "execution_count": 13,
     "metadata": {},
     "output_type": "execute_result"
    }
   ],
   "source": [
    "result_df.head()"
   ]
  },
  {
   "cell_type": "code",
   "execution_count": 14,
   "metadata": {},
   "outputs": [],
   "source": [
    "result_df.to_csv('/home/mlepekhin/data/min_gpt_bpe/en_topic')"
   ]
  },
  {
   "cell_type": "code",
   "execution_count": null,
   "metadata": {},
   "outputs": [],
   "source": []
  }
 ],
 "metadata": {
  "kernelspec": {
   "display_name": "Python 3",
   "language": "python",
   "name": "python3"
  },
  "language_info": {
   "codemirror_mode": {
    "name": "ipython",
    "version": 3
   },
   "file_extension": ".py",
   "mimetype": "text/x-python",
   "name": "python",
   "nbconvert_exporter": "python",
   "pygments_lexer": "ipython3",
   "version": "3.8.3"
  }
 },
 "nbformat": 4,
 "nbformat_minor": 4
}
