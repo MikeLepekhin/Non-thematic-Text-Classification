{
 "cells": [
  {
   "cell_type": "markdown",
   "metadata": {},
   "source": [
    "## Train a character-level GPT on some text data\n",
    "\n",
    "The inputs here are simple text files, which we chop up to individual characters and then train GPT on. So you could say this is a char-transformer instead of a char-rnn. Doesn't quite roll off the tongue as well. In this example we will feed it some Shakespeare, which we'll get it to predict character-level."
   ]
  },
  {
   "cell_type": "code",
   "execution_count": 1,
   "metadata": {},
   "outputs": [],
   "source": [
    "from allennlp.data.token_indexers import TokenIndexer, PretrainedTransformerIndexer\n",
    "from allennlp.data.tokenizers import Token, Tokenizer, PretrainedTransformerTokenizer\n",
    "\n",
    "import nltk\n",
    "#nltk.download('punkt')\n",
    "import numpy as np\n",
    "from os import listdir\n",
    "from os.path import join as pathjoin\n",
    "import torch\n",
    "import torch.nn as nn\n",
    "from torch.nn import functional as F\n",
    "import tqdm\n",
    "\n",
    "from minGPT.mingpt.model import GPT, GPTConfig\n",
    "from minGPT.mingpt.trainer import Trainer, TrainerConfig\n",
    "# make deterministic\n",
    "from minGPT.mingpt.utils import sample, set_seed\n",
    "set_seed(42)"
   ]
  },
  {
   "cell_type": "code",
   "execution_count": 2,
   "metadata": {},
   "outputs": [],
   "source": [
    "DATA_DIR = '/home/mlepekhin/data'\n",
    "MODELS_DIR = '/home/mlepekhin/models'\n",
    "transformer_model = 'bert-base-cased'"
   ]
  },
  {
   "cell_type": "code",
   "execution_count": 3,
   "metadata": {},
   "outputs": [],
   "source": [
    "import math\n",
    "from torch.utils.data import Dataset\n",
    "\n",
    "\n",
    "def detokenize(tokens):\n",
    "    return ' '.join([str(x) for x in tokens[1:-1]]).replace(' ##', '')\n",
    "\n",
    "class BPEDataset(Dataset):\n",
    "    def __init__(self, data, block_size):\n",
    "        chars = sorted(list(set(data)))\n",
    "        data_size, vocab_size = len(data), len(chars)\n",
    "        print('data has %d characters, %d unique.' % (data_size, vocab_size))\n",
    "        \n",
    "        self.stoi = { ch:i for i,ch in enumerate(chars) }\n",
    "        self.itos = { i:ch for i,ch in enumerate(chars) }\n",
    "        self.block_size = block_size\n",
    "        self.vocab_size = vocab_size\n",
    "        self.data = data\n",
    "    \n",
    "    def __len__(self):\n",
    "        return len(self.data) - self.block_size\n",
    "\n",
    "    def __getitem__(self, idx):\n",
    "        # grab a chunk of (block_size + 1) characters from the data\n",
    "        chunk = self.data[idx:idx + self.block_size + 1]\n",
    "        # encode every character to an integer\n",
    "        dix = [self.stoi[s] for s in chunk]\n",
    "        \"\"\"\n",
    "        arrange data and targets so that the first i elements of x\n",
    "        will be asked to predict the i-th element of y. Notice that\n",
    "        the eventual language model will actually make block_size\n",
    "        individual predictions at the same time based on this data,\n",
    "        so we are being clever and amortizing the cost of the forward\n",
    "        pass of the network. So for example if block_size is 4, then\n",
    "        we could e.g. sample a chunk of text \"hello\", the integers in\n",
    "        x will correspond to \"hell\" and in y will be \"ello\". This will\n",
    "        then actually \"multitask\" 4 separate examples at the same time\n",
    "        in the language model:\n",
    "        - given just \"h\", please predict \"e\" as next\n",
    "        - given \"he\" please predict \"l\" next\n",
    "        - given \"hel\" predict \"l\" next\n",
    "        - given \"hell\" predict \"o\" next\n",
    "        \n",
    "        In addition, because the DataLoader will create batches of examples,\n",
    "        every forward/backward pass during traning will simultaneously train\n",
    "        a LOT of predictions, amortizing a lot of computation. In particular,\n",
    "        for a batched input of integers X (B, T) where B is batch size and\n",
    "        T is block_size and Y (B, T), the network will during training be\n",
    "        simultaneously training to make B*T predictions, all at once! Of course,\n",
    "        at test time we can paralellize across batch B, but unlike during training\n",
    "        we cannot parallelize across the time dimension T - we have to run\n",
    "        a forward pass of the network to recover the next single character of the \n",
    "        sequence along each batch dimension, and repeatedly always feed in a next\n",
    "        character to get the next one.\n",
    "        \n",
    "        So yes there is a big asymmetry between train/test time of autoregressive\n",
    "        models. During training we can go B*T at a time with every forward pass,\n",
    "        but during test time we can only go B at a time, T times, with T forward \n",
    "        passes.\n",
    "        \"\"\"\n",
    "        x = torch.tensor(dix[:-1], dtype=torch.long)\n",
    "        y = torch.tensor(dix[1:], dtype=torch.long)\n",
    "        return x, y\n"
   ]
  },
  {
   "cell_type": "code",
   "execution_count": 4,
   "metadata": {},
   "outputs": [],
   "source": [
    "block_size = 128\n",
    "tokenizer = PretrainedTransformerTokenizer(transformer_model)\n",
    "#indexer = PretrainedTransformerIndexer(transformer_model)"
   ]
  },
  {
   "cell_type": "code",
   "execution_count": 5,
   "metadata": {},
   "outputs": [],
   "source": [
    "def train_gpt_generator(train_text_file, state_dict_file, n_layer=4, n_head=4, n_embd=256,\n",
    "                        max_epochs=5, batch_size=256):\n",
    "    text_sentences = nltk.tokenize.sent_tokenize(open(train_text_file, 'r').read())\n",
    "    tokens = np.concatenate([tokenizer.tokenize(sent) for sent in text_sentences])\n",
    "    tokens = [str(token) for token in tokens]\n",
    "    train_dataset = BPEDataset(tokens, block_size) \n",
    "    \n",
    "    mconf = GPTConfig(\n",
    "        train_dataset.vocab_size, train_dataset.block_size,\n",
    "        n_layer=n_layer, n_head=n_head, n_embd=n_embd\n",
    "    )\n",
    "    model = GPT(mconf)\n",
    "    tconf = TrainerConfig(\n",
    "        max_epochs=max_epochs, batch_size=batch_size, learning_rate=6e-4,\n",
    "        lr_decay=True, warmup_tokens=batch_size*20, final_tokens=2*len(train_dataset)*block_size,\n",
    "        num_workers=1\n",
    "    )\n",
    "    trainer = Trainer(model, train_dataset, None, tconf)\n",
    "    trainer.train()\n",
    "    torch.save(model.state_dict(), state_dict_file)"
   ]
  },
  {
   "cell_type": "code",
   "execution_count": 6,
   "metadata": {},
   "outputs": [
    {
     "name": "stdout",
     "output_type": "stream",
     "text": [
      "mkdir: cannot create directory ‘/home/mlepekhin/models/mini_gpt_bpe_tuned//en’: File exists\n",
      "mkdir: cannot create directory ‘/home/mlepekhin/models/mini_gpt_bpe_tuned//ru’: File exists\n"
     ]
    }
   ],
   "source": [
    "GENRE_DATA_DIR = '/home/mlepekhin/data/genre'\n",
    "GPT_MODELS_DIR = '/home/mlepekhin/models/mini_gpt_bpe_tuned/'\n",
    "!mkdir {GPT_MODELS_DIR}/en\n",
    "!mkdir {GPT_MODELS_DIR}/ru\n",
    "LANG = 'en'"
   ]
  },
  {
   "cell_type": "code",
   "execution_count": 7,
   "metadata": {},
   "outputs": [],
   "source": [
    "#train_gpt_generator(\n",
    "#        pathjoin(GENRE_DATA_DIR, LANG, 'A1.txt'),\n",
    "#        pathjoin(GPT_MODELS_DIR, LANG, 'A1')\n",
    "#)"
   ]
  },
  {
   "cell_type": "code",
   "execution_count": null,
   "metadata": {},
   "outputs": [
    {
     "name": "stderr",
     "output_type": "stream",
     "text": [
      "\r",
      "  0%|          | 0/11 [00:00<?, ?it/s]"
     ]
    },
    {
     "name": "stdout",
     "output_type": "stream",
     "text": [
      "data has 208998 characters, 11296 unique.\n"
     ]
    },
    {
     "name": "stderr",
     "output_type": "stream",
     "text": [
      "\n",
      "  0%|          | 0/816 [00:00<?, ?it/s]\u001b[A/home/mlepekhin/anaconda3/envs/mlepekhin_research/lib/python3.8/site-packages/torch/nn/parallel/_functions.py:61: UserWarning: Was asked to gather along dimension 0, but all input tensors were scalars; will instead unsqueeze and return a vector.\n",
      "  warnings.warn('Was asked to gather along dimension 0, but all '\n",
      "\n",
      "epoch 1 iter 0: train loss 9.38088. lr 5.999996e-04:   0%|          | 0/816 [00:07<?, ?it/s]\u001b[A\n",
      "epoch 1 iter 0: train loss 9.38088. lr 5.999996e-04:   0%|          | 1/816 [00:07<1:47:43,  7.93s/it]\u001b[A\n",
      "epoch 1 iter 1: train loss 8.94538. lr 5.999981e-04:   0%|          | 1/816 [00:08<1:47:43,  7.93s/it]\u001b[A\n",
      "epoch 1 iter 1: train loss 8.94538. lr 5.999981e-04:   0%|          | 2/816 [00:08<1:16:06,  5.61s/it]\u001b[A\n",
      "epoch 1 iter 2: train loss 8.71549. lr 5.999955e-04:   0%|          | 2/816 [00:08<1:16:06,  5.61s/it]\u001b[A\n",
      "epoch 1 iter 2: train loss 8.71549. lr 5.999955e-04:   0%|          | 3/816 [00:08<53:59,  3.99s/it]  \u001b[A\n",
      "epoch 1 iter 3: train loss 8.49975. lr 5.999918e-04:   0%|          | 3/816 [00:08<53:59,  3.99s/it]\u001b[A\n",
      "epoch 1 iter 3: train loss 8.49975. lr 5.999918e-04:   0%|          | 4/816 [00:08<38:30,  2.85s/it]\u001b[A\n",
      "epoch 1 iter 4: train loss 8.33660. lr 5.999870e-04:   0%|          | 4/816 [00:08<38:30,  2.85s/it]\u001b[A\n",
      "epoch 1 iter 4: train loss 8.33660. lr 5.999870e-04:   1%|          | 5/816 [00:08<27:39,  2.05s/it]\u001b[A\n",
      "epoch 1 iter 5: train loss 8.16885. lr 5.999810e-04:   1%|          | 5/816 [00:08<27:39,  2.05s/it]\u001b[A\n",
      "epoch 1 iter 5: train loss 8.16885. lr 5.999810e-04:   1%|          | 6/816 [00:08<20:04,  1.49s/it]\u001b[A\n",
      "epoch 1 iter 6: train loss 8.00372. lr 5.999740e-04:   1%|          | 6/816 [00:09<20:04,  1.49s/it]\u001b[A\n",
      "epoch 1 iter 6: train loss 8.00372. lr 5.999740e-04:   1%|          | 7/816 [00:09<14:46,  1.10s/it]\u001b[A\n",
      "epoch 1 iter 7: train loss 7.84177. lr 5.999658e-04:   1%|          | 7/816 [00:09<14:46,  1.10s/it]\u001b[A\n",
      "epoch 1 iter 7: train loss 7.84177. lr 5.999658e-04:   1%|          | 8/816 [00:09<11:05,  1.21it/s]\u001b[A\n",
      "epoch 1 iter 8: train loss 7.69590. lr 5.999565e-04:   1%|          | 8/816 [00:09<11:05,  1.21it/s]\u001b[A\n",
      "epoch 1 iter 8: train loss 7.69590. lr 5.999565e-04:   1%|          | 9/816 [00:09<08:29,  1.58it/s]\u001b[A\n",
      "epoch 1 iter 9: train loss 7.55216. lr 5.999461e-04:   1%|          | 9/816 [00:09<08:29,  1.58it/s]\u001b[A\n",
      "epoch 1 iter 9: train loss 7.55216. lr 5.999461e-04:   1%|          | 10/816 [00:09<06:40,  2.01it/s]\u001b[A\n",
      "epoch 1 iter 10: train loss 7.42749. lr 5.999346e-04:   1%|          | 10/816 [00:09<06:40,  2.01it/s]\u001b[A\n",
      "epoch 1 iter 10: train loss 7.42749. lr 5.999346e-04:   1%|▏         | 11/816 [00:09<05:23,  2.49it/s]\u001b[A\n",
      "epoch 1 iter 11: train loss 7.29696. lr 5.999220e-04:   1%|▏         | 11/816 [00:09<05:23,  2.49it/s]\u001b[A\n",
      "epoch 1 iter 11: train loss 7.29696. lr 5.999220e-04:   1%|▏         | 12/816 [00:09<04:30,  2.97it/s]\u001b[A\n",
      "epoch 1 iter 12: train loss 7.21475. lr 5.999083e-04:   1%|▏         | 12/816 [00:10<04:30,  2.97it/s]\u001b[A\n",
      "epoch 1 iter 12: train loss 7.21475. lr 5.999083e-04:   2%|▏         | 13/816 [00:10<03:53,  3.43it/s]\u001b[A\n",
      "epoch 1 iter 13: train loss 7.06882. lr 5.998934e-04:   2%|▏         | 13/816 [00:10<03:53,  3.43it/s]\u001b[A\n",
      "epoch 1 iter 13: train loss 7.06882. lr 5.998934e-04:   2%|▏         | 14/816 [00:10<03:28,  3.85it/s]\u001b[A\n",
      "epoch 1 iter 14: train loss 6.98020. lr 5.998775e-04:   2%|▏         | 14/816 [00:10<03:28,  3.85it/s]\u001b[A\n",
      "epoch 1 iter 14: train loss 6.98020. lr 5.998775e-04:   2%|▏         | 15/816 [00:10<03:10,  4.22it/s]\u001b[A\n",
      "epoch 1 iter 15: train loss 6.87017. lr 5.998604e-04:   2%|▏         | 15/816 [00:10<03:10,  4.22it/s]\u001b[A\n",
      "epoch 1 iter 15: train loss 6.87017. lr 5.998604e-04:   2%|▏         | 16/816 [00:10<02:56,  4.53it/s]\u001b[A\n",
      "epoch 1 iter 16: train loss 6.77825. lr 5.998422e-04:   2%|▏         | 16/816 [00:10<02:56,  4.53it/s]\u001b[A\n",
      "epoch 1 iter 16: train loss 6.77825. lr 5.998422e-04:   2%|▏         | 17/816 [00:10<02:47,  4.76it/s]\u001b[A\n",
      "epoch 1 iter 17: train loss 6.65075. lr 5.998230e-04:   2%|▏         | 17/816 [00:11<02:47,  4.76it/s]\u001b[A\n",
      "epoch 1 iter 17: train loss 6.65075. lr 5.998230e-04:   2%|▏         | 18/816 [00:11<02:41,  4.94it/s]\u001b[A\n",
      "epoch 1 iter 18: train loss 6.60150. lr 5.998026e-04:   2%|▏         | 18/816 [00:11<02:41,  4.94it/s]\u001b[A\n",
      "epoch 1 iter 18: train loss 6.60150. lr 5.998026e-04:   2%|▏         | 19/816 [00:11<02:36,  5.08it/s]\u001b[A\n",
      "epoch 1 iter 19: train loss 6.54180. lr 5.997811e-04:   2%|▏         | 19/816 [00:11<02:36,  5.08it/s]\u001b[A\n",
      "epoch 1 iter 19: train loss 6.54180. lr 5.997811e-04:   2%|▏         | 20/816 [00:11<02:33,  5.18it/s]\u001b[A\n",
      "epoch 1 iter 20: train loss 6.41970. lr 5.997584e-04:   2%|▏         | 20/816 [00:11<02:33,  5.18it/s]\u001b[A\n",
      "epoch 1 iter 20: train loss 6.41970. lr 5.997584e-04:   3%|▎         | 21/816 [00:11<02:31,  5.25it/s]\u001b[A\n",
      "epoch 1 iter 21: train loss 6.36916. lr 5.997347e-04:   3%|▎         | 21/816 [00:11<02:31,  5.25it/s]\u001b[A\n",
      "epoch 1 iter 21: train loss 6.36916. lr 5.997347e-04:   3%|▎         | 22/816 [00:11<02:30,  5.27it/s]\u001b[A\n",
      "epoch 1 iter 22: train loss 6.27569. lr 5.997099e-04:   3%|▎         | 22/816 [00:12<02:30,  5.27it/s]\u001b[A\n",
      "epoch 1 iter 22: train loss 6.27569. lr 5.997099e-04:   3%|▎         | 23/816 [00:12<02:28,  5.34it/s]\u001b[A\n",
      "epoch 1 iter 23: train loss 6.19438. lr 5.996839e-04:   3%|▎         | 23/816 [00:12<02:28,  5.34it/s]\u001b[A\n",
      "epoch 1 iter 23: train loss 6.19438. lr 5.996839e-04:   3%|▎         | 24/816 [00:12<02:27,  5.37it/s]\u001b[A\n",
      "epoch 1 iter 24: train loss 6.12504. lr 5.996568e-04:   3%|▎         | 24/816 [00:12<02:27,  5.37it/s]\u001b[A\n",
      "epoch 1 iter 24: train loss 6.12504. lr 5.996568e-04:   3%|▎         | 25/816 [00:12<02:25,  5.42it/s]\u001b[A\n",
      "epoch 1 iter 25: train loss 6.09879. lr 5.996287e-04:   3%|▎         | 25/816 [00:12<02:25,  5.42it/s]\u001b[A\n",
      "epoch 1 iter 25: train loss 6.09879. lr 5.996287e-04:   3%|▎         | 26/816 [00:12<02:24,  5.45it/s]\u001b[A\n",
      "epoch 1 iter 26: train loss 5.98024. lr 5.995994e-04:   3%|▎         | 26/816 [00:12<02:24,  5.45it/s]\u001b[A\n",
      "epoch 1 iter 26: train loss 5.98024. lr 5.995994e-04:   3%|▎         | 27/816 [00:12<02:24,  5.46it/s]\u001b[A\n",
      "epoch 1 iter 27: train loss 5.99265. lr 5.995690e-04:   3%|▎         | 27/816 [00:12<02:24,  5.46it/s]\u001b[A\n",
      "epoch 1 iter 27: train loss 5.99265. lr 5.995690e-04:   3%|▎         | 28/816 [00:12<02:23,  5.47it/s]\u001b[A\n",
      "epoch 1 iter 28: train loss 6.00155. lr 5.995375e-04:   3%|▎         | 28/816 [00:13<02:23,  5.47it/s]\u001b[A\n",
      "epoch 1 iter 28: train loss 6.00155. lr 5.995375e-04:   4%|▎         | 29/816 [00:13<02:23,  5.47it/s]\u001b[A\n",
      "epoch 1 iter 29: train loss 5.91176. lr 5.995049e-04:   4%|▎         | 29/816 [00:13<02:23,  5.47it/s]\u001b[A\n",
      "epoch 1 iter 29: train loss 5.91176. lr 5.995049e-04:   4%|▎         | 30/816 [00:13<02:24,  5.43it/s]\u001b[A\n",
      "epoch 1 iter 30: train loss 5.84773. lr 5.994711e-04:   4%|▎         | 30/816 [00:13<02:24,  5.43it/s]\u001b[A\n",
      "epoch 1 iter 30: train loss 5.84773. lr 5.994711e-04:   4%|▍         | 31/816 [00:13<02:24,  5.42it/s]\u001b[A\n",
      "epoch 1 iter 31: train loss 5.88796. lr 5.994363e-04:   4%|▍         | 31/816 [00:13<02:24,  5.42it/s]\u001b[A\n",
      "epoch 1 iter 31: train loss 5.88796. lr 5.994363e-04:   4%|▍         | 32/816 [00:13<02:25,  5.39it/s]\u001b[A\n",
      "epoch 1 iter 32: train loss 5.80737. lr 5.994003e-04:   4%|▍         | 32/816 [00:13<02:25,  5.39it/s]\u001b[A\n",
      "epoch 1 iter 32: train loss 5.80737. lr 5.994003e-04:   4%|▍         | 33/816 [00:13<02:25,  5.40it/s]\u001b[A\n",
      "epoch 1 iter 33: train loss 5.79406. lr 5.993633e-04:   4%|▍         | 33/816 [00:14<02:25,  5.40it/s]\u001b[A\n",
      "epoch 1 iter 33: train loss 5.79406. lr 5.993633e-04:   4%|▍         | 34/816 [00:14<02:24,  5.42it/s]\u001b[A\n",
      "epoch 1 iter 34: train loss 5.67766. lr 5.993251e-04:   4%|▍         | 34/816 [00:14<02:24,  5.42it/s]\u001b[A\n",
      "epoch 1 iter 34: train loss 5.67766. lr 5.993251e-04:   4%|▍         | 35/816 [00:14<02:23,  5.43it/s]\u001b[A\n",
      "epoch 1 iter 35: train loss 5.73618. lr 5.992858e-04:   4%|▍         | 35/816 [00:14<02:23,  5.43it/s]\u001b[A\n",
      "epoch 1 iter 35: train loss 5.73618. lr 5.992858e-04:   4%|▍         | 36/816 [00:14<02:23,  5.45it/s]\u001b[A"
     ]
    }
   ],
   "source": [
    "for train_text_file in tqdm.tqdm(listdir(pathjoin(GENRE_DATA_DIR, LANG))):\n",
    "    label = train_text_file[:-4]\n",
    "    train_gpt_generator(\n",
    "        pathjoin(GENRE_DATA_DIR, LANG, train_text_file),\n",
    "        pathjoin(GPT_MODELS_DIR, LANG, label)\n",
    "    )"
   ]
  },
  {
   "cell_type": "code",
   "execution_count": null,
   "metadata": {},
   "outputs": [],
   "source": [
    "from minGPT.mingpt.utils import sample\n",
    "\n",
    "def generate_dataset(train_text_file, state_dict_file, n_layer=8, n_head=8, n_embd=512,\n",
    "                     texts_count=1, text_len=100):\n",
    "    text_sentences = nltk.tokenize.sent_tokenize(open(train_text_file, 'r').read())\n",
    "    tokens = np.concatenate([tokenizer.tokenize(sent)[1:-1] for sent in text_sentences])\n",
    "    tokens = [str(token) for token in tokens]\n",
    "    train_dataset = BPEDataset(tokens, block_size) \n",
    "    \n",
    "    mconf = GPTConfig(\n",
    "        train_dataset.vocab_size, train_dataset.block_size,\n",
    "        n_layer=n_layer, n_head=n_head, n_embd=n_embd\n",
    "    )\n",
    "    model = GPT(mconf)\n",
    "    model.load_state_dict(torch.load(state_dict_file))\n",
    "    print(\"model is loaded\")\n",
    "    tconf = TrainerConfig(num_workers=1)\n",
    "    trainer = Trainer(model, train_dataset, None, tconf)\n",
    "    \n",
    "    for text_id in range(texts_count):\n",
    "        context = [train_dataset.itos[np.random.randint(train_dataset.vocab_size)]]\n",
    "        x = torch.tensor([train_dataset.stoi[s] for s in context], dtype=torch.long)[None,...].to(trainer.device)\n",
    "        y = sample(model, x, text_len, temperature=1.0, sample=True, top_k=10)[0]\n",
    "        completion = ' '.join([train_dataset.itos[int(i)] for i in y]).replace(' ##', '')\n",
    "        yield completion"
   ]
  },
  {
   "cell_type": "code",
   "execution_count": 16,
   "metadata": {},
   "outputs": [
    {
     "name": "stdout",
     "output_type": "stream",
     "text": [
      "data has 463101 characters, 16955 unique.\n",
      "model is loaded\n",
      "In fact , a new global classroom and most of these students have by based on higher energy and materials . And I ' m pleased to say that far from global warming and mis is that I am I the United States of America and American mercenaries , we must also do something about how we can do to have cities and geopolitical considerations can not over the world . But I will ever give the way to an Iraqi / Iran about anything - Nonproliferation and geopolitical issues\n"
     ]
    }
   ],
   "source": [
    "for x in generate_dataset(pathjoin(GENRE_DATA_DIR, LANG, 'A1.txt'), pathjoin(GPT_MODELS_DIR, LANG, 'A1')):\n",
    "    print(x)"
   ]
  },
  {
   "cell_type": "code",
   "execution_count": 9,
   "metadata": {},
   "outputs": [
    {
     "name": "stdout",
     "output_type": "stream",
     "text": [
      "1\n"
     ]
    }
   ],
   "source": []
  },
  {
   "cell_type": "code",
   "execution_count": null,
   "metadata": {},
   "outputs": [],
   "source": []
  }
 ],
 "metadata": {
  "kernelspec": {
   "display_name": "Python 3",
   "language": "python",
   "name": "python3"
  },
  "language_info": {
   "codemirror_mode": {
    "name": "ipython",
    "version": 3
   },
   "file_extension": ".py",
   "mimetype": "text/x-python",
   "name": "python",
   "nbconvert_exporter": "python",
   "pygments_lexer": "ipython3",
   "version": "3.8.3"
  }
 },
 "nbformat": 4,
 "nbformat_minor": 4
}
