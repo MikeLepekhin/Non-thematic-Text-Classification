{
 "cells": [
  {
   "cell_type": "code",
   "execution_count": 6,
   "metadata": {
    "colab": {
     "base_uri": "https://localhost:8080/",
     "height": 1000
    },
    "colab_type": "code",
    "id": "e0QYDTDTOpNc",
    "outputId": "5aac0564-326f-4700-be7d-7a74a73864c4"
   },
   "outputs": [],
   "source": [
    "#!pip install -v ktrain"
   ]
  },
  {
   "cell_type": "code",
   "execution_count": 7,
   "metadata": {
    "colab": {
     "base_uri": "https://localhost:8080/",
     "height": 34
    },
    "colab_type": "code",
    "id": "zeasuK4lOaw6",
    "outputId": "f0e5a1e7-0776-435d-c909-892111a4024c"
   },
   "outputs": [
    {
     "name": "stdout",
     "output_type": "stream",
     "text": [
      "2.3.0\n"
     ]
    }
   ],
   "source": [
    "import tensorflow as tf\n",
    "from matplotlib import pyplot as plt\n",
    "import pandas as pd\n",
    "import numpy as np\n",
    "from os.path import join as pathjoin\n",
    "print(tf.__version__)"
   ]
  },
  {
   "cell_type": "code",
   "execution_count": 8,
   "metadata": {
    "colab": {
     "base_uri": "https://localhost:8080/",
     "height": 122
    },
    "colab_type": "code",
    "id": "Ffd3FyUVHcHn",
    "outputId": "782b89b9-3b48-40e1-d700-52dd97cbdf1d"
   },
   "outputs": [],
   "source": [
    "DATA_DIR = '/home/mlepekhin/data'\n",
    "MODELS_DIR = '/home/mlepekhin/models'"
   ]
  },
  {
   "cell_type": "markdown",
   "metadata": {
    "colab_type": "text",
    "id": "D7u1KRrHyuYb"
   },
   "source": [
    "Loading of all the datasets"
   ]
  },
  {
   "cell_type": "code",
   "execution_count": 22,
   "metadata": {
    "colab": {},
    "colab_type": "code",
    "id": "HtgDZ6zFgInc"
   },
   "outputs": [],
   "source": [
    "df_en_test = pd.read_csv(pathjoin(DATA_DIR, 'en_test'))\n",
    "df_ru_test = pd.read_csv(pathjoin(DATA_DIR, 'ru_test'))\n",
    "df_en_test100 = pd.read_csv(pathjoin(DATA_DIR, 'en_test_substitution100'))\n",
    "df_ru_test100 = pd.read_csv(pathjoin(DATA_DIR, 'ru_test_substitution100'))\n",
    "df_en_test50 = pd.read_csv(pathjoin(DATA_DIR, 'en_test_substitution50'))\n",
    "df_ru_test50 = pd.read_csv(pathjoin(DATA_DIR, 'ru_test_substitution50'))\n",
    "df_en_test25 = pd.read_csv(pathjoin(DATA_DIR, 'en_test_substitution25'))\n",
    "df_ru_test25 = pd.read_csv(pathjoin(DATA_DIR, 'ru_test_substitution25'))\n",
    "df_en_test10 = pd.read_csv(pathjoin(DATA_DIR, 'en_test_substitution10'))\n",
    "df_ru_test10 = pd.read_csv(pathjoin(DATA_DIR, 'ru_test_substitution10'))\n",
    "\n",
    "df_ru_test_natasha100 = pd.read_csv(pathjoin(DATA_DIR, 'natasha_ru_test_substitution100'))\n",
    "df_ru_test_natasha50 = pd.read_csv(pathjoin(DATA_DIR, 'natasha_ru_test_substitution50'))\n",
    "df_ru_test_natasha25 = pd.read_csv(pathjoin(DATA_DIR, 'natasha_ru_test_substitution25'))\n",
    "df_ru_test_natasha10 = pd.read_csv(pathjoin(DATA_DIR, 'natasha_ru_test_substitution10'))"
   ]
  },
  {
   "cell_type": "code",
   "execution_count": 16,
   "metadata": {
    "colab": {
     "base_uri": "https://localhost:8080/",
     "height": 34
    },
    "colab_type": "code",
    "id": "NmUMjrrwsiR9",
    "outputId": "6deaa0ff-f289-4aa9-88a1-2b9218cb02da"
   },
   "outputs": [
    {
     "data": {
      "text/plain": [
       "(422, 3)"
      ]
     },
     "execution_count": 16,
     "metadata": {},
     "output_type": "execute_result"
    }
   ],
   "source": [
    "df_en_test.values.shape"
   ]
  },
  {
   "cell_type": "code",
   "execution_count": 17,
   "metadata": {
    "colab": {
     "base_uri": "https://localhost:8080/",
     "height": 34
    },
    "colab_type": "code",
    "id": "sDBDYAqITTMP",
    "outputId": "6f0dc279-72bb-4307-b9eb-af914614e3fb"
   },
   "outputs": [
    {
     "name": "stdout",
     "output_type": "stream",
     "text": [
      "['A1' 'A11' 'A12' 'A14' 'A16' 'A17' 'A22' 'A4' 'A7' 'A8' 'A9']\n"
     ]
    }
   ],
   "source": [
    "target_names = np.unique(df_en_test.target)\n",
    "print(target_names)"
   ]
  },
  {
   "cell_type": "code",
   "execution_count": 23,
   "metadata": {
    "colab": {},
    "colab_type": "code",
    "id": "8Yd4zObesrpl"
   },
   "outputs": [],
   "source": [
    "X_test_ru, y_test_ru = df_ru_test['text'].values.astype(str), df_ru_test['target'].values\n",
    "X_test_ru100 = df_ru_test100['text'].values.astype(str)\n",
    "X_test_ru50 = df_ru_test50['text'].values.astype(str)\n",
    "X_test_ru25 = df_ru_test25['text'].values.astype(str)\n",
    "X_test_ru10 = df_ru_test10['text'].values.astype(str)\n",
    "\n",
    "X_test_en, y_test_en = df_en_test['text'].values.astype(str), df_en_test['target'].values\n",
    "X_test_en100 = df_en_test100['text'].values.astype(str)\n",
    "X_test_en50 = df_en_test50['text'].values.astype(str)\n",
    "X_test_en25 = df_en_test25['text'].values.astype(str)\n",
    "X_test_en10 = df_en_test10['text'].values.astype(str)"
   ]
  },
  {
   "cell_type": "code",
   "execution_count": 24,
   "metadata": {},
   "outputs": [],
   "source": [
    "X_test_ru_natasha100 = df_ru_test100_natasha['text'].values.astype(str)\n",
    "X_test_ru_natasha50 = df_ru_test50_natasha['text'].values.astype(str)\n",
    "X_test_ru_natasha25 = df_ru_test25_natasha['text'].values.astype(str)\n",
    "X_test_ru_natasha10 = df_ru_test10_natasha['text'].values.astype(str)"
   ]
  },
  {
   "cell_type": "markdown",
   "metadata": {
    "colab_type": "text",
    "id": "VRmFKGkcy0qm"
   },
   "source": [
    "Initialization of the BERT model"
   ]
  },
  {
   "cell_type": "code",
   "execution_count": null,
   "metadata": {
    "colab": {
     "base_uri": "https://localhost:8080/",
     "height": 306
    },
    "colab_type": "code",
    "id": "x0NAscGhJAQ_",
    "outputId": "b21883f7-5b2b-4d73-fb79-0e00d36f644e"
   },
   "outputs": [
    {
     "name": "stdout",
     "output_type": "stream",
     "text": [
      "preprocessing train...\n",
      "language: en\n",
      "train sequence lengths:\n",
      "\tmean : 1549\n",
      "\t95percentile : 5435\n",
      "\t99percentile : 14755\n"
     ]
    },
    {
     "data": {
      "text/html": [
       "\n",
       "    <div>\n",
       "        <style>\n",
       "            /* Turns off some styling */\n",
       "            progress {\n",
       "                /* gets rid of default border in Firefox and Opera. */\n",
       "                border: none;\n",
       "                /* Needs to be in here for Safari polyfill so background images work as expected. */\n",
       "                background-size: auto;\n",
       "            }\n",
       "            .progress-bar-interrupted, .progress-bar-interrupted::-webkit-progress-bar {\n",
       "                background: #F44336;\n",
       "            }\n",
       "        </style>\n",
       "      <progress value='0' class='' max='1' style='width:300px; height:20px; vertical-align: middle;'></progress>\n",
       "      0.00% [0/1 00:00<00:00]\n",
       "    </div>\n",
       "    \n",
       "\n",
       "\n",
       "    <div>\n",
       "        <style>\n",
       "            /* Turns off some styling */\n",
       "            progress {\n",
       "                /* gets rid of default border in Firefox and Opera. */\n",
       "                border: none;\n",
       "                /* Needs to be in here for Safari polyfill so background images work as expected. */\n",
       "                background-size: auto;\n",
       "            }\n",
       "            .progress-bar-interrupted, .progress-bar-interrupted::-webkit-progress-bar {\n",
       "                background: #F44336;\n",
       "            }\n",
       "        </style>\n",
       "      <progress value='231' class='' max='422' style='width:300px; height:20px; vertical-align: middle;'></progress>\n",
       "      54.74% [231/422 00:12<00:09]\n",
       "    </div>\n",
       "    "
      ],
      "text/plain": [
       "<IPython.core.display.HTML object>"
      ]
     },
     "metadata": {},
     "output_type": "display_data"
    }
   ],
   "source": [
    "import ktrain\n",
    "from ktrain import text\n",
    "\n",
    "MODEL_NAME = 'bert-base-multilingual-cased'\n",
    "t = text.Transformer(MODEL_NAME, maxlen=500, classes=target_names)\n",
    "trn = t.preprocess_train(X_test_en, y_test_en)\n",
    "val = t.preprocess_test(X_test_en, y_test_en)\n",
    "model = t.get_classifier()\n",
    "learner = ktrain.get_learner(model, train_data=trn, val_data=val, batch_size=6)"
   ]
  },
  {
   "cell_type": "markdown",
   "metadata": {
    "colab_type": "text",
    "id": "4YxVHButT3v7"
   },
   "source": [
    "## Reload model"
   ]
  },
  {
   "cell_type": "code",
   "execution_count": null,
   "metadata": {
    "colab": {
     "base_uri": "https://localhost:8080/",
     "height": 1000
    },
    "colab_type": "code",
    "id": "UoqBD0bWu6-r",
    "outputId": "64903bdf-347b-443a-dffc-e50efd9bb325"
   },
   "outputs": [],
   "source": [
    "val_ru = t.preprocess_test(X_test_ru, y_test_ru)\n",
    "val_ru100 = t.preprocess_test(X_test_ru100, y_test_ru)\n",
    "val_ru50 = t.preprocess_test(X_test_ru50, y_test_ru)\n",
    "val_ru25 = t.preprocess_test(X_test_ru25, y_test_ru)\n",
    "val_ru10 = t.preprocess_test(X_test_ru10, y_test_ru)\n",
    "\n",
    "val_ru100_natasha = t.preprocess_test(X_test_ru_natasha100, y_test_ru)\n",
    "val_ru50_natasha = t.preprocess_test(X_test_ru_natasha50, y_test_ru)\n",
    "val_ru25_natasha = t.preprocess_test(X_test_ru_natasha25, y_test_ru)\n",
    "val_ru10_natasha = t.preprocess_test(X_test_ru_natasha10, y_test_ru)\n",
    "\n",
    "val_en = t.preprocess_test(X_test_en, y_test_en)\n",
    "val_en100 = t.preprocess_test(X_test_en100, y_test_en)\n",
    "val_en50 = t.preprocess_test(X_test_en50, y_test_en)\n",
    "val_en25 = t.preprocess_test(X_test_en25, y_test_en)\n",
    "val_en10 = t.preprocess_test(X_test_en10, y_test_en)"
   ]
  },
  {
   "cell_type": "code",
   "execution_count": null,
   "metadata": {
    "colab": {
     "base_uri": "https://localhost:8080/",
     "height": 180
    },
    "colab_type": "code",
    "id": "bCOu8AEqRcuY",
    "outputId": "2c7c4fb8-4782-45df-e24d-db336712cec0"
   },
   "outputs": [],
   "source": [
    "model.load_weights(pathjoin(MODELS_DIR, 'bert_baseline'))"
   ]
  },
  {
   "cell_type": "code",
   "execution_count": null,
   "metadata": {
    "colab": {},
    "colab_type": "code",
    "id": "dXCCi7oHxdgj"
   },
   "outputs": [],
   "source": [
    "learner = ktrain.get_learner(model, train_data=trn, val_data=val, batch_size=6)"
   ]
  },
  {
   "cell_type": "markdown",
   "metadata": {
    "colab_type": "text",
    "id": "brKcDgXhy8ex"
   },
   "source": [
    "### BERT evaluation"
   ]
  },
  {
   "cell_type": "code",
   "execution_count": null,
   "metadata": {
    "colab": {},
    "colab_type": "code",
    "id": "AvbQzShO1mrN"
   },
   "outputs": [],
   "source": [
    "from sklearn.metrics import accuracy_score, f1_score, precision_score, recall_score"
   ]
  },
  {
   "cell_type": "code",
   "execution_count": null,
   "metadata": {
    "colab": {},
    "colab_type": "code",
    "id": "eMsQ-V6qgVnz"
   },
   "outputs": [],
   "source": [
    "def label_to_num(labels):\n",
    "  result = np.zeros_like(labels)\n",
    "  for cat_id, cat_label in enumerate(target_names):\n",
    "    result[labels == cat_label] = cat_id\n",
    "  return result"
   ]
  },
  {
   "cell_type": "code",
   "execution_count": null,
   "metadata": {
    "colab": {},
    "colab_type": "code",
    "id": "JhCJPxb-2dgY"
   },
   "outputs": [],
   "source": [
    "y_test_number_ru = label_to_num(y_test_ru)\n",
    "y_test_number_en = label_to_num(y_test_en)"
   ]
  },
  {
   "cell_type": "code",
   "execution_count": null,
   "metadata": {
    "colab": {},
    "colab_type": "code",
    "id": "W4GY1k9jzs8U"
   },
   "outputs": [],
   "source": [
    "import seaborn as sns\n",
    "from sklearn.metrics import confusion_matrix\n",
    "\n",
    "def evaluate_learner(my_learner, val_data, y_true):\n",
    "  print(\"___________________\")\n",
    "  y_true = y_true.astype(int)\n",
    "  results = my_learner.predict(val_data)\n",
    "  model_pred = np.argmax(results, axis=1).astype(int)\n",
    "  print(\"accuracy\", accuracy_score(model_pred, y_true))\n",
    "  cm = confusion_matrix(model_pred, y_true)\n",
    "  sums = np.sum(cm, axis=1)\n",
    "  normed_cm = (cm.T / sums).T\n",
    "  sns.heatmap(normed_cm)"
   ]
  },
  {
   "cell_type": "code",
   "execution_count": null,
   "metadata": {},
   "outputs": [],
   "source": [
    "evaluate_learner(learner, val_ru, y_test_number_ru)\n",
    "evaluate_learner(learner, val_ru100_natasha, y_test_number_ru)\n",
    "evaluate_learner(learner, val_ru50_natasha, y_test_number_ru)\n",
    "evaluate_learner(learner, val_ru25_natasha, y_test_number_ru)\n",
    "evaluate_learner(learner, val_ru10_natasha, y_test_number_ru)"
   ]
  },
  {
   "cell_type": "code",
   "execution_count": 30,
   "metadata": {
    "colab": {
     "base_uri": "https://localhost:8080/",
     "height": 473
    },
    "colab_type": "code",
    "id": "XiQNJCQqzxfY",
    "outputId": "0eedace1-e9c8-45af-ba88-e0d3084164cc"
   },
   "outputs": [
    {
     "name": "stdout",
     "output_type": "stream",
     "text": [
      "___________________\n",
      "accuracy 0.8074534161490683\n",
      "___________________\n",
      "accuracy 0.08074534161490683\n",
      "___________________\n"
     ]
    },
    {
     "name": "stderr",
     "output_type": "stream",
     "text": [
      "/usr/local/lib/python3.6/dist-packages/ipykernel_launcher.py:12: RuntimeWarning: invalid value encountered in true_divide\n",
      "  if sys.path[0] == '':\n"
     ]
    },
    {
     "name": "stdout",
     "output_type": "stream",
     "text": [
      "accuracy 0.525879917184265\n",
      "___________________\n",
      "accuracy 0.6563146997929606\n",
      "___________________\n",
      "accuracy 0.7287784679089027\n"
     ]
    },
    {
     "data": {
      "image/png": "[encoded data removed]",
      "text/plain": [
       "<Figure size 432x288 with 6 Axes>"
      ]
     },
     "metadata": {
      "needs_background": "light",
      "tags": []
     },
     "output_type": "display_data"
    }
   ],
   "source": [
    "evaluate_learner(learner, val_ru, y_test_number_ru)\n",
    "evaluate_learner(learner, val_ru100, y_test_number_ru)\n",
    "evaluate_learner(learner, val_ru50, y_test_number_ru)\n",
    "evaluate_learner(learner, val_ru25, y_test_number_ru)\n",
    "evaluate_learner(learner, val_ru10, y_test_number_ru)"
   ]
  },
  {
   "cell_type": "markdown",
   "metadata": {
    "colab_type": "text",
    "id": "3sP_jyROs9IS"
   },
   "source": [
    "['A1' 'A11' 'A12' 'A14' 'A16' 'A17' 'A22' 'A4' 'A7' 'A8' 'A9']"
   ]
  },
  {
   "cell_type": "code",
   "execution_count": 31,
   "metadata": {
    "colab": {
     "base_uri": "https://localhost:8080/",
     "height": 473
    },
    "colab_type": "code",
    "id": "CU3U05_RyJXx",
    "outputId": "25bee438-afe9-441d-b32e-3d6838ad98e0"
   },
   "outputs": [
    {
     "name": "stdout",
     "output_type": "stream",
     "text": [
      "___________________\n",
      "accuracy 0.7109004739336493\n",
      "___________________\n",
      "accuracy 0.12559241706161137\n",
      "___________________\n",
      "accuracy 0.3222748815165877\n",
      "___________________\n"
     ]
    },
    {
     "name": "stderr",
     "output_type": "stream",
     "text": [
      "/usr/local/lib/python3.6/dist-packages/ipykernel_launcher.py:12: RuntimeWarning: invalid value encountered in true_divide\n",
      "  if sys.path[0] == '':\n"
     ]
    },
    {
     "name": "stdout",
     "output_type": "stream",
     "text": [
      "accuracy 0.4052132701421801\n",
      "___________________\n",
      "accuracy 0.4786729857819905\n"
     ]
    },
    {
     "data": {
      "image/png": "[encoded data removed]",
      "text/plain": [
       "<Figure size 432x288 with 6 Axes>"
      ]
     },
     "metadata": {
      "needs_background": "light",
      "tags": []
     },
     "output_type": "display_data"
    }
   ],
   "source": [
    "evaluate_learner(learner, val_en, y_test_number_en)\n",
    "evaluate_learner(learner, val_en100, y_test_number_en)\n",
    "evaluate_learner(learner, val_en50, y_test_number_en)\n",
    "evaluate_learner(learner, val_en25, y_test_number_en)\n",
    "evaluate_learner(learner, val_en10, y_test_number_en)"
   ]
  },
  {
   "cell_type": "code",
   "execution_count": null,
   "metadata": {
    "colab": {},
    "colab_type": "code",
    "id": "E7LTHjbzyN56"
   },
   "outputs": [],
   "source": []
  }
 ],
 "metadata": {
  "accelerator": "GPU",
  "colab": {
   "collapsed_sections": [],
   "name": "test_bert_on_datasets_with_substitution.ipynb",
   "provenance": []
  },
  "kernelspec": {
   "display_name": "Python 3",
   "language": "python",
   "name": "python3"
  },
  "language_info": {
   "codemirror_mode": {
    "name": "ipython",
    "version": 3
   },
   "file_extension": ".py",
   "mimetype": "text/x-python",
   "name": "python",
   "nbconvert_exporter": "python",
   "pygments_lexer": "ipython3",
   "version": "3.8.3"
  }
 },
 "nbformat": 4,
 "nbformat_minor": 1
}
