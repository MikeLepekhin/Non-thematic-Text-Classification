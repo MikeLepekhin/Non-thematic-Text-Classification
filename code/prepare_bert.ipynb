{
 "cells": [
  {
   "cell_type": "code",
   "execution_count": 9,
   "metadata": {
    "colab": {
     "base_uri": "https://localhost:8080/",
     "height": 1000
    },
    "colab_type": "code",
    "id": "e0QYDTDTOpNc",
    "outputId": "8ea3df03-93e9-433c-af72-d162691c1749"
   },
   "outputs": [],
   "source": [
    "#!pip install -v ktrain\n",
    "#!pip install 'tensorflow-gpu>=2.2.0'"
   ]
  },
  {
   "cell_type": "code",
   "execution_count": 4,
   "metadata": {
    "colab": {
     "base_uri": "https://localhost:8080/",
     "height": 34
    },
    "colab_type": "code",
    "id": "zeasuK4lOaw6",
    "outputId": "7dffeb6a-8010-42c1-8083-aaf34ade85ec"
   },
   "outputs": [
    {
     "name": "stdout",
     "output_type": "stream",
     "text": [
      "2.3.0\n"
     ]
    }
   ],
   "source": [
    "import tensorflow as tf\n",
    "from matplotlib import pyplot as plt\n",
    "import pandas as pd\n",
    "import numpy as np\n",
    "from os.path import join as pathjoin\n",
    "\n",
    "print(tf.__version__)"
   ]
  },
  {
   "cell_type": "code",
   "execution_count": 5,
   "metadata": {
    "scrolled": true
   },
   "outputs": [
    {
     "data": {
      "text/plain": [
       "'/device:GPU:0'"
      ]
     },
     "execution_count": 5,
     "metadata": {},
     "output_type": "execute_result"
    }
   ],
   "source": [
    "from tensorflow.python.client import device_lib\n",
    "#print(device_lib.list_local_devices())\n",
    "#print(tf.config.experimental.list_physical_devices('XLA_GPU'))\n",
    "tf.test.gpu_device_name()"
   ]
  },
  {
   "cell_type": "code",
   "execution_count": 6,
   "metadata": {},
   "outputs": [],
   "source": [
    "#!mkdir '/home/mlepekhin/models'"
   ]
  },
  {
   "cell_type": "code",
   "execution_count": 7,
   "metadata": {},
   "outputs": [],
   "source": [
    "DATA_DIR = '/home/mlepekhin/data'\n",
    "MODELS_DIR = '/home/mlepekhin/models'"
   ]
  },
  {
   "cell_type": "code",
   "execution_count": 8,
   "metadata": {
    "colab": {},
    "colab_type": "code",
    "id": "HtgDZ6zFgInc"
   },
   "outputs": [],
   "source": [
    "df_en_test = pd.read_csv(pathjoin(DATA_DIR, 'en_test'))\n",
    "df_ru_test = pd.read_csv(pathjoin(DATA_DIR, 'ru_test'))\n",
    "df_multi_train = pd.read_csv(pathjoin(DATA_DIR, 'multi_train'))\n",
    "df_multi_test = pd.read_csv(pathjoin(DATA_DIR, 'multi_test'))\n",
    "df_multi_train_balanced = pd.read_csv(pathjoin(DATA_DIR, 'multi_train_balanced'))"
   ]
  },
  {
   "cell_type": "code",
   "execution_count": 9,
   "metadata": {
    "colab": {
     "base_uri": "https://localhost:8080/",
     "height": 34
    },
    "colab_type": "code",
    "id": "NmUMjrrwsiR9",
    "outputId": "e3fa6670-3b4a-432d-9b0b-b7462a31e4b4"
   },
   "outputs": [
    {
     "data": {
      "text/plain": [
       "(422, 3)"
      ]
     },
     "execution_count": 9,
     "metadata": {},
     "output_type": "execute_result"
    }
   ],
   "source": [
    "df_en_test.values.shape"
   ]
  },
  {
   "cell_type": "code",
   "execution_count": 10,
   "metadata": {
    "colab": {
     "base_uri": "https://localhost:8080/",
     "height": 34
    },
    "colab_type": "code",
    "id": "sDBDYAqITTMP",
    "outputId": "e6822461-83ff-473e-b4e6-146db8439ea4"
   },
   "outputs": [
    {
     "name": "stdout",
     "output_type": "stream",
     "text": [
      "['A1' 'A11' 'A12' 'A14' 'A16' 'A17' 'A22' 'A4' 'A7' 'A8' 'A9']\n"
     ]
    }
   ],
   "source": [
    "target_names = np.unique(df_multi_train.target)\n",
    "print(target_names)"
   ]
  },
  {
   "cell_type": "code",
   "execution_count": 11,
   "metadata": {
    "colab": {},
    "colab_type": "code",
    "id": "WTi9KRXMkl9m"
   },
   "outputs": [],
   "source": [
    "X_train, X_test = df_multi_train['text'].values, df_multi_test['text'].values\n",
    "y_train, y_test = df_multi_train['target'].values, df_multi_test['target'].values\n",
    "\n",
    "X_train_balanced = df_multi_train_balanced['text'].values\n",
    "y_train_balanced = df_multi_train_balanced['target'].values\n",
    "\n",
    "X_test_ru = df_ru_test['text'].values\n",
    "y_test_ru = df_ru_test['target'].values\n",
    "X_test_en = df_en_test['text'].values\n",
    "y_test_en = df_en_test['target'].values"
   ]
  },
  {
   "cell_type": "code",
   "execution_count": 12,
   "metadata": {
    "colab": {
     "base_uri": "https://localhost:8080/",
     "height": 453,
     "referenced_widgets": [
      "b0ce8568eb2c4e10822225bbac9cae79",
      "61be264551e64e97acb3fe1f6b3d4477",
      "ba151daef52a41b08bb18fcf73870d1c",
      "6658e3b654574da3b89dc52659b0c939",
      "34496463c2224098b1093f34be3e5f75",
      "051fca423a514ebc8e664757a924c1e2",
      "08a178b31ae84c25bf092ddae2c36094",
      "720e016e2ddd45c3bd59bcda28c3e7e3",
      "ced7942ae2e4483d8e37ec65813a7c9f",
      "79cafa7250c64481905743912e542dcc",
      "454bc7476f4e4bfaae10077b22baf612",
      "f4898114daba428aa1a864935280921c",
      "5353eae5a54d422ea3db96c49c7d82aa",
      "85ef08e52eec4d8fbe08d5c0520b082f",
      "f3e784fffe104a7fab97e81eb57406fc",
      "9cdf39091d644ca6822e3ff81e123e43",
      "d8c1cffe224c441a93cde8b19babe295",
      "4ada8e26de34426cb6dd70cae6b87b28",
      "d9e26e09727745f4af4b0b33b816b5ee",
      "be029d39855c4090acd5a33905d30cee",
      "31735425b40f42fd86c6f9f9ee075560",
      "cc2f326e367e45568a4a1228b8c95623",
      "edc2d7a660b74cf592ae657ce84d9fad",
      "f46c25be394d4d948f1a0b5d8f007a2b"
     ]
    },
    "colab_type": "code",
    "id": "x0NAscGhJAQ_",
    "outputId": "ea031e55-1a1d-451b-e64e-abd7ec0df7f9"
   },
   "outputs": [
    {
     "name": "stderr",
     "output_type": "stream",
     "text": [
      "/home/mlepekhin/anaconda3/envs/mlepekhin_research/lib/python3.8/site-packages/ktrain/text/preprocessor.py:399: UserWarning: The class_names argument is replacing the classes argument. Please update your code.\n",
      "  warnings.warn('The class_names argument is replacing the classes argument. Please update your code.')\n"
     ]
    },
    {
     "name": "stdout",
     "output_type": "stream",
     "text": [
      "preprocessing train...\n",
      "language: en\n",
      "train sequence lengths:\n",
      "\tmean : 1352\n",
      "\t95percentile : 5063\n",
      "\t99percentile : 12128\n"
     ]
    },
    {
     "name": "stderr",
     "output_type": "stream",
     "text": [
      "/home/mlepekhin/anaconda3/envs/mlepekhin_research/lib/python3.8/site-packages/ktrain/text/preprocessor.py:523: UserWarning: class_names argument was ignored, as they were extracted from string labels in dataset\n",
      "  if self.get_classes(): warnings.warn('class_names argument was ignored, as they were extracted from string labels in dataset')\n"
     ]
    },
    {
     "data": {
      "text/html": [],
      "text/plain": [
       "<IPython.core.display.HTML object>"
      ]
     },
     "metadata": {},
     "output_type": "display_data"
    },
    {
     "name": "stdout",
     "output_type": "stream",
     "text": [
      "Is Multi-Label? False\n",
      "preprocessing test...\n",
      "language: en\n",
      "test sequence lengths:\n",
      "\tmean : 1345\n",
      "\t95percentile : 5237\n",
      "\t99percentile : 11842\n"
     ]
    },
    {
     "data": {
      "text/html": [],
      "text/plain": [
       "<IPython.core.display.HTML object>"
      ]
     },
     "metadata": {},
     "output_type": "display_data"
    }
   ],
   "source": [
    "import ktrain\n",
    "from ktrain import text\n",
    "\n",
    "MODEL_NAME = 'bert-base-multilingual-cased'\n",
    "t = text.Transformer(MODEL_NAME, maxlen=500, classes=target_names)\n",
    "trn = t.preprocess_train(X_train, y_train)\n",
    "val = t.preprocess_test(X_test, y_test)\n",
    "model = t.get_classifier()\n",
    "learner = ktrain.get_learner(model, train_data=trn, val_data=val, batch_size=6)"
   ]
  },
  {
   "cell_type": "code",
   "execution_count": 13,
   "metadata": {
    "colab": {
     "base_uri": "https://localhost:8080/",
     "height": 272
    },
    "colab_type": "code",
    "id": "q4UqWFhylGpN",
    "outputId": "25fa1f3d-9e1f-40d4-ceb8-882c9c3c47e7"
   },
   "outputs": [
    {
     "name": "stdout",
     "output_type": "stream",
     "text": [
      "\n",
      "\n",
      "begin training using onecycle policy with max lr of 5e-05...\n",
      "Epoch 1/5\n",
      "452/452 [==============================] - 154s 340ms/step - loss: 1.5616 - accuracy: 0.5083 - val_loss: 1.0664 - val_accuracy: 0.6729\n",
      "Epoch 2/5\n",
      "452/452 [==============================] - 156s 346ms/step - loss: 1.0336 - accuracy: 0.6765 - val_loss: 1.1603 - val_accuracy: 0.6199\n",
      "Epoch 3/5\n",
      "452/452 [==============================] - 161s 357ms/step - loss: 0.7910 - accuracy: 0.7488 - val_loss: 1.0214 - val_accuracy: 0.6663\n",
      "Epoch 4/5\n",
      "452/452 [==============================] - 161s 357ms/step - loss: 0.4547 - accuracy: 0.8587 - val_loss: 0.8496 - val_accuracy: 0.7448\n",
      "Epoch 5/5\n",
      "452/452 [==============================] - 161s 357ms/step - loss: 0.1634 - accuracy: 0.9557 - val_loss: 0.8588 - val_accuracy: 0.7492\n"
     ]
    },
    {
     "data": {
      "text/plain": [
       "<tensorflow.python.keras.callbacks.History at 0x7f125409d4f0>"
      ]
     },
     "execution_count": 13,
     "metadata": {},
     "output_type": "execute_result"
    }
   ],
   "source": [
    "learner.fit_onecycle(5e-5, 5)"
   ]
  },
  {
   "cell_type": "code",
   "execution_count": 14,
   "metadata": {
    "colab": {},
    "colab_type": "code",
    "id": "AvbQzShO1mrN"
   },
   "outputs": [],
   "source": [
    "from sklearn.metrics import accuracy_score, f1_score, precision_score, recall_score"
   ]
  },
  {
   "cell_type": "code",
   "execution_count": 15,
   "metadata": {
    "colab": {},
    "colab_type": "code",
    "id": "eMsQ-V6qgVnz"
   },
   "outputs": [],
   "source": [
    "def label_to_num(labels):\n",
    "  result = np.zeros_like(labels)\n",
    "  for cat_id, cat_label in enumerate(target_names):\n",
    "    result[labels == cat_label] = cat_id\n",
    "  return result"
   ]
  },
  {
   "cell_type": "code",
   "execution_count": 16,
   "metadata": {
    "colab": {},
    "colab_type": "code",
    "id": "JhCJPxb-2dgY"
   },
   "outputs": [],
   "source": [
    "y_test_number = label_to_num(y_test)\n",
    "y_test_number_ru = label_to_num(y_test_ru)\n",
    "y_test_number_en = label_to_num(y_test_en)"
   ]
  },
  {
   "cell_type": "code",
   "execution_count": 17,
   "metadata": {
    "colab": {
     "base_uri": "https://localhost:8080/",
     "height": 238
    },
    "colab_type": "code",
    "id": "XXPNqEUjhoig",
    "outputId": "fba79d79-81ee-4cb0-e0e2-90d5d4079c4d"
   },
   "outputs": [
    {
     "name": "stdout",
     "output_type": "stream",
     "text": [
      "[7 8 1 3 2 0 2 0 7 9 0 6 6 0 2 4 10 2 2 6 8 0 6 4 9 4 0 9 4 5 3 6 9 4 2 8\n",
      " 0 3 8 8 3 6 4 2 6 6 10 2 5 3 8 4 2 2 0 2 8 9 3 9 0 4 6 0 7 0 10 4 1 0 7 7\n",
      " 8 9 0 7 2 6 4 0 2 8 6 0 2 4 9 0 1 4 6 8 0 0 6 10 9 0 2 7 0 4 8 5 6 2 6 4\n",
      " 0 6 6 2 8 0 2 4 8 7 5 2 2 2 0 9 9 2 6 0 7 0 2 3 3 8 7 2 0 2 8 10 1 6 0 8\n",
      " 0 8 2 6 10 4 10 9 0 7 10 2 3 7 0 9 0 0 6 5 8 8 0 10 1 1 6 8 2 4 9 2 0 4 6\n",
      " 8 8 8 2 8 5 7 1 9 1 6 8 5 8 0 8 8 8 4 3 6 2 4 0 9 2 3 2 3 4 4 10 8 5 1 6\n",
      " 6 9 6 6 3 5 0 2 6 7 0 2 2 8 6 2 0 9 8 6 2 7 2 8 0 6 9 2 2 5 5 6 2 1 1 0 6\n",
      " 2 6 6 8 9 5 5 7 4 9 1 0 6 5 1 7 7 9 9 7 4 0 0 0 5 8 4 2 0 0 9 9 4 2 0 8 2\n",
      " 7 10 9 7 0 4 6 9 2 9 2 0 2 0 0 3 0 3 0 7 2 0 7 1 8 5 0 0 0 5 2 2 0 0 5 8\n",
      " 0 0 9 9 7 4 2 2 9 0 0 4 1 4 6 8 9 8 8 2 8 8 2 9 10 1 5 0 3 9 2 0 0 0 2 3\n",
      " 7 4 8 2 2 10 10 9 8 0 0 2 4 3 6 10 2 2 5 4 6 6 9 3 0 7 4 8 1 0 2 3 1 4 5\n",
      " 8 7 0 0 2 0 8 3 8 0 4 4 6 5 4 9 10 10 2 0 1 7 3 3 6 8]\n",
      "<class 'numpy.ndarray'>\n"
     ]
    }
   ],
   "source": [
    "print(y_test_number_en)\n",
    "\n",
    "\n",
    "print(type(y_test_number_en))"
   ]
  },
  {
   "cell_type": "code",
   "execution_count": 18,
   "metadata": {
    "colab": {},
    "colab_type": "code",
    "id": "1cYdf2iOHv21"
   },
   "outputs": [],
   "source": [
    "learner.model.save_weights(pathjoin(MODELS_DIR, 'bert_baseline'))"
   ]
  },
  {
   "cell_type": "markdown",
   "metadata": {
    "colab_type": "text",
    "id": "4YxVHButT3v7"
   },
   "source": [
    "## Reload model"
   ]
  },
  {
   "cell_type": "code",
   "execution_count": 19,
   "metadata": {
    "colab": {
     "base_uri": "https://localhost:8080/",
     "height": 306
    },
    "colab_type": "code",
    "id": "F4VpaWjCPzvs",
    "outputId": "574a5d82-02d6-4e0f-8cd9-4334e5c4836a"
   },
   "outputs": [
    {
     "name": "stderr",
     "output_type": "stream",
     "text": [
      "/home/mlepekhin/anaconda3/envs/mlepekhin_research/lib/python3.8/site-packages/ktrain/text/preprocessor.py:399: UserWarning: The class_names argument is replacing the classes argument. Please update your code.\n",
      "  warnings.warn('The class_names argument is replacing the classes argument. Please update your code.')\n"
     ]
    },
    {
     "name": "stdout",
     "output_type": "stream",
     "text": [
      "preprocessing train...\n",
      "language: en\n",
      "train sequence lengths:\n",
      "\tmean : 1352\n",
      "\t95percentile : 5063\n",
      "\t99percentile : 12128\n"
     ]
    },
    {
     "name": "stderr",
     "output_type": "stream",
     "text": [
      "/home/mlepekhin/anaconda3/envs/mlepekhin_research/lib/python3.8/site-packages/ktrain/text/preprocessor.py:523: UserWarning: class_names argument was ignored, as they were extracted from string labels in dataset\n",
      "  if self.get_classes(): warnings.warn('class_names argument was ignored, as they were extracted from string labels in dataset')\n"
     ]
    },
    {
     "data": {
      "text/html": [],
      "text/plain": [
       "<IPython.core.display.HTML object>"
      ]
     },
     "metadata": {},
     "output_type": "display_data"
    },
    {
     "name": "stdout",
     "output_type": "stream",
     "text": [
      "Is Multi-Label? False\n",
      "preprocessing test...\n",
      "language: en\n",
      "test sequence lengths:\n",
      "\tmean : 1345\n",
      "\t95percentile : 5237\n",
      "\t99percentile : 11842\n"
     ]
    },
    {
     "data": {
      "text/html": [],
      "text/plain": [
       "<IPython.core.display.HTML object>"
      ]
     },
     "metadata": {},
     "output_type": "display_data"
    }
   ],
   "source": [
    "LOAD_MODEL_NAME = 'bert-base-multilingual-cased'\n",
    "load_t = text.Transformer(MODEL_NAME, maxlen=500, classes=target_names)\n",
    "load_trn = load_t.preprocess_train(X_train, y_train)\n",
    "load_val = load_t.preprocess_test(X_test, y_test)\n",
    "load_model = load_t.get_classifier()"
   ]
  },
  {
   "cell_type": "code",
   "execution_count": 21,
   "metadata": {
    "colab": {
     "base_uri": "https://localhost:8080/",
     "height": 34
    },
    "colab_type": "code",
    "id": "bCOu8AEqRcuY",
    "outputId": "86cb6e48-3641-48ad-bd89-3f20cc1e7a30"
   },
   "outputs": [
    {
     "data": {
      "text/plain": [
       "<tensorflow.python.training.tracking.util.CheckpointLoadStatus at 0x7f116005ea00>"
      ]
     },
     "execution_count": 21,
     "metadata": {},
     "output_type": "execute_result"
    }
   ],
   "source": [
    "load_model.load_weights(pathjoin(MODELS_DIR, 'bert_baseline'))"
   ]
  },
  {
   "cell_type": "code",
   "execution_count": 22,
   "metadata": {
    "colab": {},
    "colab_type": "code",
    "id": "_HcNPealZraw"
   },
   "outputs": [],
   "source": [
    "load_learner = ktrain.get_learner(load_model, train_data=trn, val_data=val, batch_size=6)"
   ]
  },
  {
   "cell_type": "code",
   "execution_count": 23,
   "metadata": {
    "colab": {
     "base_uri": "https://localhost:8080/",
     "height": 221
    },
    "colab_type": "code",
    "id": "I0sbXm4Foi-Z",
    "outputId": "4aec8140-2382-4665-b46b-9a06c1d9106b"
   },
   "outputs": [
    {
     "name": "stdout",
     "output_type": "stream",
     "text": [
      "preprocessing test...\n",
      "language: en\n",
      "test sequence lengths:\n",
      "\tmean : 1168\n",
      "\t95percentile : 4802\n",
      "\t99percentile : 9057\n"
     ]
    },
    {
     "data": {
      "text/html": [],
      "text/plain": [
       "<IPython.core.display.HTML object>"
      ]
     },
     "metadata": {},
     "output_type": "display_data"
    },
    {
     "name": "stdout",
     "output_type": "stream",
     "text": [
      "preprocessing test...\n",
      "language: en\n",
      "test sequence lengths:\n",
      "\tmean : 1549\n",
      "\t95percentile : 5435\n",
      "\t99percentile : 14755\n"
     ]
    },
    {
     "data": {
      "text/html": [],
      "text/plain": [
       "<IPython.core.display.HTML object>"
      ]
     },
     "metadata": {},
     "output_type": "display_data"
    }
   ],
   "source": [
    "val_ru = t.preprocess_test(X_test_ru, y_test_number_ru)\n",
    "val_en = t.preprocess_test(X_test_en, y_test_number_en)"
   ]
  },
  {
   "cell_type": "code",
   "execution_count": 24,
   "metadata": {
    "colab": {},
    "colab_type": "code",
    "id": "W4GY1k9jzs8U"
   },
   "outputs": [],
   "source": [
    "import seaborn as sns\n",
    "from sklearn.metrics import confusion_matrix\n",
    "\n",
    "def evaluate_learner(my_learner, val_data, y_true):\n",
    "  print(\"___________________\")\n",
    "  y_true = y_true.astype(int)\n",
    "  results = my_learner.predict(val_data)\n",
    "  model_pred = np.argmax(results, axis=1).astype(int)\n",
    "  print(\"accuracy\", accuracy_score(model_pred, y_true))\n",
    "  cm = confusion_matrix(model_pred, y_true)\n",
    "  sums = np.sum(cm, axis=1)\n",
    "  normed_cm = (cm.T / sums).T\n",
    "  print(normed_cm)\n",
    "  sns.heatmap(normed_cm)\n",
    "\n",
    "  #discPred = (np.sum(np.logical_and(y_true == 0, binary == 0)), np.sum(np.logical_and(y_true == 0, binary == 1)))\n",
    "  #infoPred = (np.sum(np.logical_and(y_true == 1, binary == 0)), np.sum(np.logical_and(y_true == 1, binary == 1)))\n",
    "  #fig, ax = plt.subplots()\n",
    "  #ind = np.arange(2)    # the x locations for the groups\n",
    "  #width = 0.35         # the width of the bars\n",
    "  #p1 = ax.bar(ind, discPred, width, bottom=0)\n",
    "  #p2 = ax.bar(ind + width, infoPred, width, bottom=0)\n",
    "\n",
    "  #ax.set_title('Classification Labels')\n",
    "  #ax.set_xticks(ind + width / 2)\n",
    "  #ax.set_xticklabels(('actual=discussion', 'actual=info'))\n",
    "  #ax.legend((p1[0], p2[0]), ('discussion', 'info'))\n",
    "  #ax.autoscale_view()\n",
    "  #plt.show()\n",
    "\n",
    "def evaluate_multi(my_learner):\n",
    "  evaluate_learner(my_learner, val, np.array(y_test_number))\n",
    "\n",
    "def evaluate_ru(my_learner):\n",
    "  evaluate_learner(my_learner, val_ru, y_test_number_ru)\n",
    "\n",
    "def evaluate_en(my_learner):\n",
    "  evaluate_learner(my_learner, val_en, y_test_number_en)"
   ]
  },
  {
   "cell_type": "code",
   "execution_count": 25,
   "metadata": {
    "colab": {
     "base_uri": "https://localhost:8080/",
     "height": 673
    },
    "colab_type": "code",
    "id": "XiQNJCQqzxfY",
    "outputId": "e51984f6-4a29-4346-c288-d3f95339949c"
   },
   "outputs": [
    {
     "name": "stdout",
     "output_type": "stream",
     "text": [
      "___________________\n",
      "accuracy 0.7491712707182321\n",
      "[[0.64880952 0.07738095 0.0297619  0.03571429 0.04761905 0.01785714\n",
      "  0.01190476 0.01190476 0.05952381 0.04761905 0.01190476]\n",
      " [0.12676056 0.6056338  0.02816901 0.02816901 0.01408451 0.08450704\n",
      "  0.02816901 0.05633803 0.01408451 0.01408451 0.        ]\n",
      " [0.04347826 0.         0.80745342 0.01863354 0.01863354 0.01242236\n",
      "  0.03726708 0.         0.05590062 0.00621118 0.        ]\n",
      " [0.05714286 0.02857143 0.         0.81428571 0.07142857 0.\n",
      "  0.         0.         0.         0.02857143 0.        ]\n",
      " [0.11111111 0.         0.02469136 0.03703704 0.60493827 0.0617284\n",
      "  0.         0.0617284  0.03703704 0.03703704 0.02469136]\n",
      " [0.04081633 0.10204082 0.06122449 0.         0.         0.73469388\n",
      "  0.         0.04081633 0.         0.02040816 0.        ]\n",
      " [0.         0.         0.         0.         0.03846154 0.\n",
      "  0.96153846 0.         0.         0.         0.        ]\n",
      " [0.07142857 0.02380952 0.         0.         0.         0.\n",
      "  0.         0.9047619  0.         0.         0.        ]\n",
      " [0.03030303 0.01515152 0.10606061 0.         0.01515152 0.01515152\n",
      "  0.15151515 0.         0.65151515 0.         0.01515152]\n",
      " [0.05517241 0.02068966 0.0137931  0.00689655 0.02068966 0.02068966\n",
      "  0.         0.         0.         0.85517241 0.00689655]\n",
      " [0.03846154 0.         0.         0.         0.         0.\n",
      "  0.         0.         0.03846154 0.         0.92307692]]\n"
     ]
    },
    {
     "data": {
      "image/png": "[encoded data removed]",
      "text/plain": [
       "<Figure size 432x288 with 2 Axes>"
      ]
     },
     "metadata": {
      "needs_background": "light"
     },
     "output_type": "display_data"
    }
   ],
   "source": [
    "evaluate_multi(load_learner)"
   ]
  },
  {
   "cell_type": "markdown",
   "metadata": {
    "colab_type": "text",
    "id": "3sP_jyROs9IS"
   },
   "source": [
    "['A1' 'A11' 'A12' 'A14' 'A16' 'A17' 'A22' 'A4' 'A7' 'A8' 'A9']"
   ]
  }
 ],
 "metadata": {
  "accelerator": "GPU",
  "colab": {
   "collapsed_sections": [],
   "name": "abbyy_comment_multi_classification_prepare_bert.ipynb",
   "provenance": []
  },
  "kernelspec": {
   "display_name": "Python 3",
   "language": "python",
   "name": "python3"
  },
  "language_info": {
   "codemirror_mode": {
    "name": "ipython",
    "version": 3
   },
   "file_extension": ".py",
   "mimetype": "text/x-python",
   "name": "python",
   "nbconvert_exporter": "python",
   "pygments_lexer": "ipython3",
   "version": "3.8.3"
  },
  "widgets": {
   "application/vnd.jupyter.widget-state+json": {
    "051fca423a514ebc8e664757a924c1e2": {
     "model_module": "@jupyter-widgets/base",
     "model_name": "LayoutModel",
     "state": {
      "_model_module": "@jupyter-widgets/base",
      "_model_module_version": "1.2.0",
      "_model_name": "LayoutModel",
      "_view_count": null,
      "_view_module": "@jupyter-widgets/base",
      "_view_module_version": "1.2.0",
      "_view_name": "LayoutView",
      "align_content": null,
      "align_items": null,
      "align_self": null,
      "border": null,
      "bottom": null,
      "display": null,
      "flex": null,
      "flex_flow": null,
      "grid_area": null,
      "grid_auto_columns": null,
      "grid_auto_flow": null,
      "grid_auto_rows": null,
      "grid_column": null,
      "grid_gap": null,
      "grid_row": null,
      "grid_template_areas": null,
      "grid_template_columns": null,
      "grid_template_rows": null,
      "height": null,
      "justify_content": null,
      "justify_items": null,
      "left": null,
      "margin": null,
      "max_height": null,
      "max_width": null,
      "min_height": null,
      "min_width": null,
      "object_fit": null,
      "object_position": null,
      "order": null,
      "overflow": null,
      "overflow_x": null,
      "overflow_y": null,
      "padding": null,
      "right": null,
      "top": null,
      "visibility": null,
      "width": null
     }
    },
    "08a178b31ae84c25bf092ddae2c36094": {
     "model_module": "@jupyter-widgets/controls",
     "model_name": "DescriptionStyleModel",
     "state": {
      "_model_module": "@jupyter-widgets/controls",
      "_model_module_version": "1.5.0",
      "_model_name": "DescriptionStyleModel",
      "_view_count": null,
      "_view_module": "@jupyter-widgets/base",
      "_view_module_version": "1.2.0",
      "_view_name": "StyleView",
      "description_width": ""
     }
    },
    "31735425b40f42fd86c6f9f9ee075560": {
     "model_module": "@jupyter-widgets/controls",
     "model_name": "ProgressStyleModel",
     "state": {
      "_model_module": "@jupyter-widgets/controls",
      "_model_module_version": "1.5.0",
      "_model_name": "ProgressStyleModel",
      "_view_count": null,
      "_view_module": "@jupyter-widgets/base",
      "_view_module_version": "1.2.0",
      "_view_name": "StyleView",
      "bar_color": null,
      "description_width": "initial"
     }
    },
    "34496463c2224098b1093f34be3e5f75": {
     "model_module": "@jupyter-widgets/controls",
     "model_name": "ProgressStyleModel",
     "state": {
      "_model_module": "@jupyter-widgets/controls",
      "_model_module_version": "1.5.0",
      "_model_name": "ProgressStyleModel",
      "_view_count": null,
      "_view_module": "@jupyter-widgets/base",
      "_view_module_version": "1.2.0",
      "_view_name": "StyleView",
      "bar_color": null,
      "description_width": "initial"
     }
    },
    "454bc7476f4e4bfaae10077b22baf612": {
     "model_module": "@jupyter-widgets/controls",
     "model_name": "FloatProgressModel",
     "state": {
      "_dom_classes": [],
      "_model_module": "@jupyter-widgets/controls",
      "_model_module_version": "1.5.0",
      "_model_name": "FloatProgressModel",
      "_view_count": null,
      "_view_module": "@jupyter-widgets/controls",
      "_view_module_version": "1.5.0",
      "_view_name": "ProgressView",
      "bar_style": "success",
      "description": "Downloading: 100%",
      "description_tooltip": null,
      "layout": "IPY_MODEL_85ef08e52eec4d8fbe08d5c0520b082f",
      "max": 625,
      "min": 0,
      "orientation": "horizontal",
      "style": "IPY_MODEL_5353eae5a54d422ea3db96c49c7d82aa",
      "value": 625
     }
    },
    "4ada8e26de34426cb6dd70cae6b87b28": {
     "model_module": "@jupyter-widgets/base",
     "model_name": "LayoutModel",
     "state": {
      "_model_module": "@jupyter-widgets/base",
      "_model_module_version": "1.2.0",
      "_model_name": "LayoutModel",
      "_view_count": null,
      "_view_module": "@jupyter-widgets/base",
      "_view_module_version": "1.2.0",
      "_view_name": "LayoutView",
      "align_content": null,
      "align_items": null,
      "align_self": null,
      "border": null,
      "bottom": null,
      "display": null,
      "flex": null,
      "flex_flow": null,
      "grid_area": null,
      "grid_auto_columns": null,
      "grid_auto_flow": null,
      "grid_auto_rows": null,
      "grid_column": null,
      "grid_gap": null,
      "grid_row": null,
      "grid_template_areas": null,
      "grid_template_columns": null,
      "grid_template_rows": null,
      "height": null,
      "justify_content": null,
      "justify_items": null,
      "left": null,
      "margin": null,
      "max_height": null,
      "max_width": null,
      "min_height": null,
      "min_width": null,
      "object_fit": null,
      "object_position": null,
      "order": null,
      "overflow": null,
      "overflow_x": null,
      "overflow_y": null,
      "padding": null,
      "right": null,
      "top": null,
      "visibility": null,
      "width": null
     }
    },
    "5353eae5a54d422ea3db96c49c7d82aa": {
     "model_module": "@jupyter-widgets/controls",
     "model_name": "ProgressStyleModel",
     "state": {
      "_model_module": "@jupyter-widgets/controls",
      "_model_module_version": "1.5.0",
      "_model_name": "ProgressStyleModel",
      "_view_count": null,
      "_view_module": "@jupyter-widgets/base",
      "_view_module_version": "1.2.0",
      "_view_name": "StyleView",
      "bar_color": null,
      "description_width": "initial"
     }
    },
    "61be264551e64e97acb3fe1f6b3d4477": {
     "model_module": "@jupyter-widgets/base",
     "model_name": "LayoutModel",
     "state": {
      "_model_module": "@jupyter-widgets/base",
      "_model_module_version": "1.2.0",
      "_model_name": "LayoutModel",
      "_view_count": null,
      "_view_module": "@jupyter-widgets/base",
      "_view_module_version": "1.2.0",
      "_view_name": "LayoutView",
      "align_content": null,
      "align_items": null,
      "align_self": null,
      "border": null,
      "bottom": null,
      "display": null,
      "flex": null,
      "flex_flow": null,
      "grid_area": null,
      "grid_auto_columns": null,
      "grid_auto_flow": null,
      "grid_auto_rows": null,
      "grid_column": null,
      "grid_gap": null,
      "grid_row": null,
      "grid_template_areas": null,
      "grid_template_columns": null,
      "grid_template_rows": null,
      "height": null,
      "justify_content": null,
      "justify_items": null,
      "left": null,
      "margin": null,
      "max_height": null,
      "max_width": null,
      "min_height": null,
      "min_width": null,
      "object_fit": null,
      "object_position": null,
      "order": null,
      "overflow": null,
      "overflow_x": null,
      "overflow_y": null,
      "padding": null,
      "right": null,
      "top": null,
      "visibility": null,
      "width": null
     }
    },
    "6658e3b654574da3b89dc52659b0c939": {
     "model_module": "@jupyter-widgets/controls",
     "model_name": "HTMLModel",
     "state": {
      "_dom_classes": [],
      "_model_module": "@jupyter-widgets/controls",
      "_model_module_version": "1.5.0",
      "_model_name": "HTMLModel",
      "_view_count": null,
      "_view_module": "@jupyter-widgets/controls",
      "_view_module_version": "1.5.0",
      "_view_name": "HTMLView",
      "description": "",
      "description_tooltip": null,
      "layout": "IPY_MODEL_720e016e2ddd45c3bd59bcda28c3e7e3",
      "placeholder": "​",
      "style": "IPY_MODEL_08a178b31ae84c25bf092ddae2c36094",
      "value": " 996k/996k [00:00&lt;00:00, 1.48MB/s]"
     }
    },
    "720e016e2ddd45c3bd59bcda28c3e7e3": {
     "model_module": "@jupyter-widgets/base",
     "model_name": "LayoutModel",
     "state": {
      "_model_module": "@jupyter-widgets/base",
      "_model_module_version": "1.2.0",
      "_model_name": "LayoutModel",
      "_view_count": null,
      "_view_module": "@jupyter-widgets/base",
      "_view_module_version": "1.2.0",
      "_view_name": "LayoutView",
      "align_content": null,
      "align_items": null,
      "align_self": null,
      "border": null,
      "bottom": null,
      "display": null,
      "flex": null,
      "flex_flow": null,
      "grid_area": null,
      "grid_auto_columns": null,
      "grid_auto_flow": null,
      "grid_auto_rows": null,
      "grid_column": null,
      "grid_gap": null,
      "grid_row": null,
      "grid_template_areas": null,
      "grid_template_columns": null,
      "grid_template_rows": null,
      "height": null,
      "justify_content": null,
      "justify_items": null,
      "left": null,
      "margin": null,
      "max_height": null,
      "max_width": null,
      "min_height": null,
      "min_width": null,
      "object_fit": null,
      "object_position": null,
      "order": null,
      "overflow": null,
      "overflow_x": null,
      "overflow_y": null,
      "padding": null,
      "right": null,
      "top": null,
      "visibility": null,
      "width": null
     }
    },
    "79cafa7250c64481905743912e542dcc": {
     "model_module": "@jupyter-widgets/base",
     "model_name": "LayoutModel",
     "state": {
      "_model_module": "@jupyter-widgets/base",
      "_model_module_version": "1.2.0",
      "_model_name": "LayoutModel",
      "_view_count": null,
      "_view_module": "@jupyter-widgets/base",
      "_view_module_version": "1.2.0",
      "_view_name": "LayoutView",
      "align_content": null,
      "align_items": null,
      "align_self": null,
      "border": null,
      "bottom": null,
      "display": null,
      "flex": null,
      "flex_flow": null,
      "grid_area": null,
      "grid_auto_columns": null,
      "grid_auto_flow": null,
      "grid_auto_rows": null,
      "grid_column": null,
      "grid_gap": null,
      "grid_row": null,
      "grid_template_areas": null,
      "grid_template_columns": null,
      "grid_template_rows": null,
      "height": null,
      "justify_content": null,
      "justify_items": null,
      "left": null,
      "margin": null,
      "max_height": null,
      "max_width": null,
      "min_height": null,
      "min_width": null,
      "object_fit": null,
      "object_position": null,
      "order": null,
      "overflow": null,
      "overflow_x": null,
      "overflow_y": null,
      "padding": null,
      "right": null,
      "top": null,
      "visibility": null,
      "width": null
     }
    },
    "85ef08e52eec4d8fbe08d5c0520b082f": {
     "model_module": "@jupyter-widgets/base",
     "model_name": "LayoutModel",
     "state": {
      "_model_module": "@jupyter-widgets/base",
      "_model_module_version": "1.2.0",
      "_model_name": "LayoutModel",
      "_view_count": null,
      "_view_module": "@jupyter-widgets/base",
      "_view_module_version": "1.2.0",
      "_view_name": "LayoutView",
      "align_content": null,
      "align_items": null,
      "align_self": null,
      "border": null,
      "bottom": null,
      "display": null,
      "flex": null,
      "flex_flow": null,
      "grid_area": null,
      "grid_auto_columns": null,
      "grid_auto_flow": null,
      "grid_auto_rows": null,
      "grid_column": null,
      "grid_gap": null,
      "grid_row": null,
      "grid_template_areas": null,
      "grid_template_columns": null,
      "grid_template_rows": null,
      "height": null,
      "justify_content": null,
      "justify_items": null,
      "left": null,
      "margin": null,
      "max_height": null,
      "max_width": null,
      "min_height": null,
      "min_width": null,
      "object_fit": null,
      "object_position": null,
      "order": null,
      "overflow": null,
      "overflow_x": null,
      "overflow_y": null,
      "padding": null,
      "right": null,
      "top": null,
      "visibility": null,
      "width": null
     }
    },
    "9cdf39091d644ca6822e3ff81e123e43": {
     "model_module": "@jupyter-widgets/base",
     "model_name": "LayoutModel",
     "state": {
      "_model_module": "@jupyter-widgets/base",
      "_model_module_version": "1.2.0",
      "_model_name": "LayoutModel",
      "_view_count": null,
      "_view_module": "@jupyter-widgets/base",
      "_view_module_version": "1.2.0",
      "_view_name": "LayoutView",
      "align_content": null,
      "align_items": null,
      "align_self": null,
      "border": null,
      "bottom": null,
      "display": null,
      "flex": null,
      "flex_flow": null,
      "grid_area": null,
      "grid_auto_columns": null,
      "grid_auto_flow": null,
      "grid_auto_rows": null,
      "grid_column": null,
      "grid_gap": null,
      "grid_row": null,
      "grid_template_areas": null,
      "grid_template_columns": null,
      "grid_template_rows": null,
      "height": null,
      "justify_content": null,
      "justify_items": null,
      "left": null,
      "margin": null,
      "max_height": null,
      "max_width": null,
      "min_height": null,
      "min_width": null,
      "object_fit": null,
      "object_position": null,
      "order": null,
      "overflow": null,
      "overflow_x": null,
      "overflow_y": null,
      "padding": null,
      "right": null,
      "top": null,
      "visibility": null,
      "width": null
     }
    },
    "b0ce8568eb2c4e10822225bbac9cae79": {
     "model_module": "@jupyter-widgets/controls",
     "model_name": "HBoxModel",
     "state": {
      "_dom_classes": [],
      "_model_module": "@jupyter-widgets/controls",
      "_model_module_version": "1.5.0",
      "_model_name": "HBoxModel",
      "_view_count": null,
      "_view_module": "@jupyter-widgets/controls",
      "_view_module_version": "1.5.0",
      "_view_name": "HBoxView",
      "box_style": "",
      "children": [
       "IPY_MODEL_ba151daef52a41b08bb18fcf73870d1c",
       "IPY_MODEL_6658e3b654574da3b89dc52659b0c939"
      ],
      "layout": "IPY_MODEL_61be264551e64e97acb3fe1f6b3d4477"
     }
    },
    "ba151daef52a41b08bb18fcf73870d1c": {
     "model_module": "@jupyter-widgets/controls",
     "model_name": "FloatProgressModel",
     "state": {
      "_dom_classes": [],
      "_model_module": "@jupyter-widgets/controls",
      "_model_module_version": "1.5.0",
      "_model_name": "FloatProgressModel",
      "_view_count": null,
      "_view_module": "@jupyter-widgets/controls",
      "_view_module_version": "1.5.0",
      "_view_name": "ProgressView",
      "bar_style": "success",
      "description": "Downloading: 100%",
      "description_tooltip": null,
      "layout": "IPY_MODEL_051fca423a514ebc8e664757a924c1e2",
      "max": 995526,
      "min": 0,
      "orientation": "horizontal",
      "style": "IPY_MODEL_34496463c2224098b1093f34be3e5f75",
      "value": 995526
     }
    },
    "be029d39855c4090acd5a33905d30cee": {
     "model_module": "@jupyter-widgets/controls",
     "model_name": "HTMLModel",
     "state": {
      "_dom_classes": [],
      "_model_module": "@jupyter-widgets/controls",
      "_model_module_version": "1.5.0",
      "_model_name": "HTMLModel",
      "_view_count": null,
      "_view_module": "@jupyter-widgets/controls",
      "_view_module_version": "1.5.0",
      "_view_name": "HTMLView",
      "description": "",
      "description_tooltip": null,
      "layout": "IPY_MODEL_f46c25be394d4d948f1a0b5d8f007a2b",
      "placeholder": "​",
      "style": "IPY_MODEL_edc2d7a660b74cf592ae657ce84d9fad",
      "value": " 1.08G/1.08G [00:46&lt;00:00, 23.2MB/s]"
     }
    },
    "cc2f326e367e45568a4a1228b8c95623": {
     "model_module": "@jupyter-widgets/base",
     "model_name": "LayoutModel",
     "state": {
      "_model_module": "@jupyter-widgets/base",
      "_model_module_version": "1.2.0",
      "_model_name": "LayoutModel",
      "_view_count": null,
      "_view_module": "@jupyter-widgets/base",
      "_view_module_version": "1.2.0",
      "_view_name": "LayoutView",
      "align_content": null,
      "align_items": null,
      "align_self": null,
      "border": null,
      "bottom": null,
      "display": null,
      "flex": null,
      "flex_flow": null,
      "grid_area": null,
      "grid_auto_columns": null,
      "grid_auto_flow": null,
      "grid_auto_rows": null,
      "grid_column": null,
      "grid_gap": null,
      "grid_row": null,
      "grid_template_areas": null,
      "grid_template_columns": null,
      "grid_template_rows": null,
      "height": null,
      "justify_content": null,
      "justify_items": null,
      "left": null,
      "margin": null,
      "max_height": null,
      "max_width": null,
      "min_height": null,
      "min_width": null,
      "object_fit": null,
      "object_position": null,
      "order": null,
      "overflow": null,
      "overflow_x": null,
      "overflow_y": null,
      "padding": null,
      "right": null,
      "top": null,
      "visibility": null,
      "width": null
     }
    },
    "ced7942ae2e4483d8e37ec65813a7c9f": {
     "model_module": "@jupyter-widgets/controls",
     "model_name": "HBoxModel",
     "state": {
      "_dom_classes": [],
      "_model_module": "@jupyter-widgets/controls",
      "_model_module_version": "1.5.0",
      "_model_name": "HBoxModel",
      "_view_count": null,
      "_view_module": "@jupyter-widgets/controls",
      "_view_module_version": "1.5.0",
      "_view_name": "HBoxView",
      "box_style": "",
      "children": [
       "IPY_MODEL_454bc7476f4e4bfaae10077b22baf612",
       "IPY_MODEL_f4898114daba428aa1a864935280921c"
      ],
      "layout": "IPY_MODEL_79cafa7250c64481905743912e542dcc"
     }
    },
    "d8c1cffe224c441a93cde8b19babe295": {
     "model_module": "@jupyter-widgets/controls",
     "model_name": "HBoxModel",
     "state": {
      "_dom_classes": [],
      "_model_module": "@jupyter-widgets/controls",
      "_model_module_version": "1.5.0",
      "_model_name": "HBoxModel",
      "_view_count": null,
      "_view_module": "@jupyter-widgets/controls",
      "_view_module_version": "1.5.0",
      "_view_name": "HBoxView",
      "box_style": "",
      "children": [
       "IPY_MODEL_d9e26e09727745f4af4b0b33b816b5ee",
       "IPY_MODEL_be029d39855c4090acd5a33905d30cee"
      ],
      "layout": "IPY_MODEL_4ada8e26de34426cb6dd70cae6b87b28"
     }
    },
    "d9e26e09727745f4af4b0b33b816b5ee": {
     "model_module": "@jupyter-widgets/controls",
     "model_name": "FloatProgressModel",
     "state": {
      "_dom_classes": [],
      "_model_module": "@jupyter-widgets/controls",
      "_model_module_version": "1.5.0",
      "_model_name": "FloatProgressModel",
      "_view_count": null,
      "_view_module": "@jupyter-widgets/controls",
      "_view_module_version": "1.5.0",
      "_view_name": "ProgressView",
      "bar_style": "success",
      "description": "Downloading: 100%",
      "description_tooltip": null,
      "layout": "IPY_MODEL_cc2f326e367e45568a4a1228b8c95623",
      "max": 1083389348,
      "min": 0,
      "orientation": "horizontal",
      "style": "IPY_MODEL_31735425b40f42fd86c6f9f9ee075560",
      "value": 1083389348
     }
    },
    "edc2d7a660b74cf592ae657ce84d9fad": {
     "model_module": "@jupyter-widgets/controls",
     "model_name": "DescriptionStyleModel",
     "state": {
      "_model_module": "@jupyter-widgets/controls",
      "_model_module_version": "1.5.0",
      "_model_name": "DescriptionStyleModel",
      "_view_count": null,
      "_view_module": "@jupyter-widgets/base",
      "_view_module_version": "1.2.0",
      "_view_name": "StyleView",
      "description_width": ""
     }
    },
    "f3e784fffe104a7fab97e81eb57406fc": {
     "model_module": "@jupyter-widgets/controls",
     "model_name": "DescriptionStyleModel",
     "state": {
      "_model_module": "@jupyter-widgets/controls",
      "_model_module_version": "1.5.0",
      "_model_name": "DescriptionStyleModel",
      "_view_count": null,
      "_view_module": "@jupyter-widgets/base",
      "_view_module_version": "1.2.0",
      "_view_name": "StyleView",
      "description_width": ""
     }
    },
    "f46c25be394d4d948f1a0b5d8f007a2b": {
     "model_module": "@jupyter-widgets/base",
     "model_name": "LayoutModel",
     "state": {
      "_model_module": "@jupyter-widgets/base",
      "_model_module_version": "1.2.0",
      "_model_name": "LayoutModel",
      "_view_count": null,
      "_view_module": "@jupyter-widgets/base",
      "_view_module_version": "1.2.0",
      "_view_name": "LayoutView",
      "align_content": null,
      "align_items": null,
      "align_self": null,
      "border": null,
      "bottom": null,
      "display": null,
      "flex": null,
      "flex_flow": null,
      "grid_area": null,
      "grid_auto_columns": null,
      "grid_auto_flow": null,
      "grid_auto_rows": null,
      "grid_column": null,
      "grid_gap": null,
      "grid_row": null,
      "grid_template_areas": null,
      "grid_template_columns": null,
      "grid_template_rows": null,
      "height": null,
      "justify_content": null,
      "justify_items": null,
      "left": null,
      "margin": null,
      "max_height": null,
      "max_width": null,
      "min_height": null,
      "min_width": null,
      "object_fit": null,
      "object_position": null,
      "order": null,
      "overflow": null,
      "overflow_x": null,
      "overflow_y": null,
      "padding": null,
      "right": null,
      "top": null,
      "visibility": null,
      "width": null
     }
    },
    "f4898114daba428aa1a864935280921c": {
     "model_module": "@jupyter-widgets/controls",
     "model_name": "HTMLModel",
     "state": {
      "_dom_classes": [],
      "_model_module": "@jupyter-widgets/controls",
      "_model_module_version": "1.5.0",
      "_model_name": "HTMLModel",
      "_view_count": null,
      "_view_module": "@jupyter-widgets/controls",
      "_view_module_version": "1.5.0",
      "_view_name": "HTMLView",
      "description": "",
      "description_tooltip": null,
      "layout": "IPY_MODEL_9cdf39091d644ca6822e3ff81e123e43",
      "placeholder": "​",
      "style": "IPY_MODEL_f3e784fffe104a7fab97e81eb57406fc",
      "value": " 625/625 [00:46&lt;00:00, 13.3B/s]"
     }
    }
   }
  }
 },
 "nbformat": 4,
 "nbformat_minor": 1
}
