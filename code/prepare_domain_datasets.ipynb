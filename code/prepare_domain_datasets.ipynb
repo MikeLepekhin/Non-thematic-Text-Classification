{
 "cells": [
  {
   "cell_type": "code",
   "execution_count": 7,
   "metadata": {},
   "outputs": [],
   "source": [
    "from os.path import join as pathjoin\n",
    "import pandas as pd\n",
    "from sklearn.model_selection import train_test_split"
   ]
  },
  {
   "cell_type": "code",
   "execution_count": 4,
   "metadata": {},
   "outputs": [],
   "source": [
    "NATURAL_DATA_DIR = '/home/mlepekhin/data'\n",
    "GENERATED_DATA_DIR = pathjoin(DATA_DIR, 'min_gpt_bpe')\n",
    "DOMAIN_DATA_DIR = pathjoin(DATA_DIR, 'domain')"
   ]
  },
  {
   "cell_type": "code",
   "execution_count": 3,
   "metadata": {},
   "outputs": [],
   "source": [
    "!mkdir {DOMAIN_DATA_DIR}"
   ]
  },
  {
   "cell_type": "code",
   "execution_count": 5,
   "metadata": {},
   "outputs": [
    {
     "name": "stdout",
     "output_type": "stream",
     "text": [
      "(220, 3)\n"
     ]
    },
    {
     "data": {
      "text/html": [
       "<div>\n",
       "<style scoped>\n",
       "    .dataframe tbody tr th:only-of-type {\n",
       "        vertical-align: middle;\n",
       "    }\n",
       "\n",
       "    .dataframe tbody tr th {\n",
       "        vertical-align: top;\n",
       "    }\n",
       "\n",
       "    .dataframe thead th {\n",
       "        text-align: right;\n",
       "    }\n",
       "</style>\n",
       "<table border=\"1\" class=\"dataframe\">\n",
       "  <thead>\n",
       "    <tr style=\"text-align: right;\">\n",
       "      <th></th>\n",
       "      <th>Unnamed: 0</th>\n",
       "      <th>target</th>\n",
       "      <th>text</th>\n",
       "    </tr>\n",
       "  </thead>\n",
       "  <tbody>\n",
       "    <tr>\n",
       "      <th>0</th>\n",
       "      <td>0</td>\n",
       "      <td>A4</td>\n",
       "      <td>hot - water ; she now , and then she darted th...</td>\n",
       "    </tr>\n",
       "    <tr>\n",
       "      <th>1</th>\n",
       "      <td>1</td>\n",
       "      <td>A4</td>\n",
       "      <td>##hantom , his be a real education frequenters...</td>\n",
       "    </tr>\n",
       "    <tr>\n",
       "      <th>2</th>\n",
       "      <td>2</td>\n",
       "      <td>A4</td>\n",
       "      <td>completed . The Mandarin uses his own allies f...</td>\n",
       "    </tr>\n",
       "    <tr>\n",
       "      <th>3</th>\n",
       "      <td>3</td>\n",
       "      <td>A4</td>\n",
       "      <td>chiefs to Nazareth with John , their glances t...</td>\n",
       "    </tr>\n",
       "    <tr>\n",
       "      <th>4</th>\n",
       "      <td>4</td>\n",
       "      <td>A4</td>\n",
       "      <td>youngest , and see the mermaids , and then , a...</td>\n",
       "    </tr>\n",
       "  </tbody>\n",
       "</table>\n",
       "</div>"
      ],
      "text/plain": [
       "   Unnamed: 0 target                                               text\n",
       "0           0     A4  hot - water ; she now , and then she darted th...\n",
       "1           1     A4  ##hantom , his be a real education frequenters...\n",
       "2           2     A4  completed . The Mandarin uses his own allies f...\n",
       "3           3     A4  chiefs to Nazareth with John , their glances t...\n",
       "4           4     A4  youngest , and see the mermaids , and then , a..."
      ]
     },
     "execution_count": 5,
     "metadata": {},
     "output_type": "execute_result"
    }
   ],
   "source": [
    "natural_data_en = pd.read_csv(pathjoin(NATURAL_DATA_DIR, 'en'))\n",
    "generated_data_en = pd.read_csv(pathjoin(GENERATED_DATA_DIR, 'en'))\n",
    "print(generated_data_en.shape)\n",
    "generated_data_en.head()"
   ]
  },
  {
   "cell_type": "code",
   "execution_count": 6,
   "metadata": {},
   "outputs": [
    {
     "name": "stdout",
     "output_type": "stream",
     "text": [
      "(200, 3)\n"
     ]
    },
    {
     "data": {
      "text/html": [
       "<div>\n",
       "<style scoped>\n",
       "    .dataframe tbody tr th:only-of-type {\n",
       "        vertical-align: middle;\n",
       "    }\n",
       "\n",
       "    .dataframe tbody tr th {\n",
       "        vertical-align: top;\n",
       "    }\n",
       "\n",
       "    .dataframe thead th {\n",
       "        text-align: right;\n",
       "    }\n",
       "</style>\n",
       "<table border=\"1\" class=\"dataframe\">\n",
       "  <thead>\n",
       "    <tr style=\"text-align: right;\">\n",
       "      <th></th>\n",
       "      <th>Unnamed: 0</th>\n",
       "      <th>target</th>\n",
       "      <th>text</th>\n",
       "    </tr>\n",
       "  </thead>\n",
       "  <tbody>\n",
       "    <tr>\n",
       "      <th>0</th>\n",
       "      <td>0</td>\n",
       "      <td>A4</td>\n",
       "      <td>села на улице могильщиков . \" бедныи атос ! - ...</td>\n",
       "    </tr>\n",
       "    <tr>\n",
       "      <th>1</th>\n",
       "      <td>1</td>\n",
       "      <td>A4</td>\n",
       "      <td>##елкать . если бы они могли забыть . когда - ...</td>\n",
       "    </tr>\n",
       "    <tr>\n",
       "      <th>2</th>\n",
       "      <td>2</td>\n",
       "      <td>A4</td>\n",
       "      <td>воскресыи в уши . и вот тебе , моя нем не скаж...</td>\n",
       "    </tr>\n",
       "    <tr>\n",
       "      <th>3</th>\n",
       "      <td>3</td>\n",
       "      <td>A4</td>\n",
       "      <td>отчаянном гостиниц и потертои , старыи бурнуще...</td>\n",
       "    </tr>\n",
       "    <tr>\n",
       "      <th>4</th>\n",
       "      <td>4</td>\n",
       "      <td>A4</td>\n",
       "      <td>ожил в него . - - вы говорите , - сказал он ид...</td>\n",
       "    </tr>\n",
       "  </tbody>\n",
       "</table>\n",
       "</div>"
      ],
      "text/plain": [
       "   Unnamed: 0 target                                               text\n",
       "0           0     A4  села на улице могильщиков . \" бедныи атос ! - ...\n",
       "1           1     A4  ##елкать . если бы они могли забыть . когда - ...\n",
       "2           2     A4  воскресыи в уши . и вот тебе , моя нем не скаж...\n",
       "3           3     A4  отчаянном гостиниц и потертои , старыи бурнуще...\n",
       "4           4     A4  ожил в него . - - вы говорите , - сказал он ид..."
      ]
     },
     "execution_count": 6,
     "metadata": {},
     "output_type": "execute_result"
    }
   ],
   "source": [
    "natural_data_ru = pd.read_csv(pathjoin(NATURAL_DATA_DIR, 'ru'))\n",
    "generated_data_ru = pd.read_csv(pathjoin(GENERATED_DATA_DIR, 'ru'))\n",
    "print(generated_data_ru.shape)\n",
    "generated_data_ru.head()"
   ]
  },
  {
   "cell_type": "code",
   "execution_count": 19,
   "metadata": {},
   "outputs": [],
   "source": [
    "def make_domain_dataset(data_list, domain_list):\n",
    "    X, y = [], []\n",
    "    for data, domain in zip(data_list, domain_list):\n",
    "        for text in data.text.values:\n",
    "            X.append(text)\n",
    "            y.append(domain)\n",
    "            \n",
    "    X_train, X_test, y_train, y_test = train_test_split(X, y, random_state=42)\n",
    "    train_df = pd.DataFrame({'text': X_train, 'domain': y_train})\n",
    "    test_df = pd.DataFrame({'text': X_test, 'domain': y_test})\n",
    "    return train_df, test_df"
   ]
  },
  {
   "cell_type": "code",
   "execution_count": 20,
   "metadata": {},
   "outputs": [
    {
     "data": {
      "text/html": [
       "<div>\n",
       "<style scoped>\n",
       "    .dataframe tbody tr th:only-of-type {\n",
       "        vertical-align: middle;\n",
       "    }\n",
       "\n",
       "    .dataframe tbody tr th {\n",
       "        vertical-align: top;\n",
       "    }\n",
       "\n",
       "    .dataframe thead th {\n",
       "        text-align: right;\n",
       "    }\n",
       "</style>\n",
       "<table border=\"1\" class=\"dataframe\">\n",
       "  <thead>\n",
       "    <tr style=\"text-align: right;\">\n",
       "      <th></th>\n",
       "      <th>text</th>\n",
       "      <th>domain</th>\n",
       "    </tr>\n",
       "  </thead>\n",
       "  <tbody>\n",
       "    <tr>\n",
       "      <th>0</th>\n",
       "      <td>Украинская дорога России в будущее * * * * * М...</td>\n",
       "      <td>natural</td>\n",
       "    </tr>\n",
       "    <tr>\n",
       "      <th>1</th>\n",
       "      <td>присвоено имя ее изобретателя , которое склоня...</td>\n",
       "      <td>generated</td>\n",
       "    </tr>\n",
       "    <tr>\n",
       "      <th>2</th>\n",
       "      <td>Истоки японо-китайской вражды * * * * * БОСТОН...</td>\n",
       "      <td>natural</td>\n",
       "    </tr>\n",
       "    <tr>\n",
       "      <th>3</th>\n",
       "      <td>1 казино , 1 австралиец и # 17 миллионов Состо...</td>\n",
       "      <td>natural</td>\n",
       "    </tr>\n",
       "    <tr>\n",
       "      <th>4</th>\n",
       "      <td>6 июня 2006 в 17:41 Макколл о золотой середине...</td>\n",
       "      <td>natural</td>\n",
       "    </tr>\n",
       "  </tbody>\n",
       "</table>\n",
       "</div>"
      ],
      "text/plain": [
       "                                                text     domain\n",
       "0  Украинская дорога России в будущее * * * * * М...    natural\n",
       "1  присвоено имя ее изобретателя , которое склоня...  generated\n",
       "2  Истоки японо-китайской вражды * * * * * БОСТОН...    natural\n",
       "3  1 казино , 1 австралиец и # 17 миллионов Состо...    natural\n",
       "4  6 июня 2006 в 17:41 Макколл о золотой середине...    natural"
      ]
     },
     "execution_count": 20,
     "metadata": {},
     "output_type": "execute_result"
    }
   ],
   "source": [
    "ru_domain_train, ru_domain_test = make_domain_dataset(\n",
    "    [natural_data_ru, generated_data_ru], ['natural', 'generated']\n",
    ")\n",
    "en_domain_train, en_domain_test = make_domain_dataset(\n",
    "    [natural_data_en, generated_data_en], ['natural', 'generated']\n",
    ")\n",
    "ru_domain_test.head()"
   ]
  },
  {
   "cell_type": "code",
   "execution_count": 21,
   "metadata": {},
   "outputs": [],
   "source": [
    "ru_domain_train.to_csv(pathjoin(DOMAIN_DATA_DIR, 'ru_train'))\n",
    "ru_domain_test.to_csv(pathjoin(DOMAIN_DATA_DIR, 'ru_test'))\n",
    "en_domain_train.to_csv(pathjoin(DOMAIN_DATA_DIR, 'en_train'))\n",
    "en_domain_test.to_csv(pathjoin(DOMAIN_DATA_DIR, 'en_test'))"
   ]
  }
 ],
 "metadata": {
  "kernelspec": {
   "display_name": "Python 3",
   "language": "python",
   "name": "python3"
  },
  "language_info": {
   "codemirror_mode": {
    "name": "ipython",
    "version": 3
   },
   "file_extension": ".py",
   "mimetype": "text/x-python",
   "name": "python",
   "nbconvert_exporter": "python",
   "pygments_lexer": "ipython3",
   "version": "3.8.3"
  }
 },
 "nbformat": 4,
 "nbformat_minor": 4
}
