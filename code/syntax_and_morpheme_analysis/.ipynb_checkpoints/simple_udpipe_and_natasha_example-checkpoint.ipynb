{
 "cells": [
  {
   "cell_type": "code",
   "execution_count": 1,
   "metadata": {},
   "outputs": [],
   "source": [
    "#!pip install ufal.udpipe\n",
    "#!pip install spacy-udpipe"
   ]
  },
  {
   "cell_type": "code",
   "execution_count": 2,
   "metadata": {},
   "outputs": [],
   "source": [
    "import spacy_udpipe\n",
    "\n",
    "#spacy_udpipe.download(\"en\")\n",
    "#spacy_udpipe.download(\"ru\")"
   ]
  },
  {
   "cell_type": "code",
   "execution_count": 3,
   "metadata": {},
   "outputs": [],
   "source": [
    "nlp = spacy_udpipe.load(\"en\")"
   ]
  },
  {
   "cell_type": "code",
   "execution_count": 4,
   "metadata": {},
   "outputs": [],
   "source": [
    "text = [\"Good morning, my dear friend! I'm so glad to see you.\"]"
   ]
  },
  {
   "cell_type": "code",
   "execution_count": 5,
   "metadata": {},
   "outputs": [
    {
     "name": "stdout",
     "output_type": "stream",
     "text": [
      "Good good ADJ amod\n",
      "morning morning NOUN ROOT\n",
      ", , PUNCT punct\n",
      "my my PRON nmod:poss\n",
      "dear dear ADJ amod\n",
      "friend friend NOUN vocative\n",
      "! ! PUNCT punct\n",
      "I I PRON nsubj\n",
      "'m be AUX cop\n",
      "so so ADV advmod\n",
      "glad glad ADJ parataxis\n",
      "to to PART mark\n",
      "see see VERB advcl\n",
      "you you PRON obj\n",
      ". . PUNCT punct\n"
     ]
    }
   ],
   "source": [
    "doc = nlp(text)\n",
    "for token in doc:\n",
    "    print(token.text, token.lemma_, token.pos_, token.dep_)"
   ]
  },
  {
   "cell_type": "code",
   "execution_count": 6,
   "metadata": {},
   "outputs": [
    {
     "name": "stdout",
     "output_type": "stream",
     "text": [
      "Collecting natasha\n",
      "  Downloading natasha-1.2.0-py3-none-any.whl (34.4 MB)\n",
      "\u001b[K     |████████████████████████████████| 34.4 MB 825 kB/s eta 0:00:01\n",
      "\u001b[?25hCollecting razdel>=0.5.0\n",
      "  Downloading razdel-0.5.0-py3-none-any.whl (21 kB)\n",
      "Requirement already satisfied: pymorphy2 in /home/mlepekhin/anaconda3/envs/mlepekhin_research/lib/python3.8/site-packages (from natasha) (0.8)\n",
      "Collecting yargy>=0.14.0\n",
      "  Downloading yargy-0.14.0-py3-none-any.whl (41 kB)\n",
      "\u001b[K     |████████████████████████████████| 41 kB 5.7 kB/s  eta 0:00:01\n",
      "\u001b[?25hCollecting navec>=0.9.0\n",
      "  Downloading navec-0.9.0-py3-none-any.whl (23 kB)\n",
      "Collecting slovnet>=0.3.0\n",
      "  Downloading slovnet-0.4.0-py3-none-any.whl (49 kB)\n",
      "\u001b[K     |████████████████████████████████| 49 kB 403 kB/s  eta 0:00:01\n",
      "\u001b[?25hCollecting ipymarkup>=0.8.0\n",
      "  Downloading ipymarkup-0.9.0-py3-none-any.whl (14 kB)\n",
      "Requirement already satisfied: pymorphy2-dicts<3.0,>=2.4 in /home/mlepekhin/anaconda3/envs/mlepekhin_research/lib/python3.8/site-packages (from pymorphy2->natasha) (2.4.393442.3710985)\n",
      "Requirement already satisfied: docopt>=0.6 in /home/mlepekhin/anaconda3/envs/mlepekhin_research/lib/python3.8/site-packages (from pymorphy2->natasha) (0.6.2)\n",
      "Requirement already satisfied: dawg-python>=0.7 in /home/mlepekhin/anaconda3/envs/mlepekhin_research/lib/python3.8/site-packages (from pymorphy2->natasha) (0.7.2)\n",
      "Requirement already satisfied: numpy in /home/mlepekhin/anaconda3/envs/mlepekhin_research/lib/python3.8/site-packages (from navec>=0.9.0->natasha) (1.18.5)\n",
      "Requirement already satisfied: intervaltree>=3 in /home/mlepekhin/anaconda3/envs/mlepekhin_research/lib/python3.8/site-packages (from ipymarkup>=0.8.0->natasha) (3.0.2)\n",
      "Requirement already satisfied: sortedcontainers<3.0,>=2.0 in /home/mlepekhin/anaconda3/envs/mlepekhin_research/lib/python3.8/site-packages (from intervaltree>=3->ipymarkup>=0.8.0->natasha) (2.2.2)\n",
      "Installing collected packages: razdel, yargy, navec, slovnet, ipymarkup, natasha\n",
      "Successfully installed ipymarkup-0.9.0 natasha-1.2.0 navec-0.9.0 razdel-0.5.0 slovnet-0.4.0 yargy-0.14.0\n"
     ]
    }
   ],
   "source": [
    "#!pip install natasha"
   ]
  },
  {
   "cell_type": "code",
   "execution_count": 22,
   "metadata": {},
   "outputs": [
    {
     "name": "stdout",
     "output_type": "stream",
     "text": [
      "{'PRON', 'NUM', 'ADP', 'ADV', 'NOUN', 'DET', 'SCONJ', 'PART', 'AUX', 'VERB', 'PUNCT', 'CCONJ', 'PROPN', 'ADJ'}\n"
     ]
    }
   ],
   "source": [
    "from natasha import Doc, Segmenter, MorphVocab, NewsEmbedding, NewsMorphTagger\n",
    "\n",
    "segmenter = Segmenter()\n",
    "morph_vocab = MorphVocab()\n",
    "emb = NewsEmbedding()\n",
    "morph_tagger = NewsMorphTagger(emb)\n",
    "\n",
    "text = 'Посол Израиля на Украине Йоэль Лион признался, что пришел в шок, узнав о решении властей Львовской области объявить 2019 год годом лидера запрещенной в России Организации украинских националистов (ОУН) Степана Бандеры. Свое заявление он разместил в Twitter. «Я не могу понять, как прославление тех, кто непосредственно принимал участие в ужасных антисемитских преступлениях, помогает бороться с антисемитизмом и ксенофобией. Украина не должна забывать о преступлениях, совершенных против украинских евреев, и никоим образом не отмечать их через почитание их исполнителей», — написал дипломат. 11 декабря Львовский областной совет принял решение провозгласить 2019 год в регионе годом Степана Бандеры в связи с празднованием 110-летия со дня рождения лидера ОУН (Бандера родился 1 января 1909 года). В июле аналогичное решение принял Житомирский областной совет. В начале месяца с предложением к президенту страны Петру Порошенко вернуть Бандере звание Героя Украины обратились депутаты Верховной Рады. Парламентарии уверены, что признание Бандеры национальным героем поможет в борьбе с подрывной деятельностью против Украины в информационном поле, а также остановит «распространение мифов, созданных российской пропагандой». Степан Бандера (1909-1959) был одним из лидеров Организации украинских националистов, выступающей за создание независимого государства на территориях с украиноязычным населением. В 2010 году в период президентства Виктора Ющенко Бандера был посмертно признан Героем Украины, однако впоследствии это решение было отменено судом. '\n",
    "doc = Doc(text)\n",
    "doc.segment(segmenter)\n",
    "doc.tag_morph(morph_tagger)\n",
    "print(set([token.pos for token in doc.tokens]))"
   ]
  },
  {
   "cell_type": "code",
   "execution_count": null,
   "metadata": {},
   "outputs": [],
   "source": []
  },
  {
   "cell_type": "code",
   "execution_count": null,
   "metadata": {},
   "outputs": [],
   "source": []
  }
 ],
 "metadata": {
  "kernelspec": {
   "display_name": "Python 3",
   "language": "python",
   "name": "python3"
  },
  "language_info": {
   "codemirror_mode": {
    "name": "ipython",
    "version": 3
   },
   "file_extension": ".py",
   "mimetype": "text/x-python",
   "name": "python",
   "nbconvert_exporter": "python",
   "pygments_lexer": "ipython3",
   "version": "3.8.3"
  }
 },
 "nbformat": 4,
 "nbformat_minor": 4
}
