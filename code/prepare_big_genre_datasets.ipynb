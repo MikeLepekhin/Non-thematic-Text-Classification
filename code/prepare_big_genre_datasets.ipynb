{
 "cells": [
  {
   "cell_type": "code",
   "execution_count": 1,
   "metadata": {},
   "outputs": [],
   "source": [
    "from os.path import join as pathjoin\n",
    "import pandas as pd"
   ]
  },
  {
   "cell_type": "code",
   "execution_count": 3,
   "metadata": {},
   "outputs": [],
   "source": [
    "DATA_DIR = '/home/mlepekhin/data/big'\n",
    "GENRE_DATA_DIR = pathjoin(DATA_DIR, 'genre')"
   ]
  },
  {
   "cell_type": "code",
   "execution_count": 4,
   "metadata": {},
   "outputs": [
    {
     "name": "stdout",
     "output_type": "stream",
     "text": [
      "mkdir: cannot create directory ‘/home/mlepekhin/data/big/genre’: File exists\r\n"
     ]
    }
   ],
   "source": [
    "!mkdir {GENRE_DATA_DIR}"
   ]
  },
  {
   "cell_type": "code",
   "execution_count": 5,
   "metadata": {},
   "outputs": [
    {
     "name": "stdout",
     "output_type": "stream",
     "text": [
      "(100000, 3)\n"
     ]
    },
    {
     "data": {
      "text/html": [
       "<div>\n",
       "<style scoped>\n",
       "    .dataframe tbody tr th:only-of-type {\n",
       "        vertical-align: middle;\n",
       "    }\n",
       "\n",
       "    .dataframe tbody tr th {\n",
       "        vertical-align: top;\n",
       "    }\n",
       "\n",
       "    .dataframe thead th {\n",
       "        text-align: right;\n",
       "    }\n",
       "</style>\n",
       "<table border=\"1\" class=\"dataframe\">\n",
       "  <thead>\n",
       "    <tr style=\"text-align: right;\">\n",
       "      <th></th>\n",
       "      <th>Unnamed: 0</th>\n",
       "      <th>target</th>\n",
       "      <th>text</th>\n",
       "    </tr>\n",
       "  </thead>\n",
       "  <tbody>\n",
       "    <tr>\n",
       "      <th>0</th>\n",
       "      <td>0</td>\n",
       "      <td>A17</td>\n",
       "      <td>The ' Baronet Supreme ' is upholstered using ...</td>\n",
       "    </tr>\n",
       "    <tr>\n",
       "      <th>1</th>\n",
       "      <td>1</td>\n",
       "      <td>A17</td>\n",
       "      <td>This book explores some of the remarkable sto...</td>\n",
       "    </tr>\n",
       "    <tr>\n",
       "      <th>2</th>\n",
       "      <td>2</td>\n",
       "      <td>A17</td>\n",
       "      <td>Course Aims This course will teach support pr...</td>\n",
       "    </tr>\n",
       "    <tr>\n",
       "      <th>3</th>\n",
       "      <td>3</td>\n",
       "      <td>A7</td>\n",
       "      <td>In the News 24 November 2002 The Office of Fa...</td>\n",
       "    </tr>\n",
       "    <tr>\n",
       "      <th>4</th>\n",
       "      <td>4</td>\n",
       "      <td>A7</td>\n",
       "      <td>Signing the metadata for the SDSS federation ...</td>\n",
       "    </tr>\n",
       "  </tbody>\n",
       "</table>\n",
       "</div>"
      ],
      "text/plain": [
       "   Unnamed: 0 target                                               text\n",
       "0           0    A17   The ' Baronet Supreme ' is upholstered using ...\n",
       "1           1    A17   This book explores some of the remarkable sto...\n",
       "2           2    A17   Course Aims This course will teach support pr...\n",
       "3           3     A7   In the News 24 November 2002 The Office of Fa...\n",
       "4           4     A7   Signing the metadata for the SDSS federation ..."
      ]
     },
     "execution_count": 5,
     "metadata": {},
     "output_type": "execute_result"
    }
   ],
   "source": [
    "data_en = pd.read_csv(pathjoin(DATA_DIR, 'en.csv'))\n",
    "print(data_en.shape)\n",
    "data_en.head()"
   ]
  },
  {
   "cell_type": "code",
   "execution_count": 6,
   "metadata": {},
   "outputs": [
    {
     "name": "stdout",
     "output_type": "stream",
     "text": [
      "(100000, 3)\n"
     ]
    },
    {
     "data": {
      "text/html": [
       "<div>\n",
       "<style scoped>\n",
       "    .dataframe tbody tr th:only-of-type {\n",
       "        vertical-align: middle;\n",
       "    }\n",
       "\n",
       "    .dataframe tbody tr th {\n",
       "        vertical-align: top;\n",
       "    }\n",
       "\n",
       "    .dataframe thead th {\n",
       "        text-align: right;\n",
       "    }\n",
       "</style>\n",
       "<table border=\"1\" class=\"dataframe\">\n",
       "  <thead>\n",
       "    <tr style=\"text-align: right;\">\n",
       "      <th></th>\n",
       "      <th>Unnamed: 0</th>\n",
       "      <th>target</th>\n",
       "      <th>text</th>\n",
       "    </tr>\n",
       "  </thead>\n",
       "  <tbody>\n",
       "    <tr>\n",
       "      <th>0</th>\n",
       "      <td>0</td>\n",
       "      <td>A8</td>\n",
       "      <td>СИАБ раскидывает розничную сеть , Деловой Пете...</td>\n",
       "    </tr>\n",
       "    <tr>\n",
       "      <th>1</th>\n",
       "      <td>1</td>\n",
       "      <td>A1</td>\n",
       "      <td>Мужчины о женщинах и женщины о мужчинах .  Цен...</td>\n",
       "    </tr>\n",
       "    <tr>\n",
       "      <th>2</th>\n",
       "      <td>2</td>\n",
       "      <td>A8</td>\n",
       "      <td>Сервисное обслуживание и ремонт  « Ивановская ...</td>\n",
       "    </tr>\n",
       "    <tr>\n",
       "      <th>3</th>\n",
       "      <td>3</td>\n",
       "      <td>A17</td>\n",
       "      <td>Представляю вам коллекцию книг для блоггеров ,...</td>\n",
       "    </tr>\n",
       "    <tr>\n",
       "      <th>4</th>\n",
       "      <td>4</td>\n",
       "      <td>A8</td>\n",
       "      <td>Статьи и заметки  Как мы уже сообщали , 26 ноя...</td>\n",
       "    </tr>\n",
       "  </tbody>\n",
       "</table>\n",
       "</div>"
      ],
      "text/plain": [
       "   Unnamed: 0 target                                               text\n",
       "0           0     A8  СИАБ раскидывает розничную сеть , Деловой Пете...\n",
       "1           1     A1  Мужчины о женщинах и женщины о мужчинах .  Цен...\n",
       "2           2     A8  Сервисное обслуживание и ремонт  « Ивановская ...\n",
       "3           3    A17  Представляю вам коллекцию книг для блоггеров ,...\n",
       "4           4     A8  Статьи и заметки  Как мы уже сообщали , 26 ноя..."
      ]
     },
     "execution_count": 6,
     "metadata": {},
     "output_type": "execute_result"
    }
   ],
   "source": [
    "data_ru = pd.read_csv(pathjoin(DATA_DIR, 'ru.csv'))\n",
    "print(data_ru.shape)\n",
    "data_ru.head()"
   ]
  },
  {
   "cell_type": "code",
   "execution_count": 7,
   "metadata": {},
   "outputs": [],
   "source": [
    "def split_by_genres(df, result_dir):\n",
    "    result_dict = {}\n",
    "    \n",
    "    for text, target in zip(df['text'].values, df['target'].values):\n",
    "        if target not in result_dict:\n",
    "            result_dict[target] = []\n",
    "        result_dict[target].append(text)\n",
    "        \n",
    "    for key, value in result_dict.items():\n",
    "        with open(pathjoin(result_dir, f'{key}.txt'), 'w') as fout:\n",
    "            for text in value:\n",
    "                fout.write(f'{text}\\n')"
   ]
  },
  {
   "cell_type": "code",
   "execution_count": 24,
   "metadata": {},
   "outputs": [
    {
     "name": "stdout",
     "output_type": "stream",
     "text": [
      "mkdir: cannot create directory ‘/home/mlepekhin/data/genre/ru’: File exists\n",
      "mkdir: cannot create directory ‘/home/mlepekhin/data/genre/en’: File exists\n"
     ]
    }
   ],
   "source": [
    "!mkdir {pathjoin(GENRE_DATA_DIR, 'ru')}\n",
    "!mkdir {pathjoin(GENRE_DATA_DIR, 'en')}"
   ]
  },
  {
   "cell_type": "code",
   "execution_count": 8,
   "metadata": {},
   "outputs": [],
   "source": [
    "split_by_genres(data_en, pathjoin(GENRE_DATA_DIR, 'en'))\n",
    "split_by_genres(data_ru, pathjoin(GENRE_DATA_DIR, 'ru'))"
   ]
  },
  {
   "cell_type": "code",
   "execution_count": null,
   "metadata": {},
   "outputs": [],
   "source": []
  }
 ],
 "metadata": {
  "kernelspec": {
   "display_name": "Python 3",
   "language": "python",
   "name": "python3"
  },
  "language_info": {
   "codemirror_mode": {
    "name": "ipython",
    "version": 3
   },
   "file_extension": ".py",
   "mimetype": "text/x-python",
   "name": "python",
   "nbconvert_exporter": "python",
   "pygments_lexer": "ipython3",
   "version": "3.8.3"
  }
 },
 "nbformat": 4,
 "nbformat_minor": 4
}
