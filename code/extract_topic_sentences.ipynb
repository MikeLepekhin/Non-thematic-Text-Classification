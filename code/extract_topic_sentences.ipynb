{
 "cells": [
  {
   "cell_type": "code",
   "execution_count": 1,
   "metadata": {},
   "outputs": [],
   "source": [
    "import numpy as np\n",
    "import pandas as pd\n",
    "import tqdm\n",
    "import re"
   ]
  },
  {
   "cell_type": "code",
   "execution_count": 2,
   "metadata": {},
   "outputs": [],
   "source": [
    "ru_topics = {\n",
    "    'music': ['музыка', 'рок-группа', 'альбом', 'песня', 'звук', 'рок', 'гитара', 'джаз', 'рэп', 'музыкант'],\n",
    "    'education': ['студент', 'обучение', 'курсы', 'изучение', 'навыки', 'образование', 'учитель', 'школа', 'университет'],\n",
    "    'politics': ['выборы', 'голосование', 'ассамблея', 'кандидат', 'демократия', \n",
    "                 'консул', 'министр', 'парламент', 'политик', 'законодательный', 'республиканский', 'собрание'],\n",
    "    'sport': ['футбол', 'тренер', 'баскетбол', 'турнир', 'расписание', 'игры', 'лига', 'дивизион', 'команда', 'полузащитник'],\n",
    "    'business': ['технология', 'платформа', 'компания', 'производство', 'продукт', 'дизайн',\n",
    "                 'обновление', 'автоматизация', 'пользователь', 'эксплуатация'],\n",
    "    'literature': ['книга', 'литература', 'художественная', 'толстой', 'шекспир', 'достоевский', 'роман', 'фанфин',\n",
    "                   'приключение'],\n",
    "    'crime': ['полиция', 'суд', 'преступник', 'инцидент', 'штраф', 'преступление', 'тюрьма', 'расследование', \n",
    "              'расследовать', 'жертва'],\n",
    "    'travel': ['турист', 'туризм', 'путешествие', 'море', 'каникулы', 'пляж', 'отель', 'хостел', 'отпуск'],\n",
    "    'games': ['игры', 'xbox', 'игрок', 'steam', 'карты', 'игроки', 'урон', 'switch', 'дракон', 'персонаж', \n",
    "              'геймплей', 'консоль'],\n",
    "    'arhitecture': ['здание', 'построить', 'церковь', 'строение', 'мост', \n",
    "                    'крыша', 'улица', 'стиль', 'башня', 'спроектирован', 'камень',\n",
    "                    'архитектура']\n",
    "}"
   ]
  },
  {
   "cell_type": "code",
   "execution_count": 3,
   "metadata": {},
   "outputs": [
    {
     "data": {
      "text/html": [
       "<div>\n",
       "<style scoped>\n",
       "    .dataframe tbody tr th:only-of-type {\n",
       "        vertical-align: middle;\n",
       "    }\n",
       "\n",
       "    .dataframe tbody tr th {\n",
       "        vertical-align: top;\n",
       "    }\n",
       "\n",
       "    .dataframe thead th {\n",
       "        text-align: right;\n",
       "    }\n",
       "</style>\n",
       "<table border=\"1\" class=\"dataframe\">\n",
       "  <thead>\n",
       "    <tr style=\"text-align: right;\">\n",
       "      <th></th>\n",
       "      <th>Unnamed: 0</th>\n",
       "      <th>target</th>\n",
       "      <th>text</th>\n",
       "    </tr>\n",
       "  </thead>\n",
       "  <tbody>\n",
       "    <tr>\n",
       "      <th>0</th>\n",
       "      <td>0</td>\n",
       "      <td>A8</td>\n",
       "      <td>СИАБ раскидывает розничную сеть , Деловой Пете...</td>\n",
       "    </tr>\n",
       "    <tr>\n",
       "      <th>1</th>\n",
       "      <td>1</td>\n",
       "      <td>A1</td>\n",
       "      <td>Мужчины о женщинах и женщины о мужчинах .  Цен...</td>\n",
       "    </tr>\n",
       "    <tr>\n",
       "      <th>2</th>\n",
       "      <td>2</td>\n",
       "      <td>A8</td>\n",
       "      <td>Сервисное обслуживание и ремонт  « Ивановская ...</td>\n",
       "    </tr>\n",
       "    <tr>\n",
       "      <th>3</th>\n",
       "      <td>3</td>\n",
       "      <td>A17</td>\n",
       "      <td>Представляю вам коллекцию книг для блоггеров ,...</td>\n",
       "    </tr>\n",
       "    <tr>\n",
       "      <th>4</th>\n",
       "      <td>4</td>\n",
       "      <td>A8</td>\n",
       "      <td>Статьи и заметки  Как мы уже сообщали , 26 ноя...</td>\n",
       "    </tr>\n",
       "  </tbody>\n",
       "</table>\n",
       "</div>"
      ],
      "text/plain": [
       "   Unnamed: 0 target                                               text\n",
       "0           0     A8  СИАБ раскидывает розничную сеть , Деловой Пете...\n",
       "1           1     A1  Мужчины о женщинах и женщины о мужчинах .  Цен...\n",
       "2           2     A8  Сервисное обслуживание и ремонт  « Ивановская ...\n",
       "3           3    A17  Представляю вам коллекцию книг для блоггеров ,...\n",
       "4           4     A8  Статьи и заметки  Как мы уже сообщали , 26 ноя..."
      ]
     },
     "execution_count": 3,
     "metadata": {},
     "output_type": "execute_result"
    }
   ],
   "source": [
    "big_df_ru = pd.read_csv('/home/mlepekhin/data/big/ru.csv')\n",
    "big_df_ru.head()"
   ]
  },
  {
   "cell_type": "code",
   "execution_count": 4,
   "metadata": {},
   "outputs": [],
   "source": [
    "from natasha import (\n",
    "    Segmenter,\n",
    "    MorphVocab,\n",
    "    NewsEmbedding,\n",
    "    NewsMorphTagger,\n",
    "    Doc\n",
    ")\n",
    "\n",
    "\n",
    "segmenter = Segmenter()\n",
    "morph_vocab = MorphVocab()\n",
    "emb = NewsEmbedding()\n",
    "morph_tagger = NewsMorphTagger(emb)"
   ]
  },
  {
   "cell_type": "code",
   "execution_count": 5,
   "metadata": {},
   "outputs": [],
   "source": [
    "def get_sentences_for_topic_ru(topic_words, df, sent_for_topic):\n",
    "    result = []\n",
    "    \n",
    "    for text in df.text.values[:5000]:\n",
    "        for sentence in re.split(r\"[.?!]+\", text):\n",
    "            prefix = ' '.join(sentence.split()[:20]).lower()\n",
    "            doc = Doc(prefix)\n",
    "            doc.segment(segmenter)\n",
    "            doc.tag_morph(morph_tagger)\n",
    "            for token in doc.tokens:\n",
    "                token.lemmatize(morph_vocab)\n",
    "                if token.lemma in topic_words:\n",
    "                    result.append(prefix)\n",
    "                    break\n",
    "            if len(result) == sent_for_topic:\n",
    "                return result\n",
    "    return result\n",
    "\n",
    "\n",
    "def make_topic_sentences_df(topic_dict, df, sent_for_topic=100, get_sentences_for_topic=None):\n",
    "    result_df = pd.DataFrame({'topic': [], 'sentence': []})\n",
    "    for topic, topic_words in tqdm.tqdm(topic_dict.items()):\n",
    "        for sentence in get_sentences_for_topic(set(topic_words), df, sent_for_topic):\n",
    "            result_df = result_df.append({'topic': topic, 'sentence': sentence}, ignore_index=True)\n",
    "    return result_df"
   ]
  },
  {
   "cell_type": "code",
   "execution_count": 6,
   "metadata": {},
   "outputs": [
    {
     "name": "stderr",
     "output_type": "stream",
     "text": [
      "100%|██████████| 10/10 [07:27<00:00, 44.78s/it]\n"
     ]
    }
   ],
   "source": [
    "sent_df_ru = make_topic_sentences_df(ru_topics, big_df_ru, get_sentences_for_topic=get_sentences_for_topic_ru)"
   ]
  },
  {
   "cell_type": "code",
   "execution_count": 7,
   "metadata": {},
   "outputs": [
    {
     "name": "stdout",
     "output_type": "stream",
     "text": [
      "(1000, 2)\n"
     ]
    },
    {
     "data": {
      "text/html": [
       "<div>\n",
       "<style scoped>\n",
       "    .dataframe tbody tr th:only-of-type {\n",
       "        vertical-align: middle;\n",
       "    }\n",
       "\n",
       "    .dataframe tbody tr th {\n",
       "        vertical-align: top;\n",
       "    }\n",
       "\n",
       "    .dataframe thead th {\n",
       "        text-align: right;\n",
       "    }\n",
       "</style>\n",
       "<table border=\"1\" class=\"dataframe\">\n",
       "  <thead>\n",
       "    <tr style=\"text-align: right;\">\n",
       "      <th></th>\n",
       "      <th>topic</th>\n",
       "      <th>sentence</th>\n",
       "    </tr>\n",
       "  </thead>\n",
       "  <tbody>\n",
       "    <tr>\n",
       "      <th>0</th>\n",
       "      <td>music</td>\n",
       "      <td>на тумбочке слева от шкафа рассматриваем альбо...</td>\n",
       "    </tr>\n",
       "    <tr>\n",
       "      <th>1</th>\n",
       "      <td>music</td>\n",
       "      <td>любое другое использование песен без дополните...</td>\n",
       "    </tr>\n",
       "    <tr>\n",
       "      <th>2</th>\n",
       "      <td>music</td>\n",
       "      <td>как правило , изобразительному искусству и муз...</td>\n",
       "    </tr>\n",
       "    <tr>\n",
       "      <th>3</th>\n",
       "      <td>music</td>\n",
       "      <td>детям частенько говорят : не занимайся музыкой...</td>\n",
       "    </tr>\n",
       "    <tr>\n",
       "      <th>4</th>\n",
       "      <td>music</td>\n",
       "      <td>обновлен раздел \" фотографии \" - добавлено нес...</td>\n",
       "    </tr>\n",
       "  </tbody>\n",
       "</table>\n",
       "</div>"
      ],
      "text/plain": [
       "   topic                                           sentence\n",
       "0  music  на тумбочке слева от шкафа рассматриваем альбо...\n",
       "1  music  любое другое использование песен без дополните...\n",
       "2  music  как правило , изобразительному искусству и муз...\n",
       "3  music  детям частенько говорят : не занимайся музыкой...\n",
       "4  music  обновлен раздел \" фотографии \" - добавлено нес..."
      ]
     },
     "execution_count": 7,
     "metadata": {},
     "output_type": "execute_result"
    }
   ],
   "source": [
    "print(sent_df_ru.shape)\n",
    "sent_df_ru.head()"
   ]
  },
  {
   "cell_type": "code",
   "execution_count": 8,
   "metadata": {},
   "outputs": [],
   "source": [
    "sent_df_ru.to_csv('/home/mlepekhin/data/ru_topic_big_sentences.csv')"
   ]
  },
  {
   "cell_type": "markdown",
   "metadata": {},
   "source": [
    "## English"
   ]
  },
  {
   "cell_type": "code",
   "execution_count": 9,
   "metadata": {},
   "outputs": [
    {
     "data": {
      "text/html": [
       "<div>\n",
       "<style scoped>\n",
       "    .dataframe tbody tr th:only-of-type {\n",
       "        vertical-align: middle;\n",
       "    }\n",
       "\n",
       "    .dataframe tbody tr th {\n",
       "        vertical-align: top;\n",
       "    }\n",
       "\n",
       "    .dataframe thead th {\n",
       "        text-align: right;\n",
       "    }\n",
       "</style>\n",
       "<table border=\"1\" class=\"dataframe\">\n",
       "  <thead>\n",
       "    <tr style=\"text-align: right;\">\n",
       "      <th></th>\n",
       "      <th>Unnamed: 0</th>\n",
       "      <th>target</th>\n",
       "      <th>text</th>\n",
       "    </tr>\n",
       "  </thead>\n",
       "  <tbody>\n",
       "    <tr>\n",
       "      <th>0</th>\n",
       "      <td>0</td>\n",
       "      <td>A17</td>\n",
       "      <td>The ' Baronet Supreme ' is upholstered using ...</td>\n",
       "    </tr>\n",
       "    <tr>\n",
       "      <th>1</th>\n",
       "      <td>1</td>\n",
       "      <td>A17</td>\n",
       "      <td>This book explores some of the remarkable sto...</td>\n",
       "    </tr>\n",
       "    <tr>\n",
       "      <th>2</th>\n",
       "      <td>2</td>\n",
       "      <td>A17</td>\n",
       "      <td>Course Aims This course will teach support pr...</td>\n",
       "    </tr>\n",
       "    <tr>\n",
       "      <th>3</th>\n",
       "      <td>3</td>\n",
       "      <td>A7</td>\n",
       "      <td>In the News 24 November 2002 The Office of Fa...</td>\n",
       "    </tr>\n",
       "    <tr>\n",
       "      <th>4</th>\n",
       "      <td>4</td>\n",
       "      <td>A7</td>\n",
       "      <td>Signing the metadata for the SDSS federation ...</td>\n",
       "    </tr>\n",
       "  </tbody>\n",
       "</table>\n",
       "</div>"
      ],
      "text/plain": [
       "   Unnamed: 0 target                                               text\n",
       "0           0    A17   The ' Baronet Supreme ' is upholstered using ...\n",
       "1           1    A17   This book explores some of the remarkable sto...\n",
       "2           2    A17   Course Aims This course will teach support pr...\n",
       "3           3     A7   In the News 24 November 2002 The Office of Fa...\n",
       "4           4     A7   Signing the metadata for the SDSS federation ..."
      ]
     },
     "execution_count": 9,
     "metadata": {},
     "output_type": "execute_result"
    }
   ],
   "source": [
    "big_df_en = pd.read_csv('/home/mlepekhin/data/big/en.csv')\n",
    "big_df_en.head()"
   ]
  },
  {
   "cell_type": "code",
   "execution_count": 10,
   "metadata": {},
   "outputs": [],
   "source": [
    "en_topics = {\n",
    "    'music': ['music', 'band', 'album', 'songs', 'sound', 'love', 'rock', 'playing', 'guitar', 'jazz'],\n",
    "    'education': ['student', 'learning', 'courses', 'teaching', 'skills', 'education', 'study', 'college'],\n",
    "    'politics': ['election', 'votes', 'assembly', 'candidate', 'democratic', \n",
    "                 'council', 'minister', 'parliament', 'politician', 'legislative', 'seats', 'vote'],\n",
    "    'sport': ['football', 'coach', 'basketball', 'tournament', 'schedule', 'games', 'league', 'division', 'team', 'teams'],\n",
    "    'business': ['technology', 'platform', 'companies', 'industry', 'product', 'design',\n",
    "                 'upgrade', 'automation', 'users', 'ideas'],\n",
    "    'literature': ['books', 'literature', 'fiction', 'tolstoy', 'shakespeare', 'dostoevsky', 'romanism', 'fanfics', 'adventure'],\n",
    "    'crime': ['police', 'court', 'officer', 'incident', 'charges', 'crime', 'prison', 'investigation', 'accused', 'victim'],\n",
    "    'travel': ['tourist', 'tourism', 'travel', 'seaside', 'vacation', 'beach', 'hotel', 'hostel'],\n",
    "    'games': ['games', 'xbox', 'players', 'steam', 'cards', 'player', 'damage', 'switch', 'dragon', 'character', \n",
    "              'reload', 'console'],\n",
    "    'arhitecture': ['building', 'historic', 'church', 'buildings', 'brick', \n",
    "                    'roof', 'street', 'style', 'tower', 'designed', 'stone', 'architecture']\n",
    "}"
   ]
  },
  {
   "cell_type": "code",
   "execution_count": 11,
   "metadata": {},
   "outputs": [
    {
     "name": "stdout",
     "output_type": "stream",
     "text": [
      "rocks : rock\n",
      "corpora : corpus\n"
     ]
    }
   ],
   "source": [
    "import nltk\n",
    "#nltk.download('wordnet')\n",
    "from nltk.stem import WordNetLemmatizer \n",
    "\n",
    "lemmatizer = WordNetLemmatizer() \n",
    "\n",
    "print(\"rocks :\", lemmatizer.lemmatize(\"rocks\")) \n",
    "print(\"corpora :\", lemmatizer.lemmatize(\"corpora\")) "
   ]
  },
  {
   "cell_type": "code",
   "execution_count": 12,
   "metadata": {},
   "outputs": [],
   "source": [
    "def get_sentences_for_topic_en(topic_words, df, sent_for_topic):\n",
    "    result = []\n",
    "    \n",
    "    for text in df.text.values[:10000]:\n",
    "        for sentence in re.split(r\"[.?!]+\", text):\n",
    "            prefix_tokens = sentence.lower().split()[:20]\n",
    "            for token in prefix_tokens:\n",
    "                if lemmatizer.lemmatize(token) in topic_words:\n",
    "                    result.append(' '.join(prefix_tokens))\n",
    "                    break\n",
    "            if len(result) == sent_for_topic:\n",
    "                return result\n",
    "    return result"
   ]
  },
  {
   "cell_type": "code",
   "execution_count": 13,
   "metadata": {},
   "outputs": [
    {
     "name": "stderr",
     "output_type": "stream",
     "text": [
      "100%|██████████| 10/10 [00:05<00:00,  1.75it/s]\n"
     ]
    }
   ],
   "source": [
    "sent_df_en = make_topic_sentences_df(en_topics, big_df_en, get_sentences_for_topic=get_sentences_for_topic_en)"
   ]
  },
  {
   "cell_type": "code",
   "execution_count": 14,
   "metadata": {},
   "outputs": [
    {
     "name": "stdout",
     "output_type": "stream",
     "text": [
      "(1000, 2)\n"
     ]
    },
    {
     "data": {
      "text/html": [
       "<div>\n",
       "<style scoped>\n",
       "    .dataframe tbody tr th:only-of-type {\n",
       "        vertical-align: middle;\n",
       "    }\n",
       "\n",
       "    .dataframe tbody tr th {\n",
       "        vertical-align: top;\n",
       "    }\n",
       "\n",
       "    .dataframe thead th {\n",
       "        text-align: right;\n",
       "    }\n",
       "</style>\n",
       "<table border=\"1\" class=\"dataframe\">\n",
       "  <thead>\n",
       "    <tr style=\"text-align: right;\">\n",
       "      <th></th>\n",
       "      <th>topic</th>\n",
       "      <th>sentence</th>\n",
       "    </tr>\n",
       "  </thead>\n",
       "  <tbody>\n",
       "    <tr>\n",
       "      <th>0</th>\n",
       "      <td>music</td>\n",
       "      <td>at upton heath school we aim to give the child...</td>\n",
       "    </tr>\n",
       "    <tr>\n",
       "      <th>1</th>\n",
       "      <td>music</td>\n",
       "      <td>music on a summer evening with ronan keating i...</td>\n",
       "    </tr>\n",
       "    <tr>\n",
       "      <th>2</th>\n",
       "      <td>music</td>\n",
       "      <td>do n't you just love it when a plan comes toge...</td>\n",
       "    </tr>\n",
       "    <tr>\n",
       "      <th>3</th>\n",
       "      <td>music</td>\n",
       "      <td>dont got buying stuff from billy bobs corner m...</td>\n",
       "    </tr>\n",
       "    <tr>\n",
       "      <th>4</th>\n",
       "      <td>music</td>\n",
       "      <td>an all-star cast including hugh grant , emma t...</td>\n",
       "    </tr>\n",
       "  </tbody>\n",
       "</table>\n",
       "</div>"
      ],
      "text/plain": [
       "   topic                                           sentence\n",
       "0  music  at upton heath school we aim to give the child...\n",
       "1  music  music on a summer evening with ronan keating i...\n",
       "2  music  do n't you just love it when a plan comes toge...\n",
       "3  music  dont got buying stuff from billy bobs corner m...\n",
       "4  music  an all-star cast including hugh grant , emma t..."
      ]
     },
     "execution_count": 14,
     "metadata": {},
     "output_type": "execute_result"
    }
   ],
   "source": [
    "print(sent_df_en.shape)\n",
    "sent_df_en.head()"
   ]
  },
  {
   "cell_type": "code",
   "execution_count": 15,
   "metadata": {},
   "outputs": [],
   "source": [
    "sent_df_en.to_csv('/home/mlepekhin/data/en_topic_big_sentences.csv')"
   ]
  },
  {
   "cell_type": "code",
   "execution_count": null,
   "metadata": {},
   "outputs": [],
   "source": []
  }
 ],
 "metadata": {
  "kernelspec": {
   "display_name": "Python 3",
   "language": "python",
   "name": "python3"
  },
  "language_info": {
   "codemirror_mode": {
    "name": "ipython",
    "version": 3
   },
   "file_extension": ".py",
   "mimetype": "text/x-python",
   "name": "python",
   "nbconvert_exporter": "python",
   "pygments_lexer": "ipython3",
   "version": "3.8.3"
  }
 },
 "nbformat": 4,
 "nbformat_minor": 4
}
