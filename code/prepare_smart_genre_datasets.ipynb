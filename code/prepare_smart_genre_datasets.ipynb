{
 "cells": [
  {
   "cell_type": "code",
   "execution_count": 1,
   "metadata": {},
   "outputs": [],
   "source": [
    "import numpy as np\n",
    "import pandas as pd\n",
    "import tqdm\n",
    "import re\n",
    "from os.path import join as pathjoin"
   ]
  },
  {
   "cell_type": "code",
   "execution_count": 2,
   "metadata": {},
   "outputs": [],
   "source": [
    "ru_topics = {\n",
    "    'music': ['музыка', 'рок-группа', 'альбом', 'песня', 'звук', 'рок', 'гитара', 'джаз', 'рэп', 'музыкант'],\n",
    "    'education': ['студент', 'обучение', 'курсы', 'изучение', 'навыки', 'образование', 'учитель', 'школа', 'университет'],\n",
    "    'politics': ['выборы', 'голосование', 'ассамблея', 'кандидат', 'демократия', \n",
    "                 'консул', 'министр', 'парламент', 'политик', 'законодательный', 'республиканский', 'собрание'],\n",
    "    'sport': ['футбол', 'тренер', 'баскетбол', 'турнир', 'расписание', 'игры', 'лига', 'дивизион', 'команда', 'полузащитник'],\n",
    "    'business': ['технология', 'платформа', 'компания', 'производство', 'продукт', 'дизайн',\n",
    "                 'обновление', 'автоматизация', 'пользователь', 'эксплуатация'],\n",
    "    'literature': ['книга', 'литература', 'художественная', 'толстой', 'шекспир', 'достоевский', 'роман', 'фанфин',\n",
    "                   'приключение'],\n",
    "    'crime': ['полиция', 'суд', 'преступник', 'инцидент', 'штраф', 'преступление', 'тюрьма', 'расследование', \n",
    "              'расследовать', 'жертва'],\n",
    "    'travel': ['турист', 'туризм', 'путешествие', 'море', 'каникулы', 'пляж', 'отель', 'хостел', 'отпуск'],\n",
    "    'games': ['игры', 'xbox', 'игрок', 'steam', 'карты', 'игроки', 'урон', 'switch', 'дракон', 'персонаж', \n",
    "              'геймплей', 'консоль'],\n",
    "    'arhitecture': ['здание', 'построить', 'церковь', 'строение', 'мост', \n",
    "                    'крыша', 'улица', 'стиль', 'башня', 'спроектирован', 'камень',\n",
    "                    'архитектура']\n",
    "}"
   ]
  },
  {
   "cell_type": "code",
   "execution_count": 3,
   "metadata": {},
   "outputs": [
    {
     "data": {
      "text/html": [
       "<div>\n",
       "<style scoped>\n",
       "    .dataframe tbody tr th:only-of-type {\n",
       "        vertical-align: middle;\n",
       "    }\n",
       "\n",
       "    .dataframe tbody tr th {\n",
       "        vertical-align: top;\n",
       "    }\n",
       "\n",
       "    .dataframe thead th {\n",
       "        text-align: right;\n",
       "    }\n",
       "</style>\n",
       "<table border=\"1\" class=\"dataframe\">\n",
       "  <thead>\n",
       "    <tr style=\"text-align: right;\">\n",
       "      <th></th>\n",
       "      <th>Unnamed: 0</th>\n",
       "      <th>target</th>\n",
       "      <th>text</th>\n",
       "    </tr>\n",
       "  </thead>\n",
       "  <tbody>\n",
       "    <tr>\n",
       "      <th>0</th>\n",
       "      <td>0</td>\n",
       "      <td>A8</td>\n",
       "      <td>СИАБ раскидывает розничную сеть , Деловой Пете...</td>\n",
       "    </tr>\n",
       "    <tr>\n",
       "      <th>1</th>\n",
       "      <td>1</td>\n",
       "      <td>A1</td>\n",
       "      <td>Мужчины о женщинах и женщины о мужчинах .  Цен...</td>\n",
       "    </tr>\n",
       "    <tr>\n",
       "      <th>2</th>\n",
       "      <td>2</td>\n",
       "      <td>A8</td>\n",
       "      <td>Сервисное обслуживание и ремонт  « Ивановская ...</td>\n",
       "    </tr>\n",
       "    <tr>\n",
       "      <th>3</th>\n",
       "      <td>3</td>\n",
       "      <td>A17</td>\n",
       "      <td>Представляю вам коллекцию книг для блоггеров ,...</td>\n",
       "    </tr>\n",
       "    <tr>\n",
       "      <th>4</th>\n",
       "      <td>4</td>\n",
       "      <td>A8</td>\n",
       "      <td>Статьи и заметки  Как мы уже сообщали , 26 ноя...</td>\n",
       "    </tr>\n",
       "  </tbody>\n",
       "</table>\n",
       "</div>"
      ],
      "text/plain": [
       "   Unnamed: 0 target                                               text\n",
       "0           0     A8  СИАБ раскидывает розничную сеть , Деловой Пете...\n",
       "1           1     A1  Мужчины о женщинах и женщины о мужчинах .  Цен...\n",
       "2           2     A8  Сервисное обслуживание и ремонт  « Ивановская ...\n",
       "3           3    A17  Представляю вам коллекцию книг для блоггеров ,...\n",
       "4           4     A8  Статьи и заметки  Как мы уже сообщали , 26 ноя..."
      ]
     },
     "execution_count": 3,
     "metadata": {},
     "output_type": "execute_result"
    }
   ],
   "source": [
    "big_df_ru = pd.read_csv('/home/mlepekhin/data/big/ru.csv')\n",
    "big_df_ru.head()"
   ]
  },
  {
   "cell_type": "code",
   "execution_count": 4,
   "metadata": {},
   "outputs": [],
   "source": [
    "from natasha import (\n",
    "    Segmenter,\n",
    "    MorphVocab,\n",
    "    NewsEmbedding,\n",
    "    NewsMorphTagger,\n",
    "    Doc\n",
    ")\n",
    "\n",
    "\n",
    "segmenter = Segmenter()\n",
    "morph_vocab = MorphVocab()\n",
    "emb = NewsEmbedding()\n",
    "morph_tagger = NewsMorphTagger(emb)"
   ]
  },
  {
   "cell_type": "code",
   "execution_count": 5,
   "metadata": {},
   "outputs": [],
   "source": [
    "def get_texts_for_topic_ru(topic_words, df, sent_for_topic):\n",
    "    result = []\n",
    "    \n",
    "    for text in df.text.values[:10000]:\n",
    "        prefix = ' '.join(text.split()[:100]).lower()\n",
    "        doc = Doc(prefix)\n",
    "        doc.segment(segmenter)\n",
    "        doc.tag_morph(morph_tagger)\n",
    "        for token in doc.tokens:\n",
    "            token.lemmatize(morph_vocab)\n",
    "            if token.lemma in topic_words:\n",
    "                result.append(text)\n",
    "                break\n",
    "        if len(result) == sent_for_topic:\n",
    "            return result\n",
    "    return result\n",
    "\n",
    "\n",
    "def make_topic_sentences_df(topic_dict, df, sent_for_topic=100, get_texts_for_topic=None):\n",
    "    result_df = pd.DataFrame()\n",
    "    \n",
    "    for target in np.unique(df.target.values):\n",
    "        genre_df = df[df.target == target]\n",
    "        for topic, topic_words in tqdm.tqdm(topic_dict.items()):\n",
    "            for sentence in get_texts_for_topic(set(topic_words), genre_df, sent_for_topic):\n",
    "                result_df = result_df.append(\n",
    "                    {'target': target, 'topic': topic, 'text': sentence},\n",
    "                    ignore_index=True\n",
    "                )\n",
    "    return result_df"
   ]
  },
  {
   "cell_type": "code",
   "execution_count": 6,
   "metadata": {},
   "outputs": [
    {
     "name": "stderr",
     "output_type": "stream",
     "text": [
      "100%|██████████| 10/10 [05:06<00:00, 30.65s/it]\n",
      "100%|██████████| 10/10 [05:51<00:00, 35.10s/it]\n",
      "100%|██████████| 10/10 [09:26<00:00, 56.64s/it]\n",
      "100%|██████████| 10/10 [08:15<00:00, 49.54s/it]\n",
      "100%|██████████| 10/10 [06:01<00:00, 36.17s/it]\n",
      "100%|██████████| 10/10 [05:40<00:00, 34.04s/it]\n",
      "100%|██████████| 10/10 [01:53<00:00, 11.36s/it]\n",
      "100%|██████████| 10/10 [05:17<00:00, 31.77s/it]\n",
      "100%|██████████| 10/10 [04:10<00:00, 25.05s/it]\n",
      "100%|██████████| 10/10 [02:51<00:00, 17.13s/it]\n"
     ]
    }
   ],
   "source": [
    "sent_df_ru = make_topic_sentences_df(ru_topics, big_df_ru, get_texts_for_topic=get_texts_for_topic_ru)"
   ]
  },
  {
   "cell_type": "code",
   "execution_count": 19,
   "metadata": {},
   "outputs": [
    {
     "name": "stdout",
     "output_type": "stream",
     "text": [
      "(8389, 3)\n"
     ]
    },
    {
     "data": {
      "text/html": [
       "<div>\n",
       "<style scoped>\n",
       "    .dataframe tbody tr th:only-of-type {\n",
       "        vertical-align: middle;\n",
       "    }\n",
       "\n",
       "    .dataframe tbody tr th {\n",
       "        vertical-align: top;\n",
       "    }\n",
       "\n",
       "    .dataframe thead th {\n",
       "        text-align: right;\n",
       "    }\n",
       "</style>\n",
       "<table border=\"1\" class=\"dataframe\">\n",
       "  <thead>\n",
       "    <tr style=\"text-align: right;\">\n",
       "      <th></th>\n",
       "      <th>target</th>\n",
       "      <th>text</th>\n",
       "      <th>topic</th>\n",
       "    </tr>\n",
       "  </thead>\n",
       "  <tbody>\n",
       "    <tr>\n",
       "      <th>0</th>\n",
       "      <td>A1</td>\n",
       "      <td>Сайт посвящается светлой памяти гениального Жа...</td>\n",
       "      <td>music</td>\n",
       "    </tr>\n",
       "    <tr>\n",
       "      <th>1</th>\n",
       "      <td>A1</td>\n",
       "      <td>чуваки из Mastodon приготовили всем фанам и лю...</td>\n",
       "      <td>music</td>\n",
       "    </tr>\n",
       "    <tr>\n",
       "      <th>2</th>\n",
       "      <td>A1</td>\n",
       "      <td>Если Вам не нравится безудержный , молодой Спр...</td>\n",
       "      <td>music</td>\n",
       "    </tr>\n",
       "    <tr>\n",
       "      <th>3</th>\n",
       "      <td>A1</td>\n",
       "      <td>Сразу два дня – 26 и 27 сентября , в центральн...</td>\n",
       "      <td>music</td>\n",
       "    </tr>\n",
       "    <tr>\n",
       "      <th>4</th>\n",
       "      <td>A1</td>\n",
       "      <td>Творчество и медитация  Творчество – это , пре...</td>\n",
       "      <td>music</td>\n",
       "    </tr>\n",
       "  </tbody>\n",
       "</table>\n",
       "</div>"
      ],
      "text/plain": [
       "  target                                               text  topic\n",
       "0     A1  Сайт посвящается светлой памяти гениального Жа...  music\n",
       "1     A1  чуваки из Mastodon приготовили всем фанам и лю...  music\n",
       "2     A1  Если Вам не нравится безудержный , молодой Спр...  music\n",
       "3     A1  Сразу два дня – 26 и 27 сентября , в центральн...  music\n",
       "4     A1  Творчество и медитация  Творчество – это , пре...  music"
      ]
     },
     "execution_count": 19,
     "metadata": {},
     "output_type": "execute_result"
    }
   ],
   "source": [
    "print(sent_df_ru.shape)\n",
    "#print(sent_df_ru.sentence.values[:5])\n",
    "sent_df_ru.head()"
   ]
  },
  {
   "cell_type": "code",
   "execution_count": 8,
   "metadata": {},
   "outputs": [
    {
     "name": "stdout",
     "output_type": "stream",
     "text": [
      "mkdir: cannot create directory ‘/home/mlepekhin/data/smart_genre’: File exists\r\n"
     ]
    }
   ],
   "source": [
    "!mkdir '/home/mlepekhin/data/smart_genre'\n",
    "!mkdir -p '/home/mlepekhin/data/smart_genre/ru'\n",
    "!mkdir -p '/home/mlepekhin/data/smart_genre/en'"
   ]
  },
  {
   "cell_type": "code",
   "execution_count": 6,
   "metadata": {},
   "outputs": [],
   "source": [
    "def split_by_genres(df, result_dir):\n",
    "    result_dict = {}\n",
    "    \n",
    "    for text, target in zip(df['text'].values, df['target'].values):\n",
    "        if target not in result_dict:\n",
    "            result_dict[target] = []\n",
    "        result_dict[target].append(text)\n",
    "        \n",
    "    for key, value in result_dict.items():\n",
    "        with open(pathjoin(result_dir, f'{key}.txt'), 'w') as fout:\n",
    "            for text in value:\n",
    "                fout.write(f'{text}\\n')"
   ]
  },
  {
   "cell_type": "code",
   "execution_count": 7,
   "metadata": {},
   "outputs": [],
   "source": [
    "#split_by_genres(sent_df_ru, '/home/mlepekhin/data/smart_genre/ru')"
   ]
  },
  {
   "cell_type": "code",
   "execution_count": 11,
   "metadata": {},
   "outputs": [
    {
     "name": "stdout",
     "output_type": "stream",
     "text": [
      "A11.txt  A14.txt  A17.txt  A4.txt  A8.txt  all.csv\n",
      "A12.txt  A16.txt  A1.txt   A7.txt  A9.txt\n",
      "2000 /home/mlepekhin/data/smart_genre/ru/A1.txt\n"
     ]
    }
   ],
   "source": [
    "!ls '/home/mlepekhin/data/smart_genre/ru'\n",
    "!wc -l '/home/mlepekhin/data/smart_genre/ru/A1.txt'"
   ]
  },
  {
   "cell_type": "code",
   "execution_count": 12,
   "metadata": {},
   "outputs": [],
   "source": [
    "sent_df_ru.to_csv('/home/mlepekhin/data/smart_genre/ru/all.csv')"
   ]
  },
  {
   "cell_type": "markdown",
   "metadata": {},
   "source": [
    "## English"
   ]
  },
  {
   "cell_type": "code",
   "execution_count": 8,
   "metadata": {},
   "outputs": [
    {
     "data": {
      "text/html": [
       "<div>\n",
       "<style scoped>\n",
       "    .dataframe tbody tr th:only-of-type {\n",
       "        vertical-align: middle;\n",
       "    }\n",
       "\n",
       "    .dataframe tbody tr th {\n",
       "        vertical-align: top;\n",
       "    }\n",
       "\n",
       "    .dataframe thead th {\n",
       "        text-align: right;\n",
       "    }\n",
       "</style>\n",
       "<table border=\"1\" class=\"dataframe\">\n",
       "  <thead>\n",
       "    <tr style=\"text-align: right;\">\n",
       "      <th></th>\n",
       "      <th>Unnamed: 0</th>\n",
       "      <th>target</th>\n",
       "      <th>text</th>\n",
       "    </tr>\n",
       "  </thead>\n",
       "  <tbody>\n",
       "    <tr>\n",
       "      <th>0</th>\n",
       "      <td>0</td>\n",
       "      <td>A17</td>\n",
       "      <td>The ' Baronet Supreme ' is upholstered using ...</td>\n",
       "    </tr>\n",
       "    <tr>\n",
       "      <th>1</th>\n",
       "      <td>1</td>\n",
       "      <td>A17</td>\n",
       "      <td>This book explores some of the remarkable sto...</td>\n",
       "    </tr>\n",
       "    <tr>\n",
       "      <th>2</th>\n",
       "      <td>2</td>\n",
       "      <td>A17</td>\n",
       "      <td>Course Aims This course will teach support pr...</td>\n",
       "    </tr>\n",
       "    <tr>\n",
       "      <th>3</th>\n",
       "      <td>3</td>\n",
       "      <td>A7</td>\n",
       "      <td>In the News 24 November 2002 The Office of Fa...</td>\n",
       "    </tr>\n",
       "    <tr>\n",
       "      <th>4</th>\n",
       "      <td>4</td>\n",
       "      <td>A7</td>\n",
       "      <td>Signing the metadata for the SDSS federation ...</td>\n",
       "    </tr>\n",
       "  </tbody>\n",
       "</table>\n",
       "</div>"
      ],
      "text/plain": [
       "   Unnamed: 0 target                                               text\n",
       "0           0    A17   The ' Baronet Supreme ' is upholstered using ...\n",
       "1           1    A17   This book explores some of the remarkable sto...\n",
       "2           2    A17   Course Aims This course will teach support pr...\n",
       "3           3     A7   In the News 24 November 2002 The Office of Fa...\n",
       "4           4     A7   Signing the metadata for the SDSS federation ..."
      ]
     },
     "execution_count": 8,
     "metadata": {},
     "output_type": "execute_result"
    }
   ],
   "source": [
    "big_df_en = pd.read_csv('/home/mlepekhin/data/big/en.csv')\n",
    "big_df_en.head()"
   ]
  },
  {
   "cell_type": "code",
   "execution_count": 9,
   "metadata": {},
   "outputs": [],
   "source": [
    "en_topics = {\n",
    "    'music': ['music', 'band', 'album', 'songs', 'sound', 'love', 'rock', 'playing', 'guitar', 'jazz'],\n",
    "    'education': ['student', 'learning', 'courses', 'teaching', 'skills', 'education', 'study', 'college'],\n",
    "    'politics': ['election', 'votes', 'assembly', 'candidate', 'democratic', \n",
    "                 'council', 'minister', 'parliament', 'politician', 'legislative', 'seats', 'vote'],\n",
    "    'sport': ['football', 'coach', 'basketball', 'tournament', 'schedule', 'games', 'league', 'division', 'team', 'teams'],\n",
    "    'business': ['technology', 'platform', 'companies', 'industry', 'product', 'design',\n",
    "                 'upgrade', 'automation', 'users', 'ideas'],\n",
    "    'literature': ['books', 'literature', 'fiction', 'tolstoy', 'shakespeare', 'dostoevsky', 'romanism', 'fanfics', 'adventure'],\n",
    "    'crime': ['police', 'court', 'officer', 'incident', 'charges', 'crime', 'prison', 'investigation', 'accused', 'victim'],\n",
    "    'travel': ['tourist', 'tourism', 'travel', 'seaside', 'vacation', 'beach', 'hotel', 'hostel'],\n",
    "    'games': ['games', 'xbox', 'players', 'steam', 'cards', 'player', 'damage', 'switch', 'dragon', 'character', \n",
    "              'reload', 'console'],\n",
    "    'arhitecture': ['building', 'historic', 'church', 'buildings', 'brick', \n",
    "                    'roof', 'street', 'style', 'tower', 'designed', 'stone', 'architecture']\n",
    "}"
   ]
  },
  {
   "cell_type": "code",
   "execution_count": 10,
   "metadata": {},
   "outputs": [
    {
     "name": "stdout",
     "output_type": "stream",
     "text": [
      "rocks : rock\n",
      "corpora : corpus\n"
     ]
    }
   ],
   "source": [
    "import nltk\n",
    "#nltk.download('wordnet')\n",
    "from nltk.stem import WordNetLemmatizer \n",
    "\n",
    "lemmatizer = WordNetLemmatizer() \n",
    "\n",
    "print(\"rocks :\", lemmatizer.lemmatize(\"rocks\")) \n",
    "print(\"corpora :\", lemmatizer.lemmatize(\"corpora\")) "
   ]
  },
  {
   "cell_type": "code",
   "execution_count": 11,
   "metadata": {},
   "outputs": [],
   "source": [
    "def get_texts_for_topic_en(topic_words, df, sent_for_topic):\n",
    "    result = []\n",
    "    \n",
    "    for text in df.text.values[:10000]:\n",
    "        prefix_tokens = text.lower().split()[:100]\n",
    "        for token in prefix_tokens:\n",
    "            if lemmatizer.lemmatize(token) in topic_words:\n",
    "                result.append(text)\n",
    "                break\n",
    "        if len(result) == sent_for_topic:\n",
    "            return result\n",
    "    return result"
   ]
  },
  {
   "cell_type": "code",
   "execution_count": 12,
   "metadata": {},
   "outputs": [
    {
     "name": "stderr",
     "output_type": "stream",
     "text": [
      "100%|██████████| 10/10 [00:10<00:00,  1.01s/it]\n",
      "100%|██████████| 10/10 [00:10<00:00,  1.05s/it]\n",
      "100%|██████████| 10/10 [00:07<00:00,  1.31it/s]\n",
      "100%|██████████| 10/10 [00:12<00:00,  1.26s/it]\n",
      "100%|██████████| 10/10 [00:07<00:00,  1.29it/s]\n",
      "100%|██████████| 10/10 [00:07<00:00,  1.28it/s]\n",
      "100%|██████████| 10/10 [00:08<00:00,  1.17it/s]\n",
      "100%|██████████| 10/10 [00:12<00:00,  1.21s/it]\n",
      "100%|██████████| 10/10 [00:10<00:00,  1.02s/it]\n",
      "100%|██████████| 10/10 [00:08<00:00,  1.22it/s]\n",
      "100%|██████████| 10/10 [00:13<00:00,  1.36s/it]\n"
     ]
    }
   ],
   "source": [
    "sent_df_en = make_topic_sentences_df(en_topics, big_df_en, get_texts_for_topic=get_texts_for_topic_en)"
   ]
  },
  {
   "cell_type": "code",
   "execution_count": 13,
   "metadata": {},
   "outputs": [
    {
     "name": "stdout",
     "output_type": "stream",
     "text": [
      "(10842, 3)\n"
     ]
    },
    {
     "data": {
      "text/html": [
       "<div>\n",
       "<style scoped>\n",
       "    .dataframe tbody tr th:only-of-type {\n",
       "        vertical-align: middle;\n",
       "    }\n",
       "\n",
       "    .dataframe tbody tr th {\n",
       "        vertical-align: top;\n",
       "    }\n",
       "\n",
       "    .dataframe thead th {\n",
       "        text-align: right;\n",
       "    }\n",
       "</style>\n",
       "<table border=\"1\" class=\"dataframe\">\n",
       "  <thead>\n",
       "    <tr style=\"text-align: right;\">\n",
       "      <th></th>\n",
       "      <th>target</th>\n",
       "      <th>text</th>\n",
       "      <th>topic</th>\n",
       "    </tr>\n",
       "  </thead>\n",
       "  <tbody>\n",
       "    <tr>\n",
       "      <th>0</th>\n",
       "      <td>A1</td>\n",
       "      <td>At Upton Heath School we aim to give the chil...</td>\n",
       "      <td>music</td>\n",
       "    </tr>\n",
       "    <tr>\n",
       "      <th>1</th>\n",
       "      <td>A1</td>\n",
       "      <td>VR in Education is a research project investi...</td>\n",
       "      <td>music</td>\n",
       "    </tr>\n",
       "    <tr>\n",
       "      <th>2</th>\n",
       "      <td>A1</td>\n",
       "      <td>Like the label , we did it because we could ...</td>\n",
       "      <td>music</td>\n",
       "    </tr>\n",
       "    <tr>\n",
       "      <th>3</th>\n",
       "      <td>A1</td>\n",
       "      <td>\" For you are all sons of God through faith i...</td>\n",
       "      <td>music</td>\n",
       "    </tr>\n",
       "    <tr>\n",
       "      <th>4</th>\n",
       "      <td>A1</td>\n",
       "      <td>Provides an overview of abortion law in the U...</td>\n",
       "      <td>music</td>\n",
       "    </tr>\n",
       "  </tbody>\n",
       "</table>\n",
       "</div>"
      ],
      "text/plain": [
       "  target                                               text  topic\n",
       "0     A1   At Upton Heath School we aim to give the chil...  music\n",
       "1     A1   VR in Education is a research project investi...  music\n",
       "2     A1   Like the label , we did it because we could ...  music\n",
       "3     A1   \" For you are all sons of God through faith i...  music\n",
       "4     A1   Provides an overview of abortion law in the U...  music"
      ]
     },
     "execution_count": 13,
     "metadata": {},
     "output_type": "execute_result"
    }
   ],
   "source": [
    "print(sent_df_en.shape)\n",
    "sent_df_en.head()"
   ]
  },
  {
   "cell_type": "code",
   "execution_count": null,
   "metadata": {},
   "outputs": [],
   "source": []
  },
  {
   "cell_type": "code",
   "execution_count": 16,
   "metadata": {},
   "outputs": [],
   "source": [
    "sent_df_en.to_csv('/home/mlepekhin/data/smart_genre/en/all.csv')"
   ]
  },
  {
   "cell_type": "code",
   "execution_count": 20,
   "metadata": {},
   "outputs": [],
   "source": [
    "#split_by_genres(sent_df_en, '/home/mlepekhin/data/smart_genre/en')"
   ]
  },
  {
   "cell_type": "code",
   "execution_count": 21,
   "metadata": {},
   "outputs": [
    {
     "name": "stdout",
     "output_type": "stream",
     "text": [
      "A11.txt  A14.txt  A17.txt  A22.txt  A7.txt  A9.txt\n",
      "A12.txt  A16.txt  A1.txt   A4.txt   A8.txt\n",
      "1994 /home/mlepekhin/data/smart_genre/en/A1.txt\n"
     ]
    }
   ],
   "source": [
    "!ls '/home/mlepekhin/data/smart_genre/en'\n",
    "!wc -l '/home/mlepekhin/data/smart_genre/en/A1.txt'"
   ]
  },
  {
   "cell_type": "code",
   "execution_count": 1,
   "metadata": {},
   "outputs": [
    {
     "name": "stdout",
     "output_type": "stream",
     "text": [
      "A11.txt  A14.txt  A17.txt  A4.txt  A8.txt  all.csv\r\n",
      "A12.txt  A16.txt  A1.txt   A7.txt  A9.txt\r\n"
     ]
    }
   ],
   "source": [
    "!ls '/home/mlepekhin/data/smart_genre/ru/all.csv'"
   ]
  },
  {
   "cell_type": "code",
   "execution_count": null,
   "metadata": {},
   "outputs": [],
   "source": []
  }
 ],
 "metadata": {
  "kernelspec": {
   "display_name": "Python 3",
   "language": "python",
   "name": "python3"
  },
  "language_info": {
   "codemirror_mode": {
    "name": "ipython",
    "version": 3
   },
   "file_extension": ".py",
   "mimetype": "text/x-python",
   "name": "python",
   "nbconvert_exporter": "python",
   "pygments_lexer": "ipython3",
   "version": "3.8.3"
  }
 },
 "nbformat": 4,
 "nbformat_minor": 4
}
