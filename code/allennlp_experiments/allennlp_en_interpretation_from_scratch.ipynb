{
 "cells": [
  {
   "cell_type": "code",
   "execution_count": 36,
   "metadata": {},
   "outputs": [],
   "source": [
    "from os.path import join as pathjoin\n",
    "from data_processing import *\n",
    "from interpretation import *\n",
    "from models import *\n",
    "from training import *"
   ]
  },
  {
   "cell_type": "code",
   "execution_count": 2,
   "metadata": {},
   "outputs": [],
   "source": [
    "DATA_DIR = '/home/mlepekhin/data'\n",
    "MODELS_DIR = '/home/mlepekhin/models'\n",
    "MODEL_ID = 'allennlp_bert_base_cased'\n",
    "CHECKPOINTS_DIR = pathjoin(MODELS_DIR, MODEL_ID, 'checkpoints')\n",
    "BEST_MODEL = pathjoin(CHECKPOINTS_DIR, 'best.th')"
   ]
  },
  {
   "cell_type": "code",
   "execution_count": 3,
   "metadata": {},
   "outputs": [],
   "source": [
    "transformer_model = 'bert-base-cased'\n",
    "MAX_TOKENS = 512"
   ]
  },
  {
   "cell_type": "markdown",
   "metadata": {},
   "source": [
    "### Loading of the pretrained model"
   ]
  },
  {
   "cell_type": "code",
   "execution_count": 4,
   "metadata": {},
   "outputs": [
    {
     "name": "stdout",
     "output_type": "stream",
     "text": [
      "Building the model\n"
     ]
    }
   ],
   "source": [
    "vocab = Vocabulary().from_files(pathjoin(MODELS_DIR, MODEL_ID, 'vocab'))\n",
    "model = build_transformer_model(vocab, transformer_model)"
   ]
  },
  {
   "cell_type": "code",
   "execution_count": 5,
   "metadata": {},
   "outputs": [
    {
     "name": "stdout",
     "output_type": "stream",
     "text": [
      "{0: 'A1', 1: 'A12', 2: 'A7', 3: 'A16', 4: 'A8', 5: 'A22', 6: 'A4', 7: 'A11', 8: 'A14', 9: 'A9', 10: 'A17'}\n",
      "dict_values(['A1', 'A12', 'A7', 'A16', 'A8', 'A22', 'A4', 'A11', 'A14', 'A9', 'A17'])\n"
     ]
    }
   ],
   "source": [
    "id_to_label = vocab.get_index_to_token_vocabulary('labels')\n",
    "print(id_to_label)\n",
    "print(id_to_label.values())"
   ]
  },
  {
   "cell_type": "code",
   "execution_count": 6,
   "metadata": {},
   "outputs": [
    {
     "name": "stdout",
     "output_type": "stream",
     "text": [
      "0\n"
     ]
    },
    {
     "data": {
      "text/plain": [
       "<All keys matched successfully>"
      ]
     },
     "execution_count": 6,
     "metadata": {},
     "output_type": "execute_result"
    }
   ],
   "source": [
    "if torch.cuda.is_available():\n",
    "    cuda_device = 0\n",
    "else:\n",
    "    cuda_device = -1\n",
    "print(cuda_device)\n",
    "model.load_state_dict(torch.load(BEST_MODEL, map_location=f'cuda:{cuda_device}'))"
   ]
  },
  {
   "cell_type": "markdown",
   "metadata": {},
   "source": [
    "### Data loading"
   ]
  },
  {
   "cell_type": "code",
   "execution_count": 7,
   "metadata": {},
   "outputs": [
    {
     "data": {
      "text/html": [
       "<div>\n",
       "<style scoped>\n",
       "    .dataframe tbody tr th:only-of-type {\n",
       "        vertical-align: middle;\n",
       "    }\n",
       "\n",
       "    .dataframe tbody tr th {\n",
       "        vertical-align: top;\n",
       "    }\n",
       "\n",
       "    .dataframe thead th {\n",
       "        text-align: right;\n",
       "    }\n",
       "</style>\n",
       "<table border=\"1\" class=\"dataframe\">\n",
       "  <thead>\n",
       "    <tr style=\"text-align: right;\">\n",
       "      <th></th>\n",
       "      <th>Unnamed: 0</th>\n",
       "      <th>target</th>\n",
       "      <th>text</th>\n",
       "    </tr>\n",
       "  </thead>\n",
       "  <tbody>\n",
       "    <tr>\n",
       "      <th>0</th>\n",
       "      <td>64</td>\n",
       "      <td>A4</td>\n",
       "      <td>THE PURLOINED LETTER . -----------------------...</td>\n",
       "    </tr>\n",
       "    <tr>\n",
       "      <th>1</th>\n",
       "      <td>1575</td>\n",
       "      <td>A7</td>\n",
       "      <td>Judge Finds Probable Cause Against a Greeley p...</td>\n",
       "    </tr>\n",
       "    <tr>\n",
       "      <th>2</th>\n",
       "      <td>1254</td>\n",
       "      <td>A11</td>\n",
       "      <td>Sitting at the bar or in a booth like we did ,...</td>\n",
       "    </tr>\n",
       "    <tr>\n",
       "      <th>3</th>\n",
       "      <td>790</td>\n",
       "      <td>A14</td>\n",
       "      <td>Keywords : Crystallography , Thermal diffuse Z...</td>\n",
       "    </tr>\n",
       "    <tr>\n",
       "      <th>4</th>\n",
       "      <td>1389</td>\n",
       "      <td>A12</td>\n",
       "      <td>What kind of professional business people can ...</td>\n",
       "    </tr>\n",
       "  </tbody>\n",
       "</table>\n",
       "</div>"
      ],
      "text/plain": [
       "   Unnamed: 0 target                                               text\n",
       "0          64     A4  THE PURLOINED LETTER . -----------------------...\n",
       "1        1575     A7  Judge Finds Probable Cause Against a Greeley p...\n",
       "2        1254    A11  Sitting at the bar or in a booth like we did ,...\n",
       "3         790    A14  Keywords : Crystallography , Thermal diffuse Z...\n",
       "4        1389    A12  What kind of professional business people can ..."
      ]
     },
     "execution_count": 7,
     "metadata": {},
     "output_type": "execute_result"
    }
   ],
   "source": [
    "en_test_df = pd.read_csv(pathjoin(DATA_DIR, 'en_test'))\n",
    "en_test_df.head()"
   ]
  },
  {
   "cell_type": "code",
   "execution_count": 8,
   "metadata": {},
   "outputs": [],
   "source": [
    "true_classes = en_test_df.target.values\n",
    "sentences = en_test_df.text.values"
   ]
  },
  {
   "cell_type": "markdown",
   "metadata": {},
   "source": [
    "### Preliminary analysis"
   ]
  },
  {
   "cell_type": "code",
   "execution_count": 19,
   "metadata": {},
   "outputs": [],
   "source": [
    "dataset_reader = build_transformer_dataset_reader(transformer_model, MAX_TOKENS)\n",
    "predictor = TextClassifierPredictor(model, dataset_reader=dataset_reader)\n",
    "predicted_classes = np.array(predict_classes(sentences, predictor, vocab))"
   ]
  },
  {
   "cell_type": "code",
   "execution_count": 29,
   "metadata": {},
   "outputs": [
    {
     "name": "stdout",
     "output_type": "stream",
     "text": [
      "<class 'numpy.ndarray'>\n"
     ]
    }
   ],
   "source": [
    "print(type(predicted_classes == 'A1'))"
   ]
  },
  {
   "cell_type": "code",
   "execution_count": 21,
   "metadata": {},
   "outputs": [
    {
     "name": "stdout",
     "output_type": "stream",
     "text": [
      "11\n"
     ]
    }
   ],
   "source": [
    "print(len(np.unique(true_classes)))"
   ]
  },
  {
   "cell_type": "code",
   "execution_count": 38,
   "metadata": {},
   "outputs": [
    {
     "name": "stdout",
     "output_type": "stream",
     "text": [
      "label (argum) f1_score 0.6404494382022472 precision 0.7402597402597403 recall 0.5643564356435643\n",
      "label (fictive) f1_score 0.9090909090909091 precision 0.8928571428571429 recall 0.9259259259259259\n",
      "label (instruct) f1_score 0.6428571428571429 precision 0.54 recall 0.7941176470588235\n",
      "label (reporting) f1_score 0.746268656716418 precision 0.6756756756756757 recall 0.8333333333333334\n",
      "label (legal) f1_score 0.8000000000000002 precision 0.7058823529411765 recall 0.9230769230769231\n",
      "label (personal) f1_score 0.6190476190476191 precision 0.6842105263157895 recall 0.5652173913043478\n",
      "label (commercial) f1_score 0.7183098591549295 precision 0.7727272727272727 recall 0.6710526315789473\n",
      "label (research) f1_score 0.6 precision 0.5217391304347826 recall 0.7058823529411765\n",
      "label (info) f1_score 0.6590909090909091 precision 0.7631578947368421 recall 0.58\n",
      "label (eval) f1_score 0.8095238095238095 precision 0.7727272727272727 recall 0.85\n",
      "label (stuff) f1_score 0.7894736842105263 precision 0.6666666666666666 recall 0.967741935483871\n",
      "accuracy 0.7061611374407583\n"
     ]
    }
   ],
   "source": [
    "calc_classifier_metrics(predicted_classes, true_classes)"
   ]
  },
  {
   "cell_type": "code",
   "execution_count": 39,
   "metadata": {},
   "outputs": [
    {
     "data": {
      "image/png": "[encoded data removed]",
      "text/plain": [
       "<Figure size 1080x1080 with 2 Axes>"
      ]
     },
     "metadata": {
      "needs_background": "light"
     },
     "output_type": "display_data"
    }
   ],
   "source": [
    "plot_confusion_matrix(predicted_classes, true_classes)"
   ]
  },
  {
   "cell_type": "markdown",
   "metadata": {},
   "source": [
    "### Saliency Gradient Interpretation"
   ]
  },
  {
   "cell_type": "code",
   "execution_count": 40,
   "metadata": {},
   "outputs": [],
   "source": [
    "smooth_grad = SmoothGradient(predictor)\n",
    "simple_grad = SimpleGradient(predictor)\n",
    "integrated_grad = IntegratedGradient(predictor)"
   ]
  },
  {
   "cell_type": "code",
   "execution_count": 41,
   "metadata": {},
   "outputs": [],
   "source": [
    "mistake_ids = []\n",
    "\n",
    "for sent_id in range(len(true_classes)):\n",
    "    if true_classes[sent_id] != predicted_classes[sent_id]:\n",
    "        mistake_ids.append(sent_id)"
   ]
  },
  {
   "cell_type": "code",
   "execution_count": 42,
   "metadata": {},
   "outputs": [
    {
     "name": "stdout",
     "output_type": "stream",
     "text": [
      "TRUE LABEL: instruct\n",
      "LABEL: argum\n",
      "<class 'allennlp.interpret.saliency_interpreters.smooth_gradient.SmoothGradient'> TEXT:\n",
      "Judge \u001b[31mFind\u001b[0m \u001b[31m##s\u001b[0m Pro ##ba \u001b[31m##ble\u001b[0m Cause \u001b[31mAgainst\u001b[0m \u001b[31ma\u001b[0m \u001b[31mG\u001b[0m ##ree ##ley police Officer A judge \u001b[31mhas\u001b[0m \u001b[31mfound\u001b[0m \u001b[31mprobable\u001b[0m \u001b[31mcause\u001b[0m to have a trial in the sexual \u001b[31massault\u001b[0m trial of a police officer charged with g ##rop ##ing a female driver \u001b[31mhe\u001b[0m had stopped . \u001b[31mThe\u001b[0m \u001b[31mstory\u001b[0m \u001b[31min\u001b[0m the Tribune \u001b[31malso\u001b[0m said \u001b[31mthe\u001b[0m officer changed his \u001b[31mstory\u001b[0m about not stopping the driver at all , when GPS records for his vehicle placed him at the site of the incident . This is just some of the procedures that the state \u001b[31mand\u001b[0m attorney for the defense go through in our criminal justice \u001b[31msystem\u001b[0m . If you have been arrested \u001b[31mfor\u001b[0m an assault , sexual \u001b[31mor\u001b[0m otherwise you \u001b[31mcan\u001b[0m hire an expert to defend you . You can get a Colorado criminal defense attorney . In the case cited , the defendant ' s attorney filed a motion to dismiss \u001b[31mthe\u001b[0m charges due to no probable cause . As happens \u001b[31m,\u001b[0m the aspects \u001b[31mof\u001b[0m a simple sexual assault case such as this sometimes leaves little evidence other than conflicting stories . When \u001b[31ma\u001b[0m Colorado criminal defense attorney looks \u001b[31mover\u001b[0m the evidence , the merits of the state \u001b[31m'\u001b[0m s case can lead to a request for dismissal . As in this case , even if that is not achieved \u001b[31mthere\u001b[0m are many other strategies that an experienced Colorado criminal defense attorney can use to get an a ##c ##qui ##tta ##l . Any accounts by witnesses will be reviewed for conflict with established facts . The conduct of the arrest ##ing officer will be reviewed to make sure proper reading of your rights \u001b[31mand\u001b[0m other procedures were followed to the full letter of the law . The Colorado criminal defense attorney knows how to make every piece of evidence in your favor known to the court . They also will \u001b[31mfile\u001b[0m to keep out any evidence that was obtained imp ##roper ##ly by the police . The law is very complicated and the best defense is made by a person used to dealing with it every day . You \u001b[31mmust\u001b[0m \u001b[31mmeet\u001b[0m \u001b[31mwith\u001b[0m a Colorado criminal defense \u001b[31mattorney\u001b[0m as soon as possible . The sooner \u001b[31myou\u001b[0m do , the sooner \u001b[31myou\u001b[0m may go free . Colorado \u001b[31mSprings\u001b[0m \u001b[31mMan\u001b[0m Charge ##d with St ##eal ##ing Mari ##ju ##ana Plant \u001b[31mThe\u001b[0m Denver \u001b[31mpost\u001b[0m reported that a Colorado Springs man was charged with theft after being seen leaving a marijuana di ##sp ##ens ##ary by police with a knife in one hand and a marijuana \u001b[31mplant\u001b[0m in the other . This person who is charged could be in a better situation if \u001b[31mhe\u001b[0m did n ' t have the knife . That can lead to a serious weapons charge . The involvement of the drug will certainly \u001b[31mbe\u001b[0m a minor problem when compared to the weapon . Assault \u001b[31mcrimes\u001b[0m , r ##ob ##ber ##ies and other f ##elo ##nies are ma ##gni ##fied when weapons are involved . If \u001b[31myou\u001b[0m \u001b[31mhave\u001b[0m been charged \u001b[31mwith\u001b[0m a crime \u001b[31mand\u001b[0m a weapon was found in your possession [SEP] \n",
      "\n",
      "<class 'allennlp.interpret.saliency_interpreters.simple_gradient.SimpleGradient'> TEXT:\n",
      "Judge \u001b[31mFind\u001b[0m ##s \u001b[31mPro\u001b[0m ##ba \u001b[31m##ble\u001b[0m \u001b[31mCause\u001b[0m \u001b[31mAgainst\u001b[0m a \u001b[31mG\u001b[0m ##ree ##ley police Officer A \u001b[31mjudge\u001b[0m has found \u001b[31mprobable\u001b[0m cause \u001b[31mto\u001b[0m have a trial in \u001b[31mthe\u001b[0m sexual assault trial of a \u001b[31mpolice\u001b[0m \u001b[31mofficer\u001b[0m charged with g ##rop ##ing a \u001b[31mfemale\u001b[0m driver he \u001b[31mhad\u001b[0m \u001b[31mstopped\u001b[0m \u001b[31m.\u001b[0m \u001b[31mThe\u001b[0m \u001b[31mstory\u001b[0m \u001b[31min\u001b[0m \u001b[31mthe\u001b[0m \u001b[31mTribune\u001b[0m \u001b[31malso\u001b[0m said \u001b[31mthe\u001b[0m \u001b[31mofficer\u001b[0m changed \u001b[31mhis\u001b[0m \u001b[31mstory\u001b[0m about \u001b[31mnot\u001b[0m stopping the driver at all , when GPS \u001b[31mrecords\u001b[0m for his vehicle \u001b[31mplaced\u001b[0m him at the site of the incident . This is just some of the procedures that the state and attorney for the \u001b[31mdefense\u001b[0m go through in our \u001b[31mcriminal\u001b[0m justice system . If you have been \u001b[31marrested\u001b[0m for an assault , \u001b[31msexual\u001b[0m or \u001b[31motherwise\u001b[0m you can hire an expert \u001b[31mto\u001b[0m defend you . You \u001b[31mcan\u001b[0m get a Colorado criminal \u001b[31mdefense\u001b[0m attorney . In the \u001b[31mcase\u001b[0m cited \u001b[31m,\u001b[0m the defendant ' s attorney filed a motion to dismiss the charges due to no probable cause . As happens , the aspects of a simple sexual assault case such as this sometimes \u001b[31mleaves\u001b[0m little evidence other than conflicting stories . When a Colorado criminal defense attorney looks over the evidence , the merits of the state ' s case can lead to a request for dismissal . As in this case , even if \u001b[31mthat\u001b[0m is not achieved there are many other strategies that an experienced Colorado criminal defense attorney can use to get an a ##c ##qui ##tta ##l . Any accounts by witnesses will be reviewed for conflict with established facts . The conduct of the arrest ##ing officer will be reviewed to make sure proper reading of your rights and other procedures were followed to the full letter of the law . The Colorado criminal defense attorney knows how to make every piece of evidence in your favor known to the court . They also will file to keep out any evidence that was obtained imp ##roper ##ly by the police . The law is very complicated and the best defense is made by a person used to dealing with it every day . \u001b[31mYou\u001b[0m must \u001b[31mmeet\u001b[0m \u001b[31mwith\u001b[0m a Colorado criminal \u001b[31mdefense\u001b[0m attorney as soon as possible . The sooner you do , the sooner you may \u001b[31mgo\u001b[0m free . Colorado Springs Man Charge ##d with St ##eal ##ing Mari ##ju ##ana Plant The Denver post reported that a Colorado Springs man was charged with theft after being seen leaving a marijuana di ##sp ##ens ##ary by police with a knife in one hand and a marijuana plant in the other . This person who is charged could be in a better situation if \u001b[31mhe\u001b[0m did n ' t have the knife . That can lead to a serious weapons charge . The involvement of the drug will certainly \u001b[31mbe\u001b[0m a minor problem when compared to the weapon . Assault \u001b[31mcrimes\u001b[0m , r ##ob ##ber ##ies and other f ##elo ##nies are ma ##gni ##fied when weapons are involved . If \u001b[31myou\u001b[0m have been charged with a crime and a weapon was found in your possession [SEP] \n",
      "\n",
      "<class 'allennlp.interpret.saliency_interpreters.integrated_gradient.IntegratedGradient'> TEXT:\n",
      "\u001b[31mJudge\u001b[0m \u001b[31mFind\u001b[0m ##s \u001b[31mPro\u001b[0m ##ba \u001b[31m##ble\u001b[0m Cause Against \u001b[31ma\u001b[0m \u001b[31mG\u001b[0m ##ree \u001b[31m##ley\u001b[0m \u001b[31mpolice\u001b[0m \u001b[31mOfficer\u001b[0m \u001b[31mA\u001b[0m \u001b[31mjudge\u001b[0m \u001b[31mhas\u001b[0m \u001b[31mfound\u001b[0m \u001b[31mprobable\u001b[0m \u001b[31mcause\u001b[0m to have a trial in the sexual assault trial of a police officer charged with g ##rop ##ing a female driver \u001b[31mhe\u001b[0m had stopped . The story in the Tribune \u001b[31malso\u001b[0m said \u001b[31mthe\u001b[0m \u001b[31mofficer\u001b[0m \u001b[31mchanged\u001b[0m \u001b[31mhis\u001b[0m story about not \u001b[31mstopping\u001b[0m the \u001b[31mdriver\u001b[0m at all \u001b[31m,\u001b[0m when \u001b[31mGPS\u001b[0m records for his vehicle placed him at the site of the incident \u001b[31m.\u001b[0m This is just some of the procedures that the state and attorney for the defense go through in our \u001b[31mcriminal\u001b[0m \u001b[31mjustice\u001b[0m system . If you have been arrested for an assault , sexual or otherwise \u001b[31myou\u001b[0m \u001b[31mcan\u001b[0m hire an expert to defend you . You can get a Colorado criminal defense attorney . In the case cited \u001b[31m,\u001b[0m the defendant ' s attorney filed a motion to dismiss the charges due to no probable cause . As happens \u001b[31m,\u001b[0m the aspects of a simple sexual assault case such \u001b[31mas\u001b[0m this sometimes leaves \u001b[31mlittle\u001b[0m evidence \u001b[31mother\u001b[0m \u001b[31mthan\u001b[0m conflicting stories . When a Colorado criminal defense attorney looks over the evidence , the merits of the state ' s case can lead to a request for dismissal . As in this case , even if that is not achieved there are many other strategies that \u001b[31man\u001b[0m experienced Colorado criminal defense attorney can use to get an a ##c \u001b[31m##qui\u001b[0m ##tta ##l . Any accounts by witnesses \u001b[31mwill\u001b[0m be reviewed for conflict with established facts . The conduct of the arrest ##ing officer will \u001b[31mbe\u001b[0m reviewed to make sure proper reading of your rights and other procedures were followed to the full letter of the law . The Colorado criminal defense attorney knows how to make every piece of evidence in your favor known to the court . They also will file to keep out any evidence that was obtained \u001b[31mimp\u001b[0m ##roper ##ly by the police . The law is very complicated and the best defense is made by a person used to dealing with it every day . You must meet with a Colorado \u001b[31mcriminal\u001b[0m \u001b[31mdefense\u001b[0m attorney as soon as possible . The sooner you do , the sooner you may go free . Colorado Springs Man Charge ##d with St ##eal ##ing Mari ##ju ##ana Plant The Denver post reported that a Colorado Springs man was charged \u001b[31mwith\u001b[0m theft after being seen leaving a marijuana di ##sp ##ens ##ary by police with a knife in one hand and a marijuana \u001b[31mplant\u001b[0m in the other . This \u001b[31mperson\u001b[0m who is charged could be in a better situation if he did n ' t have the knife . That can lead to a serious weapons charge . The involvement of the drug will certainly be a minor problem when compared to the weapon . Assault crimes \u001b[31m,\u001b[0m r ##ob ##ber ##ies and other f ##elo ##nies are ma ##gni ##fied when weapons are involved . If \u001b[31myou\u001b[0m have been charged with a crime \u001b[31mand\u001b[0m a weapon was found in your possession [SEP] \n",
      "\n"
     ]
    }
   ],
   "source": [
    "interpret_sentence(\n",
    "    sentences[mistake_ids[0]], dataset_reader.tokenizer, 50, \n",
    "    [smooth_grad, simple_grad, integrated_grad],\n",
    "    label_description[true_classes[mistake_ids[0]]],\n",
    "    label_description[predicted_classes[mistake_ids[0]]]\n",
    ")"
   ]
  },
  {
   "cell_type": "code",
   "execution_count": 43,
   "metadata": {},
   "outputs": [
    {
     "name": "stdout",
     "output_type": "stream",
     "text": [
      "TRUE LABEL: research\n",
      "LABEL: info\n",
      "<class 'allennlp.interpret.saliency_interpreters.smooth_gradient.SmoothGradient'> TEXT:\n",
      "\u001b[31mKey\u001b[0m ##words \u001b[31m:\u001b[0m Crystal \u001b[31m##log\u001b[0m ##raphy \u001b[31m,\u001b[0m The \u001b[31m##rmal\u001b[0m di ##ff ##use Z \u001b[31m##in\u001b[0m ##c ##ble ##nde structure , Diamond \u001b[31mstructure\u001b[0m , Solid \u001b[31mstate\u001b[0m \u001b[31mphysics\u001b[0m \u001b[31m,\u001b[0m X \u001b[31m-\u001b[0m ray \u001b[31mscattering\u001b[0m \u001b[31m,\u001b[0m I ##ii - v compounds , Silicon \u001b[31m,\u001b[0m La ##tti ##ce dynamics \u001b[31m,\u001b[0m T ##ds , I ##i - v ##i compounds , I - v ##ii compounds \u001b[31m.\u001b[0m Classification \u001b[31m:\u001b[0m 7 . \u001b[31m8\u001b[0m , 8 . \u001b[31mNature\u001b[0m \u001b[31mof\u001b[0m \u001b[31mproblem\u001b[0m \u001b[31m:\u001b[0m Det ##er ##mination \u001b[31mof\u001b[0m single - p ##hon ##on di ##ff \u001b[31m##use\u001b[0m X - ray \u001b[31mscattering\u001b[0m in lines , areas or volumes of \u001b[31mre\u001b[0m ##ci ##p ##ro ##cal space at any temperature \u001b[31m,\u001b[0m using e ##ige ##nda ##ta given by a lattice dynamic \u001b[31m##al\u001b[0m model \u001b[31m.\u001b[0m \u001b[31mEvaluation\u001b[0m \u001b[31mof\u001b[0m contribution to one - p ##hon ##ons ##cat ##tering from ion ##ic def ##orm ##ations , modelled \u001b[31mby\u001b[0m a shell model . Sol ##ution method : The elements of the anal ##ytic solution are assembled from a combination of input \u001b[31mdata\u001b[0m , ta ##bula ##ted scattering \u001b[31mfactors\u001b[0m \u001b[31mand\u001b[0m transformation of a minimum set of e ##ige \u001b[31m##nda\u001b[0m ##ta . The \u001b[31mscattering\u001b[0m \u001b[31mis\u001b[0m evaluated \u001b[31malong\u001b[0m lines in re ##ci ##p ##ro ##cal space . Rest ##ric \u001b[31m##tions\u001b[0m \u001b[31m:\u001b[0m \u001b[31mZ\u001b[0m ##in ##c ##ble ##nde \u001b[31mstructure\u001b[0m compounds and Group \u001b[31mIV\u001b[0m \u001b[31melements\u001b[0m only ; may \u001b[31mbe\u001b[0m modified for other compounds \u001b[31m.\u001b[0m \u001b[31m<\u001b[0m \u001b[31m/\u001b[0m do ##c > [SEP] \n",
      "\n",
      "<class 'allennlp.interpret.saliency_interpreters.simple_gradient.SimpleGradient'> TEXT:\n",
      "Key \u001b[31m##words\u001b[0m \u001b[31m:\u001b[0m \u001b[31mCrystal\u001b[0m \u001b[31m##log\u001b[0m \u001b[31m##raphy\u001b[0m \u001b[31m,\u001b[0m The ##rmal di ##ff ##use Z ##in ##c \u001b[31m##ble\u001b[0m ##nde \u001b[31mstructure\u001b[0m , Diamond structure , Solid state physics \u001b[31m,\u001b[0m X \u001b[31m-\u001b[0m ray scattering , \u001b[31mI\u001b[0m ##ii - v compounds \u001b[31m,\u001b[0m Silicon , \u001b[31mLa\u001b[0m ##tti ##ce dynamics , T ##ds , I ##i - v ##i compounds \u001b[31m,\u001b[0m \u001b[31mI\u001b[0m - v ##ii compounds . \u001b[31mClassification\u001b[0m \u001b[31m:\u001b[0m \u001b[31m7\u001b[0m . \u001b[31m8\u001b[0m \u001b[31m,\u001b[0m 8 . \u001b[31mNature\u001b[0m \u001b[31mof\u001b[0m \u001b[31mproblem\u001b[0m \u001b[31m:\u001b[0m \u001b[31mDet\u001b[0m \u001b[31m##er\u001b[0m ##mination of \u001b[31msingle\u001b[0m - p ##hon ##on di ##ff ##use X - ray \u001b[31mscattering\u001b[0m in lines , areas or volumes of re ##ci ##p ##ro ##cal space at any temperature \u001b[31m,\u001b[0m using e ##ige ##nda ##ta given by a lattice dynamic \u001b[31m##al\u001b[0m \u001b[31mmodel\u001b[0m . Evaluation \u001b[31mof\u001b[0m \u001b[31mcontribution\u001b[0m \u001b[31mto\u001b[0m one - p ##hon ##ons ##cat ##tering from ion ##ic def ##orm ##ations , modelled by a shell model . Sol \u001b[31m##ution\u001b[0m method : The \u001b[31melements\u001b[0m of the anal ##ytic solution are assembled from a combination of input data , ta ##bula ##ted scattering factors and transformation of a minimum set of e ##ige ##nda ##ta \u001b[31m.\u001b[0m \u001b[31mThe\u001b[0m \u001b[31mscattering\u001b[0m is \u001b[31mevaluated\u001b[0m \u001b[31malong\u001b[0m lines in re ##ci ##p ##ro ##cal space . \u001b[31mRest\u001b[0m \u001b[31m##ric\u001b[0m \u001b[31m##tions\u001b[0m : Z ##in ##c ##ble ##nde \u001b[31mstructure\u001b[0m compounds and Group \u001b[31mIV\u001b[0m \u001b[31melements\u001b[0m only ; \u001b[31mmay\u001b[0m be \u001b[31mmodified\u001b[0m for other compounds . < / do ##c > [SEP] \n",
      "\n",
      "<class 'allennlp.interpret.saliency_interpreters.integrated_gradient.IntegratedGradient'> TEXT:\n",
      "\u001b[31mKey\u001b[0m ##words : \u001b[31mCrystal\u001b[0m \u001b[31m##log\u001b[0m \u001b[31m##raphy\u001b[0m \u001b[31m,\u001b[0m The ##rmal di ##ff ##use Z ##in ##c ##ble ##nde structure , Diamond structure \u001b[31m,\u001b[0m Solid state \u001b[31mphysics\u001b[0m \u001b[31m,\u001b[0m X - ray scattering \u001b[31m,\u001b[0m I ##ii - v \u001b[31mcompounds\u001b[0m \u001b[31m,\u001b[0m Silicon \u001b[31m,\u001b[0m La ##tti ##ce \u001b[31mdynamics\u001b[0m , T \u001b[31m##ds\u001b[0m \u001b[31m,\u001b[0m I ##i \u001b[31m-\u001b[0m v \u001b[31m##i\u001b[0m \u001b[31mcompounds\u001b[0m \u001b[31m,\u001b[0m I \u001b[31m-\u001b[0m \u001b[31mv\u001b[0m \u001b[31m##ii\u001b[0m \u001b[31mcompounds\u001b[0m \u001b[31m.\u001b[0m Classification \u001b[31m:\u001b[0m \u001b[31m7\u001b[0m \u001b[31m.\u001b[0m 8 \u001b[31m,\u001b[0m 8 . Nature \u001b[31mof\u001b[0m problem : \u001b[31mDet\u001b[0m ##er ##mination \u001b[31mof\u001b[0m single - p \u001b[31m##hon\u001b[0m ##on di ##ff ##use X - ray \u001b[31mscattering\u001b[0m \u001b[31min\u001b[0m lines , areas or volumes \u001b[31mof\u001b[0m re ##ci ##p ##ro ##cal \u001b[31mspace\u001b[0m at \u001b[31many\u001b[0m temperature \u001b[31m,\u001b[0m using \u001b[31me\u001b[0m \u001b[31m##ige\u001b[0m ##nda ##ta given by a lattice dynamic ##al model . \u001b[31mEvaluation\u001b[0m of contribution to one - p ##hon ##ons ##cat ##tering from ion ##ic def ##orm \u001b[31m##ations\u001b[0m \u001b[31m,\u001b[0m modelled by a shell model . Sol ##ution method : \u001b[31mThe\u001b[0m elements of the anal ##ytic solution are assembled from a combination of input data , ta ##bula ##ted scattering factors and transformation of a minimum set of e ##ige ##nda ##ta . The scattering is evaluated along lines in re ##ci ##p ##ro ##cal space . Rest ##ric ##tions : \u001b[31mZ\u001b[0m ##in ##c ##ble ##nde structure compounds and Group IV elements only \u001b[31m;\u001b[0m \u001b[31mmay\u001b[0m be modified for other compounds . < / do ##c \u001b[31m>\u001b[0m \u001b[31m[SEP]\u001b[0m \n",
      "\n"
     ]
    }
   ],
   "source": [
    "interpret_sentence(\n",
    "    sentences[mistake_ids[1]], dataset_reader.tokenizer, 50, \n",
    "    [smooth_grad, simple_grad, integrated_grad],\n",
    "    label_description[true_classes[mistake_ids[1]]],\n",
    "    label_description[predicted_classes[mistake_ids[1]]]\n",
    ")"
   ]
  },
  {
   "cell_type": "code",
   "execution_count": 44,
   "metadata": {},
   "outputs": [
    {
     "name": "stdout",
     "output_type": "stream",
     "text": [
      "TRUE LABEL: commercial\n",
      "LABEL: argum\n",
      "<class 'allennlp.interpret.saliency_interpreters.smooth_gradient.SmoothGradient'> TEXT:\n",
      "What \u001b[31mkind\u001b[0m of professional \u001b[31mbusiness\u001b[0m \u001b[31mpeople\u001b[0m can benefit \u001b[31mfrom\u001b[0m using a 24 - hour message service ? Is it \u001b[31monly\u001b[0m for Doctor \u001b[31m'\u001b[0m s and Den \u001b[31m##tist\u001b[0m ' s Office ##s ? Would \u001b[31mother\u001b[0m \u001b[31mprofession\u001b[0m \u001b[31m##s\u001b[0m benefit from having a live reception \u001b[31m##ist\u001b[0m \u001b[31manswer\u001b[0m their phone 24 hours a day , 7 days a week ? Let \u001b[31m'\u001b[0m s \u001b[31mtake\u001b[0m \u001b[31ma\u001b[0m look \u001b[31mat\u001b[0m that . The Office is a different place , these days . It ' s no longer \u001b[31ma\u001b[0m big building , with cu ##bby holes , and small partition \u001b[31m##s\u001b[0m . An office nowadays \u001b[31mis\u001b[0m anywhere \u001b[31myou\u001b[0m \u001b[31mset\u001b[0m up your \u001b[31mcomputer\u001b[0m , or hold your cell phone . A lot of business people have now moved their offices into their own homes . Most people do n ' t have room for a reception \u001b[31m##ist\u001b[0m in their bedroom , or kitchen , and would n ' t be able to afford the full - time salary anyway \u001b[31m.\u001b[0m \u001b[31mBut\u001b[0m , there are a lot of reasons \u001b[31man\u001b[0m answering \u001b[31mservice\u001b[0m would be a work ##able solution for fields other than medical and dental . Attorney ##s \u001b[31mhave\u001b[0m stream ##lined their operations . Many independent \u001b[31mlawyers\u001b[0m \u001b[31mwork\u001b[0m from their homes \u001b[31m.\u001b[0m They would benefit by having an off - site reception \u001b[31m##ist\u001b[0m answer their business telephone while they ' re in court . The answering service can then text messages to them , and the attorney \u001b[31mcan\u001b[0m respond \u001b[31mat\u001b[0m a court re ##cess . People in the Real \u001b[31mEstate\u001b[0m business are also tend ##ing to work from their homes . They have to leave their home offices many times a day . They have to show houses to clients , and it would n ' t be very feasible for them to field calls \u001b[31m.\u001b[0m En ##tre ##p ##rene ##urs engage in starting up and running new businesses . Answer ##ing services make sense for them because they do n ' t have to in ##cu ##r the huge expense of another person on their pay ##roll . They can also give the appearance of having an established \u001b[31mcompany\u001b[0m , with the off - site , professional \u001b[31mreception\u001b[0m ##ist . Entertainment \u001b[31mIndustry\u001b[0m \u001b[31mCompanies\u001b[0m are involved with different projects for limited amounts of time . There is a transit ##ory nature to the business . Having \u001b[31ma\u001b[0m centralized , inexpensive \u001b[31manswering\u001b[0m service as their base of communications \u001b[31mis\u001b[0m a good idea . You \u001b[31mnever\u001b[0m have to pay to move a virtual office . Anyone in the Construction and Lands ##cap ##ing business could cut out the expense of having an office , altogether . They perform their services at different outdoor places , all the time . This would also include P ##lumber \u001b[31m##s\u001b[0m , Board - up and Glass Companies , and R ##oof ##ers , etc . Restoration Companies are in a different category all together . They are involved in emerge ##ncies \u001b[31m.\u001b[0m The people who call them are in trouble \u001b[31m,\u001b[0m and never \u001b[31mon\u001b[0m a nine - to - five schedule . They need \u001b[31m[SEP]\u001b[0m \n",
      "\n",
      "<class 'allennlp.interpret.saliency_interpreters.simple_gradient.SimpleGradient'> TEXT:\n",
      "What kind \u001b[31mof\u001b[0m \u001b[31mprofessional\u001b[0m \u001b[31mbusiness\u001b[0m \u001b[31mpeople\u001b[0m \u001b[31mcan\u001b[0m benefit \u001b[31mfrom\u001b[0m \u001b[31musing\u001b[0m \u001b[31ma\u001b[0m 24 \u001b[31m-\u001b[0m hour \u001b[31mmessage\u001b[0m \u001b[31mservice\u001b[0m \u001b[31m?\u001b[0m Is it only for Doctor ' s and Den \u001b[31m##tist\u001b[0m \u001b[31m'\u001b[0m s Office \u001b[31m##s\u001b[0m ? Would other \u001b[31mprofession\u001b[0m \u001b[31m##s\u001b[0m \u001b[31mbenefit\u001b[0m from \u001b[31mhaving\u001b[0m a live reception ##ist answer their phone \u001b[31m24\u001b[0m hours a day , 7 days a week ? \u001b[31mLet\u001b[0m \u001b[31m'\u001b[0m s take a look \u001b[31mat\u001b[0m that \u001b[31m.\u001b[0m The Office is a different \u001b[31mplace\u001b[0m , these days . It ' s no longer \u001b[31ma\u001b[0m big building , with cu ##bby holes , and small partition ##s . An \u001b[31moffice\u001b[0m nowadays \u001b[31mis\u001b[0m anywhere you \u001b[31mset\u001b[0m up your \u001b[31mcomputer\u001b[0m , or hold your \u001b[31mcell\u001b[0m phone \u001b[31m.\u001b[0m A lot of business people have now moved their offices into their own homes . Most \u001b[31mpeople\u001b[0m do n ' t have room for a reception ##ist in their bedroom , or kitchen , and would n ' t be able to afford the full - time salary anyway . But \u001b[31m,\u001b[0m there are a lot of reasons \u001b[31man\u001b[0m answering \u001b[31mservice\u001b[0m would be a work ##able solution for fields other than medical \u001b[31mand\u001b[0m dental \u001b[31m.\u001b[0m Attorney \u001b[31m##s\u001b[0m \u001b[31mhave\u001b[0m stream \u001b[31m##lined\u001b[0m their operations . Many independent lawyers work \u001b[31mfrom\u001b[0m their homes . They would benefit by having an off - site reception ##ist \u001b[31manswer\u001b[0m their business telephone \u001b[31mwhile\u001b[0m they ' re in court . The answering service can then text messages to them , and the attorney can respond \u001b[31mat\u001b[0m a court re ##cess . People in the Real Estate business are also tend ##ing to work from their homes . They have to leave their home offices many times a day . They have to show houses to clients \u001b[31m,\u001b[0m and it would n ' t be very feasible for them to field calls . En ##tre ##p ##rene ##urs engage in starting up and running new businesses . Answer ##ing services make sense for them because they do n ' t have to in ##cu ##r the huge expense of another person on their pay ##roll . They can also give the appearance of having an established company , with the off - site , professional \u001b[31mreception\u001b[0m ##ist . Entertainment Industry \u001b[31mCompanies\u001b[0m \u001b[31mare\u001b[0m involved with different projects for limited amounts of time . There is a transit ##ory nature to the business . Having a centralized , inexpensive answering \u001b[31mservice\u001b[0m as their base of communications is a good idea . You never have to pay to move a virtual office . Anyone in the Construction and Lands ##cap ##ing business could cut out the expense of having an office , altogether . They perform their services at different outdoor places , all the time . This would also include P ##lumber ##s , Board - up and Glass Companies , and R ##oof ##ers , etc . Restoration Companies are in a different category all together . They are involved in emerge ##ncies . The people who call them are in trouble , and never on a nine - to - five schedule . They need [SEP] \n",
      "\n",
      "<class 'allennlp.interpret.saliency_interpreters.integrated_gradient.IntegratedGradient'> TEXT:\n",
      "\u001b[31mWhat\u001b[0m \u001b[31mkind\u001b[0m of professional \u001b[31mbusiness\u001b[0m \u001b[31mpeople\u001b[0m \u001b[31mcan\u001b[0m \u001b[31mbenefit\u001b[0m \u001b[31mfrom\u001b[0m using a \u001b[31m24\u001b[0m \u001b[31m-\u001b[0m hour \u001b[31mmessage\u001b[0m \u001b[31mservice\u001b[0m \u001b[31m?\u001b[0m \u001b[31mIs\u001b[0m \u001b[31mit\u001b[0m only for Doctor \u001b[31m'\u001b[0m s and Den ##tist ' s Office \u001b[31m##s\u001b[0m ? \u001b[31mWould\u001b[0m \u001b[31mother\u001b[0m profession \u001b[31m##s\u001b[0m benefit \u001b[31mfrom\u001b[0m having \u001b[31ma\u001b[0m live reception \u001b[31m##ist\u001b[0m answer their \u001b[31mphone\u001b[0m \u001b[31m24\u001b[0m hours \u001b[31ma\u001b[0m day , 7 \u001b[31mdays\u001b[0m \u001b[31ma\u001b[0m week \u001b[31m?\u001b[0m Let \u001b[31m'\u001b[0m s take \u001b[31ma\u001b[0m look \u001b[31mat\u001b[0m that . The \u001b[31mOffice\u001b[0m is a different place , these days . It ' s no longer a big building , with cu ##bby \u001b[31mholes\u001b[0m , and small partition ##s . An office nowadays \u001b[31mis\u001b[0m anywhere you \u001b[31mset\u001b[0m up your \u001b[31mcomputer\u001b[0m , or hold your \u001b[31mcell\u001b[0m phone . A lot of business people have now moved their offices into their own homes \u001b[31m.\u001b[0m Most people do n \u001b[31m'\u001b[0m t have room for a reception ##ist in their bedroom , or kitchen , and would n \u001b[31m'\u001b[0m t be able to afford the full - time salary anyway . But , there are a lot of reasons \u001b[31man\u001b[0m answering \u001b[31mservice\u001b[0m would be a work ##able solution for fields other than medical and dental . Attorney \u001b[31m##s\u001b[0m have stream ##lined their operations . Many independent lawyers work from their homes . They would benefit by having an off - site reception ##ist answer their business telephone while they ' re in court . The answering service can then text messages to them , and the attorney can respond at a court re ##cess . People in the Real Estate business are also tend ##ing to work from their homes . They have to leave their home offices many times a day . They have to show houses to clients , and it would n \u001b[31m'\u001b[0m t be very feasible for them to field calls . En ##tre ##p ##rene ##urs engage in starting up and running new businesses . Answer ##ing services make sense for them because they do n ' t have to in ##cu ##r the huge expense of another person on their pay ##roll . They can also give the appearance of having an established company , with the off - site , professional reception ##ist . Entertainment Industry \u001b[31mCompanies\u001b[0m are involved with different projects for limited amounts of time . There is a transit ##ory nature to the business . Having \u001b[31ma\u001b[0m centralized , inexpensive answering \u001b[31mservice\u001b[0m as their base of communications is a good idea . You \u001b[31mnever\u001b[0m have to pay to move a virtual office . Anyone in the Construction and Lands ##cap ##ing business could cut out the expense of having an office , altogether . They perform their services at different outdoor places , all the time . This would also include P ##lumber ##s , Board - up and Glass Companies \u001b[31m,\u001b[0m and R ##oof ##ers , etc . Restoration Companies \u001b[31mare\u001b[0m in a different category all together . They are involved in emerge ##ncies . The people who call them are in trouble , and never on a nine - to - five schedule . They need [SEP] \n",
      "\n"
     ]
    }
   ],
   "source": [
    "interpret_sentence(\n",
    "    sentences[mistake_ids[2]], dataset_reader.tokenizer, 50, \n",
    "    [smooth_grad, simple_grad, integrated_grad],\n",
    "    label_description[true_classes[mistake_ids[2]]],\n",
    "    label_description[predicted_classes[mistake_ids[2]]]\n",
    ")"
   ]
  }
 ],
 "metadata": {
  "kernelspec": {
   "display_name": "Python 3",
   "language": "python",
   "name": "python3"
  },
  "language_info": {
   "codemirror_mode": {
    "name": "ipython",
    "version": 3
   },
   "file_extension": ".py",
   "mimetype": "text/x-python",
   "name": "python",
   "nbconvert_exporter": "python",
   "pygments_lexer": "ipython3",
   "version": "3.8.3"
  }
 },
 "nbformat": 4,
 "nbformat_minor": 4
}
