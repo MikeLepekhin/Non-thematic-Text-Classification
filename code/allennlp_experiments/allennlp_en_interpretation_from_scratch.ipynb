{
 "cells": [
  {
   "cell_type": "code",
   "execution_count": 1,
   "metadata": {},
   "outputs": [],
   "source": [
    "from os.path import join as pathjoin\n",
    "from data_processing import *\n",
    "from interpretation import *\n",
    "from models import *\n",
    "from training import *"
   ]
  },
  {
   "cell_type": "code",
   "execution_count": 2,
   "metadata": {},
   "outputs": [],
   "source": [
    "DATA_DIR = '/home/mlepekhin/data'\n",
    "MODELS_DIR = '/home/mlepekhin/models'\n",
    "MODEL_ID = 'allennlp_bert_base_cased'\n",
    "CHECKPOINTS_DIR = pathjoin(MODELS_DIR, MODEL_ID, 'checkpoints')\n",
    "BEST_MODEL = pathjoin(CHECKPOINTS_DIR, 'best.th')"
   ]
  },
  {
   "cell_type": "code",
   "execution_count": 3,
   "metadata": {},
   "outputs": [],
   "source": [
    "transformer_model = 'bert-base-cased'\n",
    "MAX_TOKENS = 512"
   ]
  },
  {
   "cell_type": "markdown",
   "metadata": {},
   "source": [
    "### Loading of the pretrained model"
   ]
  },
  {
   "cell_type": "code",
   "execution_count": 4,
   "metadata": {},
   "outputs": [
    {
     "name": "stdout",
     "output_type": "stream",
     "text": [
      "Building the model\n"
     ]
    }
   ],
   "source": [
    "vocab = Vocabulary().from_files(pathjoin(MODELS_DIR, MODEL_ID, 'vocab'))\n",
    "model = build_transformer_model(vocab, transformer_model)"
   ]
  },
  {
   "cell_type": "code",
   "execution_count": 5,
   "metadata": {},
   "outputs": [
    {
     "name": "stdout",
     "output_type": "stream",
     "text": [
      "{0: 'A1', 1: 'A12', 2: 'A7', 3: 'A16', 4: 'A8', 5: 'A22', 6: 'A4', 7: 'A11', 8: 'A14', 9: 'A9', 10: 'A17'}\n",
      "dict_values(['A1', 'A12', 'A7', 'A16', 'A8', 'A22', 'A4', 'A11', 'A14', 'A9', 'A17'])\n"
     ]
    }
   ],
   "source": [
    "id_to_label = vocab.get_index_to_token_vocabulary('labels')\n",
    "print(id_to_label)\n",
    "print(id_to_label.values())"
   ]
  },
  {
   "cell_type": "code",
   "execution_count": 6,
   "metadata": {},
   "outputs": [
    {
     "name": "stdout",
     "output_type": "stream",
     "text": [
      "1\n"
     ]
    },
    {
     "data": {
      "text/plain": [
       "<All keys matched successfully>"
      ]
     },
     "execution_count": 6,
     "metadata": {},
     "output_type": "execute_result"
    }
   ],
   "source": [
    "if torch.cuda.is_available():\n",
    "    cuda_device = 1\n",
    "else:\n",
    "    cuda_device = -1\n",
    "print(cuda_device)\n",
    "model.load_state_dict(torch.load(BEST_MODEL, map_location=f'cuda:{cuda_device}'))"
   ]
  },
  {
   "cell_type": "markdown",
   "metadata": {},
   "source": [
    "### Data loading"
   ]
  },
  {
   "cell_type": "code",
   "execution_count": 7,
   "metadata": {},
   "outputs": [
    {
     "data": {
      "text/html": [
       "<div>\n",
       "<style scoped>\n",
       "    .dataframe tbody tr th:only-of-type {\n",
       "        vertical-align: middle;\n",
       "    }\n",
       "\n",
       "    .dataframe tbody tr th {\n",
       "        vertical-align: top;\n",
       "    }\n",
       "\n",
       "    .dataframe thead th {\n",
       "        text-align: right;\n",
       "    }\n",
       "</style>\n",
       "<table border=\"1\" class=\"dataframe\">\n",
       "  <thead>\n",
       "    <tr style=\"text-align: right;\">\n",
       "      <th></th>\n",
       "      <th>Unnamed: 0</th>\n",
       "      <th>target</th>\n",
       "      <th>text</th>\n",
       "    </tr>\n",
       "  </thead>\n",
       "  <tbody>\n",
       "    <tr>\n",
       "      <th>0</th>\n",
       "      <td>64</td>\n",
       "      <td>A4</td>\n",
       "      <td>THE PURLOINED LETTER . -----------------------...</td>\n",
       "    </tr>\n",
       "    <tr>\n",
       "      <th>1</th>\n",
       "      <td>1575</td>\n",
       "      <td>A7</td>\n",
       "      <td>Judge Finds Probable Cause Against a Greeley p...</td>\n",
       "    </tr>\n",
       "    <tr>\n",
       "      <th>2</th>\n",
       "      <td>1254</td>\n",
       "      <td>A11</td>\n",
       "      <td>Sitting at the bar or in a booth like we did ,...</td>\n",
       "    </tr>\n",
       "    <tr>\n",
       "      <th>3</th>\n",
       "      <td>790</td>\n",
       "      <td>A14</td>\n",
       "      <td>Keywords : Crystallography , Thermal diffuse Z...</td>\n",
       "    </tr>\n",
       "    <tr>\n",
       "      <th>4</th>\n",
       "      <td>1389</td>\n",
       "      <td>A12</td>\n",
       "      <td>What kind of professional business people can ...</td>\n",
       "    </tr>\n",
       "  </tbody>\n",
       "</table>\n",
       "</div>"
      ],
      "text/plain": [
       "   Unnamed: 0 target                                               text\n",
       "0          64     A4  THE PURLOINED LETTER . -----------------------...\n",
       "1        1575     A7  Judge Finds Probable Cause Against a Greeley p...\n",
       "2        1254    A11  Sitting at the bar or in a booth like we did ,...\n",
       "3         790    A14  Keywords : Crystallography , Thermal diffuse Z...\n",
       "4        1389    A12  What kind of professional business people can ..."
      ]
     },
     "execution_count": 7,
     "metadata": {},
     "output_type": "execute_result"
    }
   ],
   "source": [
    "en_test_df = pd.read_csv(pathjoin(DATA_DIR, 'en_test'))\n",
    "en_test_df.head()"
   ]
  },
  {
   "cell_type": "code",
   "execution_count": 8,
   "metadata": {},
   "outputs": [],
   "source": [
    "true_classes = en_test_df.target.values\n",
    "sentences = en_test_df.text.values"
   ]
  },
  {
   "cell_type": "markdown",
   "metadata": {},
   "source": [
    "### Preliminary analysis"
   ]
  },
  {
   "cell_type": "code",
   "execution_count": 9,
   "metadata": {},
   "outputs": [],
   "source": [
    "dataset_reader = build_transformer_dataset_reader(transformer_model, MAX_TOKENS)\n",
    "predictor = TextClassifierPredictor(model, dataset_reader=dataset_reader)\n",
    "predicted_classes = np.array(predict_classes(sentences, predictor, vocab))"
   ]
  },
  {
   "cell_type": "code",
   "execution_count": 10,
   "metadata": {},
   "outputs": [
    {
     "name": "stdout",
     "output_type": "stream",
     "text": [
      "<class 'numpy.ndarray'>\n"
     ]
    }
   ],
   "source": [
    "print(type(predicted_classes == 'A1'))"
   ]
  },
  {
   "cell_type": "code",
   "execution_count": 11,
   "metadata": {},
   "outputs": [
    {
     "name": "stdout",
     "output_type": "stream",
     "text": [
      "11\n"
     ]
    }
   ],
   "source": [
    "print(len(np.unique(true_classes)))"
   ]
  },
  {
   "cell_type": "code",
   "execution_count": 12,
   "metadata": {},
   "outputs": [
    {
     "name": "stdout",
     "output_type": "stream",
     "text": [
      "label (argum) f1_score 0.6404494382022472 precision 0.7402597402597403 recall 0.5643564356435643\n",
      "label (fictive) f1_score 0.9090909090909091 precision 0.8928571428571429 recall 0.9259259259259259\n",
      "label (instruct) f1_score 0.6428571428571429 precision 0.54 recall 0.7941176470588235\n",
      "label (reporting) f1_score 0.746268656716418 precision 0.6756756756756757 recall 0.8333333333333334\n",
      "label (legal) f1_score 0.8000000000000002 precision 0.7058823529411765 recall 0.9230769230769231\n",
      "label (personal) f1_score 0.6046511627906976 precision 0.6842105263157895 recall 0.5416666666666666\n",
      "label (commercial) f1_score 0.7183098591549295 precision 0.7727272727272727 recall 0.6710526315789473\n",
      "label (research) f1_score 0.6 precision 0.5217391304347826 recall 0.7058823529411765\n",
      "label (info) f1_score 0.6666666666666667 precision 0.7631578947368421 recall 0.5918367346938775\n",
      "label (eval) f1_score 0.8095238095238095 precision 0.7727272727272727 recall 0.85\n",
      "label (stuff) f1_score 0.7894736842105263 precision 0.6666666666666666 recall 0.967741935483871\n",
      "accuracy 0.7061611374407583\n"
     ]
    }
   ],
   "source": [
    "calc_classifier_metrics(predicted_classes, true_classes)"
   ]
  },
  {
   "cell_type": "code",
   "execution_count": 13,
   "metadata": {},
   "outputs": [
    {
     "data": {
      "image/png": "[encoded data removed]",
      "text/plain": [
       "<Figure size 1080x1080 with 2 Axes>"
      ]
     },
     "metadata": {
      "needs_background": "light"
     },
     "output_type": "display_data"
    }
   ],
   "source": [
    "plot_confusion_matrix(predicted_classes, true_classes)"
   ]
  },
  {
   "cell_type": "markdown",
   "metadata": {},
   "source": [
    "### Saliency Gradient Interpretation"
   ]
  },
  {
   "cell_type": "code",
   "execution_count": 14,
   "metadata": {},
   "outputs": [],
   "source": [
    "smooth_grad = SmoothGradient(predictor)\n",
    "simple_grad = SimpleGradient(predictor)\n",
    "integrated_grad = IntegratedGradient(predictor)"
   ]
  },
  {
   "cell_type": "code",
   "execution_count": 15,
   "metadata": {},
   "outputs": [],
   "source": [
    "mistake_ids = []\n",
    "\n",
    "for sent_id in range(len(true_classes)):\n",
    "    if true_classes[sent_id] != predicted_classes[sent_id]:\n",
    "        mistake_ids.append(sent_id)"
   ]
  },
  {
   "cell_type": "code",
   "execution_count": 16,
   "metadata": {},
   "outputs": [
    {
     "name": "stdout",
     "output_type": "stream",
     "text": [
      "TRUE LABEL: instruct\n",
      "LABEL: argum\n",
      "<class 'allennlp.interpret.saliency_interpreters.smooth_gradient.SmoothGradient'> TEXT:\n",
      "\u001b[31mJudge\u001b[0m \u001b[31mFind\u001b[0m \u001b[31m##s\u001b[0m Pro \u001b[31m##ba\u001b[0m \u001b[31m##ble\u001b[0m Cause Against \u001b[31ma\u001b[0m G ##ree ##ley police \u001b[31mOfficer\u001b[0m A judge \u001b[31mhas\u001b[0m found probable cause to have a trial in the sexual \u001b[31massault\u001b[0m trial of a police officer charged with g ##rop ##ing a female driver he \u001b[31mhad\u001b[0m stopped . The \u001b[31mstory\u001b[0m \u001b[31min\u001b[0m \u001b[31mthe\u001b[0m \u001b[31mTribune\u001b[0m \u001b[31malso\u001b[0m said \u001b[31mthe\u001b[0m \u001b[31mofficer\u001b[0m \u001b[31mchanged\u001b[0m \u001b[31mhis\u001b[0m story about not stopping the driver at all , when \u001b[31mGPS\u001b[0m \u001b[31mrecords\u001b[0m for his vehicle \u001b[31mplaced\u001b[0m him at the site of the incident . This is just some of the procedures that the state and attorney for the defense go through in our \u001b[31mcriminal\u001b[0m \u001b[31mjustice\u001b[0m system . \u001b[31mIf\u001b[0m you \u001b[31mhave\u001b[0m been arrested \u001b[31mfor\u001b[0m an assault , \u001b[31msexual\u001b[0m \u001b[31mor\u001b[0m \u001b[31motherwise\u001b[0m you can hire an expert to defend you . You can get a Colorado criminal \u001b[31mdefense\u001b[0m attorney . In the case cited \u001b[31m,\u001b[0m the defendant ' s attorney filed a motion to dismiss the charges due to no probable cause . As happens , the aspects of a simple sexual assault \u001b[31mcase\u001b[0m such as this sometimes \u001b[31mleaves\u001b[0m little evidence other than conflicting stories . When a Colorado criminal defense \u001b[31mattorney\u001b[0m looks over the evidence , the merits of the state ' s case can lead to a request for dismissal . As in this case , even if that is not achieved there are many other strategies that an experienced Colorado criminal defense attorney can use to get an a ##c ##qui ##tta ##l . Any accounts by witnesses will be reviewed for conflict \u001b[31mwith\u001b[0m established facts . The conduct of the arrest ##ing officer will be reviewed to make sure proper reading of your rights and other procedures were followed to the full letter of the law . The Colorado criminal \u001b[31mdefense\u001b[0m attorney knows how to make every piece of evidence in your favor known to the court . They also will file to keep out any evidence that was obtained imp ##roper ##ly by the police . The law \u001b[31mis\u001b[0m very complicated and the best defense is made by a person used to dealing \u001b[31mwith\u001b[0m it every day . \u001b[31mYou\u001b[0m must \u001b[31mmeet\u001b[0m \u001b[31mwith\u001b[0m a Colorado criminal \u001b[31mdefense\u001b[0m attorney \u001b[31mas\u001b[0m soon as possible . The sooner you do , the sooner you may go free . Colorado Springs Man Charge ##d with St ##eal ##ing Mari ##ju ##ana Plant The Denver post reported that a Colorado Springs man was charged with theft after being seen leaving a marijuana di ##sp ##ens ##ary by police with a knife \u001b[31min\u001b[0m one hand and a marijuana plant in the other . This person who is charged could be in a better situation if \u001b[31mhe\u001b[0m did n ' t have the knife . That can lead to a serious weapons charge . The involvement of the drug will certainly \u001b[31mbe\u001b[0m a minor problem when compared to the weapon . Assault \u001b[31mcrimes\u001b[0m , r ##ob ##ber ##ies and other f ##elo ##nies are ma ##gni ##fied when weapons are involved . If \u001b[31myou\u001b[0m have been charged with a crime and a weapon was found in your possession , you \n",
      "\n",
      "<class 'allennlp.interpret.saliency_interpreters.simple_gradient.SimpleGradient'> TEXT:\n",
      "Judge \u001b[31mFind\u001b[0m ##s \u001b[31mPro\u001b[0m ##ba \u001b[31m##ble\u001b[0m \u001b[31mCause\u001b[0m \u001b[31mAgainst\u001b[0m a \u001b[31mG\u001b[0m ##ree ##ley police Officer A \u001b[31mjudge\u001b[0m has found \u001b[31mprobable\u001b[0m cause \u001b[31mto\u001b[0m have a trial in \u001b[31mthe\u001b[0m sexual assault trial of a \u001b[31mpolice\u001b[0m \u001b[31mofficer\u001b[0m charged with g ##rop ##ing a \u001b[31mfemale\u001b[0m driver he \u001b[31mhad\u001b[0m \u001b[31mstopped\u001b[0m \u001b[31m.\u001b[0m \u001b[31mThe\u001b[0m \u001b[31mstory\u001b[0m \u001b[31min\u001b[0m \u001b[31mthe\u001b[0m \u001b[31mTribune\u001b[0m \u001b[31malso\u001b[0m said \u001b[31mthe\u001b[0m \u001b[31mofficer\u001b[0m changed \u001b[31mhis\u001b[0m \u001b[31mstory\u001b[0m about \u001b[31mnot\u001b[0m stopping the driver at all , when GPS \u001b[31mrecords\u001b[0m for his vehicle \u001b[31mplaced\u001b[0m him at the site of the incident . This is just some of the procedures that the state and attorney for the \u001b[31mdefense\u001b[0m go through in our \u001b[31mcriminal\u001b[0m justice system . If you have been \u001b[31marrested\u001b[0m for an assault , \u001b[31msexual\u001b[0m or \u001b[31motherwise\u001b[0m you can hire an expert \u001b[31mto\u001b[0m defend you . You can get a Colorado criminal \u001b[31mdefense\u001b[0m attorney . In the \u001b[31mcase\u001b[0m cited \u001b[31m,\u001b[0m the defendant ' s attorney filed a motion to dismiss the charges due to no probable cause . As happens , the aspects of a simple sexual assault case such as this sometimes \u001b[31mleaves\u001b[0m little evidence other than conflicting stories . When a Colorado criminal defense attorney looks over the evidence , the merits of the state ' s case can lead to a request for dismissal . As in this case , even if \u001b[31mthat\u001b[0m is not achieved there are many other strategies that an experienced Colorado criminal defense attorney can use to get an a ##c ##qui ##tta ##l . Any accounts by witnesses will be reviewed for conflict with established facts . The conduct of the arrest ##ing officer will be reviewed to make sure proper reading of your rights and other procedures were followed to the full letter of the law . The Colorado criminal defense attorney knows how to make every piece of evidence in your favor known to the court . They also will file to keep out any evidence that was obtained imp ##roper ##ly by the police . The law is very complicated and the best defense is made by a person used to dealing with it every day . \u001b[31mYou\u001b[0m must \u001b[31mmeet\u001b[0m \u001b[31mwith\u001b[0m a Colorado criminal \u001b[31mdefense\u001b[0m attorney as soon as possible . The sooner you do , the sooner you may \u001b[31mgo\u001b[0m free . Colorado Springs Man Charge ##d with St ##eal ##ing Mari ##ju ##ana Plant The Denver post reported that a Colorado Springs man was charged with theft after being seen leaving a marijuana di ##sp ##ens ##ary by police with a knife in one hand and a marijuana plant in the other . This person who is charged could be in a better situation if \u001b[31mhe\u001b[0m did n ' t have the knife . That can lead to a serious weapons charge . The involvement of the drug will certainly \u001b[31mbe\u001b[0m a minor problem when compared to the weapon . Assault \u001b[31mcrimes\u001b[0m , r ##ob ##ber ##ies and other f ##elo ##nies are ma ##gni ##fied when weapons are involved . If \u001b[31myou\u001b[0m have been charged with a crime and a weapon was found in your possession , you \n",
      "\n",
      "<class 'allennlp.interpret.saliency_interpreters.integrated_gradient.IntegratedGradient'> TEXT:\n",
      "\u001b[31mJudge\u001b[0m \u001b[31mFind\u001b[0m ##s \u001b[31mPro\u001b[0m ##ba \u001b[31m##ble\u001b[0m Cause \u001b[31mAgainst\u001b[0m \u001b[31ma\u001b[0m \u001b[31mG\u001b[0m \u001b[31m##ree\u001b[0m \u001b[31m##ley\u001b[0m \u001b[31mpolice\u001b[0m \u001b[31mOfficer\u001b[0m \u001b[31mA\u001b[0m \u001b[31mjudge\u001b[0m \u001b[31mhas\u001b[0m \u001b[31mfound\u001b[0m \u001b[31mprobable\u001b[0m \u001b[31mcause\u001b[0m to have a trial in the sexual assault trial of a police officer charged \u001b[31mwith\u001b[0m g ##rop ##ing a female driver he had stopped . The story in the Tribune \u001b[31malso\u001b[0m said \u001b[31mthe\u001b[0m \u001b[31mofficer\u001b[0m \u001b[31mchanged\u001b[0m \u001b[31mhis\u001b[0m story about not stopping the \u001b[31mdriver\u001b[0m at all \u001b[31m,\u001b[0m when \u001b[31mGPS\u001b[0m records for his vehicle placed him at the site of the incident \u001b[31m.\u001b[0m This is just some of the procedures that the state and attorney for the defense go through in our \u001b[31mcriminal\u001b[0m \u001b[31mjustice\u001b[0m system . If you have been arrested for an assault , sexual or otherwise \u001b[31myou\u001b[0m \u001b[31mcan\u001b[0m hire an expert to defend you . You can get a Colorado criminal defense attorney . In the case cited \u001b[31m,\u001b[0m the defendant ' s attorney filed a motion to dismiss the charges due to no probable cause . As happens \u001b[31m,\u001b[0m the aspects of a simple sexual assault case such \u001b[31mas\u001b[0m this sometimes leaves \u001b[31mlittle\u001b[0m evidence \u001b[31mother\u001b[0m than conflicting stories . When a Colorado criminal defense attorney looks over the evidence , the merits of the state ' s case can lead to a request for dismissal . As in this case , even if that is not achieved there are many other strategies that \u001b[31man\u001b[0m experienced Colorado criminal defense attorney can use to get an a ##c \u001b[31m##qui\u001b[0m ##tta ##l . Any accounts by witnesses \u001b[31mwill\u001b[0m be reviewed for conflict with established facts . The conduct of the arrest ##ing officer will \u001b[31mbe\u001b[0m reviewed to make sure \u001b[31mproper\u001b[0m reading of your rights and other procedures were followed to the full letter of the law . The Colorado criminal defense attorney knows how to make every piece of evidence in your favor known to the court . They also will file to keep out any evidence that was obtained \u001b[31mimp\u001b[0m ##roper ##ly by the police . The law is very complicated and the best defense is made \u001b[31mby\u001b[0m a person used to dealing with it every day . You must meet with a Colorado \u001b[31mcriminal\u001b[0m \u001b[31mdefense\u001b[0m attorney as soon as possible . The sooner you do , the sooner you may go free . Colorado Springs Man Charge ##d with St ##eal ##ing Mari ##ju ##ana Plant The Denver post reported that a Colorado \u001b[31mSprings\u001b[0m man was charged with theft after being seen leaving a marijuana di ##sp ##ens ##ary by police with a knife in one hand and a marijuana \u001b[31mplant\u001b[0m in the other . This \u001b[31mperson\u001b[0m who is charged could be in a better situation if he did n ' t have the knife . That can lead to a serious weapons charge . The involvement of the drug will certainly be a minor problem when compared to the weapon . Assault crimes \u001b[31m,\u001b[0m r ##ob ##ber ##ies and other f ##elo ##nies are ma ##gni ##fied when weapons are involved . If you have been charged with a crime and a weapon was found in your possession , you \n",
      "\n"
     ]
    }
   ],
   "source": [
    "interpret_sentence(\n",
    "    sentences[mistake_ids[0]], dataset_reader.tokenizer, 50, \n",
    "    [smooth_grad, simple_grad, integrated_grad],\n",
    "    label_description[true_classes[mistake_ids[0]]],\n",
    "    label_description[predicted_classes[mistake_ids[0]]]\n",
    ")"
   ]
  },
  {
   "cell_type": "code",
   "execution_count": 17,
   "metadata": {},
   "outputs": [
    {
     "name": "stdout",
     "output_type": "stream",
     "text": [
      "TRUE LABEL: research\n",
      "LABEL: info\n",
      "<class 'allennlp.interpret.saliency_interpreters.smooth_gradient.SmoothGradient'> TEXT:\n",
      "\u001b[31mKey\u001b[0m \u001b[31m##words\u001b[0m \u001b[31m:\u001b[0m \u001b[31mCrystal\u001b[0m ##log \u001b[31m##raphy\u001b[0m \u001b[31m,\u001b[0m The ##rmal \u001b[31mdi\u001b[0m ##ff ##use Z ##in ##c ##ble ##nde \u001b[31mstructure\u001b[0m , Diamond \u001b[31mstructure\u001b[0m \u001b[31m,\u001b[0m Solid \u001b[31mstate\u001b[0m physics \u001b[31m,\u001b[0m X - ray scattering \u001b[31m,\u001b[0m I ##ii - v compounds , Silicon , La ##tti ##ce dynamics \u001b[31m,\u001b[0m T ##ds , I ##i - v ##i compounds , I - v ##ii compounds \u001b[31m.\u001b[0m Classification \u001b[31m:\u001b[0m \u001b[31m7\u001b[0m . 8 \u001b[31m,\u001b[0m \u001b[31m8\u001b[0m \u001b[31m.\u001b[0m Nature of problem \u001b[31m:\u001b[0m Det \u001b[31m##er\u001b[0m \u001b[31m##mination\u001b[0m of single - p ##hon ##on di ##ff ##use X - ray scattering \u001b[31min\u001b[0m lines , areas or volumes of re ##ci ##p ##ro ##cal space at any temperature , using e ##ige ##nda ##ta given by a lattice dynamic ##al model . Evaluation \u001b[31mof\u001b[0m contribution \u001b[31mto\u001b[0m one - p ##hon ##ons ##cat ##tering from ion \u001b[31m##ic\u001b[0m def ##orm ##ations , modelled \u001b[31mby\u001b[0m a shell \u001b[31mmodel\u001b[0m . Sol ##ution method : The elements of the anal ##ytic \u001b[31msolution\u001b[0m \u001b[31mare\u001b[0m assembled from a combination of input \u001b[31mdata\u001b[0m , ta ##bula ##ted scattering factors and transformation \u001b[31mof\u001b[0m a minimum set of e ##ige ##nda ##ta . \u001b[31mThe\u001b[0m \u001b[31mscattering\u001b[0m is \u001b[31mevaluated\u001b[0m \u001b[31malong\u001b[0m \u001b[31mlines\u001b[0m in re ##ci ##p ##ro ##cal space . Rest ##ric ##tions \u001b[31m:\u001b[0m \u001b[31mZ\u001b[0m \u001b[31m##in\u001b[0m ##c ##ble ##nde \u001b[31mstructure\u001b[0m compounds \u001b[31mand\u001b[0m Group \u001b[31mIV\u001b[0m \u001b[31melements\u001b[0m \u001b[31monly\u001b[0m ; may be modified \u001b[31mfor\u001b[0m other compounds . \u001b[31m<\u001b[0m \u001b[31m/\u001b[0m do ##c > [SEP] \n",
      "\n",
      "<class 'allennlp.interpret.saliency_interpreters.simple_gradient.SimpleGradient'> TEXT:\n",
      "Key \u001b[31m##words\u001b[0m \u001b[31m:\u001b[0m \u001b[31mCrystal\u001b[0m \u001b[31m##log\u001b[0m \u001b[31m##raphy\u001b[0m \u001b[31m,\u001b[0m The ##rmal di ##ff ##use Z ##in ##c \u001b[31m##ble\u001b[0m ##nde \u001b[31mstructure\u001b[0m , Diamond structure , Solid state physics \u001b[31m,\u001b[0m X \u001b[31m-\u001b[0m ray scattering , \u001b[31mI\u001b[0m ##ii - v compounds \u001b[31m,\u001b[0m Silicon , \u001b[31mLa\u001b[0m ##tti ##ce dynamics , T ##ds , I ##i - v ##i compounds \u001b[31m,\u001b[0m \u001b[31mI\u001b[0m - v ##ii compounds . \u001b[31mClassification\u001b[0m \u001b[31m:\u001b[0m \u001b[31m7\u001b[0m . \u001b[31m8\u001b[0m \u001b[31m,\u001b[0m 8 . \u001b[31mNature\u001b[0m \u001b[31mof\u001b[0m \u001b[31mproblem\u001b[0m \u001b[31m:\u001b[0m \u001b[31mDet\u001b[0m \u001b[31m##er\u001b[0m ##mination of \u001b[31msingle\u001b[0m - p ##hon ##on di ##ff ##use X - ray \u001b[31mscattering\u001b[0m in lines , areas or volumes of re ##ci ##p ##ro ##cal space at any temperature \u001b[31m,\u001b[0m using e ##ige ##nda ##ta given by a lattice dynamic \u001b[31m##al\u001b[0m \u001b[31mmodel\u001b[0m . Evaluation \u001b[31mof\u001b[0m \u001b[31mcontribution\u001b[0m \u001b[31mto\u001b[0m one - p ##hon ##ons ##cat ##tering from ion ##ic def ##orm ##ations , modelled by a shell model . Sol \u001b[31m##ution\u001b[0m method : The \u001b[31melements\u001b[0m of the anal ##ytic solution are assembled from a combination of input data , ta ##bula ##ted scattering factors and transformation of a minimum set of e ##ige ##nda ##ta \u001b[31m.\u001b[0m \u001b[31mThe\u001b[0m \u001b[31mscattering\u001b[0m is \u001b[31mevaluated\u001b[0m \u001b[31malong\u001b[0m lines in re ##ci ##p ##ro ##cal space . \u001b[31mRest\u001b[0m \u001b[31m##ric\u001b[0m \u001b[31m##tions\u001b[0m : Z ##in ##c ##ble ##nde \u001b[31mstructure\u001b[0m compounds and Group \u001b[31mIV\u001b[0m \u001b[31melements\u001b[0m only ; \u001b[31mmay\u001b[0m be \u001b[31mmodified\u001b[0m for other compounds . < / do ##c > [SEP] \n",
      "\n",
      "<class 'allennlp.interpret.saliency_interpreters.integrated_gradient.IntegratedGradient'> TEXT:\n",
      "\u001b[31mKey\u001b[0m ##words : \u001b[31mCrystal\u001b[0m \u001b[31m##log\u001b[0m \u001b[31m##raphy\u001b[0m \u001b[31m,\u001b[0m The ##rmal di ##ff ##use Z ##in ##c ##ble ##nde structure , Diamond structure \u001b[31m,\u001b[0m Solid state \u001b[31mphysics\u001b[0m \u001b[31m,\u001b[0m X - ray scattering \u001b[31m,\u001b[0m I ##ii - v \u001b[31mcompounds\u001b[0m \u001b[31m,\u001b[0m Silicon \u001b[31m,\u001b[0m La ##tti ##ce \u001b[31mdynamics\u001b[0m , T \u001b[31m##ds\u001b[0m \u001b[31m,\u001b[0m I ##i \u001b[31m-\u001b[0m v \u001b[31m##i\u001b[0m \u001b[31mcompounds\u001b[0m \u001b[31m,\u001b[0m I \u001b[31m-\u001b[0m \u001b[31mv\u001b[0m \u001b[31m##ii\u001b[0m \u001b[31mcompounds\u001b[0m \u001b[31m.\u001b[0m Classification \u001b[31m:\u001b[0m \u001b[31m7\u001b[0m \u001b[31m.\u001b[0m 8 \u001b[31m,\u001b[0m 8 . Nature \u001b[31mof\u001b[0m problem : \u001b[31mDet\u001b[0m ##er ##mination \u001b[31mof\u001b[0m single - p \u001b[31m##hon\u001b[0m ##on di ##ff ##use X - ray \u001b[31mscattering\u001b[0m \u001b[31min\u001b[0m lines , areas or volumes \u001b[31mof\u001b[0m re ##ci ##p ##ro ##cal \u001b[31mspace\u001b[0m at \u001b[31many\u001b[0m temperature \u001b[31m,\u001b[0m using \u001b[31me\u001b[0m \u001b[31m##ige\u001b[0m ##nda ##ta given by a lattice dynamic ##al model . \u001b[31mEvaluation\u001b[0m of contribution to one - p ##hon ##ons ##cat ##tering from ion ##ic def ##orm \u001b[31m##ations\u001b[0m \u001b[31m,\u001b[0m modelled by a shell model . Sol ##ution method : \u001b[31mThe\u001b[0m elements of the anal ##ytic solution are assembled from a combination of input data , ta ##bula ##ted scattering factors and transformation of a minimum set of e ##ige ##nda ##ta . The scattering is evaluated along lines in re ##ci ##p ##ro ##cal space . Rest ##ric ##tions : \u001b[31mZ\u001b[0m ##in ##c ##ble ##nde structure compounds and Group IV elements only \u001b[31m;\u001b[0m \u001b[31mmay\u001b[0m be modified for other compounds . < / do ##c \u001b[31m>\u001b[0m \u001b[31m[SEP]\u001b[0m \n",
      "\n"
     ]
    }
   ],
   "source": [
    "interpret_sentence(\n",
    "    sentences[mistake_ids[1]], dataset_reader.tokenizer, 50, \n",
    "    [smooth_grad, simple_grad, integrated_grad],\n",
    "    label_description[true_classes[mistake_ids[1]]],\n",
    "    label_description[predicted_classes[mistake_ids[1]]]\n",
    ")"
   ]
  },
  {
   "cell_type": "code",
   "execution_count": 18,
   "metadata": {},
   "outputs": [
    {
     "name": "stdout",
     "output_type": "stream",
     "text": [
      "TRUE LABEL: commercial\n",
      "LABEL: argum\n",
      "<class 'allennlp.interpret.saliency_interpreters.smooth_gradient.SmoothGradient'> TEXT:\n",
      "What kind of professional business \u001b[31mpeople\u001b[0m \u001b[31mcan\u001b[0m benefit from using a 24 \u001b[31m-\u001b[0m hour message service ? Is it only for Doctor \u001b[31m'\u001b[0m s and Den ##tist ' s Office \u001b[31m##s\u001b[0m ? Would \u001b[31mother\u001b[0m profession \u001b[31m##s\u001b[0m benefit from having \u001b[31ma\u001b[0m live reception ##ist answer \u001b[31mtheir\u001b[0m phone \u001b[31m24\u001b[0m hours a day , 7 \u001b[31mdays\u001b[0m a week ? \u001b[31mLet\u001b[0m \u001b[31m'\u001b[0m s \u001b[31mtake\u001b[0m \u001b[31ma\u001b[0m look at that \u001b[31m.\u001b[0m The \u001b[31mOffice\u001b[0m is a different place , these days . It ' s no \u001b[31mlonger\u001b[0m a big building \u001b[31m,\u001b[0m with cu ##bby holes , and small partition ##s . An office nowadays \u001b[31mis\u001b[0m anywhere \u001b[31myou\u001b[0m \u001b[31mset\u001b[0m up your \u001b[31mcomputer\u001b[0m , or hold your cell phone \u001b[31m.\u001b[0m A lot of business people have now moved their offices into their own homes . Most people do n \u001b[31m'\u001b[0m t have room for a reception ##ist in their bedroom , or kitchen , and would n ' t be able to afford the full - time salary \u001b[31manyway\u001b[0m . But , there are a lot of reasons an answering service would be a work ##able solution for fields \u001b[31mother\u001b[0m than medical and dental . \u001b[31mAttorney\u001b[0m ##s have stream ##lined their operations . Many independent \u001b[31mlawyers\u001b[0m work from their homes . They would benefit by having an off - site reception \u001b[31m##ist\u001b[0m answer their business telephone while they ' re in court . The answering service \u001b[31mcan\u001b[0m then text messages to them , and the attorney can respond at a court re ##cess . People in the Real \u001b[31mEstate\u001b[0m \u001b[31mbusiness\u001b[0m are also tend ##ing to work from their homes . They have to leave their home offices many times a day . They have to show houses to clients , and it would n ' t be very feasible for them to field calls \u001b[31m.\u001b[0m En ##tre ##p ##rene ##urs engage in starting up and running new businesses . Answer \u001b[31m##ing\u001b[0m services make sense for them because they do n ' t have to in ##cu ##r the huge \u001b[31mexpense\u001b[0m of another person on their pay ##roll . They can also give the appearance of having an established \u001b[31mcompany\u001b[0m , with the off - site , professional reception \u001b[31m##ist\u001b[0m . Entertainment \u001b[31mIndustry\u001b[0m \u001b[31mCompanies\u001b[0m \u001b[31mare\u001b[0m involved with different projects for limited amounts of time . There is a transit ##ory nature to the business . Having \u001b[31ma\u001b[0m centralized , inexpensive \u001b[31manswering\u001b[0m \u001b[31mservice\u001b[0m as their base of communications is a good idea . You \u001b[31mnever\u001b[0m have to pay to move a virtual office . Anyone \u001b[31min\u001b[0m the Construction and Lands \u001b[31m##cap\u001b[0m ##ing business could cut out the expense of having \u001b[31man\u001b[0m office , altogether . They perform their services at different outdoor places , all the time . This would also include P ##lumber \u001b[31m##s\u001b[0m , Board - up and Glass Companies , and R ##oof ##ers , etc . Restoration Companies are in a different category all together . They are involved in emerge ##ncies . The people who call them are in trouble \u001b[31m,\u001b[0m and never on a nine - to - five schedule . They need a communication \n",
      "\n",
      "<class 'allennlp.interpret.saliency_interpreters.simple_gradient.SimpleGradient'> TEXT:\n",
      "What kind \u001b[31mof\u001b[0m \u001b[31mprofessional\u001b[0m \u001b[31mbusiness\u001b[0m \u001b[31mpeople\u001b[0m \u001b[31mcan\u001b[0m benefit \u001b[31mfrom\u001b[0m \u001b[31musing\u001b[0m \u001b[31ma\u001b[0m 24 \u001b[31m-\u001b[0m hour \u001b[31mmessage\u001b[0m \u001b[31mservice\u001b[0m \u001b[31m?\u001b[0m Is it only for Doctor ' s and Den \u001b[31m##tist\u001b[0m \u001b[31m'\u001b[0m s Office \u001b[31m##s\u001b[0m ? Would other \u001b[31mprofession\u001b[0m \u001b[31m##s\u001b[0m \u001b[31mbenefit\u001b[0m from \u001b[31mhaving\u001b[0m a live reception ##ist answer their phone \u001b[31m24\u001b[0m hours a day , 7 days a week ? \u001b[31mLet\u001b[0m \u001b[31m'\u001b[0m s take a look \u001b[31mat\u001b[0m that \u001b[31m.\u001b[0m The Office is a different \u001b[31mplace\u001b[0m , these days . It ' s no longer \u001b[31ma\u001b[0m big building , with cu ##bby holes , and small partition ##s . An \u001b[31moffice\u001b[0m nowadays \u001b[31mis\u001b[0m anywhere you \u001b[31mset\u001b[0m up your \u001b[31mcomputer\u001b[0m , or hold your \u001b[31mcell\u001b[0m phone \u001b[31m.\u001b[0m A lot of business people have now moved their offices into their own homes . Most people do n ' t have room for a reception ##ist in their bedroom , or kitchen , and would n ' t be able to afford the full - time salary anyway . But \u001b[31m,\u001b[0m there are a lot of reasons \u001b[31man\u001b[0m answering \u001b[31mservice\u001b[0m would be a work ##able solution for fields other than medical \u001b[31mand\u001b[0m dental \u001b[31m.\u001b[0m Attorney \u001b[31m##s\u001b[0m \u001b[31mhave\u001b[0m stream \u001b[31m##lined\u001b[0m their operations . Many independent lawyers work \u001b[31mfrom\u001b[0m their homes . They would benefit by having an off - site reception ##ist \u001b[31manswer\u001b[0m their business telephone \u001b[31mwhile\u001b[0m they ' re in court . The answering service can then text messages to them , and the attorney can respond \u001b[31mat\u001b[0m a court re ##cess . People in the Real Estate business are also tend ##ing to work from their homes . They have to leave their home offices many times a day . They have to show houses to clients \u001b[31m,\u001b[0m and it would n ' t be very feasible for them to field calls . En ##tre ##p ##rene ##urs engage in starting up and running new businesses . Answer ##ing services make sense for them because they do n ' t have to in ##cu ##r the huge expense of another person on their pay ##roll . They can also give the appearance of having an established company , with the off - site , professional \u001b[31mreception\u001b[0m ##ist . Entertainment \u001b[31mIndustry\u001b[0m \u001b[31mCompanies\u001b[0m \u001b[31mare\u001b[0m involved with different projects for limited amounts of time . There is a transit ##ory nature to the business . Having a centralized , inexpensive answering \u001b[31mservice\u001b[0m as their base of communications is a good idea . You never have to pay to move a virtual office . Anyone in the Construction and Lands ##cap ##ing business could cut out the expense of having an office , altogether . They perform their services at different outdoor places , all the time . This would also include P ##lumber ##s , Board - up and Glass Companies , and R ##oof ##ers , etc . Restoration Companies are in a different category all together . They are involved in emerge ##ncies . The people who call them are in trouble , and never on a nine - to - five schedule . They need a communication \n",
      "\n",
      "<class 'allennlp.interpret.saliency_interpreters.integrated_gradient.IntegratedGradient'> TEXT:\n",
      "\u001b[31mWhat\u001b[0m \u001b[31mkind\u001b[0m of professional \u001b[31mbusiness\u001b[0m \u001b[31mpeople\u001b[0m \u001b[31mcan\u001b[0m \u001b[31mbenefit\u001b[0m \u001b[31mfrom\u001b[0m using a \u001b[31m24\u001b[0m \u001b[31m-\u001b[0m hour \u001b[31mmessage\u001b[0m \u001b[31mservice\u001b[0m \u001b[31m?\u001b[0m \u001b[31mIs\u001b[0m \u001b[31mit\u001b[0m \u001b[31monly\u001b[0m for Doctor \u001b[31m'\u001b[0m s and Den ##tist ' s Office \u001b[31m##s\u001b[0m ? \u001b[31mWould\u001b[0m \u001b[31mother\u001b[0m profession \u001b[31m##s\u001b[0m benefit \u001b[31mfrom\u001b[0m having \u001b[31ma\u001b[0m live reception \u001b[31m##ist\u001b[0m answer their \u001b[31mphone\u001b[0m \u001b[31m24\u001b[0m hours \u001b[31ma\u001b[0m day , 7 \u001b[31mdays\u001b[0m \u001b[31ma\u001b[0m week \u001b[31m?\u001b[0m Let \u001b[31m'\u001b[0m s take \u001b[31ma\u001b[0m look \u001b[31mat\u001b[0m that . The \u001b[31mOffice\u001b[0m is a different place , these days . It ' s no longer a big building , with cu ##bby \u001b[31mholes\u001b[0m , and small partition ##s . An office nowadays \u001b[31mis\u001b[0m anywhere you \u001b[31mset\u001b[0m up your \u001b[31mcomputer\u001b[0m , or hold your \u001b[31mcell\u001b[0m phone . A lot of business people have now moved their offices into their own homes . Most people do n \u001b[31m'\u001b[0m t have room for a reception ##ist in their bedroom , or kitchen , and would n \u001b[31m'\u001b[0m t be able to afford the full - time salary anyway . But , there are a lot of reasons \u001b[31man\u001b[0m answering \u001b[31mservice\u001b[0m would be a work ##able solution for fields other than medical and dental . Attorney \u001b[31m##s\u001b[0m have stream ##lined their operations . Many independent lawyers work from their homes . They would benefit by having an off - site reception ##ist answer their business telephone while they ' re in court . The answering service can then text messages to them , and the attorney can respond at a court re ##cess . People in the Real Estate business are also tend ##ing to work from their homes . They have to leave their home offices many times a day . They have to show houses to clients , and it would n \u001b[31m'\u001b[0m t be very feasible for them to field calls . En ##tre ##p ##rene ##urs engage in starting up and running new businesses . Answer ##ing services make sense for them because they do n ' t have to in ##cu ##r the huge expense of another person on their pay ##roll . They can also give the appearance of having an established company , with the off - site , professional reception ##ist . Entertainment Industry \u001b[31mCompanies\u001b[0m are involved with different projects for limited amounts of time . There is a transit ##ory nature to the business . Having \u001b[31ma\u001b[0m centralized , inexpensive answering \u001b[31mservice\u001b[0m as their base of communications is a good idea . You \u001b[31mnever\u001b[0m have to pay to move a virtual office . Anyone in the Construction and Lands ##cap ##ing business could cut out the expense of having an office , altogether . They perform their services at different outdoor places , all the time . This would also include P ##lumber ##s , Board - up and Glass Companies \u001b[31m,\u001b[0m and R ##oof ##ers , etc . Restoration Companies are in a different category all together . They are involved in emerge ##ncies . The people who call them are in trouble , and never on a nine - to - five schedule . They need a communication \n",
      "\n"
     ]
    }
   ],
   "source": [
    "interpret_sentence(\n",
    "    sentences[mistake_ids[2]], dataset_reader.tokenizer, 50, \n",
    "    [smooth_grad, simple_grad, integrated_grad],\n",
    "    label_description[true_classes[mistake_ids[2]]],\n",
    "    label_description[predicted_classes[mistake_ids[2]]]\n",
    ")"
   ]
  },
  {
   "cell_type": "code",
   "execution_count": 20,
   "metadata": {},
   "outputs": [
    {
     "name": "stdout",
     "output_type": "stream",
     "text": [
      "argum\n",
      "====================================================================================================\n",
      "[('.', 138), ('the', 68), (',', 54), ('\"', 43), ('[SEP]', 32), ('of', 32), ('to', 28), (\"'\", 27), (':', 27), ('is', 27), ('I', 26), ('The', 24), ('and', 23), ('–', 21), ('?', 18), (')', 18), ('in', 18), ('In', 17), ('s', 16), ('not', 15), ('be', 14), ('you', 14), ('we', 14), ('for', 14), ('are', 13), ('[CLS]', 13), ('that', 13), ('if', 13), ('our', 13), ('-', 13), ('have', 12), ('on', 11), ('has', 11), ('a', 11), ('(', 10), ('by', 10), ('people', 10), ('This', 9), ('was', 9), ('should', 9), ('!', 8), ('We', 8), ('will', 8), ('with', 7), ('or', 7), ('at', 7), ('If', 7), ('<', 7), ('like', 7), ('/', 7)]\n",
      "commercial\n",
      "====================================================================================================\n",
      "[('.', 135), ('the', 45), ('our', 38), ('you', 34), ('your', 30), (',', 28), ('to', 27), ('[SEP]', 27), (':', 21), ('is', 21), ('The', 20), ('for', 19), ('£', 18), ('and', 18), ('of', 16), ('a', 15), ('are', 14), ('?', 14), ('in', 13), ('-', 13), (\"'\", 12), ('We', 12), ('\"', 11), ('##s', 10), ('will', 10), ('on', 10), ('>', 9), ('or', 9), (')', 9), ('experience', 8), ('re', 8), ('Dr', 8), ('<', 8), ('!', 7), ('offers', 7), ('IT', 7), ('have', 7), ('This', 7), ('can', 7), ('today', 7), ('Exchange', 7), ('reviews', 7), ('services', 6), ('at', 6), ('about', 6), ('In', 6), ('we', 6), ('[CLS]', 6), ('us', 6), ('this', 6)]\n",
      "instruct\n",
      "====================================================================================================\n",
      "[('.', 95), ('your', 35), ('the', 21), (':', 19), ('you', 17), ('if', 15), ('[SEP]', 14), ('If', 13), (',', 12), ('a', 12), ('to', 11), ('may', 11), (')', 9), ('Use', 9), ('1', 9), ('(', 8), ('our', 8), ('Python', 8), ('for', 7), ('be', 7), ('##lick', 7), ('want', 7), ('®', 7), ('##s', 6), ('that', 6), ('search', 6), ('To', 6), ('and', 6), ('In', 6), ('Google', 6), ('[CLS]', 5), ('must', 5), ('can', 5), ('we', 5), ('or', 5), ('with', 5), ('C', 5), ('Search', 5), ('##rase', 5), ('•', 5), ('is', 5), ('click', 5), ('try', 5), ('will', 4), ('but', 4), ('an', 4), ('help', 4), ('following', 4), ('look', 4), ('Ph', 4)]\n",
      "info\n",
      "====================================================================================================\n",
      "[('.', 73), (',', 38), ('the', 28), ('is', 19), ('in', 18), ('The', 17), ('[SEP]', 15), ('\"', 14), (':', 13), ('and', 11), (')', 11), ('to', 10), ('of', 9), ('a', 9), ('-', 9), ('(', 9), ('1', 8), ('we', 8), ('–', 8), ('was', 8), ('<', 7), ('A', 7), ('[CLS]', 6), ('/', 6), ('are', 6), ('Wind', 6), ('>', 5), ('that', 5), ('3', 5), ('from', 5), ('first', 5), ('as', 5), ('by', 5), ('?', 4), ('What', 4), ('T', 4), ('2', 4), (\"'\", 4), ('when', 4), ('##ing', 4), ('can', 4), ('be', 4), ('November', 4), ('An', 4), ('It', 4), ('##s', 4), ('cells', 4), ('•', 4), ('cell', 3), ('All', 3)]\n",
      "reporting\n",
      "====================================================================================================\n",
      "[('.', 62), ('\"', 21), (',', 18), ('the', 17), ('[SEP]', 15), ('said', 14), ('The', 13), (\"'\", 12), ('on', 12), ('of', 11), ('a', 11), ('in', 11), ('and', 9), ('will', 8), ('at', 8), ('s', 7), ('2004', 6), ('[CLS]', 6), ('was', 6), ('this', 6), ('is', 6), ('<', 6), ('has', 6), ('I', 6), ('Sunday', 5), ('-', 5), ('news', 5), ('for', 5), ('to', 5), ('/', 5), ('our', 4), ('last', 4), ('9', 4), ('are', 4), (':', 4), ('December', 4), ('UK', 4), ('have', 4), ('with', 4), ('FDA', 4), ('In', 4), ('been', 4), ('August', 4), ('September', 4), ('councils', 4), ('##MT', 4), ('Southern', 4), ('team', 3), ('weekend', 3), ('R', 3)]\n",
      "stuff\n",
      "====================================================================================================\n",
      "[('.', 77), (',', 28), ('the', 22), ('to', 16), ('[SEP]', 15), ('and', 13), ('##s', 12), ('in', 11), ('i', 10), ('our', 9), ('is', 9), (':', 9), ('with', 8), ('I', 8), ('The', 8), ('be', 7), ('you', 7), ('##t', 7), ('if', 6), ('-', 6), ('of', 6), ('mg', 6), ('online', 6), ('not', 6), ('##zac', 5), ('buy', 5), ('can', 5), ('your', 5), ('##n', 5), ('a', 5), ('http', 5), ('pay', 5), ('pro', 4), (';', 4), ('on', 4), ('##ing', 4), ('generic', 4), ('?', 4), ('may', 4), ('Where', 4), ('was', 4), ('A', 4), ('no', 4), ('jersey', 3), ('s', 3), ('at', 3), ('it', 3), ('people', 3), ('he', 3), ('p', 3)]\n",
      "fictive\n",
      "====================================================================================================\n",
      "[('.', 74), ('\"', 45), (',', 37), ('I', 23), ('the', 13), ('he', 12), ('said', 12), (';', 10), ('[SEP]', 10), ('in', 10), ('–', 10), ('-', 8), ('?', 8), ('you', 8), ('He', 7), (\"'\", 7), ('if', 7), ('was', 6), ('of', 6), ('that', 6), ('be', 5), ('and', 5), ('me', 5), ('a', 5), ('Ke', 5), ('man', 5), ('##nan', 5), ('him', 4), ('us', 4), ('our', 4), ('St', 4), ('|', 4), ('And', 4), ('heard', 4), ('##u', 4), ('at', 4), ('had', 4), ('to', 4), ('as', 4), ('##e', 4), ('Levin', 4), ('[CLS]', 4), ('hundred', 4), ('your', 3), ('police', 3), ('Du', 3), ('seemed', 3), ('Rue', 3), ('is', 3), ('She', 3)]\n",
      "personal\n",
      "====================================================================================================\n",
      "[('I', 38), ('.', 33), (':', 11), ('you', 10), ('n', 10), ('a', 9), (',', 8), ('was', 8), ('to', 6), ('[SEP]', 6), ('!', 6), ('if', 6), ('The', 6), ('like', 5), ('-', 5), ('14', 5), ('the', 5), ('and', 4), ('not', 4), (')', 4), ('My', 4), ('as', 4), ('A', 4), ('Engineer', 4), ('dad', 4), ('at', 3), ('is', 3), ('my', 3), ('thinking', 3), ('when', 3), ('Happiness', 3), ('this', 3), (\"'\", 3), ('box', 3), ('If', 3), ('miss', 3), ('post', 3), ('say', 2), ('are', 2), ('had', 2), ('We', 2), ('Double', 2), ('Play', 2), ('your', 2), ('[CLS]', 2), ('HIV', 2), ('prison', 2), ('But', 2), ('on', 2), ('it', 2)]\n",
      "research\n",
      "====================================================================================================\n",
      "[('.', 45), ('of', 16), (',', 14), ('the', 12), (':', 10), ('in', 7), ('is', 7), ('[SEP]', 6), ('The', 6), ('We', 6), ('this', 5), ('to', 5), ('This', 5), ('protein', 5), ('and', 5), ('-', 4), ('##tract', 4), ('we', 4), ('are', 4), ('stem', 4), ('<', 3), ('treatment', 3), ('##s', 3), ('##M', 3), ('Google', 3), ('##bs', 3), ('for', 3), ('\"', 3), ('has', 3), ('Europe', 3), ('Neolithic', 3), ('/', 3), ('Pro', 3), ('##LE', 3), ('graph', 3), ('##eyer', 2), ('algorithms', 2), ('literature', 2), ('[', 2), ('A', 2), ('University', 2), ('2014', 2), ('mechanisms', 2), ('disease', 2), ('Current', 2), ('such', 2), ('cells', 2), ('>', 2), ('can', 2), ('with', 2)]\n",
      "legal\n",
      "====================================================================================================\n",
      "[('.', 35), ('\"', 19), ('shall', 18), ('or', 13), ('of', 13), ('any', 12), ('The', 10), ('may', 9), (',', 9), (')', 9), ('the', 8), ('Use', 8), (';', 7), ('Schedule', 6), ('[SEP]', 6), ('to', 6), ('that', 6), ('authorised', 6), ('2', 6), ('persons', 6), ('(', 5), ('means', 5), ('this', 5), ('article', 5), ('Regulations', 5), ('Initial', 4), ('not', 4), ('for', 4), ('arising', 4), ('I', 4), ('site', 4), ('[CLS]', 4), ('disabled', 4), ('includes', 4), ('provisions', 3), ('acknowledge', 3), ('Act', 3), ('Article', 3), ('whether', 3), ('information', 3), ('and', 3), ('1', 3), ('-', 3), ('liable', 3), ('Council', 3), ('1881', 3), ('unless', 2), ('Agreement', 2), ('c', 2), ('premises', 2)]\n",
      "eval\n",
      "====================================================================================================\n",
      "[('.', 37), (',', 15), (':', 15), ('I', 13), (\"'\", 13), ('–', 10), ('you', 9), ('is', 9), ('The', 8), ('if', 8), (')', 7), ('the', 7), ('\"', 7), ('your', 6), ('and', 6), ('to', 6), ('Review', 6), ('in', 6), ('our', 5), ('Score', 5), ('-', 4), ('with', 4), ('Maybe', 4), ('If', 4), ('by', 4), ('review', 4), ('2006', 4), ('[SEP]', 4), ('was', 4), ('that', 4), ('vs', 3), ('game', 3), ('?', 3), ('reviewed', 3), ('of', 3), ('(', 3), ('370', 3), ('Good', 3), ('Doctor', 3), ('satire', 3), ('10', 3), ('have', 3), ('surprised', 3), ('##ly', 2), ('British', 2), ('Hat', 2), ('from', 2), ('Lebanese', 2), ('impressive', 2), ('reviews', 2)]\n"
     ]
    }
   ],
   "source": [
    "for label in id_to_label.values():\n",
    "    print(label_description[label])\n",
    "    print('=' * 100)\n",
    "    cur_dataset = get_dataset_by_confusion_pair(\n",
    "        sentences, label, label, true_classes, predicted_classes\n",
    "    )\n",
    "    words = get_most_frequent_trigger_words(cur_dataset, dataset_reader.tokenizer, 50, simple_grad)\n",
    "    print(words[:50])"
   ]
  },
  {
   "cell_type": "code",
   "execution_count": 21,
   "metadata": {},
   "outputs": [
    {
     "name": "stdout",
     "output_type": "stream",
     "text": [
      "argum\n",
      "====================================================================================================\n",
      "[('.', 94), ('\"', 35), ('[CLS]', 31), (',', 29), ('[SEP]', 24), ('the', 24), ('The', 21), ('I', 20), ('to', 16), (':', 16), ('is', 14), ('?', 14), ('people', 13), ('<', 13), (\"'\", 12), ('and', 12), ('if', 12), ('China', 11), ('–', 11), ('##versity', 11), ('in', 11), ('of', 10), ('we', 10), ('not', 10), ('Europe', 9), ('(', 9), (')', 9), ('a', 9), ('>', 9), ('If', 9), ('children', 9), ('science', 9), ('In', 9), ('This', 8), ('has', 8), ('2002', 8), ('are', 7), ('!', 7), ('as', 7), ('It', 7), ('our', 7), ('Organic', 7), ('you', 7), ('Christian', 7), ('be', 6), ('s', 6), ('-', 6), ('Our', 6), ('for', 6), ('Germany', 6)]\n",
      "commercial\n",
      "====================================================================================================\n",
      "[('.', 77), ('[CLS]', 30), ('the', 27), ('our', 27), ('[SEP]', 23), ('your', 22), ('<', 20), (',', 18), ('you', 16), ('£', 16), ('and', 15), ('for', 13), (':', 13), ('in', 12), ('\"', 12), ('>', 12), ('IT', 11), ('to', 11), ('The', 10), ('reviews', 10), ('/', 9), ('experience', 9), ('business', 9), ('!', 9), ('is', 9), ('Book', 9), ('of', 9), ('You', 8), ('?', 8), ('##ylon', 8), ('are', 7), ('We', 7), ('company', 7), ('can', 7), ('##tist', 7), ('we', 7), ('-', 7), ('2003', 7), ('children', 6), ('a', 6), ('world', 6), ('If', 6), ('–', 6), ('Our', 6), ('products', 6), ('customers', 6), (\"'\", 6), ('Siemens', 6), ('##chia', 6), ('##s', 5)]\n",
      "instruct\n",
      "====================================================================================================\n",
      "[('.', 58), ('your', 30), ('[CLS]', 19), ('search', 19), ('[SEP]', 16), ('##lick', 13), (':', 12), ('the', 12), ('®', 11), ('(', 10), ('If', 10), ('you', 10), ('Google', 10), (',', 8), ('You', 8), ('Use', 8), ('click', 8), ('##gets', 8), ('may', 7), ('to', 7), ('>', 6), ('if', 6), ('will', 6), ('try', 6), ('want', 6), ('The', 6), ('<', 5), (')', 5), ('I', 5), ('results', 5), ('Python', 5), ('1', 5), ('Speed', 5), ('Web', 5), ('sick', 4), ('but', 4), ('help', 4), ('##rase', 4), ('•', 4), ('remove', 4), ('they', 4), ('is', 4), ('we', 4), ('Check', 4), ('do', 3), ('seconds', 3), ('website', 3), ('find', 3), ('have', 3), ('or', 3)]\n",
      "info\n",
      "====================================================================================================\n",
      "[('.', 48), (',', 35), ('the', 19), ('[SEP]', 16), ('The', 16), ('[CLS]', 15), ('in', 15), (':', 14), ('(', 12), ('\"', 12), ('is', 10), ('was', 10), ('/', 8), ('3', 8), ('–', 8), ('wind', 8), ('cells', 8), (')', 8), ('we', 7), ('and', 6), ('to', 6), ('•', 6), ('cancer', 5), ('a', 5), ('<', 5), ('2', 5), (\"'\", 5), ('of', 5), ('?', 4), ('that', 4), ('would', 4), ('are', 4), ('A', 4), ('on', 4), ('November', 4), ('1871', 4), ('treatment', 4), ('patient', 4), ('station', 4), ('journal', 4), ('causes', 3), ('Photo', 3), ('from', 3), ('On', 3), ('March', 3), ('will', 3), ('law', 3), ('1991', 3), ('very', 3), ('Wind', 3)]\n",
      "reporting\n",
      "====================================================================================================\n",
      "[('.', 46), ('\"', 22), ('[CLS]', 16), ('[SEP]', 14), ('The', 13), ('said', 12), ('in', 12), ('2004', 9), ('and', 9), ('the', 9), ('<', 8), ('on', 7), ('>', 7), (':', 7), ('last', 6), ('whales', 6), ('UK', 6), (\"'\", 6), (',', 6), ('Southern', 6), ('Britain', 5), ('July', 5), ('news', 5), ('has', 5), ('is', 5), ('recycling', 5), ('for', 5), ('##leaf', 5), ('will', 4), ('of', 4), ('this', 4), ('News', 4), ('been', 4), ('-', 4), ('£', 4), ('Thursday', 4), ('was', 4), ('have', 4), ('at', 4), ('were', 4), ('Fire', 4), ('##fra', 4), ('2005', 4), ('A', 3), ('One', 3), ('British', 3), ('weekend', 3), ('Sunday', 3), ('9', 3), ('##uters', 3)]\n",
      "stuff\n",
      "====================================================================================================\n",
      "[('.', 36), ('[CLS]', 18), ('[SEP]', 16), ('online', 14), ('i', 11), (',', 10), ('buy', 7), ('our', 6), ('you', 6), ('your', 6), ('pay', 6), ('if', 5), ('the', 5), ('http', 5), ('or', 5), ('cheap', 5), ('n', 4), ('jersey', 4), ('real', 4), ('##s', 4), ('The', 4), ('mg', 4), ('was', 4), ('loans', 4), ('credit', 4), ('##day', 4), ('pro', 3), ('e', 3), ('##AG', 3), ('with', 3), ('drug', 3), ('Help', 3), ('I', 3), ('prescription', 3), ('Home', 3), ('##ed', 3), ('his', 3), ('In', 3), ('great', 3), ('Buy', 3), ('loan', 3), ('personal', 3), ('?', 3), ('store', 3), ('can', 3), ('##dn', 3), ('##bah', 3), ('##ax', 3), ('0', 2), ('Australia', 2)]\n",
      "fictive\n",
      "====================================================================================================\n",
      "[('\"', 37), ('.', 31), (',', 16), ('[CLS]', 14), ('[SEP]', 13), (';', 13), ('–', 12), ('I', 12), (\"'\", 12), ('!', 9), ('said', 8), ('had', 6), ('upon', 6), ('of', 5), ('him', 5), ('-', 5), ('you', 5), ('n', 5), ('he', 5), ('He', 5), ('St', 5), ('Levin', 5), ('shall', 4), ('and', 4), ('not', 4), ('round', 4), ('|', 4), ('was', 4), ('Mick', 4), ('sir', 4), ('##tien', 4), ('when', 4), ('we', 4), ('##e', 4), ('Ke', 4), ('Robin', 4), ('Cyrus', 4), ('##ag', 4), ('o', 3), ('our', 3), ('that', 3), ('she', 3), ('is', 3), ('her', 3), (':', 3), ('Boer', 3), ('for', 3), ('may', 3), ('which', 3), ('Mike', 3)]\n",
      "personal\n",
      "====================================================================================================\n",
      "[('I', 31), ('.', 22), ('n', 10), (':', 10), ('[SEP]', 9), ('you', 7), ('[CLS]', 7), (',', 7), ('my', 5), ('like', 5), ('14', 5), ('Happiness', 5), ('your', 4), (\"'\", 4), ('dad', 4), ('me', 3), ('on', 3), ('Holloway', 3), ('The', 3), ('(', 3), ('m', 3), ('My', 3), ('1', 3), ('or', 3), ('?', 3), ('and', 3), ('bike', 3), ('am', 3), ('in', 2), ('!', 2), ('had', 2), ('we', 2), ('Cover', 2), ('years', 2), ('stories', 2), ('boyfriend', 2), ('nobody', 2), ('AIDS', 2), ('HIV', 2), ('Ambassador', 2), ('Geneva', 2), ('2007', 2), ('Nations', 2), ('15', 2), ('Conference', 2), ('sure', 2), ('to', 2), ('love', 2), ('people', 2), ('Then', 2)]\n",
      "research\n",
      "====================================================================================================\n",
      "[('.', 27), (',', 8), ('[SEP]', 8), (':', 8), ('[CLS]', 7), ('of', 6), ('We', 6), ('graph', 6), ('cells', 5), ('is', 5), ('protein', 5), ('##state', 5), ('The', 4), ('we', 4), ('for', 4), ('This', 4), ('stem', 4), ('the', 4), ('In', 3), ('drug', 3), ('cancer', 3), ('bio', 3), ('##M', 3), ('Google', 3), ('Flow', 3), ('consider', 3), ('therapeutic', 3), ('##gene', 3), ('\"', 3), ('##U', 2), ('algorithms', 2), ('in', 2), ('(', 2), ('2014', 2), ('##bs', 2), ('##tract', 2), ('∗', 2), ('##ila', 2), ('Research', 2), ('use', 2), ('<', 2), ('skeletal', 2), ('disease', 2), ('##uc', 2), ('their', 2), ('methods', 2), ('##physical', 2), ('Tech', 2), ('therapy', 2), ('##vation', 2)]\n",
      "legal\n",
      "====================================================================================================\n",
      "[('\"', 19), ('shall', 17), (';', 12), ('.', 12), ('of', 10), ('[SEP]', 9), ('Court', 9), ('[CLS]', 8), ('and', 6), ('means', 6), ('notice', 5), ('The', 5), ('or', 5), ('any', 5), ('the', 5), ('<', 5), ('may', 5), ('(', 5), ('Regulations', 5), ('article', 5), ('Schedule', 4), ('Agreement', 4), ('confidential', 4), ('information', 4), ('§', 4), (',', 4), ('arising', 4), ('agree', 4), ('Sites', 4), ('Use', 4), ('disabled', 4), ('Initial', 3), ('property', 3), ('do', 3), ('breach', 3), ('intellectual', 3), ('acknowledge', 3), ('other', 3), ('for', 3), ('Article', 3), ('is', 3), ('site', 3), ('authorised', 3), ('##rms', 3), ('2', 3), ('State', 3), ('paragraph', 3), ('lease', 3), ('-', 3), ('Northern', 3)]\n",
      "eval\n",
      "====================================================================================================\n",
      "[('.', 24), (\"'\", 13), ('–', 12), ('I', 12), ('The', 11), (',', 8), ('[CLS]', 8), ('\"', 7), ('[SEP]', 7), ('(', 7), (':', 7), ('if', 7), ('##oku', 6), ('Review', 6), ('you', 5), ('is', 5), ('our', 5), ('2006', 5), ('it', 5), ('vs', 4), ('your', 4), ('Editor', 4), ('?', 4), ('2016', 4), ('guys', 4), ('game', 4), ('in', 4), ('Score', 4), ('works', 3), ('In', 3), ('Netflix', 3), ('If', 3), ('reviewed', 3), ('this', 3), ('SAS', 3), ('review', 3), ('him', 3), ('movie', 3), ('Paul', 3), ('rematch', 3), ('=', 3), ('to', 3), ('recommend', 3), ('recorder', 3), ('energy', 3), ('##verse', 3), ('Poor', 3), ('Bristol', 3), ('British', 2), ('video', 2)]\n"
     ]
    }
   ],
   "source": [
    "for label in id_to_label.values():\n",
    "    print(label_description[label])\n",
    "    print('=' * 100)\n",
    "    cur_dataset = get_dataset_by_confusion_pair(\n",
    "        sentences, label, label, true_classes, predicted_classes\n",
    "    )\n",
    "    words = get_most_frequent_trigger_words(cur_dataset, dataset_reader.tokenizer, 50, smooth_grad)\n",
    "    print(words[:50])"
   ]
  },
  {
   "cell_type": "code",
   "execution_count": null,
   "metadata": {},
   "outputs": [
    {
     "name": "stdout",
     "output_type": "stream",
     "text": [
      "argum\n",
      "====================================================================================================\n",
      "[('the', 82), ('.', 55), ('[SEP]', 55), ('[CLS]', 51), ('\"', 44), ('to', 33), ('The', 33), ('of', 27), ('that', 25), (\"'\", 24), ('we', 24), ('China', 21), ('is', 20), ('I', 20), ('our', 19), ('and', 18), ('people', 17), ('in', 16), ('-', 15), ('not', 14), ('a', 14), (',', 13), ('will', 13), ('it', 12), ('–', 12), ('this', 12), ('be', 12), ('can', 11), ('?', 11), (':', 11), ('This', 10), ('(', 10), ('s', 10), ('you', 10), ('We', 10), ('for', 10), ('as', 9), ('children', 9), ('>', 9), ('which', 9), ('their', 9), ('us', 8), ('science', 8), ('<', 8), ('God', 8), ('Russia', 7), ('programme', 7), ('In', 7), ('always', 7), ('##ly', 7)]\n",
      "commercial\n",
      "====================================================================================================\n",
      "[('you', 76), ('.', 65), ('your', 63), ('our', 54), ('[SEP]', 47), ('[CLS]', 38), ('>', 28), ('the', 28), ('to', 28), ('£', 27), ('<', 26), (',', 19), ('The', 16), ('of', 16), (':', 15), ('will', 15), ('us', 15), ('We', 15), ('for', 13), ('and', 13), ('/', 13), ('we', 13), ('a', 12), ('is', 12), ('offers', 11), ('in', 11), ('-', 10), ('product', 10), ('experience', 10), ('products', 10), ('customers', 10), ('great', 10), ('business', 9), ('You', 9), ('customer', 9), ('\"', 9), ('support', 9), ('mattress', 9), (\"'\", 8), ('quality', 8), ('IT', 8), ('can', 8), ('shades', 8), ('service', 8), ('that', 7), ('Support', 7), ('company', 7), ('Dr', 7), ('available', 7), ('Our', 7)]\n",
      "instruct\n",
      "====================================================================================================\n",
      "[('your', 79), ('you', 56), ('.', 40), ('[SEP]', 24), ('the', 20), ('may', 16), ('[CLS]', 14), ('search', 14), ('If', 13), ('click', 13), (':', 12), ('a', 11), ('You', 10), ('Use', 10), ('can', 9), ('Google', 9), (',', 8), ('or', 8), ('if', 8), ('##lick', 8), ('1', 8), ('be', 7), ('will', 7), ('2', 7), ('information', 7), ('•', 7), ('Speed', 7), ('on', 6), ('then', 6), ('that', 6), ('The', 6), ('our', 6), ('##rase', 6), ('remove', 6), (\"'\", 5), ('to', 5), ('(', 5), ('want', 5), ('number', 5), ('Python', 5), ('seconds', 4), ('any', 4), ('for', 4), ('>', 4), ('are', 4), ('should', 4), ('results', 4), ('we', 4), ('following', 4), ('<', 4)]\n",
      "info\n",
      "====================================================================================================\n"
     ]
    }
   ],
   "source": [
    "for label in id_to_label.values():\n",
    "    print(label_description[label])\n",
    "    print('=' * 100)\n",
    "    cur_dataset = get_dataset_by_confusion_pair(\n",
    "        sentences, label, label, true_classes, predicted_classes\n",
    "    )\n",
    "    words = get_most_frequent_trigger_words(cur_dataset, dataset_reader.tokenizer, 50, integrated_grad)\n",
    "    print(words[:50])"
   ]
  },
  {
   "cell_type": "code",
   "execution_count": null,
   "metadata": {},
   "outputs": [],
   "source": []
  }
 ],
 "metadata": {
  "kernelspec": {
   "display_name": "Python 3",
   "language": "python",
   "name": "python3"
  },
  "language_info": {
   "codemirror_mode": {
    "name": "ipython",
    "version": 3
   },
   "file_extension": ".py",
   "mimetype": "text/x-python",
   "name": "python",
   "nbconvert_exporter": "python",
   "pygments_lexer": "ipython3",
   "version": "3.8.3"
  }
 },
 "nbformat": 4,
 "nbformat_minor": 4
}
