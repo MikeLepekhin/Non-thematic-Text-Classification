{
 "cells": [
  {
   "cell_type": "code",
   "execution_count": 1,
   "metadata": {},
   "outputs": [],
   "source": [
    "from os.path import join as pathjoin\n",
    "from data_processing import *\n",
    "from interpretation import *\n",
    "from models import *\n",
    "from training import *"
   ]
  },
  {
   "cell_type": "code",
   "execution_count": 2,
   "metadata": {},
   "outputs": [
    {
     "name": "stdout",
     "output_type": "stream",
     "text": [
      "allennlp_bert_base_cased\t\t   allennlp_rubert_from_generated\r\n",
      "allennlp_bert_base_cased_kek\t\t   allennlp_rubert_lemma\r\n",
      "allennlp_bert_base_uncased\t\t   allennlp_simple_lstm\r\n",
      "allennlp_bert_base_uncased_from_generated  big\r\n",
      "allennlp_domain_lstm\t\t\t   mini_gpt\r\n",
      "allennlp_rubert\t\t\t\t   mini_gpt_big_bpe\r\n",
      "allennlp_rubert_base_cased_conversational  mini_gpt_bpe\r\n",
      "allennlp_rubert_base_cased_kek\t\t   mini_gpt_bpe_tuned\r\n"
     ]
    }
   ],
   "source": [
    "DATA_DIR = '/home/mlepekhin/data/min_gpt_bpe'\n",
    "MODELS_DIR = '/home/mlepekhin/models'\n",
    "!ls {MODELS_DIR}\n",
    "MODEL_ID = 'allennlp_rubert_lemma'\n",
    "CHECKPOINTS_DIR = pathjoin(MODELS_DIR, MODEL_ID, 'checkpoints')\n",
    "BEST_MODEL = pathjoin(CHECKPOINTS_DIR, 'best.th')"
   ]
  },
  {
   "cell_type": "code",
   "execution_count": 3,
   "metadata": {},
   "outputs": [],
   "source": [
    "transformer_model = 'DeepPavlov/rubert-base-cased'\n",
    "MAX_TOKENS = 512"
   ]
  },
  {
   "cell_type": "markdown",
   "metadata": {},
   "source": [
    "### Loading of the pretrained model"
   ]
  },
  {
   "cell_type": "code",
   "execution_count": 11,
   "metadata": {},
   "outputs": [
    {
     "name": "stdout",
     "output_type": "stream",
     "text": [
      "checkpoints\r\n"
     ]
    }
   ],
   "source": [
    "!ls {pathjoin(MODELS_DIR, 'allennlp_rubert_lemma')}"
   ]
  },
  {
   "cell_type": "code",
   "execution_count": 6,
   "metadata": {},
   "outputs": [
    {
     "ename": "FileNotFoundError",
     "evalue": "[Errno 2] No such file or directory: '/home/mlepekhin/models/allennlp_rubert_lemma/vocab/.lock'",
     "output_type": "error",
     "traceback": [
      "\u001b[0;31m---------------------------------------------------------------------------\u001b[0m",
      "\u001b[0;31mFileNotFoundError\u001b[0m                         Traceback (most recent call last)",
      "\u001b[0;32m<ipython-input-6-96407fdc6fbc>\u001b[0m in \u001b[0;36m<module>\u001b[0;34m\u001b[0m\n\u001b[0;32m----> 1\u001b[0;31m \u001b[0mvocab\u001b[0m \u001b[0;34m=\u001b[0m \u001b[0mVocabulary\u001b[0m\u001b[0;34m(\u001b[0m\u001b[0;34m)\u001b[0m\u001b[0;34m.\u001b[0m\u001b[0mfrom_files\u001b[0m\u001b[0;34m(\u001b[0m\u001b[0mpathjoin\u001b[0m\u001b[0;34m(\u001b[0m\u001b[0mMODELS_DIR\u001b[0m\u001b[0;34m,\u001b[0m \u001b[0mMODEL_ID\u001b[0m\u001b[0;34m,\u001b[0m \u001b[0;34m'vocab'\u001b[0m\u001b[0;34m)\u001b[0m\u001b[0;34m)\u001b[0m\u001b[0;34m\u001b[0m\u001b[0;34m\u001b[0m\u001b[0m\n\u001b[0m\u001b[1;32m      2\u001b[0m \u001b[0mmodel\u001b[0m \u001b[0;34m=\u001b[0m \u001b[0mbuild_transformer_model\u001b[0m\u001b[0;34m(\u001b[0m\u001b[0mvocab\u001b[0m\u001b[0;34m,\u001b[0m \u001b[0mtransformer_model\u001b[0m\u001b[0;34m)\u001b[0m\u001b[0;34m\u001b[0m\u001b[0;34m\u001b[0m\u001b[0m\n",
      "\u001b[0;32m~/anaconda3/envs/mlepekhin_research/lib/python3.8/site-packages/allennlp/data/vocabulary.py\u001b[0m in \u001b[0;36mfrom_files\u001b[0;34m(cls, directory, padding_token, oov_token)\u001b[0m\n\u001b[1;32m    325\u001b[0m         \u001b[0;31m# We use a lock file to avoid race conditions where multiple processes\u001b[0m\u001b[0;34m\u001b[0m\u001b[0;34m\u001b[0m\u001b[0;34m\u001b[0m\u001b[0m\n\u001b[1;32m    326\u001b[0m         \u001b[0;31m# might be reading/writing from/to the same vocab files at once.\u001b[0m\u001b[0;34m\u001b[0m\u001b[0;34m\u001b[0m\u001b[0;34m\u001b[0m\u001b[0m\n\u001b[0;32m--> 327\u001b[0;31m         \u001b[0;32mwith\u001b[0m \u001b[0mFileLock\u001b[0m\u001b[0;34m(\u001b[0m\u001b[0mos\u001b[0m\u001b[0;34m.\u001b[0m\u001b[0mpath\u001b[0m\u001b[0;34m.\u001b[0m\u001b[0mjoin\u001b[0m\u001b[0;34m(\u001b[0m\u001b[0mdirectory\u001b[0m\u001b[0;34m,\u001b[0m \u001b[0;34m\".lock\"\u001b[0m\u001b[0;34m)\u001b[0m\u001b[0;34m)\u001b[0m\u001b[0;34m:\u001b[0m\u001b[0;34m\u001b[0m\u001b[0;34m\u001b[0m\u001b[0m\n\u001b[0m\u001b[1;32m    328\u001b[0m             with codecs.open(\n\u001b[1;32m    329\u001b[0m                 \u001b[0mos\u001b[0m\u001b[0;34m.\u001b[0m\u001b[0mpath\u001b[0m\u001b[0;34m.\u001b[0m\u001b[0mjoin\u001b[0m\u001b[0;34m(\u001b[0m\u001b[0mdirectory\u001b[0m\u001b[0;34m,\u001b[0m \u001b[0mNAMESPACE_PADDING_FILE\u001b[0m\u001b[0;34m)\u001b[0m\u001b[0;34m,\u001b[0m \u001b[0;34m\"r\"\u001b[0m\u001b[0;34m,\u001b[0m \u001b[0;34m\"utf-8\"\u001b[0m\u001b[0;34m\u001b[0m\u001b[0;34m\u001b[0m\u001b[0m\n",
      "\u001b[0;32m~/anaconda3/envs/mlepekhin_research/lib/python3.8/site-packages/filelock.py\u001b[0m in \u001b[0;36m__enter__\u001b[0;34m(self)\u001b[0m\n\u001b[1;32m    321\u001b[0m \u001b[0;34m\u001b[0m\u001b[0m\n\u001b[1;32m    322\u001b[0m     \u001b[0;32mdef\u001b[0m \u001b[0m__enter__\u001b[0m\u001b[0;34m(\u001b[0m\u001b[0mself\u001b[0m\u001b[0;34m)\u001b[0m\u001b[0;34m:\u001b[0m\u001b[0;34m\u001b[0m\u001b[0;34m\u001b[0m\u001b[0m\n\u001b[0;32m--> 323\u001b[0;31m         \u001b[0mself\u001b[0m\u001b[0;34m.\u001b[0m\u001b[0macquire\u001b[0m\u001b[0;34m(\u001b[0m\u001b[0;34m)\u001b[0m\u001b[0;34m\u001b[0m\u001b[0;34m\u001b[0m\u001b[0m\n\u001b[0m\u001b[1;32m    324\u001b[0m         \u001b[0;32mreturn\u001b[0m \u001b[0mself\u001b[0m\u001b[0;34m\u001b[0m\u001b[0;34m\u001b[0m\u001b[0m\n\u001b[1;32m    325\u001b[0m \u001b[0;34m\u001b[0m\u001b[0m\n",
      "\u001b[0;32m~/anaconda3/envs/mlepekhin_research/lib/python3.8/site-packages/filelock.py\u001b[0m in \u001b[0;36macquire\u001b[0;34m(self, timeout, poll_intervall)\u001b[0m\n\u001b[1;32m    269\u001b[0m                     \u001b[0;32mif\u001b[0m \u001b[0;32mnot\u001b[0m \u001b[0mself\u001b[0m\u001b[0;34m.\u001b[0m\u001b[0mis_locked\u001b[0m\u001b[0;34m:\u001b[0m\u001b[0;34m\u001b[0m\u001b[0;34m\u001b[0m\u001b[0m\n\u001b[1;32m    270\u001b[0m                         \u001b[0mlogger\u001b[0m\u001b[0;34m(\u001b[0m\u001b[0;34m)\u001b[0m\u001b[0;34m.\u001b[0m\u001b[0mdebug\u001b[0m\u001b[0;34m(\u001b[0m\u001b[0;34m'Attempting to acquire lock %s on %s'\u001b[0m\u001b[0;34m,\u001b[0m \u001b[0mlock_id\u001b[0m\u001b[0;34m,\u001b[0m \u001b[0mlock_filename\u001b[0m\u001b[0;34m)\u001b[0m\u001b[0;34m\u001b[0m\u001b[0;34m\u001b[0m\u001b[0m\n\u001b[0;32m--> 271\u001b[0;31m                         \u001b[0mself\u001b[0m\u001b[0;34m.\u001b[0m\u001b[0m_acquire\u001b[0m\u001b[0;34m(\u001b[0m\u001b[0;34m)\u001b[0m\u001b[0;34m\u001b[0m\u001b[0;34m\u001b[0m\u001b[0m\n\u001b[0m\u001b[1;32m    272\u001b[0m \u001b[0;34m\u001b[0m\u001b[0m\n\u001b[1;32m    273\u001b[0m                 \u001b[0;32mif\u001b[0m \u001b[0mself\u001b[0m\u001b[0;34m.\u001b[0m\u001b[0mis_locked\u001b[0m\u001b[0;34m:\u001b[0m\u001b[0;34m\u001b[0m\u001b[0;34m\u001b[0m\u001b[0m\n",
      "\u001b[0;32m~/anaconda3/envs/mlepekhin_research/lib/python3.8/site-packages/filelock.py\u001b[0m in \u001b[0;36m_acquire\u001b[0;34m(self)\u001b[0m\n\u001b[1;32m    382\u001b[0m     \u001b[0;32mdef\u001b[0m \u001b[0m_acquire\u001b[0m\u001b[0;34m(\u001b[0m\u001b[0mself\u001b[0m\u001b[0;34m)\u001b[0m\u001b[0;34m:\u001b[0m\u001b[0;34m\u001b[0m\u001b[0;34m\u001b[0m\u001b[0m\n\u001b[1;32m    383\u001b[0m         \u001b[0mopen_mode\u001b[0m \u001b[0;34m=\u001b[0m \u001b[0mos\u001b[0m\u001b[0;34m.\u001b[0m\u001b[0mO_RDWR\u001b[0m \u001b[0;34m|\u001b[0m \u001b[0mos\u001b[0m\u001b[0;34m.\u001b[0m\u001b[0mO_CREAT\u001b[0m \u001b[0;34m|\u001b[0m \u001b[0mos\u001b[0m\u001b[0;34m.\u001b[0m\u001b[0mO_TRUNC\u001b[0m\u001b[0;34m\u001b[0m\u001b[0;34m\u001b[0m\u001b[0m\n\u001b[0;32m--> 384\u001b[0;31m         \u001b[0mfd\u001b[0m \u001b[0;34m=\u001b[0m \u001b[0mos\u001b[0m\u001b[0;34m.\u001b[0m\u001b[0mopen\u001b[0m\u001b[0;34m(\u001b[0m\u001b[0mself\u001b[0m\u001b[0;34m.\u001b[0m\u001b[0m_lock_file\u001b[0m\u001b[0;34m,\u001b[0m \u001b[0mopen_mode\u001b[0m\u001b[0;34m)\u001b[0m\u001b[0;34m\u001b[0m\u001b[0;34m\u001b[0m\u001b[0m\n\u001b[0m\u001b[1;32m    385\u001b[0m \u001b[0;34m\u001b[0m\u001b[0m\n\u001b[1;32m    386\u001b[0m         \u001b[0;32mtry\u001b[0m\u001b[0;34m:\u001b[0m\u001b[0;34m\u001b[0m\u001b[0;34m\u001b[0m\u001b[0m\n",
      "\u001b[0;31mFileNotFoundError\u001b[0m: [Errno 2] No such file or directory: '/home/mlepekhin/models/allennlp_rubert_lemma/vocab/.lock'"
     ]
    }
   ],
   "source": [
    "vocab = Vocabulary().from_files(pathjoin(MODELS_DIR, MODEL_ID, 'vocab'))\n",
    "model = build_transformer_model(vocab, transformer_model)"
   ]
  },
  {
   "cell_type": "code",
   "execution_count": null,
   "metadata": {},
   "outputs": [],
   "source": [
    "id_to_label = vocab.get_index_to_token_vocabulary('labels')\n",
    "print(id_to_label)\n",
    "print(id_to_label.values())"
   ]
  },
  {
   "cell_type": "code",
   "execution_count": null,
   "metadata": {},
   "outputs": [],
   "source": [
    "if torch.cuda.is_available():\n",
    "    cuda_device = 1\n",
    "else:\n",
    "    cuda_device = -1\n",
    "print(cuda_device)\n",
    "model.load_state_dict(torch.load(BEST_MODEL, map_location=f'cuda:{cuda_device}'))"
   ]
  },
  {
   "cell_type": "markdown",
   "metadata": {},
   "source": [
    "### Data loading"
   ]
  },
  {
   "cell_type": "code",
   "execution_count": 5,
   "metadata": {},
   "outputs": [
    {
     "data": {
      "text/html": [
       "<div>\n",
       "<style scoped>\n",
       "    .dataframe tbody tr th:only-of-type {\n",
       "        vertical-align: middle;\n",
       "    }\n",
       "\n",
       "    .dataframe tbody tr th {\n",
       "        vertical-align: top;\n",
       "    }\n",
       "\n",
       "    .dataframe thead th {\n",
       "        text-align: right;\n",
       "    }\n",
       "</style>\n",
       "<table border=\"1\" class=\"dataframe\">\n",
       "  <thead>\n",
       "    <tr style=\"text-align: right;\">\n",
       "      <th></th>\n",
       "      <th>Unnamed: 0</th>\n",
       "      <th>target</th>\n",
       "      <th>text</th>\n",
       "    </tr>\n",
       "  </thead>\n",
       "  <tbody>\n",
       "    <tr>\n",
       "      <th>0</th>\n",
       "      <td>0</td>\n",
       "      <td>A4</td>\n",
       "      <td>острие свои товарищ и до конец . господин де т...</td>\n",
       "    </tr>\n",
       "    <tr>\n",
       "      <th>1</th>\n",
       "      <td>1</td>\n",
       "      <td>A4</td>\n",
       "      <td>##зарядковатыи рисунок , и через весь время пр...</td>\n",
       "    </tr>\n",
       "    <tr>\n",
       "      <th>2</th>\n",
       "      <td>2</td>\n",
       "      <td>A4</td>\n",
       "      <td>картинныи , что выходка она скоро узнать она ч...</td>\n",
       "    </tr>\n",
       "    <tr>\n",
       "      <th>3</th>\n",
       "      <td>3</td>\n",
       "      <td>A4</td>\n",
       "      <td>иммунитет против компания не пощадить , потому...</td>\n",
       "    </tr>\n",
       "    <tr>\n",
       "      <th>4</th>\n",
       "      <td>4</td>\n",
       "      <td>A4</td>\n",
       "      <td>черта весь . - в декабрь , - - поправить эол ....</td>\n",
       "    </tr>\n",
       "  </tbody>\n",
       "</table>\n",
       "</div>"
      ],
      "text/plain": [
       "   Unnamed: 0 target                                               text\n",
       "0           0     A4  острие свои товарищ и до конец . господин де т...\n",
       "1           1     A4  ##зарядковатыи рисунок , и через весь время пр...\n",
       "2           2     A4  картинныи , что выходка она скоро узнать она ч...\n",
       "3           3     A4  иммунитет против компания не пощадить , потому...\n",
       "4           4     A4  черта весь . - в декабрь , - - поправить эол ...."
      ]
     },
     "execution_count": 5,
     "metadata": {},
     "output_type": "execute_result"
    }
   ],
   "source": [
    "ru_test_df = pd.read_csv(pathjoin(DATA_DIR, 'ru_lemma.csv'))\n",
    "ru_test_df.head()"
   ]
  },
  {
   "cell_type": "code",
   "execution_count": 8,
   "metadata": {},
   "outputs": [],
   "source": [
    "true_classes = ru_test_df.target.values\n",
    "sentences = ru_test_df.text.values"
   ]
  },
  {
   "cell_type": "markdown",
   "metadata": {},
   "source": [
    "### Preliminary analysis"
   ]
  },
  {
   "cell_type": "code",
   "execution_count": 9,
   "metadata": {},
   "outputs": [],
   "source": [
    "dataset_reader = build_transformer_dataset_reader(transformer_model, MAX_TOKENS)\n",
    "predictor = TextClassifierPredictor(model, dataset_reader=dataset_reader)\n",
    "predicted_classes = np.array(predict_classes(sentences, predictor, vocab))"
   ]
  },
  {
   "cell_type": "code",
   "execution_count": 10,
   "metadata": {},
   "outputs": [
    {
     "name": "stdout",
     "output_type": "stream",
     "text": [
      "<class 'numpy.ndarray'>\n"
     ]
    }
   ],
   "source": [
    "print(type(predicted_classes == 'A1'))"
   ]
  },
  {
   "cell_type": "code",
   "execution_count": 11,
   "metadata": {},
   "outputs": [
    {
     "name": "stdout",
     "output_type": "stream",
     "text": [
      "10\n"
     ]
    }
   ],
   "source": [
    "print(len(np.unique(true_classes)))"
   ]
  },
  {
   "cell_type": "code",
   "execution_count": 12,
   "metadata": {},
   "outputs": [
    {
     "name": "stdout",
     "output_type": "stream",
     "text": [
      "label (argum) f1_score 0.425 precision 0.85 recall 0.2833333333333333\n",
      "label (fictive) f1_score 0.888888888888889 precision 0.8 recall 1.0\n",
      "label (instruct) f1_score 0.9230769230769231 precision 0.9 recall 0.9473684210526315\n",
      "label (reporting) f1_score 0.888888888888889 precision 0.8 recall 1.0\n",
      "label (legal) f1_score 0.7692307692307692 precision 0.75 recall 0.7894736842105263\n",
      "label (personal) f1_score 0.24999999999999997 precision 0.15 recall 0.75\n",
      "label (commercial) f1_score 0.9523809523809523 precision 1.0 recall 0.9090909090909091\n",
      "label (research) f1_score 0.761904761904762 precision 0.8 recall 0.7272727272727273\n",
      "label (info) f1_score 0.18181818181818182 precision 0.1 recall 1.0\n",
      "label (eval) f1_score 0.9 precision 0.9 recall 0.9\n",
      "accuracy 0.705\n"
     ]
    }
   ],
   "source": [
    "calc_classifier_metrics(predicted_classes, true_classes)"
   ]
  },
  {
   "cell_type": "code",
   "execution_count": 13,
   "metadata": {},
   "outputs": [
    {
     "data": {
      "image/png": "[encoded data removed]",
      "text/plain": [
       "<Figure size 1080x1080 with 2 Axes>"
      ]
     },
     "metadata": {
      "needs_background": "light"
     },
     "output_type": "display_data"
    }
   ],
   "source": [
    "plot_confusion_matrix(predicted_classes, true_classes)"
   ]
  },
  {
   "cell_type": "markdown",
   "metadata": {},
   "source": [
    "### Saliency Gradient Interpretation"
   ]
  },
  {
   "cell_type": "code",
   "execution_count": 14,
   "metadata": {},
   "outputs": [],
   "source": [
    "smooth_grad = SmoothGradient(predictor)\n",
    "simple_grad = SimpleGradient(predictor)\n",
    "integrated_grad = IntegratedGradient(predictor)"
   ]
  },
  {
   "cell_type": "code",
   "execution_count": 15,
   "metadata": {},
   "outputs": [],
   "source": [
    "mistake_ids = []\n",
    "\n",
    "for sent_id in range(len(true_classes)):\n",
    "    if true_classes[sent_id] != predicted_classes[sent_id]:\n",
    "        mistake_ids.append(sent_id)"
   ]
  },
  {
   "cell_type": "code",
   "execution_count": 16,
   "metadata": {},
   "outputs": [
    {
     "name": "stdout",
     "output_type": "stream",
     "text": [
      "TRUE LABEL: fictive\n",
      "LABEL: argum\n",
      "<class 'allennlp.interpret.saliency_interpreters.smooth_gradient.SmoothGradient'> TEXT:\n",
      "\u001b[31mмускул\u001b[0m : они не бояться , 20 пос ##идет ##ь они , что не знать , кто засвидетельств ##овать о она , что никак ##ои любовь к господин ) . \u001b[31m21\u001b[0m у сосед ##ница ам ##ос , лишь предан ##ны ##и ру ##фь 2 1 и остаться в время тот время несколько день , оставаться в время путь . \u001b[31m2\u001b[0m прии ##ти к два месяц по след , писать на день , и он весь четверо рубль : человек ли вы не знать , навер ##но , что - нибудь из - за вы не получить необходимость прок ##лина ##ть время , - - тогда он , для вы \u001b[31mничто\u001b[0m не расспраш ##ивать , - - так , я всегда пробир ##ать я ? - да . - ведь вы больш ##ои не надо ! - - заявить вот ##рен , - продолжать ведьма \u001b[31m.\u001b[0m - - мы с вы она арестовать . - - я сам видеть , хороши ##и , что с вы невероятно \u001b[31mтаин\u001b[0m ##а . - разве я не \u001b[31mбеспокоит\u001b[0m ##ься к \u001b[31mя\u001b[0m ? \u001b[31m-\u001b[0m если бы вы же день мор ##ско ##и \u001b[31m.\u001b[0m \u001b[31m-\u001b[0m если я не полюб \u001b[31m##ить\u001b[0m \u001b[31m-\u001b[0m а \u001b[31mона\u001b[0m \u001b[31m,\u001b[0m \u001b[31mсуда\u001b[0m ##рь , \u001b[31mя\u001b[0m \u001b[31mничто\u001b[0m не выдум ##ать \u001b[31m!\u001b[0m - а я в сила , я не моч ##ь . - но я должны ##и исполнить \u001b[31mсвои\u001b[0m красота пять \u001b[31mтысяча\u001b[0m \u001b[31mраз\u001b[0m , они вы ##ити . - это ! \u001b[31m-\u001b[0m восклик ##нуть молод ##ои \u001b[31mженщина\u001b[0m \u001b[31m,\u001b[0m и \u001b[31mв\u001b[0m голос она прозвуч ##ать так ##ои тревога , \u001b[31mчто\u001b[0m д ' арта ##нья ##н невольно взд ##рог ##нуть . - умол ##ять вы , не вмешиваться ни в что , касаться я , не пытаться помочь я в выполнение тот , что на я возложить . я умол ##ять вы о это в имя тот чувство , котор ##ы ##и вы к я пит ##ать , в имя услуга , котор ##ы ##и вы \u001b[31mя\u001b[0m \u001b[31mоказать\u001b[0m и котор ##ы ##и я никогда в жизнь не \u001b[31mзабыть\u001b[0m ! поверить мои слово \u001b[31m!\u001b[0m но думать больш ##ои о я , я не существовать \u001b[31mбольше\u001b[0m для вы , словно вы я никогда не видеть . - должны ##и ли арам ##ис поступить так же , как я ? \u001b[31m-\u001b[0m спросить д ' \u001b[31mарта\u001b[0m \u001b[31m##нья\u001b[0m \u001b[31m##н\u001b[0m \u001b[31m,\u001b[0m заде ##ть ее слово . - вот уже два или три раз вы произнести это имя , суда ##рь . а между тот я говорить вы , что \u001b[31mоно\u001b[0m \u001b[31mя\u001b[0m незнаком \u001b[31m##ы\u001b[0m ##и . \u001b[31m-\u001b[0m вы не знать человек , в окно котор ##ы ##и вы стуч ##аться ? да что вы , суда ##рын ##я ! вы считать я чересчур легков ##ерн ##ы ##и \u001b[31m.\u001b[0m - признаться , что вы сочин ##ить весь этот история и выдум ##ать этот арам ##ис , лишь бы вызвать я на откровенно ##сть . - я ничто не сочинять , \u001b[31mсуда\u001b[0m ##рын ##я , я ничто не выдум ##ывать \u001b[31m.\u001b[0m \u001b[31mя\u001b[0m говорить чист \u001b[31m##ы\u001b[0m ##и правда . - \u001b[31mи\u001b[0m вы говорить , что один \u001b[31mиз\u001b[0m \u001b[31m[SEP]\u001b[0m \n",
      "\n",
      "<class 'allennlp.interpret.saliency_interpreters.simple_gradient.SimpleGradient'> TEXT:\n",
      "\u001b[31mмускул\u001b[0m \u001b[31m:\u001b[0m они не бояться , 20 пос ##идет ##ь они , что не знать , кто засвидетельств ##овать о она , что никак ##ои любовь \u001b[31mк\u001b[0m господин ) . 21 у \u001b[31mсосед\u001b[0m ##ница ам ##ос , лишь предан ##ны ##и ру ##фь 2 1 \u001b[31mи\u001b[0m остаться в время тот время несколько день , оставаться в время путь . 2 прии ##ти к два месяц по след , писать на день , и он весь четверо рубль : человек ли вы не знать , навер \u001b[31m##но\u001b[0m , что - нибудь из - за вы не получить необходимость прок \u001b[31m##лина\u001b[0m ##ть время , - - \u001b[31mтогда\u001b[0m он , для вы ничто не расспраш ##ивать , - - \u001b[31mтак\u001b[0m , я всегда пробир \u001b[31m##ать\u001b[0m я ? \u001b[31m-\u001b[0m да . - ведь вы больш ##ои не надо ! - - \u001b[31mзаявить\u001b[0m \u001b[31mвот\u001b[0m ##рен , - продолжать \u001b[31mведьма\u001b[0m \u001b[31m.\u001b[0m - - мы с вы она арестовать . - - я сам видеть \u001b[31m,\u001b[0m хороши ##и , что с вы невероятно таин ##а . - разве я не беспокоит ##ься к я ? \u001b[31m-\u001b[0m если бы вы же день \u001b[31mмор\u001b[0m ##ско ##и \u001b[31m.\u001b[0m - если \u001b[31mя\u001b[0m не полюб ##ить - а она , суда ##рь , я ничто не выдум ##ать ! - \u001b[31mа\u001b[0m я в сила , я не \u001b[31mмоч\u001b[0m ##ь . \u001b[31m-\u001b[0m \u001b[31mно\u001b[0m я должны ##и \u001b[31mисполнить\u001b[0m свои красота \u001b[31mпять\u001b[0m тысяча раз , они вы ##ити . - это ! - восклик \u001b[31m##нуть\u001b[0m молод ##ои женщина \u001b[31m,\u001b[0m и в \u001b[31mголос\u001b[0m она прозвуч \u001b[31m##ать\u001b[0m так ##ои тревога \u001b[31m,\u001b[0m что д ' арта \u001b[31m##нья\u001b[0m ##н невольно взд ##рог ##нуть . - умол ##ять вы , не \u001b[31mвмешиваться\u001b[0m ни в что , касаться я , не пытаться помочь я в выполнение тот , что на я возложить . я умол \u001b[31m##ять\u001b[0m вы о это в имя тот чувство , котор ##ы ##и вы к я пит ##ать , в имя услуга , котор ##ы ##и вы я оказать и котор ##ы ##и я никогда в жизнь не забыть ! поверить мои слово ! но думать больш ##ои о я , я не \u001b[31mсуществовать\u001b[0m \u001b[31mбольше\u001b[0m для вы , словно вы я никогда не видеть . - должны ##и ли арам ##ис поступить так же , как я ? - спросить \u001b[31mд\u001b[0m ' арта \u001b[31m##нья\u001b[0m ##н , заде \u001b[31m##ть\u001b[0m ее слово . - вот уже два или три раз вы произнести это имя \u001b[31m,\u001b[0m суда ##рь . а между тот я говорить вы , что оно я незнаком ##ы ##и . \u001b[31m-\u001b[0m вы не знать человек , в \u001b[31mокно\u001b[0m котор \u001b[31m##ы\u001b[0m ##и вы стуч \u001b[31m##аться\u001b[0m ? \u001b[31mда\u001b[0m что вы , суда ##рын ##я ! вы считать \u001b[31mя\u001b[0m чересчур легков ##ерн ##ы ##и . - признаться , что вы сочин ##ить весь этот история и выдум ##ать этот арам ##ис \u001b[31m,\u001b[0m лишь бы вызвать я на откровенно ##сть . - я ничто не сочинять \u001b[31m,\u001b[0m суда ##рын ##я , я ничто не выдум ##ывать . я говорить чист ##ы ##и правда . - и вы говорить , что один из \u001b[31m[SEP]\u001b[0m \n",
      "\n",
      "<class 'allennlp.interpret.saliency_interpreters.integrated_gradient.IntegratedGradient'> TEXT:\n",
      "\u001b[31mмускул\u001b[0m : они не бояться , 20 пос ##идет \u001b[31m##ь\u001b[0m они , что не знать , кто засвидетельств \u001b[31m##овать\u001b[0m о она , что никак ##ои любовь к господин ) . 21 у сосед \u001b[31m##ница\u001b[0m \u001b[31mам\u001b[0m ##ос , лишь предан ##ны ##и ру ##фь 2 1 и остаться в время тот время несколько \u001b[31mдень\u001b[0m , оставаться в время путь . \u001b[31m2\u001b[0m прии ##ти к два месяц по след , писать \u001b[31mна\u001b[0m день , и \u001b[31mон\u001b[0m весь четверо рубль \u001b[31m:\u001b[0m человек ли вы не знать , навер ##но , что - нибудь из - за вы не получить необходимость прок \u001b[31m##лина\u001b[0m ##ть время , - - тогда он , для вы ничто не расспраш ##ивать , - - так , я всегда пробир \u001b[31m##ать\u001b[0m я ? - да . - ведь вы больш ##ои не надо \u001b[31m!\u001b[0m - - заявить вот \u001b[31m##рен\u001b[0m , - продолжать ведьма \u001b[31m.\u001b[0m - - мы с вы она арестовать . - - я сам видеть , \u001b[31mхороши\u001b[0m ##и , \u001b[31mчто\u001b[0m с вы невероятно таин ##а . \u001b[31m-\u001b[0m разве я не беспокоит ##ься к \u001b[31mя\u001b[0m \u001b[31m?\u001b[0m \u001b[31m-\u001b[0m если бы \u001b[31mвы\u001b[0m \u001b[31mже\u001b[0m день мор \u001b[31m##ско\u001b[0m ##и \u001b[31m.\u001b[0m - \u001b[31mесли\u001b[0m я \u001b[31mне\u001b[0m полюб ##ить - \u001b[31mа\u001b[0m она \u001b[31m,\u001b[0m суда ##рь , я ничто не выдум ##ать ! - а я в сила \u001b[31m,\u001b[0m я не моч ##ь . - но я должны ##и исполнить свои красота пять тысяча раз , они вы ##ити . - это ! - восклик \u001b[31m##нуть\u001b[0m молод ##ои женщина , и в голос \u001b[31mона\u001b[0m прозвуч ##ать так ##ои тревога , что д ' арта ##нья ##н невольно взд ##рог ##нуть . \u001b[31m-\u001b[0m умол ##ять вы , не вмешиваться ни в что , касаться я , не пытаться помочь я в выполнение тот , что на я возложить . \u001b[31mя\u001b[0m умол ##ять вы о это в имя тот чувство , котор ##ы ##и вы к я пит ##ать , в имя услуга , котор ##ы ##и вы я оказать и котор ##ы ##и я никогда в жизнь не забыть \u001b[31m!\u001b[0m поверить мои слово ! но думать больш ##ои о я , я не существовать больше для вы , словно вы я никогда не видеть . \u001b[31m-\u001b[0m должны ##и ли арам ##ис поступить так же , как я ? \u001b[31m-\u001b[0m \u001b[31mспросить\u001b[0m д ' арта ##нья \u001b[31m##н\u001b[0m , \u001b[31mзаде\u001b[0m ##ть ее слово . - вот уже два или три раз вы произнести это имя , суда ##рь \u001b[31m.\u001b[0m а между тот я говорить вы , что оно я незнаком \u001b[31m##ы\u001b[0m ##и . \u001b[31m-\u001b[0m вы \u001b[31mне\u001b[0m знать человек , в окно \u001b[31mкотор\u001b[0m ##ы ##и вы стуч \u001b[31m##аться\u001b[0m ? \u001b[31mда\u001b[0m что вы , суда ##рын ##я ! вы считать я чересчур легков ##ерн ##ы ##и . - признаться , что вы сочин ##ить весь этот история и выдум ##ать этот арам \u001b[31m##ис\u001b[0m , лишь бы вызвать я на откровенно ##сть . - я ничто не сочинять , суда ##рын ##я , я ничто не выдум ##ывать . я говорить чист ##ы ##и правда . \u001b[31m-\u001b[0m и вы говорить , что один из [SEP] \n",
      "\n"
     ]
    }
   ],
   "source": [
    "interpret_sentence(\n",
    "    sentences[mistake_ids[0]], dataset_reader.tokenizer, 50, \n",
    "    [smooth_grad, simple_grad, integrated_grad],\n",
    "    label_description[true_classes[mistake_ids[0]]],\n",
    "    label_description[predicted_classes[mistake_ids[0]]]\n",
    ")"
   ]
  },
  {
   "cell_type": "code",
   "execution_count": 17,
   "metadata": {},
   "outputs": [
    {
     "name": "stdout",
     "output_type": "stream",
     "text": [
      "TRUE LABEL: fictive\n",
      "LABEL: argum\n",
      "<class 'allennlp.interpret.saliency_interpreters.smooth_gradient.SmoothGradient'> TEXT:\n",
      "добр \u001b[31m##ы\u001b[0m ##и . что же касаться \u001b[31mя\u001b[0m это , то вы она , а я не знать , что она . . . о , бог ! так ! республика \u001b[31m!\u001b[0m ото ##ити от она весь ужас ! \u001b[31mон\u001b[0m всего тогда от страх , гляд ##еть на она , как целов ##ать рука , она еще не выдержать , и ждать от себя слез ##а . а вот \u001b[31mхозя\u001b[0m \u001b[31m##ика\u001b[0m , гляд \u001b[31m##еть\u001b[0m убежать она на стол и не есть : - бр ##ести , видимо \u001b[31m,\u001b[0m она что с ты прии \u001b[31m##ти\u001b[0m , и к небо рассып \u001b[31m##аться\u001b[0m , но скоро \u001b[31mпонять\u001b[0m , что она сам ##ы ##и более \u001b[31mстановиться\u001b[0m ясны ##и . \u001b[31m.\u001b[0m . конечно , наш восприятие \u001b[31mчеловек\u001b[0m прав ##ы ##и , но и это уже не сказать , что письмо это весь \u001b[31mэто\u001b[0m согласиться \u001b[31m.\u001b[0m пожал ##уи ##ста , надо быть совсем не надо . они еще красив \u001b[31m##ее\u001b[0m ; тот , дарит ##ь , должны ##и быть , произ ##ои ##ти послов \u001b[31m##ица\u001b[0m , что \" сам ##ы ##и прекрас \u001b[31m##ны\u001b[0m ##и девушка моч ##ь отдать лишь тот , что иметь \" . богаты ##и отдавать часть свои день ##га , и можно быть назвать немало \u001b[31mгерои\u001b[0m тот щедр \u001b[31m##ы\u001b[0m ##и на приключение эпоха , котор ##ы ##и не добиться бы ни чин , ни победа на поле бран ##ь , если бы не наб ##ить более или менее туго \u001b[31m##и\u001b[0m кош ##елек , котор \u001b[31m##ы\u001b[0m ##и возлюб ##ить привяз \u001b[31m##ывать\u001b[0m к их сед \u001b[31m##ло\u001b[0m . д ' арта ##нья ##н быть бед ##ны ##и . налет \u001b[31mпровинциаль\u001b[0m \u001b[31m##ны\u001b[0m ##и нереш \u001b[31m##ительность\u001b[0m - этот хруп ##ки ##и цветок , этот пуш ##ок перс \u001b[31m##ик\u001b[0m - быть быстро унес \u001b[31m##ти\u001b[0m вих ##рь не слишком - то нрав ##ствен ##ны ##и совет \u001b[31m,\u001b[0m котор \u001b[31m##ы\u001b[0m ##и три мушкет \u001b[31m##ер\u001b[0m снабжать свои друг . подчин ##яясь стран ##ны ##и обычаи \u001b[31mсвои\u001b[0m время , д ' арта ##нья ##н чувствовать себя в париж \u001b[31mсловно\u001b[0m в завоевать город , почти так , как чувствовать бы себя в флан ##д ##рия : испанец - там , женщина - здесь . и там и там и тут быть враг \u001b[31m,\u001b[0m с котор ##ы ##и полагаться бороться , быть контрибу ##ция , котор ##ы ##и полагаться наложить . все же мы должны ##и сказать \u001b[31m,\u001b[0m что се ##ичас д \u001b[31m'\u001b[0m арта \u001b[31m##нья\u001b[0m ##ны ##и руководить более благород \u001b[31m##ны\u001b[0m ##и и бескорыст ##ны ##и чувство . правда , галант ##ереи ##щик говорить он , что он богаты ##и . д ' арта ##нья \u001b[31m##н\u001b[0m нетруд \u001b[31m##ны\u001b[0m ##и быть догад \u001b[31m##аться\u001b[0m , что у так ##ои проста ##чок - муж \u001b[31m,\u001b[0m как ##ои быть господин бон ##ась ##е , кош ##елек , по весь вероятность \u001b[31m,\u001b[0m распоряжаться жена \u001b[31m.\u001b[0m но весь это нисколько не повлиять на тот чувство , котор ##ы ##и вспых ##нуть в он при вид г - жа бон ##ась ##е , и любовь , зарод \u001b[31m##иться\u001b[0m в его сердце \u001b[31m,\u001b[0m быть почти совершенно чужд ##ы ##и как ##ои - либо корыст \u001b[31m[SEP]\u001b[0m \n",
      "\n",
      "<class 'allennlp.interpret.saliency_interpreters.simple_gradient.SimpleGradient'> TEXT:\n",
      "\u001b[31mдобр\u001b[0m \u001b[31m##ы\u001b[0m ##и . что же касаться я это , то вы она , а я не знать , что она . . . о , бог ! так ! республика \u001b[31m!\u001b[0m ото ##ити от она весь ужас ! он всего тогда от страх \u001b[31m,\u001b[0m гляд ##еть на она , как целов ##ать рука , она еще не выдержать , и ждать от себя слез ##а . а вот хозя \u001b[31m##ика\u001b[0m , гляд ##еть убежать \u001b[31mона\u001b[0m на стол и не есть : - бр ##ести , видимо , она что с ты \u001b[31mприи\u001b[0m ##ти , и к небо рассып ##аться , но скоро понять , что она сам ##ы ##и более \u001b[31mстановиться\u001b[0m ясны \u001b[31m##и\u001b[0m . \u001b[31m.\u001b[0m \u001b[31m.\u001b[0m \u001b[31mконечно\u001b[0m , наш \u001b[31mвосприятие\u001b[0m \u001b[31mчеловек\u001b[0m \u001b[31mправ\u001b[0m \u001b[31m##ы\u001b[0m ##и , но и это уже не сказать , что письмо \u001b[31mэто\u001b[0m весь это согласиться \u001b[31m.\u001b[0m пожал \u001b[31m##уи\u001b[0m ##ста , надо быть совсем не надо . \u001b[31mони\u001b[0m еще красив \u001b[31m##ее\u001b[0m ; тот , дарит ##ь , должны ##и быть , произ ##ои ##ти послов \u001b[31m##ица\u001b[0m , что \" сам ##ы ##и прекрас ##ны ##и девушка моч ##ь отдать лишь тот , что иметь \" . \u001b[31mбогаты\u001b[0m ##и отдавать часть свои день ##га , и можно быть назвать немало \u001b[31mгерои\u001b[0m тот щедр ##ы ##и на приключение \u001b[31mэпоха\u001b[0m \u001b[31m,\u001b[0m котор ##ы ##и не добиться бы ни чин , ни победа на поле бран ##ь , если \u001b[31mбы\u001b[0m не наб ##ить более или менее туго ##и кош ##елек , котор ##ы ##и возлюб ##ить привяз ##ывать к их сед ##ло . д ' арта \u001b[31m##нья\u001b[0m ##н быть бед ##ны ##и . налет провинциаль \u001b[31m##ны\u001b[0m ##и нереш ##ительность - этот хруп ##ки ##и цветок \u001b[31m,\u001b[0m этот пуш ##ок перс ##ик - быть быстро унес ##ти вих ##рь не слишком - то нрав ##ствен ##ны ##и совет , котор ##ы ##и три \u001b[31mмушкет\u001b[0m \u001b[31m##ер\u001b[0m снабжать свои друг \u001b[31m.\u001b[0m подчин ##яясь стран ##ны ##и обычаи свои время , д \u001b[31m'\u001b[0m арта \u001b[31m##нья\u001b[0m ##н чувствовать себя в париж словно в завоевать город , почти так , как чувствовать бы себя в флан ##д ##рия : испанец - там , женщина - здесь . и там и там и тут быть враг , с котор ##ы ##и полагаться бороться \u001b[31m,\u001b[0m быть контрибу \u001b[31m##ция\u001b[0m , котор ##ы ##и полагаться наложить . все \u001b[31mже\u001b[0m мы должны ##и сказать , что се ##ичас д ' арта \u001b[31m##нья\u001b[0m ##ны ##и руководить \u001b[31mболее\u001b[0m благород ##ны ##и и бескорыст ##ны ##и чувство . правда , галант ##ереи ##щик говорить он , что он богаты ##и . д ' арта ##нья ##н нетруд \u001b[31m##ны\u001b[0m ##и быть догад ##аться , что у так ##ои проста ##чок - муж , как ##ои быть господин бон \u001b[31m##ась\u001b[0m ##е , кош ##елек , по весь вероятность \u001b[31m,\u001b[0m распоряжаться \u001b[31mжена\u001b[0m . \u001b[31mно\u001b[0m весь это нисколько не повлиять на тот чувство , котор ##ы ##и вспых \u001b[31m##нуть\u001b[0m в он при вид \u001b[31mг\u001b[0m - жа бон \u001b[31m##ась\u001b[0m ##е , и любовь , зарод ##иться в его сердце , быть почти совершенно чужд ##ы ##и как ##ои - либо корыст \u001b[31m[SEP]\u001b[0m \n",
      "\n",
      "<class 'allennlp.interpret.saliency_interpreters.integrated_gradient.IntegratedGradient'> TEXT:\n",
      "\u001b[31mдобр\u001b[0m ##ы ##и . что же касаться я это , то вы она , а я не знать \u001b[31m,\u001b[0m что \u001b[31mона\u001b[0m . . . о , бог ! так ! республика \u001b[31m!\u001b[0m ото ##ити от она весь ужас ! он всего тогда от страх , гляд \u001b[31m##еть\u001b[0m на она , как целов \u001b[31m##ать\u001b[0m рука \u001b[31m,\u001b[0m она еще не выдержать , и ждать от себя слез \u001b[31m##а\u001b[0m . \u001b[31mа\u001b[0m вот хозя \u001b[31m##ика\u001b[0m , гляд \u001b[31m##еть\u001b[0m \u001b[31mубежать\u001b[0m \u001b[31mона\u001b[0m на стол \u001b[31mи\u001b[0m не \u001b[31mесть\u001b[0m : - бр ##ести , видимо , она что с ты прии ##ти , и к небо рассып ##аться , но скоро понять , что она сам ##ы ##и более становиться ясны ##и . . . конечно , наш восприятие \u001b[31mчеловек\u001b[0m \u001b[31mправ\u001b[0m ##ы ##и , но и это уже не сказать , что \u001b[31mписьмо\u001b[0m это весь это согласиться . пожал ##уи ##ста , надо быть совсем не надо . они еще красив ##ее ; тот , дарит ##ь , должны ##и быть , \u001b[31mпроиз\u001b[0m \u001b[31m##ои\u001b[0m ##ти послов ##ица , что \" \u001b[31mсам\u001b[0m ##ы ##и \u001b[31mпрекрас\u001b[0m ##ны ##и \u001b[31mдевушка\u001b[0m \u001b[31mмоч\u001b[0m ##ь отдать лишь тот , что иметь \u001b[31m\"\u001b[0m . \u001b[31mбогаты\u001b[0m ##и отдавать \u001b[31mчасть\u001b[0m свои день \u001b[31m##га\u001b[0m , \u001b[31mи\u001b[0m можно быть назвать немало герои тот щедр ##ы \u001b[31m##и\u001b[0m на приключение эпоха \u001b[31m,\u001b[0m котор ##ы ##и не добиться \u001b[31mбы\u001b[0m ни \u001b[31mчин\u001b[0m , ни победа \u001b[31mна\u001b[0m поле бран ##ь , если бы не наб ##ить более или менее туго ##и кош ##елек , котор ##ы ##и возлюб ##ить привяз ##ывать к их сед ##ло . д ' арта ##нья ##н быть бед ##ны ##и . налет провинциаль ##ны ##и нереш ##ительность \u001b[31m-\u001b[0m этот хруп ##ки ##и цветок \u001b[31m,\u001b[0m этот пуш ##ок перс ##ик - быть быстро унес ##ти вих ##рь не слишком - то нрав ##ствен ##ны ##и совет , котор ##ы ##и три мушкет ##ер снабжать свои друг . подчин \u001b[31m##яясь\u001b[0m стран ##ны ##и обычаи свои время , д ' арта ##нья ##н чувствовать себя в париж \u001b[31mсловно\u001b[0m в завоевать город , почти так , как чувствовать бы себя в флан ##д ##рия : испанец - там , женщина - здесь . и там и там и тут быть враг , \u001b[31mс\u001b[0m котор ##ы ##и полагаться бороться , \u001b[31mбыть\u001b[0m контрибу ##ция , \u001b[31mкотор\u001b[0m ##ы \u001b[31m##и\u001b[0m \u001b[31mполагаться\u001b[0m наложить . все же мы должны ##и сказать , что се ##ичас д ' арта ##нья ##ны ##и руководить более благород ##ны ##и и бескорыст ##ны ##и чувство . правда , галант \u001b[31m##ереи\u001b[0m ##щик \u001b[31mговорить\u001b[0m он , что он богаты ##и . д ' \u001b[31mарта\u001b[0m ##нья ##н нетруд ##ны ##и быть догад ##аться , что у так ##ои проста ##чок - муж , как ##ои быть господин бон ##ась ##е , кош ##елек , по весь вероятность \u001b[31m,\u001b[0m распоряжаться \u001b[31mжена\u001b[0m . но весь это нисколько не повлиять на тот чувство , котор ##ы ##и вспых ##нуть в он при вид г - жа бон ##ась ##е , и любовь , зарод \u001b[31m##иться\u001b[0m в его сердце , быть почти совершенно чужд ##ы ##и как ##ои - либо корыст [SEP] \n",
      "\n"
     ]
    }
   ],
   "source": [
    "interpret_sentence(\n",
    "    sentences[mistake_ids[1]], dataset_reader.tokenizer, 50, \n",
    "    [smooth_grad, simple_grad, integrated_grad],\n",
    "    label_description[true_classes[mistake_ids[1]]],\n",
    "    label_description[predicted_classes[mistake_ids[1]]]\n",
    ")"
   ]
  },
  {
   "cell_type": "code",
   "execution_count": 18,
   "metadata": {},
   "outputs": [
    {
     "name": "stdout",
     "output_type": "stream",
     "text": [
      "TRUE LABEL: fictive\n",
      "LABEL: argum\n",
      "<class 'allennlp.interpret.saliency_interpreters.smooth_gradient.SmoothGradient'> TEXT:\n",
      "\u001b[31mобразу\u001b[0m \u001b[31m##ющая\u001b[0m на полотно \u001b[31mформа\u001b[0m и краска \u001b[31m?\u001b[0m возможны ##и ли , что этот атом отражать \u001b[31mна\u001b[0m полотно весь движение \u001b[31mдуша\u001b[0m , делать она сон яв ##ь ? или тут крыт ##ься ино ##и , еще более страш ##ны ##и причина ? зад ##рож ##ав при этот мысль , дор ##иан ото ##ити и снова \u001b[31mлечь\u001b[0m на куш \u001b[31m##етка\u001b[0m . отсюда он с ужас , не отрыва ##ться , смотреть на портрет . утеш \u001b[31m##ать\u001b[0m он только сознание , что кое ##чи ##и портрет уже научить \u001b[31mон\u001b[0m . он помочь он понять \u001b[31m,\u001b[0m как несправедлив \u001b[31m##ы\u001b[0m ##и , как жесток ##ии он быть к си ##бил ##ь в ##э ##ин . исправить это еще не поздно . си ##бил \u001b[31mстать\u001b[0m \u001b[31mон\u001b[0m жена . его эгоист \u001b[31m##ичная\u001b[0m и , быть моч ##ь , надуман \u001b[31m##ны\u001b[0m ##и любовь \u001b[31mпод\u001b[0m ее влияние преобраз \u001b[31m##иться\u001b[0m в чувство более благород \u001b[31m##ны\u001b[0m ##и , и портрет , написать б ##эз ##ил , всегда быть указывать он путь в жизнь , руководить он , как один руководить \u001b[31mдобродетель\u001b[0m , друго ##и - - совесть и весь человек \u001b[31m-\u001b[0m - страх перед бог . в жизнь существовать наркотик против уг ##рыз ##ение совесть , средство , \u001b[31mусып\u001b[0m ##лять нрав ##ствен ##ны ##и чуть ##е . но здесь перед его глаз - - видим ##ы ##и символ разложение \u001b[31m,\u001b[0m нагляд \u001b[31m##ны\u001b[0m ##и последств \u001b[31m##ие\u001b[0m грех . и всегда быть перед он это доказательство , что человек способны ##и погуб ##ить собствен ##ны ##и душа . пробить три час , четыре . про ##ити еще \u001b[31mполчаса\u001b[0m , а дор ##иан не двигаться с место . он пытаться собрать воедино ал ##ы ##и нить \u001b[31mжизнь\u001b[0m , сот ##кат ##ь из они как ##ои - то узор , отыскать свои путь в баг ##ров ##ы ##и лабиринт страсть , где он блужд ##ать . он не знать , что думать , что делать . наконец он под ##ои ##ти к стол и стать писать пыл ##ки ##и письмо любим ##ы ##и девушка , в котор \u001b[31m##ы\u001b[0m ##и молит \u001b[31m##ь\u001b[0m о прощение и называть себя безум ##ец . страница за \u001b[31mстраница\u001b[0m \u001b[31mисп\u001b[0m ##исы ##ват ##ь он слово страст \u001b[31m##ны\u001b[0m ##и раская ##ние и еще более страст ##ны ##и мука \u001b[31m.\u001b[0m в само ##би ##чева \u001b[31m##ние\u001b[0m быть свои род слад \u001b[31m##остр\u001b[0m ##асти ##е . и когда мы сам себя вин ##ить , мы чувствовать \u001b[31m,\u001b[0m что никто друго ##и не вправе \u001b[31mболее\u001b[0m вин ##ить мы . отпущен ##ие грех давать \u001b[31mмы\u001b[0m \u001b[31mне\u001b[0m священник \u001b[31m,\u001b[0m а сам исповед \u001b[31m##ь\u001b[0m . написать это письмо си ##бил \u001b[31m##ь\u001b[0m , дор \u001b[31m##иан\u001b[0m уже чувствовать себя \u001b[31mпростить\u001b[0m \u001b[31m.\u001b[0m неожиданно \u001b[31mпосту\u001b[0m ##чат ##ь в дверь , и он услышать голос \u001b[31mлорд\u001b[0m ген ##ри . - - дор ##иан , я необходимы ##и вы увидеть . впуст ##ите я се ##ичас же ! что это вы взд ##ума ##ть зап ##ираться ? дор ##иан \u001b[31mсначала\u001b[0m не отвечать и не трог ##аться с место . но стук повторить ##ся , еще гром ##ки ##и и наст ##ои ##чив ##ее . \u001b[31mон\u001b[0m решить , [SEP] \n",
      "\n",
      "<class 'allennlp.interpret.saliency_interpreters.simple_gradient.SimpleGradient'> TEXT:\n",
      "\u001b[31mобразу\u001b[0m ##ющая на полотно форма и краска \u001b[31m?\u001b[0m возможны ##и ли , что этот атом отражать на полотно \u001b[31mвесь\u001b[0m движение душа , делать она сон яв ##ь ? или тут крыт ##ься ино ##и , еще более страш ##ны ##и причина ? зад ##рож ##ав при этот мысль , дор ##иан ото ##ити и снова лечь на куш ##етка . отсюда он с ужас , не отрыва ##ться , смотреть на портрет . утеш ##ать он только сознание , что кое ##чи ##и портрет уже научить он . он помочь он понять , как несправедлив ##ы ##и , как жесток ##ии он быть к си ##бил ##ь в ##э ##ин . исправить это еще не поздно . \u001b[31mси\u001b[0m ##бил стать он жена . его эгоист ##ичная и , быть моч ##ь , надуман ##ны ##и любовь под ее влияние преобраз \u001b[31m##иться\u001b[0m \u001b[31mв\u001b[0m чувство \u001b[31mболее\u001b[0m благород ##ны ##и , и портрет , написать б ##эз ##ил , всегда быть указывать он путь в жизнь , руководить он , как один руководить добродетель , друго ##и - - совесть и \u001b[31mвесь\u001b[0m человек - - страх перед \u001b[31mбог\u001b[0m . в жизнь существовать наркотик \u001b[31mпротив\u001b[0m уг ##рыз ##ение совесть , средство , усып ##лять нрав ##ствен ##ны ##и чуть ##е . \u001b[31mно\u001b[0m здесь перед его глаз - - видим ##ы ##и символ разложение , нагляд ##ны ##и последств ##ие грех \u001b[31m.\u001b[0m и всегда быть перед он это доказательство , что человек способны ##и погуб ##ить собствен ##ны ##и душа . пробить три час , четыре . про ##ити еще полчаса , а дор ##иан не двигаться с место . он пытаться собрать воедино ал ##ы ##и нить жизнь , сот ##кат ##ь из они как ##ои - то узор , отыскать свои путь в баг ##ров ##ы ##и лабиринт \u001b[31mстрасть\u001b[0m , где он блужд ##ать . он не знать , что думать , что делать . \u001b[31mнаконец\u001b[0m он под ##ои ##ти к стол и стать писать пыл ##ки ##и письмо любим ##ы ##и девушка , в котор ##ы ##и молит ##ь о прощение и называть себя безум ##ец . \u001b[31mстраница\u001b[0m за страница исп ##исы ##ват ##ь он слово страст ##ны ##и раская ##ние и еще более страст ##ны ##и мука . \u001b[31mв\u001b[0m само ##би ##чева ##ние \u001b[31mбыть\u001b[0m \u001b[31mсвои\u001b[0m род слад ##остр \u001b[31m##асти\u001b[0m ##е . \u001b[31mи\u001b[0m когда мы сам себя вин ##ить , мы чувствовать , \u001b[31mчто\u001b[0m никто друго ##и \u001b[31mне\u001b[0m вправе \u001b[31mболее\u001b[0m вин ##ить мы . отпущен ##ие грех давать мы не священник \u001b[31m,\u001b[0m а сам \u001b[31mисповед\u001b[0m \u001b[31m##ь\u001b[0m . написать \u001b[31mэто\u001b[0m письмо си ##бил ##ь , дор ##иан уже чувствовать себя простить . \u001b[31mнеожиданно\u001b[0m посту ##чат ##ь в дверь \u001b[31m,\u001b[0m и он услышать голос \u001b[31mлорд\u001b[0m ген ##ри . - - дор ##иан , я необходимы ##и вы \u001b[31mувидеть\u001b[0m \u001b[31m.\u001b[0m впуст \u001b[31m##ите\u001b[0m я се \u001b[31m##ичас\u001b[0m \u001b[31mже\u001b[0m ! \u001b[31mчто\u001b[0m это вы взд ##ума ##ть зап ##ираться ? дор ##иан \u001b[31mсначала\u001b[0m не отвечать и не трог ##аться с место . \u001b[31mно\u001b[0m стук повторить \u001b[31m##ся\u001b[0m , еще гром \u001b[31m##ки\u001b[0m \u001b[31m##и\u001b[0m \u001b[31mи\u001b[0m наст \u001b[31m##ои\u001b[0m ##чив \u001b[31m##ее\u001b[0m \u001b[31m.\u001b[0m \u001b[31mон\u001b[0m \u001b[31mрешить\u001b[0m \u001b[31m,\u001b[0m \u001b[31m[SEP]\u001b[0m \n",
      "\n",
      "<class 'allennlp.interpret.saliency_interpreters.integrated_gradient.IntegratedGradient'> TEXT:\n",
      "\u001b[31mобразу\u001b[0m \u001b[31m##ющая\u001b[0m на полотно \u001b[31mформа\u001b[0m и краска ? возможны ##и ли , что этот атом \u001b[31mотражать\u001b[0m \u001b[31mна\u001b[0m полотно весь движение душа , делать она сон яв ##ь ? или тут крыт ##ься ино ##и , еще более страш ##ны ##и причина ? зад ##рож ##ав при этот мысль , дор ##иан ото ##ити и снова лечь на куш ##етка . отсюда он с ужас , не отрыва ##ться , смотреть на портрет \u001b[31m.\u001b[0m \u001b[31mутеш\u001b[0m \u001b[31m##ать\u001b[0m \u001b[31mон\u001b[0m только сознание , что кое ##чи ##и портрет \u001b[31mуже\u001b[0m научить \u001b[31mон\u001b[0m . \u001b[31mон\u001b[0m помочь \u001b[31mон\u001b[0m понять , как несправедлив \u001b[31m##ы\u001b[0m ##и , как жесток ##ии он быть к си ##бил ##ь в ##э ##ин . исправить это еще не поздно . си ##бил стать он жена . его \u001b[31mэгоист\u001b[0m \u001b[31m##ичная\u001b[0m и , быть моч ##ь , надуман \u001b[31m##ны\u001b[0m ##и любовь под ее влияние \u001b[31mпреобраз\u001b[0m ##иться в чувство более благород ##ны ##и , и портрет \u001b[31m,\u001b[0m написать б ##эз ##ил , всегда быть указывать он путь в жизнь , руководить он , как один руководить добродетель , \u001b[31mдруго\u001b[0m ##и - - совесть и весь человек - - \u001b[31mстрах\u001b[0m перед бог \u001b[31m.\u001b[0m \u001b[31mв\u001b[0m жизнь существовать \u001b[31mнаркотик\u001b[0m против уг ##рыз ##ение совесть \u001b[31m,\u001b[0m \u001b[31mсредство\u001b[0m \u001b[31m,\u001b[0m усып ##лять нрав ##ствен ##ны ##и чуть ##е \u001b[31m.\u001b[0m но \u001b[31mздесь\u001b[0m перед его глаз - - видим ##ы ##и символ разложение , нагляд ##ны ##и последств ##ие грех . и всегда быть перед он это доказательство , что человек способны ##и погуб ##ить собствен ##ны ##и душа . пробить \u001b[31mтри\u001b[0m час , четыре . про ##ити еще полчаса \u001b[31m,\u001b[0m а дор ##иан не двигаться с место . он пытаться собрать воедино ал ##ы ##и нить \u001b[31mжизнь\u001b[0m , сот ##кат ##ь из они как ##ои \u001b[31m-\u001b[0m то узор \u001b[31m,\u001b[0m отыскать свои путь \u001b[31mв\u001b[0m баг ##ров ##ы ##и лабиринт страсть , где он блужд ##ать . он не знать , что думать , что делать . наконец он под ##ои ##ти к стол и стать писать пыл ##ки ##и письмо любим ##ы ##и девушка , в котор ##ы ##и молит ##ь о прощение и называть себя безум ##ец . \u001b[31mстраница\u001b[0m за страница исп ##исы ##ват ##ь он слово страст ##ны ##и раская ##ние и еще более страст ##ны ##и мука . \u001b[31mв\u001b[0m само ##би ##чева ##ние \u001b[31mбыть\u001b[0m \u001b[31mсвои\u001b[0m род \u001b[31mслад\u001b[0m ##остр \u001b[31m##асти\u001b[0m ##е . и когда мы сам себя вин ##ить , мы чувствовать \u001b[31m,\u001b[0m что никто друго ##и не вправе более вин ##ить мы . отпущен ##ие грех \u001b[31mдавать\u001b[0m мы не священник , а сам исповед ##ь . написать это письмо си ##бил ##ь , дор ##иан уже чувствовать себя простить . неожиданно посту ##чат ##ь в дверь , и он услышать голос \u001b[31mлорд\u001b[0m ген ##ри . - - дор ##иан , я необходимы ##и вы увидеть . впуст ##ите я се ##ичас же ! что это вы взд ##ума ##ть зап ##ираться ? дор \u001b[31m##иан\u001b[0m сначала не отвечать и не трог ##аться с место . но стук \u001b[31mповторить\u001b[0m ##ся , еще гром ##ки ##и и наст ##ои ##чив ##ее . \u001b[31mон\u001b[0m решить \u001b[31m,\u001b[0m \u001b[31m[SEP]\u001b[0m \n",
      "\n"
     ]
    }
   ],
   "source": [
    "interpret_sentence(\n",
    "    sentences[mistake_ids[2]], dataset_reader.tokenizer, 50, \n",
    "    [smooth_grad, simple_grad, integrated_grad],\n",
    "    label_description[true_classes[mistake_ids[2]]],\n",
    "    label_description[predicted_classes[mistake_ids[2]]]\n",
    ")"
   ]
  },
  {
   "cell_type": "code",
   "execution_count": null,
   "metadata": {},
   "outputs": [],
   "source": []
  }
 ],
 "metadata": {
  "kernelspec": {
   "display_name": "Python 3",
   "language": "python",
   "name": "python3"
  },
  "language_info": {
   "codemirror_mode": {
    "name": "ipython",
    "version": 3
   },
   "file_extension": ".py",
   "mimetype": "text/x-python",
   "name": "python",
   "nbconvert_exporter": "python",
   "pygments_lexer": "ipython3",
   "version": "3.8.3"
  }
 },
 "nbformat": 4,
 "nbformat_minor": 4
}
