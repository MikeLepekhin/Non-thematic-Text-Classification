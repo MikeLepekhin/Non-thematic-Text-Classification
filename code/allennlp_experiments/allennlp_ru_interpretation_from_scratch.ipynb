{
 "cells": [
  {
   "cell_type": "code",
   "execution_count": 1,
   "metadata": {},
   "outputs": [],
   "source": [
    "from os.path import join as pathjoin\n",
    "from data_processing import *\n",
    "from interpretation import *\n",
    "from models import *\n",
    "from training import *"
   ]
  },
  {
   "cell_type": "code",
   "execution_count": 2,
   "metadata": {},
   "outputs": [],
   "source": [
    "DATA_DIR = '/home/mlepekhin/data'\n",
    "MODELS_DIR = '/home/mlepekhin/models' \n",
    "MODEL_ID = 'allennlp_rubert'\n",
    "#MODEL_ID = 'allennlp_rubert_base_cased_conversational'\n",
    "CHECKPOINTS_DIR = pathjoin(MODELS_DIR, MODEL_ID, 'checkpoints')\n",
    "BEST_MODEL = pathjoin(CHECKPOINTS_DIR, 'best.th')"
   ]
  },
  {
   "cell_type": "code",
   "execution_count": 3,
   "metadata": {},
   "outputs": [],
   "source": [
    "transformer_model = 'DeepPavlov/rubert-base-cased'\n",
    "#transformer_model = 'DeepPavlov/rubert-base-cased-conversational'\n",
    "MAX_TOKENS = 512"
   ]
  },
  {
   "cell_type": "markdown",
   "metadata": {},
   "source": [
    "### Loading of the pretrained model"
   ]
  },
  {
   "cell_type": "code",
   "execution_count": 4,
   "metadata": {},
   "outputs": [
    {
     "name": "stdout",
     "output_type": "stream",
     "text": [
      "Building the model\n"
     ]
    }
   ],
   "source": [
    "vocab = Vocabulary().from_files(pathjoin(MODELS_DIR, MODEL_ID, 'vocab'))\n",
    "model = build_transformer_model(vocab, transformer_model)"
   ]
  },
  {
   "cell_type": "code",
   "execution_count": 5,
   "metadata": {},
   "outputs": [
    {
     "name": "stdout",
     "output_type": "stream",
     "text": [
      "{0: 'A8', 1: 'A12', 2: 'A1', 3: 'A14', 4: 'A11', 5: 'A17', 6: 'A16', 7: 'A4', 8: 'A9', 9: 'A7'}\n",
      "dict_values(['A8', 'A12', 'A1', 'A14', 'A11', 'A17', 'A16', 'A4', 'A9', 'A7'])\n"
     ]
    }
   ],
   "source": [
    "id_to_label = vocab.get_index_to_token_vocabulary('labels')\n",
    "print(id_to_label)\n",
    "print(id_to_label.values())"
   ]
  },
  {
   "cell_type": "code",
   "execution_count": 6,
   "metadata": {},
   "outputs": [
    {
     "name": "stdout",
     "output_type": "stream",
     "text": [
      "0\n"
     ]
    },
    {
     "data": {
      "text/plain": [
       "<All keys matched successfully>"
      ]
     },
     "execution_count": 6,
     "metadata": {},
     "output_type": "execute_result"
    }
   ],
   "source": [
    "if torch.cuda.is_available():\n",
    "    cuda_device = 0\n",
    "else:\n",
    "    cuda_device = -1\n",
    "print(cuda_device)\n",
    "model.load_state_dict(torch.load(BEST_MODEL, map_location=f'cuda:{cuda_device}'))"
   ]
  },
  {
   "cell_type": "markdown",
   "metadata": {},
   "source": [
    "### Data loading"
   ]
  },
  {
   "cell_type": "code",
   "execution_count": 7,
   "metadata": {},
   "outputs": [
    {
     "data": {
      "text/html": [
       "<div>\n",
       "<style scoped>\n",
       "    .dataframe tbody tr th:only-of-type {\n",
       "        vertical-align: middle;\n",
       "    }\n",
       "\n",
       "    .dataframe tbody tr th {\n",
       "        vertical-align: top;\n",
       "    }\n",
       "\n",
       "    .dataframe thead th {\n",
       "        text-align: right;\n",
       "    }\n",
       "</style>\n",
       "<table border=\"1\" class=\"dataframe\">\n",
       "  <thead>\n",
       "    <tr style=\"text-align: right;\">\n",
       "      <th></th>\n",
       "      <th>Unnamed: 0</th>\n",
       "      <th>target</th>\n",
       "      <th>text</th>\n",
       "    </tr>\n",
       "  </thead>\n",
       "  <tbody>\n",
       "    <tr>\n",
       "      <th>0</th>\n",
       "      <td>726</td>\n",
       "      <td>A7</td>\n",
       "      <td>Глава 1 Приступая к работе 1.1 Знакомство с те...</td>\n",
       "    </tr>\n",
       "    <tr>\n",
       "      <th>1</th>\n",
       "      <td>1871</td>\n",
       "      <td>A17</td>\n",
       "      <td>Kawasaki D-Tracker С недавних пор Kawasaki d-t...</td>\n",
       "    </tr>\n",
       "    <tr>\n",
       "      <th>2</th>\n",
       "      <td>1265</td>\n",
       "      <td>A17</td>\n",
       "      <td>По моему , вполне достойные книги , может и не...</td>\n",
       "    </tr>\n",
       "    <tr>\n",
       "      <th>3</th>\n",
       "      <td>205</td>\n",
       "      <td>A11</td>\n",
       "      <td>Тест-драйв Lada Granta : новая надежда автогра...</td>\n",
       "    </tr>\n",
       "    <tr>\n",
       "      <th>4</th>\n",
       "      <td>141</td>\n",
       "      <td>A8</td>\n",
       "      <td>среда , 2 декабря 2009 года , 12.33 Бумага всё...</td>\n",
       "    </tr>\n",
       "  </tbody>\n",
       "</table>\n",
       "</div>"
      ],
      "text/plain": [
       "   Unnamed: 0 target                                               text\n",
       "0         726     A7  Глава 1 Приступая к работе 1.1 Знакомство с те...\n",
       "1        1871    A17  Kawasaki D-Tracker С недавних пор Kawasaki d-t...\n",
       "2        1265    A17  По моему , вполне достойные книги , может и не...\n",
       "3         205    A11  Тест-драйв Lada Granta : новая надежда автогра...\n",
       "4         141     A8  среда , 2 декабря 2009 года , 12.33 Бумага всё..."
      ]
     },
     "execution_count": 7,
     "metadata": {},
     "output_type": "execute_result"
    }
   ],
   "source": [
    "ru_test_df = pd.read_csv(pathjoin(DATA_DIR, 'ru_test'))\n",
    "ru_test_df.head()"
   ]
  },
  {
   "cell_type": "code",
   "execution_count": 8,
   "metadata": {},
   "outputs": [],
   "source": [
    "true_classes = ru_test_df.target.values\n",
    "sentences = ru_test_df.text.values"
   ]
  },
  {
   "cell_type": "markdown",
   "metadata": {},
   "source": [
    "### Preliminary analysis"
   ]
  },
  {
   "cell_type": "code",
   "execution_count": 9,
   "metadata": {},
   "outputs": [],
   "source": [
    "dataset_reader = build_transformer_dataset_reader(transformer_model, MAX_TOKENS)\n",
    "predictor = TextClassifierPredictor(model, dataset_reader=dataset_reader)\n",
    "predicted_classes = np.array(predict_classes(sentences, predictor, vocab))"
   ]
  },
  {
   "cell_type": "code",
   "execution_count": 10,
   "metadata": {},
   "outputs": [
    {
     "name": "stdout",
     "output_type": "stream",
     "text": [
      "<class 'numpy.ndarray'>\n"
     ]
    }
   ],
   "source": [
    "print(type(predicted_classes == 'A1'))"
   ]
  },
  {
   "cell_type": "code",
   "execution_count": 11,
   "metadata": {},
   "outputs": [
    {
     "name": "stdout",
     "output_type": "stream",
     "text": [
      "10\n"
     ]
    }
   ],
   "source": [
    "print(len(np.unique(true_classes)))"
   ]
  },
  {
   "cell_type": "code",
   "execution_count": 12,
   "metadata": {},
   "outputs": [
    {
     "name": "stdout",
     "output_type": "stream",
     "text": [
      "label (argum) f1_score 0.7080745341614907 precision 0.7402597402597403 recall 0.6785714285714286\n",
      "label (fictive) f1_score 0.7999999999999999 precision 0.8695652173913043 recall 0.7407407407407407\n",
      "label (instruct) f1_score 0.8275862068965517 precision 0.7058823529411765 recall 1.0\n",
      "label (reporting) f1_score 0.9483568075117371 precision 0.9805825242718447 recall 0.9181818181818182\n",
      "label (legal) f1_score 0.8148148148148148 precision 0.8461538461538461 recall 0.7857142857142857\n",
      "label (personal) f1_score 0.6516853932584269 precision 0.5918367346938775 recall 0.725\n",
      "label (commercial) f1_score 0.9467455621301775 precision 0.9411764705882353 recall 0.9523809523809523\n",
      "label (research) f1_score 0.8627450980392157 precision 0.8979591836734694 recall 0.8301886792452831\n",
      "label (info) f1_score 0.4680851063829786 precision 0.3333333333333333 recall 0.7857142857142857\n",
      "label (eval) f1_score 0.6582278481012658 precision 0.7647058823529411 recall 0.5777777777777777\n",
      "accuracy 0.8095238095238095\n"
     ]
    }
   ],
   "source": [
    "calc_classifier_metrics(predicted_classes, true_classes)"
   ]
  },
  {
   "cell_type": "code",
   "execution_count": 13,
   "metadata": {},
   "outputs": [
    {
     "data": {
      "image/png": "[encoded data removed]",
      "text/plain": [
       "<Figure size 1080x1080 with 2 Axes>"
      ]
     },
     "metadata": {
      "needs_background": "light"
     },
     "output_type": "display_data"
    }
   ],
   "source": [
    "plot_confusion_matrix(predicted_classes, true_classes)"
   ]
  },
  {
   "cell_type": "markdown",
   "metadata": {},
   "source": [
    "### Saliency Gradient Interpretation"
   ]
  },
  {
   "cell_type": "code",
   "execution_count": 14,
   "metadata": {},
   "outputs": [],
   "source": [
    "smooth_grad = SmoothGradient(predictor)\n",
    "simple_grad = SimpleGradient(predictor)\n",
    "integrated_grad = IntegratedGradient(predictor)"
   ]
  },
  {
   "cell_type": "code",
   "execution_count": 15,
   "metadata": {},
   "outputs": [],
   "source": [
    "mistake_ids = []\n",
    "\n",
    "for sent_id in range(len(true_classes)):\n",
    "    if true_classes[sent_id] != predicted_classes[sent_id]:\n",
    "        mistake_ids.append(sent_id)"
   ]
  },
  {
   "cell_type": "code",
   "execution_count": 16,
   "metadata": {},
   "outputs": [
    {
     "name": "stdout",
     "output_type": "stream",
     "text": [
      "TRUE LABEL: personal\n",
      "LABEL: eval\n",
      "<class 'allennlp.interpret.saliency_interpreters.smooth_gradient.SmoothGradient'> TEXT:\n",
      "тест - дра ##ив la \u001b[31m##da\u001b[0m gran \u001b[31m##ta\u001b[0m : новая надежда авто ##града фактически , новая la ##da gran \u001b[31m##ta\u001b[0m - это \u001b[31mстарая\u001b[0m \u001b[31mla\u001b[0m ##da ka \u001b[31m##lin\u001b[0m ##a плюс 400 новых дет ##але ##и . но назвать грант \u001b[31m##у\u001b[0m всего лишь рест ##аи ##лингом калин ##ы язык не поверн ##ется . автомобиль деи ##ств ##ительно изменился и на самом деле стал лучше \u001b[31mпрежних\u001b[0m продуктов автов ##аза . но поч ##ивать на лав ##рах тольят ##тин ##цам еще рано . ko ##les ##a . \u001b[31mr\u001b[0m u выяснили , \u001b[31mпочему\u001b[0m \u001b[31m.\u001b[0m сюрприз ##ы поджид \u001b[31m##али\u001b[0m еще до проб ##но ##и поездки \u001b[31mна\u001b[0m la ##da gran \u001b[31m##ta\u001b[0m . провод \u001b[31m##ив\u001b[0m меня \u001b[31mк\u001b[0m машине , сотрудник автос ##алона объяснил мне \u001b[31mкак\u001b[0m пользоваться бр ##ел ##ком дополнительно ##и сигнализации : \" если нажать \u001b[31mна\u001b[0m эту кнопку и немного подерж ##ать , двигатель завед ##ется ! \" нажим ##ает . держит . не заводит ##ся . \" наверное это из - за вашего коллеги , котор ##ы ##и открыл заднюю дверь , пока я жал на кнопку \" . дверь \u001b[31mзакрыли\u001b[0m , еще \u001b[31mпару\u001b[0m раз поставили - сняли с охраны . снова не заводит ##ся . \u001b[31m\"\u001b[0m ы специально \u001b[31mдля\u001b[0m вас машину \u001b[31mвчера\u001b[0m пом ##ыли , а ночью мороз \u001b[31mударил\u001b[0m ; \u001b[31mнаверное\u001b[0m \u001b[31mзамерз\u001b[0m ##ла \u001b[31m\"\u001b[0m . \u001b[31mменеджер\u001b[0m \u001b[31mбыл\u001b[0m явно \u001b[31mвстревож\u001b[0m ##ен , но держался \u001b[31mмолод\u001b[0m ##цом , и я на самом деле поверил \u001b[31mего\u001b[0m удивлению неожиданно ##и наклад ##ке . на трети ##и раз gran ##ta завела ##сь ! для убедительно ##сти заглуш ##или мотор и повторили процедуру : двигатель \u001b[31mново\u001b[0m ##и лад ##а без проблем запустил ##ся одним наж ##атием кнопки . впрочем , даже если бы трюк с бр ##елок ##ом не удался , претензии были бы не к автов ##азу , а к установ ##щикам доп ##оборуд ##ования , ведь сигнализация с дистанц ##ионным запуском идет как опция , причем не завод ##ская . я забрал ключи и попробовал \u001b[31mустроиться\u001b[0m за рулем gran ##ta . автомобиль цвета \" порт ##ве ##ин \" был в комплектации норма за 260 000 рубл ##еи . поэтому в машине было все , чем на дан ##ны ##и момент ( максимальная комплекта ##ция люкс вы ##идет летом \u001b[31m2012\u001b[0m года ) богата лад ##а гранта . например , кожан \u001b[31m##ы\u001b[0m ##и салон , фирмен ##ны ##и сенс ##орн ##ы ##и дисп ##леи с навиг ##аци ##еи , люк на всю крышу . . . шу ##чу , конечно . если серьезно , то салон может порад \u001b[31m##овать\u001b[0m мягким , но не очень \u001b[31mудобным\u001b[0m \u001b[31mкресло\u001b[0m ##м , регулируем ##ым только по углу наклона спин ##ки и в продольно \u001b[31m##м\u001b[0m направлении . был \u001b[31mдаже\u001b[0m бортов ##ои компьютер , почему - то утвержд ##авш \u001b[31m##ии\u001b[0m , что сред ##нии расход топлива 16 литров \u001b[31m.\u001b[0m дополнительная \u001b[31mмагнито\u001b[0m ##ла избав \u001b[31m##ила\u001b[0m от необходимости видеть пуст ##ую полку в центрально ##и консоли \u001b[31m.\u001b[0m выж ##ал сцепление и прид ##вину ##лся на оптим \u001b[31m##альное\u001b[0m расстояние \" по ногам \u001b[31m\"\u001b[0m , после чего понял \u001b[31m,\u001b[0m что к рул ##ю придется тянут ##ься . регулиров ##ка руля есть только по высоте , поэтому пришлось \u001b[31mпод\u001b[0m ##од ##вига ##ть \n",
      "\n",
      "<class 'allennlp.interpret.saliency_interpreters.simple_gradient.SimpleGradient'> TEXT:\n",
      "\u001b[31mтест\u001b[0m - дра ##ив la ##da gran ##ta : новая надежда авто \u001b[31m##града\u001b[0m \u001b[31mфактически\u001b[0m , новая \u001b[31mla\u001b[0m \u001b[31m##da\u001b[0m gran ##ta - \u001b[31mэто\u001b[0m \u001b[31mстарая\u001b[0m \u001b[31mla\u001b[0m \u001b[31m##da\u001b[0m \u001b[31mka\u001b[0m \u001b[31m##lin\u001b[0m ##a плюс 400 новых дет ##але ##и . но назвать грант ##у всего лишь рест ##аи ##лингом калин ##ы язык не поверн ##ется . автомобиль деи ##ств ##ительно изменился и на самом деле стал лучше прежних продуктов автов ##аза . но \u001b[31mпоч\u001b[0m ##ивать на лав ##рах тольят ##тин ##цам еще рано . ko ##les ##a . \u001b[31mr\u001b[0m \u001b[31mu\u001b[0m выяснили , почему \u001b[31m.\u001b[0m сюрприз ##ы поджид \u001b[31m##али\u001b[0m еще до проб ##но ##и поездки на la ##da gran ##ta . провод ##ив меня \u001b[31mк\u001b[0m машине , сотрудник автос ##алона \u001b[31mобъяснил\u001b[0m \u001b[31mмне\u001b[0m как пользоваться бр ##ел ##ком дополнительно ##и сигнализации : \u001b[31m\"\u001b[0m если нажать на эту кнопку и немного подерж ##ать , двигатель завед ##ется ! \" нажим ##ает . держит . не заводит ##ся . \" наверное это из - за вашего коллеги , котор ##ы ##и открыл заднюю дверь , пока я жал на кнопку \" . дверь закрыли , еще пару \u001b[31mраз\u001b[0m поставили - сняли с охраны . снова не \u001b[31mзаводит\u001b[0m ##ся . \" ы специально для вас \u001b[31mмашину\u001b[0m вчера пом ##ыли , а ночью мороз ударил ; \u001b[31mнаверное\u001b[0m \u001b[31mзамерз\u001b[0m ##ла \" \u001b[31m.\u001b[0m \u001b[31mменеджер\u001b[0m \u001b[31mбыл\u001b[0m явно встревож \u001b[31m##ен\u001b[0m , но \u001b[31mдержался\u001b[0m \u001b[31mмолод\u001b[0m \u001b[31m##цом\u001b[0m , и я на самом деле поверил его удивлению неожиданно ##и наклад ##ке . на трети ##и раз gran \u001b[31m##ta\u001b[0m завела ##сь ! для убедительно ##сти заглуш ##или мотор и повторили процедуру : двигатель ново ##и лад ##а без проблем запустил ##ся одним наж ##атием кнопки . впрочем , даже если бы трюк с бр ##елок ##ом не удался , претензии были бы не к автов ##азу , а к установ ##щикам доп ##оборуд ##ования , ведь сигнализация с дистанц ##ионным запуском идет как опция , причем не завод ##ская . я забрал ключи и попробовал устроиться за рулем gran ##ta . автомобиль цвета \" порт ##ве ##ин \" был в комплектации норма за 260 000 рубл ##еи . поэтому в машине было все , чем на дан ##ны ##и момент ( максимальная комплекта ##ция люкс вы ##идет летом 2012 года ) богата лад ##а гранта . например , кожан ##ы ##и салон , фирмен ##ны ##и сенс \u001b[31m##орн\u001b[0m ##ы ##и дисп ##леи с навиг ##аци ##еи , люк на всю крышу . . . шу ##чу \u001b[31m,\u001b[0m конечно . если серьезно , то салон может \u001b[31mпорад\u001b[0m ##овать \u001b[31mмягким\u001b[0m , но не очень удобным кресло \u001b[31m##м\u001b[0m , регулируем \u001b[31m##ым\u001b[0m только по углу наклона спин ##ки и в продольно ##м направлении . был даже бортов ##ои компьютер , почему - то утвержд \u001b[31m##авш\u001b[0m \u001b[31m##ии\u001b[0m , что сред ##нии расход топлива \u001b[31m16\u001b[0m литров . \u001b[31mдополнительная\u001b[0m \u001b[31mмагнито\u001b[0m \u001b[31m##ла\u001b[0m избав \u001b[31m##ила\u001b[0m от необходимости видеть пуст \u001b[31m##ую\u001b[0m полку в центрально ##и консоли \u001b[31m.\u001b[0m выж ##ал сцепление и прид ##вину ##лся на оптим ##альное расстояние \" по ногам \" , после чего понял \u001b[31m,\u001b[0m что к рул ##ю придется тянут ##ься . регулиров ##ка руля есть только по высоте , поэтому пришлось под ##од ##вига ##ть \n",
      "\n",
      "<class 'allennlp.interpret.saliency_interpreters.integrated_gradient.IntegratedGradient'> TEXT:\n",
      "\u001b[31mтест\u001b[0m - дра ##ив la ##da gran ##ta : новая надежда авто \u001b[31m##града\u001b[0m фактически , новая la \u001b[31m##da\u001b[0m gran ##ta - это \u001b[31mстарая\u001b[0m la ##da ka ##lin ##a плюс 400 новых дет ##але ##и . но назвать грант ##у всего \u001b[31mлишь\u001b[0m \u001b[31mрест\u001b[0m ##аи ##лингом калин ##ы язык не поверн ##ется . автомобиль деи ##ств ##ительно изменился и на самом деле \u001b[31mстал\u001b[0m \u001b[31mлучше\u001b[0m \u001b[31mпрежних\u001b[0m продуктов автов ##аза . \u001b[31mно\u001b[0m \u001b[31mпоч\u001b[0m ##ивать на лав ##рах тольят ##тин ##цам еще \u001b[31mрано\u001b[0m . ko ##les ##a . r u выяснили , почему \u001b[31m.\u001b[0m сюрприз ##ы \u001b[31mподжид\u001b[0m ##али еще до проб ##но ##и поездки на la ##da gran ##ta . провод ##ив меня к машине , сотрудник автос ##алона объяснил мне как пользоваться бр ##ел ##ком дополнительно ##и сигнализации : \" если нажать на эту кнопку и немного подерж ##ать , \u001b[31mдвигатель\u001b[0m завед ##ется ! \" нажим ##ает . держит . не заводит ##ся . \" наверное это из - за вашего коллеги , котор ##ы ##и открыл заднюю дверь , \u001b[31mпока\u001b[0m я жал на кнопку \" \u001b[31m.\u001b[0m дверь \u001b[31mзакрыли\u001b[0m \u001b[31m,\u001b[0m \u001b[31mеще\u001b[0m пару раз поставили - сняли \u001b[31mс\u001b[0m охраны \u001b[31m.\u001b[0m \u001b[31mснова\u001b[0m не заводит \u001b[31m##ся\u001b[0m \u001b[31m.\u001b[0m \u001b[31m\"\u001b[0m \u001b[31mы\u001b[0m специально для вас \u001b[31mмашину\u001b[0m вчера пом ##ыли , \u001b[31mа\u001b[0m ночью мороз ударил ; наверное замерз ##ла \" . \u001b[31mменеджер\u001b[0m \u001b[31mбыл\u001b[0m явно встревож ##ен , но держался молод ##цом , и я на самом деле поверил его удивлению неожиданно ##и наклад ##ке . на трети ##и раз gran ##ta завела ##сь ! для убедительно ##сти заглуш ##или мотор и повторили процедуру : двигатель ново ##и лад ##а без проблем запустил ##ся одним наж ##атием кнопки . впрочем , даже если бы трюк с бр ##елок ##ом не удался , претензии были бы не к автов ##азу , а к установ ##щикам доп ##оборуд ##ования , ведь сигнализация с дистанц ##ионным запуском идет как опция , причем не завод ##ская . я забрал ключи и попробовал устроиться за рулем gran ##ta . автомобиль цвета \" порт ##ве ##ин \" был в комплектации \u001b[31mнорма\u001b[0m за 260 000 рубл ##еи . поэтому в машине было все , чем на дан ##ны ##и момент ( максимальная комплекта ##ция люкс вы ##идет летом 2012 \u001b[31mгода\u001b[0m ) богата лад ##а гранта . например , кожан \u001b[31m##ы\u001b[0m ##и салон , фирмен ##ны ##и \u001b[31mсенс\u001b[0m ##орн ##ы ##и дисп ##леи с навиг ##аци ##еи , люк на всю крышу . . . шу ##чу , конечно \u001b[31m.\u001b[0m \u001b[31mесли\u001b[0m серьезно \u001b[31m,\u001b[0m то салон может \u001b[31mпорад\u001b[0m ##овать мягким \u001b[31m,\u001b[0m \u001b[31mно\u001b[0m не \u001b[31mочень\u001b[0m \u001b[31mудобным\u001b[0m кресло ##м , регулируем ##ым только \u001b[31mпо\u001b[0m \u001b[31mуглу\u001b[0m наклона спин ##ки и в продольно ##м направлении . был даже бортов ##ои компьютер , почему - то утвержд ##авш ##ии , что сред ##нии расход топлива 16 литров . дополнительная магнито ##ла избав ##ила от необходимости видеть пуст ##ую полку в центрально ##и консоли . выж ##ал сцепление и прид ##вину ##лся на оптим ##альное расстояние \" по ногам \" , после чего понял , что к рул ##ю придется тянут ##ься . регулиров ##ка руля есть \u001b[31mтолько\u001b[0m по высоте \u001b[31m,\u001b[0m поэтому \u001b[31mпришлось\u001b[0m \u001b[31mпод\u001b[0m ##од ##вига ##ть \n",
      "\n"
     ]
    }
   ],
   "source": [
    "interpret_sentence(\n",
    "    sentences[mistake_ids[0]], dataset_reader.tokenizer, 50, \n",
    "    [smooth_grad, simple_grad, integrated_grad],\n",
    "    label_description[true_classes[mistake_ids[0]]],\n",
    "    label_description[predicted_classes[mistake_ids[0]]]\n",
    ")"
   ]
  },
  {
   "cell_type": "code",
   "execution_count": 17,
   "metadata": {},
   "outputs": [
    {
     "name": "stdout",
     "output_type": "stream",
     "text": [
      "TRUE LABEL: personal\n",
      "LABEL: eval\n",
      "<class 'allennlp.interpret.saliency_interpreters.smooth_gradient.SmoothGradient'> TEXT:\n",
      "я хотел бы рассказать немного о том , что мне \u001b[31mнравится\u001b[0m \u001b[31mписать\u001b[0m . я люблю погруж ##аться в тему , о котор ##ои пишу \u001b[31m.\u001b[0m мне нравится окун ##уться в тему с голово ##и и почувствовать себя таким подоп ##ыт ##ным кролик ##ом . я рассматрив ##аю свою жизнь как ряд экспериментов . ит ##ак , я работа ##ю в журнале es ##quir \u001b[31m##e\u001b[0m , и пару лет назад я написал статью под названием \" аутсор ##синг в мое ##и жизни \" ; я нанял группу \u001b[31mлюд\u001b[0m ##еи в банг ##ало ##ре , инди \u001b[31m##я\u001b[0m , чтобы они прожили \u001b[31mмою\u001b[0m жизнь за меня . и они просматр ##ивали за меня мою электронную \u001b[31mпочту\u001b[0m и отвечали на письма . они отвечали на мои телефонные звонки . они спор \u001b[31m##или\u001b[0m вместо меня с мое ##и жен ##ои и читали моему сыну сказки \u001b[31mна\u001b[0m ночь . это был луч ##ши ##и месяц мое ##и жизни , потому что я просто сидел , читал книги и смотрел фильмы . это был чудес ##ны ##и опыт \u001b[31m.\u001b[0m позже , я написал для es ##quir \u001b[31m##e\u001b[0m статью \u001b[31m-\u001b[0m - о \u001b[31mрадикально\u001b[0m ##и честности \u001b[31m.\u001b[0m это движение \u001b[31m,\u001b[0m было начато \u001b[31mпсихологом\u001b[0m из вир \u001b[31m##джин\u001b[0m ##ии , котор ##ы ##и утверждал \u001b[31m,\u001b[0m что никогда , ни при каких обстоятельствах не следует л ##гать , разве \u001b[31mчто\u001b[0m во время игры в покер \u001b[31mи\u001b[0m гольф - только это исключение он сделал . и , более того , вообще все то , что у тебя на уме , должно быть и на языке . я решил не л ##гать в течение месяца . это был худ ##ши ##и месяц мое ##и жизни . ( смех ) я никому не совету ##ю это повторять . чтобы вы поняли , что это за жизнь , скажу , что статья \u001b[31mназывалась\u001b[0m \" по - моему , ты толстая \" . ( смех ) это было тяжело . моя последняя \u001b[31mкнига\u001b[0m \u001b[31m—\u001b[0m до нее была книга \u001b[31mпод\u001b[0m названием \" хочу все знать \" , она о год ##е , котор ##ы ##и я провел , читая британскую \u001b[31mэнциклопедию\u001b[0m \u001b[31mот\u001b[0m a до z \u001b[31m,\u001b[0m чтобы узнать все обо всем во всем мире , или , если быть точнее , от a - ak , вида восточно \u001b[31m##азиат\u001b[0m \u001b[31m##ско\u001b[0m ##и музыки \u001b[31m,\u001b[0m и до z ##w ##yi ##ec \u001b[31m—\u001b[0m не скажу что это , не буду порт ##ить сюрприз \u001b[31m.\u001b[0m \u001b[31m(\u001b[0m \u001b[31mсмех\u001b[0m ) там очень увлек ##ательная \u001b[31mвит\u001b[0m ##иева \u001b[31m##тая\u001b[0m концовка \u001b[31m,\u001b[0m прямо как в \u001b[31mпроизведениях\u001b[0m \u001b[31mо\u001b[0m ' ген ##ри , и поэтому не хочется \u001b[31mее\u001b[0m порт ##ить . но мне \u001b[31mэтот\u001b[0m \u001b[31mэксперимент\u001b[0m \u001b[31mпонравился\u001b[0m \u001b[31m,\u001b[0m потому что он \u001b[31mпоказывал\u001b[0m , как много информации может воб ##рать в себя один человеческ \u001b[31m##ии\u001b[0m мозг \u001b[31m,\u001b[0m несмотря на то , что к ##еви ##н кел ##ли рекомендует нам ничего не запомина ##ть вообще . вы можете просто \" прог ##угли ##ть \" этот вопрос . поэтому я потратил немного времени на это . мне нравятся эти эксперименты , но я считаю самым важным и даже поворотным в жизни мои сам ##ы ##и послед \u001b[31m##нии\u001b[0m эксперимент , во время которого я \n",
      "\n",
      "<class 'allennlp.interpret.saliency_interpreters.simple_gradient.SimpleGradient'> TEXT:\n",
      "\u001b[31mя\u001b[0m хотел бы рассказать немного о том , что мне нравится \u001b[31mписать\u001b[0m . я люблю погруж ##аться в тему , о котор ##ои пишу . мне нравится \u001b[31mокун\u001b[0m ##уться в тему с голово ##и и почувствовать себя таким подоп ##ыт ##ным кролик ##ом . я рассматрив ##аю свою жизнь как ряд экспериментов . ит ##ак , я работа ##ю в журнале es \u001b[31m##quir\u001b[0m \u001b[31m##e\u001b[0m , и пару лет назад я написал статью под названием \" аутсор ##синг в мое ##и жизни \" ; я нанял группу люд ##еи в банг ##ало ##ре , инди ##я , чтобы они прожили мою \u001b[31mжизнь\u001b[0m за меня . \u001b[31mи\u001b[0m они просматр ##ивали за меня мою электронную \u001b[31mпочту\u001b[0m и отвечали на письма . \u001b[31mони\u001b[0m отвечали на мои телефонные звонки \u001b[31m.\u001b[0m они спор ##или вместо меня с мое ##и жен ##ои и читали моему сыну сказки на ночь . это был луч ##ши ##и месяц мое ##и жизни , потому что я просто сидел , читал книги и смотрел фильмы \u001b[31m.\u001b[0m это был чудес ##ны ##и опыт . позже \u001b[31m,\u001b[0m я написал \u001b[31mдля\u001b[0m es \u001b[31m##quir\u001b[0m \u001b[31m##e\u001b[0m статью - - о радикально ##и честности . \u001b[31mэто\u001b[0m \u001b[31mдвижение\u001b[0m , было начато психологом из вир ##джин ##ии , \u001b[31mкотор\u001b[0m \u001b[31m##ы\u001b[0m ##и утверждал , \u001b[31mчто\u001b[0m никогда , \u001b[31mни\u001b[0m при каких обстоятельствах не следует л ##гать , разве \u001b[31mчто\u001b[0m во время игры в покер и гольф - только это исключение он сделал . и , более того , вообще все то , что у тебя на уме , должно быть и на языке . я решил не л ##гать в течение месяца . это был худ ##ши ##и месяц мое ##и жизни . ( смех ) \u001b[31mя\u001b[0m никому не совету ##ю это повторять . чтобы вы поняли , что это за жизнь , скажу , что статья называлась \" по - моему , ты толстая \" . ( смех ) это было тяжело . моя последняя \u001b[31mкнига\u001b[0m — \u001b[31mдо\u001b[0m нее была книга под названием \" хочу все знать \" , она о год ##е , котор ##ы ##и я провел , читая британскую энциклопедию от a до z , чтобы узнать все обо всем во всем мире , или , если быть точнее , от a \u001b[31m-\u001b[0m ak , вида восточно ##азиат \u001b[31m##ско\u001b[0m ##и музыки , и до z ##w ##yi ##ec \u001b[31m—\u001b[0m не скажу что это , не буду порт ##ить сюрприз . \u001b[31m(\u001b[0m смех ) там очень \u001b[31mувлек\u001b[0m \u001b[31m##ательная\u001b[0m вит ##иева \u001b[31m##тая\u001b[0m концовка \u001b[31m,\u001b[0m прямо \u001b[31mкак\u001b[0m в \u001b[31mпроизведениях\u001b[0m \u001b[31mо\u001b[0m \u001b[31m'\u001b[0m ген \u001b[31m##ри\u001b[0m , и поэтому не хочется ее порт \u001b[31m##ить\u001b[0m . но \u001b[31mмне\u001b[0m \u001b[31mэтот\u001b[0m \u001b[31mэксперимент\u001b[0m \u001b[31mпонравился\u001b[0m \u001b[31m,\u001b[0m \u001b[31mпотому\u001b[0m что он \u001b[31mпоказывал\u001b[0m , как много информации может воб ##рать в себя один человеческ ##ии мозг , несмотря на то , что \u001b[31mк\u001b[0m ##еви ##н кел ##ли рекомендует \u001b[31mнам\u001b[0m ничего не запомина ##ть вообще . вы можете просто \" прог ##угли ##ть \" этот вопрос . поэтому я потратил немного времени на это . мне нравятся \u001b[31mэти\u001b[0m эксперименты , но я считаю самым важным и даже поворотным в жизни мои сам ##ы ##и послед ##нии эксперимент , во время которого я \n",
      "\n",
      "<class 'allennlp.interpret.saliency_interpreters.integrated_gradient.IntegratedGradient'> TEXT:\n",
      "\u001b[31mя\u001b[0m хотел бы рассказать немного \u001b[31mо\u001b[0m том , что мне нравится \u001b[31mписать\u001b[0m . я люблю погруж ##аться в тему , о котор ##ои пишу . мне нравится \u001b[31mокун\u001b[0m ##уться в тему с голово ##и и почувствовать себя таким подоп ##ыт ##ным кролик ##ом . я рассматрив ##аю свою жизнь как ряд экспериментов . ит ##ак , я работа \u001b[31m##ю\u001b[0m в журнале \u001b[31mes\u001b[0m ##quir ##e , и пару \u001b[31mлет\u001b[0m назад я написал статью под названием \" аутсор ##синг в мое ##и жизни \" ; я нанял \u001b[31mгруппу\u001b[0m люд ##еи в банг ##ало ##ре , инди ##я , чтобы они прожили мою жизнь за меня . и они просматр \u001b[31m##ивали\u001b[0m за меня мою электронную \u001b[31mпочту\u001b[0m и отвечали на письма . \u001b[31mони\u001b[0m отвечали на мои телефонные звонки . \u001b[31mони\u001b[0m спор ##или вместо меня с мое ##и жен ##ои \u001b[31mи\u001b[0m читали \u001b[31mмоему\u001b[0m сыну сказки на ночь . это \u001b[31mбыл\u001b[0m луч ##ши ##и месяц мое ##и жизни , потому что я просто сидел , читал книги и смотрел фильмы \u001b[31m.\u001b[0m это был чудес ##ны ##и опыт . \u001b[31mпозже\u001b[0m , я \u001b[31mнаписал\u001b[0m для es \u001b[31m##quir\u001b[0m \u001b[31m##e\u001b[0m \u001b[31mстатью\u001b[0m - \u001b[31m-\u001b[0m о \u001b[31mрадикально\u001b[0m \u001b[31m##и\u001b[0m \u001b[31mчестности\u001b[0m . это \u001b[31mдвижение\u001b[0m \u001b[31m,\u001b[0m было начато психологом из вир ##джин ##ии , котор \u001b[31m##ы\u001b[0m ##и утверждал , что никогда , ни при каких обстоятельствах не следует л ##гать , разве что во время игры \u001b[31mв\u001b[0m покер \u001b[31mи\u001b[0m гольф - только это исключение он сделал . и , более того , вообще все то , что у тебя на уме , должно быть и на языке . я решил не л ##гать в течение месяца . это был худ ##ши ##и месяц мое ##и жизни . \u001b[31m(\u001b[0m смех ) я никому не совету ##ю это повторять . чтобы вы поняли , что это за жизнь , скажу , что статья называлась \" по - моему , ты толстая \" . ( смех ) это было тяжело . моя последняя книга — до нее была книга под названием \" хочу все знать \" , она о год ##е , котор ##ы ##и я провел , читая британскую энциклопедию от a до z , чтобы узнать все обо всем во всем мире , или , \u001b[31mесли\u001b[0m быть точнее , от a - ak , вида \u001b[31mвосточно\u001b[0m \u001b[31m##азиат\u001b[0m \u001b[31m##ско\u001b[0m ##и музыки \u001b[31m,\u001b[0m \u001b[31mи\u001b[0m до \u001b[31mz\u001b[0m ##w ##yi ##ec — не скажу что это , не буду порт ##ить сюрприз . ( смех \u001b[31m)\u001b[0m там очень \u001b[31mувлек\u001b[0m ##ательная вит ##иева ##тая \u001b[31mконцовка\u001b[0m , прямо как в произведениях \u001b[31mо\u001b[0m ' \u001b[31mген\u001b[0m ##ри , и поэтому не хочется ее порт ##ить \u001b[31m.\u001b[0m но мне этот эксперимент \u001b[31mпонравился\u001b[0m \u001b[31m,\u001b[0m потому что он показывал , как много информации может воб ##рать в себя один человеческ ##ии мозг , несмотря на то , что \u001b[31mк\u001b[0m ##еви ##н кел ##ли рекомендует нам ничего не запомина ##ть вообще . вы можете \u001b[31mпросто\u001b[0m \" прог ##угли ##ть \" этот вопрос . поэтому я потратил немного времени на это . мне нравятся \u001b[31mэти\u001b[0m эксперименты , но я считаю самым важным и даже поворотным в жизни мои сам ##ы ##и послед ##нии эксперимент , во время которого я \n",
      "\n"
     ]
    }
   ],
   "source": [
    "interpret_sentence(\n",
    "    sentences[mistake_ids[1]], dataset_reader.tokenizer, 50, \n",
    "    [smooth_grad, simple_grad, integrated_grad],\n",
    "    label_description[true_classes[mistake_ids[1]]],\n",
    "    label_description[predicted_classes[mistake_ids[1]]]\n",
    ")"
   ]
  },
  {
   "cell_type": "code",
   "execution_count": 18,
   "metadata": {},
   "outputs": [
    {
     "name": "stdout",
     "output_type": "stream",
     "text": [
      "TRUE LABEL: research\n",
      "LABEL: argum\n",
      "<class 'allennlp.interpret.saliency_interpreters.smooth_gradient.SmoothGradient'> TEXT:\n",
      "когда мы смотри ##м новости \u001b[31m,\u001b[0m мы видим сообщения из ирак \u001b[31m##а\u001b[0m , афган ##истана \u001b[31m,\u001b[0m с ##ьерра - ле ##оне , и кажется \u001b[31m,\u001b[0m что эти конфликты невозможно понять . именно так я и думал , когда начинал этот проект . но я физик \u001b[31m,\u001b[0m и поэтому решил на ##ити данные и попробовать разобраться . просто попробовать . ну и как на ##ив ##ны ##и новозеланд ##ец я подумал , что по ##иду в пента \u001b[31m##гон\u001b[0m . не могли бы вы поделиться со мн ##ои информ ##аци ##еи ? ( смех ) нет . поэтому пришлось задуматься пос ##ерьез ##нее . и вот однажды вечером в оксфорд ##е я смотрел новости . и обратил \u001b[31mвнимание\u001b[0m на экран под говоря ##щи ##ми головами \u001b[31m.\u001b[0m и обнаружил там информацию . там были данные , в ль ##ющихся на нас потока ##х новост \u001b[31m##еи\u001b[0m . весь шум вокруг нас деи ##ств ##ительно содержит информацию . и мне \u001b[31mпришла\u001b[0m в голову мысль организовать \u001b[31mнечто\u001b[0m вроде разведки по открытым источникам . \u001b[31mесли\u001b[0m ском ##бин ##ировать данные изо всех этих потоков , возможно , мы сможем понять воин \u001b[31m##у\u001b[0m . именно так я и поступил . мы начали собирать команду , междисциплин \u001b[31m##арную\u001b[0m \u001b[31mкоманду\u001b[0m \u001b[31mученых\u001b[0m \u001b[31m,\u001b[0m экономистов \u001b[31m,\u001b[0m \u001b[31mматематиков\u001b[0m . мы собрали этих ребят \u001b[31m,\u001b[0m и начали работу над проблем ##ои . в работе было три этапа . перв ##ы ##и — собрать данные . мы обработал ##и 130 источников информации : от отчетов ng ##o до газет и теленов \u001b[31m##ост\u001b[0m ##еи . мы собрали эти данные и от ##филь ##тр ##овали их . достал ##и из них важные для наше ##и базы данных кусочки \u001b[31m.\u001b[0m в это ##и базе было время атак , координаты , масштаб и тип использован ##ного оружия \u001b[31m.\u001b[0m все это есть в ежедневных новостях , нужно просто уметь \u001b[31mизвлекать\u001b[0m это . ну а когда мы накоп ##или базу , мы занялись класс ##ными штук ##ами . что если изучить распределение масштабов атак ? что мы там обнаруж ##им ? этим мы и занялись . тут вы можете видеть , что по горизонтально ##и оси отложено количество жертв атаки — масштаб атаки . а по вертикально \u001b[31m##и\u001b[0m оси \u001b[31m—\u001b[0m количество атак . мы построили график масштабов атак . вы видит ##е как будто бы случаи ##ное распределение : например , в 67 атаках было убито по одному человеку , а в 47 — по семеро . вот так ##ои \u001b[31mграфик\u001b[0m \u001b[31mмы\u001b[0m \u001b[31mпостроили\u001b[0m \u001b[31mдля\u001b[0m ирак \u001b[31m##а\u001b[0m \u001b[31m.\u001b[0m тогда \u001b[31mмы\u001b[0m еще не знали , что мы обнаруж \u001b[31m##им\u001b[0m . \u001b[31mнаша\u001b[0m находка \u001b[31mочень\u001b[0m впечатл ##яет . казалось \u001b[31mбы\u001b[0m , конфликт \u001b[31m,\u001b[0m весь этот хаос , весь этот шум , и из этого появляется точное \u001b[31mматематическое\u001b[0m \u001b[31mраспределение\u001b[0m атак этого конфликта . это взрыва ##ет мозг . откуда в \u001b[31mконфликте\u001b[0m типа иракского \u001b[31mтакая\u001b[0m вот математика ? откуда в воин \u001b[31m##е\u001b[0m взяться \u001b[31mпорядку\u001b[0m ? мы этого не понимали \u001b[31m.\u001b[0m мы думали , что может быть в ирак \u001b[31m##е\u001b[0m есть что - то особенное . и мы изучили еще несколько конфликтов \u001b[31m.\u001b[0m мы прис ##мотре ##лись к колумб \u001b[31m##ии\u001b[0m , афган \u001b[31m##истан\u001b[0m ##у и сенег ##алу . в \n",
      "\n",
      "<class 'allennlp.interpret.saliency_interpreters.simple_gradient.SimpleGradient'> TEXT:\n",
      "\u001b[31mкогда\u001b[0m мы смотри ##м новости , мы видим сообщения из ирак ##а , афган ##истана , с ##ьерра \u001b[31m-\u001b[0m ле ##оне , и кажется \u001b[31m,\u001b[0m что эти конфликты \u001b[31mневозможно\u001b[0m понять . именно так я и думал , когда начинал этот проект . но я физик \u001b[31m,\u001b[0m и поэтому решил на ##ити данные и попробовать разобраться . просто попробовать . ну и как на ##ив ##ны ##и новозеланд ##ец я подумал , что по ##иду в пента ##гон . не могли бы вы поделиться со мн ##ои информ ##аци ##еи ? ( смех ) \u001b[31mнет\u001b[0m . поэтому пришлось задуматься пос ##ерьез ##нее . и вот однажды вечером в оксфорд \u001b[31m##е\u001b[0m я смотрел новости . и обратил внимание на экран под говоря ##щи ##ми головами . и обнаружил там информацию . там были данные , в ль ##ющихся на нас потока ##х новост ##еи . весь шум вокруг нас деи ##ств ##ительно содержит информацию . и мне пришла в голову мысль организовать нечто вроде разведки по открытым источникам . если ском ##бин ##ировать данные изо всех этих потоков , возможно \u001b[31m,\u001b[0m мы сможем понять воин \u001b[31m##у\u001b[0m \u001b[31m.\u001b[0m именно так я и поступил . мы начали собирать команду , междисциплин ##арную \u001b[31mкоманду\u001b[0m ученых \u001b[31m,\u001b[0m экономистов \u001b[31m,\u001b[0m математиков . мы собрали этих ребят , и начали работу над проблем ##ои . \u001b[31mв\u001b[0m работе было три \u001b[31mэтапа\u001b[0m . перв ##ы ##и — собрать данные . мы обработал ##и 130 источников информации : от отчетов ng ##o до газет и теленов ##ост ##еи . мы собрали эти данные и от ##филь ##тр ##овали их . достал \u001b[31m##и\u001b[0m из них важные для наше ##и базы данных кусочки . в это ##и базе было время атак , координаты , масштаб и тип использован ##ного оружия . все это есть в ежедневных новостях , нужно просто уметь извлекать это . ну а когда мы накоп ##или базу , мы занялись класс ##ными штук ##ами . что если изучить распределение масштабов атак ? что мы там обнаруж ##им ? этим мы и занялись . тут вы можете видеть , что по горизонтально ##и оси отложено количество жертв атаки — масштаб атаки . а по вертикально ##и оси — количество атак . мы построили график масштабов атак . вы видит ##е как будто бы случаи ##ное распределение : например , в 67 атаках \u001b[31mбыло\u001b[0m \u001b[31mубито\u001b[0m по одному человеку , а в 47 \u001b[31m—\u001b[0m по семеро . вот так ##ои график мы \u001b[31mпостроили\u001b[0m \u001b[31mдля\u001b[0m \u001b[31mирак\u001b[0m \u001b[31m##а\u001b[0m . \u001b[31mтогда\u001b[0m мы еще \u001b[31mне\u001b[0m знали , что мы \u001b[31mобнаруж\u001b[0m ##им . наша \u001b[31mнаходка\u001b[0m очень \u001b[31mвпечатл\u001b[0m \u001b[31m##яет\u001b[0m \u001b[31m.\u001b[0m казалось бы , конфликт \u001b[31m,\u001b[0m весь этот хаос , весь этот шум , и из этого появляется точное математическое распределение \u001b[31mатак\u001b[0m \u001b[31mэтого\u001b[0m конфликта \u001b[31m.\u001b[0m это взрыва ##ет мозг \u001b[31m.\u001b[0m \u001b[31mоткуда\u001b[0m в \u001b[31mконфликте\u001b[0m \u001b[31mтипа\u001b[0m \u001b[31mиракского\u001b[0m \u001b[31mтакая\u001b[0m вот математика ? откуда в воин ##е взяться порядку ? мы этого не понимали \u001b[31m.\u001b[0m мы думали , что может быть в ирак \u001b[31m##е\u001b[0m есть что - то особенное . и мы изучили еще несколько конфликтов . мы прис ##мотре \u001b[31m##лись\u001b[0m к колумб \u001b[31m##ии\u001b[0m , афган \u001b[31m##истан\u001b[0m \u001b[31m##у\u001b[0m и сенег \u001b[31m##алу\u001b[0m . \u001b[31mв\u001b[0m \n",
      "\n",
      "<class 'allennlp.interpret.saliency_interpreters.integrated_gradient.IntegratedGradient'> TEXT:\n",
      "\u001b[31mкогда\u001b[0m \u001b[31mмы\u001b[0m \u001b[31mсмотри\u001b[0m ##м новости , мы видим сообщения из ирак \u001b[31m##а\u001b[0m , афган ##истана , с ##ьерра \u001b[31m-\u001b[0m ле ##оне , и кажется , что эти конфликты \u001b[31mневозможно\u001b[0m понять . именно так я и думал , когда начинал этот проект \u001b[31m.\u001b[0m но \u001b[31mя\u001b[0m физик \u001b[31m,\u001b[0m и поэтому решил на ##ити данные \u001b[31mи\u001b[0m попробовать \u001b[31mразобраться\u001b[0m . просто попробовать \u001b[31m.\u001b[0m ну и как на ##ив ##ны ##и новозеланд ##ец я \u001b[31mподумал\u001b[0m , что по ##иду в пента ##гон . \u001b[31mне\u001b[0m \u001b[31mмогли\u001b[0m бы вы поделиться со мн ##ои информ ##аци ##еи ? ( смех ) нет . поэтому пришлось задуматься пос ##ерьез ##нее . и вот однажды вечером в оксфорд \u001b[31m##е\u001b[0m я смотрел новости \u001b[31m.\u001b[0m \u001b[31mи\u001b[0m обратил \u001b[31mвнимание\u001b[0m \u001b[31mна\u001b[0m экран под говоря ##щи ##ми головами . и обнаружил там информацию . там были данные \u001b[31m,\u001b[0m в ль ##ющихся на нас потока ##х \u001b[31mновост\u001b[0m ##еи . весь шум вокруг нас деи ##ств ##ительно содержит информацию . и мне пришла в голову мысль организовать нечто вроде разведки по открытым источникам . если ском ##бин ##ировать \u001b[31mданные\u001b[0m изо \u001b[31mвсех\u001b[0m этих потоков \u001b[31m,\u001b[0m возможно , мы сможем понять \u001b[31mвоин\u001b[0m ##у . именно так я \u001b[31mи\u001b[0m \u001b[31mпоступил\u001b[0m \u001b[31m.\u001b[0m мы начали \u001b[31mсобирать\u001b[0m \u001b[31mкоманду\u001b[0m \u001b[31m,\u001b[0m \u001b[31mмеждисциплин\u001b[0m \u001b[31m##арную\u001b[0m команду \u001b[31mученых\u001b[0m , экономистов , математиков . мы собрали этих \u001b[31mребят\u001b[0m , и начали работу \u001b[31mнад\u001b[0m проблем ##ои . в работе было три этапа . перв ##ы ##и — собрать данные . мы обработал ##и 130 источников информации : от отчетов ng ##o до газет и теленов ##ост ##еи . мы собрали эти данные и от ##филь ##тр ##овали их . достал ##и из них важные для наше ##и базы данных кусочки . в это ##и базе было время атак , координаты , масштаб и тип использован ##ного оружия . все это есть в ежедневных новостях , нужно просто уметь извлекать это . ну а когда мы накоп ##или базу , мы занялись класс ##ными штук ##ами . что если изучить распределение масштабов атак ? что мы там обнаруж ##им ? этим мы и занялись . тут вы можете видеть , что по горизонтально ##и оси отложено количество жертв атаки — масштаб атаки . а по вертикально ##и оси — количество атак . мы построили график масштабов атак . \u001b[31mвы\u001b[0m видит ##е как \u001b[31mбудто\u001b[0m \u001b[31mбы\u001b[0m \u001b[31mслучаи\u001b[0m ##ное распределение : \u001b[31mнапример\u001b[0m , \u001b[31mв\u001b[0m 67 атаках было убито \u001b[31mпо\u001b[0m одному человеку , а в 47 \u001b[31m—\u001b[0m по семеро . вот так ##ои график мы построили для ирак ##а . \u001b[31mтогда\u001b[0m мы еще не знали , что мы \u001b[31mобнаруж\u001b[0m ##им . наша находка очень впечатл ##яет . казалось бы , конфликт , весь этот хаос , весь этот шум , и из этого появляется точное математическое распределение атак этого конфликта . это взрыва ##ет мозг . откуда в конфликте типа иракского такая вот математика ? откуда в воин \u001b[31m##е\u001b[0m взяться порядку ? мы этого не понимали . мы думали , что может быть в ирак ##е есть что - то особенное . и мы изучили еще несколько конфликтов . \u001b[31mмы\u001b[0m прис ##мотре ##лись к колумб ##ии , афган ##истан ##у и сенег ##алу . в \n",
      "\n"
     ]
    }
   ],
   "source": [
    "interpret_sentence(\n",
    "    sentences[mistake_ids[2]], dataset_reader.tokenizer, 50, \n",
    "    [smooth_grad, simple_grad, integrated_grad],\n",
    "    label_description[true_classes[mistake_ids[2]]],\n",
    "    label_description[predicted_classes[mistake_ids[2]]]\n",
    ")"
   ]
  },
  {
   "cell_type": "code",
   "execution_count": 20,
   "metadata": {},
   "outputs": [
    {
     "name": "stdout",
     "output_type": "stream",
     "text": [
      "reporting\n",
      "====================================================================================================\n",
      "[('.', 441), (',', 131), ('[SEP]', 95), ('[CLS]', 94), ('\"', 73), ('в', 71), ('-', 70), ('заявил', 56), ('##и', 55), ('росс', 40), ('президент', 32), ('##а', 27), ('##ии', 26), ('/', 23), ('р', 23), ('и', 23), ('сказал', 20), ('что', 19), ('сш', 19), ('по', 17), ('<', 17), ('москв', 17), ('на', 16), ('>', 16), (':', 16), ('он', 15), ('##ои', 15), ('года', 14), ('этом', 14), ('не', 14), ('##ф', 14), ('с', 13), ('как', 13), ('##p', 13), ('сообщил', 13), ('##ев', 13), ('сообщает', 13), ('словам', 12), ('украин', 12), ('медвед', 12), ('«', 11), ('ga', 11), ('новости', 11), ('напомним', 11), ('александр', 11), ('»', 10), ('об', 10), ('виктор', 10), ('2008', 10), ('##ны', 10)]\n",
      "commercial\n",
      "====================================================================================================\n",
      "[('.', 333), ('[SEP]', 77), (',', 70), ('[CLS]', 68), ('-', 40), (':', 33), ('в', 33), ('##и', 31), ('не', 30), ('\"', 24), ('и', 24), ('для', 21), ('мы', 17), ('позволяет', 16), ('##ои', 15), (')', 15), ('вам', 14), ('(', 14), ('вы', 13), ('!', 13), ('/', 12), ('это', 12), ('удоб', 10), ('с', 10), ('##p', 9), ('благодаря', 9), ('очень', 9), ('легко', 8), ('##еи', 8), ('вас', 8), ('просто', 8), ('клиентов', 7), ('нас', 7), ('что', 7), ('диз', 7), ('хом', 7), ('##ная', 7), ('вашего', 7), ('то', 7), ('массаж', 7), ('науш', 6), ('##ите', 6), ('к', 6), ('##ы', 6), ('модель', 6), ('котор', 6), ('##е', 6), ('home', 6), ('комфорт', 6), ('руб', 6)]\n",
      "argum\n",
      "====================================================================================================\n",
      "[('.', 233), (',', 53), ('[CLS]', 52), ('[SEP]', 49), ('##и', 37), ('\"', 27), ('в', 26), ('я', 24), ('-', 22), ('росс', 21), ('и', 19), (':', 19), ('(', 16), (')', 15), ('?', 13), ('*', 13), ('##ии', 12), ('россия', 11), ('вы', 10), ('не', 10), ('мы', 10), ('на', 10), ('##еи', 9), ('это', 9), ('!', 8), ('если', 8), ('##ои', 8), ('с', 7), ('<', 7), ('что', 7), ('за', 7), ('кита', 7), ('вам', 6), ('>', 6), ('меня', 6), ('##ско', 6), ('то', 6), ('деи', 6), ('объединенных', 6), ('i', 6), ('фл', 6), ('для', 5), ('люд', 5), ('у', 5), ('/', 5), ('##иско', 5), ('мне', 5), ('было', 5), ('европ', 5), ('из', 5)]\n",
      "research\n",
      "====================================================================================================\n",
      "[('.', 273), ('[CLS]', 43), ('[SEP]', 37), ('в', 31), ('(', 29), ('\"', 25), (')', 24), ('1', 21), (',', 21), ('[', 21), ('-', 17), (':', 14), ('с', 13), (';', 12), (']', 11), ('а', 10), ('т', 10), ('/', 10), ('6', 9), ('2', 9), ('лек', 9), ('##и', 9), ('исследования', 7), ('б', 7), ('3', 7), ('—', 7), ('л', 7), ('на', 6), ('н', 6), ('и', 6), ('не', 5), ('##а', 5), ('автор', 5), ('2013', 5), ('исследовании', 5), ('ран', 5), ('4', 5), ('№', 5), ('5', 4), ('метод', 4), ('г', 4), ('7', 4), ('14', 4), ('является', 4), ('е', 4), ('##ои', 4), ('“', 4), ('##иро', 4), ('анно', 4), ('06', 4)]\n",
      "personal\n",
      "====================================================================================================\n",
      "[('.', 100), ('>', 57), ('<', 34), ('[CLS]', 28), ('[SEP]', 23), ('##и', 22), (')', 21), ('-', 21), (',', 20), ('br', 19), ('!', 17), (':', 16), ('/', 12), ('и', 12), ('не', 11), ('я', 11), ('в', 10), ('\"', 9), ('на', 8), ('мне', 8), ('?', 8), ('p', 7), ('##ои', 7), ('очень', 7), ('дне', 7), ('##еи', 6), ('(', 6), ('будет', 6), ('что', 5), ('с', 4), ('люблю', 4), ('у', 4), ('это', 4), ('знаю', 4), ('то', 4), ('как', 3), ('по', 3), ('лет', 3), ('так', 3), ('##ы', 3), ('спасибо', 3), ('про', 3), ('кошек', 3), ('хочется', 3), ('немного', 3), ('мы', 3), ('еще', 3), ('только', 3), ('при', 3), ('нам', 3)]\n",
      "eval\n",
      "====================================================================================================\n",
      "[('.', 97), (',', 29), ('[CLS]', 25), ('[SEP]', 23), ('##и', 15), ('-', 14), ('\"', 14), (')', 14), ('и', 13), ('(', 13), ('в', 11), ('не', 10), ('на', 9), ('но', 8), ('!', 8), ('вполне', 7), ('а', 7), ('книги', 7), ('это', 5), ('я', 5), ('токи', 5), ('можно', 4), ('что', 4), ('достоин', 4), ('по', 4), ('##ии', 4), ('как', 4), ('о', 4), ('фильм', 4), ('фильма', 4), ('то', 3), ('понравилась', 3), ('книга', 3), (':', 3), ('всегда', 3), ('/', 3), ('##о', 3), ('##т', 3), ('?', 3), ('пожал', 3), ('про', 3), ('реально', 3), ('девушка', 3), ('очень', 3), ('ход', 3), ('главное', 3), ('2013', 3), ('fight', 3), ('росс', 3), ('отлично', 3)]\n",
      "info\n",
      "====================================================================================================\n",
      "[('.', 60), ('[SEP]', 10), ('[CLS]', 9), (')', 9), (',', 8), ('в', 7), ('(', 7), ('1', 6), ('—', 5), ('-', 5), ('отеля', 4), ('лу', 4), ('вед', 4), ('юно', 4), ('и', 3), ('а', 3), ('4', 3), ('история', 3), ('кришна', 3), ('[', 3), ('года', 3), ('мант', 3), ('##пс', 3), ('чер', 3), ('сав', 2), ('город', 2), ('стала', 2), ('компании', 2), ('с', 2), ('гостиница', 2), ('##еи', 2), ('во', 2), ('что', 2), ('божеств', 2), ('может', 2), (']', 2), ('коллекции', 2), ('2', 2), ('ссылки', 2), ('»', 2), ('воины', 2), ('миров', 2), ('«', 2), ('##ои', 2), ('декабря', 2), ('эскадра', 2), ('|', 2), ('метров', 2), ('эстафета', 2), ('править', 2)]\n",
      "fictive\n",
      "====================================================================================================\n",
      "[('.', 58), (',', 21), ('-', 20), ('[CLS]', 18), ('[SEP]', 18), ('##и', 12), ('глаза', 8), ('в', 7), ('##ои', 6), ('улыб', 6), ('на', 6), ('только', 6), ('—', 5), ('\"', 5), ('!', 5), ('чтоб', 5), ('?', 5), ('никого', 5), ('это', 4), ('»', 4), ('##а', 4), ('и', 4), ('я', 4), ('с', 4), ('##еи', 4), ('далеко', 4), ('что', 4), ('##ки', 3), ('гномы', 3), ('##аи', 3), ('1886', 3), ('лев', 3), ('татар', 3), ('а', 3), ('(', 3), ('ты', 3), ('##я', 3), ('ума', 3), ('солнеч', 3), ('как', 3), ('дарвин', 3), ('##бург', 3), ('то', 3), ('перевод', 3), ('есть', 3), ('>', 3), ('тонко', 2), ('##е', 2), ('однако', 2), ('трактир', 2)]\n",
      "legal\n",
      "====================================================================================================\n",
      "[('.', 50), ('росс', 17), (';', 11), ('[CLS]', 11), (')', 10), ('##и', 9), ('[SEP]', 9), (',', 8), ('3', 7), ('федерации', 6), ('4', 6), ('1', 6), ('статья', 6), ('в', 5), ('извещ', 5), ('2', 4), ('и', 4), ('ввоз', 4), ('утратил', 4), ('интернет', 4), ('федерального', 3), ('##ои', 3), ('осмотра', 3), ('договорам', 3), ('федер', 3), ('##ско', 3), ('настоящ', 3), ('указанным', 3), ('осуществляет', 3), ('декабря', 2), ('понятия', 2), ('правила', 2), ('издел', 2), ('настоящего', 2), ('закон', 2), ('-', 2), ('государственно', 2), ('7', 2), ('дум', 2), ('##ии', 2), ('может', 2), ('распоряжение', 2), ('кодексом', 2), ('января', 2), ('24', 2), ('ф', 2), ('закона', 2), ('перечня', 2), ('граждан', 2), ('2011', 2)]\n",
      "instruct\n",
      "====================================================================================================\n",
      "[('.', 62), (',', 13), ('[CLS]', 11), ('[SEP]', 10), ('##ogle', 8), ('в', 8), ('##ьте', 5), ('##аем', 5), ('наж', 5), ('##мите', 4), ('использ', 4), ('на', 4), ('-', 4), ('можете', 4), ('##ите', 4), ('##я', 3), ('для', 3), (':', 3), ('•', 3), ('поэтому', 3), ('сначала', 3), ('##иваем', 3), ('нажать', 3), ('##те', 3), ('hi', 3), ('##ja', 3), ('##уи', 3), ('[', 3), ('соус', 3), ('зелен', 2), ('см', 2), ('почты', 2), ('это', 2), ('если', 2), ('нарушает', 2), ('##mail', 2), ('создается', 2), ('##ную', 2), ('?', 2), ('##ываем', 2), ('данном', 2), ('пересчит', 2), ('##м', 2), ('очень', 2), ('са', 2), ('компьютера', 2), ('сделают', 2), ('обязательно', 2), ('рынках', 2), ('3', 2)]\n"
     ]
    }
   ],
   "source": [
    "for label in id_to_label.values():\n",
    "    print(label_description[label])\n",
    "    print('=' * 100)\n",
    "    cur_dataset = get_dataset_by_confusion_pair(\n",
    "        sentences, label, label, true_classes, predicted_classes\n",
    "    )\n",
    "    words = get_most_frequent_trigger_words(cur_dataset, dataset_reader.tokenizer, 50, simple_grad)\n",
    "    print(words[:50])"
   ]
  },
  {
   "cell_type": "code",
   "execution_count": 21,
   "metadata": {},
   "outputs": [
    {
     "name": "stdout",
     "output_type": "stream",
     "text": [
      "reporting\n",
      "====================================================================================================\n",
      "[('.', 339), (',', 143), ('[SEP]', 71), ('\"', 71), ('[CLS]', 56), ('заявил', 55), ('росс', 47), ('-', 40), ('в', 36), ('президент', 34), ('##и', 31), ('##ии', 25), ('##ф', 22), ('сш', 22), (':', 21), ('/', 19), ('москв', 17), ('сегодня', 15), ('и', 15), ('по', 15), ('сказал', 15), ('медвед', 15), ('р', 14), ('этом', 13), ('что', 13), ('>', 13), ('новости', 13), ('##еи', 13), ('президента', 13), ('александр', 12), ('сообщил', 12), ('напомним', 12), ('сообщает', 11), ('также', 11), ('##p', 11), ('не', 11), ('<', 11), ('россия', 11), ('словам', 10), ('ga', 10), ('пресс', 10), ('глава', 10), ('млрд', 10), ('сер', 10), ('##ои', 10), ('на', 9), ('апреля', 9), ('европ', 9), ('отметил', 9), ('виктор', 9)]\n",
      "commercial\n",
      "====================================================================================================\n",
      "[('.', 214), ('[SEP]', 65), (',', 64), ('[CLS]', 48), ('-', 25), ('\"', 21), ('##и', 20), (':', 19), ('мы', 18), ('не', 15), ('и', 14), ('!', 13), ('в', 12), ('очень', 12), ('благодаря', 11), ('вам', 11), ('люб', 10), ('это', 9), ('компания', 9), ('обеспечивает', 8), ('можно', 8), ('позволяет', 8), ('с', 8), ('вес', 8), ('на', 8), ('удоб', 8), ('##ои', 8), ('массаж', 8), ('науш', 7), ('современ', 7), ('##p', 7), ('ga', 7), ('диз', 7), ('котор', 7), ('модель', 7), ('##еи', 7), ('##ная', 7), ('легко', 7), ('наши', 7), ('небольш', 6), ('<', 6), ('>', 6), ('нас', 6), ('предлаг', 6), ('вы', 6), ('наше', 6), ('купить', 6), ('преимущества', 6), ('кг', 6), ('руб', 6)]\n",
      "argum\n",
      "====================================================================================================\n",
      "[('.', 160), (',', 50), ('[SEP]', 42), ('[CLS]', 32), ('росс', 24), ('\"', 22), ('я', 21), ('в', 18), ('кита', 18), ('россия', 14), ('*', 14), (':', 12), ('?', 12), ('вам', 10), ('##еи', 9), ('-', 9), ('мы', 9), ('(', 8), ('##ои', 8), ('герман', 8), ('украин', 7), ('вас', 7), ('мне', 7), ('европ', 7), ('мерк', 7), ('конкурса', 6), ('меня', 6), ('котор', 6), ('смех', 6), ('##ны', 6), ('##и', 6), (';', 6), ('##ско', 5), ('##ичас', 5), ('если', 5), ('не', 5), (')', 5), ('стакан', 5), ('письмо', 5), ('подпись', 5), ('[', 5), ('олимпи', 5), ('имя', 5), ('фл', 5), ('анн', 4), ('«', 4), ('<', 4), ('br', 4), ('народа', 4), ('деи', 4)]\n",
      "research\n",
      "====================================================================================================\n",
      "[('.', 216), ('[SEP]', 40), ('[CLS]', 25), (',', 23), ('[', 21), ('\"', 13), ('-', 12), ('лек', 11), ('1', 10), (')', 9), (']', 9), ('с', 8), ('в', 8), ('the', 7), ('§', 7), ('4', 6), ('(', 6), (':', 6), ('анно', 6), ('б', 6), ('2', 5), (';', 5), ('исследовании', 5), ('работе', 5), ('а', 5), ('статья', 5), ('6', 5), ('3', 5), ('/', 5), ('москв', 5), ('р', 4), ('упругости', 4), ('работы', 4), ('необходимо', 4), ('понятие', 4), ('##и', 4), ('рассматривается', 4), ('##иро', 4), ('ключевые', 4), ('для', 4), ('i', 4), ('##ция', 4), ('0', 4), ('темы', 4), ('диссертации', 4), ('2000', 4), ('pi', 4), ('№', 4), ('напряжении', 4), ('рис', 4)]\n",
      "personal\n",
      "====================================================================================================\n",
      "[('.', 79), ('<', 29), (',', 28), ('br', 25), ('>', 24), (')', 23), ('[SEP]', 23), ('[CLS]', 18), ('я', 14), ('-', 12), ('мне', 12), ('!', 11), ('\"', 11), ('/', 10), (':', 10), ('p', 7), ('будет', 7), ('(', 6), ('очень', 6), ('меня', 6), ('не', 5), ('есть', 4), ('##ои', 4), ('вы', 4), ('##и', 4), ('знаю', 4), ('дне', 4), ('конечно', 3), ('надо', 3), ('и', 3), ('спасибо', 3), ('люблю', 3), ('кошки', 3), ('хочется', 3), ('в', 3), ('lo', 3), ('фотографии', 3), ('pet', 3), ('дома', 3), ('хотелось', 3), ('думаю', 3), ('гад', 3), ('таки', 3), ('просто', 3), ('только', 3), ('извин', 3), ('?', 3), ('все', 3), ('жизни', 3), ('через', 3)]\n",
      "eval\n",
      "====================================================================================================\n",
      "[('.', 78), (',', 27), ('[SEP]', 20), ('[CLS]', 15), (')', 11), ('и', 10), ('(', 9), ('в', 8), ('##и', 8), ('-', 7), ('не', 6), ('\"', 6), ('я', 6), ('вполне', 5), ('но', 4), ('книги', 4), (':', 4), ('кстати', 4), ('панель', 4), ('ну', 4), ('нас', 4), ('очень', 4), ('фильма', 4), ('деи', 3), ('конечно', 3), ('можно', 3), ('всегда', 3), ('а', 3), ('может', 3), ('что', 3), ('читать', 3), ('по', 3), ('это', 3), ('плохо', 3), ('отзыв', 3), ('реценз', 3), ('юмор', 3), ('только', 3), ('##ны', 3), ('фотограф', 3), ('эта', 3), ('девушка', 3), ('посмотреть', 3), ('фотографии', 3), ('сюжет', 3), ('токи', 3), ('кол', 3), ('мотоцикл', 2), ('смотреть', 2), ('так', 2)]\n",
      "info\n",
      "====================================================================================================\n",
      "[('.', 41), (',', 12), ('[SEP]', 9), ('юно', 8), ('[CLS]', 5), ('история', 4), ('в', 4), (')', 4), ('2', 3), ('##еи', 3), ('кришна', 3), ('музеи', 3), ('вед', 3), ('(', 3), ('##i', 2), ('достопримечательности', 2), ('ив', 2), ('—', 2), ('примеч', 2), ('компании', 2), ('отеля', 2), ('проводятся', 2), ('ее', 2), ('проводят', 2), ('инду', 2), ('согласно', 2), ('[', 2), ('пределами', 2), ('1', 2), ('воины', 2), ('ранние', 2), ('одноименного', 2), ('ссылки', 2), ('правила', 2), ('|', 2), ('эстафета', 2), ('править', 2), ('-', 2), ('популярна', 2), ('1870', 2), ('провер', 2), ('/', 2), ('киев', 2), ('императора', 2), ('конница', 2), ('0', 2), ('регион', 1), ('%', 1), ('культура', 1), ('##оиск', 1)]\n",
      "fictive\n",
      "====================================================================================================\n",
      "[('.', 42), ('[CLS]', 17), (',', 15), ('[SEP]', 11), ('глаза', 9), ('улыб', 8), ('мне', 6), ('я', 6), ('##аи', 5), ('сорок', 5), ('-', 5), ('?', 5), ('никого', 5), ('жизнь', 4), ('##и', 4), ('##ои', 3), ('чтоб', 3), ('кто', 3), ('кажд', 3), ('казалось', 3), ('##онож', 3), ('в', 3), ('аркад', 3), ('степ', 3), ('спросил', 3), ('эз', 3), ('солнеч', 3), ('кирпич', 3), ('не', 3), ('ир', 3), ('>', 3), ('совет', 2), ('пира', 2), ('пир', 2), ('суровым', 2), ('оригинал', 2), ('романа', 2), ('ходили', 2), ('##ю', 2), ('встречи', 2), ('тавер', 2), ('гномы', 2), ('мои', 2), ('теплом', 2), ('бог', 2), ('ненаст', 2), ('понятно', 2), ('эст', 2), ('понимаю', 2), ('али', 2)]\n",
      "legal\n",
      "====================================================================================================\n",
      "[('.', 57), ('росс', 15), ('статья', 13), (';', 10), ('[SEP]', 10), ('[CLS]', 8), (')', 7), ('глава', 6), ('кодексом', 5), ('федерации', 5), ('извещ', 5), ('и', 4), ('настоящим', 4), ('утратил', 4), (',', 4), ('субъекта', 4), ('1', 4), ('закона', 3), ('настоящ', 3), ('государственно', 3), ('основные', 3), ('федерацию', 3), ('определение', 3), ('если', 3), ('веб', 3), ('вы', 3), ('##и', 3), ('осуществляет', 3), ('3', 2), ('7', 2), ('сигарет', 2), ('в', 2), ('настоящего', 2), ('##а', 2), ('20', 2), ('ввоз', 2), ('транспортных', 2), ('право', 2), ('раздел', 2), ('вопросы', 2), ('федерального', 2), ('порядка', 2), ('2011', 2), ('редакции', 2), ('договорам', 2), ('технического', 2), ('положении', 2), ('##ии', 2), ('положения', 2), ('выписки', 2)]\n",
      "instruct\n",
      "====================================================================================================\n",
      "[('.', 44), ('##мите', 13), ('наж', 11), (',', 9), ('##ogle', 8), ('[SEP]', 7), ('[CLS]', 6), ('вы', 5), ('кнопку', 4), ('поэтому', 4), ('##ите', 4), ('инструкции', 4), ('вредонос', 4), ('разделе', 3), ('\"', 3), ('##ьте', 3), ('лоскут', 3), ('##иваем', 3), ('##ываем', 3), ('ваше', 3), ('можете', 3), ('мы', 3), ('доступа', 3), ('вклад', 3), ('поделиться', 3), ('умолчанию', 3), ('пере', 3), ('##те', 2), ('приступа', 2), ('•', 2), ('провер', 2), ('лучше', 2), ('g', 2), ('странице', 2), ('гадж', 2), ('способ', 2), ('go', 2), ('отступ', 2), ('вашего', 2), ('##аем', 2), ('ретро', 2), ('фото', 2), ('всего', 2), ('обв', 2), ('манипуляции', 2), ('вас', 2), ('способы', 2), ('рис', 2), ('вам', 2), ('хотите', 2)]\n"
     ]
    }
   ],
   "source": [
    "for label in id_to_label.values():\n",
    "    print(label_description[label])\n",
    "    print('=' * 100)\n",
    "    cur_dataset = get_dataset_by_confusion_pair(\n",
    "        sentences, label, label, true_classes, predicted_classes\n",
    "    )\n",
    "    words = get_most_frequent_trigger_words(cur_dataset, dataset_reader.tokenizer, 50, smooth_grad)\n",
    "    print(words[:50])"
   ]
  },
  {
   "cell_type": "code",
   "execution_count": null,
   "metadata": {},
   "outputs": [
    {
     "name": "stdout",
     "output_type": "stream",
     "text": [
      "reporting\n",
      "====================================================================================================\n"
     ]
    }
   ],
   "source": [
    "for label in id_to_label.values():\n",
    "    print(label_description[label])\n",
    "    print('=' * 100)\n",
    "    cur_dataset = get_dataset_by_confusion_pair(\n",
    "        sentences, label, label, true_classes, predicted_classes\n",
    "    )\n",
    "    words = get_most_frequent_trigger_words(cur_dataset, dataset_reader.tokenizer, 50, integrated_grad)\n",
    "    print(words[:50])"
   ]
  },
  {
   "cell_type": "code",
   "execution_count": null,
   "metadata": {},
   "outputs": [],
   "source": []
  }
 ],
 "metadata": {
  "kernelspec": {
   "display_name": "Python 3",
   "language": "python",
   "name": "python3"
  },
  "language_info": {
   "codemirror_mode": {
    "name": "ipython",
    "version": 3
   },
   "file_extension": ".py",
   "mimetype": "text/x-python",
   "name": "python",
   "nbconvert_exporter": "python",
   "pygments_lexer": "ipython3",
   "version": "3.8.3"
  }
 },
 "nbformat": 4,
 "nbformat_minor": 4
}
