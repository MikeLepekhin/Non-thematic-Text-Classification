{
 "cells": [
  {
   "cell_type": "code",
   "execution_count": 5,
   "metadata": {},
   "outputs": [],
   "source": [
    "from os.path import join as pathjoin\n",
    "from data_processing import *\n",
    "from interpretation import *\n",
    "from models import *\n",
    "from training import *"
   ]
  },
  {
   "cell_type": "code",
   "execution_count": 6,
   "metadata": {},
   "outputs": [],
   "source": [
    "DATA_DIR = '/home/mlepekhin/data'\n",
    "MODELS_DIR = '/home/mlepekhin/models'\n",
    "MODEL_ID = 'allennlp_rubert'\n",
    "CHECKPOINTS_DIR = pathjoin(MODELS_DIR, MODEL_ID, 'checkpoints')\n",
    "BEST_MODEL = pathjoin(CHECKPOINTS_DIR, 'best.th')"
   ]
  },
  {
   "cell_type": "code",
   "execution_count": 7,
   "metadata": {},
   "outputs": [],
   "source": [
    "transformer_model = 'DeepPavlov/rubert-base-cased'\n",
    "MAX_TOKENS = 512"
   ]
  },
  {
   "cell_type": "markdown",
   "metadata": {},
   "source": [
    "### Loading of the pretrained model"
   ]
  },
  {
   "cell_type": "code",
   "execution_count": 8,
   "metadata": {},
   "outputs": [
    {
     "name": "stdout",
     "output_type": "stream",
     "text": [
      "Building the model\n"
     ]
    }
   ],
   "source": [
    "vocab = Vocabulary().from_files(pathjoin(MODELS_DIR, MODEL_ID, 'vocab'))\n",
    "model = build_transformer_model(vocab, transformer_model)"
   ]
  },
  {
   "cell_type": "code",
   "execution_count": 9,
   "metadata": {},
   "outputs": [
    {
     "name": "stdout",
     "output_type": "stream",
     "text": [
      "{0: 'A8', 1: 'A12', 2: 'A1', 3: 'A14', 4: 'A11', 5: 'A17', 6: 'A16', 7: 'A4', 8: 'A9', 9: 'A7'}\n",
      "dict_values(['A8', 'A12', 'A1', 'A14', 'A11', 'A17', 'A16', 'A4', 'A9', 'A7'])\n"
     ]
    }
   ],
   "source": [
    "id_to_label = vocab.get_index_to_token_vocabulary('labels')\n",
    "print(id_to_label)\n",
    "print(id_to_label.values())"
   ]
  },
  {
   "cell_type": "code",
   "execution_count": 10,
   "metadata": {},
   "outputs": [
    {
     "name": "stdout",
     "output_type": "stream",
     "text": [
      "0\n"
     ]
    },
    {
     "data": {
      "text/plain": [
       "<All keys matched successfully>"
      ]
     },
     "execution_count": 10,
     "metadata": {},
     "output_type": "execute_result"
    }
   ],
   "source": [
    "if torch.cuda.is_available():\n",
    "    cuda_device = 0\n",
    "else:\n",
    "    cuda_device = -1\n",
    "print(cuda_device)\n",
    "model.load_state_dict(torch.load(BEST_MODEL, map_location=f'cuda:{cuda_device}'))"
   ]
  },
  {
   "cell_type": "markdown",
   "metadata": {},
   "source": [
    "### Data loading"
   ]
  },
  {
   "cell_type": "code",
   "execution_count": 11,
   "metadata": {},
   "outputs": [
    {
     "data": {
      "text/html": [
       "<div>\n",
       "<style scoped>\n",
       "    .dataframe tbody tr th:only-of-type {\n",
       "        vertical-align: middle;\n",
       "    }\n",
       "\n",
       "    .dataframe tbody tr th {\n",
       "        vertical-align: top;\n",
       "    }\n",
       "\n",
       "    .dataframe thead th {\n",
       "        text-align: right;\n",
       "    }\n",
       "</style>\n",
       "<table border=\"1\" class=\"dataframe\">\n",
       "  <thead>\n",
       "    <tr style=\"text-align: right;\">\n",
       "      <th></th>\n",
       "      <th>Unnamed: 0</th>\n",
       "      <th>target</th>\n",
       "      <th>text</th>\n",
       "    </tr>\n",
       "  </thead>\n",
       "  <tbody>\n",
       "    <tr>\n",
       "      <th>0</th>\n",
       "      <td>726</td>\n",
       "      <td>A7</td>\n",
       "      <td>Глава 1 Приступая к работе 1.1 Знакомство с те...</td>\n",
       "    </tr>\n",
       "    <tr>\n",
       "      <th>1</th>\n",
       "      <td>1871</td>\n",
       "      <td>A17</td>\n",
       "      <td>Kawasaki D-Tracker С недавних пор Kawasaki d-t...</td>\n",
       "    </tr>\n",
       "    <tr>\n",
       "      <th>2</th>\n",
       "      <td>1265</td>\n",
       "      <td>A17</td>\n",
       "      <td>По моему , вполне достойные книги , может и не...</td>\n",
       "    </tr>\n",
       "    <tr>\n",
       "      <th>3</th>\n",
       "      <td>205</td>\n",
       "      <td>A11</td>\n",
       "      <td>Тест-драйв Lada Granta : новая надежда автогра...</td>\n",
       "    </tr>\n",
       "    <tr>\n",
       "      <th>4</th>\n",
       "      <td>141</td>\n",
       "      <td>A8</td>\n",
       "      <td>среда , 2 декабря 2009 года , 12.33 Бумага всё...</td>\n",
       "    </tr>\n",
       "  </tbody>\n",
       "</table>\n",
       "</div>"
      ],
      "text/plain": [
       "   Unnamed: 0 target                                               text\n",
       "0         726     A7  Глава 1 Приступая к работе 1.1 Знакомство с те...\n",
       "1        1871    A17  Kawasaki D-Tracker С недавних пор Kawasaki d-t...\n",
       "2        1265    A17  По моему , вполне достойные книги , может и не...\n",
       "3         205    A11  Тест-драйв Lada Granta : новая надежда автогра...\n",
       "4         141     A8  среда , 2 декабря 2009 года , 12.33 Бумага всё..."
      ]
     },
     "execution_count": 11,
     "metadata": {},
     "output_type": "execute_result"
    }
   ],
   "source": [
    "ru_test_df = pd.read_csv(pathjoin(DATA_DIR, 'ru_test'))\n",
    "ru_test_df.head()"
   ]
  },
  {
   "cell_type": "code",
   "execution_count": 12,
   "metadata": {},
   "outputs": [],
   "source": [
    "true_classes = ru_test_df.target.values\n",
    "sentences = ru_test_df.text.values"
   ]
  },
  {
   "cell_type": "markdown",
   "metadata": {},
   "source": [
    "### Preliminary analysis"
   ]
  },
  {
   "cell_type": "code",
   "execution_count": 13,
   "metadata": {},
   "outputs": [],
   "source": [
    "dataset_reader = build_transformer_dataset_reader(transformer_model, MAX_TOKENS)\n",
    "predictor = TextClassifierPredictor(model, dataset_reader=dataset_reader)\n",
    "predicted_classes = np.array(predict_classes(sentences, predictor, vocab))"
   ]
  },
  {
   "cell_type": "code",
   "execution_count": 14,
   "metadata": {},
   "outputs": [
    {
     "name": "stdout",
     "output_type": "stream",
     "text": [
      "<class 'numpy.ndarray'>\n"
     ]
    }
   ],
   "source": [
    "print(type(predicted_classes == 'A1'))"
   ]
  },
  {
   "cell_type": "code",
   "execution_count": 15,
   "metadata": {},
   "outputs": [
    {
     "name": "stdout",
     "output_type": "stream",
     "text": [
      "10\n"
     ]
    }
   ],
   "source": [
    "print(len(np.unique(true_classes)))"
   ]
  },
  {
   "cell_type": "code",
   "execution_count": 16,
   "metadata": {},
   "outputs": [
    {
     "name": "stdout",
     "output_type": "stream",
     "text": [
      "label (argum) f1_score 0.7080745341614907 precision 0.7402597402597403 recall 0.6785714285714286\n",
      "label (fictive) f1_score 0.7999999999999999 precision 0.8695652173913043 recall 0.7407407407407407\n",
      "label (instruct) f1_score 0.8275862068965517 precision 0.7058823529411765 recall 1.0\n",
      "label (reporting) f1_score 0.9483568075117371 precision 0.9805825242718447 recall 0.9181818181818182\n",
      "label (legal) f1_score 0.8148148148148148 precision 0.8461538461538461 recall 0.7857142857142857\n",
      "label (personal) f1_score 0.6516853932584269 precision 0.5918367346938775 recall 0.725\n",
      "label (commercial) f1_score 0.9467455621301775 precision 0.9411764705882353 recall 0.9523809523809523\n",
      "label (research) f1_score 0.8627450980392157 precision 0.8979591836734694 recall 0.8301886792452831\n",
      "label (info) f1_score 0.4680851063829786 precision 0.3333333333333333 recall 0.7857142857142857\n",
      "label (eval) f1_score 0.6582278481012658 precision 0.7647058823529411 recall 0.5777777777777777\n",
      "accuracy 0.8095238095238095\n"
     ]
    }
   ],
   "source": [
    "calc_classifier_metrics(predicted_classes, true_classes)"
   ]
  },
  {
   "cell_type": "code",
   "execution_count": 17,
   "metadata": {},
   "outputs": [
    {
     "data": {
      "image/png": "[encoded data removed]",
      "text/plain": [
       "<Figure size 1080x1080 with 2 Axes>"
      ]
     },
     "metadata": {
      "needs_background": "light"
     },
     "output_type": "display_data"
    }
   ],
   "source": [
    "plot_confusion_matrix(predicted_classes, true_classes)"
   ]
  },
  {
   "cell_type": "markdown",
   "metadata": {},
   "source": [
    "### Saliency Gradient Interpretation"
   ]
  },
  {
   "cell_type": "code",
   "execution_count": 18,
   "metadata": {},
   "outputs": [],
   "source": [
    "smooth_grad = SmoothGradient(predictor)\n",
    "simple_grad = SimpleGradient(predictor)\n",
    "integrated_grad = IntegratedGradient(predictor)"
   ]
  },
  {
   "cell_type": "code",
   "execution_count": 19,
   "metadata": {},
   "outputs": [],
   "source": [
    "mistake_ids = []\n",
    "\n",
    "for sent_id in range(len(true_classes)):\n",
    "    if true_classes[sent_id] != predicted_classes[sent_id]:\n",
    "        mistake_ids.append(sent_id)"
   ]
  },
  {
   "cell_type": "code",
   "execution_count": 20,
   "metadata": {},
   "outputs": [
    {
     "name": "stdout",
     "output_type": "stream",
     "text": [
      "TRUE LABEL: personal\n",
      "LABEL: eval\n",
      "<class 'allennlp.interpret.saliency_interpreters.smooth_gradient.SmoothGradient'> TEXT:\n",
      "тест - дра ##ив la \u001b[31m##da\u001b[0m gran ##ta : новая надежда авто ##града фактически , новая la ##da gran \u001b[31m##ta\u001b[0m - это старая \u001b[31mla\u001b[0m ##da ka ##lin ##a плюс 400 новых дет ##але ##и . но назвать грант ##у всего лишь рест ##аи ##лингом калин ##ы язык не поверн ##ется . автомобиль деи ##ств \u001b[31m##ительно\u001b[0m изменился и на самом деле стал лучше прежних продуктов автов ##аза . но поч ##ивать \u001b[31mна\u001b[0m лав ##рах тольят ##тин ##цам еще рано \u001b[31m.\u001b[0m ko ##les ##a . r u выяснили , почему \u001b[31m.\u001b[0m сюрприз ##ы поджид ##али еще до проб ##но ##и поездки на la ##da gran ##ta . провод ##ив меня к машине , сотрудник автос ##алона объяснил \u001b[31mмне\u001b[0m \u001b[31mкак\u001b[0m пользоваться бр ##ел ##ком дополнительно ##и сигнализации : \" если нажать на эту \u001b[31mкнопку\u001b[0m и немного подерж ##ать , двигатель завед ##ется ! \" нажим \u001b[31m##ает\u001b[0m . держит . не заводит ##ся . \" наверное это из - за вашего коллеги , котор ##ы ##и открыл заднюю дверь \u001b[31m,\u001b[0m пока я жал на кнопку \" . дверь закрыли , еще пару раз \u001b[31mпоставили\u001b[0m \u001b[31m-\u001b[0m сняли с охраны . снова не заводит ##ся . \" ы специально для вас \u001b[31mмашину\u001b[0m \u001b[31mвчера\u001b[0m \u001b[31mпом\u001b[0m ##ыли , а ночью \u001b[31mмороз\u001b[0m ударил ; \u001b[31mнаверное\u001b[0m \u001b[31mзамерз\u001b[0m \u001b[31m##ла\u001b[0m \" . менеджер \u001b[31mбыл\u001b[0m явно встревож ##ен \u001b[31m,\u001b[0m но держался молод ##цом , и я на самом деле поверил \u001b[31mего\u001b[0m удивлению неожиданно ##и наклад ##ке . на трети ##и раз gran \u001b[31m##ta\u001b[0m \u001b[31mзавела\u001b[0m ##сь ! для убедительно ##сти заглуш ##или мотор и повторили процедуру : двигатель ново ##и лад ##а без проблем запустил ##ся одним наж ##атием кнопки . впрочем \u001b[31m,\u001b[0m даже если бы трюк с бр ##елок ##ом не удался \u001b[31m,\u001b[0m претензии были бы не к автов ##азу , а к установ ##щикам доп ##оборуд ##ования , ведь сигнализация с дистанц ##ионным запуском идет как опция , причем не завод ##ская . я забрал ключи и попробовал \u001b[31mустроиться\u001b[0m \u001b[31mза\u001b[0m рулем gran ##ta . автомобиль \u001b[31mцвета\u001b[0m \" порт ##ве ##ин \" был в комплектации \u001b[31mнорма\u001b[0m за 260 000 рубл ##еи . поэтому в машине было все , чем на дан ##ны ##и момент ( максимальная комплекта ##ция люкс вы ##идет летом 2012 \u001b[31mгода\u001b[0m ) богата лад ##а гранта . например , кожан ##ы ##и салон , фирмен ##ны ##и сенс \u001b[31m##орн\u001b[0m ##ы ##и дисп ##леи \u001b[31mс\u001b[0m навиг \u001b[31m##аци\u001b[0m ##еи , люк на всю крышу \u001b[31m.\u001b[0m . . шу ##чу \u001b[31m,\u001b[0m конечно . если серьезно , то салон \u001b[31mможет\u001b[0m порад ##овать мягким \u001b[31m,\u001b[0m но не очень \u001b[31mудобным\u001b[0m \u001b[31mкресло\u001b[0m ##м , регулируем ##ым только по углу наклона спин ##ки и в продольно \u001b[31m##м\u001b[0m направлении . был даже бортов \u001b[31m##ои\u001b[0m компьютер \u001b[31m,\u001b[0m почему - то утвержд ##авш ##ии , что сред ##нии расход топлива 16 литров . дополнительная \u001b[31mмагнито\u001b[0m \u001b[31m##ла\u001b[0m избав \u001b[31m##ила\u001b[0m от необходимости видеть \u001b[31mпуст\u001b[0m ##ую полку в центрально ##и консоли . выж ##ал сцепление и прид ##вину ##лся на оптим ##альное расстояние \" по ногам \" , после чего понял , что к рул ##ю придется тянут ##ься . регулиров ##ка руля есть только по высоте , поэтому пришлось под ##од ##вига ##ть \n",
      "\n",
      "<class 'allennlp.interpret.saliency_interpreters.simple_gradient.SimpleGradient'> TEXT:\n",
      "\u001b[31mтест\u001b[0m - дра ##ив la ##da gran ##ta : новая надежда авто \u001b[31m##града\u001b[0m \u001b[31mфактически\u001b[0m , новая \u001b[31mla\u001b[0m \u001b[31m##da\u001b[0m gran ##ta - \u001b[31mэто\u001b[0m \u001b[31mстарая\u001b[0m \u001b[31mla\u001b[0m \u001b[31m##da\u001b[0m \u001b[31mka\u001b[0m \u001b[31m##lin\u001b[0m ##a плюс 400 новых дет ##але ##и . но назвать грант ##у всего лишь рест ##аи ##лингом калин ##ы язык не поверн ##ется . автомобиль деи ##ств ##ительно изменился и на самом деле стал лучше прежних продуктов автов ##аза . но \u001b[31mпоч\u001b[0m ##ивать на лав ##рах тольят ##тин ##цам еще рано . ko ##les ##a . \u001b[31mr\u001b[0m \u001b[31mu\u001b[0m выяснили , почему \u001b[31m.\u001b[0m сюрприз ##ы поджид \u001b[31m##али\u001b[0m еще до проб ##но ##и поездки на la ##da gran ##ta . провод ##ив меня \u001b[31mк\u001b[0m машине , сотрудник автос ##алона \u001b[31mобъяснил\u001b[0m \u001b[31mмне\u001b[0m как пользоваться бр ##ел ##ком дополнительно ##и сигнализации : \u001b[31m\"\u001b[0m если нажать на эту кнопку и немного подерж ##ать , двигатель завед ##ется ! \" нажим ##ает . держит . не заводит ##ся . \" наверное это из - за вашего коллеги , котор ##ы ##и открыл заднюю дверь , пока я жал на кнопку \" . дверь закрыли , еще пару \u001b[31mраз\u001b[0m поставили - сняли с охраны . снова не \u001b[31mзаводит\u001b[0m ##ся . \" ы специально для вас \u001b[31mмашину\u001b[0m вчера пом ##ыли , а ночью мороз ударил ; \u001b[31mнаверное\u001b[0m \u001b[31mзамерз\u001b[0m ##ла \" \u001b[31m.\u001b[0m \u001b[31mменеджер\u001b[0m \u001b[31mбыл\u001b[0m явно встревож \u001b[31m##ен\u001b[0m , но \u001b[31mдержался\u001b[0m \u001b[31mмолод\u001b[0m \u001b[31m##цом\u001b[0m , и я на самом деле поверил его удивлению неожиданно ##и наклад ##ке . на трети ##и раз gran \u001b[31m##ta\u001b[0m завела ##сь ! для убедительно ##сти заглуш ##или мотор и повторили процедуру : двигатель ново ##и лад ##а без проблем запустил ##ся одним наж ##атием кнопки . впрочем , даже если бы трюк с бр ##елок ##ом не удался , претензии были бы не к автов ##азу , а к установ ##щикам доп ##оборуд ##ования , ведь сигнализация с дистанц ##ионным запуском идет как опция , причем не завод ##ская . я забрал ключи и попробовал устроиться за рулем gran ##ta . автомобиль цвета \" порт ##ве ##ин \" был в комплектации норма за 260 000 рубл ##еи . поэтому в машине было все , чем на дан ##ны ##и момент ( максимальная комплекта ##ция люкс вы ##идет летом 2012 года ) богата лад ##а гранта . например , кожан ##ы ##и салон , фирмен ##ны ##и сенс \u001b[31m##орн\u001b[0m ##ы ##и дисп ##леи с навиг ##аци ##еи , люк на всю крышу . . . шу ##чу \u001b[31m,\u001b[0m конечно . если серьезно , то салон может \u001b[31mпорад\u001b[0m ##овать \u001b[31mмягким\u001b[0m , но не очень удобным кресло \u001b[31m##м\u001b[0m , регулируем \u001b[31m##ым\u001b[0m только по углу наклона спин ##ки и в продольно ##м направлении . был даже бортов ##ои компьютер , почему - то утвержд \u001b[31m##авш\u001b[0m \u001b[31m##ии\u001b[0m , что сред ##нии расход топлива \u001b[31m16\u001b[0m литров . \u001b[31mдополнительная\u001b[0m \u001b[31mмагнито\u001b[0m \u001b[31m##ла\u001b[0m избав \u001b[31m##ила\u001b[0m от необходимости видеть пуст \u001b[31m##ую\u001b[0m полку в центрально ##и консоли \u001b[31m.\u001b[0m выж ##ал сцепление и прид ##вину ##лся на оптим ##альное расстояние \" по ногам \" , после чего понял \u001b[31m,\u001b[0m что к рул ##ю придется тянут ##ься . регулиров ##ка руля есть только по высоте , поэтому пришлось под ##од ##вига ##ть \n",
      "\n",
      "<class 'allennlp.interpret.saliency_interpreters.integrated_gradient.IntegratedGradient'> TEXT:\n",
      "\u001b[31mтест\u001b[0m - дра ##ив la ##da gran ##ta : новая надежда авто \u001b[31m##града\u001b[0m фактически , новая la \u001b[31m##da\u001b[0m gran ##ta - это \u001b[31mстарая\u001b[0m la ##da ka ##lin ##a плюс 400 новых дет ##але ##и . но назвать грант ##у всего \u001b[31mлишь\u001b[0m \u001b[31mрест\u001b[0m ##аи ##лингом калин ##ы язык не поверн ##ется . автомобиль деи ##ств ##ительно изменился и на самом деле \u001b[31mстал\u001b[0m \u001b[31mлучше\u001b[0m \u001b[31mпрежних\u001b[0m продуктов автов ##аза . \u001b[31mно\u001b[0m \u001b[31mпоч\u001b[0m ##ивать на лав ##рах тольят ##тин ##цам еще \u001b[31mрано\u001b[0m . ko ##les ##a . r u выяснили , почему \u001b[31m.\u001b[0m сюрприз ##ы \u001b[31mподжид\u001b[0m ##али еще до проб ##но ##и поездки на la ##da gran ##ta . провод ##ив меня к машине , сотрудник автос ##алона объяснил мне как пользоваться бр ##ел ##ком дополнительно ##и сигнализации : \" если нажать на эту кнопку и немного подерж ##ать , \u001b[31mдвигатель\u001b[0m завед ##ется ! \" нажим ##ает . держит . не заводит ##ся . \" наверное это из - за вашего коллеги , котор ##ы ##и открыл заднюю дверь , \u001b[31mпока\u001b[0m я жал на кнопку \" \u001b[31m.\u001b[0m дверь \u001b[31mзакрыли\u001b[0m \u001b[31m,\u001b[0m \u001b[31mеще\u001b[0m пару раз поставили - сняли \u001b[31mс\u001b[0m охраны \u001b[31m.\u001b[0m \u001b[31mснова\u001b[0m не заводит \u001b[31m##ся\u001b[0m \u001b[31m.\u001b[0m \u001b[31m\"\u001b[0m \u001b[31mы\u001b[0m специально для вас \u001b[31mмашину\u001b[0m вчера пом ##ыли , \u001b[31mа\u001b[0m ночью мороз ударил ; наверное замерз ##ла \" . \u001b[31mменеджер\u001b[0m \u001b[31mбыл\u001b[0m явно встревож ##ен , но держался молод ##цом , и я на самом деле поверил его удивлению неожиданно ##и наклад ##ке . на трети ##и раз gran ##ta завела ##сь ! для убедительно ##сти заглуш ##или мотор и повторили процедуру : двигатель ново ##и лад ##а без проблем запустил ##ся одним наж ##атием кнопки . впрочем , даже если бы трюк с бр ##елок ##ом не удался , претензии были бы не к автов ##азу , а к установ ##щикам доп ##оборуд ##ования , ведь сигнализация с дистанц ##ионным запуском идет как опция , причем не завод ##ская . я забрал ключи и попробовал устроиться за рулем gran ##ta . автомобиль цвета \" порт ##ве ##ин \" был в комплектации \u001b[31mнорма\u001b[0m за 260 000 рубл ##еи . поэтому в машине было все , чем на дан ##ны ##и момент ( максимальная комплекта ##ция люкс вы ##идет летом 2012 \u001b[31mгода\u001b[0m ) богата лад ##а гранта . например , кожан \u001b[31m##ы\u001b[0m ##и салон , фирмен ##ны ##и \u001b[31mсенс\u001b[0m ##орн ##ы ##и дисп ##леи с навиг ##аци ##еи , люк на всю крышу . . . шу ##чу , конечно \u001b[31m.\u001b[0m \u001b[31mесли\u001b[0m серьезно \u001b[31m,\u001b[0m то салон может \u001b[31mпорад\u001b[0m ##овать мягким \u001b[31m,\u001b[0m \u001b[31mно\u001b[0m не \u001b[31mочень\u001b[0m \u001b[31mудобным\u001b[0m кресло ##м , регулируем ##ым только \u001b[31mпо\u001b[0m \u001b[31mуглу\u001b[0m наклона спин ##ки и в продольно ##м направлении . был даже бортов ##ои компьютер , почему - то утвержд ##авш ##ии , что сред ##нии расход топлива 16 литров . дополнительная магнито ##ла избав ##ила от необходимости видеть пуст ##ую полку в центрально ##и консоли . выж ##ал сцепление и прид ##вину ##лся на оптим ##альное расстояние \" по ногам \" , после чего понял , что к рул ##ю придется тянут ##ься . регулиров ##ка руля есть \u001b[31mтолько\u001b[0m по высоте \u001b[31m,\u001b[0m поэтому \u001b[31mпришлось\u001b[0m \u001b[31mпод\u001b[0m ##од ##вига ##ть \n",
      "\n"
     ]
    }
   ],
   "source": [
    "interpret_sentence(\n",
    "    sentences[mistake_ids[0]], dataset_reader.tokenizer, 50, \n",
    "    [smooth_grad, simple_grad, integrated_grad],\n",
    "    label_description[true_classes[mistake_ids[0]]],\n",
    "    label_description[predicted_classes[mistake_ids[0]]]\n",
    ")"
   ]
  },
  {
   "cell_type": "code",
   "execution_count": 21,
   "metadata": {},
   "outputs": [
    {
     "name": "stdout",
     "output_type": "stream",
     "text": [
      "TRUE LABEL: personal\n",
      "LABEL: eval\n",
      "<class 'allennlp.interpret.saliency_interpreters.smooth_gradient.SmoothGradient'> TEXT:\n",
      "я хотел бы рассказать немного о том , что мне нравится \u001b[31mписать\u001b[0m \u001b[31m.\u001b[0m я люблю погруж ##аться в тему \u001b[31m,\u001b[0m о котор ##ои пишу . мне нравится окун ##уться в тему с голово ##и и почувствовать себя таким подоп ##ыт ##ным кролик ##ом . я рассматрив ##аю свою жизнь как ряд экспериментов . ит ##ак , я работа ##ю в журнале \u001b[31mes\u001b[0m \u001b[31m##quir\u001b[0m \u001b[31m##e\u001b[0m , и пару лет назад я написал статью под названием \" аутсор \u001b[31m##синг\u001b[0m в мое ##и жизни \" ; я нанял группу люд ##еи в банг ##ало ##ре , инди ##я , чтобы они прожили мою жизнь за меня . и они просматр ##ивали за меня мою \u001b[31mэлектронную\u001b[0m почту \u001b[31mи\u001b[0m отвечали на письма . они отвечали на мои телефонные звонки . они спор ##или вместо меня с мое ##и жен ##ои и читали моему сыну сказки \u001b[31mна\u001b[0m ночь . это был луч ##ши ##и месяц мое \u001b[31m##и\u001b[0m жизни , потому что я просто сидел , читал книги и смотрел фильмы . это был чудес ##ны ##и опыт \u001b[31m.\u001b[0m позже , я написал \u001b[31mдля\u001b[0m es \u001b[31m##quir\u001b[0m ##e \u001b[31mстатью\u001b[0m - - о радикально ##и честности . это движение \u001b[31m,\u001b[0m \u001b[31mбыло\u001b[0m начато \u001b[31mпсихологом\u001b[0m из вир ##джин ##ии , котор ##ы ##и утверждал , что никогда , \u001b[31mни\u001b[0m при каких обстоятельствах не следует л ##гать , разве что во время игры \u001b[31mв\u001b[0m покер и гольф - только это исключение он сделал . и , более того , вообще все то , что у тебя на уме , должно быть и на языке . я решил не л ##гать в течение месяца . это был худ ##ши ##и месяц мое ##и жизни . ( смех \u001b[31m)\u001b[0m я никому не совету ##ю это повторять . чтобы вы поняли , что это за жизнь , скажу , что статья \u001b[31mназывалась\u001b[0m \" по - моему , ты толстая \" . ( смех ) это было тяжело . моя последняя \u001b[31mкнига\u001b[0m — до нее была \u001b[31mкнига\u001b[0m под названием \" хочу все знать \" , она о год ##е , котор ##ы ##и я провел , читая \u001b[31mбританскую\u001b[0m \u001b[31mэнциклопедию\u001b[0m \u001b[31mот\u001b[0m a до z \u001b[31m,\u001b[0m чтобы узнать все обо всем во всем мире , или , если быть точнее , от a - ak , вида восточно ##азиат \u001b[31m##ско\u001b[0m ##и музыки , и до z ##w ##yi \u001b[31m##ec\u001b[0m \u001b[31m—\u001b[0m не скажу \u001b[31mчто\u001b[0m это , не буду \u001b[31mпорт\u001b[0m ##ить сюрприз \u001b[31m.\u001b[0m ( смех ) там очень \u001b[31mувлек\u001b[0m \u001b[31m##ательная\u001b[0m вит \u001b[31m##иева\u001b[0m ##тая концовка , прямо как в произведениях \u001b[31mо\u001b[0m ' \u001b[31mген\u001b[0m ##ри , и поэтому не хочется \u001b[31mее\u001b[0m порт \u001b[31m##ить\u001b[0m . но \u001b[31mмне\u001b[0m этот \u001b[31mэксперимент\u001b[0m \u001b[31mпонравился\u001b[0m \u001b[31m,\u001b[0m потому что он \u001b[31mпоказывал\u001b[0m , как много информации может воб ##рать \u001b[31mв\u001b[0m себя один человеческ \u001b[31m##ии\u001b[0m мозг , несмотря на то , что к ##еви ##н кел ##ли рекомендует \u001b[31mнам\u001b[0m ничего не запомина ##ть вообще . вы можете просто \" прог ##угли ##ть \" этот вопрос . поэтому я потратил \u001b[31mнемного\u001b[0m времени на это . мне нравятся эти эксперименты , но я считаю самым важным и даже поворотным в жизни мои сам ##ы ##и послед ##нии эксперимент , во время которого я \n",
      "\n",
      "<class 'allennlp.interpret.saliency_interpreters.simple_gradient.SimpleGradient'> TEXT:\n",
      "\u001b[31mя\u001b[0m хотел бы рассказать немного о том , что мне нравится \u001b[31mписать\u001b[0m . я люблю погруж ##аться в тему , о котор ##ои пишу . мне нравится \u001b[31mокун\u001b[0m ##уться в тему с голово ##и и почувствовать себя таким подоп ##ыт ##ным кролик ##ом . я рассматрив ##аю свою жизнь как ряд экспериментов . ит ##ак , я работа ##ю в журнале es \u001b[31m##quir\u001b[0m \u001b[31m##e\u001b[0m , и пару лет назад я написал статью под названием \" аутсор ##синг в мое ##и жизни \" ; я нанял группу люд ##еи в банг ##ало ##ре , инди ##я , чтобы они прожили мою \u001b[31mжизнь\u001b[0m за меня . \u001b[31mи\u001b[0m они просматр ##ивали за меня мою электронную \u001b[31mпочту\u001b[0m и отвечали на письма . \u001b[31mони\u001b[0m отвечали на мои телефонные звонки \u001b[31m.\u001b[0m они спор ##или вместо меня с мое ##и жен ##ои и читали моему сыну сказки на ночь . это был луч ##ши ##и месяц мое ##и жизни , потому что я просто сидел , читал книги и смотрел фильмы \u001b[31m.\u001b[0m это был чудес ##ны ##и опыт . позже \u001b[31m,\u001b[0m я написал \u001b[31mдля\u001b[0m es \u001b[31m##quir\u001b[0m \u001b[31m##e\u001b[0m статью - - о радикально ##и честности . \u001b[31mэто\u001b[0m \u001b[31mдвижение\u001b[0m , было начато психологом из вир ##джин ##ии , \u001b[31mкотор\u001b[0m \u001b[31m##ы\u001b[0m ##и утверждал , \u001b[31mчто\u001b[0m никогда , \u001b[31mни\u001b[0m при каких обстоятельствах не следует л ##гать , разве \u001b[31mчто\u001b[0m во время игры в покер и гольф - только это исключение он сделал . и , более того , вообще все то , что у тебя на уме , должно быть и на языке . я решил не л ##гать в течение месяца . это был худ ##ши ##и месяц мое ##и жизни . ( смех ) \u001b[31mя\u001b[0m никому не совету ##ю это повторять . чтобы вы поняли , что это за жизнь , скажу , что статья называлась \" по - моему , ты толстая \" . ( смех ) это было тяжело . моя последняя \u001b[31mкнига\u001b[0m — \u001b[31mдо\u001b[0m нее была книга под названием \" хочу все знать \" , она о год ##е , котор ##ы ##и я провел , читая британскую энциклопедию от a до z , чтобы узнать все обо всем во всем мире , или , если быть точнее , от a \u001b[31m-\u001b[0m ak , вида восточно ##азиат \u001b[31m##ско\u001b[0m ##и музыки , и до z ##w ##yi ##ec \u001b[31m—\u001b[0m не скажу что это , не буду порт ##ить сюрприз . \u001b[31m(\u001b[0m смех ) там очень \u001b[31mувлек\u001b[0m \u001b[31m##ательная\u001b[0m вит ##иева \u001b[31m##тая\u001b[0m концовка \u001b[31m,\u001b[0m прямо \u001b[31mкак\u001b[0m в \u001b[31mпроизведениях\u001b[0m \u001b[31mо\u001b[0m \u001b[31m'\u001b[0m ген \u001b[31m##ри\u001b[0m , и поэтому не хочется ее порт \u001b[31m##ить\u001b[0m . но \u001b[31mмне\u001b[0m \u001b[31mэтот\u001b[0m \u001b[31mэксперимент\u001b[0m \u001b[31mпонравился\u001b[0m \u001b[31m,\u001b[0m \u001b[31mпотому\u001b[0m что он \u001b[31mпоказывал\u001b[0m , как много информации может воб ##рать в себя один человеческ ##ии мозг , несмотря на то , что \u001b[31mк\u001b[0m ##еви ##н кел ##ли рекомендует \u001b[31mнам\u001b[0m ничего не запомина ##ть вообще . вы можете просто \" прог ##угли ##ть \" этот вопрос . поэтому я потратил немного времени на это . мне нравятся \u001b[31mэти\u001b[0m эксперименты , но я считаю самым важным и даже поворотным в жизни мои сам ##ы ##и послед ##нии эксперимент , во время которого я \n",
      "\n",
      "<class 'allennlp.interpret.saliency_interpreters.integrated_gradient.IntegratedGradient'> TEXT:\n",
      "\u001b[31mя\u001b[0m хотел бы рассказать немного \u001b[31mо\u001b[0m том , что мне нравится \u001b[31mписать\u001b[0m . я люблю погруж ##аться в тему , о котор ##ои пишу . мне нравится \u001b[31mокун\u001b[0m ##уться в тему с голово ##и и почувствовать себя таким подоп ##ыт ##ным кролик ##ом . я рассматрив ##аю свою жизнь как ряд экспериментов . ит ##ак , я работа \u001b[31m##ю\u001b[0m в журнале \u001b[31mes\u001b[0m ##quir ##e , и пару \u001b[31mлет\u001b[0m назад я написал статью под названием \" аутсор ##синг в мое ##и жизни \" ; я нанял \u001b[31mгруппу\u001b[0m люд ##еи в банг ##ало ##ре , инди ##я , чтобы они прожили мою жизнь за меня . и они просматр \u001b[31m##ивали\u001b[0m за меня мою электронную \u001b[31mпочту\u001b[0m и отвечали на письма . \u001b[31mони\u001b[0m отвечали на мои телефонные звонки . \u001b[31mони\u001b[0m спор ##или вместо меня с мое ##и жен ##ои \u001b[31mи\u001b[0m читали \u001b[31mмоему\u001b[0m сыну сказки на ночь . это \u001b[31mбыл\u001b[0m луч ##ши ##и месяц мое ##и жизни , потому что я просто сидел , читал книги и смотрел фильмы \u001b[31m.\u001b[0m это был чудес ##ны ##и опыт . \u001b[31mпозже\u001b[0m , я \u001b[31mнаписал\u001b[0m для es \u001b[31m##quir\u001b[0m \u001b[31m##e\u001b[0m \u001b[31mстатью\u001b[0m - \u001b[31m-\u001b[0m о \u001b[31mрадикально\u001b[0m \u001b[31m##и\u001b[0m \u001b[31mчестности\u001b[0m . это \u001b[31mдвижение\u001b[0m \u001b[31m,\u001b[0m было начато психологом из вир ##джин ##ии , котор \u001b[31m##ы\u001b[0m ##и утверждал , что никогда , ни при каких обстоятельствах не следует л ##гать , разве что во время игры \u001b[31mв\u001b[0m покер \u001b[31mи\u001b[0m гольф - только это исключение он сделал . и , более того , вообще все то , что у тебя на уме , должно быть и на языке . я решил не л ##гать в течение месяца . это был худ ##ши ##и месяц мое ##и жизни . \u001b[31m(\u001b[0m смех ) я никому не совету ##ю это повторять . чтобы вы поняли , что это за жизнь , скажу , что статья называлась \" по - моему , ты толстая \" . ( смех ) это было тяжело . моя последняя книга — до нее была книга под названием \" хочу все знать \" , она о год ##е , котор ##ы ##и я провел , читая британскую энциклопедию от a до z , чтобы узнать все обо всем во всем мире , или , \u001b[31mесли\u001b[0m быть точнее , от a - ak , вида \u001b[31mвосточно\u001b[0m \u001b[31m##азиат\u001b[0m \u001b[31m##ско\u001b[0m ##и музыки \u001b[31m,\u001b[0m \u001b[31mи\u001b[0m до \u001b[31mz\u001b[0m ##w ##yi ##ec — не скажу что это , не буду порт ##ить сюрприз . ( смех \u001b[31m)\u001b[0m там очень \u001b[31mувлек\u001b[0m ##ательная вит ##иева ##тая \u001b[31mконцовка\u001b[0m , прямо как в произведениях \u001b[31mо\u001b[0m ' \u001b[31mген\u001b[0m ##ри , и поэтому не хочется ее порт ##ить \u001b[31m.\u001b[0m но мне этот эксперимент \u001b[31mпонравился\u001b[0m \u001b[31m,\u001b[0m потому что он показывал , как много информации может воб ##рать в себя один человеческ ##ии мозг , несмотря на то , что \u001b[31mк\u001b[0m ##еви ##н кел ##ли рекомендует нам ничего не запомина ##ть вообще . вы можете \u001b[31mпросто\u001b[0m \" прог ##угли ##ть \" этот вопрос . поэтому я потратил немного времени на это . мне нравятся \u001b[31mэти\u001b[0m эксперименты , но я считаю самым важным и даже поворотным в жизни мои сам ##ы ##и послед ##нии эксперимент , во время которого я \n",
      "\n"
     ]
    }
   ],
   "source": [
    "interpret_sentence(\n",
    "    sentences[mistake_ids[1]], dataset_reader.tokenizer, 50, \n",
    "    [smooth_grad, simple_grad, integrated_grad],\n",
    "    label_description[true_classes[mistake_ids[1]]],\n",
    "    label_description[predicted_classes[mistake_ids[1]]]\n",
    ")"
   ]
  },
  {
   "cell_type": "code",
   "execution_count": 22,
   "metadata": {},
   "outputs": [
    {
     "name": "stdout",
     "output_type": "stream",
     "text": [
      "TRUE LABEL: research\n",
      "LABEL: argum\n",
      "<class 'allennlp.interpret.saliency_interpreters.smooth_gradient.SmoothGradient'> TEXT:\n",
      "\u001b[31mкогда\u001b[0m мы смотри \u001b[31m##м\u001b[0m новости , мы видим сообщения из ирак \u001b[31m##а\u001b[0m , афган ##истана , с ##ьерра \u001b[31m-\u001b[0m ле ##оне , и кажется , что эти \u001b[31mконфликты\u001b[0m невозможно понять . именно так я и думал , когда начинал этот проект \u001b[31m.\u001b[0m но я физик \u001b[31m,\u001b[0m и поэтому решил на ##ити данные и попробовать разобраться . просто попробовать . ну и как на ##ив ##ны ##и новозеланд \u001b[31m##ец\u001b[0m я подумал , что по ##иду в пента \u001b[31m##гон\u001b[0m . не могли бы вы поделиться \u001b[31mсо\u001b[0m мн ##ои \u001b[31mинформ\u001b[0m ##аци ##еи ? ( смех ) нет . поэтому пришлось задуматься \u001b[31mпос\u001b[0m ##ерьез ##нее . и вот однажды вечером в оксфорд \u001b[31m##е\u001b[0m я смотрел новости . и обратил внимание на экран \u001b[31mпод\u001b[0m говоря ##щи ##ми головами \u001b[31m.\u001b[0m и обнаружил там информацию . там были данные , в ль ##ющихся на нас потока \u001b[31m##х\u001b[0m новост ##еи . весь шум вокруг нас деи ##ств ##ительно содержит информацию . и мне пришла в голову мысль организовать \u001b[31mнечто\u001b[0m вроде разведки по открытым источникам . если ском ##бин ##ировать данные изо всех этих потоков , возможно , мы сможем понять воин \u001b[31m##у\u001b[0m . именно так я и поступил \u001b[31m.\u001b[0m мы начали собирать команду \u001b[31m,\u001b[0m междисциплин ##арную \u001b[31mкоманду\u001b[0m ученых \u001b[31m,\u001b[0m экономистов , математиков . мы собрали этих ребят , и начали работу над проблем ##ои . в работе было три этапа . перв ##ы ##и — собрать данные . мы обработал ##и 130 источников информации : от отчетов ng ##o до газет и теленов \u001b[31m##ост\u001b[0m ##еи . мы собрали эти данные и от ##филь ##тр ##овали их . достал \u001b[31m##и\u001b[0m из них важные для наше ##и базы данных кусочки . в это ##и базе было время атак , координаты , масштаб и тип использован ##ного оружия . все это есть в ежедневных новостях , нужно просто уметь извлекать это . ну а когда мы накоп ##или базу , мы занялись класс ##ными штук ##ами . что если изучить распределение масштабов \u001b[31mатак\u001b[0m ? что мы там обнаруж ##им ? этим мы и занялись . тут вы можете видеть , что по горизонтально ##и оси отложено количество жертв атаки — масштаб атаки . а по вертикально ##и оси — количество атак . мы построили график масштабов атак . вы видит ##е как будто бы случаи ##ное распределение \u001b[31m:\u001b[0m например , в 67 атаках было убито по одному человеку \u001b[31m,\u001b[0m а в 47 — по семеро . вот так ##ои график \u001b[31mмы\u001b[0m построили для ирак \u001b[31m##а\u001b[0m \u001b[31m.\u001b[0m тогда мы \u001b[31mеще\u001b[0m \u001b[31mне\u001b[0m знали \u001b[31m,\u001b[0m что мы обнаруж \u001b[31m##им\u001b[0m . наша \u001b[31mнаходка\u001b[0m \u001b[31mочень\u001b[0m впечатл \u001b[31m##яет\u001b[0m . казалось бы , конфликт , весь этот хаос , весь этот шум \u001b[31m,\u001b[0m и из этого появляется точное математическое \u001b[31mраспределение\u001b[0m атак \u001b[31mэтого\u001b[0m конфликта \u001b[31m.\u001b[0m это взрыва ##ет мозг . откуда в \u001b[31mконфликте\u001b[0m типа иракского \u001b[31mтакая\u001b[0m вот математика ? откуда в воин ##е взяться порядку ? мы этого не понимали . мы думали , что может быть в ирак \u001b[31m##е\u001b[0m есть что - то особенное . и мы изучили еще несколько конфликтов . мы прис ##мотре \u001b[31m##лись\u001b[0m к колумб \u001b[31m##ии\u001b[0m , афган \u001b[31m##истан\u001b[0m \u001b[31m##у\u001b[0m и сенег \u001b[31m##алу\u001b[0m . в \n",
      "\n",
      "<class 'allennlp.interpret.saliency_interpreters.simple_gradient.SimpleGradient'> TEXT:\n",
      "\u001b[31mкогда\u001b[0m мы смотри ##м новости , мы видим сообщения из ирак ##а , афган ##истана , с ##ьерра \u001b[31m-\u001b[0m ле ##оне , и кажется \u001b[31m,\u001b[0m что эти конфликты \u001b[31mневозможно\u001b[0m понять . именно так я и думал , когда начинал этот проект . но я физик \u001b[31m,\u001b[0m и поэтому решил на ##ити данные и попробовать разобраться . просто попробовать . ну и как на ##ив ##ны ##и новозеланд ##ец я подумал , что по ##иду в пента ##гон . не могли бы вы поделиться со мн ##ои информ ##аци ##еи ? ( смех ) \u001b[31mнет\u001b[0m . поэтому пришлось задуматься пос ##ерьез ##нее . и вот однажды вечером в оксфорд \u001b[31m##е\u001b[0m я смотрел новости . и обратил внимание на экран под говоря ##щи ##ми головами . и обнаружил там информацию . там были данные , в ль ##ющихся на нас потока ##х новост ##еи . весь шум вокруг нас деи ##ств ##ительно содержит информацию . и мне пришла в голову мысль организовать нечто вроде разведки по открытым источникам . если ском ##бин ##ировать данные изо всех этих потоков , возможно \u001b[31m,\u001b[0m мы сможем понять воин \u001b[31m##у\u001b[0m \u001b[31m.\u001b[0m именно так я и поступил . мы начали собирать команду , междисциплин ##арную \u001b[31mкоманду\u001b[0m ученых \u001b[31m,\u001b[0m экономистов \u001b[31m,\u001b[0m математиков . мы собрали этих ребят , и начали работу над проблем ##ои . \u001b[31mв\u001b[0m работе было три \u001b[31mэтапа\u001b[0m . перв ##ы ##и — собрать данные . мы обработал ##и 130 источников информации : от отчетов ng ##o до газет и теленов ##ост ##еи . мы собрали эти данные и от ##филь ##тр ##овали их . достал \u001b[31m##и\u001b[0m из них важные для наше ##и базы данных кусочки . в это ##и базе было время атак , координаты , масштаб и тип использован ##ного оружия . все это есть в ежедневных новостях , нужно просто уметь извлекать это . ну а когда мы накоп ##или базу , мы занялись класс ##ными штук ##ами . что если изучить распределение масштабов атак ? что мы там обнаруж ##им ? этим мы и занялись . тут вы можете видеть , что по горизонтально ##и оси отложено количество жертв атаки — масштаб атаки . а по вертикально ##и оси — количество атак . мы построили график масштабов атак . вы видит ##е как будто бы случаи ##ное распределение : например , в 67 атаках \u001b[31mбыло\u001b[0m \u001b[31mубито\u001b[0m по одному человеку , а в 47 \u001b[31m—\u001b[0m по семеро . вот так ##ои график мы \u001b[31mпостроили\u001b[0m \u001b[31mдля\u001b[0m \u001b[31mирак\u001b[0m \u001b[31m##а\u001b[0m . \u001b[31mтогда\u001b[0m мы еще \u001b[31mне\u001b[0m знали , что мы \u001b[31mобнаруж\u001b[0m ##им . наша \u001b[31mнаходка\u001b[0m очень \u001b[31mвпечатл\u001b[0m \u001b[31m##яет\u001b[0m \u001b[31m.\u001b[0m казалось бы , конфликт \u001b[31m,\u001b[0m весь этот хаос , весь этот шум , и из этого появляется точное математическое распределение \u001b[31mатак\u001b[0m \u001b[31mэтого\u001b[0m конфликта \u001b[31m.\u001b[0m это взрыва ##ет мозг \u001b[31m.\u001b[0m \u001b[31mоткуда\u001b[0m в \u001b[31mконфликте\u001b[0m \u001b[31mтипа\u001b[0m \u001b[31mиракского\u001b[0m \u001b[31mтакая\u001b[0m вот математика ? откуда в воин ##е взяться порядку ? мы этого не понимали \u001b[31m.\u001b[0m мы думали , что может быть в ирак \u001b[31m##е\u001b[0m есть что - то особенное . и мы изучили еще несколько конфликтов . мы прис ##мотре \u001b[31m##лись\u001b[0m к колумб \u001b[31m##ии\u001b[0m , афган \u001b[31m##истан\u001b[0m \u001b[31m##у\u001b[0m и сенег \u001b[31m##алу\u001b[0m . \u001b[31mв\u001b[0m \n",
      "\n",
      "<class 'allennlp.interpret.saliency_interpreters.integrated_gradient.IntegratedGradient'> TEXT:\n",
      "\u001b[31mкогда\u001b[0m \u001b[31mмы\u001b[0m \u001b[31mсмотри\u001b[0m ##м новости , мы видим сообщения из ирак \u001b[31m##а\u001b[0m , афган ##истана , с ##ьерра \u001b[31m-\u001b[0m ле ##оне , и кажется , что эти конфликты \u001b[31mневозможно\u001b[0m понять . именно так я и думал , когда начинал этот проект \u001b[31m.\u001b[0m но \u001b[31mя\u001b[0m физик \u001b[31m,\u001b[0m и поэтому решил на ##ити данные \u001b[31mи\u001b[0m попробовать \u001b[31mразобраться\u001b[0m . просто попробовать \u001b[31m.\u001b[0m ну и как на ##ив ##ны ##и новозеланд ##ец я \u001b[31mподумал\u001b[0m , что по ##иду в пента ##гон . \u001b[31mне\u001b[0m \u001b[31mмогли\u001b[0m бы вы поделиться со мн ##ои информ ##аци ##еи ? ( смех ) нет . поэтому пришлось задуматься пос ##ерьез ##нее . и вот однажды вечером в оксфорд \u001b[31m##е\u001b[0m я смотрел новости \u001b[31m.\u001b[0m \u001b[31mи\u001b[0m обратил \u001b[31mвнимание\u001b[0m \u001b[31mна\u001b[0m экран под говоря ##щи ##ми головами . и обнаружил там информацию . там были данные \u001b[31m,\u001b[0m в ль ##ющихся на нас потока ##х \u001b[31mновост\u001b[0m ##еи . весь шум вокруг нас деи ##ств ##ительно содержит информацию . и мне пришла в голову мысль организовать нечто вроде разведки по открытым источникам . если ском ##бин ##ировать \u001b[31mданные\u001b[0m изо \u001b[31mвсех\u001b[0m этих потоков \u001b[31m,\u001b[0m возможно , мы сможем понять \u001b[31mвоин\u001b[0m ##у . именно так я \u001b[31mи\u001b[0m \u001b[31mпоступил\u001b[0m \u001b[31m.\u001b[0m мы начали \u001b[31mсобирать\u001b[0m \u001b[31mкоманду\u001b[0m \u001b[31m,\u001b[0m \u001b[31mмеждисциплин\u001b[0m \u001b[31m##арную\u001b[0m команду \u001b[31mученых\u001b[0m , экономистов , математиков . мы собрали этих \u001b[31mребят\u001b[0m , и начали работу \u001b[31mнад\u001b[0m проблем ##ои . в работе было три этапа . перв ##ы ##и — собрать данные . мы обработал ##и 130 источников информации : от отчетов ng ##o до газет и теленов ##ост ##еи . мы собрали эти данные и от ##филь ##тр ##овали их . достал ##и из них важные для наше ##и базы данных кусочки . в это ##и базе было время атак , координаты , масштаб и тип использован ##ного оружия . все это есть в ежедневных новостях , нужно просто уметь извлекать это . ну а когда мы накоп ##или базу , мы занялись класс ##ными штук ##ами . что если изучить распределение масштабов атак ? что мы там обнаруж ##им ? этим мы и занялись . тут вы можете видеть , что по горизонтально ##и оси отложено количество жертв атаки — масштаб атаки . а по вертикально ##и оси — количество атак . мы построили график масштабов атак . \u001b[31mвы\u001b[0m видит ##е как \u001b[31mбудто\u001b[0m \u001b[31mбы\u001b[0m \u001b[31mслучаи\u001b[0m ##ное распределение : \u001b[31mнапример\u001b[0m , \u001b[31mв\u001b[0m 67 атаках было убито \u001b[31mпо\u001b[0m одному человеку , а в 47 \u001b[31m—\u001b[0m по семеро . вот так ##ои график мы построили для ирак ##а . \u001b[31mтогда\u001b[0m мы еще не знали , что мы \u001b[31mобнаруж\u001b[0m ##им . наша находка очень впечатл ##яет . казалось бы , конфликт , весь этот хаос , весь этот шум , и из этого появляется точное математическое распределение атак этого конфликта . это взрыва ##ет мозг . откуда в конфликте типа иракского такая вот математика ? откуда в воин \u001b[31m##е\u001b[0m взяться порядку ? мы этого не понимали . мы думали , что может быть в ирак ##е есть что - то особенное . и мы изучили еще несколько конфликтов . \u001b[31mмы\u001b[0m прис ##мотре ##лись к колумб ##ии , афган ##истан ##у и сенег ##алу . в \n",
      "\n"
     ]
    }
   ],
   "source": [
    "interpret_sentence(\n",
    "    sentences[mistake_ids[2]], dataset_reader.tokenizer, 50, \n",
    "    [smooth_grad, simple_grad, integrated_grad],\n",
    "    label_description[true_classes[mistake_ids[2]]],\n",
    "    label_description[predicted_classes[mistake_ids[2]]]\n",
    ")"
   ]
  }
 ],
 "metadata": {
  "kernelspec": {
   "display_name": "Python 3",
   "language": "python",
   "name": "python3"
  },
  "language_info": {
   "codemirror_mode": {
    "name": "ipython",
    "version": 3
   },
   "file_extension": ".py",
   "mimetype": "text/x-python",
   "name": "python",
   "nbconvert_exporter": "python",
   "pygments_lexer": "ipython3",
   "version": "3.8.3"
  }
 },
 "nbformat": 4,
 "nbformat_minor": 4
}
