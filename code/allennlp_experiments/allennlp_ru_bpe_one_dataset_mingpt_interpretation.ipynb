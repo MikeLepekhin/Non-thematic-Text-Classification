{
 "cells": [
  {
   "cell_type": "code",
   "execution_count": 1,
   "metadata": {},
   "outputs": [],
   "source": [
    "from os.path import join as pathjoin\n",
    "from data_processing import *\n",
    "from interpretation import *\n",
    "from models import *\n",
    "from training import *"
   ]
  },
  {
   "cell_type": "code",
   "execution_count": 2,
   "metadata": {},
   "outputs": [],
   "source": [
    "DATA_DIR = '/home/mlepekhin/data/min_gpt_bpe'\n",
    "MODELS_DIR = '/home/mlepekhin/models'\n",
    "MODEL_ID = 'allennlp_rubert'\n",
    "CHECKPOINTS_DIR = pathjoin(MODELS_DIR, MODEL_ID, 'checkpoints')\n",
    "BEST_MODEL = pathjoin(CHECKPOINTS_DIR, 'best.th')"
   ]
  },
  {
   "cell_type": "code",
   "execution_count": 3,
   "metadata": {},
   "outputs": [],
   "source": [
    "transformer_model = 'DeepPavlov/rubert-base-cased'\n",
    "MAX_TOKENS = 512"
   ]
  },
  {
   "cell_type": "markdown",
   "metadata": {},
   "source": [
    "### Loading of the pretrained model"
   ]
  },
  {
   "cell_type": "code",
   "execution_count": 4,
   "metadata": {},
   "outputs": [
    {
     "name": "stdout",
     "output_type": "stream",
     "text": [
      "Building the model\n"
     ]
    }
   ],
   "source": [
    "vocab = Vocabulary().from_files(pathjoin(MODELS_DIR, MODEL_ID, 'vocab'))\n",
    "model = build_transformer_model(vocab, transformer_model)"
   ]
  },
  {
   "cell_type": "code",
   "execution_count": 5,
   "metadata": {},
   "outputs": [
    {
     "name": "stdout",
     "output_type": "stream",
     "text": [
      "{0: 'A8', 1: 'A12', 2: 'A1', 3: 'A14', 4: 'A11', 5: 'A17', 6: 'A16', 7: 'A4', 8: 'A9', 9: 'A7'}\n",
      "dict_values(['A8', 'A12', 'A1', 'A14', 'A11', 'A17', 'A16', 'A4', 'A9', 'A7'])\n"
     ]
    }
   ],
   "source": [
    "id_to_label = vocab.get_index_to_token_vocabulary('labels')\n",
    "print(id_to_label)\n",
    "print(id_to_label.values())"
   ]
  },
  {
   "cell_type": "code",
   "execution_count": 6,
   "metadata": {},
   "outputs": [
    {
     "name": "stdout",
     "output_type": "stream",
     "text": [
      "1\n"
     ]
    },
    {
     "data": {
      "text/plain": [
       "<All keys matched successfully>"
      ]
     },
     "execution_count": 6,
     "metadata": {},
     "output_type": "execute_result"
    }
   ],
   "source": [
    "if torch.cuda.is_available():\n",
    "    cuda_device = 1\n",
    "else:\n",
    "    cuda_device = -1\n",
    "print(cuda_device)\n",
    "model.load_state_dict(torch.load(BEST_MODEL, map_location=f'cuda:{cuda_device}'))"
   ]
  },
  {
   "cell_type": "markdown",
   "metadata": {},
   "source": [
    "### Data loading"
   ]
  },
  {
   "cell_type": "code",
   "execution_count": 36,
   "metadata": {},
   "outputs": [
    {
     "data": {
      "text/html": [
       "<div>\n",
       "<style scoped>\n",
       "    .dataframe tbody tr th:only-of-type {\n",
       "        vertical-align: middle;\n",
       "    }\n",
       "\n",
       "    .dataframe tbody tr th {\n",
       "        vertical-align: top;\n",
       "    }\n",
       "\n",
       "    .dataframe thead th {\n",
       "        text-align: right;\n",
       "    }\n",
       "</style>\n",
       "<table border=\"1\" class=\"dataframe\">\n",
       "  <thead>\n",
       "    <tr style=\"text-align: right;\">\n",
       "      <th></th>\n",
       "      <th>Unnamed: 0</th>\n",
       "      <th>target</th>\n",
       "      <th>text</th>\n",
       "    </tr>\n",
       "  </thead>\n",
       "  <tbody>\n",
       "    <tr>\n",
       "      <th>0</th>\n",
       "      <td>0</td>\n",
       "      <td>A4</td>\n",
       "      <td>глава ii .   и все же , конечно , были предчу...</td>\n",
       "    </tr>\n",
       "    <tr>\n",
       "      <th>1</th>\n",
       "      <td>1</td>\n",
       "      <td>A4</td>\n",
       "      <td>глава xvii : уаи обеспечивает в 15 - 74 22 . ...</td>\n",
       "    </tr>\n",
       "    <tr>\n",
       "      <th>2</th>\n",
       "      <td>2</td>\n",
       "      <td>A4</td>\n",
       "      <td>глава xvii : \" вот , дети , наверное , и друг...</td>\n",
       "    </tr>\n",
       "    <tr>\n",
       "      <th>3</th>\n",
       "      <td>3</td>\n",
       "      <td>A4</td>\n",
       "      <td>глава xvii : братья и сестры , дети , которые...</td>\n",
       "    </tr>\n",
       "    <tr>\n",
       "      <th>4</th>\n",
       "      <td>4</td>\n",
       "      <td>A4</td>\n",
       "      <td>ibc 1 1 - ds - oil # &lt; p &gt; 192 &lt; br / &gt; наиди...</td>\n",
       "    </tr>\n",
       "  </tbody>\n",
       "</table>\n",
       "</div>"
      ],
      "text/plain": [
       "   Unnamed: 0 target                                               text\n",
       "0           0     A4   глава ii .   и все же , конечно , были предчу...\n",
       "1           1     A4   глава xvii : уаи обеспечивает в 15 - 74 22 . ...\n",
       "2           2     A4   глава xvii : \" вот , дети , наверное , и друг...\n",
       "3           3     A4   глава xvii : братья и сестры , дети , которые...\n",
       "4           4     A4   ibc 1 1 - ds - oil # < p > 192 < br / > наиди..."
      ]
     },
     "execution_count": 36,
     "metadata": {},
     "output_type": "execute_result"
    }
   ],
   "source": [
    "ru_test_df = pd.read_csv(pathjoin(DATA_DIR, 'ru_one_dataset'))\n",
    "ru_test_df.head()"
   ]
  },
  {
   "cell_type": "code",
   "execution_count": 37,
   "metadata": {},
   "outputs": [],
   "source": [
    "true_classes = ru_test_df.target.values\n",
    "sentences = ru_test_df.text.values"
   ]
  },
  {
   "cell_type": "markdown",
   "metadata": {},
   "source": [
    "### Preliminary analysis"
   ]
  },
  {
   "cell_type": "code",
   "execution_count": 38,
   "metadata": {},
   "outputs": [],
   "source": [
    "dataset_reader = build_transformer_dataset_reader(transformer_model, MAX_TOKENS)\n",
    "predictor = TextClassifierPredictor(model, dataset_reader=dataset_reader)\n",
    "predicted_classes = np.array(predict_classes(sentences, predictor, vocab))"
   ]
  },
  {
   "cell_type": "code",
   "execution_count": 39,
   "metadata": {},
   "outputs": [
    {
     "name": "stdout",
     "output_type": "stream",
     "text": [
      "<class 'numpy.ndarray'>\n"
     ]
    }
   ],
   "source": [
    "print(type(predicted_classes == 'A1'))"
   ]
  },
  {
   "cell_type": "code",
   "execution_count": 40,
   "metadata": {},
   "outputs": [
    {
     "name": "stdout",
     "output_type": "stream",
     "text": [
      "10\n"
     ]
    }
   ],
   "source": [
    "print(len(np.unique(true_classes)))"
   ]
  },
  {
   "cell_type": "code",
   "execution_count": 41,
   "metadata": {},
   "outputs": [
    {
     "name": "stdout",
     "output_type": "stream",
     "text": [
      "label (argum) f1_score 0.36585365853658536 precision 0.75 recall 0.24193548387096775\n",
      "label (fictive) f1_score 0.2222222222222222 precision 0.15 recall 0.42857142857142855\n",
      "label (instruct) f1_score 0.7083333333333333 precision 0.85 recall 0.6071428571428571\n",
      "label (reporting) f1_score 0.6538461538461537 precision 0.85 recall 0.53125\n",
      "label (legal) f1_score 0.68 precision 0.85 recall 0.5666666666666667\n",
      "label (personal) f1_score 0.5625000000000001 precision 0.45 recall 0.75\n",
      "label (commercial) f1_score 0.33333333333333337 precision 0.2 recall 1.0\n",
      "label (research) f1_score 0.55 precision 0.55 recall 0.55\n",
      "label (info) f1_score 0.0 precision 0.0 recall 0.0\n",
      "label (eval) f1_score 0.1739130434782609 precision 0.1 recall 0.6666666666666666\n",
      "accuracy 0.475\n"
     ]
    }
   ],
   "source": [
    "calc_classifier_metrics(predicted_classes, true_classes)"
   ]
  },
  {
   "cell_type": "code",
   "execution_count": 42,
   "metadata": {},
   "outputs": [
    {
     "data": {
      "image/png": "[encoded data removed]",
      "text/plain": [
       "<Figure size 1080x1080 with 2 Axes>"
      ]
     },
     "metadata": {
      "needs_background": "light"
     },
     "output_type": "display_data"
    }
   ],
   "source": [
    "plot_confusion_matrix(predicted_classes, true_classes)"
   ]
  },
  {
   "cell_type": "markdown",
   "metadata": {},
   "source": [
    "### Saliency Gradient Interpretation"
   ]
  },
  {
   "cell_type": "code",
   "execution_count": 25,
   "metadata": {},
   "outputs": [],
   "source": [
    "smooth_grad = SmoothGradient(predictor)\n",
    "simple_grad = SimpleGradient(predictor)\n",
    "integrated_grad = IntegratedGradient(predictor)"
   ]
  },
  {
   "cell_type": "code",
   "execution_count": null,
   "metadata": {},
   "outputs": [],
   "source": [
    "mistake_ids = []\n",
    "\n",
    "for sent_id in range(len(true_classes)):\n",
    "    if true_classes[sent_id] != predicted_classes[sent_id]:\n",
    "        mistake_ids.append(sent_id)"
   ]
  },
  {
   "cell_type": "code",
   "execution_count": null,
   "metadata": {},
   "outputs": [],
   "source": [
    "interpret_sentence(\n",
    "    sentences[mistake_ids[0]], dataset_reader.tokenizer, 50, \n",
    "    [smooth_grad, simple_grad, integrated_grad],\n",
    "    label_description[true_classes[mistake_ids[0]]],\n",
    "    label_description[predicted_classes[mistake_ids[0]]]\n",
    ")"
   ]
  },
  {
   "cell_type": "code",
   "execution_count": null,
   "metadata": {},
   "outputs": [],
   "source": [
    "interpret_sentence(\n",
    "    sentences[mistake_ids[1]], dataset_reader.tokenizer, 50, \n",
    "    [smooth_grad, simple_grad, integrated_grad],\n",
    "    label_description[true_classes[mistake_ids[1]]],\n",
    "    label_description[predicted_classes[mistake_ids[1]]]\n",
    ")"
   ]
  },
  {
   "cell_type": "code",
   "execution_count": null,
   "metadata": {},
   "outputs": [],
   "source": [
    "interpret_sentence(\n",
    "    sentences[mistake_ids[2]], dataset_reader.tokenizer, 50, \n",
    "    [smooth_grad, simple_grad, integrated_grad],\n",
    "    label_description[true_classes[mistake_ids[2]]],\n",
    "    label_description[predicted_classes[mistake_ids[2]]]\n",
    ")"
   ]
  }
 ],
 "metadata": {
  "kernelspec": {
   "display_name": "Python 3",
   "language": "python",
   "name": "python3"
  },
  "language_info": {
   "codemirror_mode": {
    "name": "ipython",
    "version": 3
   },
   "file_extension": ".py",
   "mimetype": "text/x-python",
   "name": "python",
   "nbconvert_exporter": "python",
   "pygments_lexer": "ipython3",
   "version": "3.8.3"
  }
 },
 "nbformat": 4,
 "nbformat_minor": 4
}
