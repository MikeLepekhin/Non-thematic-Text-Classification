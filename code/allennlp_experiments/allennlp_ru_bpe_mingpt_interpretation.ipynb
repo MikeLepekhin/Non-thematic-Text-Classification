{
 "cells": [
  {
   "cell_type": "code",
   "execution_count": 2,
   "metadata": {},
   "outputs": [],
   "source": [
    "from os.path import join as pathjoin\n",
    "from data_processing import *\n",
    "from interpretation import *\n",
    "from models import *\n",
    "from training import *"
   ]
  },
  {
   "cell_type": "code",
   "execution_count": 3,
   "metadata": {},
   "outputs": [],
   "source": [
    "DATA_DIR = '/home/mlepekhin/data/min_gpt_bpe'\n",
    "MODELS_DIR = '/home/mlepekhin/models'\n",
    "MODEL_ID = 'allennlp_rubert'\n",
    "CHECKPOINTS_DIR = pathjoin(MODELS_DIR, MODEL_ID, 'checkpoints')\n",
    "BEST_MODEL = pathjoin(CHECKPOINTS_DIR, 'best.th')"
   ]
  },
  {
   "cell_type": "code",
   "execution_count": 4,
   "metadata": {},
   "outputs": [],
   "source": [
    "transformer_model = 'DeepPavlov/rubert-base-cased'\n",
    "MAX_TOKENS = 512"
   ]
  },
  {
   "cell_type": "markdown",
   "metadata": {},
   "source": [
    "### Loading of the pretrained model"
   ]
  },
  {
   "cell_type": "code",
   "execution_count": 5,
   "metadata": {},
   "outputs": [
    {
     "name": "stdout",
     "output_type": "stream",
     "text": [
      "Building the model\n"
     ]
    }
   ],
   "source": [
    "vocab = Vocabulary().from_files(pathjoin(MODELS_DIR, MODEL_ID, 'vocab'))\n",
    "model = build_transformer_model(vocab, transformer_model)"
   ]
  },
  {
   "cell_type": "code",
   "execution_count": 6,
   "metadata": {},
   "outputs": [
    {
     "name": "stdout",
     "output_type": "stream",
     "text": [
      "{0: 'A8', 1: 'A12', 2: 'A1', 3: 'A14', 4: 'A11', 5: 'A17', 6: 'A16', 7: 'A4', 8: 'A9', 9: 'A7'}\n",
      "dict_values(['A8', 'A12', 'A1', 'A14', 'A11', 'A17', 'A16', 'A4', 'A9', 'A7'])\n"
     ]
    }
   ],
   "source": [
    "id_to_label = vocab.get_index_to_token_vocabulary('labels')\n",
    "print(id_to_label)\n",
    "print(id_to_label.values())"
   ]
  },
  {
   "cell_type": "code",
   "execution_count": 7,
   "metadata": {},
   "outputs": [
    {
     "name": "stdout",
     "output_type": "stream",
     "text": [
      "1\n"
     ]
    },
    {
     "data": {
      "text/plain": [
       "<All keys matched successfully>"
      ]
     },
     "execution_count": 7,
     "metadata": {},
     "output_type": "execute_result"
    }
   ],
   "source": [
    "if torch.cuda.is_available():\n",
    "    cuda_device = 1\n",
    "else:\n",
    "    cuda_device = -1\n",
    "print(cuda_device)\n",
    "model.load_state_dict(torch.load(BEST_MODEL, map_location=f'cuda:{cuda_device}'))"
   ]
  },
  {
   "cell_type": "markdown",
   "metadata": {},
   "source": [
    "### Data loading"
   ]
  },
  {
   "cell_type": "code",
   "execution_count": 8,
   "metadata": {},
   "outputs": [
    {
     "data": {
      "text/html": [
       "<div>\n",
       "<style scoped>\n",
       "    .dataframe tbody tr th:only-of-type {\n",
       "        vertical-align: middle;\n",
       "    }\n",
       "\n",
       "    .dataframe tbody tr th {\n",
       "        vertical-align: top;\n",
       "    }\n",
       "\n",
       "    .dataframe thead th {\n",
       "        text-align: right;\n",
       "    }\n",
       "</style>\n",
       "<table border=\"1\" class=\"dataframe\">\n",
       "  <thead>\n",
       "    <tr style=\"text-align: right;\">\n",
       "      <th></th>\n",
       "      <th>Unnamed: 0</th>\n",
       "      <th>target</th>\n",
       "      <th>text</th>\n",
       "    </tr>\n",
       "  </thead>\n",
       "  <tbody>\n",
       "    <tr>\n",
       "      <th>0</th>\n",
       "      <td>0</td>\n",
       "      <td>A4</td>\n",
       "      <td>села на улице могильщиков . \" бедныи атос ! - ...</td>\n",
       "    </tr>\n",
       "    <tr>\n",
       "      <th>1</th>\n",
       "      <td>1</td>\n",
       "      <td>A4</td>\n",
       "      <td>##елкать . если бы они могли забыть . когда - ...</td>\n",
       "    </tr>\n",
       "    <tr>\n",
       "      <th>2</th>\n",
       "      <td>2</td>\n",
       "      <td>A4</td>\n",
       "      <td>воскресыи в уши . и вот тебе , моя нем не скаж...</td>\n",
       "    </tr>\n",
       "    <tr>\n",
       "      <th>3</th>\n",
       "      <td>3</td>\n",
       "      <td>A4</td>\n",
       "      <td>отчаянном гостиниц и потертои , старыи бурнуще...</td>\n",
       "    </tr>\n",
       "    <tr>\n",
       "      <th>4</th>\n",
       "      <td>4</td>\n",
       "      <td>A4</td>\n",
       "      <td>ожил в него . - - вы говорите , - сказал он ид...</td>\n",
       "    </tr>\n",
       "  </tbody>\n",
       "</table>\n",
       "</div>"
      ],
      "text/plain": [
       "   Unnamed: 0 target                                               text\n",
       "0           0     A4  села на улице могильщиков . \" бедныи атос ! - ...\n",
       "1           1     A4  ##елкать . если бы они могли забыть . когда - ...\n",
       "2           2     A4  воскресыи в уши . и вот тебе , моя нем не скаж...\n",
       "3           3     A4  отчаянном гостиниц и потертои , старыи бурнуще...\n",
       "4           4     A4  ожил в него . - - вы говорите , - сказал он ид..."
      ]
     },
     "execution_count": 8,
     "metadata": {},
     "output_type": "execute_result"
    }
   ],
   "source": [
    "ru_test_df = pd.read_csv(pathjoin(DATA_DIR, 'ru'))\n",
    "ru_test_df.head()"
   ]
  },
  {
   "cell_type": "code",
   "execution_count": 9,
   "metadata": {},
   "outputs": [],
   "source": [
    "true_classes = ru_test_df.target.values\n",
    "sentences = ru_test_df.text.values"
   ]
  },
  {
   "cell_type": "markdown",
   "metadata": {},
   "source": [
    "### Preliminary analysis"
   ]
  },
  {
   "cell_type": "code",
   "execution_count": 10,
   "metadata": {},
   "outputs": [],
   "source": [
    "dataset_reader = build_transformer_dataset_reader(transformer_model, MAX_TOKENS)\n",
    "predictor = TextClassifierPredictor(model, dataset_reader=dataset_reader)\n",
    "predicted_classes = np.array(predict_classes(sentences, predictor, vocab))"
   ]
  },
  {
   "cell_type": "code",
   "execution_count": 11,
   "metadata": {},
   "outputs": [
    {
     "name": "stdout",
     "output_type": "stream",
     "text": [
      "<class 'numpy.ndarray'>\n"
     ]
    }
   ],
   "source": [
    "print(type(predicted_classes == 'A1'))https://janakiev.com/blog/jupyter-virtual-envs/https://janakiev.com/blog/jupyter-virtual-envs/"
   ]
  },
  {
   "cell_type": "code",
   "execution_count": 12,
   "metadata": {},
   "outputs": [
    {
     "name": "stdout",
     "output_type": "stream",
     "text": [
      "10\n"
     ]
    }
   ],
   "source": [
    "print(len(np.unique(true_classes)))"
   ]
  },
  {
   "cell_type": "code",
   "execution_count": 13,
   "metadata": {},
   "outputs": [
    {
     "name": "stdout",
     "output_type": "stream",
     "text": [
      "label (argum) f1_score 0.631578947368421 precision 0.9 recall 0.4864864864864865\n",
      "label (fictive) f1_score 0.975609756097561 precision 1.0 recall 0.9523809523809523\n",
      "label (instruct) f1_score 0.888888888888889 precision 0.8 recall 1.0\n",
      "label (reporting) f1_score 0.8444444444444444 precision 0.95 recall 0.76\n",
      "label (legal) f1_score 0.9047619047619048 precision 0.95 recall 0.8636363636363636\n",
      "label (personal) f1_score 0.5714285714285715 precision 0.4 recall 1.0\n",
      "label (commercial) f1_score 0.85 precision 0.85 recall 0.85\n",
      "label (research) f1_score 0.8108108108108107 precision 0.75 recall 0.8823529411764706\n",
      "label (info) f1_score 0.6666666666666666 precision 0.5 recall 1.0\n",
      "label (eval) f1_score 0.9090909090909091 precision 1.0 recall 0.8333333333333334\n",
      "accuracy 0.81\n"
     ]
    }
   ],
   "source": [
    "calc_classifier_metrics(predicted_classes, true_classes)"
   ]
  },
  {
   "cell_type": "code",
   "execution_count": 14,
   "metadata": {},
   "outputs": [
    {
     "data": {
      "image/png": "[encoded data removed]",
      "text/plain": [
       "<Figure size 1080x1080 with 2 Axes>"
      ]
     },
     "metadata": {
      "needs_background": "light"
     },
     "output_type": "display_data"
    }
   ],
   "source": [
    "plot_confusion_matrix(predicted_classes, true_classes)"
   ]
  },
  {
   "cell_type": "markdown",
   "metadata": {},
   "source": [
    "### Saliency Gradient Interpretation"
   ]
  },
  {
   "cell_type": "code",
   "execution_count": 15,
   "metadata": {},
   "outputs": [],
   "source": [
    "smooth_grad = SmoothGradient(predictor)\n",
    "simple_grad = SimpleGradient(predictor)\n",
    "integrated_grad = IntegratedGradient(predictor)"
   ]
  },
  {
   "cell_type": "code",
   "execution_count": 16,
   "metadata": {},
   "outputs": [],
   "source": [
    "mistake_ids = []\n",
    "\n",
    "for sent_id in range(len(true_classes)):\n",
    "    if true_classes[sent_id] != predicted_classes[sent_id]:\n",
    "        mistake_ids.append(sent_id)"
   ]
  },
  {
   "cell_type": "code",
   "execution_count": 17,
   "metadata": {},
   "outputs": [
    {
     "name": "stdout",
     "output_type": "stream",
     "text": [
      "TRUE LABEL: instruct\n",
      "LABEL: commercial\n",
      "<class 'allennlp.interpret.saliency_interpreters.smooth_gradient.SmoothGradient'> TEXT:\n",
      "соответствия уровня вашего сертификата . искры могут вызвать взрыв или пожар , котор ##ы ##и приведут к серьезно ##му ранен ##ию или \u001b[31mдаже\u001b[0m смерти . \u001b[31mучастки\u001b[0m с взрывоопас \u001b[31m##но\u001b[0m ##и атмосфер ##ои обычно ( но не всегда ) явно \u001b[31mобозначены\u001b[0m . взрывоопас ##ными являются следующие среды : заправ ##очные станции ( например , бенз ##около ##нки ) ; пространство под палуб ##ои на кораблях ; оборудование для транспортировки и склады топлива и химических веществ ; транспортные средства , работающие на сжиж ##енном нефтяном газе ( например , проп ##ане или бут ##ане ) ; атмосфера , содержащая химические вещества или частицы \u001b[31m(\u001b[0m например , песч ##инки , пыль или металл ##ически ##и порошок ) и любые другие места , где обычно рекомендуется \u001b[31mвыключ\u001b[0m ##ать двигатель автомобиля \u001b[31m.\u001b[0m использование разъ ##емов и портов . \u001b[31mне\u001b[0m пыта ##итесь \u001b[31mввести\u001b[0m разъ ##емы в порты с применением силы . провер ##ьте \u001b[31m,\u001b[0m нет ли препятств ##ии на входе в порт . \u001b[31mесли\u001b[0m разъ ##ем и порт не подсоедин ##яются с обычно ##и легкостью , возможно , они не соответствуют друг другу . \u001b[31mубед\u001b[0m ##итесь \u001b[31m,\u001b[0m что разъ ##ем соответствует порту и что он правильно расположен по отношению к нему . аксессуары и \u001b[31mпроизводительность\u001b[0m \u001b[31mбеспровод\u001b[0m \u001b[31m##но\u001b[0m ##и связи . не все \u001b[31mаксессуары\u001b[0m i \u001b[31m##po\u001b[0m ##d полностью совместимы с i ##phone . включение авиа ##реж ##има на i ##phone может устранить аудио ##пом ##ехи между i ##phone и аксессу ##аром . при включен ##ном авиа ##реж ##име вы не можете совершать или принимать вызовы , а также использовать функции , требующие беспровод ##но ##и связи . в некоторых условиях определенные \u001b[31mаксессуары\u001b[0m могут влиять на производительность беспровод ##но ##и связи i ##phone \u001b[31m.\u001b[0m изменение ориентации или местоположения i \u001b[31m##phone\u001b[0m и подключ ##енного аксессу \u001b[31m##ара\u001b[0m может помочь вам \u001b[31mулучшить\u001b[0m \u001b[31mпроизводительность\u001b[0m беспровод ##но ##и связи . температура хранения i ##phone . i ##iph ##one разработан для использования при температуре от 0 до 35 º ##c ( от 32 до 95 º ##f ) и хранения при температуре от – 20 до 45 º ##c ( от – 4 до 113 º ##f ) . \u001b[31mнизкая\u001b[0m или высокая температура окруж ##ающе ##и среды может привести к быстро ##и разряд ##ке аккумулятора или сбоя ##м в работе i ##phone . \u001b[31mтемпература\u001b[0m i \u001b[31m##phone\u001b[0m в припарк ##ованном \u001b[31mавтомобиле\u001b[0m или под прямыми солнечными лучами может \u001b[31mпревышать\u001b[0m диапазон ##ы хранения или эксплуатации . избег \u001b[31m##аи\u001b[0m \u001b[31m##те\u001b[0m \u001b[31mрезких\u001b[0m \u001b[31mперепад\u001b[0m ##ов температуры и влажности во время использования i ##phone , т . к \u001b[31m.\u001b[0m \u001b[31mконденса\u001b[0m ##ция может \u001b[31mповредить\u001b[0m i \u001b[31m##phone\u001b[0m \u001b[31m.\u001b[0m нагрева \u001b[31m##ние\u001b[0m i ##phone во время эксплуатации или зарядки \u001b[31mаккумулятора\u001b[0m является нормальным \u001b[31mявлением\u001b[0m . \u001b[31mвнешняя\u001b[0m сторона корпуса \u001b[31mi\u001b[0m ##phone выполняет функцию охлажд ##ающе ##и поверхности \u001b[31m,\u001b[0m проводя теплов ##ую энергию из внутреннего пространства корпуса в более холодную внешнюю среду . возд ##еи \u001b[31m##ствие\u001b[0m \u001b[31mрадиочастот\u001b[0m ##но ##и энергии . i ##phone \u001b[31mсодержит\u001b[0m радиоп ##ередат ##чик и прием ##ник . когда i ##phone включен , он принимает и отправляет радиочастот ##ную энергию ( r ##f ) через свои антенны . антенна сот ##ово ##и связи i ##phone \u001b[31mрасположена\u001b[0m \u001b[31m[SEP]\u001b[0m \n",
      "\n",
      "<class 'allennlp.interpret.saliency_interpreters.simple_gradient.SimpleGradient'> TEXT:\n",
      "\u001b[31mсоответствия\u001b[0m уровня вашего сертификата \u001b[31m.\u001b[0m искры могут вызвать взрыв или пожар , котор ##ы ##и приведут к серьезно \u001b[31m##му\u001b[0m ранен ##ию или даже смерти . участки с взрывоопас ##но ##и атмосфер ##ои обычно ( но не всегда ) явно обозначены . взрывоопас ##ными являются следующие среды : заправ ##очные станции ( например , бенз ##около ##нки ) ; пространство под палуб ##ои на кораблях ; оборудование для транспортировки и склады топлива и химических веществ ; транспортные средства , работающие на сжиж ##енном нефтяном газе ( например , проп ##ане или бут ##ане ) ; атмосфера , содержащая \u001b[31mхимические\u001b[0m вещества или частицы ( например , песч ##инки , пыль или металл ##ически ##и порошок ) и любые другие места , где обычно рекомендуется выключ ##ать двигатель автомобиля . использование разъ ##емов и портов . не пыта ##итесь ввести разъ ##емы в порты с применением \u001b[31mсилы\u001b[0m \u001b[31m.\u001b[0m \u001b[31mпровер\u001b[0m \u001b[31m##ьте\u001b[0m \u001b[31m,\u001b[0m \u001b[31mнет\u001b[0m ли препятств ##ии на входе в порт . если разъ ##ем и порт не подсоедин ##яются с обычно ##и легкостью , возможно , они не соответствуют друг другу . \u001b[31mубед\u001b[0m ##итесь , что разъ ##ем соответствует порту и что он правильно расположен по отношению к нему . аксессуары и производительность беспровод ##но ##и связи . не все аксессуары i ##po ##d полностью совместимы с i ##phone . включение авиа ##реж ##има на i ##phone может устранить аудио ##пом ##ехи между i ##phone и аксессу ##аром . при включен ##ном авиа ##реж ##име вы не можете совершать или принимать вызовы , а также использовать функции , требующие беспровод ##но ##и связи . в некоторых условиях определенные аксессуары \u001b[31mмогут\u001b[0m влиять на производительность беспровод ##но ##и связи i ##phone . изменение ориентации или местоположения i ##phone и подключ ##енного аксессу \u001b[31m##ара\u001b[0m может помочь вам улучшить \u001b[31mпроизводительность\u001b[0m беспровод \u001b[31m##но\u001b[0m ##и связи . температура хранения i ##phone \u001b[31m.\u001b[0m i ##iph \u001b[31m##one\u001b[0m разработан \u001b[31mдля\u001b[0m использования при температуре от 0 до 35 º ##c ( от 32 до 95 º ##f ) и хранения при температуре от – 20 до 45 º ##c ( от – 4 до 113 º ##f ) . \u001b[31mнизкая\u001b[0m или высокая температура окруж ##ающе ##и среды может привести к быстро ##и разряд ##ке аккумулятора или сбоя ##м в работе i ##phone . \u001b[31mтемпература\u001b[0m \u001b[31mi\u001b[0m \u001b[31m##phone\u001b[0m \u001b[31mв\u001b[0m припарк ##ованном автомобиле или под прямыми солнечными лучами может превышать диапазон ##ы хранения или эксплуатации . избег \u001b[31m##аи\u001b[0m \u001b[31m##те\u001b[0m \u001b[31mрезких\u001b[0m перепад \u001b[31m##ов\u001b[0m температуры \u001b[31mи\u001b[0m влажности во время использования i ##phone , т . к . конденса \u001b[31m##ция\u001b[0m может повредить i ##phone . нагрева \u001b[31m##ние\u001b[0m i ##phone во время эксплуатации или зарядки аккумулятора является нормальным явлением . \u001b[31mвнешняя\u001b[0m сторона корпуса i \u001b[31m##phone\u001b[0m выполняет функцию охлажд \u001b[31m##ающе\u001b[0m ##и поверхности , проводя теплов ##ую энергию из внутреннего пространства корпуса в более холодную внешнюю среду . возд \u001b[31m##еи\u001b[0m ##ствие радиочастот ##но ##и энергии . i ##phone содержит радиоп ##ередат ##чик и прием ##ник . когда i ##phone включен \u001b[31m,\u001b[0m он принимает и отправляет радиочастот ##ную энергию ( \u001b[31mr\u001b[0m \u001b[31m##f\u001b[0m ) \u001b[31mчерез\u001b[0m свои \u001b[31mантенны\u001b[0m \u001b[31m.\u001b[0m \u001b[31mантенна\u001b[0m \u001b[31mсот\u001b[0m \u001b[31m##ово\u001b[0m \u001b[31m##и\u001b[0m \u001b[31mсвязи\u001b[0m \u001b[31mi\u001b[0m \u001b[31m##phone\u001b[0m \u001b[31mрасположена\u001b[0m \u001b[31m[SEP]\u001b[0m \n",
      "\n",
      "<class 'allennlp.interpret.saliency_interpreters.integrated_gradient.IntegratedGradient'> TEXT:\n",
      "\u001b[31mсоответствия\u001b[0m уровня \u001b[31mвашего\u001b[0m \u001b[31mсертификата\u001b[0m . искры могут \u001b[31mвызвать\u001b[0m \u001b[31mвзрыв\u001b[0m или пожар , котор ##ы ##и приведут к серьезно ##му ранен ##ию или даже смерти \u001b[31m.\u001b[0m участки с взрывоопас ##но ##и атмосфер ##ои обычно ( но не всегда ) явно обозначены . взрывоопас ##ными являются следующие среды : заправ ##очные станции ( например \u001b[31m,\u001b[0m бенз ##около ##нки ) ; пространство под палуб ##ои на кораблях ; оборудование \u001b[31mдля\u001b[0m транспортировки и склады топлива \u001b[31mи\u001b[0m химических веществ ; транспортные \u001b[31mсредства\u001b[0m , работающие на сжиж ##енном нефтяном газе ( например , проп ##ане или бут ##ане ) ; атмосфера , содержащая химические вещества или частицы ( например , песч ##инки , пыль или металл ##ически ##и порошок ) и любые другие места , где обычно рекомендуется выключ ##ать двигатель \u001b[31mавтомобиля\u001b[0m \u001b[31m.\u001b[0m использование \u001b[31mразъ\u001b[0m \u001b[31m##емов\u001b[0m и портов . не пыта ##итесь ввести разъ ##емы в порты с применением силы . провер ##ьте , нет ли препятств ##ии на входе в порт . если разъ ##ем и порт не подсоедин ##яются с обычно ##и легкостью \u001b[31m,\u001b[0m возможно , они не соответствуют друг другу \u001b[31m.\u001b[0m \u001b[31mубед\u001b[0m ##итесь , что разъ \u001b[31m##ем\u001b[0m соответствует порту \u001b[31mи\u001b[0m что он \u001b[31mправильно\u001b[0m \u001b[31mрасположен\u001b[0m по отношению \u001b[31mк\u001b[0m нему . \u001b[31mаксессуары\u001b[0m \u001b[31mи\u001b[0m производительность \u001b[31mбеспровод\u001b[0m \u001b[31m##но\u001b[0m ##и связи . не все \u001b[31mаксессуары\u001b[0m \u001b[31mi\u001b[0m ##po ##d полностью совместимы \u001b[31mс\u001b[0m i ##phone \u001b[31m.\u001b[0m включение авиа ##реж ##има на i ##phone может устранить аудио ##пом ##ехи между i ##phone и аксессу ##аром . при включен ##ном авиа ##реж ##име вы не можете совершать или принимать вызовы , а также использовать функции , требующие беспровод \u001b[31m##но\u001b[0m ##и связи . в некоторых условиях определенные аксессуары \u001b[31mмогут\u001b[0m влиять на производительность \u001b[31mбеспровод\u001b[0m \u001b[31m##но\u001b[0m ##и связи i ##phone . изменение ориентации или местоположения i ##phone и подключ \u001b[31m##енного\u001b[0m аксессу ##ара может помочь вам улучшить производительность \u001b[31mбеспровод\u001b[0m \u001b[31m##но\u001b[0m ##и связи . температура хранения i ##phone . i ##iph ##one разработан для использования при температуре от 0 до 35 º ##c ( от 32 до 95 º ##f ) и хранения при температуре от – 20 до 45 º ##c ( от – 4 до 113 º ##f ) . низкая или высокая температура окруж ##ающе ##и среды может привести к быстро ##и разряд ##ке аккумулятора или сбоя ##м в работе i \u001b[31m##phone\u001b[0m \u001b[31m.\u001b[0m температура i ##phone в припарк \u001b[31m##ованном\u001b[0m автомобиле \u001b[31mили\u001b[0m \u001b[31mпод\u001b[0m прямыми солнечными лучами может превышать диапазон ##ы хранения или эксплуатации . избег ##аи ##те резких перепад ##ов температуры и влажности во время использования i ##phone \u001b[31m,\u001b[0m т . к . конденса ##ция может повредить i \u001b[31m##phone\u001b[0m \u001b[31m.\u001b[0m нагрева ##ние i ##phone \u001b[31mво\u001b[0m время эксплуатации или зарядки \u001b[31mаккумулятора\u001b[0m \u001b[31mявляется\u001b[0m нормальным явлением . внешняя сторона корпуса \u001b[31mi\u001b[0m ##phone выполняет функцию охлажд ##ающе ##и поверхности , проводя теплов ##ую энергию из внутреннего пространства корпуса в более холодную внешнюю среду . возд ##еи ##ствие радиочастот ##но ##и энергии . i ##phone содержит радиоп ##ередат ##чик и прием ##ник . когда i ##phone включен , он принимает и отправляет радиочастот \u001b[31m##ную\u001b[0m энергию ( r ##f ) через свои антенны . антенна сот ##ово ##и связи i ##phone расположена [SEP] \n",
      "\n"
     ]
    }
   ],
   "source": [
    "interpret_sentence(\n",
    "    sentences[mistake_ids[0]], dataset_reader.tokenizer, 50, \n",
    "    [smooth_grad, simple_grad, integrated_grad],\n",
    "    label_description[true_classes[mistake_ids[0]]],\n",
    "    label_description[predicted_classes[mistake_ids[0]]]\n",
    ")"
   ]
  },
  {
   "cell_type": "code",
   "execution_count": 18,
   "metadata": {},
   "outputs": [
    {
     "name": "stdout",
     "output_type": "stream",
     "text": [
      "TRUE LABEL: instruct\n",
      "LABEL: commercial\n",
      "<class 'allennlp.interpret.saliency_interpreters.smooth_gradient.SmoothGradient'> TEXT:\n",
      "\u001b[31mосновных\u001b[0m контактов , таких \u001b[31mкак\u001b[0m версия wi ##nd ##ows mo ##bi ##le ##® и тип процессора , используемого в коммуника ##торе . также позволяет \u001b[31mуказать\u001b[0m \u001b[31mимя\u001b[0m коммуника \u001b[31m##тора\u001b[0m . автоматическая регулиров ##ка громкости уровень громкости вашего голоса при записи будет регулировать ##ся автоматически \u001b[31m.\u001b[0m сертификаты просмотр свед ##ении о сертификата ##х , установленных в коммуника ##торе . очистить хранилище сброс установок коммуника ##тора и восстановление в нем стандартных заводских настроек . часы и сигналы установка часов коммуника ##тора на дату и время текущего часового пояса или второго часового пояса во время путешествия . можно также установить \u001b[31mсигналы\u001b[0m на определенные дни недели \u001b[31mи\u001b[0m моменты времени . управление устро ##ист ##вом 249 значок описание обратная связь \u001b[31mвозможность\u001b[0m \u001b[31mавтомат\u001b[0m ##ическо ##и отправки коммуника ##тором свед ##ении о том , как вы использует ##е wi ##nd ##ows mo ##bi ##le . по умолчанию эта возможность \u001b[31mотключен\u001b[0m ##а . сведения об устро ##ист ##ве просмотр свед ##ении о версии микроп ##рог ##рамм ##ного обеспечения , аппаратных средствах , личных свед ##ении и данных о длительности звонков , сделанных с коммуника ##тора . шифрование шифрование фа ##илов на карте памяти . зашифр ##ованные фа ##илы можно \u001b[31mбудет\u001b[0m прочитать только в ваше ##м коммуника ##торе . \u001b[31mотчеты\u001b[0m \u001b[31mоб\u001b[0m ошибках \u001b[31mвключение\u001b[0m \u001b[31mили\u001b[0m выключ \u001b[31m##ение\u001b[0m \u001b[31mфункции\u001b[0m отчетов \u001b[31mоб\u001b[0m ошибках \u001b[31mкоммуника\u001b[0m ##тора . если \u001b[31mэта\u001b[0m функция \u001b[31mвключена\u001b[0m , то при возникновении ошибки в работе программы технические сведения о состоянии программы и компьютера будут записаны в текстов ##ы ##и фа ##ил и \u001b[31mотправлены\u001b[0m \u001b[31mв\u001b[0m службу техн ##ическо ##и поддержки корпорации micro ##so ##ft ( если вы разрешили отправку отчета ) . внеш ##нии g ##ps задание подходящих портов для g ##ps ( при необходимости ) . это может потребоваться \u001b[31m,\u001b[0m когда в коммуника ##торе используются программы , обращ ##ающиеся к данным g ##ps , или к нему подключ ##ен прием ##ник g - датчик \u001b[31mперек\u001b[0m ##алиб ##ровка g - датчика коммуника ##тора . использ ##уи \u001b[31m##те\u001b[0m \u001b[31mэту\u001b[0m функцию , когда функция автоп ##оворот ##а работает неправильно . \u001b[31mуправляемые\u001b[0m программы отображение программ , установленных в коммуника \u001b[31m##торе\u001b[0m с сервера system center mo ##bi ##le de ##vi ##ce man ##ager . память просмотр \u001b[31mсвед\u001b[0m ##ении о распределении памяти в коммуника ##торе и на карту памяти . питание проверка уровня заряда аккумулятора . также позволяет \u001b[31mнастроить\u001b[0m \u001b[31mяркость\u001b[0m \u001b[31mподсветки\u001b[0m и задать время отключения экрана ( перевода коммуника ##тора \u001b[31mв\u001b[0m сп ##ящ ##ии режим ) для экономии заряда аккумулятора \u001b[31m.\u001b[0m \u001b[31mязык\u001b[0m и стандарты установка в коммуника \u001b[31m##торе\u001b[0m языка и формата отображения \u001b[31mчисел\u001b[0m , валюты \u001b[31m,\u001b[0m даты \u001b[31mи\u001b[0m времени . 250 управление \u001b[31mустро\u001b[0m \u001b[31m##ист\u001b[0m ##вом значок описание удаление программ удаление программ , ранее установленных вами \u001b[31mв\u001b[0m коммуника ##торе \u001b[31m.\u001b[0m \u001b[31mэкран\u001b[0m перек ##алиб ##ровка экрана , применение функции cl ##ear ##ty ##pe для более четко ##го отображения текста и изменение размера текста на экране . диспетчер задач закрытие работы запущен ##ных программ и настро ##ика кнопки ( ) для немедленного закрытия программ по ее наж ##ати ##ю . дополнительные сведения см . в это ##и главе в разделе “ диспетчер задач ” . touch ##fl \u001b[31m##o\u001b[0m настро \u001b[31m##ика\u001b[0m включения \u001b[31m[SEP]\u001b[0m \n",
      "\n",
      "<class 'allennlp.interpret.saliency_interpreters.simple_gradient.SimpleGradient'> TEXT:\n",
      "\u001b[31mосновных\u001b[0m контактов , таких как версия wi ##nd ##ows mo ##bi ##le ##® и тип процессора , используемого в коммуника ##торе . также позволяет указать \u001b[31mимя\u001b[0m коммуника ##тора . \u001b[31mавтоматическая\u001b[0m \u001b[31mрегулиров\u001b[0m \u001b[31m##ка\u001b[0m громкости уровень громкости вашего голоса при записи будет регулировать ##ся автоматически \u001b[31m.\u001b[0m сертификаты просмотр свед ##ении о сертификата ##х , установленных в коммуника ##торе . очистить хранилище сброс установок коммуника ##тора и восстановление в нем стандартных заводских настроек . часы и сигналы установка часов коммуника ##тора на дату и время текущего часового пояса или второго часового пояса во время путешествия . можно также установить сигналы на определенные дни недели и моменты времени . управление устро ##ист ##вом 249 значок описание \u001b[31mобратная\u001b[0m \u001b[31mсвязь\u001b[0m возможность \u001b[31mавтомат\u001b[0m ##ическо ##и отправки коммуника ##тором свед ##ении о \u001b[31mтом\u001b[0m , как вы использует ##е wi ##nd ##ows mo ##bi ##le . по умолчанию эта возможность \u001b[31mотключен\u001b[0m ##а . сведения об устро ##ист ##ве просмотр свед ##ении о версии микроп ##рог ##рамм ##ного обеспечения , аппаратных средствах , личных свед ##ении и данных о длительности звонков , сделанных с коммуника ##тора . шифрование шифрование фа ##илов на карте памяти . зашифр ##ованные фа ##илы можно будет прочитать только в ваше ##м коммуника ##торе . \u001b[31mотчеты\u001b[0m \u001b[31mоб\u001b[0m ошибках включение или выключ \u001b[31m##ение\u001b[0m функции отчетов \u001b[31mоб\u001b[0m ошибках коммуника ##тора . \u001b[31mесли\u001b[0m эта функция включена \u001b[31m,\u001b[0m то при возникновении ошибки \u001b[31mв\u001b[0m работе программы технические сведения о состоянии программы и компьютера будут записаны в текстов ##ы ##и фа ##ил и отправлены в службу техн ##ическо ##и поддержки корпорации micro ##so ##ft ( если вы разрешили отправку отчета ) . внеш ##нии g ##ps задание подходящих портов для g ##ps ( при необходимости ) . это может потребоваться , когда в коммуника ##торе используются программы , обращ ##ающиеся к данным g ##ps , или к нему подключ ##ен прием ##ник g - датчик перек ##алиб ##ровка g - датчика коммуника ##тора . использ ##уи ##те эту функцию , когда функция автоп ##оворот ##а работает неправильно \u001b[31m.\u001b[0m управляемые программы отображение программ , установленных в коммуника ##торе с сервера system center mo ##bi ##le de ##vi ##ce man ##ager . память просмотр свед ##ении о распределении памяти в коммуника ##торе и на карту памяти . питание \u001b[31mпроверка\u001b[0m уровня заряда аккумулятора . также позволяет настроить \u001b[31mяркость\u001b[0m подсветки и задать \u001b[31mвремя\u001b[0m отключения экрана ( перевода коммуника ##тора в сп ##ящ ##ии режим ) для экономии заряда \u001b[31mаккумулятора\u001b[0m \u001b[31m.\u001b[0m язык \u001b[31mи\u001b[0m стандарты \u001b[31mустановка\u001b[0m \u001b[31mв\u001b[0m \u001b[31mкоммуника\u001b[0m \u001b[31m##торе\u001b[0m \u001b[31mязыка\u001b[0m и формата \u001b[31mотображения\u001b[0m чисел , валюты , даты и времени . 250 управление устро ##ист ##вом значок \u001b[31mописание\u001b[0m \u001b[31mудаление\u001b[0m программ удаление программ , ранее установленных \u001b[31mвами\u001b[0m \u001b[31mв\u001b[0m коммуника \u001b[31m##торе\u001b[0m . \u001b[31mэкран\u001b[0m \u001b[31mперек\u001b[0m ##алиб ##ровка экрана , применение \u001b[31mфункции\u001b[0m cl \u001b[31m##ear\u001b[0m ##ty ##pe для более четко \u001b[31m##го\u001b[0m отображения \u001b[31mтекста\u001b[0m и \u001b[31mизменение\u001b[0m размера текста на экране . \u001b[31mдиспетчер\u001b[0m задач закрытие работы запущен ##ных программ и настро \u001b[31m##ика\u001b[0m кнопки ( ) для немедленного закрытия программ по ее наж ##ати ##ю . \u001b[31mдополнительные\u001b[0m сведения см . в это ##и главе в разделе “ \u001b[31mдиспетчер\u001b[0m \u001b[31mзадач\u001b[0m ” . touch \u001b[31m##fl\u001b[0m ##o настро ##ика включения [SEP] \n",
      "\n",
      "<class 'allennlp.interpret.saliency_interpreters.integrated_gradient.IntegratedGradient'> TEXT:\n",
      "\u001b[31mосновных\u001b[0m контактов , таких \u001b[31mкак\u001b[0m версия wi ##nd ##ows mo ##bi ##le ##® и тип процессора , используемого в коммуника ##торе . также позволяет \u001b[31mуказать\u001b[0m \u001b[31mимя\u001b[0m коммуника ##тора . автоматическая регулиров ##ка громкости уровень громкости вашего голоса при записи будет \u001b[31mрегулировать\u001b[0m \u001b[31m##ся\u001b[0m \u001b[31mавтоматически\u001b[0m . сертификаты просмотр свед ##ении о сертификата ##х , установленных \u001b[31mв\u001b[0m коммуника ##торе . очистить хранилище сброс установок коммуника ##тора и восстановление в нем стандартных \u001b[31mзаводских\u001b[0m \u001b[31mнастроек\u001b[0m . часы \u001b[31mи\u001b[0m сигналы установка \u001b[31mчасов\u001b[0m \u001b[31mкоммуника\u001b[0m ##тора \u001b[31mна\u001b[0m дату и время текущего часового пояса или второго часового пояса во время путешествия . можно также установить сигналы на определенные дни недели и моменты времени . управление устро \u001b[31m##ист\u001b[0m ##вом 249 значок описание обратная связь возможность автомат ##ическо ##и отправки коммуника ##тором свед ##ении о том , как вы использует ##е wi ##nd ##ows mo ##bi ##le . по умолчанию эта возможность отключен ##а . сведения об устро ##ист ##ве просмотр свед ##ении о версии микроп ##рог ##рамм ##ного обеспечения , аппаратных средствах , личных свед ##ении и данных о длительности звонков \u001b[31m,\u001b[0m сделанных с коммуника ##тора \u001b[31m.\u001b[0m шифрование шифрование \u001b[31mфа\u001b[0m ##илов \u001b[31mна\u001b[0m карте памяти . зашифр ##ованные фа \u001b[31m##илы\u001b[0m \u001b[31mможно\u001b[0m будет прочитать только в ваше \u001b[31m##м\u001b[0m коммуника ##торе \u001b[31m.\u001b[0m отчеты об ошибках \u001b[31mвключение\u001b[0m или выключ ##ение функции отчетов \u001b[31mоб\u001b[0m ошибках коммуника ##тора . если эта функция \u001b[31mвключена\u001b[0m , то при возникновении ошибки в работе программы технические сведения о состоянии программы и компьютера будут записаны в текстов ##ы ##и фа ##ил и отправлены в службу техн ##ическо ##и поддержки корпорации micro ##so ##ft ( если вы разрешили отправку отчета ) . внеш ##нии g ##ps \u001b[31mзадание\u001b[0m подходящих портов \u001b[31mдля\u001b[0m g ##ps ( при необходимости ) . это может потребоваться , когда \u001b[31mв\u001b[0m коммуника \u001b[31m##торе\u001b[0m используются \u001b[31mпрограммы\u001b[0m \u001b[31m,\u001b[0m обращ ##ающиеся к данным g \u001b[31m##ps\u001b[0m , или \u001b[31mк\u001b[0m нему подключ \u001b[31m##ен\u001b[0m прием ##ник g - датчик перек ##алиб ##ровка g - датчика коммуника ##тора . \u001b[31mиспольз\u001b[0m ##уи \u001b[31m##те\u001b[0m \u001b[31mэту\u001b[0m \u001b[31mфункцию\u001b[0m , когда \u001b[31mфункция\u001b[0m автоп ##оворот ##а работает неправильно . управляемые программы отображение программ , установленных в коммуника ##торе с сервера system center mo ##bi ##le de ##vi ##ce man ##ager . \u001b[31mпамять\u001b[0m просмотр свед ##ении о распределении памяти в коммуника ##торе и на карту памяти . питание проверка уровня заряда аккумулятора . также позволяет \u001b[31mнастроить\u001b[0m \u001b[31mяркость\u001b[0m подсветки \u001b[31mи\u001b[0m задать время отключения экрана ( перевода коммуника ##тора в сп ##ящ ##ии режим ) для экономии \u001b[31mзаряда\u001b[0m аккумулятора . язык и стандарты установка в коммуника ##торе языка и формата отображения чисел , валюты , даты и времени . 250 управление устро ##ист ##вом значок \u001b[31mописание\u001b[0m удаление программ \u001b[31mудаление\u001b[0m программ , ранее установленных вами в коммуника ##торе . экран перек ##алиб ##ровка экрана , применение функции cl ##ear ##ty ##pe для более четко ##го отображения текста и изменение размера текста на экране . диспетчер задач закрытие работы запущен ##ных программ и настро ##ика кнопки ( ) для \u001b[31mнемедленного\u001b[0m закрытия программ по ее наж ##ати ##ю . \u001b[31mдополнительные\u001b[0m сведения см . в это ##и главе в разделе “ диспетчер задач ” . touch ##fl ##o настро ##ика включения [SEP] \n",
      "\n"
     ]
    }
   ],
   "source": [
    "interpret_sentence(\n",
    "    sentences[mistake_ids[1]], dataset_reader.tokenizer, 50, \n",
    "    [smooth_grad, simple_grad, integrated_grad],\n",
    "    label_description[true_classes[mistake_ids[1]]],\n",
    "    label_description[predicted_classes[mistake_ids[1]]]\n",
    ")"
   ]
  },
  {
   "cell_type": "code",
   "execution_count": 19,
   "metadata": {},
   "outputs": [
    {
     "name": "stdout",
     "output_type": "stream",
     "text": [
      "TRUE LABEL: instruct\n",
      "LABEL: legal\n",
      "<class 'allennlp.interpret.saliency_interpreters.smooth_gradient.SmoothGradient'> TEXT:\n",
      "\u001b[31mдистанционного\u001b[0m \u001b[31mзондирования\u001b[0m земли с борта воздушного земли \" в порядке , установленном правительством росс ##ии ##ско ##и федерации \" . однако , о самих этих правилах ничего не известно . есть основания полагать , что они просто не утверждены , а значит , нарушить их невозможно . \u001b[31mвдобавок\u001b[0m , обычная съем ##ка не является \" дистанц ##ионным зонд ##ированием земли \" , под данным понятием традиционно понимается аэ ##ро - и спутников \u001b[31m##ая\u001b[0m фотос ##ъем \u001b[31m##ка\u001b[0m зем ##но ##и поверхности с помощью специально ##и аппаратуры . \u001b[31mсе\u001b[0m ##ичас эта деятельность регулируется пунктом \u001b[31m10\u001b[0m . 3 \" наставления по производству полетов в гражданско ##и авиации н ##пп га - 85 \" . \u001b[31mто\u001b[0m , что описано в нем , не имеет ничего общего с любитель ##ско ##и фотос ##ъем ##ко ##и из окна самолета . \u001b[31mв\u001b[0m существующих федеральных \u001b[31mавиационных\u001b[0m правилах \" общие правила воздушных перевозок пассажиров , багажа , грузов и требования к обслуживанию пассажиров , груз ##оот ##прав ##ителе ##и , груз \u001b[31m##ополуч\u001b[0m ##ателе ##и \" запрета на фотос \u001b[31m##ъем\u001b[0m ##ку не содержится , более того – ими прямо разрешено провоз \u001b[31m##ить\u001b[0m при себе \u001b[31mфотоаппараты\u001b[0m и видеокамеры ( \u001b[31mп\u001b[0m \u001b[31m.\u001b[0m \u001b[31m135\u001b[0m правил \u001b[31m)\u001b[0m . существуют ограничения \u001b[31mна\u001b[0m \u001b[31mпользование\u001b[0m электронными \u001b[31mприборами\u001b[0m \u001b[31mпри\u001b[0m взлете и посадке \u001b[31m,\u001b[0m \u001b[31mсвязанные\u001b[0m с безопасностью \u001b[31m.\u001b[0m \u001b[31mдополнительные\u001b[0m \u001b[31mзапреты\u001b[0m на съемку , установленные авиакомп ##ание ##и для пассажиров , нарушают статью 16 зо ##з ##пп , о котор ##ои уже говорилось выше . запрещено снимать стратегические объекты , поскольку эти сведения относятся к государственно ##и таин ##е \" закон о запрете съемки стратегических объектов \" – это , \u001b[31mпожал\u001b[0m ##уи , втор ##ои по популярности аргумент за запрет фотос ##ъемки , после \" права собственника \" . \u001b[31mразумеется\u001b[0m , \u001b[31mтакого\u001b[0m закона не существует . \u001b[31mзасекреч\u001b[0m ##ивание каких - либо свед ##ении регулирует закон \" о государственно ##и таин ##е \" . в нем ( ст . 5 ) определен перечень свед ##ении \u001b[31m,\u001b[0m которые составляют государственную таин ##у . также подоб ##ны ##и перечень содержится в указе президента , с перечисление ##м органов власти , \u001b[31mкоторые\u001b[0m уполномоч ##ены засекреч ##ивать конкретные сведения . \u001b[31mважно\u001b[0m помнить , что переч ##ни эти носят ориент ##ирующ \u001b[31m##ии\u001b[0m характер , поскольку \u001b[31mпредставляют\u001b[0m соб ##ои \" совокупность категории свед \u001b[31m##ении\u001b[0m , в соответствии с которыми сведения относятся к государственно ##и \u001b[31mтаин\u001b[0m ##е и \u001b[31mзасекреч\u001b[0m ##иваются на основаниях и в порядке , установленных федеральным законодательством \" . проще говоря , не любая информация указанных категории относится к г ##т , необходимо еще \u001b[31mпроизвести\u001b[0m \" \u001b[31mотнес\u001b[0m ##ение \" так ##ои информации к гост ##аи ##не , и ее засекреч ##ивание \u001b[31m.\u001b[0m этот процесс регулируется третьим разделом закона о г ##т , он включает в себя эксперт ##ную \u001b[31mоценку\u001b[0m обоснован ##ности такого отнес ##ения и присвоение сведениям соответствующего гриф ##а секретности . \u001b[31mна\u001b[0m носители секретных свед ##ении наносят ##ся реквиз ##иты , описанные в ст . 12 закона о г ##т , если вы не видит ##е таких реквиз ##итов , то никак ##ои \" государственно ##и таин \u001b[31m##ы\u001b[0m \" нет . \u001b[31mсекретные\u001b[0m сведения вы \u001b[31mбез\u001b[0m \u001b[31mдопуска\u001b[0m \u001b[31m[SEP]\u001b[0m \n",
      "\n",
      "<class 'allennlp.interpret.saliency_interpreters.simple_gradient.SimpleGradient'> TEXT:\n",
      "\u001b[31mдистанционного\u001b[0m зондирования земли с борта воздушного земли \" в порядке , установленном правительством росс ##ии ##ско ##и федерации \" . \u001b[31mоднако\u001b[0m , о самих этих правилах ничего не известно . \u001b[31mесть\u001b[0m основания полагать , что они просто не утверждены , а значит , нарушить их невозможно . вдобавок , обычная съем ##ка не является \" дистанц ##ионным зонд ##ированием земли \" , под данным понятием традиционно понимается аэ ##ро - и спутников ##ая фотос ##ъем ##ка зем ##но ##и поверхности с помощью специально ##и аппаратуры . се ##ичас эта деятельность регулируется пунктом 10 \u001b[31m.\u001b[0m 3 \" наставления по производству полетов в гражданско ##и авиации н ##пп га \u001b[31m-\u001b[0m 85 \" . то , что описано в нем , не имеет ничего общего с любитель ##ско ##и фотос ##ъем ##ко ##и из окна самолета \u001b[31m.\u001b[0m в существующих федеральных авиационных правилах \u001b[31m\"\u001b[0m общие правила воздушных перевозок пассажиров , багажа , грузов и требования к обслуживанию пассажиров , груз ##оот ##прав ##ителе ##и , груз ##ополуч ##ателе ##и \" запрета на фотос \u001b[31m##ъем\u001b[0m ##ку не содержится , более того – ими \u001b[31mпрямо\u001b[0m разрешено провоз ##ить при себе \u001b[31mфотоаппараты\u001b[0m и видеокамеры ( п . 135 \u001b[31mправил\u001b[0m ) . существуют ограничения \u001b[31mна\u001b[0m \u001b[31mпользование\u001b[0m электронными приборами при взлете и посадке , связанные \u001b[31mс\u001b[0m безопасностью . дополнительные запреты на съемку , установленные авиакомп ##ание ##и для пассажиров , нарушают статью 16 зо ##з ##пп , о котор ##ои уже говорилось выше . запрещено снимать стратегические объекты , поскольку эти сведения относятся к государственно ##и таин ##е \" закон о запрете съемки стратегических объектов \" – это , пожал ##уи , втор ##ои по \u001b[31mпопулярности\u001b[0m аргумент за запрет фотос ##ъемки , после \" права собственника \" . разумеется , такого закона не существует . засекреч ##ивание каких - либо свед ##ении регулирует закон \" о государственно ##и таин ##е \" . в нем ( ст . \u001b[31m5\u001b[0m ) определен перечень свед ##ении , которые составляют государственную таин ##у . также подоб ##ны ##и перечень содержится в указе президента , с перечисление ##м органов власти , которые уполномоч ##ены засекреч \u001b[31m##ивать\u001b[0m конкретные сведения . \u001b[31mважно\u001b[0m помнить , что переч ##ни эти носят ориент ##ирующ ##ии характер , поскольку представляют соб ##ои \" совокупность категории свед \u001b[31m##ении\u001b[0m , в соответствии с которыми сведения относятся к государственно \u001b[31m##и\u001b[0m таин ##е и засекреч ##иваются на \u001b[31mоснованиях\u001b[0m и в порядке , установленных федеральным законодательством \" . \u001b[31mпроще\u001b[0m говоря , не любая информация указанных категории относится к г ##т , необходимо еще произвести \" отнес ##ение \" так ##ои информации \u001b[31mк\u001b[0m гост ##аи ##не , и ее засекреч ##ивание . \u001b[31mэтот\u001b[0m процесс регулируется третьим \u001b[31mразделом\u001b[0m закона о г ##т , он включает в себя эксперт \u001b[31m##ную\u001b[0m оценку \u001b[31mобоснован\u001b[0m \u001b[31m##ности\u001b[0m такого отнес ##ения и присвоение \u001b[31mсведениям\u001b[0m \u001b[31mсоответствующего\u001b[0m \u001b[31mгриф\u001b[0m ##а секретности . \u001b[31mна\u001b[0m \u001b[31mносители\u001b[0m секретных свед ##ении наносят ##ся реквиз ##иты \u001b[31m,\u001b[0m описанные \u001b[31mв\u001b[0m \u001b[31mст\u001b[0m \u001b[31m.\u001b[0m \u001b[31m12\u001b[0m закона о г ##т , если вы \u001b[31mне\u001b[0m видит \u001b[31m##е\u001b[0m таких реквиз ##итов , то \u001b[31mникак\u001b[0m ##ои \" \u001b[31mгосударственно\u001b[0m \u001b[31m##и\u001b[0m таин ##ы \" нет \u001b[31m.\u001b[0m \u001b[31mсекретные\u001b[0m \u001b[31mсведения\u001b[0m вы \u001b[31mбез\u001b[0m \u001b[31mдопуска\u001b[0m \u001b[31m[SEP]\u001b[0m \n",
      "\n",
      "<class 'allennlp.interpret.saliency_interpreters.integrated_gradient.IntegratedGradient'> TEXT:\n",
      "\u001b[31mдистанционного\u001b[0m зондирования \u001b[31mземли\u001b[0m с борта воздушного \u001b[31mземли\u001b[0m \" в порядке \u001b[31m,\u001b[0m установленном \u001b[31mправительством\u001b[0m росс ##ии ##ско ##и федерации \" . однако , о самих этих правилах ничего не известно . есть основания полагать , что они просто не утверждены , а значит , нарушить их невозможно . вдобавок , обычная съем ##ка не является \" дистанц ##ионным зонд ##ированием земли \" , под данным понятием традиционно понимается аэ ##ро - и спутников ##ая фотос ##ъем \u001b[31m##ка\u001b[0m зем ##но ##и поверхности с помощью специально ##и аппаратуры . се ##ичас эта деятельность регулируется \u001b[31mпунктом\u001b[0m \u001b[31m10\u001b[0m . 3 \" наставления по производству полетов в гражданско ##и авиации н ##пп га - 85 \" . то , что описано в нем , не имеет ничего общего с любитель ##ско ##и фотос ##ъем ##ко ##и из окна самолета . в существующих \u001b[31mфедеральных\u001b[0m \u001b[31mавиационных\u001b[0m правилах \u001b[31m\"\u001b[0m общие правила \u001b[31mвоздушных\u001b[0m перевозок пассажиров , багажа , грузов и требования к обслуживанию пассажиров , груз ##оот ##прав ##ителе ##и , груз ##ополуч ##ателе ##и \" запрета на фотос ##ъем ##ку не содержится , более того – ими прямо разрешено провоз ##ить при себе фотоаппараты и видеокамеры ( п . 135 правил \u001b[31m)\u001b[0m . существуют ограничения \u001b[31mна\u001b[0m пользование \u001b[31mэлектронными\u001b[0m приборами при взлете и посадке , связанные с безопасностью \u001b[31m.\u001b[0m дополнительные запреты \u001b[31mна\u001b[0m съемку , установленные \u001b[31mавиакомп\u001b[0m ##ание ##и для пассажиров , нарушают \u001b[31mстатью\u001b[0m \u001b[31m16\u001b[0m зо ##з ##пп , о котор ##ои уже говорилось выше . запрещено \u001b[31mснимать\u001b[0m стратегические объекты , поскольку эти сведения относятся к государственно ##и таин ##е \" закон \u001b[31mо\u001b[0m запрете съемки стратегических объектов \" – это \u001b[31m,\u001b[0m пожал \u001b[31m##уи\u001b[0m \u001b[31m,\u001b[0m втор ##ои \u001b[31mпо\u001b[0m популярности аргумент за запрет \u001b[31mфотос\u001b[0m ##ъемки \u001b[31m,\u001b[0m после \u001b[31m\"\u001b[0m права \u001b[31mсобственника\u001b[0m \u001b[31m\"\u001b[0m . разумеется , такого закона \u001b[31mне\u001b[0m существует . засекреч ##ивание каких - либо свед ##ении регулирует закон \" о государственно ##и таин ##е \" . в нем ( ст . 5 ) определен перечень свед ##ении , которые составляют государственную таин ##у . также подоб ##ны ##и перечень содержится в указе \u001b[31mпрезидента\u001b[0m , с перечисление ##м органов власти , которые уполномоч ##ены засекреч ##ивать конкретные сведения . важно помнить , что переч ##ни эти носят ориент ##ирующ ##ии характер , поскольку представляют соб ##ои \" совокупность категории свед ##ении , в соответствии с которыми сведения относятся к государственно ##и таин ##е и засекреч ##иваются \u001b[31mна\u001b[0m основаниях и в порядке , установленных федеральным законодательством \u001b[31m\"\u001b[0m . проще говоря , не любая информация указанных категории относится к г ##т , необходимо еще произвести \u001b[31m\"\u001b[0m отнес ##ение \" так ##ои информации к гост ##аи ##не , и ее засекреч ##ивание . этот процесс регулируется \u001b[31mтретьим\u001b[0m разделом закона о г ##т , он включает в себя эксперт ##ную оценку \u001b[31mобоснован\u001b[0m \u001b[31m##ности\u001b[0m такого отнес ##ения и присвоение \u001b[31mсведениям\u001b[0m \u001b[31mсоответствующего\u001b[0m гриф \u001b[31m##а\u001b[0m секретности \u001b[31m.\u001b[0m на носители секретных \u001b[31mсвед\u001b[0m ##ении наносят \u001b[31m##ся\u001b[0m реквиз ##иты , описанные в ст \u001b[31m.\u001b[0m 12 закона \u001b[31mо\u001b[0m г ##т , если вы не видит ##е таких реквиз ##итов , то никак ##ои \" государственно ##и таин ##ы \" нет . секретные сведения вы \u001b[31mбез\u001b[0m допуска \u001b[31m[SEP]\u001b[0m \n",
      "\n"
     ]
    }
   ],
   "source": [
    "interpret_sentence(\n",
    "    sentences[mistake_ids[2]], dataset_reader.tokenizer, 50, \n",
    "    [smooth_grad, simple_grad, integrated_grad],\n",
    "    label_description[true_classes[mistake_ids[2]]],\n",
    "    label_description[predicted_classes[mistake_ids[2]]]\n",
    ")"
   ]
  }
 ],
 "metadata": {
  "kernelspec": {
   "display_name": "Python 3",
   "language": "python",
   "name": "python3"
  },
  "language_info": {
   "codemirror_mode": {
    "name": "ipython",
    "version": 3
   },
   "file_extension": ".py",
   "mimetype": "text/x-python",
   "name": "python",
   "nbconvert_exporter": "python",
   "pygments_lexer": "ipython3",
   "version": "3.8.3"
  }
 },
 "nbformat": 4,
 "nbformat_minor": 4
}
