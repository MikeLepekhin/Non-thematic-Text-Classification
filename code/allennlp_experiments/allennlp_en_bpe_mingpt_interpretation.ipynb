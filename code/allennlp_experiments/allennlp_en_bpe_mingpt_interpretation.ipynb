{
 "cells": [
  {
   "cell_type": "code",
   "execution_count": 1,
   "metadata": {},
   "outputs": [],
   "source": [
    "from os.path import join as pathjoin\n",
    "from data_processing import *\n",
    "from interpretation import *\n",
    "from models import *\n",
    "from training import *"
   ]
  },
  {
   "cell_type": "code",
   "execution_count": 2,
   "metadata": {},
   "outputs": [],
   "source": [
    "DATA_DIR = '/home/mlepekhin/data/min_gpt_bpe'\n",
    "MODELS_DIR = '/home/mlepekhin/models'\n",
    "MODEL_ID = 'allennlp_bert_base_cased'\n",
    "CHECKPOINTS_DIR = pathjoin(MODELS_DIR, MODEL_ID, 'checkpoints')\n",
    "BEST_MODEL = pathjoin(CHECKPOINTS_DIR, 'best.th')"
   ]
  },
  {
   "cell_type": "code",
   "execution_count": 3,
   "metadata": {},
   "outputs": [],
   "source": [
    "transformer_model = 'bert-base-cased'\n",
    "MAX_TOKENS = 512"
   ]
  },
  {
   "cell_type": "markdown",
   "metadata": {},
   "source": [
    "### Loading of the pretrained model"
   ]
  },
  {
   "cell_type": "code",
   "execution_count": 4,
   "metadata": {},
   "outputs": [
    {
     "name": "stdout",
     "output_type": "stream",
     "text": [
      "Building the model\n"
     ]
    }
   ],
   "source": [
    "vocab = Vocabulary().from_files(pathjoin(MODELS_DIR, MODEL_ID, 'vocab'))\n",
    "model = build_transformer_model(vocab, transformer_model)"
   ]
  },
  {
   "cell_type": "code",
   "execution_count": 5,
   "metadata": {},
   "outputs": [
    {
     "name": "stdout",
     "output_type": "stream",
     "text": [
      "{0: 'A1', 1: 'A12', 2: 'A7', 3: 'A16', 4: 'A8', 5: 'A22', 6: 'A4', 7: 'A11', 8: 'A14', 9: 'A9', 10: 'A17'}\n",
      "dict_values(['A1', 'A12', 'A7', 'A16', 'A8', 'A22', 'A4', 'A11', 'A14', 'A9', 'A17'])\n"
     ]
    }
   ],
   "source": [
    "id_to_label = vocab.get_index_to_token_vocabulary('labels')\n",
    "print(id_to_label)\n",
    "print(id_to_label.values())"
   ]
  },
  {
   "cell_type": "code",
   "execution_count": 6,
   "metadata": {},
   "outputs": [
    {
     "name": "stdout",
     "output_type": "stream",
     "text": [
      "1\n"
     ]
    },
    {
     "data": {
      "text/plain": [
       "<All keys matched successfully>"
      ]
     },
     "execution_count": 6,
     "metadata": {},
     "output_type": "execute_result"
    }
   ],
   "source": [
    "if torch.cuda.is_available():\n",
    "    cuda_device = 1\n",
    "else:\n",
    "    cuda_device = -1\n",
    "print(cuda_device)\n",
    "model.load_state_dict(torch.load(BEST_MODEL, map_location=f'cuda:{cuda_device}'))"
   ]
  },
  {
   "cell_type": "markdown",
   "metadata": {},
   "source": [
    "### Data loading"
   ]
  },
  {
   "cell_type": "code",
   "execution_count": 7,
   "metadata": {},
   "outputs": [
    {
     "data": {
      "text/html": [
       "<div>\n",
       "<style scoped>\n",
       "    .dataframe tbody tr th:only-of-type {\n",
       "        vertical-align: middle;\n",
       "    }\n",
       "\n",
       "    .dataframe tbody tr th {\n",
       "        vertical-align: top;\n",
       "    }\n",
       "\n",
       "    .dataframe thead th {\n",
       "        text-align: right;\n",
       "    }\n",
       "</style>\n",
       "<table border=\"1\" class=\"dataframe\">\n",
       "  <thead>\n",
       "    <tr style=\"text-align: right;\">\n",
       "      <th></th>\n",
       "      <th>Unnamed: 0</th>\n",
       "      <th>target</th>\n",
       "      <th>text</th>\n",
       "    </tr>\n",
       "  </thead>\n",
       "  <tbody>\n",
       "    <tr>\n",
       "      <th>0</th>\n",
       "      <td>0</td>\n",
       "      <td>A4</td>\n",
       "      <td>hot - water ; she now , and then she darted th...</td>\n",
       "    </tr>\n",
       "    <tr>\n",
       "      <th>1</th>\n",
       "      <td>1</td>\n",
       "      <td>A4</td>\n",
       "      <td>##hantom , his be a real education frequenters...</td>\n",
       "    </tr>\n",
       "    <tr>\n",
       "      <th>2</th>\n",
       "      <td>2</td>\n",
       "      <td>A4</td>\n",
       "      <td>completed . The Mandarin uses his own allies f...</td>\n",
       "    </tr>\n",
       "    <tr>\n",
       "      <th>3</th>\n",
       "      <td>3</td>\n",
       "      <td>A4</td>\n",
       "      <td>chiefs to Nazareth with John , their glances t...</td>\n",
       "    </tr>\n",
       "    <tr>\n",
       "      <th>4</th>\n",
       "      <td>4</td>\n",
       "      <td>A4</td>\n",
       "      <td>youngest , and see the mermaids , and then , a...</td>\n",
       "    </tr>\n",
       "  </tbody>\n",
       "</table>\n",
       "</div>"
      ],
      "text/plain": [
       "   Unnamed: 0 target                                               text\n",
       "0           0     A4  hot - water ; she now , and then she darted th...\n",
       "1           1     A4  ##hantom , his be a real education frequenters...\n",
       "2           2     A4  completed . The Mandarin uses his own allies f...\n",
       "3           3     A4  chiefs to Nazareth with John , their glances t...\n",
       "4           4     A4  youngest , and see the mermaids , and then , a..."
      ]
     },
     "execution_count": 7,
     "metadata": {},
     "output_type": "execute_result"
    }
   ],
   "source": [
    "en_test_df = pd.read_csv(pathjoin(DATA_DIR, 'en'))\n",
    "en_test_df.head()"
   ]
  },
  {
   "cell_type": "code",
   "execution_count": 8,
   "metadata": {},
   "outputs": [],
   "source": [
    "true_classes = en_test_df.target.values\n",
    "sentences = en_test_df.text.values"
   ]
  },
  {
   "cell_type": "markdown",
   "metadata": {},
   "source": [
    "### Preliminary analysis"
   ]
  },
  {
   "cell_type": "code",
   "execution_count": 9,
   "metadata": {},
   "outputs": [],
   "source": [
    "dataset_reader = build_transformer_dataset_reader(transformer_model, MAX_TOKENS)\n",
    "predictor = TextClassifierPredictor(model, dataset_reader=dataset_reader)\n",
    "predicted_classes = np.array(predict_classes(sentences, predictor, vocab))"
   ]
  },
  {
   "cell_type": "code",
   "execution_count": 10,
   "metadata": {},
   "outputs": [
    {
     "name": "stdout",
     "output_type": "stream",
     "text": [
      "<class 'numpy.ndarray'>\n"
     ]
    }
   ],
   "source": [
    "print(type(predicted_classes == 'A1'))"
   ]
  },
  {
   "cell_type": "code",
   "execution_count": 11,
   "metadata": {},
   "outputs": [
    {
     "name": "stdout",
     "output_type": "stream",
     "text": [
      "11\n"
     ]
    }
   ],
   "source": [
    "print(len(np.unique(true_classes)))"
   ]
  },
  {
   "cell_type": "code",
   "execution_count": 12,
   "metadata": {},
   "outputs": [
    {
     "name": "stdout",
     "output_type": "stream",
     "text": [
      "label (argum) f1_score 0.6530612244897959 precision 0.8 recall 0.5517241379310345\n",
      "label (fictive) f1_score 0.9523809523809523 precision 1.0 recall 0.9090909090909091\n",
      "label (instruct) f1_score 0.761904761904762 precision 0.8 recall 0.7272727272727273\n",
      "label (reporting) f1_score 0.9047619047619048 precision 0.95 recall 0.8636363636363636\n",
      "label (legal) f1_score 0.9189189189189189 precision 0.85 recall 1.0\n",
      "label (personal) f1_score 0.5263157894736842 precision 0.5 recall 0.5555555555555556\n",
      "label (commercial) f1_score 0.717948717948718 precision 0.7 recall 0.7368421052631579\n",
      "label (research) f1_score 0.7499999999999999 precision 0.6 recall 1.0\n",
      "label (info) f1_score 0.7317073170731706 precision 0.75 recall 0.7142857142857143\n",
      "label (eval) f1_score 0.625 precision 0.5 recall 0.8333333333333334\n",
      "label (stuff) f1_score 0.8260869565217392 precision 0.95 recall 0.7307692307692307\n",
      "accuracy 0.7636363636363637\n"
     ]
    }
   ],
   "source": [
    "calc_classifier_metrics(predicted_classes, true_classes)"
   ]
  },
  {
   "cell_type": "code",
   "execution_count": 13,
   "metadata": {},
   "outputs": [
    {
     "data": {
      "image/png": "[encoded data removed]",
      "text/plain": [
       "<Figure size 1080x1080 with 2 Axes>"
      ]
     },
     "metadata": {
      "needs_background": "light"
     },
     "output_type": "display_data"
    }
   ],
   "source": [
    "plot_confusion_matrix(predicted_classes, true_classes)"
   ]
  },
  {
   "cell_type": "markdown",
   "metadata": {},
   "source": [
    "### Saliency Gradient Interpretation"
   ]
  },
  {
   "cell_type": "code",
   "execution_count": 14,
   "metadata": {},
   "outputs": [],
   "source": [
    "smooth_grad = SmoothGradient(predictor)\n",
    "simple_grad = SimpleGradient(predictor)\n",
    "integrated_grad = IntegratedGradient(predictor)"
   ]
  },
  {
   "cell_type": "code",
   "execution_count": 15,
   "metadata": {},
   "outputs": [],
   "source": [
    "mistake_ids = []\n",
    "\n",
    "for sent_id in range(len(true_classes)):\n",
    "    if true_classes[sent_id] != predicted_classes[sent_id]:\n",
    "        mistake_ids.append(sent_id)"
   ]
  },
  {
   "cell_type": "code",
   "execution_count": 16,
   "metadata": {},
   "outputs": [
    {
     "name": "stdout",
     "output_type": "stream",
     "text": [
      "TRUE LABEL: instruct\n",
      "LABEL: argum\n",
      "<class 'allennlp.interpret.saliency_interpreters.smooth_gradient.SmoothGradient'> TEXT:\n",
      "Counter \u001b[31mto\u001b[0m \u001b[31msee\u001b[0m a color \u001b[31mof\u001b[0m one of the projects work \" knob \u001b[31m\"\u001b[0m . The client will vary since we recommend trading \u001b[31mat\u001b[0m least a year \u001b[31mteam\u001b[0m . It ' s more than 4 . This is why people and see why this happens \u001b[31mif\u001b[0m you do n ' t believe in someone else is one another kind of distraction ##s . When you go , even your \u001b[31mloser\u001b[0m \u001b[31m##s\u001b[0m . They can find into the 7 . uk and we have someone else , so remote can NE ##VE ##R are much better . < / do ##c > The worst \u001b[31mone\u001b[0m was ' s a result of people who cry for him to work with children \u001b[31m,\u001b[0m and people with AD ##HD . This ' s something positive outcomes is limit ##less , so imagination \u001b[31m##s\u001b[0m , blocks of toys , blocks . Block \u001b[31mplay\u001b[0m \u001b[31mcan\u001b[0m be great for many ages \u001b[31m.\u001b[0m From simple stack - up and knock - over fun to im ##agi ##nat ##ive building . Block ##s teach problem \u001b[31m-\u001b[0m solving skills , because a child discovers how stack ##ing and matching can produce different results . They can also become components of pretend play , because a child \u001b[31mcan\u001b[0m fan ##tas ##ize what the structures \u001b[31mare\u001b[0m . There are also big \u001b[31mfoam\u001b[0m \u001b[31mblocks\u001b[0m that are almost \u001b[31m\"\u001b[0m life size \" and let children \u001b[31mcreate\u001b[0m their own fantasy play ##houses . These lightweight \u001b[31mblocks\u001b[0m are so versatile \u001b[31m,\u001b[0m they can be climbed on or tunnel ##ed under . Ma ##gnetic block and construction sets have pieces that connect in more ways than can conventional plastic \u001b[31msnap\u001b[0m \u001b[31m-\u001b[0m together blocks and allow even more im ##agi ##nat ##ive opportunities . We also carry a selection of traditional and colorful wooden blocks that are full of fantasy building opportunities . Block ##s , like many traditional toys , have other educational advantages for a child with AD ##HD . The number of positive outcomes \u001b[31mis\u001b[0m limit ##less , so children \u001b[31mcan\u001b[0m continue playing until they ' ve reached a level of personal satisfaction \u001b[31m.\u001b[0m Whether the child \u001b[31mis\u001b[0m building with traditional \u001b[31mblocks\u001b[0m or shoe ##box ##es , try to show interest in every structure . En ##co ##urage \u001b[31mthe\u001b[0m child to name creations \u001b[31m,\u001b[0m even if it ' s simply W ##ob ##bly Land or Crazy \u001b[31mTower\u001b[0m . Show \u001b[31m##ing\u001b[0m interest without \u001b[31mcriticism\u001b[0m \u001b[31moffers\u001b[0m your child \u001b[31mvaluable\u001b[0m \u001b[31m,\u001b[0m long - lasting \u001b[31ma\u001b[0m ##ff ##ir ##mation . Art \u001b[31mActivities\u001b[0m – Any medium such as c ##ray ##ons , chalk , paint and clay can give a child a wealth of expressive \u001b[31mopportunities\u001b[0m . Sometimes you may want \u001b[31mto\u001b[0m suggest \u001b[31ma\u001b[0m subject idea to get them started . Art supplies \u001b[31mare\u001b[0m some of the least expensive educational toys \u001b[31myou\u001b[0m can provide . G ##wyn ##n used to bring home old station ##ery and unused printed samples to give her \u001b[31mchildren\u001b[0m \u001b[31ma\u001b[0m virtually unlimited supply of art \u001b[31mpaper\u001b[0m . She ' d also purchase \u001b[31mlow\u001b[0m - end copy paper [SEP] \n",
      "\n",
      "<class 'allennlp.interpret.saliency_interpreters.simple_gradient.SimpleGradient'> TEXT:\n",
      "Counter to \u001b[31msee\u001b[0m a color of one of the projects \u001b[31mwork\u001b[0m \u001b[31m\"\u001b[0m \u001b[31mknob\u001b[0m \u001b[31m\"\u001b[0m \u001b[31m.\u001b[0m The \u001b[31mclient\u001b[0m \u001b[31mwill\u001b[0m \u001b[31mvary\u001b[0m \u001b[31msince\u001b[0m we recommend trading at \u001b[31mleast\u001b[0m \u001b[31ma\u001b[0m year team \u001b[31m.\u001b[0m It \u001b[31m'\u001b[0m s more than 4 . This is why people and see why this happens if you do n ' t believe in someone else is one another kind of distraction \u001b[31m##s\u001b[0m . When \u001b[31myou\u001b[0m \u001b[31mgo\u001b[0m , even your loser ##s . They can find into the 7 . uk \u001b[31mand\u001b[0m we have someone else , so remote can NE ##VE ##R are much better . < \u001b[31m/\u001b[0m \u001b[31mdo\u001b[0m ##c > \u001b[31mThe\u001b[0m worst one was ' s a result of people who cry \u001b[31mfor\u001b[0m him to work with children , and people with AD ##HD . This ' s something positive outcomes is limit ##less , so imagination ##s , blocks of toys , blocks . Block \u001b[31mplay\u001b[0m \u001b[31mcan\u001b[0m \u001b[31mbe\u001b[0m great for many ages . From simple stack - up \u001b[31mand\u001b[0m knock - over fun to im ##agi ##nat ##ive building . Block ##s teach problem \u001b[31m-\u001b[0m solving skills , because a child discovers how stack ##ing and matching can produce different results . They can also become components of pretend play , because a child can fan ##tas ##ize what the structures are . There are also big foam blocks \u001b[31mthat\u001b[0m are almost \" life size \" and let children create their own fantasy play ##houses . These lightweight \u001b[31mblocks\u001b[0m are so versatile \u001b[31m,\u001b[0m they can be climbed on or tunnel ##ed under . Ma ##gnetic block and construction sets \u001b[31mhave\u001b[0m pieces that connect in more ways than can conventional \u001b[31mplastic\u001b[0m \u001b[31msnap\u001b[0m - together blocks and allow even more im ##agi ##nat ##ive opportunities . We also carry a selection of traditional and colorful wooden blocks that are full of fantasy building opportunities . \u001b[31mBlock\u001b[0m \u001b[31m##s\u001b[0m \u001b[31m,\u001b[0m like many traditional toys , have other educational advantages for a child with AD ##HD . The number of positive outcomes is limit ##less , \u001b[31mso\u001b[0m \u001b[31mchildren\u001b[0m \u001b[31mcan\u001b[0m \u001b[31mcontinue\u001b[0m playing until they ' ve reached a level of personal satisfaction \u001b[31m.\u001b[0m Whether the child \u001b[31mis\u001b[0m building with traditional blocks or shoe ##box ##es , try to show interest in every structure . En ##co ##urage the child \u001b[31mto\u001b[0m name \u001b[31mcreations\u001b[0m , even if it ' s simply W ##ob ##bly Land or Crazy Tower . Show \u001b[31m##ing\u001b[0m interest without \u001b[31mcriticism\u001b[0m offers your child valuable , long - lasting a ##ff ##ir ##mation . Art Activities – \u001b[31mAny\u001b[0m medium such as c ##ray ##ons , chalk \u001b[31m,\u001b[0m paint and clay can give a child a wealth \u001b[31mof\u001b[0m expressive opportunities . Sometimes you may want \u001b[31mto\u001b[0m suggest a subject idea to get them started . Art supplies are some of the least expensive educational toys you can provide . G ##wyn ##n used to bring home old station ##ery and unused printed samples to give her children a virtually unlimited supply of art paper . She ' d also purchase low - end copy paper [SEP] \n",
      "\n",
      "<class 'allennlp.interpret.saliency_interpreters.integrated_gradient.IntegratedGradient'> TEXT:\n",
      "\u001b[31mCounter\u001b[0m \u001b[31mto\u001b[0m \u001b[31msee\u001b[0m \u001b[31ma\u001b[0m color of one of the \u001b[31mprojects\u001b[0m \u001b[31mwork\u001b[0m \u001b[31m\"\u001b[0m \u001b[31mknob\u001b[0m \" . The client \u001b[31mwill\u001b[0m vary \u001b[31msince\u001b[0m we \u001b[31mrecommend\u001b[0m \u001b[31mtrading\u001b[0m \u001b[31mat\u001b[0m least \u001b[31ma\u001b[0m year team \u001b[31m.\u001b[0m It \u001b[31m'\u001b[0m s more than 4 \u001b[31m.\u001b[0m This is why people and see why this happens if you do n ' t believe in someone else is one \u001b[31manother\u001b[0m kind of distraction \u001b[31m##s\u001b[0m . When \u001b[31myou\u001b[0m go , even your loser ##s . They can find into the 7 . uk and we have someone else , so remote can NE ##VE ##R are much better . < / do ##c > The \u001b[31mworst\u001b[0m one was ' s a result of people who cry for him to work with children \u001b[31m,\u001b[0m and people with AD ##HD \u001b[31m.\u001b[0m This ' s something positive outcomes is limit ##less , so imagination ##s , blocks of toys , blocks . Block \u001b[31mplay\u001b[0m can be great for many ages . From simple stack - up and knock - over fun to im ##agi ##nat ##ive building . Block \u001b[31m##s\u001b[0m teach \u001b[31mproblem\u001b[0m - solving skills , because a child \u001b[31mdiscovers\u001b[0m how stack ##ing and matching can produce different results . They can also become components of pretend play , because a child \u001b[31mcan\u001b[0m fan ##tas ##ize what the structures are . There are also big foam blocks that are almost \" life size \u001b[31m\"\u001b[0m and let children \u001b[31mcreate\u001b[0m their own fantasy play ##houses . These lightweight \u001b[31mblocks\u001b[0m are so versatile \u001b[31m,\u001b[0m they can be climbed on or tunnel ##ed under . Ma ##gnetic block and construction sets have pieces that connect in more ways than can conventional plastic snap - together blocks and allow even more im ##agi ##nat ##ive opportunities . We also carry a selection of traditional and colorful wooden blocks that are full of fantasy \u001b[31mbuilding\u001b[0m opportunities . Block ##s , like many traditional toys , have other educational advantages for a child \u001b[31mwith\u001b[0m AD ##HD \u001b[31m.\u001b[0m The number of positive outcomes is limit ##less , so children \u001b[31mcan\u001b[0m \u001b[31mcontinue\u001b[0m \u001b[31mplaying\u001b[0m \u001b[31muntil\u001b[0m they ' ve reached a level of personal satisfaction . Whether the child \u001b[31mis\u001b[0m building with traditional blocks or shoe ##box ##es , try to show interest in every structure . En ##co ##urage the child \u001b[31mto\u001b[0m name \u001b[31mcreations\u001b[0m , even if it ' s simply W ##ob ##bly Land or Crazy Tower . Show \u001b[31m##ing\u001b[0m interest without criticism offers your child \u001b[31mvaluable\u001b[0m , long - lasting a ##ff ##ir ##mation . Art Activities – \u001b[31mAny\u001b[0m medium such as c ##ray ##ons , chalk , paint and clay can give a child \u001b[31ma\u001b[0m wealth of expressive opportunities . Sometimes you may want to suggest \u001b[31ma\u001b[0m subject idea to get them started . Art supplies are some of the least expensive educational toys you can provide . G ##wyn ##n used to bring home old station ##ery and unused printed samples to give her children \u001b[31ma\u001b[0m virtually unlimited \u001b[31msupply\u001b[0m of art paper . She ' d also purchase low - end copy paper [SEP] \n",
      "\n"
     ]
    }
   ],
   "source": [
    "interpret_sentence(\n",
    "    sentences[mistake_ids[0]], dataset_reader.tokenizer, 50, \n",
    "    [smooth_grad, simple_grad, integrated_grad],\n",
    "    label_description[true_classes[mistake_ids[0]]],\n",
    "    label_description[predicted_classes[mistake_ids[0]]]\n",
    ")"
   ]
  },
  {
   "cell_type": "code",
   "execution_count": 17,
   "metadata": {},
   "outputs": [
    {
     "name": "stdout",
     "output_type": "stream",
     "text": [
      "TRUE LABEL: instruct\n",
      "LABEL: reporting\n",
      "<class 'allennlp.interpret.saliency_interpreters.smooth_gradient.SmoothGradient'> TEXT:\n",
      "2010 . The Mid \u001b[31m##wife\u001b[0m \u001b[31m##ry\u001b[0m \u001b[31mOfficer\u001b[0m on the following procedures outline the key of \u001b[31mthe\u001b[0m So ##M . \u001b[31m·\u001b[0m The So ##M should \u001b[31mbe\u001b[0m reviewed \u001b[31mby\u001b[0m the So ##M will ensure that appropriate support is offered to the staff involved . Personnel such as the staff \u001b[31mcounsel\u001b[0m ##lor or \u001b[31mHospital\u001b[0m chaplain may support the So ##M with \u001b[31mthis\u001b[0m . · \u001b[31mThe\u001b[0m \u001b[31mSo\u001b[0m ##M responsible for CE ##MA ##CH and the Head of Mid ##wife \u001b[31m##ry\u001b[0m ( Ho ##M ) should be informed \u001b[31mas\u001b[0m soon as possible within normal working hours . A ##ppe ##ndi ##x 1 offers a check ##list that may \u001b[31mbe\u001b[0m used . I ##MM ##ED ##IA ##TE ACT ##ION ##S - D ##IR ##EC ##T MA ##TE ##RNA ##L DE ##AT ##H IN PR ##IM ##AR ##Y CA ##RE The woman \u001b[31m'\u001b[0m s Mid ##wife is responsible for ensuring \u001b[31mthat\u001b[0m a So ##M is informed \u001b[31mof\u001b[0m any maternal \u001b[31mdeath\u001b[0m that comes to her attention \u001b[31min\u001b[0m the Primary Care setting . The So ##M will not ##ify the Ho ##M and the L ##SA and CE ##MA ##CH . The GP should also have notified \u001b[31mthe\u001b[0m Hospital if the woman has delivered or received care there . R ##OL ##E OF THE CE ##MA ##CH S ##UP ##ER ##VI ##SO ##R OF MI ##D ##WI ##VE ##S · The CE ##MA ##CH So ##M may \u001b[31mneed\u001b[0m to be released from duties to undertake this role . · \u001b[31mThe\u001b[0m CE ##MA ##CH So ##M should ensure that the local Trust ##s policies have been followed . · \u001b[31mThe\u001b[0m \u001b[31mdeath\u001b[0m is reported \u001b[31mas\u001b[0m a Ser ##ious Un ##to ##ward Incident \u001b[31m(\u001b[0m S ##UI ) . This is usually \u001b[31mundertaken\u001b[0m via the Trust ##s Go ##vern ##ance leads . · \u001b[31mThe\u001b[0m \u001b[31mdeath\u001b[0m will be reported the Local Super ##vis ##ing Authority Mid ##wife \u001b[31m##ry\u001b[0m Officer \u001b[31m(\u001b[0m L ##SA ##MO ) as soon as p ##rac ##tica ##bly possible initially verbal \u001b[31m##ly\u001b[0m followed by the maternal death \u001b[31mpro\u001b[0m ##form ##a . · \u001b[31mThe\u001b[0m So ##M should ensure communication \u001b[31mtakes\u001b[0m place within and across the primary \u001b[31mand\u001b[0m secondary \u001b[31msector\u001b[0m \u001b[31m,\u001b[0m \u001b[31mincluding\u001b[0m the family GP , and any other statutory \u001b[31magency\u001b[0m \u001b[31mconnected\u001b[0m to the family . · \u001b[31mThe\u001b[0m CE ##MA ##CH \u001b[31mSo\u001b[0m ##M will arrange a de ##bri ##ef ##ing of all staff involved . O ##TH ##ER DE ##AT ##HS ( \u001b[31mIN\u001b[0m ##DI ##RE ##CT , CO ##NI ##CI ##DE ##NT ##AL AND LA ##TE ) All other deaths should be dealt with on an individual basis as these may include , murder \u001b[31m,\u001b[0m suicide , road traffic collision \u001b[31m,\u001b[0m women with known terminal illness \u001b[31m.\u001b[0m CO ##MP ##LE ##TI ##NG THE E ##N ##Q ##UI ##R ##Y F ##OR ##M The CE ##MA ##CH So ##M coordinating the en ##qui ##ry should send a copy of the CE ##MA ##CH not ##ification form to the regional coordinator . On re ##ceipt of the booklet it is essential \u001b[31mthat\u001b[0m the CE ##MA ##CH So ##M tracks the booklet internally and seeks \u001b[31mto\u001b[0m have [SEP] \n",
      "\n",
      "<class 'allennlp.interpret.saliency_interpreters.simple_gradient.SimpleGradient'> TEXT:\n",
      "2010 \u001b[31m.\u001b[0m The \u001b[31mMid\u001b[0m \u001b[31m##wife\u001b[0m ##ry Officer on the \u001b[31mfollowing\u001b[0m \u001b[31mprocedures\u001b[0m \u001b[31moutline\u001b[0m the \u001b[31mkey\u001b[0m \u001b[31mof\u001b[0m \u001b[31mthe\u001b[0m So ##M . · \u001b[31mThe\u001b[0m So ##M should be reviewed \u001b[31mby\u001b[0m \u001b[31mthe\u001b[0m \u001b[31mSo\u001b[0m ##M will \u001b[31mensure\u001b[0m that appropriate support is offered to the staff involved . Personnel such as the staff counsel ##lor or Hospital \u001b[31mchaplain\u001b[0m \u001b[31mmay\u001b[0m \u001b[31msupport\u001b[0m \u001b[31mthe\u001b[0m So ##M with this . · The \u001b[31mSo\u001b[0m ##M responsible for CE ##MA ##CH and the Head of Mid \u001b[31m##wife\u001b[0m ##ry ( Ho ##M ) should be informed as soon as possible within normal working hours . A ##ppe ##ndi ##x 1 \u001b[31moffers\u001b[0m a check ##list that may be used . I ##MM ##ED ##IA ##TE ACT ##ION ##S - D ##IR ##EC ##T MA ##TE ##RNA ##L DE ##AT ##H IN PR ##IM ##AR ##Y CA ##RE The woman \u001b[31m'\u001b[0m s Mid \u001b[31m##wife\u001b[0m is responsible for ensuring that a So ##M is informed of any maternal \u001b[31mdeath\u001b[0m that comes to her attention in the \u001b[31mPrimary\u001b[0m Care setting . The So ##M will not ##ify the Ho ##M and the L ##SA and CE ##MA ##CH . The GP should also have notified \u001b[31mthe\u001b[0m Hospital if the woman has delivered or received care there . R ##OL ##E OF THE CE ##MA ##CH S ##UP ##ER ##VI ##SO ##R OF MI ##D ##WI ##VE ##S · The \u001b[31mCE\u001b[0m ##MA ##CH So ##M may need to be released from duties to undertake this role . · The \u001b[31mCE\u001b[0m ##MA ##CH So ##M should ensure that the local Trust \u001b[31m##s\u001b[0m \u001b[31mpolicies\u001b[0m have been followed . \u001b[31m·\u001b[0m \u001b[31mThe\u001b[0m \u001b[31mdeath\u001b[0m \u001b[31mis\u001b[0m \u001b[31mreported\u001b[0m \u001b[31mas\u001b[0m a Ser ##ious Un ##to ##ward Incident ( S ##UI ) . This is usually \u001b[31mundertaken\u001b[0m via \u001b[31mthe\u001b[0m Trust ##s Go ##vern ##ance leads . · The \u001b[31mdeath\u001b[0m will be reported the Local Super ##vis ##ing Authority Mid ##wife ##ry Officer \u001b[31m(\u001b[0m L ##SA ##MO ) as soon as p ##rac ##tica ##bly possible initially verbal \u001b[31m##ly\u001b[0m followed by the maternal death pro ##form ##a . · The So ##M should ensure communication takes place within and across the primary \u001b[31mand\u001b[0m secondary sector , including the family GP , and any other statutory agency \u001b[31mconnected\u001b[0m to the \u001b[31mfamily\u001b[0m . · \u001b[31mThe\u001b[0m CE ##MA ##CH So ##M will \u001b[31marrange\u001b[0m a de ##bri ##ef ##ing of all staff \u001b[31minvolved\u001b[0m . O ##TH ##ER DE ##AT ##HS ( IN ##DI ##RE ##CT , CO ##NI ##CI ##DE ##NT ##AL AND LA ##TE ) All other deaths should be dealt with on an individual basis as these may include , murder \u001b[31m,\u001b[0m suicide , road traffic collision , women with known terminal illness . CO ##MP ##LE ##TI ##NG THE E ##N ##Q ##UI ##R ##Y F ##OR ##M The CE ##MA ##CH So ##M coordinating the en ##qui ##ry should send a copy of the CE ##MA ##CH not ##ification form to the regional coordinator . On re ##ceipt of the booklet it is essential that the CE ##MA ##CH So ##M tracks the booklet internally and seeks \u001b[31mto\u001b[0m have [SEP] \n",
      "\n",
      "<class 'allennlp.interpret.saliency_interpreters.integrated_gradient.IntegratedGradient'> TEXT:\n",
      "\u001b[31m2010\u001b[0m \u001b[31m.\u001b[0m The Mid ##wife ##ry \u001b[31mOfficer\u001b[0m \u001b[31mon\u001b[0m the following procedures outline \u001b[31mthe\u001b[0m key \u001b[31mof\u001b[0m \u001b[31mthe\u001b[0m So \u001b[31m##M\u001b[0m \u001b[31m.\u001b[0m · \u001b[31mThe\u001b[0m So ##M should \u001b[31mbe\u001b[0m reviewed \u001b[31mby\u001b[0m the So ##M will ensure that appropriate support is offered to the staff \u001b[31minvolved\u001b[0m . Personnel \u001b[31msuch\u001b[0m as the staff counsel ##lor or Hospital \u001b[31mchaplain\u001b[0m \u001b[31mmay\u001b[0m \u001b[31msupport\u001b[0m \u001b[31mthe\u001b[0m So \u001b[31m##M\u001b[0m \u001b[31mwith\u001b[0m this . \u001b[31m·\u001b[0m The So \u001b[31m##M\u001b[0m \u001b[31mresponsible\u001b[0m for CE ##MA ##CH and the Head of Mid ##wife \u001b[31m##ry\u001b[0m ( Ho ##M ) should be informed as soon as possible within normal working hours . A ##ppe ##ndi ##x 1 offers a check ##list that may be used . I ##MM ##ED ##IA ##TE ACT ##ION ##S - D ##IR ##EC ##T MA ##TE ##RNA ##L DE ##AT ##H IN PR ##IM ##AR ##Y CA ##RE The woman ' s Mid ##wife is responsible for ensuring that a So ##M is informed of any maternal \u001b[31mdeath\u001b[0m that comes to her attention in the Primary Care setting . The So ##M will \u001b[31mnot\u001b[0m ##ify the Ho ##M and the L ##SA and CE ##MA ##CH . The GP \u001b[31mshould\u001b[0m also have notified \u001b[31mthe\u001b[0m Hospital \u001b[31mif\u001b[0m the woman has delivered or received care there . R ##OL ##E OF THE CE ##MA ##CH S ##UP ##ER ##VI ##SO ##R OF MI ##D ##WI ##VE ##S · The CE ##MA ##CH So ##M may need to be released from duties to undertake this role . · The CE ##MA ##CH \u001b[31mSo\u001b[0m ##M should ensure that the local \u001b[31mTrust\u001b[0m \u001b[31m##s\u001b[0m policies have been followed . · The \u001b[31mdeath\u001b[0m \u001b[31mis\u001b[0m reported \u001b[31mas\u001b[0m a Ser ##ious Un ##to ##ward Incident \u001b[31m(\u001b[0m S ##UI ) . This is usually undertaken via the Trust ##s Go ##vern ##ance leads . · The death will be reported the Local Super ##vis ##ing Authority \u001b[31mMid\u001b[0m ##wife ##ry Officer \u001b[31m(\u001b[0m L ##SA ##MO ) as soon as p ##rac ##tica ##bly possible initially verbal ##ly followed by the maternal death pro ##form ##a . · \u001b[31mThe\u001b[0m \u001b[31mSo\u001b[0m ##M should \u001b[31mensure\u001b[0m communication takes place within and across the primary and secondary sector \u001b[31m,\u001b[0m including the family GP , and any other statutory \u001b[31magency\u001b[0m \u001b[31mconnected\u001b[0m to the family . · \u001b[31mThe\u001b[0m CE ##MA ##CH So ##M will \u001b[31marrange\u001b[0m \u001b[31ma\u001b[0m de ##bri ##ef ##ing of all staff involved . O ##TH ##ER DE ##AT ##HS ( IN ##DI ##RE ##CT , CO ##NI ##CI ##DE ##NT ##AL AND LA ##TE ) All other deaths should be dealt with on an individual basis as these may include , murder , suicide , road traffic collision , women with known terminal illness . CO ##MP ##LE ##TI ##NG THE E ##N ##Q ##UI ##R ##Y F ##OR ##M The CE ##MA ##CH So ##M coordinating the en ##qui ##ry should send a copy of the CE ##MA ##CH not ##ification form to the regional coordinator . On re ##ceipt of the booklet it is essential \u001b[31mthat\u001b[0m the CE ##MA ##CH So ##M tracks the booklet internally and seeks \u001b[31mto\u001b[0m have [SEP] \n",
      "\n"
     ]
    }
   ],
   "source": [
    "interpret_sentence(\n",
    "    sentences[mistake_ids[1]], dataset_reader.tokenizer, 50, \n",
    "    [smooth_grad, simple_grad, integrated_grad],\n",
    "    label_description[true_classes[mistake_ids[1]]],\n",
    "    label_description[predicted_classes[mistake_ids[1]]]\n",
    ")"
   ]
  },
  {
   "cell_type": "code",
   "execution_count": 18,
   "metadata": {},
   "outputs": [
    {
     "name": "stdout",
     "output_type": "stream",
     "text": [
      "TRUE LABEL: instruct\n",
      "LABEL: commercial\n",
      "<class 'allennlp.interpret.saliency_interpreters.smooth_gradient.SmoothGradient'> TEXT:\n",
      "\u001b[31m#\u001b[0m \u001b[31m#\u001b[0m UP ##WI ##VE ##R ##RE ##ically \u001b[31ma\u001b[0m death \u001b[31mthat\u001b[0m The CE ##MA ##CH So ##M tracks to be released from duties to undertake this role . · \u001b[31mThe\u001b[0m CE ##MA ##CH So ##M should \u001b[31mensure\u001b[0m \u001b[31mthat\u001b[0m the local Trust \u001b[31m##s\u001b[0m policies have been followed . · The death \u001b[31mis\u001b[0m reported as a Ser ##ious Un ##to ##ward Incident ( S ##UI ) . This is usually \u001b[31mundertaken\u001b[0m via the Trust ##s Go ##vern ##ance leads \u001b[31m.\u001b[0m \u001b[31m·\u001b[0m The death \u001b[31mwill\u001b[0m be reported the Local \u001b[31mSuper\u001b[0m ##vis ##ing Authority \u001b[31mMid\u001b[0m ##wife ##ry Officer ( L ##SA ##MO ) as soon \u001b[31mas\u001b[0m p ##rac ##tica ##bly possible initially verbal \u001b[31m##ly\u001b[0m followed by the maternal death pro ##form ##a . · The So ##M should ensure communication \u001b[31mtakes\u001b[0m place within and across the primary and secondary sector \u001b[31m,\u001b[0m including the family GP , and any other statutory agency \u001b[31mconnected\u001b[0m to the family . · \u001b[31mThe\u001b[0m CE ##MA ##CH So ##M will arrange a de ##bri ##ef ##ing of all staff involved . O ##TH ##ER DE ##AT ##HS ( IN ##DI ##RE ##CT , CO ##NI ##CI ##DE ##NT ##AL AND LA ##TE ) All other deaths should be dealt with on an individual basis as these may include , murder , suicide \u001b[31m,\u001b[0m road traffic collision , women with known terminal illness . CO ##MP ##LE ##TI ##NG THE E ##N ##Q ##UI ##R ##Y F ##OR ##M The CE ##MA ##CH So ##M coordinating \u001b[31mthe\u001b[0m en ##qui ##ry should send a copy of the CE ##MA ##CH not ##ification form to the regional \u001b[31mcoordinator\u001b[0m . On re ##ceipt \u001b[31mof\u001b[0m the booklet \u001b[31mit\u001b[0m is essential \u001b[31mthat\u001b[0m the CE ##MA ##CH So ##M tracks the progress of the booklet internally \u001b[31mand\u001b[0m seeks \u001b[31mto\u001b[0m have the booklet \u001b[31mreturned\u001b[0m to the regional \u001b[31mcoordinator\u001b[0m at the earliest ##la uses \u001b[31mthat\u001b[0m the earliest convenience . W ##H ##ER ##E TO GO F ##OR F ##UR ##TH ##ER AD ##VI ##CE South Yorkshire Jean Hawkins - L ##SA Mid \u001b[31m##wife\u001b[0m \u001b[31m##ry\u001b[0m Officer South Yorkshire \u001b[31mStrategic\u001b[0m \u001b[31mHealth\u001b[0m Authority Fu ##l ##wood House Old Fu ##l ##wood Road Fu ##l ##wood Sheffield \u001b[31mS\u001b[0m ##10 3 ##TH Tel \u001b[31m:\u001b[0m 01 ##14 226 ##33 ##5 ##2 Em ##ail : j ##ean . H a ##w ##kins @ \u001b[31myo\u001b[0m \u001b[31m##rks\u001b[0m ##and ##hum ##ber . n h ##s . u k Trent Shirley Smith - L ##SA Mid ##wife ##ry Officer \u001b[31mNHS\u001b[0m East Midlands Oct ##avia House Inter ##chang ##e Business Park Sand ##iac ##re Nottingham N ##G ##10 5 ##Q ##S Tel \u001b[31m:\u001b[0m 01 ##15 96 ##8 ##45 ##5 ##7 Em ##ail : \u001b[31mShirley\u001b[0m . s mit ##h @ \u001b[31meast\u001b[0m ##mi ##dl ##and ##s . n h ##s . u k Mat ##ern ##al En ##quiries Mid ##wife \u001b[31m##ry\u001b[0m As ##ses ##sors Ms Dot ##ty Watkins Director of Nursing \u001b[31mand\u001b[0m Mid ##wife \u001b[31m##ry\u001b[0m Royal Hall ##ams ##hire Hospital Sheffield Tel \u001b[31m01\u001b[0m ##14 226 ##8 ##42 ##9 Ms June Love ##tt Head of Mid ##wife ##ry Roth ##erham General Hospital \u001b[31mTel\u001b[0m 01 ##70 ##9 304 [SEP] \n",
      "\n",
      "<class 'allennlp.interpret.saliency_interpreters.simple_gradient.SimpleGradient'> TEXT:\n",
      "# # UP ##WI ##VE ##R ##RE ##ically a death \u001b[31mthat\u001b[0m The CE ##MA ##CH So ##M \u001b[31mtracks\u001b[0m \u001b[31mto\u001b[0m be released from duties \u001b[31mto\u001b[0m undertake this role . · The \u001b[31mCE\u001b[0m ##MA ##CH So ##M should \u001b[31mensure\u001b[0m \u001b[31mthat\u001b[0m the local Trust ##s policies have been followed . · The death \u001b[31mis\u001b[0m reported \u001b[31mas\u001b[0m a Ser ##ious Un ##to ##ward Incident \u001b[31m(\u001b[0m S ##UI ) \u001b[31m.\u001b[0m This \u001b[31mis\u001b[0m \u001b[31musually\u001b[0m \u001b[31mundertaken\u001b[0m via the Trust ##s Go ##vern ##ance leads \u001b[31m.\u001b[0m \u001b[31m·\u001b[0m The \u001b[31mdeath\u001b[0m will \u001b[31mbe\u001b[0m reported \u001b[31mthe\u001b[0m Local Super ##vis ##ing \u001b[31mAuthority\u001b[0m Mid ##wife ##ry \u001b[31mOfficer\u001b[0m ( L ##SA ##MO ) as soon as p ##rac ##tica ##bly possible initially \u001b[31mverbal\u001b[0m ##ly followed by the \u001b[31mmaternal\u001b[0m death pro ##form ##a . · The So ##M should \u001b[31mensure\u001b[0m communication \u001b[31mtakes\u001b[0m place within and across the primary and secondary sector , including the family GP , and any other statutory \u001b[31magency\u001b[0m connected to the \u001b[31mfamily\u001b[0m . · The CE ##MA ##CH So ##M will arrange a de ##bri ##ef ##ing of all staff involved . O ##TH ##ER DE ##AT ##HS ( IN ##DI ##RE ##CT , CO ##NI ##CI ##DE ##NT ##AL AND LA ##TE ) All other deaths should be dealt with on an individual basis as these may include , murder \u001b[31m,\u001b[0m suicide \u001b[31m,\u001b[0m road traffic collision \u001b[31m,\u001b[0m women with known terminal illness . CO ##MP ##LE ##TI ##NG THE E ##N ##Q ##UI ##R ##Y F ##OR ##M The CE ##MA ##CH So ##M coordinating the en ##qui ##ry should \u001b[31msend\u001b[0m a copy of the CE ##MA ##CH not ##ification form to the regional \u001b[31mcoordinator\u001b[0m . On re ##ceipt of the booklet \u001b[31mit\u001b[0m is essential \u001b[31mthat\u001b[0m the CE ##MA ##CH So ##M tracks \u001b[31mthe\u001b[0m progress of the \u001b[31mbooklet\u001b[0m internally and seeks to have the \u001b[31mbooklet\u001b[0m \u001b[31mreturned\u001b[0m to the regional \u001b[31mcoordinator\u001b[0m at the earliest ##la uses that the earliest convenience . W ##H ##ER ##E TO GO F ##OR F ##UR ##TH ##ER AD ##VI ##CE South Yorkshire Jean \u001b[31mHawkins\u001b[0m - \u001b[31mL\u001b[0m ##SA Mid ##wife ##ry \u001b[31mOfficer\u001b[0m South \u001b[31mYorkshire\u001b[0m \u001b[31mStrategic\u001b[0m Health Authority Fu ##l ##wood House Old Fu ##l ##wood Road Fu ##l ##wood Sheffield S ##10 \u001b[31m3\u001b[0m ##TH Tel : \u001b[31m01\u001b[0m ##14 226 ##33 ##5 ##2 Em ##ail : \u001b[31mj\u001b[0m ##ean . H a ##w ##kins @ \u001b[31myo\u001b[0m ##rks ##and ##hum ##ber . n h ##s . u k Trent Shirley Smith - L ##SA Mid ##wife ##ry Officer NHS East Midlands Oct ##avia House Inter ##chang ##e Business \u001b[31mPark\u001b[0m Sand ##iac ##re Nottingham N ##G ##10 5 ##Q ##S Tel : 01 ##15 96 ##8 ##45 ##5 ##7 Em ##ail : Shirley . s mit ##h @ east ##mi ##dl ##and ##s . n h ##s . u k Mat ##ern ##al En ##quiries \u001b[31mMid\u001b[0m ##wife ##ry As ##ses ##sors Ms Dot ##ty Watkins Director of Nursing and Mid ##wife ##ry Royal Hall ##ams ##hire Hospital Sheffield Tel 01 ##14 226 ##8 ##42 ##9 Ms June Love ##tt Head of Mid ##wife ##ry Roth ##erham General Hospital Tel 01 ##70 ##9 304 [SEP] \n",
      "\n",
      "<class 'allennlp.interpret.saliency_interpreters.integrated_gradient.IntegratedGradient'> TEXT:\n",
      "\u001b[31m#\u001b[0m # UP ##WI ##VE ##R ##RE ##ically a death \u001b[31mthat\u001b[0m The CE ##MA ##CH So ##M tracks \u001b[31mto\u001b[0m be released from duties \u001b[31mto\u001b[0m undertake this role \u001b[31m.\u001b[0m · The CE ##MA ##CH So ##M should ensure that the local Trust \u001b[31m##s\u001b[0m policies \u001b[31mhave\u001b[0m been followed . · The death is reported as a Ser ##ious Un ##to ##ward Incident ( S ##UI ) . This \u001b[31mis\u001b[0m usually undertaken \u001b[31mvia\u001b[0m the Trust ##s Go ##vern ##ance leads \u001b[31m.\u001b[0m \u001b[31m·\u001b[0m The \u001b[31mdeath\u001b[0m will \u001b[31mbe\u001b[0m reported \u001b[31mthe\u001b[0m Local Super ##vis ##ing Authority Mid ##wife \u001b[31m##ry\u001b[0m Officer ( \u001b[31mL\u001b[0m ##SA ##MO ) as soon as p ##rac \u001b[31m##tica\u001b[0m ##bly \u001b[31mpossible\u001b[0m \u001b[31minitially\u001b[0m verbal ##ly followed by the maternal death pro ##form ##a . · The So ##M should ensure \u001b[31mcommunication\u001b[0m takes place within and across the primary and secondary sector , including the family GP \u001b[31m,\u001b[0m and any other statutory agency \u001b[31mconnected\u001b[0m to the family . · \u001b[31mThe\u001b[0m CE ##MA ##CH So ##M will \u001b[31marrange\u001b[0m \u001b[31ma\u001b[0m de ##bri ##ef ##ing of all staff involved . O ##TH ##ER DE ##AT ##HS ( IN ##DI ##RE ##CT , CO ##NI ##CI ##DE ##NT ##AL AND LA ##TE ) All other deaths should be dealt with on an individual basis as these may include , murder , suicide , road traffic collision , women with known terminal illness . CO ##MP ##LE ##TI ##NG THE E ##N ##Q ##UI ##R ##Y F ##OR ##M The CE ##MA ##CH So ##M coordinating the en ##qui ##ry should send a copy of the CE ##MA ##CH not ##ification form to the regional coordinator . On re ##ceipt \u001b[31mof\u001b[0m the booklet \u001b[31mit\u001b[0m is essential \u001b[31mthat\u001b[0m the CE ##MA ##CH So ##M tracks the progress of the booklet internally and seeks to have the booklet \u001b[31mreturned\u001b[0m to the regional coordinator \u001b[31mat\u001b[0m the earliest ##la uses that the earliest convenience . W ##H ##ER ##E TO GO F ##OR F ##UR ##TH ##ER AD ##VI ##CE South Yorkshire \u001b[31mJean\u001b[0m Hawkins \u001b[31m-\u001b[0m L ##SA Mid ##wife ##ry Officer South Yorkshire \u001b[31mStrategic\u001b[0m Health \u001b[31mAuthority\u001b[0m Fu ##l ##wood House Old Fu ##l ##wood Road \u001b[31mFu\u001b[0m ##l ##wood Sheffield \u001b[31mS\u001b[0m ##10 3 ##TH Tel \u001b[31m:\u001b[0m 01 ##14 226 \u001b[31m##33\u001b[0m ##5 ##2 Em ##ail : j ##ean . H a ##w ##kins @ \u001b[31myo\u001b[0m ##rks ##and ##hum ##ber . n h ##s . u k Trent Shirley Smith - L ##SA Mid ##wife \u001b[31m##ry\u001b[0m Officer NHS \u001b[31mEast\u001b[0m Midlands Oct ##avia House Inter ##chang ##e Business \u001b[31mPark\u001b[0m Sand ##iac ##re Nottingham N ##G ##10 5 ##Q ##S Tel : \u001b[31m01\u001b[0m ##15 96 ##8 ##45 ##5 ##7 Em ##ail : \u001b[31mShirley\u001b[0m . s mit ##h @ \u001b[31meast\u001b[0m ##mi ##dl ##and ##s . n h ##s . u k Mat ##ern ##al En ##quiries Mid ##wife \u001b[31m##ry\u001b[0m As ##ses ##sors Ms Dot ##ty Watkins Director of Nursing and Mid ##wife ##ry Royal Hall ##ams ##hire Hospital \u001b[31mSheffield\u001b[0m Tel 01 ##14 226 ##8 ##42 ##9 Ms June Love ##tt Head of Mid ##wife ##ry Roth ##erham \u001b[31mGeneral\u001b[0m Hospital \u001b[31mTel\u001b[0m 01 ##70 ##9 304 [SEP] \n",
      "\n"
     ]
    }
   ],
   "source": [
    "interpret_sentence(\n",
    "    sentences[mistake_ids[2]], dataset_reader.tokenizer, 50, \n",
    "    [smooth_grad, simple_grad, integrated_grad],\n",
    "    label_description[true_classes[mistake_ids[2]]],\n",
    "    label_description[predicted_classes[mistake_ids[2]]]\n",
    ")"
   ]
  }
 ],
 "metadata": {
  "kernelspec": {
   "display_name": "Python 3",
   "language": "python",
   "name": "python3"
  },
  "language_info": {
   "codemirror_mode": {
    "name": "ipython",
    "version": 3
   },
   "file_extension": ".py",
   "mimetype": "text/x-python",
   "name": "python",
   "nbconvert_exporter": "python",
   "pygments_lexer": "ipython3",
   "version": "3.8.3"
  }
 },
 "nbformat": 4,
 "nbformat_minor": 4
}
