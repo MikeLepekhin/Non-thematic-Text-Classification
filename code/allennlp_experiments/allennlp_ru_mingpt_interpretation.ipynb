{
 "cells": [
  {
   "cell_type": "code",
   "execution_count": 1,
   "metadata": {},
   "outputs": [],
   "source": [
    "from os.path import join as pathjoin\n",
    "from data_processing import *\n",
    "from interpretation import *\n",
    "from models import *\n",
    "from training import *"
   ]
  },
  {
   "cell_type": "code",
   "execution_count": 2,
   "metadata": {},
   "outputs": [],
   "source": [
    "DATA_DIR = '/home/mlepekhin/data/min_gpt'\n",
    "MODELS_DIR = '/home/mlepekhin/models'\n",
    "MODEL_ID = 'allennlp_rubert'\n",
    "CHECKPOINTS_DIR = pathjoin(MODELS_DIR, MODEL_ID, 'checkpoints')\n",
    "BEST_MODEL = pathjoin(CHECKPOINTS_DIR, 'best.th')"
   ]
  },
  {
   "cell_type": "code",
   "execution_count": 3,
   "metadata": {},
   "outputs": [],
   "source": [
    "transformer_model = 'DeepPavlov/rubert-base-cased'\n",
    "MAX_TOKENS = 512"
   ]
  },
  {
   "cell_type": "markdown",
   "metadata": {},
   "source": [
    "### Loading of the pretrained model"
   ]
  },
  {
   "cell_type": "code",
   "execution_count": 4,
   "metadata": {},
   "outputs": [
    {
     "name": "stdout",
     "output_type": "stream",
     "text": [
      "Building the model\n"
     ]
    }
   ],
   "source": [
    "vocab = Vocabulary().from_files(pathjoin(MODELS_DIR, MODEL_ID, 'vocab'))\n",
    "model = build_transformer_model(vocab, transformer_model)"
   ]
  },
  {
   "cell_type": "code",
   "execution_count": 5,
   "metadata": {},
   "outputs": [
    {
     "name": "stdout",
     "output_type": "stream",
     "text": [
      "{0: 'A8', 1: 'A12', 2: 'A1', 3: 'A14', 4: 'A11', 5: 'A17', 6: 'A16', 7: 'A4', 8: 'A9', 9: 'A7'}\n",
      "dict_values(['A8', 'A12', 'A1', 'A14', 'A11', 'A17', 'A16', 'A4', 'A9', 'A7'])\n"
     ]
    }
   ],
   "source": [
    "id_to_label = vocab.get_index_to_token_vocabulary('labels')\n",
    "print(id_to_label)\n",
    "print(id_to_label.values())"
   ]
  },
  {
   "cell_type": "code",
   "execution_count": 6,
   "metadata": {},
   "outputs": [
    {
     "name": "stdout",
     "output_type": "stream",
     "text": [
      "1\n"
     ]
    },
    {
     "data": {
      "text/plain": [
       "<All keys matched successfully>"
      ]
     },
     "execution_count": 6,
     "metadata": {},
     "output_type": "execute_result"
    }
   ],
   "source": [
    "if torch.cuda.is_available():\n",
    "    cuda_device = 1\n",
    "else:\n",
    "    cuda_device = -1\n",
    "print(cuda_device)\n",
    "model.load_state_dict(torch.load(BEST_MODEL, map_location=f'cuda:{cuda_device}'))"
   ]
  },
  {
   "cell_type": "markdown",
   "metadata": {},
   "source": [
    "### Data loading"
   ]
  },
  {
   "cell_type": "code",
   "execution_count": 7,
   "metadata": {},
   "outputs": [
    {
     "data": {
      "text/html": [
       "<div>\n",
       "<style scoped>\n",
       "    .dataframe tbody tr th:only-of-type {\n",
       "        vertical-align: middle;\n",
       "    }\n",
       "\n",
       "    .dataframe tbody tr th {\n",
       "        vertical-align: top;\n",
       "    }\n",
       "\n",
       "    .dataframe thead th {\n",
       "        text-align: right;\n",
       "    }\n",
       "</style>\n",
       "<table border=\"1\" class=\"dataframe\">\n",
       "  <thead>\n",
       "    <tr style=\"text-align: right;\">\n",
       "      <th></th>\n",
       "      <th>Unnamed: 0</th>\n",
       "      <th>target</th>\n",
       "      <th>text</th>\n",
       "    </tr>\n",
       "  </thead>\n",
       "  <tbody>\n",
       "    <tr>\n",
       "      <th>0</th>\n",
       "      <td>0</td>\n",
       "      <td>A4</td>\n",
       "      <td>Жеффре . Надеюсь все пробирала так скверно , ч...</td>\n",
       "    </tr>\n",
       "    <tr>\n",
       "      <th>1</th>\n",
       "      <td>1</td>\n",
       "      <td>A4</td>\n",
       "      <td>У . Она будет крестить вас Духом Святым . 9 И ...</td>\n",
       "    </tr>\n",
       "    <tr>\n",
       "      <th>2</th>\n",
       "      <td>2</td>\n",
       "      <td>A4</td>\n",
       "      <td>Ь спросил его : что же ты крестишь , если ты н...</td>\n",
       "    </tr>\n",
       "    <tr>\n",
       "      <th>3</th>\n",
       "      <td>3</td>\n",
       "      <td>A4</td>\n",
       "      <td>Очень странное . — Вы говорите , что я мерзавк...</td>\n",
       "    </tr>\n",
       "    <tr>\n",
       "      <th>4</th>\n",
       "      <td>4</td>\n",
       "      <td>A4</td>\n",
       "      <td>Кордин из них убил красивых пурпурных и травян...</td>\n",
       "    </tr>\n",
       "  </tbody>\n",
       "</table>\n",
       "</div>"
      ],
      "text/plain": [
       "   Unnamed: 0 target                                               text\n",
       "0           0     A4  Жеффре . Надеюсь все пробирала так скверно , ч...\n",
       "1           1     A4  У . Она будет крестить вас Духом Святым . 9 И ...\n",
       "2           2     A4  Ь спросил его : что же ты крестишь , если ты н...\n",
       "3           3     A4  Очень странное . — Вы говорите , что я мерзавк...\n",
       "4           4     A4  Кордин из них убил красивых пурпурных и травян..."
      ]
     },
     "execution_count": 7,
     "metadata": {},
     "output_type": "execute_result"
    }
   ],
   "source": [
    "ru_test_df = pd.read_csv(pathjoin(DATA_DIR, 'ru'))\n",
    "ru_test_df.head()"
   ]
  },
  {
   "cell_type": "code",
   "execution_count": 8,
   "metadata": {},
   "outputs": [],
   "source": [
    "true_classes = ru_test_df.target.values\n",
    "sentences = ru_test_df.text.values"
   ]
  },
  {
   "cell_type": "markdown",
   "metadata": {},
   "source": [
    "### Preliminary analysis"
   ]
  },
  {
   "cell_type": "code",
   "execution_count": 9,
   "metadata": {},
   "outputs": [],
   "source": [
    "dataset_reader = build_transformer_dataset_reader(transformer_model, MAX_TOKENS)\n",
    "predictor = TextClassifierPredictor(model, dataset_reader=dataset_reader)\n",
    "predicted_classes = np.array(predict_classes(sentences, predictor, vocab))"
   ]
  },
  {
   "cell_type": "code",
   "execution_count": 10,
   "metadata": {},
   "outputs": [
    {
     "name": "stdout",
     "output_type": "stream",
     "text": [
      "<class 'numpy.ndarray'>\n"
     ]
    }
   ],
   "source": [
    "print(type(predicted_classes == 'A1'))"
   ]
  },
  {
   "cell_type": "code",
   "execution_count": 11,
   "metadata": {},
   "outputs": [
    {
     "name": "stdout",
     "output_type": "stream",
     "text": [
      "10\n"
     ]
    }
   ],
   "source": [
    "print(len(np.unique(true_classes)))"
   ]
  },
  {
   "cell_type": "code",
   "execution_count": 12,
   "metadata": {},
   "outputs": [
    {
     "name": "stdout",
     "output_type": "stream",
     "text": [
      "label (argum) f1_score 0.6111111111111112 precision 0.55 recall 0.6875\n",
      "label (fictive) f1_score 0.9500000000000001 precision 0.95 recall 0.95\n",
      "label (instruct) f1_score 0.9 precision 0.9 recall 0.9\n",
      "label (reporting) f1_score 0.7169811320754716 precision 0.95 recall 0.5757575757575758\n",
      "label (legal) f1_score 0.8780487804878048 precision 0.9 recall 0.8571428571428571\n",
      "label (personal) f1_score 0.9473684210526316 precision 0.9 recall 1.0\n",
      "label (commercial) f1_score 0.9285714285714286 precision 1.0 recall 0.8666666666666667\n",
      "label (research) f1_score 0.7894736842105262 precision 0.75 recall 0.8333333333333334\n",
      "label (info) f1_score 0.41379310344827586 precision 0.3 recall 0.6666666666666666\n",
      "label (eval) f1_score 0.9302325581395349 precision 1.0 recall 0.8695652173913043\n",
      "accuracy 0.8134715025906736\n"
     ]
    }
   ],
   "source": [
    "calc_classifier_metrics(predicted_classes, true_classes)"
   ]
  },
  {
   "cell_type": "code",
   "execution_count": 13,
   "metadata": {},
   "outputs": [
    {
     "data": {
      "image/png": "[encoded data removed]",
      "text/plain": [
       "<Figure size 1080x1080 with 2 Axes>"
      ]
     },
     "metadata": {
      "needs_background": "light"
     },
     "output_type": "display_data"
    }
   ],
   "source": [
    "plot_confusion_matrix(predicted_classes, true_classes)"
   ]
  },
  {
   "cell_type": "markdown",
   "metadata": {},
   "source": [
    "### Saliency Gradient Interpretation"
   ]
  },
  {
   "cell_type": "code",
   "execution_count": 14,
   "metadata": {},
   "outputs": [],
   "source": [
    "smooth_grad = SmoothGradient(predictor)\n",
    "simple_grad = SimpleGradient(predictor)\n",
    "integrated_grad = IntegratedGradient(predictor)"
   ]
  },
  {
   "cell_type": "code",
   "execution_count": 15,
   "metadata": {},
   "outputs": [],
   "source": [
    "mistake_ids = []\n",
    "\n",
    "for sent_id in range(len(true_classes)):\n",
    "    if true_classes[sent_id] != predicted_classes[sent_id]:\n",
    "        mistake_ids.append(sent_id)"
   ]
  },
  {
   "cell_type": "code",
   "execution_count": 16,
   "metadata": {},
   "outputs": [
    {
     "name": "stdout",
     "output_type": "stream",
     "text": [
      "TRUE LABEL: fictive\n",
      "LABEL: argum\n",
      "<class 'allennlp.interpret.saliency_interpreters.smooth_gradient.SmoothGradient'> TEXT:\n",
      "\u001b[31mконечно\u001b[0m , нет у \u001b[31mменя\u001b[0m \u001b[31mсыновья\u001b[0m ? после смеха , довер ##ь моя , что вы \u001b[31mприняли\u001b[0m \u001b[31mсчастлива\u001b[0m \u001b[31mбы\u001b[0m это были бы только математики . \u001b[31m—\u001b[0m вот , — сказал я . \u001b[31m—\u001b[0m я оспар ##иваю достоинство мышления , развитого каким бы то ни было специальным путем , отлич ##ающимся от отвлеч \u001b[31m##енно\u001b[0m ##и логики , а следовательно , и выводы из такого мышления . особенно я оспар \u001b[31m##иваю\u001b[0m суждение \u001b[31m,\u001b[0m построенное на изучении математики \u001b[31m.\u001b[0m математика — наука форм и количеств ; математическое суждение — ни более , ни менее как простая логика , применен ##ная к количеству и к форме . велич ##аи ##шее заблуждение \u001b[31m—\u001b[0m предполагать , что истины \u001b[31m,\u001b[0m которые называют чисто алгебра ##ическими , — в сущности истины \u001b[31mбезуслов\u001b[0m ##ные или общие \u001b[31m.\u001b[0m и заблуждение это так огром \u001b[31m##но\u001b[0m , что я поражен единодуш ##ием , с которым оно принято . математические аксиом \u001b[31m##ы\u001b[0m не суть аксиом ##ы истины безусловно ##и . то , что верно , когда относится к форме или количеству , часто бывает грубо ##и ошиб \u001b[31m##ко\u001b[0m ##и , если его отнести , например , к нравственности \u001b[31m.\u001b[0m в это ##и послед \u001b[31m##не\u001b[0m ##и науке \u001b[31mсовершенно\u001b[0m ложно , например , что сумма дроб ##еи равна целому \u001b[31m.\u001b[0m точно так и в химии \u001b[31mаксиом\u001b[0m ##а эта не год ##ится . в оценке двигатель \u001b[31m##но\u001b[0m ##и силы \u001b[31mточно\u001b[0m также эта аксиом ##а оказывается ложно ##ю ; потому что два двигателя , кажд ##ы ##и с известно ##и сил ##ои , не составят вместе силу , равную сумме их двух сил , \u001b[31mвзятых\u001b[0m отдельно . — и многие математические истины остаются истина ##ми только относительно . \u001b[31mно\u001b[0m математик \u001b[31mнеисправ\u001b[0m \u001b[31m##имо\u001b[0m \u001b[31mдоказывает\u001b[0m все на основании этих оконч ##ательных истин , \u001b[31mкак\u001b[0m будто бы они могут быть безусловно и исключительно применяем ##ы , — впрочем , и в целом свете считается , что это деи ##ств ##ительно так . \u001b[31mбр\u001b[0m ##иан , в свое ##и замечательно ##и « мифологии \u001b[31m»\u001b[0m \u001b[31m,\u001b[0m упоминает о подобном же источнике заблужд ##ении , говоря , что хотя никто не верит \u001b[31mбас\u001b[0m ##ням язычества , однако \u001b[31mмы\u001b[0m сами на каждом шагу до того забыв ##аемся , что вывод ##им из них разные доказательства , как бы из как ##ои - нибудь живо \u001b[31m##и\u001b[0m деи ##ств ##ительности . впрочем , у наших \u001b[31mалгеб\u001b[0m \u001b[31m##ристов\u001b[0m , которые сами \u001b[31mязыч\u001b[0m \u001b[31m##ники\u001b[0m \u001b[31m,\u001b[0m есть несколько \u001b[31mязыческих\u001b[0m \u001b[31mбас\u001b[0m ##ен , которым верят , \u001b[31mи\u001b[0m из которых также почерп \u001b[31m##нули\u001b[0m разные выводы , по \u001b[31mне\u001b[0m \u001b[31m[SEP]\u001b[0m \n",
      "\n",
      "<class 'allennlp.interpret.saliency_interpreters.simple_gradient.SimpleGradient'> TEXT:\n",
      "\u001b[31mконечно\u001b[0m , нет у меня сыновья ? после \u001b[31mсмеха\u001b[0m \u001b[31m,\u001b[0m довер ##ь моя , что вы приняли счастлива \u001b[31mбы\u001b[0m \u001b[31mэто\u001b[0m были бы только математики \u001b[31m.\u001b[0m \u001b[31m—\u001b[0m вот \u001b[31m,\u001b[0m — \u001b[31mсказал\u001b[0m я \u001b[31m.\u001b[0m \u001b[31m—\u001b[0m я оспар ##иваю достоинство мышления , развитого каким бы то ни было специальным путем , отлич ##ающимся от отвлеч ##енно ##и логики , а следовательно , и выводы из такого мышления . особенно я оспар ##иваю суждение , построенное на изучении математики \u001b[31m.\u001b[0m математика \u001b[31m—\u001b[0m наука форм и количеств ; математическое суждение — ни более , ни менее как простая логика , применен ##ная к количеству и к форме . велич ##аи ##шее заблуждение \u001b[31m—\u001b[0m предполагать , что истины , которые называют чисто алгебра \u001b[31m##ическими\u001b[0m , — в сущности истины безуслов ##ные или общие . \u001b[31mи\u001b[0m заблуждение это так огром ##но , что я поражен единодуш ##ием , с которым оно принято . математические \u001b[31mаксиом\u001b[0m \u001b[31m##ы\u001b[0m не суть аксиом ##ы истины безусловно ##и . то , что верно , когда относится к форме или количеству , часто бывает грубо ##и ошиб ##ко ##и , если его отнести , например , к \u001b[31mнравственности\u001b[0m . в это ##и послед ##не ##и науке совершенно ложно , например , что сумма дроб ##еи равна целому . \u001b[31mточно\u001b[0m \u001b[31mтак\u001b[0m и в \u001b[31mхимии\u001b[0m \u001b[31mаксиом\u001b[0m \u001b[31m##а\u001b[0m эта \u001b[31mне\u001b[0m год ##ится . \u001b[31mв\u001b[0m оценке \u001b[31mдвигатель\u001b[0m ##но ##и силы точно также \u001b[31mэта\u001b[0m аксиом \u001b[31m##а\u001b[0m оказывается ложно ##ю ; потому что два двигателя , кажд ##ы ##и с известно ##и сил ##ои , не составят вместе силу , равную сумме их двух сил , взятых отдельно . — и многие математические \u001b[31mистины\u001b[0m остаются истина ##ми только относительно . но математик неисправ ##имо \u001b[31mдоказывает\u001b[0m все на основании этих оконч ##ательных истин , как будто бы они могут быть безусловно и исключительно применяем ##ы , — впрочем , и в целом свете считается , что это деи ##ств ##ительно так . бр ##иан , в свое ##и замечательно ##и « мифологии \u001b[31m»\u001b[0m , упоминает о подобном же источнике заблужд ##ении , говоря , что хотя никто не верит \u001b[31mбас\u001b[0m \u001b[31m##ням\u001b[0m язычества \u001b[31m,\u001b[0m \u001b[31mоднако\u001b[0m мы сами на каждом шагу до того забыв ##аемся , что вывод ##им из них разные доказательства , как бы из как ##ои - нибудь живо ##и деи ##ств ##ительности . впрочем , \u001b[31mу\u001b[0m наших \u001b[31mалгеб\u001b[0m \u001b[31m##ристов\u001b[0m , которые \u001b[31mсами\u001b[0m \u001b[31mязыч\u001b[0m \u001b[31m##ники\u001b[0m , есть несколько \u001b[31mязыческих\u001b[0m \u001b[31mбас\u001b[0m ##ен \u001b[31m,\u001b[0m которым верят \u001b[31m,\u001b[0m и из которых также почерп \u001b[31m##нули\u001b[0m разные выводы \u001b[31m,\u001b[0m по \u001b[31mне\u001b[0m [SEP] \n",
      "\n",
      "<class 'allennlp.interpret.saliency_interpreters.integrated_gradient.IntegratedGradient'> TEXT:\n",
      "\u001b[31mконечно\u001b[0m , \u001b[31mнет\u001b[0m у \u001b[31mменя\u001b[0m сыновья ? после смеха , довер ##ь моя , что вы \u001b[31mприняли\u001b[0m счастлива бы это \u001b[31mбыли\u001b[0m бы только математики . — вот , — сказал \u001b[31mя\u001b[0m . — \u001b[31mя\u001b[0m \u001b[31mоспар\u001b[0m ##иваю достоинство мышления , развитого каким бы то ни было специальным путем , отлич ##ающимся от отвлеч ##енно ##и логики , а следовательно , и выводы из такого мышления . особенно я оспар ##иваю суждение , построенное на изучении математики . \u001b[31mматематика\u001b[0m — наука форм и количеств \u001b[31m;\u001b[0m математическое суждение \u001b[31m—\u001b[0m ни более \u001b[31m,\u001b[0m ни \u001b[31mменее\u001b[0m \u001b[31mкак\u001b[0m \u001b[31mпростая\u001b[0m логика , применен ##ная к количеству и \u001b[31mк\u001b[0m форме . велич ##аи ##шее заблуждение — предполагать , что истины , которые называют чисто алгебра ##ическими , — в сущности истины безуслов ##ные или общие . и заблуждение \u001b[31mэто\u001b[0m \u001b[31mтак\u001b[0m огром \u001b[31m##но\u001b[0m \u001b[31m,\u001b[0m \u001b[31mчто\u001b[0m \u001b[31mя\u001b[0m \u001b[31mпоражен\u001b[0m \u001b[31mединодуш\u001b[0m ##ием \u001b[31m,\u001b[0m с которым оно принято . математические аксиом ##ы не суть аксиом ##ы истины безусловно ##и . то \u001b[31m,\u001b[0m \u001b[31mчто\u001b[0m \u001b[31mверно\u001b[0m \u001b[31m,\u001b[0m когда относится \u001b[31mк\u001b[0m форме или количеству \u001b[31m,\u001b[0m \u001b[31mчасто\u001b[0m бывает грубо ##и ошиб ##ко \u001b[31m##и\u001b[0m , \u001b[31mесли\u001b[0m его отнести , \u001b[31mнапример\u001b[0m , к нравственности . \u001b[31mв\u001b[0m это ##и \u001b[31mпослед\u001b[0m \u001b[31m##не\u001b[0m ##и науке совершенно ложно , \u001b[31mнапример\u001b[0m \u001b[31m,\u001b[0m что \u001b[31mсумма\u001b[0m дроб ##еи равна целому . точно \u001b[31mтак\u001b[0m и в химии аксиом ##а эта \u001b[31mне\u001b[0m \u001b[31mгод\u001b[0m ##ится . в оценке двигатель \u001b[31m##но\u001b[0m ##и силы точно также эта аксиом ##а оказывается ложно ##ю ; потому что два двигателя , кажд ##ы ##и с известно ##и сил ##ои , не составят вместе силу , равную сумме их двух сил , взятых отдельно . — и многие математические истины остаются истина ##ми только относительно . но математик неисправ ##имо доказывает все на основании этих оконч ##ательных истин , как будто бы они могут быть безусловно и исключительно применяем ##ы , — впрочем , и в целом свете считается , что это деи ##ств ##ительно так . бр ##иан , в свое ##и замечательно ##и « мифологии » , упоминает о подобном же источнике заблужд ##ении , говоря , что хотя никто не верит бас ##ням язычества , однако мы сами на каждом шагу до того забыв ##аемся , что вывод ##им из них разные доказательства , как \u001b[31mбы\u001b[0m из как ##ои - нибудь живо ##и деи \u001b[31m##ств\u001b[0m \u001b[31m##ительности\u001b[0m . \u001b[31mвпрочем\u001b[0m , \u001b[31mу\u001b[0m наших алгеб ##ристов , которые сами языч ##ники , есть несколько языческих бас ##ен , которым верят , и из которых также почерп ##нули разные выводы , по не [SEP] \n",
      "\n"
     ]
    }
   ],
   "source": [
    "interpret_sentence(\n",
    "    sentences[mistake_ids[0]], dataset_reader.tokenizer, 50, \n",
    "    [smooth_grad, simple_grad, integrated_grad],\n",
    "    label_description[true_classes[mistake_ids[0]]],\n",
    "    label_description[predicted_classes[mistake_ids[0]]]\n",
    ")"
   ]
  },
  {
   "cell_type": "code",
   "execution_count": 17,
   "metadata": {},
   "outputs": [
    {
     "name": "stdout",
     "output_type": "stream",
     "text": [
      "TRUE LABEL: instruct\n",
      "LABEL: commercial\n",
      "<class 'allennlp.interpret.saliency_interpreters.smooth_gradient.SmoothGradient'> TEXT:\n",
      "а , то вам же уделить \u001b[31mлезвие\u001b[0m для бумаги ( брит \u001b[31m##ву\u001b[0m ) еще \u001b[31mна\u001b[0m пару - тро \u001b[31m##ику\u001b[0m сантиметров , затем под ##од ##вига \u001b[31m##ете\u001b[0m \u001b[31mтакже\u001b[0m плавно лезвие кух ##онного ножа на пару сантиметров . т \u001b[31mака\u001b[0m \u001b[31m##я\u001b[0m последовательность \u001b[31mне\u001b[0m дает \u001b[31mстек\u001b[0m ##лу заж ##ать лезвие для бумаги \" в тис ##ки \" и предотвращает разбив ##ание стекла из - за точ ##ечно ##и локально \u001b[31m##и\u001b[0m нагрузки . ит \u001b[31m##ак\u001b[0m \u001b[31m,\u001b[0m вам \u001b[31mудалось\u001b[0m \u001b[31mбез\u001b[0m повреждении снять переднюю стенку , теперь ее можно отложить в сторону ( она нам больше не понадобится ) и зачист ##ить от остатков \u001b[31mстарого\u001b[0m \u001b[31mсилик\u001b[0m \u001b[31m##она\u001b[0m открыв ##шиеся ребра боковых стекол и дна \u001b[31mполностью\u001b[0m . \u001b[31mпомнит\u001b[0m \u001b[31m##е\u001b[0m о \u001b[31mтехнике\u001b[0m безопасности и по возможности \u001b[31mвоспольз\u001b[0m \u001b[31m##уи\u001b[0m ##тесь \u001b[31mперед\u001b[0m началом работ строительными перчат ##ками 7 - 10 класса плотности вяз ##ки или старыми \u001b[31mкожан\u001b[0m ##ыми перчат ##ками , которые не будут стесн ##ять ваших движении . естественно стоит понимать \u001b[31m,\u001b[0m что для крупногабар ##итных животных , способных разместиться в помещении с водоизмещением ( здесь и далее будет подразумев \u001b[31m##аться\u001b[0m именно количество воды , а не общ ##ии объем \u001b[31mакват\u001b[0m ##ерра ##риум ##а ) до 500 ##л понадобится стекло толщ ##ино ##и 6 - 8 мм , для более мелкого литра ##жа и животных достаточно и 5 ##мм . необходимо \u001b[31mучитывать\u001b[0m толщину стекла при расчетах и послед ##ующ ##еи скле \u001b[31m##ики\u001b[0m объема в обоих направлениях \u001b[31m.\u001b[0m \u001b[31mдалее\u001b[0m \u001b[31m,\u001b[0m что при скле ##ике на нул ##евом цикле , что при передел ##ывании аквариум ##а вам понадобится усилить внутренние швы силик ##оново ##го гермет ##ика , т . к рептилии - не рыбы и слабые швы вполне способны повредить . \u001b[31mвам\u001b[0m \u001b[31mнеобходимо\u001b[0m \u001b[31mбудет\u001b[0m сделать треугольные в поперечном сечении швы - сделать их достаточно просто : достаточно нанести \u001b[31mкле\u001b[0m ##и и провести по нему плоск ##ои отвер ##т ##ко ##и под углом в 45 градусов к стекла ##м . внимание ! необходимо использовать только специализированные \u001b[31mсилик\u001b[0m ##оновые гермет ##ики для аквариум ##ов ! \u001b[31mгермет\u001b[0m ##ики для других целе ##и смертельно опасны для животных . вот так выглядит \u001b[31mиспользование\u001b[0m отвер ##т ##ки . а так конеч \u001b[31m##ны\u001b[0m ##и результат . через 12 - 24 часа образовавшиеся излиш ##ки кле ##я по бокам швов можно будет сп ##око ##ино срез \u001b[31m##ать\u001b[0m при помощи брит ##вы или лезвия для бумаги . \u001b[31mит\u001b[0m \u001b[31m##ак\u001b[0m , заготовка \u001b[31mу\u001b[0m нас есть и пока со ##х ##нет кле ##и ( до \u001b[31mполного\u001b[0m высых \u001b[31m##ания\u001b[0m необходим 1 - 2 дня \u001b[31m[SEP]\u001b[0m \n",
      "\n",
      "<class 'allennlp.interpret.saliency_interpreters.simple_gradient.SimpleGradient'> TEXT:\n",
      "\u001b[31mа\u001b[0m , то вам же \u001b[31mуделить\u001b[0m лезвие для бумаги \u001b[31m(\u001b[0m брит ##ву ) еще на пару - тро ##ику сантиметров , затем под ##од ##вига ##ете \u001b[31mтакже\u001b[0m \u001b[31mплавно\u001b[0m \u001b[31mлезвие\u001b[0m кух ##онного ножа на пару сантиметров . т ака ##я последовательность \u001b[31mне\u001b[0m дает стек ##лу заж ##ать лезвие для бумаги \" в тис ##ки \" и предотвращает разбив ##ание стекла из - за точ ##ечно ##и локально ##и нагрузки . ит \u001b[31m##ак\u001b[0m , вам удалось без повреждении снять переднюю стенку , теперь ее можно отложить в сторону ( она нам больше не понадобится ) \u001b[31mи\u001b[0m зачист ##ить от остатков старого \u001b[31mсилик\u001b[0m \u001b[31m##она\u001b[0m открыв ##шиеся ребра боковых стекол и дна полностью . \u001b[31mпомнит\u001b[0m \u001b[31m##е\u001b[0m \u001b[31mо\u001b[0m \u001b[31mтехнике\u001b[0m \u001b[31mбезопасности\u001b[0m и по возможности \u001b[31mвоспольз\u001b[0m \u001b[31m##уи\u001b[0m ##тесь \u001b[31mперед\u001b[0m началом работ строительными перчат \u001b[31m##ками\u001b[0m 7 - 10 класса плотности вяз ##ки или старыми кожан ##ыми перчат ##ками , которые не будут стесн ##ять ваших движении . естественно стоит понимать \u001b[31m,\u001b[0m что для крупногабар \u001b[31m##итных\u001b[0m животных , способных разместиться в помещении с водоизмещением ( здесь и далее будет подразумев ##аться именно количество воды , а не общ ##ии объем акват ##ерра ##риум ##а ) до 500 ##л понадобится \u001b[31mстекло\u001b[0m толщ ##ино ##и 6 - 8 мм , для более мелкого \u001b[31mлитра\u001b[0m ##жа и животных \u001b[31mдостаточно\u001b[0m и 5 ##мм . необходимо \u001b[31mучитывать\u001b[0m толщину \u001b[31mстекла\u001b[0m при \u001b[31mрасчетах\u001b[0m и послед ##ующ ##еи скле ##ики объема в обоих направлениях . далее \u001b[31m,\u001b[0m что при скле ##ике на нул ##евом цикле , что при передел ##ывании аквариум ##а вам понадобится усилить внутренние швы силик ##оново ##го гермет ##ика , т . к рептилии - не рыбы и слабые швы вполне \u001b[31mспособны\u001b[0m повредить . вам \u001b[31mнеобходимо\u001b[0m будет сделать треугольные в поперечном сечении швы - сделать их достаточно просто \u001b[31m:\u001b[0m достаточно \u001b[31mнанести\u001b[0m кле \u001b[31m##и\u001b[0m и провести по нему плоск ##ои отвер ##т ##ко ##и под углом в 45 градусов к стекла ##м . внимание ! \u001b[31mнеобходимо\u001b[0m использовать только специализированные силик ##оновые \u001b[31mгермет\u001b[0m ##ики для аквариум ##ов ! гермет \u001b[31m##ики\u001b[0m для других целе ##и смертельно \u001b[31mопасны\u001b[0m для животных . \u001b[31mвот\u001b[0m так выглядит использование отвер ##т ##ки . \u001b[31mа\u001b[0m так конеч \u001b[31m##ны\u001b[0m ##и результат . \u001b[31mчерез\u001b[0m 12 - 24 часа образовавшиеся излиш ##ки кле ##я по бокам швов можно будет \u001b[31mсп\u001b[0m ##око ##ино срез ##ать при помощи брит ##вы или лезвия для бумаги . ит \u001b[31m##ак\u001b[0m \u001b[31m,\u001b[0m \u001b[31mзаготовка\u001b[0m у нас есть и пока со ##х ##нет кле ##и ( до полного высых \u001b[31m##ания\u001b[0m необходим \u001b[31m1\u001b[0m \u001b[31m-\u001b[0m 2 дня [SEP] \n",
      "\n",
      "<class 'allennlp.interpret.saliency_interpreters.integrated_gradient.IntegratedGradient'> TEXT:\n",
      "\u001b[31mа\u001b[0m , то вам \u001b[31mже\u001b[0m уделить лезвие \u001b[31mдля\u001b[0m бумаги \u001b[31m(\u001b[0m брит ##ву ) еще на пару - тро ##ику сантиметров , затем под ##од ##вига \u001b[31m##ете\u001b[0m также плавно лезвие \u001b[31mкух\u001b[0m ##онного ножа \u001b[31mна\u001b[0m пару сантиметров \u001b[31m.\u001b[0m т ака ##я последовательность не дает стек ##лу заж ##ать лезвие для бумаги \" в тис ##ки \" и предотвращает разбив ##ание стекла из - за точ ##ечно ##и локально ##и нагрузки . ит ##ак , вам удалось без повреждении снять переднюю \u001b[31mстенку\u001b[0m , теперь ее можно отложить в сторону ( она нам больше не понадобится \u001b[31m)\u001b[0m и зачист ##ить от остатков старого силик ##она открыв ##шиеся \u001b[31mребра\u001b[0m боковых стекол и дна полностью . \u001b[31mпомнит\u001b[0m ##е \u001b[31mо\u001b[0m технике безопасности \u001b[31mи\u001b[0m по возможности \u001b[31mвоспольз\u001b[0m \u001b[31m##уи\u001b[0m \u001b[31m##тесь\u001b[0m \u001b[31mперед\u001b[0m началом работ \u001b[31mстроительными\u001b[0m перчат ##ками 7 - 10 класса \u001b[31mплотности\u001b[0m вяз \u001b[31m##ки\u001b[0m или старыми кожан ##ыми перчат \u001b[31m##ками\u001b[0m , которые не будут \u001b[31mстесн\u001b[0m ##ять ваших движении . естественно стоит \u001b[31mпонимать\u001b[0m , что для крупногабар \u001b[31m##итных\u001b[0m животных , способных разместиться в помещении с водоизмещением ( здесь \u001b[31mи\u001b[0m далее будет подразумев ##аться именно количество воды , а \u001b[31mне\u001b[0m общ ##ии объем акват \u001b[31m##ерра\u001b[0m ##риум ##а ) до 500 \u001b[31m##л\u001b[0m понадобится стекло толщ ##ино ##и 6 \u001b[31m-\u001b[0m 8 мм \u001b[31m,\u001b[0m для более мелкого литра \u001b[31m##жа\u001b[0m и животных достаточно и 5 ##мм . необходимо \u001b[31mучитывать\u001b[0m \u001b[31mтолщину\u001b[0m \u001b[31mстекла\u001b[0m при расчетах и послед \u001b[31m##ующ\u001b[0m ##еи скле ##ики объема в обоих направлениях . \u001b[31mдалее\u001b[0m \u001b[31m,\u001b[0m что при скле ##ике на нул ##евом цикле , что при передел ##ывании аквариум \u001b[31m##а\u001b[0m вам понадобится усилить внутренние швы силик ##оново ##го гермет ##ика , т . к рептилии \u001b[31m-\u001b[0m не рыбы и слабые швы \u001b[31mвполне\u001b[0m \u001b[31mспособны\u001b[0m повредить . вам необходимо \u001b[31mбудет\u001b[0m сделать треугольные в поперечном сечении швы - сделать их достаточно просто : достаточно нанести кле ##и и провести по нему плоск ##ои отвер ##т ##ко ##и под углом в 45 градусов к стекла ##м . \u001b[31mвнимание\u001b[0m ! необходимо использовать только специализированные силик \u001b[31m##оновые\u001b[0m гермет ##ики для аквариум ##ов ! гермет ##ики для других целе ##и смертельно опасны для животных . \u001b[31mвот\u001b[0m \u001b[31mтак\u001b[0m выглядит использование отвер ##т ##ки . а так конеч ##ны ##и результат . через 12 - 24 часа образовавшиеся излиш ##ки кле ##я по бокам швов можно будет сп ##око ##ино срез ##ать при помощи брит ##вы или лезвия для бумаги . \u001b[31mит\u001b[0m ##ак , заготовка у нас есть и пока со ##х ##нет кле \u001b[31m##и\u001b[0m ( до полного высых ##ания необходим 1 - 2 дня [SEP] \n",
      "\n"
     ]
    }
   ],
   "source": [
    "interpret_sentence(\n",
    "    sentences[mistake_ids[1]], dataset_reader.tokenizer, 50, \n",
    "    [smooth_grad, simple_grad, integrated_grad],\n",
    "    label_description[true_classes[mistake_ids[1]]],\n",
    "    label_description[predicted_classes[mistake_ids[1]]]\n",
    ")"
   ]
  },
  {
   "cell_type": "code",
   "execution_count": 18,
   "metadata": {},
   "outputs": [
    {
     "name": "stdout",
     "output_type": "stream",
     "text": [
      "TRUE LABEL: instruct\n",
      "LABEL: commercial\n",
      "<class 'allennlp.interpret.saliency_interpreters.smooth_gradient.SmoothGradient'> TEXT:\n",
      "\u001b[31mх\u001b[0m от предложения работы мышц \u001b[31mстопы\u001b[0m . туловище \u001b[31mна\u001b[0m вир ##аже наклон ##ено на 3 — 5° вперед , но по мере выхода с вир ##ажа на прямую наклон уменьшается \u001b[31m,\u001b[0m а руки \u001b[31mработают\u001b[0m свободно и быстро , способствуя поддержанию \u001b[31mвысокого\u001b[0m темпа бега . в беге \u001b[31mна\u001b[0m 400 м по все ##и дистанции \u001b[31mследует\u001b[0m темп \u001b[31mи\u001b[0m длину шага поддерживать в оптимальных пределах : темп бега у мужчин должен быть равен 3 , 4 — 4 ш / сек , длина шага — 220 — 210 см . \u001b[31mпосле\u001b[0m \u001b[31mпробега\u001b[0m ##ния первых 200 ##м у спортсменов \u001b[31mнаступает\u001b[0m \u001b[31mтак\u001b[0m \u001b[31mназываемое\u001b[0m мним \u001b[31m##ое\u001b[0m утом ##ление и большинство из них не в состоянии преодолеть этот рубеж . надо \u001b[31mпомнить\u001b[0m \u001b[31m,\u001b[0m что у хорошо подготовленного бегун ##а естественное утом ##ление начинается за 50 — 70 м до финиша , если первая половина дистанции преодол ##ена с оптим ##ально ##и скоростью . поэтому при пробега ##нии второго вир ##ажа надо \u001b[31mстремиться\u001b[0m \u001b[31mсохранить\u001b[0m длину шага и темп бега и стараться удержать \u001b[31mего\u001b[0m как можно дольше \u001b[31m.\u001b[0m последние финиш ##ные метр ##ы бывают \u001b[31mособенно\u001b[0m трудным ##и , и здесь много \u001b[31mзависит\u001b[0m от характера и психологи \u001b[31m##ческо\u001b[0m ##и уст ##ои ##чивости спортсмена \u001b[31m.\u001b[0m важное \u001b[31mзначение\u001b[0m имеет правиль \u001b[31m##ны\u001b[0m ##и выход с вир ##ажа \u001b[31mна\u001b[0m финиш ##ную прямую , когда \u001b[31mособенно\u001b[0m борьба обостря \u001b[31m##ется\u001b[0m . \u001b[31mне\u001b[0m \u001b[31mрекомендуется\u001b[0m \u001b[31mприменять\u001b[0m \u001b[31mрыв\u001b[0m ##ки . ускорение должно \u001b[31mбыть\u001b[0m постепенным , плав ##ным , только тогда оно будет эффективным . на послед ##не ##и прямо ##и в основном уменьшается длина шага , а не темп , поэтому надо постоянно следить за свобод ##ои движении . вследствие этого надо ритм ##ичнее работать руками , не упуск \u001b[31m##ать\u001b[0m из своего внимания подъем колене ##и . за 5 — 10 м до финиша не надо \u001b[31mизменять\u001b[0m положение туловища \u001b[31m,\u001b[0m стараясь сделать набега \u001b[31m##ние\u001b[0m и бросок грудью за 1 — 1 , 5 м до ленточ ##ки . \u001b[31mэтим\u001b[0m самым создается \u001b[31mпрямо\u001b[0m ##лине ##иност ##ь бега и расслаб ##ленность движении . \u001b[31mанализ\u001b[0m \u001b[31mтехники\u001b[0m \u001b[31mбега\u001b[0m еще \u001b[31mраз\u001b[0m подтверждает истину , что дистанцию 400 м надо пробега ##ть равномерно , с оптим ##ально ##и скоростью . поэтому при пробега ##нии второго вир ##ажа надо \u001b[31mстремиться\u001b[0m сохранить длину шага и темп бега \u001b[31mи\u001b[0m стараться удержать его как можно дольше . последние \u001b[31mфиниш\u001b[0m ##ные метр ##ы бывают особенно трудным ##и , и здесь много зависит от характера \u001b[31mи\u001b[0m психологи ##ческо ##и уст ##ои ##чив [SEP] \n",
      "\n",
      "<class 'allennlp.interpret.saliency_interpreters.simple_gradient.SimpleGradient'> TEXT:\n",
      "х \u001b[31mот\u001b[0m предложения \u001b[31mработы\u001b[0m \u001b[31mмышц\u001b[0m стопы . туловище \u001b[31mна\u001b[0m вир \u001b[31m##аже\u001b[0m наклон ##ено на 3 — 5° вперед , но \u001b[31mпо\u001b[0m мере выхода с вир ##ажа на прямую наклон \u001b[31mуменьшается\u001b[0m , а руки работают свободно и быстро , способствуя \u001b[31mподдержанию\u001b[0m высокого темпа \u001b[31mбега\u001b[0m . в беге на 400 м по все ##и дистанции следует темп и длину шага поддерживать \u001b[31mв\u001b[0m оптимальных пределах : темп бега \u001b[31mу\u001b[0m мужчин должен быть равен 3 , 4 — 4 ш / сек , длина шага — 220 — 210 см . после пробега \u001b[31m##ния\u001b[0m первых 200 ##м у \u001b[31mспортсменов\u001b[0m наступает так называемое \u001b[31mмним\u001b[0m ##ое утом ##ление \u001b[31mи\u001b[0m большинство из них не в состоянии преодолеть этот рубеж . \u001b[31mнадо\u001b[0m помнить \u001b[31m,\u001b[0m что у хорошо \u001b[31mподготовленного\u001b[0m \u001b[31mбегун\u001b[0m ##а естественное утом \u001b[31m##ление\u001b[0m \u001b[31mначинается\u001b[0m за 50 — 70 м до финиша \u001b[31m,\u001b[0m если \u001b[31mпервая\u001b[0m половина дистанции преодол ##ена с оптим ##ально ##и скоростью . поэтому \u001b[31mпри\u001b[0m пробега ##нии второго вир ##ажа надо стремиться сохранить длину шага и темп бега и стараться удержать его как можно дольше . последние финиш ##ные метр ##ы бывают особенно трудным ##и , и здесь много зависит от характера и психологи ##ческо ##и уст ##ои ##чивости спортсмена . важное \u001b[31mзначение\u001b[0m имеет правиль \u001b[31m##ны\u001b[0m ##и выход с вир ##ажа на финиш ##ную прямую , когда особенно борьба обостря ##ется . \u001b[31mне\u001b[0m рекомендуется \u001b[31mприменять\u001b[0m \u001b[31mрыв\u001b[0m \u001b[31m##ки\u001b[0m . ускорение \u001b[31mдолжно\u001b[0m быть постепенным , плав ##ным \u001b[31m,\u001b[0m только тогда оно будет эффективным \u001b[31m.\u001b[0m на послед ##не ##и прямо ##и в основном уменьшается длина шага , а не темп , поэтому надо \u001b[31mпостоянно\u001b[0m следить за свобод ##ои движении . вследствие этого надо ритм ##ичнее работать руками , не упуск \u001b[31m##ать\u001b[0m из своего внимания подъем колене ##и . за 5 — 10 м до финиша не надо изменять положение туловища , стараясь сделать набега ##ние и бросок грудью за 1 — 1 , 5 м до ленточ ##ки . этим самым создается прямо ##лине ##иност \u001b[31m##ь\u001b[0m бега и расслаб ##ленность движении . \u001b[31mанализ\u001b[0m \u001b[31mтехники\u001b[0m \u001b[31mбега\u001b[0m \u001b[31mеще\u001b[0m \u001b[31mраз\u001b[0m подтверждает \u001b[31mистину\u001b[0m \u001b[31m,\u001b[0m что дистанцию 400 м надо \u001b[31mпробега\u001b[0m ##ть равномерно , с оптим ##ально ##и скоростью . поэтому при пробега ##нии второго вир ##ажа надо стремиться сохранить длину шага и темп \u001b[31mбега\u001b[0m и стараться удержать его как можно дольше . последние финиш ##ные метр ##ы бывают особенно трудным ##и , и \u001b[31mздесь\u001b[0m много \u001b[31mзависит\u001b[0m \u001b[31mот\u001b[0m характера и психологи ##ческо \u001b[31m##и\u001b[0m уст ##ои ##чив \u001b[31m[SEP]\u001b[0m \n",
      "\n",
      "<class 'allennlp.interpret.saliency_interpreters.integrated_gradient.IntegratedGradient'> TEXT:\n",
      "\u001b[31mх\u001b[0m от предложения \u001b[31mработы\u001b[0m мышц \u001b[31mстопы\u001b[0m \u001b[31m.\u001b[0m туловище \u001b[31mна\u001b[0m вир ##аже наклон ##ено на 3 — 5° вперед , но по мере выхода с вир ##ажа на прямую наклон уменьшается , а руки \u001b[31mработают\u001b[0m \u001b[31mсвободно\u001b[0m и быстро , способствуя поддержанию высокого темпа бега . в беге на 400 м по все ##и дистанции следует темп и длину шага поддерживать в оптимальных пределах : темп бега у мужчин должен быть равен 3 , 4 — \u001b[31m4\u001b[0m ш / сек , длина шага — 220 \u001b[31m—\u001b[0m 210 см . после пробега ##ния первых 200 ##м у спортсменов \u001b[31mнаступает\u001b[0m так называемое \u001b[31mмним\u001b[0m ##ое утом ##ление \u001b[31mи\u001b[0m большинство из них не в состоянии преодолеть этот \u001b[31mрубеж\u001b[0m . \u001b[31mнадо\u001b[0m помнить \u001b[31m,\u001b[0m \u001b[31mчто\u001b[0m у хорошо подготовленного бегун ##а естественное утом ##ление начинается за 50 — 70 м до финиша , если первая половина \u001b[31mдистанции\u001b[0m преодол ##ена с оптим ##ально ##и скоростью . поэтому при пробега ##нии второго вир ##ажа надо стремиться сохранить длину шага и темп бега и стараться \u001b[31mудержать\u001b[0m его как можно дольше . \u001b[31mпоследние\u001b[0m финиш \u001b[31m##ные\u001b[0m метр ##ы \u001b[31mбывают\u001b[0m \u001b[31mособенно\u001b[0m трудным \u001b[31m##и\u001b[0m , и здесь много зависит от \u001b[31mхарактера\u001b[0m и \u001b[31mпсихологи\u001b[0m \u001b[31m##ческо\u001b[0m ##и уст ##ои \u001b[31m##чивости\u001b[0m \u001b[31mспортсмена\u001b[0m \u001b[31m.\u001b[0m \u001b[31mважное\u001b[0m значение \u001b[31mимеет\u001b[0m правиль ##ны ##и выход с вир ##ажа на финиш \u001b[31m##ную\u001b[0m \u001b[31mпрямую\u001b[0m , когда особенно борьба обостря ##ется . не рекомендуется \u001b[31mприменять\u001b[0m \u001b[31mрыв\u001b[0m ##ки . ускорение \u001b[31mдолжно\u001b[0m быть постепенным , плав ##ным , только тогда оно будет эффективным . на послед ##не ##и прямо ##и в основном уменьшается длина шага , а не темп , поэтому надо постоянно следить \u001b[31mза\u001b[0m свобод ##ои движении . вследствие этого надо ритм ##ичнее \u001b[31mработать\u001b[0m руками , не упуск ##ать из своего внимания подъем колене ##и . за 5 — 10 м до финиша не надо изменять положение туловища , стараясь сделать набега ##ние и бросок грудью за 1 — 1 , 5 м до ленточ ##ки . этим самым создается прямо ##лине \u001b[31m##иност\u001b[0m ##ь бега и расслаб ##ленность движении . анализ \u001b[31mтехники\u001b[0m бега еще \u001b[31mраз\u001b[0m подтверждает \u001b[31mистину\u001b[0m , что дистанцию 400 м надо пробега ##ть равномерно , с оптим ##ально ##и скоростью . поэтому при пробега ##нии второго вир ##ажа надо стремиться сохранить длину шага и темп бега и стараться удержать его как можно дольше . последние \u001b[31mфиниш\u001b[0m \u001b[31m##ные\u001b[0m метр ##ы бывают \u001b[31mособенно\u001b[0m трудным \u001b[31m##и\u001b[0m , и здесь \u001b[31mмного\u001b[0m зависит \u001b[31mот\u001b[0m \u001b[31mхарактера\u001b[0m и психологи ##ческо ##и уст ##ои ##чив \u001b[31m[SEP]\u001b[0m \n",
      "\n"
     ]
    }
   ],
   "source": [
    "interpret_sentence(\n",
    "    sentences[mistake_ids[2]], dataset_reader.tokenizer, 50, \n",
    "    [smooth_grad, simple_grad, integrated_grad],\n",
    "    label_description[true_classes[mistake_ids[2]]],\n",
    "    label_description[predicted_classes[mistake_ids[2]]]\n",
    ")"
   ]
  }
 ],
 "metadata": {
  "kernelspec": {
   "display_name": "Python 3",
   "language": "python",
   "name": "python3"
  },
  "language_info": {
   "codemirror_mode": {
    "name": "ipython",
    "version": 3
   },
   "file_extension": ".py",
   "mimetype": "text/x-python",
   "name": "python",
   "nbconvert_exporter": "python",
   "pygments_lexer": "ipython3",
   "version": "3.8.3"
  }
 },
 "nbformat": 4,
 "nbformat_minor": 4
}
