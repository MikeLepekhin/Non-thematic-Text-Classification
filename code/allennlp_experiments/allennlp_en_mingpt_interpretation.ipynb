{
 "cells": [
  {
   "cell_type": "code",
   "execution_count": 1,
   "metadata": {},
   "outputs": [],
   "source": [
    "from os.path import join as pathjoin\n",
    "from data_processing import *\n",
    "from interpretation import *\n",
    "from models import *\n",
    "from training import *"
   ]
  },
  {
   "cell_type": "code",
   "execution_count": 2,
   "metadata": {},
   "outputs": [],
   "source": [
    "DATA_DIR = '/home/mlepekhin/data/min_gpt'\n",
    "MODELS_DIR = '/home/mlepekhin/models'\n",
    "MODEL_ID = 'allennlp_bert_base_cased'\n",
    "CHECKPOINTS_DIR = pathjoin(MODELS_DIR, MODEL_ID, 'checkpoints')\n",
    "BEST_MODEL = pathjoin(CHECKPOINTS_DIR, 'best.th')"
   ]
  },
  {
   "cell_type": "code",
   "execution_count": 3,
   "metadata": {},
   "outputs": [],
   "source": [
    "transformer_model = 'bert-base-cased'\n",
    "MAX_TOKENS = 512"
   ]
  },
  {
   "cell_type": "markdown",
   "metadata": {},
   "source": [
    "### Loading of the pretrained model"
   ]
  },
  {
   "cell_type": "code",
   "execution_count": 4,
   "metadata": {},
   "outputs": [
    {
     "name": "stdout",
     "output_type": "stream",
     "text": [
      "Building the model\n"
     ]
    }
   ],
   "source": [
    "vocab = Vocabulary().from_files(pathjoin(MODELS_DIR, MODEL_ID, 'vocab'))\n",
    "model = build_transformer_model(vocab, transformer_model)"
   ]
  },
  {
   "cell_type": "code",
   "execution_count": 5,
   "metadata": {},
   "outputs": [
    {
     "name": "stdout",
     "output_type": "stream",
     "text": [
      "{0: 'A1', 1: 'A12', 2: 'A7', 3: 'A16', 4: 'A8', 5: 'A22', 6: 'A4', 7: 'A11', 8: 'A14', 9: 'A9', 10: 'A17'}\n",
      "dict_values(['A1', 'A12', 'A7', 'A16', 'A8', 'A22', 'A4', 'A11', 'A14', 'A9', 'A17'])\n"
     ]
    }
   ],
   "source": [
    "id_to_label = vocab.get_index_to_token_vocabulary('labels')\n",
    "print(id_to_label)\n",
    "print(id_to_label.values())"
   ]
  },
  {
   "cell_type": "code",
   "execution_count": 6,
   "metadata": {},
   "outputs": [
    {
     "name": "stdout",
     "output_type": "stream",
     "text": [
      "1\n"
     ]
    },
    {
     "data": {
      "text/plain": [
       "<All keys matched successfully>"
      ]
     },
     "execution_count": 6,
     "metadata": {},
     "output_type": "execute_result"
    }
   ],
   "source": [
    "if torch.cuda.is_available():\n",
    "    cuda_device = 1\n",
    "else:\n",
    "    cuda_device = -1\n",
    "print(cuda_device)\n",
    "model.load_state_dict(torch.load(BEST_MODEL, map_location=f'cuda:{cuda_device}'))"
   ]
  },
  {
   "cell_type": "markdown",
   "metadata": {},
   "source": [
    "### Data loading"
   ]
  },
  {
   "cell_type": "code",
   "execution_count": 7,
   "metadata": {},
   "outputs": [
    {
     "data": {
      "text/html": [
       "<div>\n",
       "<style scoped>\n",
       "    .dataframe tbody tr th:only-of-type {\n",
       "        vertical-align: middle;\n",
       "    }\n",
       "\n",
       "    .dataframe tbody tr th {\n",
       "        vertical-align: top;\n",
       "    }\n",
       "\n",
       "    .dataframe thead th {\n",
       "        text-align: right;\n",
       "    }\n",
       "</style>\n",
       "<table border=\"1\" class=\"dataframe\">\n",
       "  <thead>\n",
       "    <tr style=\"text-align: right;\">\n",
       "      <th></th>\n",
       "      <th>Unnamed: 0</th>\n",
       "      <th>target</th>\n",
       "      <th>text</th>\n",
       "    </tr>\n",
       "  </thead>\n",
       "  <tbody>\n",
       "    <tr>\n",
       "      <th>0</th>\n",
       "      <td>0</td>\n",
       "      <td>A4</td>\n",
       "      <td>Governor-Lords of the Imperium , as it was rel...</td>\n",
       "    </tr>\n",
       "    <tr>\n",
       "      <th>1</th>\n",
       "      <td>1</td>\n",
       "      <td>A4</td>\n",
       "      <td>The man could not even gain the daily bread . ...</td>\n",
       "    </tr>\n",
       "    <tr>\n",
       "      <th>2</th>\n",
       "      <td>2</td>\n",
       "      <td>A4</td>\n",
       "      <td>Of the two children her son had saved and insi...</td>\n",
       "    </tr>\n",
       "    <tr>\n",
       "      <th>3</th>\n",
       "      <td>3</td>\n",
       "      <td>A4</td>\n",
       "      <td>Krork we felt that brand-consciousness eradica...</td>\n",
       "    </tr>\n",
       "    <tr>\n",
       "      <th>4</th>\n",
       "      <td>4</td>\n",
       "      <td>A4</td>\n",
       "      <td>His sisters for their savings--would they desp...</td>\n",
       "    </tr>\n",
       "  </tbody>\n",
       "</table>\n",
       "</div>"
      ],
      "text/plain": [
       "   Unnamed: 0 target                                               text\n",
       "0           0     A4  Governor-Lords of the Imperium , as it was rel...\n",
       "1           1     A4  The man could not even gain the daily bread . ...\n",
       "2           2     A4  Of the two children her son had saved and insi...\n",
       "3           3     A4  Krork we felt that brand-consciousness eradica...\n",
       "4           4     A4  His sisters for their savings--would they desp..."
      ]
     },
     "execution_count": 7,
     "metadata": {},
     "output_type": "execute_result"
    }
   ],
   "source": [
    "en_test_df = pd.read_csv(pathjoin(DATA_DIR, 'en'))\n",
    "en_test_df.head()"
   ]
  },
  {
   "cell_type": "code",
   "execution_count": 8,
   "metadata": {},
   "outputs": [],
   "source": [
    "true_classes = en_test_df.target.values\n",
    "sentences = en_test_df.text.values"
   ]
  },
  {
   "cell_type": "markdown",
   "metadata": {},
   "source": [
    "### Preliminary analysis"
   ]
  },
  {
   "cell_type": "code",
   "execution_count": 9,
   "metadata": {},
   "outputs": [],
   "source": [
    "dataset_reader = build_transformer_dataset_reader(transformer_model, MAX_TOKENS)\n",
    "predictor = TextClassifierPredictor(model, dataset_reader=dataset_reader)\n",
    "predicted_classes = np.array(predict_classes(sentences, predictor, vocab))"
   ]
  },
  {
   "cell_type": "code",
   "execution_count": 10,
   "metadata": {},
   "outputs": [
    {
     "name": "stdout",
     "output_type": "stream",
     "text": [
      "<class 'numpy.ndarray'>\n"
     ]
    }
   ],
   "source": [
    "print(type(predicted_classes == 'A1'))"
   ]
  },
  {
   "cell_type": "code",
   "execution_count": 11,
   "metadata": {},
   "outputs": [
    {
     "name": "stdout",
     "output_type": "stream",
     "text": [
      "11\n"
     ]
    }
   ],
   "source": [
    "print(len(np.unique(true_classes)))"
   ]
  },
  {
   "cell_type": "code",
   "execution_count": 12,
   "metadata": {},
   "outputs": [
    {
     "name": "stdout",
     "output_type": "stream",
     "text": [
      "label (argum) f1_score 0.5714285714285714 precision 0.8 recall 0.4444444444444444\n",
      "label (fictive) f1_score 0.975609756097561 precision 1.0 recall 0.9523809523809523\n",
      "label (instruct) f1_score 0.8837209302325583 precision 0.95 recall 0.8260869565217391\n",
      "label (reporting) f1_score 0.6666666666666667 precision 0.65 recall 0.6842105263157895\n",
      "label (legal) f1_score 0.8780487804878048 precision 0.9 recall 0.8571428571428571\n",
      "label (personal) f1_score 0.6470588235294117 precision 0.55 recall 0.7857142857142857\n",
      "label (commercial) f1_score 0.9268292682926829 precision 0.95 recall 0.9047619047619048\n",
      "label (research) f1_score 0.6206896551724138 precision 0.45 recall 1.0\n",
      "label (info) f1_score 0.5945945945945946 precision 0.55 recall 0.6470588235294118\n",
      "label (eval) f1_score 0.0 precision 0.0 recall 0.0\n",
      "label (stuff) f1_score 0.5762711864406781 precision 0.85 recall 0.4358974358974359\n",
      "accuracy 0.6954545454545454\n"
     ]
    },
    {
     "name": "stderr",
     "output_type": "stream",
     "text": [
      "/home/mlepekhin/anaconda3/envs/mlepekhin_research/lib/python3.8/site-packages/sklearn/metrics/_classification.py:1221: UndefinedMetricWarning: Recall is ill-defined and being set to 0.0 due to no true samples. Use `zero_division` parameter to control this behavior.\n",
      "  _warn_prf(average, modifier, msg_start, len(result))\n"
     ]
    }
   ],
   "source": [
    "calc_classifier_metrics(predicted_classes, true_classes)"
   ]
  },
  {
   "cell_type": "code",
   "execution_count": 13,
   "metadata": {},
   "outputs": [
    {
     "name": "stderr",
     "output_type": "stream",
     "text": [
      "/home/mlepekhin/Non-thematic-Text-Classification/code/allennlp_experiments/interpretation.py:70: RuntimeWarning: invalid value encountered in true_divide\n",
      "  normed_cm = (cm.T / sums).T\n"
     ]
    },
    {
     "data": {
      "image/png": "[encoded data removed]",
      "text/plain": [
       "<Figure size 1080x1080 with 2 Axes>"
      ]
     },
     "metadata": {
      "needs_background": "light"
     },
     "output_type": "display_data"
    }
   ],
   "source": [
    "plot_confusion_matrix(predicted_classes, true_classes)"
   ]
  },
  {
   "cell_type": "markdown",
   "metadata": {},
   "source": [
    "### Saliency Gradient Interpretation"
   ]
  },
  {
   "cell_type": "code",
   "execution_count": 14,
   "metadata": {},
   "outputs": [],
   "source": [
    "smooth_grad = SmoothGradient(predictor)\n",
    "simple_grad = SimpleGradient(predictor)\n",
    "integrated_grad = IntegratedGradient(predictor)"
   ]
  },
  {
   "cell_type": "code",
   "execution_count": 15,
   "metadata": {},
   "outputs": [],
   "source": [
    "mistake_ids = []\n",
    "\n",
    "for sent_id in range(len(true_classes)):\n",
    "    if true_classes[sent_id] != predicted_classes[sent_id]:\n",
    "        mistake_ids.append(sent_id)"
   ]
  },
  {
   "cell_type": "code",
   "execution_count": 16,
   "metadata": {},
   "outputs": [
    {
     "name": "stdout",
     "output_type": "stream",
     "text": [
      "TRUE LABEL: instruct\n",
      "LABEL: commercial\n",
      "<class 'allennlp.interpret.saliency_interpreters.smooth_gradient.SmoothGradient'> TEXT:\n",
      "But ##ton \u001b[31mParents\u001b[0m offered \u001b[31mthese\u001b[0m supported \u001b[31mbrowser\u001b[0m \u001b[31m##s\u001b[0m : Fire ##fo ##x 3 and later versions \u001b[31m,\u001b[0m Sa ##fari 5 for Mac and later versions \u001b[31m,\u001b[0m Internet \u001b[31mExplorer\u001b[0m 8 , and Google \u001b[31mCh\u001b[0m ##rome \u001b[31m5\u001b[0m and later \u001b[31mversions\u001b[0m you previously \u001b[31mdisabled\u001b[0m auto ##com ##ple ##te you previously opted out of Google In ##stant \u001b[31myou\u001b[0m use a Google domain or interface \u001b[31mlanguage\u001b[0m \u001b[31mthat\u001b[0m does not yet support Google \u001b[31mIn\u001b[0m ##stant \u001b[31mIn\u001b[0m addition , users \u001b[31mon\u001b[0m particularly slow Internet connections w ##o n ' t see dynamic results since we want to make sure that your search \u001b[31mexperience\u001b[0m is as fast as possible . Lea ##rn more about this and similar issues . Last ##ly , certain types of search que ##ries that may be inappropriate will not trigger results to appear automatically \u001b[31m.\u001b[0m \u001b[31mIn\u001b[0m these situations \u001b[31m,\u001b[0m you ' ll see a message asking you to click En \u001b[31m##ter\u001b[0m \u001b[31mto\u001b[0m perform the search \u001b[31m.\u001b[0m The \u001b[31mbenefits\u001b[0m \u001b[31mGet\u001b[0m \u001b[31mall\u001b[0m the benefits \u001b[31mof\u001b[0m auto ##com ##ple ##te and more \u001b[31m:\u001b[0m Save time \u001b[31m-\u001b[0m - \u001b[31mGet\u001b[0m relevant search results while you type so you spend less time searching and can go right to the website . Each car listing \u001b[31mwill\u001b[0m include numerous \u001b[31mphotographs\u001b[0m \u001b[31mtaken\u001b[0m from various angles of a specific car , and all other relevant information about the salvage car is provided to the user in a friendly \u001b[31mway\u001b[0m , if the site is well made . Third ##ly , one needs to select which car he or she is interested in before one proceeds to place a bid for the car . \u001b[31mBefore\u001b[0m one bids on the car of choice , one must \u001b[31mensure\u001b[0m \u001b[31mcommunication\u001b[0m with the dealer by personally speaking with them at the salvage yard to determine exactly what is wrong with people , but has low their cars to maintain address it are considered and handling \u001b[31ma\u001b[0m monthly . They can for their lead to con ##sol ##ve the developers \u001b[31mcan\u001b[0m offer a more pain ##less and effective lesson . Record \u001b[31mit\u001b[0m – \u001b[31mGetting\u001b[0m \u001b[31mthe\u001b[0m performances down on tape gives everyone more opportunities to laugh \u001b[31mand\u001b[0m enjoy it all over again . There ' s a difference between tap ##ing the children \u001b[31mplaying\u001b[0m at creating the performance \u001b[31mand\u001b[0m \" making a movie \" of the \u001b[31mshow\u001b[0m \u001b[31m,\u001b[0m and both are wonderful \u001b[31mto\u001b[0m watch again and again . Ta ##ping the children at play shows \u001b[31m[SEP]\u001b[0m \n",
      "\n",
      "<class 'allennlp.interpret.saliency_interpreters.simple_gradient.SimpleGradient'> TEXT:\n",
      "But ##ton Parents offered \u001b[31mthese\u001b[0m \u001b[31msupported\u001b[0m browser \u001b[31m##s\u001b[0m : Fire ##fo ##x 3 and later versions , Sa ##fari 5 for Mac and later versions , Internet Explorer 8 , and Google Ch ##rome 5 and later \u001b[31mversions\u001b[0m you previously disabled auto ##com ##ple ##te you previously opted out of Google In ##stant \u001b[31myou\u001b[0m use a Google domain or interface language that does not yet support \u001b[31mGoogle\u001b[0m In ##stant In addition , users on particularly slow Internet connections w ##o n ' t see dynamic results since we want to make sure that your search experience \u001b[31mis\u001b[0m as fast as possible . Lea ##rn more about this and similar issues . Last ##ly , certain types of \u001b[31msearch\u001b[0m que \u001b[31m##ries\u001b[0m that may be inappropriate \u001b[31mwill\u001b[0m not trigger \u001b[31mresults\u001b[0m to appear automatically \u001b[31m.\u001b[0m In \u001b[31mthese\u001b[0m \u001b[31msituations\u001b[0m , you ' ll see a message asking \u001b[31myou\u001b[0m to click En \u001b[31m##ter\u001b[0m to perform the search . The \u001b[31mbenefits\u001b[0m \u001b[31mGet\u001b[0m \u001b[31mall\u001b[0m the \u001b[31mbenefits\u001b[0m of \u001b[31mauto\u001b[0m ##com ##ple ##te and \u001b[31mmore\u001b[0m : \u001b[31mSave\u001b[0m \u001b[31mtime\u001b[0m \u001b[31m-\u001b[0m - Get relevant search results while you type so you spend less time searching and can go right to the website . Each car \u001b[31mlisting\u001b[0m will include numerous photographs \u001b[31mtaken\u001b[0m from various angles of a specific car , and all other relevant information \u001b[31mabout\u001b[0m the salvage \u001b[31mcar\u001b[0m is provided to the user \u001b[31min\u001b[0m a friendly way , if \u001b[31mthe\u001b[0m site is well made . Third ##ly , one needs to select which car he or she is interested in before one proceeds to place a bid \u001b[31mfor\u001b[0m the car \u001b[31m.\u001b[0m Before one bids on the car of choice , one must ensure communication \u001b[31mwith\u001b[0m the dealer by personally speaking with them at the salvage yard to determine exactly what is wrong \u001b[31mwith\u001b[0m people , but has low their cars to maintain address it are considered and handling a monthly . They can for their lead to con ##sol ##ve the developers \u001b[31mcan\u001b[0m offer a more pain \u001b[31m##less\u001b[0m \u001b[31mand\u001b[0m effective lesson . Record \u001b[31mit\u001b[0m – Getting the performances down \u001b[31mon\u001b[0m tape gives \u001b[31meveryone\u001b[0m more opportunities to laugh and enjoy \u001b[31mit\u001b[0m all over again . There ' s a difference between tap ##ing the children playing at creating the performance \u001b[31mand\u001b[0m \" \u001b[31mmaking\u001b[0m a movie \" \u001b[31mof\u001b[0m the \u001b[31mshow\u001b[0m , \u001b[31mand\u001b[0m both are \u001b[31mwonderful\u001b[0m \u001b[31mto\u001b[0m watch again and again . Ta ##ping the children at play shows \u001b[31m[SEP]\u001b[0m \n",
      "\n",
      "<class 'allennlp.interpret.saliency_interpreters.integrated_gradient.IntegratedGradient'> TEXT:\n",
      "But \u001b[31m##ton\u001b[0m \u001b[31mParents\u001b[0m offered \u001b[31mthese\u001b[0m \u001b[31msupported\u001b[0m \u001b[31mbrowser\u001b[0m \u001b[31m##s\u001b[0m : \u001b[31mFire\u001b[0m ##fo ##x 3 and later versions \u001b[31m,\u001b[0m Sa ##fari 5 for Mac and later versions \u001b[31m,\u001b[0m Internet Explorer 8 , and Google Ch ##rome 5 and later versions \u001b[31myou\u001b[0m \u001b[31mpreviously\u001b[0m disabled auto ##com ##ple \u001b[31m##te\u001b[0m you previously opted out of Google \u001b[31mIn\u001b[0m ##stant you \u001b[31muse\u001b[0m a Google domain or interface language that does not yet \u001b[31msupport\u001b[0m \u001b[31mGoogle\u001b[0m In ##stant In addition \u001b[31m,\u001b[0m users \u001b[31mon\u001b[0m particularly slow Internet connections w ##o n ' t see dynamic results since we want to make sure that your \u001b[31msearch\u001b[0m experience is as fast as possible . Lea ##rn more about this and similar issues . Last ##ly , certain types of search que ##ries that may \u001b[31mbe\u001b[0m inappropriate will not trigger results to appear automatically . In these situations , you \u001b[31m'\u001b[0m ll \u001b[31msee\u001b[0m a message asking you \u001b[31mto\u001b[0m click En ##ter to perform the search . The benefits \u001b[31mGet\u001b[0m \u001b[31mall\u001b[0m \u001b[31mthe\u001b[0m benefits \u001b[31mof\u001b[0m auto ##com ##ple \u001b[31m##te\u001b[0m and more : \u001b[31mSave\u001b[0m time - - \u001b[31mGet\u001b[0m \u001b[31mrelevant\u001b[0m \u001b[31msearch\u001b[0m results while you \u001b[31mtype\u001b[0m so you \u001b[31mspend\u001b[0m less time searching and can go right to the website . Each car listing will include numerous photographs taken from various angles of a specific car , and all other relevant information about the salvage car is provided to the user in a friendly way , if the site is well made . Third ##ly , one needs \u001b[31mto\u001b[0m select \u001b[31mwhich\u001b[0m car he or she is interested in before one proceeds to place a bid for the car . Before one bids on the car of choice , one must \u001b[31mensure\u001b[0m \u001b[31mcommunication\u001b[0m with the dealer by personally speaking with them at the salvage yard to determine exactly what is wrong with people , but has low their cars to maintain address it are considered and handling a monthly . They can for their lead to con ##sol ##ve the developers \u001b[31mcan\u001b[0m offer a more pain ##less and effective lesson \u001b[31m.\u001b[0m Record \u001b[31mit\u001b[0m – \u001b[31mGetting\u001b[0m the performances \u001b[31mdown\u001b[0m on tape gives everyone more opportunities to laugh and enjoy it all over again . There ' s a difference between tap ##ing the children playing at creating the performance and \" making a movie \" of \u001b[31mthe\u001b[0m show , and both are wonderful \u001b[31mto\u001b[0m watch again \u001b[31mand\u001b[0m again . Ta ##ping \u001b[31mthe\u001b[0m children at \u001b[31mplay\u001b[0m shows \u001b[31m[SEP]\u001b[0m \n",
      "\n"
     ]
    }
   ],
   "source": [
    "interpret_sentence(\n",
    "    sentences[mistake_ids[0]], dataset_reader.tokenizer, 50, \n",
    "    [smooth_grad, simple_grad, integrated_grad],\n",
    "    label_description[true_classes[mistake_ids[0]]],\n",
    "    label_description[predicted_classes[mistake_ids[0]]]\n",
    ")"
   ]
  },
  {
   "cell_type": "code",
   "execution_count": 17,
   "metadata": {},
   "outputs": [
    {
     "name": "stdout",
     "output_type": "stream",
     "text": [
      "TRUE LABEL: research\n",
      "LABEL: reporting\n",
      "<class 'allennlp.interpret.saliency_interpreters.smooth_gradient.SmoothGradient'> TEXT:\n",
      "T ##AG \u001b[31m)\u001b[0m . The group \u001b[31mhad\u001b[0m \u001b[31mnoted\u001b[0m that a back - to - back meeting would \u001b[31munfortunately\u001b[0m \u001b[31mnot\u001b[0m be feasible for 2002 as originally decided at CO \u001b[31m##P\u001b[0m 7 ( decision \u001b[31m31\u001b[0m / CP \u001b[31m.\u001b[0m 7 , paragraph 5 \u001b[31m)\u001b[0m . The C ##GE \u001b[31m,\u001b[0m however \u001b[31m,\u001b[0m had \u001b[31mstressed\u001b[0m \u001b[31mthe\u001b[0m \u001b[31mimportance\u001b[0m of ex ##changing views between the two groups \u001b[31mthrough\u001b[0m the two common members , the consideration \u001b[31mof\u001b[0m each group ' s reports and the participation of experts \u001b[31mfrom\u001b[0m the L ##EG at the C \u001b[31m##GE\u001b[0m \u001b[31mworkshops\u001b[0m \u001b[31m.\u001b[0m The C \u001b[31m##GE\u001b[0m \u001b[31mhad\u001b[0m also discussed \u001b[31mthe\u001b[0m provision \u001b[31mof\u001b[0m financial resources for the preparation of the second national communications . In the light of the gaps and constraints identified in the preparation of the initial national communications , \u001b[31mthe\u001b[0m C ##GE recognized that it might be necessary to increase the financial \u001b[31mresources\u001b[0m to improve the process of the preparation of \u001b[31mnational\u001b[0m communications ; \u001b[31mI\u001b[0m \u001b[31m##dent\u001b[0m \u001b[31m##ify\u001b[0m the \u001b[31mdifficulties\u001b[0m encountered \u001b[31mby\u001b[0m non - Anne ##x I Parties in the use of the guidelines contained in the an ##nex to decision 10 \u001b[31m/\u001b[0m CP . 2 ( UN ##FC ##CC guidelines ) . Since the completion of that report , the C ##GE \u001b[31mwas\u001b[0m mandated by the CO ##P \u001b[31m(\u001b[0m decision 31 / CP . 7 ) to continue its work to improve the process of the preparation of national \u001b[31mcommunications\u001b[0m from non - Anne ##x I Parties . Data and information Additional resources should be mob ##ilized \u001b[31mto\u001b[0m develop and implement a sustainable data collection , compilation , arch ##iving and up ##dating management system for national \u001b[31mG\u001b[0m ##H ##G inventor ##ies , vulnerability and adaptation assessment , research and systematic \u001b[31mobservation\u001b[0m , \u001b[31mG\u001b[0m ##H ##G mit ##iga ##tion analysis , education , training and public awareness , information and networking , and financial and technical support . In view of the need to anal ##ys ##e information pertaining to each of the elements of a national communication , the \u001b[31mC\u001b[0m ##GE divided \u001b[31mitself\u001b[0m into six task groups to cover : \u001b[31mnational\u001b[0m \u001b[31mG\u001b[0m ##H \u001b[31m##G\u001b[0m inventory ; \u001b[31mvulnerability\u001b[0m and adaptation assessment and research and systematic observation ; G ##H ##G mit ##iga ##tion analysis ; education \u001b[31m,\u001b[0m training and public \u001b[31mawareness\u001b[0m ; information and networking ; and \u001b[31mfinancial\u001b[0m \u001b[31mand\u001b[0m technical support . T ##h [SEP] \n",
      "\n",
      "<class 'allennlp.interpret.saliency_interpreters.simple_gradient.SimpleGradient'> TEXT:\n",
      "T \u001b[31m##AG\u001b[0m \u001b[31m)\u001b[0m . \u001b[31mThe\u001b[0m group had noted that a back \u001b[31m-\u001b[0m to - back meeting \u001b[31mwould\u001b[0m \u001b[31munfortunately\u001b[0m not be \u001b[31mfeasible\u001b[0m for 2002 \u001b[31mas\u001b[0m \u001b[31moriginally\u001b[0m decided at CO ##P 7 ( \u001b[31mdecision\u001b[0m 31 / CP . \u001b[31m7\u001b[0m , paragraph \u001b[31m5\u001b[0m ) . The C \u001b[31m##GE\u001b[0m \u001b[31m,\u001b[0m however \u001b[31m,\u001b[0m had stressed \u001b[31mthe\u001b[0m importance of ex ##changing views between the two groups \u001b[31mthrough\u001b[0m the two common members , the consideration of each group ' s reports and the participation of experts from the L ##EG at the C \u001b[31m##GE\u001b[0m \u001b[31mworkshops\u001b[0m . The C \u001b[31m##GE\u001b[0m had also discussed \u001b[31mthe\u001b[0m provision of financial resources for the preparation of the second national \u001b[31mcommunications\u001b[0m . In the light of the gaps and constraints identified in the preparation of the initial national \u001b[31mcommunications\u001b[0m , the C ##GE \u001b[31mrecognized\u001b[0m that it might be necessary to increase the financial resources to improve the process of the preparation of national \u001b[31mcommunications\u001b[0m ; \u001b[31mI\u001b[0m \u001b[31m##dent\u001b[0m \u001b[31m##ify\u001b[0m \u001b[31mthe\u001b[0m difficulties encountered \u001b[31mby\u001b[0m non - Anne ##x I Parties in the use of the guidelines contained in the an ##nex to decision 10 / CP . 2 ( UN \u001b[31m##FC\u001b[0m ##CC guidelines ) . Since the completion of that report , the C \u001b[31m##GE\u001b[0m \u001b[31mwas\u001b[0m mandated by the CO ##P ( decision 31 \u001b[31m/\u001b[0m CP . 7 ) to continue its work to improve the process of the preparation of national \u001b[31mcommunications\u001b[0m from non - Anne ##x I Parties . \u001b[31mData\u001b[0m and information Additional \u001b[31mresources\u001b[0m should be mob ##ilized to develop and implement a sustainable data collection , compilation , arch ##iving and up ##dating management system for national G ##H ##G inventor ##ies , vulnerability and adaptation assessment , research and systematic observation , G ##H \u001b[31m##G\u001b[0m mit ##iga ##tion analysis , education , training and public awareness , information and networking , and financial and technical support . In view of the need to anal ##ys ##e information pertaining to each of the elements of a national communication , the C \u001b[31m##GE\u001b[0m \u001b[31mdivided\u001b[0m \u001b[31mitself\u001b[0m into six task groups \u001b[31mto\u001b[0m cover : \u001b[31mnational\u001b[0m \u001b[31mG\u001b[0m ##H ##G inventory \u001b[31m;\u001b[0m \u001b[31mvulnerability\u001b[0m and adaptation assessment and research and systematic \u001b[31mobservation\u001b[0m \u001b[31m;\u001b[0m G ##H ##G mit ##iga ##tion analysis ; education , training and public awareness ; information and networking ; and financial and technical support . T \u001b[31m##h\u001b[0m [SEP] \n",
      "\n",
      "<class 'allennlp.interpret.saliency_interpreters.integrated_gradient.IntegratedGradient'> TEXT:\n",
      "\u001b[31mT\u001b[0m ##AG \u001b[31m)\u001b[0m \u001b[31m.\u001b[0m The group \u001b[31mhad\u001b[0m noted \u001b[31mthat\u001b[0m a back - to - back meeting would unfortunately not \u001b[31mbe\u001b[0m \u001b[31mfeasible\u001b[0m \u001b[31mfor\u001b[0m 2002 as originally decided at \u001b[31mCO\u001b[0m ##P 7 ( decision 31 / \u001b[31mCP\u001b[0m . 7 \u001b[31m,\u001b[0m paragraph 5 ) . \u001b[31mThe\u001b[0m \u001b[31mC\u001b[0m \u001b[31m##GE\u001b[0m \u001b[31m,\u001b[0m \u001b[31mhowever\u001b[0m , had stressed the \u001b[31mimportance\u001b[0m of ex \u001b[31m##changing\u001b[0m \u001b[31mviews\u001b[0m \u001b[31mbetween\u001b[0m the \u001b[31mtwo\u001b[0m groups through the two common members , the consideration \u001b[31mof\u001b[0m each group ' \u001b[31ms\u001b[0m reports and the participation of experts \u001b[31mfrom\u001b[0m the L ##EG at the C ##GE workshops . \u001b[31mThe\u001b[0m C ##GE had also discussed the provision \u001b[31mof\u001b[0m financial resources for the preparation of the second national communications . In the light of the gaps and constraints identified \u001b[31min\u001b[0m the preparation \u001b[31mof\u001b[0m the initial national communications , \u001b[31mthe\u001b[0m C ##GE recognized that it might be necessary to increase the financial resources to improve the process of the preparation of national communications ; I ##dent \u001b[31m##ify\u001b[0m the difficulties encountered by non - Anne ##x I Parties in the use of the guidelines contained in the an ##nex to decision 10 / CP . 2 ( UN ##FC ##CC guidelines ) . Since the completion of that report , the C ##GE was mandated by the CO ##P ( decision 31 / CP \u001b[31m.\u001b[0m 7 ) to continue its work to improve the process of the preparation of national communications from non \u001b[31m-\u001b[0m \u001b[31mAnne\u001b[0m ##x I Parties . Data and information Additional resources should be mob ##ilized to develop and implement a sustainable data collection , compilation , arch ##iving and up ##dating management system for national G ##H ##G inventor \u001b[31m##ies\u001b[0m , vulnerability and adaptation assessment , research and systematic observation , G ##H ##G mit ##iga ##tion analysis , education , training and public awareness , information and networking , and financial and technical support . In view of the need to anal ##ys ##e information pertaining to each of the elements of a national communication , the C ##GE divided itself into \u001b[31msix\u001b[0m task \u001b[31mgroups\u001b[0m \u001b[31mto\u001b[0m cover : \u001b[31mnational\u001b[0m \u001b[31mG\u001b[0m ##H ##G inventory ; vulnerability \u001b[31mand\u001b[0m \u001b[31madaptation\u001b[0m \u001b[31massessment\u001b[0m and \u001b[31mresearch\u001b[0m \u001b[31mand\u001b[0m systematic observation \u001b[31m;\u001b[0m G ##H ##G mit ##iga ##tion analysis ; education \u001b[31m,\u001b[0m training and public awareness ; information and networking ; and financial and technical support \u001b[31m.\u001b[0m \u001b[31mT\u001b[0m ##h \u001b[31m[SEP]\u001b[0m \n",
      "\n"
     ]
    }
   ],
   "source": [
    "interpret_sentence(\n",
    "    sentences[mistake_ids[1]], dataset_reader.tokenizer, 50, \n",
    "    [smooth_grad, simple_grad, integrated_grad],\n",
    "    label_description[true_classes[mistake_ids[1]]],\n",
    "    label_description[predicted_classes[mistake_ids[1]]]\n",
    ")"
   ]
  },
  {
   "cell_type": "code",
   "execution_count": 18,
   "metadata": {},
   "outputs": [
    {
     "name": "stdout",
     "output_type": "stream",
     "text": [
      "TRUE LABEL: research\n",
      "LABEL: argum\n",
      "<class 'allennlp.interpret.saliency_interpreters.smooth_gradient.SmoothGradient'> TEXT:\n",
      "\u001b[31mC\u001b[0m \u001b[31mprogram\u001b[0m \u001b[31m##mable\u001b[0m \u001b[31mindustrial\u001b[0m \u001b[31msystems\u001b[0m \u001b[31mthrough\u001b[0m \u001b[31meducation\u001b[0m \u001b[31m,\u001b[0m information exchange , \u001b[31mand\u001b[0m the el ##ab ##oration of standards and guidelines \u001b[31m\"\u001b[0m ( E ##WI ##CS , n . d . ) , and the Re ##SI ##ST network \u001b[31mof\u001b[0m \u001b[31mexcellence\u001b[0m \u001b[31m(\u001b[0m Re ##SI ##ST , n . d . \u001b[31m)\u001b[0m , \u001b[31mb\u001b[0m ##oast ##ing a 50 - million items re ##si ##lie ##nce knowledge \u001b[31mbase\u001b[0m ( Anderson , Andrews , & Fitzgerald , 2007 \u001b[31m)\u001b[0m , which developed a re ##si ##lient computing \u001b[31mcurriculum\u001b[0m \u001b[31mrecommended\u001b[0m to all people involved in teaching depend ##ability - related subjects . La ##p ##rie ' s is the most famous \u001b[31mand\u001b[0m accepted definition \u001b[31mof\u001b[0m depend ##ability , but it is certainly not the only one . Not surprisingly , due \u001b[31mto\u001b[0m the societal \u001b[31mrelevance\u001b[0m \u001b[31mof\u001b[0m such a topic , depend ##ability has also slightly different definitions \u001b[31m(\u001b[0m Mo ##te ##t & G ##ef ##f ##roy , 2003 ) . According to So ##mmer ##villa \u001b[31m(\u001b[0m So ##mmer ##villa , 2006 \u001b[31m)\u001b[0m , for instance \u001b[31m,\u001b[0m depend \u001b[31m##ability\u001b[0m is \" The extent to which a critical system is trusted by its users \u001b[31m\"\u001b[0m \u001b[31m.\u001b[0m This is clearly a definition that focuses more on how the user \u001b[31mperceive\u001b[0m \u001b[31m##s\u001b[0m the system than on how the system \u001b[31mactually\u001b[0m is trust ##worthy . It reflects the extent of the user ' s confidence that the system will operate as users \u001b[31mexpect\u001b[0m and in particular without failures . In other words , depend ##ability is considered by So ##mmer ##villa and others as a measure of the quality of experience of a given user \u001b[31mand\u001b[0m a given service . From this descends that the objective of depend \u001b[31m##ability\u001b[0m \u001b[31mengineers\u001b[0m is not to make services \u001b[31mfailure\u001b[0m - proof , but to let its users \u001b[31mbelieve\u001b[0m so ! \u001b[31mPara\u001b[0m ##ph ##ras ##ing Patterson and He ##nnes ##sy ( Patterson & He ##nnes ##sy , 1996 ) , if \u001b[31ma\u001b[0m particular hazard does not occur \u001b[31mvery\u001b[0m frequently , it may not be worth the cost to avoid it . This means that residual faults are not only inevitable , but sometimes even expected . It ' s the notion of \" depend \u001b[31m##ability\u001b[0m economics \" : Because of the very high costs of depend ##ability achievement , in some cases it may be more cost effective to accept un ##tr ##ust ##worthy systems and pay \u001b[31mfor\u001b[0m failure costs . This is especially relevant \u001b[31mwhen\u001b[0m time - to - market \u001b[31mis\u001b[0m critical \u001b[31mto\u001b[0m a product ' s commercial \u001b[31msuccess\u001b[0m . Reaching the market sooner with a su [SEP] \n",
      "\n",
      "<class 'allennlp.interpret.saliency_interpreters.simple_gradient.SimpleGradient'> TEXT:\n",
      "C \u001b[31mprogram\u001b[0m \u001b[31m##mable\u001b[0m \u001b[31mindustrial\u001b[0m \u001b[31msystems\u001b[0m \u001b[31mthrough\u001b[0m \u001b[31meducation\u001b[0m , \u001b[31minformation\u001b[0m exchange , and the el ##ab ##oration of \u001b[31mstandards\u001b[0m and guidelines \" \u001b[31m(\u001b[0m \u001b[31mE\u001b[0m ##WI ##CS , n . d . \u001b[31m)\u001b[0m , and the Re ##SI ##ST network of excellence ( Re ##SI ##ST , n . d . ) , b \u001b[31m##oast\u001b[0m ##ing a 50 \u001b[31m-\u001b[0m million items re ##si ##lie ##nce knowledge base \u001b[31m(\u001b[0m Anderson , Andrews , & Fitzgerald , 2007 \u001b[31m)\u001b[0m \u001b[31m,\u001b[0m which developed a re ##si ##lient \u001b[31mcomputing\u001b[0m \u001b[31mcurriculum\u001b[0m recommended to all people involved in teaching \u001b[31mdepend\u001b[0m ##ability \u001b[31m-\u001b[0m related subjects \u001b[31m.\u001b[0m La ##p ##rie ' s is the most famous and accepted definition of depend ##ability , but it is \u001b[31mcertainly\u001b[0m \u001b[31mnot\u001b[0m \u001b[31mthe\u001b[0m only one . Not surprisingly \u001b[31m,\u001b[0m due to the \u001b[31msocietal\u001b[0m \u001b[31mrelevance\u001b[0m \u001b[31mof\u001b[0m such a topic , depend ##ability has also slightly different definitions ( Mo ##te ##t & G ##ef ##f ##roy , 2003 ) . According to So ##mmer ##villa ( So ##mmer ##villa , 2006 ) , for instance , depend ##ability is \" \u001b[31mThe\u001b[0m \u001b[31mextent\u001b[0m to which a critical system is trusted by its users \" \u001b[31m.\u001b[0m This is clearly \u001b[31ma\u001b[0m definition \u001b[31mthat\u001b[0m focuses more on how the user perceive ##s \u001b[31mthe\u001b[0m system than on how the system actually is trust ##worthy . It reflects the extent of the \u001b[31muser\u001b[0m ' s confidence that the system will operate as users expect and in particular without failures . In other words , depend ##ability is considered by So ##mmer ##villa and others as a measure of the quality of experience of a given user and a given service \u001b[31m.\u001b[0m From this descends that the objective of depend ##ability engineers \u001b[31mis\u001b[0m \u001b[31mnot\u001b[0m to make services failure - proof , but to let its users believe \u001b[31mso\u001b[0m ! \u001b[31mPara\u001b[0m ##ph ##ras ##ing Patterson \u001b[31mand\u001b[0m He ##nnes ##sy ( Patterson & He ##nnes ##sy , 1996 ) \u001b[31m,\u001b[0m if \u001b[31ma\u001b[0m \u001b[31mparticular\u001b[0m \u001b[31mhazard\u001b[0m does not occur very frequently , it may \u001b[31mnot\u001b[0m be worth the cost to avoid it . This means that residual faults are not only inevitable , but \u001b[31msometimes\u001b[0m even expected . It ' s the notion of \" depend ##ability \u001b[31meconomics\u001b[0m \u001b[31m\"\u001b[0m : Because of the very high costs of depend ##ability achievement , in some cases it may be more cost effective to accept un ##tr ##ust ##worthy systems and pay for failure costs . This is especially relevant when time - to - market \u001b[31mis\u001b[0m critical to a product ' s commercial success . Reaching the market sooner with a su [SEP] \n",
      "\n",
      "<class 'allennlp.interpret.saliency_interpreters.integrated_gradient.IntegratedGradient'> TEXT:\n",
      "\u001b[31mC\u001b[0m \u001b[31mprogram\u001b[0m \u001b[31m##mable\u001b[0m \u001b[31mindustrial\u001b[0m \u001b[31msystems\u001b[0m \u001b[31mthrough\u001b[0m \u001b[31meducation\u001b[0m \u001b[31m,\u001b[0m information \u001b[31mexchange\u001b[0m \u001b[31m,\u001b[0m and the \u001b[31mel\u001b[0m \u001b[31m##ab\u001b[0m ##oration \u001b[31mof\u001b[0m standards and guidelines \" ( E ##WI ##CS , n \u001b[31m.\u001b[0m d . ) , and the Re ##SI ##ST network of excellence ( Re ##SI ##ST , n . d . ) \u001b[31m,\u001b[0m b \u001b[31m##oast\u001b[0m \u001b[31m##ing\u001b[0m a 50 - million items \u001b[31mre\u001b[0m ##si ##lie \u001b[31m##nce\u001b[0m \u001b[31mknowledge\u001b[0m \u001b[31mbase\u001b[0m ( Anderson \u001b[31m,\u001b[0m Andrews , & Fitzgerald , 2007 ) , which developed a re ##si ##lient computing curriculum recommended to all people \u001b[31minvolved\u001b[0m in teaching \u001b[31mdepend\u001b[0m ##ability - related subjects . La ##p ##rie ' s is the most famous \u001b[31mand\u001b[0m accepted definition of depend ##ability , but it is certainly not the only one \u001b[31m.\u001b[0m Not surprisingly , due to the societal \u001b[31mrelevance\u001b[0m of such a topic , depend ##ability has also slightly different definitions ( Mo ##te ##t & G ##ef ##f ##roy , 2003 \u001b[31m)\u001b[0m . According \u001b[31mto\u001b[0m So ##mmer ##villa ( \u001b[31mSo\u001b[0m ##mmer ##villa , 2006 ) , for instance , depend ##ability is \" \u001b[31mThe\u001b[0m extent to which a critical system \u001b[31mis\u001b[0m trusted by its users \" . This is clearly a definition that focuses more on how the user perceive ##s the system than on how the system \u001b[31mactually\u001b[0m is trust ##worthy . It reflects the extent of the user \u001b[31m'\u001b[0m \u001b[31ms\u001b[0m confidence \u001b[31mthat\u001b[0m the system \u001b[31mwill\u001b[0m operate as users \u001b[31mexpect\u001b[0m and in particular without failures . In other words , depend ##ability is considered by So ##mmer ##villa and others as a measure of the quality of experience of a given user and a given service . From this descends that the objective of depend ##ability engineers is not to make services failure - proof , but to let its users believe so ! Para \u001b[31m##ph\u001b[0m ##ras \u001b[31m##ing\u001b[0m \u001b[31mPatterson\u001b[0m and He ##nnes ##sy ( Patterson & He ##nnes ##sy , 1996 ) , if \u001b[31ma\u001b[0m particular hazard does not occur very frequently , it may not be worth the cost to avoid it . This means that residual faults are not only inevitable , but sometimes even expected . It ' s the notion of \" depend ##ability \u001b[31meconomics\u001b[0m \u001b[31m\"\u001b[0m : \u001b[31mBecause\u001b[0m of the very high costs of depend ##ability achievement , in some cases it may be more cost effective to accept un ##tr ##ust ##worthy systems \u001b[31mand\u001b[0m pay for failure costs . This is especially relevant when time - to - \u001b[31mmarket\u001b[0m is critical to a product ' s commercial success . Reaching \u001b[31mthe\u001b[0m market \u001b[31msooner\u001b[0m with a su [SEP] \n",
      "\n"
     ]
    }
   ],
   "source": [
    "interpret_sentence(\n",
    "    sentences[mistake_ids[2]], dataset_reader.tokenizer, 50, \n",
    "    [smooth_grad, simple_grad, integrated_grad],\n",
    "    label_description[true_classes[mistake_ids[2]]],\n",
    "    label_description[predicted_classes[mistake_ids[2]]]\n",
    ")"
   ]
  }
 ],
 "metadata": {
  "kernelspec": {
   "display_name": "Python 3",
   "language": "python",
   "name": "python3"
  },
  "language_info": {
   "codemirror_mode": {
    "name": "ipython",
    "version": 3
   },
   "file_extension": ".py",
   "mimetype": "text/x-python",
   "name": "python",
   "nbconvert_exporter": "python",
   "pygments_lexer": "ipython3",
   "version": "3.8.3"
  }
 },
 "nbformat": 4,
 "nbformat_minor": 4
}
