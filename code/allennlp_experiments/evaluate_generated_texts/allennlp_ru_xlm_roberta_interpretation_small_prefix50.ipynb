{
 "cells": [
  {
   "cell_type": "code",
   "execution_count": 1,
   "metadata": {},
   "outputs": [],
   "source": [
    "from os.path import join as pathjoin\n",
    "import sys\n",
    "sys.path.insert(0, '/home/mlepekhin/Non-thematic-Text-Classification/code/allennlp_experiments')\n",
    "\n",
    "from data_processing import *\n",
    "from interpretation import *\n",
    "from models import *\n",
    "from training import *"
   ]
  },
  {
   "cell_type": "code",
   "execution_count": 2,
   "metadata": {},
   "outputs": [],
   "source": [
    "DATA_DIR = '/home/mlepekhin/data'\n",
    "MODELS_DIR = '/home/mlepekhin/models'\n",
    "MODEL_ID = 'allennlp_xlm_roberta_enru_clean_1' \n",
    "CHECKPOINTS_DIR = pathjoin(MODELS_DIR, MODEL_ID, 'checkpoints')\n",
    "BEST_MODEL = pathjoin(CHECKPOINTS_DIR, 'best.th')"
   ]
  },
  {
   "cell_type": "code",
   "execution_count": 3,
   "metadata": {},
   "outputs": [],
   "source": [
    "transformer_model = 'xlm-roberta-base'\n",
    "MAX_TOKENS = 512"
   ]
  },
  {
   "cell_type": "markdown",
   "metadata": {},
   "source": [
    "### Loading of the pretrained model"
   ]
  },
  {
   "cell_type": "code",
   "execution_count": 4,
   "metadata": {},
   "outputs": [
    {
     "name": "stderr",
     "output_type": "stream",
     "text": [
      "01262021 21:06:42|INFO|allennlp.data.vocabulary| Loading token dictionary from /home/mlepekhin/models/allennlp_xlm_roberta_enru_clean_1/vocab.\n",
      "01262021 21:06:42|INFO|filelock| Lock 140143240862640 acquired on /home/mlepekhin/models/allennlp_xlm_roberta_enru_clean_1/vocab/.lock\n",
      "01262021 21:06:42|INFO|filelock| Lock 140143240862640 released on /home/mlepekhin/models/allennlp_xlm_roberta_enru_clean_1/vocab/.lock\n"
     ]
    },
    {
     "name": "stdout",
     "output_type": "stream",
     "text": [
      "Building the model\n"
     ]
    },
    {
     "name": "stderr",
     "output_type": "stream",
     "text": [
      "01262021 21:06:43|INFO|transformers.configuration_utils| loading configuration file https://s3.amazonaws.com/models.huggingface.co/bert/xlm-roberta-base-config.json from cache at /home/mlepekhin/.cache/torch/transformers/762ddd751172e9d3229e5da17a459eee6c0dfdc237c718944d0b1a85f06c7e1e.2b0f807393c56e8861a31cd67d2fc0b45d71d9735dd47dd66afb650f90b6d2a8\n",
      "01262021 21:06:43|INFO|transformers.configuration_utils| Model config XLMRobertaConfig {\n",
      "  \"architectures\": [\n",
      "    \"XLMRobertaForMaskedLM\"\n",
      "  ],\n",
      "  \"attention_probs_dropout_prob\": 0.1,\n",
      "  \"bos_token_id\": 0,\n",
      "  \"eos_token_id\": 2,\n",
      "  \"hidden_act\": \"gelu\",\n",
      "  \"hidden_dropout_prob\": 0.1,\n",
      "  \"hidden_size\": 768,\n",
      "  \"initializer_range\": 0.02,\n",
      "  \"intermediate_size\": 3072,\n",
      "  \"layer_norm_eps\": 1e-05,\n",
      "  \"max_position_embeddings\": 514,\n",
      "  \"model_type\": \"xlm-roberta\",\n",
      "  \"num_attention_heads\": 12,\n",
      "  \"num_hidden_layers\": 12,\n",
      "  \"output_past\": true,\n",
      "  \"pad_token_id\": 1,\n",
      "  \"type_vocab_size\": 1,\n",
      "  \"vocab_size\": 250002\n",
      "}\n",
      "\n",
      "01262021 21:06:43|INFO|transformers.modeling_utils| loading weights file https://cdn.huggingface.co/xlm-roberta-base-pytorch_model.bin from cache at /home/mlepekhin/.cache/torch/transformers/5cbeb972feded79b927818648bf14dc71b7810cda88c8c971a9d45c0dab901ec.aeeaca90954dc20ffa2909de722cfbfd455c5bb16d480c5bdf6d7fe79c68c267\n",
      "01262021 21:06:55|INFO|transformers.configuration_utils| loading configuration file https://s3.amazonaws.com/models.huggingface.co/bert/xlm-roberta-base-config.json from cache at /home/mlepekhin/.cache/torch/transformers/762ddd751172e9d3229e5da17a459eee6c0dfdc237c718944d0b1a85f06c7e1e.2b0f807393c56e8861a31cd67d2fc0b45d71d9735dd47dd66afb650f90b6d2a8\n",
      "01262021 21:06:55|INFO|transformers.configuration_utils| Model config XLMRobertaConfig {\n",
      "  \"architectures\": [\n",
      "    \"XLMRobertaForMaskedLM\"\n",
      "  ],\n",
      "  \"attention_probs_dropout_prob\": 0.1,\n",
      "  \"bos_token_id\": 0,\n",
      "  \"eos_token_id\": 2,\n",
      "  \"hidden_act\": \"gelu\",\n",
      "  \"hidden_dropout_prob\": 0.1,\n",
      "  \"hidden_size\": 768,\n",
      "  \"initializer_range\": 0.02,\n",
      "  \"intermediate_size\": 3072,\n",
      "  \"layer_norm_eps\": 1e-05,\n",
      "  \"max_position_embeddings\": 514,\n",
      "  \"model_type\": \"xlm-roberta\",\n",
      "  \"num_attention_heads\": 12,\n",
      "  \"num_hidden_layers\": 12,\n",
      "  \"output_past\": true,\n",
      "  \"pad_token_id\": 1,\n",
      "  \"type_vocab_size\": 1,\n",
      "  \"vocab_size\": 250002\n",
      "}\n",
      "\n",
      "01262021 21:06:56|INFO|transformers.tokenization_utils| loading file https://s3.amazonaws.com/models.huggingface.co/bert/xlm-roberta-base-sentencepiece.bpe.model from cache at /home/mlepekhin/.cache/torch/transformers/0c370616ddfc06067c0634160f749c2cf9d8da2c50e03a2617ce5841c8df3b1d.309f0c29486cffc28e1e40a2ab0ac8f500c203fe080b95f820aa9cb58e5b84ed\n",
      "01262021 21:06:57|INFO|transformers.configuration_utils| loading configuration file https://s3.amazonaws.com/models.huggingface.co/bert/xlm-roberta-base-config.json from cache at /home/mlepekhin/.cache/torch/transformers/762ddd751172e9d3229e5da17a459eee6c0dfdc237c718944d0b1a85f06c7e1e.2b0f807393c56e8861a31cd67d2fc0b45d71d9735dd47dd66afb650f90b6d2a8\n",
      "01262021 21:06:57|INFO|transformers.configuration_utils| Model config XLMRobertaConfig {\n",
      "  \"architectures\": [\n",
      "    \"XLMRobertaForMaskedLM\"\n",
      "  ],\n",
      "  \"attention_probs_dropout_prob\": 0.1,\n",
      "  \"bos_token_id\": 0,\n",
      "  \"eos_token_id\": 2,\n",
      "  \"hidden_act\": \"gelu\",\n",
      "  \"hidden_dropout_prob\": 0.1,\n",
      "  \"hidden_size\": 768,\n",
      "  \"initializer_range\": 0.02,\n",
      "  \"intermediate_size\": 3072,\n",
      "  \"layer_norm_eps\": 1e-05,\n",
      "  \"max_position_embeddings\": 514,\n",
      "  \"model_type\": \"xlm-roberta\",\n",
      "  \"num_attention_heads\": 12,\n",
      "  \"num_hidden_layers\": 12,\n",
      "  \"output_past\": true,\n",
      "  \"pad_token_id\": 1,\n",
      "  \"type_vocab_size\": 1,\n",
      "  \"vocab_size\": 250002\n",
      "}\n",
      "\n",
      "01262021 21:06:57|INFO|transformers.tokenization_utils| loading file https://s3.amazonaws.com/models.huggingface.co/bert/xlm-roberta-base-sentencepiece.bpe.model from cache at /home/mlepekhin/.cache/torch/transformers/0c370616ddfc06067c0634160f749c2cf9d8da2c50e03a2617ce5841c8df3b1d.309f0c29486cffc28e1e40a2ab0ac8f500c203fe080b95f820aa9cb58e5b84ed\n"
     ]
    }
   ],
   "source": [
    "vocab = Vocabulary().from_files(pathjoin(MODELS_DIR, MODEL_ID, 'vocab'))\n",
    "model = build_pool_transformer_model(vocab, transformer_model)"
   ]
  },
  {
   "cell_type": "code",
   "execution_count": 5,
   "metadata": {},
   "outputs": [
    {
     "name": "stdout",
     "output_type": "stream",
     "text": [
      "{0: 'A8', 1: 'A1', 2: 'A12', 3: 'A14', 4: 'A11', 5: 'A16', 6: 'A7', 7: 'A17', 8: 'A4', 9: 'A9', 10: 'A22'}\n",
      "dict_values(['A8', 'A1', 'A12', 'A14', 'A11', 'A16', 'A7', 'A17', 'A4', 'A9', 'A22'])\n"
     ]
    }
   ],
   "source": [
    "id_to_label = vocab.get_index_to_token_vocabulary('labels')\n",
    "print(id_to_label)\n",
    "print(id_to_label.values())"
   ]
  },
  {
   "cell_type": "code",
   "execution_count": 6,
   "metadata": {},
   "outputs": [
    {
     "name": "stdout",
     "output_type": "stream",
     "text": [
      "2\n"
     ]
    },
    {
     "data": {
      "text/plain": [
       "<All keys matched successfully>"
      ]
     },
     "execution_count": 6,
     "metadata": {},
     "output_type": "execute_result"
    }
   ],
   "source": [
    "if torch.cuda.is_available():\n",
    "    cuda_device = 2\n",
    "else:\n",
    "    cuda_device = -1\n",
    "print(cuda_device)\n",
    "model.load_state_dict(torch.load(BEST_MODEL, map_location=f'cuda:{cuda_device}'))"
   ]
  },
  {
   "cell_type": "markdown",
   "metadata": {},
   "source": [
    "### Data loading"
   ]
  },
  {
   "cell_type": "code",
   "execution_count": 8,
   "metadata": {},
   "outputs": [
    {
     "data": {
      "text/html": [
       "<div>\n",
       "<style scoped>\n",
       "    .dataframe tbody tr th:only-of-type {\n",
       "        vertical-align: middle;\n",
       "    }\n",
       "\n",
       "    .dataframe tbody tr th {\n",
       "        vertical-align: top;\n",
       "    }\n",
       "\n",
       "    .dataframe thead th {\n",
       "        text-align: right;\n",
       "    }\n",
       "</style>\n",
       "<table border=\"1\" class=\"dataframe\">\n",
       "  <thead>\n",
       "    <tr style=\"text-align: right;\">\n",
       "      <th></th>\n",
       "      <th>Unnamed: 0</th>\n",
       "      <th>Unnamed: 0.1</th>\n",
       "      <th>prefix</th>\n",
       "      <th>target</th>\n",
       "      <th>text</th>\n",
       "      <th>topic</th>\n",
       "    </tr>\n",
       "  </thead>\n",
       "  <tbody>\n",
       "    <tr>\n",
       "      <th>0</th>\n",
       "      <td>0</td>\n",
       "      <td>0</td>\n",
       "      <td>только полнокомплектные системы , в которых пр...</td>\n",
       "      <td>A1</td>\n",
       "      <td>только полнокомплектные системы, в которых пре...</td>\n",
       "      <td>arhitecture</td>\n",
       "    </tr>\n",
       "    <tr>\n",
       "      <th>1</th>\n",
       "      <td>1</td>\n",
       "      <td>1</td>\n",
       "      <td>может быть , те процессы , которые произошли с...</td>\n",
       "      <td>A1</td>\n",
       "      <td>может быть, те процессы, которые произошли с м...</td>\n",
       "      <td>arhitecture</td>\n",
       "    </tr>\n",
       "    <tr>\n",
       "      <th>2</th>\n",
       "      <td>2</td>\n",
       "      <td>2</td>\n",
       "      <td>именно от качества и надежности этого оборудов...</td>\n",
       "      <td>A1</td>\n",
       "      <td>именно от качества и надежности этого оборудов...</td>\n",
       "      <td>arhitecture</td>\n",
       "    </tr>\n",
       "    <tr>\n",
       "      <th>3</th>\n",
       "      <td>3</td>\n",
       "      <td>3</td>\n",
       "      <td>для современной женщины нанесения косметики во...</td>\n",
       "      <td>A1</td>\n",
       "      <td>для современной женщины нанесения косметики во...</td>\n",
       "      <td>arhitecture</td>\n",
       "    </tr>\n",
       "    <tr>\n",
       "      <th>4</th>\n",
       "      <td>4</td>\n",
       "      <td>4</td>\n",
       "      <td>там есть три варианта - самый короткий , самый...</td>\n",
       "      <td>A1</td>\n",
       "      <td>там есть три варианта - самый короткий, самый ...</td>\n",
       "      <td>arhitecture</td>\n",
       "    </tr>\n",
       "  </tbody>\n",
       "</table>\n",
       "</div>"
      ],
      "text/plain": [
       "   Unnamed: 0  Unnamed: 0.1  \\\n",
       "0           0             0   \n",
       "1           1             1   \n",
       "2           2             2   \n",
       "3           3             3   \n",
       "4           4             4   \n",
       "\n",
       "                                              prefix target  \\\n",
       "0  только полнокомплектные системы , в которых пр...     A1   \n",
       "1  может быть , те процессы , которые произошли с...     A1   \n",
       "2  именно от качества и надежности этого оборудов...     A1   \n",
       "3  для современной женщины нанесения косметики во...     A1   \n",
       "4  там есть три варианта - самый короткий , самый...     A1   \n",
       "\n",
       "                                                text        topic  \n",
       "0  только полнокомплектные системы, в которых пре...  arhitecture  \n",
       "1  может быть, те процессы, которые произошли с м...  arhitecture  \n",
       "2  именно от качества и надежности этого оборудов...  arhitecture  \n",
       "3  для современной женщины нанесения косметики во...  arhitecture  \n",
       "4  там есть три варианта - самый короткий, самый ...  arhitecture  "
      ]
     },
     "execution_count": 8,
     "metadata": {},
     "output_type": "execute_result"
    }
   ],
   "source": [
    "en_test_df = pd.read_csv('/home/mlepekhin/ru-gpts/generated_texts/ru_small_all_50.csv')\n",
    "en_test_df.head()"
   ]
  },
  {
   "cell_type": "code",
   "execution_count": 9,
   "metadata": {},
   "outputs": [],
   "source": [
    "true_classes = en_test_df.target.values\n",
    "sentences = en_test_df.text.values"
   ]
  },
  {
   "cell_type": "markdown",
   "metadata": {},
   "source": [
    "### Preliminary analysis"
   ]
  },
  {
   "cell_type": "code",
   "execution_count": 10,
   "metadata": {},
   "outputs": [
    {
     "name": "stderr",
     "output_type": "stream",
     "text": [
      "01262021 21:07:51|INFO|transformers.configuration_utils| loading configuration file https://s3.amazonaws.com/models.huggingface.co/bert/xlm-roberta-base-config.json from cache at /home/mlepekhin/.cache/torch/transformers/762ddd751172e9d3229e5da17a459eee6c0dfdc237c718944d0b1a85f06c7e1e.2b0f807393c56e8861a31cd67d2fc0b45d71d9735dd47dd66afb650f90b6d2a8\n",
      "01262021 21:07:51|INFO|transformers.configuration_utils| Model config XLMRobertaConfig {\n",
      "  \"architectures\": [\n",
      "    \"XLMRobertaForMaskedLM\"\n",
      "  ],\n",
      "  \"attention_probs_dropout_prob\": 0.1,\n",
      "  \"bos_token_id\": 0,\n",
      "  \"eos_token_id\": 2,\n",
      "  \"hidden_act\": \"gelu\",\n",
      "  \"hidden_dropout_prob\": 0.1,\n",
      "  \"hidden_size\": 768,\n",
      "  \"initializer_range\": 0.02,\n",
      "  \"intermediate_size\": 3072,\n",
      "  \"layer_norm_eps\": 1e-05,\n",
      "  \"max_position_embeddings\": 514,\n",
      "  \"model_type\": \"xlm-roberta\",\n",
      "  \"num_attention_heads\": 12,\n",
      "  \"num_hidden_layers\": 12,\n",
      "  \"output_past\": true,\n",
      "  \"pad_token_id\": 1,\n",
      "  \"type_vocab_size\": 1,\n",
      "  \"vocab_size\": 250002\n",
      "}\n",
      "\n",
      "01262021 21:07:52|INFO|transformers.tokenization_utils| loading file https://s3.amazonaws.com/models.huggingface.co/bert/xlm-roberta-base-sentencepiece.bpe.model from cache at /home/mlepekhin/.cache/torch/transformers/0c370616ddfc06067c0634160f749c2cf9d8da2c50e03a2617ce5841c8df3b1d.309f0c29486cffc28e1e40a2ab0ac8f500c203fe080b95f820aa9cb58e5b84ed\n",
      "01262021 21:07:53|INFO|transformers.configuration_utils| loading configuration file https://s3.amazonaws.com/models.huggingface.co/bert/xlm-roberta-base-config.json from cache at /home/mlepekhin/.cache/torch/transformers/762ddd751172e9d3229e5da17a459eee6c0dfdc237c718944d0b1a85f06c7e1e.2b0f807393c56e8861a31cd67d2fc0b45d71d9735dd47dd66afb650f90b6d2a8\n",
      "01262021 21:07:53|INFO|transformers.configuration_utils| Model config XLMRobertaConfig {\n",
      "  \"architectures\": [\n",
      "    \"XLMRobertaForMaskedLM\"\n",
      "  ],\n",
      "  \"attention_probs_dropout_prob\": 0.1,\n",
      "  \"bos_token_id\": 0,\n",
      "  \"eos_token_id\": 2,\n",
      "  \"hidden_act\": \"gelu\",\n",
      "  \"hidden_dropout_prob\": 0.1,\n",
      "  \"hidden_size\": 768,\n",
      "  \"initializer_range\": 0.02,\n",
      "  \"intermediate_size\": 3072,\n",
      "  \"layer_norm_eps\": 1e-05,\n",
      "  \"max_position_embeddings\": 514,\n",
      "  \"model_type\": \"xlm-roberta\",\n",
      "  \"num_attention_heads\": 12,\n",
      "  \"num_hidden_layers\": 12,\n",
      "  \"output_past\": true,\n",
      "  \"pad_token_id\": 1,\n",
      "  \"type_vocab_size\": 1,\n",
      "  \"vocab_size\": 250002\n",
      "}\n",
      "\n",
      "01262021 21:07:54|INFO|transformers.tokenization_utils| loading file https://s3.amazonaws.com/models.huggingface.co/bert/xlm-roberta-base-sentencepiece.bpe.model from cache at /home/mlepekhin/.cache/torch/transformers/0c370616ddfc06067c0634160f749c2cf9d8da2c50e03a2617ce5841c8df3b1d.309f0c29486cffc28e1e40a2ab0ac8f500c203fe080b95f820aa9cb58e5b84ed\n",
      "01262021 21:07:55|INFO|transformers.configuration_utils| loading configuration file https://s3.amazonaws.com/models.huggingface.co/bert/xlm-roberta-base-config.json from cache at /home/mlepekhin/.cache/torch/transformers/762ddd751172e9d3229e5da17a459eee6c0dfdc237c718944d0b1a85f06c7e1e.2b0f807393c56e8861a31cd67d2fc0b45d71d9735dd47dd66afb650f90b6d2a8\n",
      "01262021 21:07:55|INFO|transformers.configuration_utils| Model config XLMRobertaConfig {\n",
      "  \"architectures\": [\n",
      "    \"XLMRobertaForMaskedLM\"\n",
      "  ],\n",
      "  \"attention_probs_dropout_prob\": 0.1,\n",
      "  \"bos_token_id\": 0,\n",
      "  \"eos_token_id\": 2,\n",
      "  \"hidden_act\": \"gelu\",\n",
      "  \"hidden_dropout_prob\": 0.1,\n",
      "  \"hidden_size\": 768,\n",
      "  \"initializer_range\": 0.02,\n",
      "  \"intermediate_size\": 3072,\n",
      "  \"layer_norm_eps\": 1e-05,\n",
      "  \"max_position_embeddings\": 514,\n",
      "  \"model_type\": \"xlm-roberta\",\n",
      "  \"num_attention_heads\": 12,\n",
      "  \"num_hidden_layers\": 12,\n",
      "  \"output_past\": true,\n",
      "  \"pad_token_id\": 1,\n",
      "  \"type_vocab_size\": 1,\n",
      "  \"vocab_size\": 250002\n",
      "}\n",
      "\n",
      "01262021 21:07:55|INFO|transformers.tokenization_utils| loading file https://s3.amazonaws.com/models.huggingface.co/bert/xlm-roberta-base-sentencepiece.bpe.model from cache at /home/mlepekhin/.cache/torch/transformers/0c370616ddfc06067c0634160f749c2cf9d8da2c50e03a2617ce5841c8df3b1d.309f0c29486cffc28e1e40a2ab0ac8f500c203fe080b95f820aa9cb58e5b84ed\n",
      "01262021 21:07:56|INFO|transformers.configuration_utils| loading configuration file https://s3.amazonaws.com/models.huggingface.co/bert/xlm-roberta-base-config.json from cache at /home/mlepekhin/.cache/torch/transformers/762ddd751172e9d3229e5da17a459eee6c0dfdc237c718944d0b1a85f06c7e1e.2b0f807393c56e8861a31cd67d2fc0b45d71d9735dd47dd66afb650f90b6d2a8\n",
      "01262021 21:07:56|INFO|transformers.configuration_utils| Model config XLMRobertaConfig {\n",
      "  \"architectures\": [\n",
      "    \"XLMRobertaForMaskedLM\"\n",
      "  ],\n",
      "  \"attention_probs_dropout_prob\": 0.1,\n",
      "  \"bos_token_id\": 0,\n",
      "  \"eos_token_id\": 2,\n",
      "  \"hidden_act\": \"gelu\",\n",
      "  \"hidden_dropout_prob\": 0.1,\n",
      "  \"hidden_size\": 768,\n",
      "  \"initializer_range\": 0.02,\n",
      "  \"intermediate_size\": 3072,\n",
      "  \"layer_norm_eps\": 1e-05,\n",
      "  \"max_position_embeddings\": 514,\n",
      "  \"model_type\": \"xlm-roberta\",\n",
      "  \"num_attention_heads\": 12,\n",
      "  \"num_hidden_layers\": 12,\n",
      "  \"output_past\": true,\n",
      "  \"pad_token_id\": 1,\n",
      "  \"type_vocab_size\": 1,\n",
      "  \"vocab_size\": 250002\n",
      "}\n",
      "\n",
      "01262021 21:07:57|INFO|transformers.tokenization_utils| loading file https://s3.amazonaws.com/models.huggingface.co/bert/xlm-roberta-base-sentencepiece.bpe.model from cache at /home/mlepekhin/.cache/torch/transformers/0c370616ddfc06067c0634160f749c2cf9d8da2c50e03a2617ce5841c8df3b1d.309f0c29486cffc28e1e40a2ab0ac8f500c203fe080b95f820aa9cb58e5b84ed\n"
     ]
    }
   ],
   "source": [
    "dataset_reader = build_transformer_dataset_reader(transformer_model, MAX_TOKENS)\n",
    "predictor = TextClassifierPredictor(model, dataset_reader=dataset_reader)\n",
    "predicted_classes = np.array(predict_classes(sentences, predictor, vocab))"
   ]
  },
  {
   "cell_type": "code",
   "execution_count": 11,
   "metadata": {},
   "outputs": [
    {
     "name": "stdout",
     "output_type": "stream",
     "text": [
      "<class 'numpy.ndarray'>\n"
     ]
    }
   ],
   "source": [
    "print(type(predicted_classes == 'A1'))"
   ]
  },
  {
   "cell_type": "code",
   "execution_count": 12,
   "metadata": {},
   "outputs": [
    {
     "name": "stdout",
     "output_type": "stream",
     "text": [
      "10\n"
     ]
    }
   ],
   "source": [
    "print(len(np.unique(true_classes)))"
   ]
  },
  {
   "cell_type": "code",
   "execution_count": 13,
   "metadata": {},
   "outputs": [
    {
     "name": "stdout",
     "output_type": "stream",
     "text": [
      "label (argum) f1_score 0.31610942249240126 precision 0.22707423580786026 recall 0.52\n",
      "label (fictive) f1_score 0.19298245614035087 precision 0.7857142857142857 recall 0.11\n",
      "label (instruct) f1_score 0.42798353909465026 precision 0.36363636363636365 recall 0.52\n",
      "label (reporting) f1_score 0.5019607843137255 precision 0.4129032258064516 recall 0.64\n",
      "label (legal) f1_score 0.5123152709359606 precision 0.5048543689320388 recall 0.52\n",
      "label (personal) f1_score 0.33766233766233766 precision 0.48148148148148145 recall 0.26\n",
      "label (commercial) f1_score 0.46853146853146854 precision 0.3602150537634409 recall 0.67\n",
      "label (research) f1_score 0.09433962264150944 precision 0.8333333333333334 recall 0.05\n",
      "label (info) f1_score 0.16666666666666666 precision 0.20588235294117646 recall 0.14\n",
      "label (eval) f1_score 0.29577464788732394 precision 0.5 recall 0.21\n",
      "accuracy 0.364\n"
     ]
    }
   ],
   "source": [
    "calc_classifier_metrics(predicted_classes, true_classes)"
   ]
  },
  {
   "cell_type": "code",
   "execution_count": 14,
   "metadata": {},
   "outputs": [
    {
     "name": "stderr",
     "output_type": "stream",
     "text": [
      "01262021 23:56:55|INFO|numexpr.utils| Note: NumExpr detected 64 cores but \"NUMEXPR_MAX_THREADS\" not set, so enforcing safe limit of 8.\n",
      "01262021 23:56:55|INFO|numexpr.utils| NumExpr defaulting to 8 threads.\n"
     ]
    },
    {
     "data": {
      "image/png": "[encoded data removed]",
      "text/plain": [
       "<Figure size 1080x1080 with 2 Axes>"
      ]
     },
     "metadata": {
      "needs_background": "light"
     },
     "output_type": "display_data"
    }
   ],
   "source": [
    "plot_confusion_matrix(predicted_classes, true_classes)"
   ]
  },
  {
   "cell_type": "markdown",
   "metadata": {},
   "source": [
    "### Saliency Gradient Interpretation"
   ]
  },
  {
   "cell_type": "code",
   "execution_count": 14,
   "metadata": {},
   "outputs": [],
   "source": [
    "#smooth_grad = SmoothGradient(predictor)\n",
    "simple_grad = SimpleGradient(predictor)\n",
    "#integrated_grad = IntegratedGradient(predictor)"
   ]
  },
  {
   "cell_type": "code",
   "execution_count": 15,
   "metadata": {},
   "outputs": [],
   "source": [
    "mistake_ids = []\n",
    "\n",
    "for sent_id in range(len(true_classes)):\n",
    "    if true_classes[sent_id] != predicted_classes[sent_id]:\n",
    "        mistake_ids.append(sent_id)"
   ]
  },
  {
   "cell_type": "code",
   "execution_count": 16,
   "metadata": {},
   "outputs": [
    {
     "name": "stdout",
     "output_type": "stream",
     "text": [
      "TRUE LABEL: eval\n",
      "LABEL: commercial\n",
      "<class 'allennlp.interpret.saliency_interpreters.simple_gradient.SimpleGradient'> TEXT:\n",
      "\u001b[31m▁Kawasaki\u001b[0m \u001b[31m▁D\u001b[0m \u001b[31m-\u001b[0m Tra \u001b[31mcker\u001b[0m ▁С ▁недавн их ▁пор \u001b[31m▁Kawasaki\u001b[0m ▁d \u001b[31m-\u001b[0m track \u001b[31mer\u001b[0m ▁125 \u001b[31m▁официально\u001b[0m ▁доступ \u001b[31mен\u001b[0m \u001b[31m▁на\u001b[0m ▁европейско м ▁рынке ▁ . ▁Это ▁супер мо то \u001b[31m-\u001b[0m верс \u001b[31mия\u001b[0m ▁мал енько го ▁ эн - ду ро ▁K LX ▁125 ▁ . ▁Конечно ▁же \u001b[31m▁\u001b[0m , ▁в ▁Япон \u001b[31mии\u001b[0m ▁все ▁не ▁так ▁ , ▁как \u001b[31m▁в\u001b[0m ▁Европе \u001b[31m▁\u001b[0m . ▁В \u001b[31m▁категории\u001b[0m ▁мало ку ба тур ного ▁Dual ▁Pur pose ▁выпуска ются ▁обе ▁выше указанные ▁125 ▁- ки ▁ , ▁энд уро ▁Stock man ▁250 ▁и ▁хорошо ▁из вест ная ▁многим ▁рай дер ам ▁Super ▁Sher pa \u001b[31m▁\u001b[0m , ▁а ▁также ▁две ▁250 ▁- ки ▁- ▁энд уро ▁K \u001b[31mLX\u001b[0m \u001b[31m▁250\u001b[0m ▁S ▁и ▁супер \u001b[31mмо\u001b[0m то \u001b[31m▁K\u001b[0m \u001b[31mLX\u001b[0m ▁250 ▁SF ▁ . ▁После дний ▁- ▁тот ▁самый ▁D - Tra cker ▁ . ▁Kawasaki ▁D \u001b[31m-\u001b[0m Tra \u001b[31mcker\u001b[0m \u001b[31m▁X\u001b[0m ▁ \u001b[31m,\u001b[0m ▁который ▁сейчас ▁про дается ▁в ▁Япон ии ▁ , ▁и ▁D - Tra cker \u001b[31m▁'\u001b[0m ▁0 \u001b[31m▁0\u001b[0m ▁немного ▁отличаются ▁ \u001b[31m.\u001b[0m ▁Новый ▁мо тар д ▁получил ▁инж е ктор ▁ , ▁у лучше нные ▁тормоз а ▁ , ▁чуть ▁больш ий ▁бак ▁ . ▁Пре ж ними ▁остались ▁на ▁месте ▁мал ый ▁вес ▁ , ▁ длин но ход ные ▁под ве ски ▁( ▁43 ▁- мм ▁ви лка - пере верт ыш ▁и ▁моно ам орт изатор ▁) \u001b[31m▁и\u001b[0m ▁ши ны ▁формата ▁110 ▁/ ▁70 ▁R ▁17 ▁спе реди ▁и ▁130 ▁/ ▁70 ▁R ▁17 ▁с за ди ▁ \u001b[31m.\u001b[0m ▁Более ▁замет \u001b[31mны\u001b[0m ▁изменения ▁в ▁дизайн е ▁ . ▁D - Tra cker ▁' ▁0 ▁0 \u001b[31m▁действительно\u001b[0m \u001b[31m▁выглядит\u001b[0m ▁как ▁мотоцикл ▁из ▁прошлого ▁века ▁ . ▁Особенно ▁это ▁замет \u001b[31mно\u001b[0m ▁по ▁простой ▁ , ▁как ▁двери ▁ , ▁прибор ке ▁c ▁огр ом ными ▁свет овыми ▁индикатор ами ▁ , ▁как ▁на ▁старых ▁игровых \u001b[31m▁автомат\u001b[0m ах ▁ . ▁По сад ка ▁на ▁мотоцикл \u001b[31mе\u001b[0m ▁комфорт \u001b[31mна\u001b[0m \u001b[31m▁-\u001b[0m ▁прям ая ▁ , ▁без ▁за вала ▁на ▁перед нее ▁колес о ▁и ▁турист ического ▁рас слаб \u001b[31mона\u001b[0m ▁с ▁при под няты м ▁ру лем ▁ . \u001b[31m▁На\u001b[0m стра \u001b[31mивает\u001b[0m ▁на ▁актив ную ▁ езд у ▁ . ▁Сед ло ▁ , ▁конечно ▁же ▁ , ▁уз кое ▁ , ▁но ▁не ▁жест кое ▁ . ▁В полн е ▁комфортно \u001b[31mе\u001b[0m ▁« ▁бре вно ▁» ▁ , ▁можно ▁ езд ить ▁ , ▁и ▁даже ▁воз ить ▁пассажир а ▁: ▁тут ▁есть ▁пассажир ские ▁под но жки ▁! \u001b[31m▁Ми\u001b[0m ни - сум ка ▁на ▁зад нем ▁кры ле ▁предназначен а ▁для ▁инструмент ов ▁ , ▁хотя \u001b[31m▁можно\u001b[0m ▁использовать ▁ее ▁и ▁для ▁ мело чей ▁типа ▁кош ель ка ▁ , ▁документов ▁и ▁мобил ьного ▁телефона ▁ . ▁Е зда ▁на ▁этом ▁легко м ▁ , ▁как ▁велосипед ▁ , ▁супер мо то \u001b[31m▁здоров\u001b[0m о ▁расширя ет ▁круг о зор ▁мотоцикл иста ▁ . ▁Теперь \u001b[31m▁ты\u001b[0m ▁оценива \u001b[31mешь\u001b[0m ▁ситуацию ▁не ▁только ▁на ▁дороге ▁ , ▁но ▁и ▁на ▁близ лежа щих ▁территория х ▁ . ▁Если ▁вперед и ▁проб ка ▁ , ▁раз во рач ивается ▁ длин ный ▁грузов ик ▁или ▁еще ▁какая - то ▁на па сть ▁ , ▁ее \n",
      "\n"
     ]
    }
   ],
   "source": [
    "interpret_sentence(\n",
    "    sentences[mistake_ids[0]], dataset_reader.tokenizer, 50, \n",
    "    [simple_grad],\n",
    "    label_description[true_classes[mistake_ids[0]]],\n",
    "    label_description[predicted_classes[mistake_ids[0]]]\n",
    ")"
   ]
  },
  {
   "cell_type": "code",
   "execution_count": 17,
   "metadata": {},
   "outputs": [
    {
     "name": "stdout",
     "output_type": "stream",
     "text": [
      "TRUE LABEL: personal\n",
      "LABEL: eval\n",
      "<class 'allennlp.interpret.saliency_interpreters.simple_gradient.SimpleGradient'> TEXT:\n",
      "▁Тест \u001b[31m-\u001b[0m дра \u001b[31mй\u001b[0m в ▁La da \u001b[31m▁Grant\u001b[0m a ▁: \u001b[31m▁новая\u001b[0m ▁надежда ▁авто град \u001b[31mа\u001b[0m ▁Факт \u001b[31mически\u001b[0m ▁ , ▁новая ▁La \u001b[31mda\u001b[0m \u001b[31m▁Grant\u001b[0m a ▁- ▁это ▁стара я ▁La da \u001b[31m▁Kali\u001b[0m na ▁плюс ▁400 ▁новых ▁деталей ▁ . ▁Но ▁назвать \u001b[31m▁Гран\u001b[0m \u001b[31mту\u001b[0m ▁всего ▁лишь ▁ре стай линг ом ▁Калин ы ▁язык \u001b[31m▁не\u001b[0m ▁повер н ется ▁ . \u001b[31m▁Авто\u001b[0m мобиль ▁действительно \u001b[31m▁измени\u001b[0m \u001b[31mлся\u001b[0m \u001b[31m▁и\u001b[0m ▁на ▁самом ▁деле ▁стал \u001b[31m▁лучше\u001b[0m ▁пре \u001b[31mж\u001b[0m них ▁продуктов ▁Авто \u001b[31mВА\u001b[0m За ▁ . ▁Но ▁почива ть ▁на ▁лав рах ▁то ль ят тин цам ▁еще ▁рано ▁ . ▁Kole sa \u001b[31m▁\u001b[0m . ▁R ▁u \u001b[31m▁выяснил\u001b[0m и ▁ , ▁почему ▁ . ▁С юр приз ы ▁по джи дали ▁еще ▁до ▁проб ной ▁поездки ▁на ▁La da ▁Grant a ▁ . ▁Про води в ▁меня ▁к ▁машине ▁ , ▁сотрудник ▁авто сал она ▁объяснил \u001b[31m▁мне\u001b[0m ▁как ▁пользоваться ▁бре л ком ▁дополнительно й ▁сигнал изации ▁: ▁\" ▁Если ▁на жать ▁на ▁эту ▁кнопку ▁и ▁немного ▁по держать ▁ , ▁двигател ь ▁за вед ется ▁! ▁\" ▁На жим ает ▁ . ▁Держ ит ▁ . ▁Не ▁за водится ▁ . ▁\" ▁Наверное ▁это ▁из - за ▁вашего ▁коллеги ▁ , ▁который ▁открыл ▁зад нюю ▁дверь ▁ , ▁пока ▁я ▁жал ▁на ▁кнопку ▁\" ▁ . ▁Две рь ▁закрыл и ▁ , ▁еще ▁пару ▁раз ▁поставили - сня ли ▁с ▁охраны ▁ . ▁С нова ▁не ▁за водится ▁ . ▁\" ▁ ы ▁специально ▁для ▁вас ▁машину ▁вчера ▁по мы ли ▁ , ▁а ▁ночью ▁мороз ▁удари л ▁; ▁наверное \u001b[31m▁за\u001b[0m мер з ла ▁\" ▁ . ▁Мен е джер ▁был ▁явно ▁в стре во жен ▁ , ▁но ▁ \u001b[31mдерж\u001b[0m ался ▁молод цом ▁ , ▁и ▁я ▁на ▁самом ▁деле ▁повер ил ▁его ▁удивлен ию ▁неожиданно й ▁наклад \u001b[31mке\u001b[0m ▁ . ▁На ▁трети й ▁раз ▁Grant a ▁за ве лась ▁! ▁Для ▁убеди тельности \u001b[31m▁заг\u001b[0m луш или ▁мотор ▁и ▁повтори ли ▁процедуру ▁: \u001b[31m▁двигател\u001b[0m \u001b[31mь\u001b[0m ▁новой ▁Ла да ▁без ▁проблем ▁запуст ился ▁одним ▁на жати ем ▁кноп ки ▁ . \u001b[31m▁Впрочем\u001b[0m ▁ , ▁даже ▁если ▁бы ▁тр юк ▁с ▁бре ло ком ▁не ▁уда лся ▁ , ▁прет ензи и ▁были ▁бы ▁не ▁к ▁Авто ВА З у ▁ , ▁а ▁к ▁установ щи кам ▁доп оборудован ия ▁ , ▁ведь ▁сигнал изация ▁с ▁дистанц ион ным ▁запуск ом ▁идет ▁как ▁опция ▁ , ▁причем ▁не ▁завод ская ▁ . ▁Я ▁за брал \u001b[31m▁ключ\u001b[0m и ▁и ▁по проб овал ▁у строить \u001b[31mся\u001b[0m ▁за ▁ру лем ▁Grant a ▁ \u001b[31m.\u001b[0m ▁Авто мобиль ▁цвета ▁\" ▁Порт вей н ▁\" ▁был ▁в ▁комплект \u001b[31mации\u001b[0m ▁Норма ▁за ▁260 ▁000 ▁рублей ▁ . ▁Поэтому ▁в ▁машине ▁было ▁все ▁ , ▁чем ▁на ▁данный ▁момент ▁( ▁максимал ьная ▁комплект ация ▁Лю кс ▁выйдет ▁лет ом ▁2012 ▁года ▁) ▁богата \u001b[31m▁Ла\u001b[0m да ▁Гран та ▁ . ▁Например ▁ \u001b[31m,\u001b[0m \u001b[31m▁кожа\u001b[0m \u001b[31mный\u001b[0m \u001b[31m▁салон\u001b[0m \u001b[31m▁\u001b[0m \u001b[31m,\u001b[0m \u001b[31m▁фирме\u001b[0m нный ▁сенс ор ный ▁дисп лей ▁с ▁навигаци ей ▁ , ▁ люк ▁на ▁всю ▁крыш у ▁... ▁Шу чу ▁ , ▁конечно ▁ . ▁Если ▁серьезно ▁ \u001b[31m,\u001b[0m \u001b[31m▁то\u001b[0m \u001b[31m▁салон\u001b[0m \u001b[31m▁может\u001b[0m \u001b[31m▁порад\u001b[0m \u001b[31mовать\u001b[0m \u001b[31m▁\u001b[0m \u001b[31mмягк\u001b[0m им ▁ \u001b[31m,\u001b[0m ▁но \n",
      "\n"
     ]
    }
   ],
   "source": [
    "interpret_sentence(\n",
    "    sentences[mistake_ids[1]], dataset_reader.tokenizer, 50, \n",
    "    [simple_grad],\n",
    "    label_description[true_classes[mistake_ids[1]]],\n",
    "    label_description[predicted_classes[mistake_ids[1]]]\n",
    ")"
   ]
  },
  {
   "cell_type": "code",
   "execution_count": 18,
   "metadata": {},
   "outputs": [
    {
     "name": "stdout",
     "output_type": "stream",
     "text": [
      "TRUE LABEL: reporting\n",
      "LABEL: argum\n",
      "<class 'allennlp.interpret.saliency_interpreters.simple_gradient.SimpleGradient'> TEXT:\n",
      "▁среда \u001b[31m▁\u001b[0m , \u001b[31m▁2\u001b[0m ▁декабря \u001b[31m▁2009\u001b[0m \u001b[31m▁года\u001b[0m \u001b[31m▁\u001b[0m , ▁12. \u001b[31m33\u001b[0m ▁Бу мага ▁всё ▁терп ит ▁Дес \u001b[31mять\u001b[0m ▁бы вших ▁союз \u001b[31mных\u001b[0m ▁республик \u001b[31m▁пере\u001b[0m писали ▁учебник \u001b[31mи\u001b[0m \u001b[31m▁истории\u001b[0m \u001b[31m▁в\u001b[0m ▁свою ▁пользу \u001b[31m▁\u001b[0m . ▁Специалист ы ▁Национально й ▁лаборатор \u001b[31mии\u001b[0m ▁внешне й ▁политики ▁провели ▁и стори ограф ический ▁анализ ▁187 \u001b[31m▁школьн\u001b[0m ых ▁учебник \u001b[31mов\u001b[0m ▁12 ▁государств \u001b[31m▁из\u001b[0m ▁бы вшего \u001b[31m▁СССР\u001b[0m \u001b[31m▁\u001b[0m . ▁ \u001b[31mЭксперт\u001b[0m ы ▁пришли ▁к ▁выводу \u001b[31m▁\u001b[0m , ▁что ▁на ▁страница \u001b[31mх\u001b[0m ▁посо \u001b[31mбий\u001b[0m ▁и ▁книг \u001b[31m▁наши\u001b[0m \u001b[31m▁сосед\u001b[0m \u001b[31mи\u001b[0m ▁не ▁только ▁не ▁проч ь ▁воз вели \u001b[31mчить\u001b[0m ▁свои ▁заслуг и ▁в ▁война х ▁и ▁про чих ▁за вое вания х ▁ , ▁но ▁и ▁на ▁пусто \u001b[31mм\u001b[0m ▁месте ▁критик \u001b[31mуют\u001b[0m ▁русских \u001b[31m▁\u001b[0m . ▁Об ъ е ктив \u001b[31mная\u001b[0m \u001b[31m▁оценка\u001b[0m ▁истории \u001b[31m▁сохран\u001b[0m \u001b[31mилась\u001b[0m ▁только ▁в ▁учебник \u001b[31mах\u001b[0m ▁Ар \u001b[31mмен\u001b[0m ии ▁и ▁Белорус \u001b[31mсии\u001b[0m ▁ . ▁Други ми ▁словами ▁ , ▁власти ▁10 ▁стран ▁ближ не го ▁за ру беж \u001b[31mья\u001b[0m ▁со ▁школьн ой ▁с кам ь и ▁учат ▁детей \u001b[31m▁тому\u001b[0m ▁ , ▁что ▁Россия \u001b[31m▁для\u001b[0m ▁них ▁опас ный ▁сосед ▁ , ▁а ▁культур ную ▁мисс ию ▁своего ▁народа ▁оценива \u001b[31mют\u001b[0m ▁необ основан \u001b[31mно\u001b[0m ▁высоко ▁ . ▁Большинство ▁школьн ых ▁книж ек ▁про пита но ▁национал измом ▁ , ▁который ▁был ▁совершенно ▁чужд ▁брат скому ▁Союз у ▁ . ▁Дело ▁по рой ▁до ходит ▁до ▁кур ь ёз ов ▁ . ▁Украин \u001b[31mские\u001b[0m ▁учебник и ▁истории ▁эксперты ▁сравни \u001b[31mли\u001b[0m ▁с ▁мульт \u001b[31mфильм\u001b[0m ами ▁ , ▁в ▁которых ▁добро ▁по ▁веле нию ▁чиновник ов ▁трансформ ируется ▁в ▁зло ▁ . ▁На ▁страница х ▁составлен ных ▁ки евски ми ▁историк ами ▁посо бий ▁встреча ются ▁неиз вест ные ▁до селе ▁страны ▁ , ▁например ▁Украин ская ▁каза цкая ▁держава ▁ , ▁которую ▁ , ▁само ▁собой ▁ , ▁уни что жили ▁ мос кали ▁ . ▁Э стон ские ▁учебник \u001b[31mи\u001b[0m ▁слав ят ▁швед ское ▁господ ство ▁ , ▁забыв ая ▁ , ▁что ▁в ▁этот ▁период ▁от ▁голод а ▁ , ▁чу мы ▁и ▁во йн ▁погиб ло ▁четыре ▁пят ых ▁жителей ▁страны ▁ . ▁Вместе ▁с ▁тем ▁мест ные ▁историк и ▁с ▁ненавист ью ▁пишу т ▁том ▁ , ▁как ▁было ▁бы ▁здоров о ▁ , ▁если ▁бы ▁Европа ▁в ▁эп о ху ▁Сред не ве ков ья ▁об руш илась ▁с ▁кре ст овым ▁по ходом ▁на ▁Рус ь ▁ . ▁О ▁том ▁ , ▁насколько ▁далеко ▁может ▁зай ти ▁перепис ы вание ▁школьн \u001b[31mых\u001b[0m ▁учебник ов ▁ , ▁ читайте ▁в ▁статье \u001b[31m▁«\u001b[0m ▁О ▁эти ▁див ные ▁новые ▁учебник \u001b[31mи\u001b[0m ▁! ▁» </s> \n",
      "\n"
     ]
    }
   ],
   "source": [
    "interpret_sentence(\n",
    "    sentences[mistake_ids[2]], dataset_reader.tokenizer, 50, \n",
    "    [simple_grad],\n",
    "    label_description[true_classes[mistake_ids[2]]],\n",
    "    label_description[predicted_classes[mistake_ids[2]]]\n",
    ")"
   ]
  },
  {
   "cell_type": "code",
   "execution_count": 19,
   "metadata": {},
   "outputs": [],
   "source": [
    "words = dict()"
   ]
  },
  {
   "cell_type": "code",
   "execution_count": 20,
   "metadata": {},
   "outputs": [
    {
     "name": "stdout",
     "output_type": "stream",
     "text": [
      "reporting\n",
      "====================================================================================================\n",
      "[('▁', 575), ('.', 198), ('▁\"', 122), (',', 107), ('▁заявил', 79), ('</s>', 68), ('<s>', 46), ('▁:', 31), ('▁президент', 26), ('▁что', 24), ('▁сообщил', 24), ('▁словам', 21), ('▁»', 20), ('▁в', 20), ('▁«', 18), ('▁этом', 16), ('▁и', 16), ('>', 16), ('▁сказал', 16), ('▁США', 16), ('▁России', 15), ('</', 14), ('▁РФ', 14), ('▁сообщает', 13), ('▁)', 13), ('▁президента', 13), ('▁Президент', 13), ('▁Россия', 12), ('▁...', 12), ('▁не', 11), ('ga', 11), ('▁Новости', 11), ('▁Медведев', 11), ('▁В', 10), ('▁было', 10), ('▁на', 10), ('▁(', 10), ('▁будет', 10), ('▁апреля', 9), ('▁пресс', 9), ('я', 9), ('▁Дмитрий', 9), ('▁Напомним', 9), ('▁года', 8), ('конференц', 8), ('▁Москвы', 8), ('▁Украины', 8), ('▁власти', 8), ('▁отметил', 8), ('▁--', 8), ('▁Как', 7), ('▁сегодня', 7), ('ов', 7), ('▁2009', 7), ('▁нефти', 7), ('▁Рус', 7), ('нефть', 7), ('▁его', 7), ('▁Турци', 7), ('е', 7), ('▁будут', 7), ('▁ходе', 7), ('▁2012', 7), ('▁Тимошенко', 7), ('▁Афганистан', 7), ('▁проблемы', 7), ('▁2011', 6), ('▁году', 6), ('▁может', 6), ('▁при', 6), ('▁Ре', 6), ('министр', 6), ('▁является', 6), ('а', 6), ('▁об', 6), ('▁кредит', 6), ('▁0', 6), ('▁-', 6), ('▁должны', 6), ('▁Бу', 6), ('▁/', 6), ('обще', 6), ('▁Об', 6), ('▁1', 6), ('Газпром', 6), ('▁говорится', 6), ('▁Мы', 6), ('-', 5), ('▁это', 5), ('▁компании', 5), ('син', 5), ('▁констат', 5), ('▁мы', 5), ('▁НАТО', 5), ('▁бюджета', 5), ('ой', 5), ('▁октября', 5), ('▁Турция', 5), ('▁он', 5), ('▁министр', 5)]\n",
      "argum\n",
      "====================================================================================================\n",
      "[('▁', 386), ('.', 95), (',', 48), ('▁*', 38), ('▁\"', 36), ('▁:', 35), ('</s>', 29), ('<s>', 24), ('▁?', 19), ('▁;', 17), ('▁)', 16), ('▁!', 15), ('▁(', 14), ('▁не', 12), ('▁Россия', 11), ('▁общества', 11), ('▁мы', 11), ('▁я', 11), ('▁»', 11), ('ы', 10), ('▁Куб', 10), ('▁палестин', 10), ('▁России', 9), ('▁человек', 9), ('▁«', 8), ('▁люди', 8), ('▁2002', 8), ('▁дебат', 8), ('▁что', 7), ('▁меня', 7), ('▁и', 7), ('▁Китай', 7), ('▁когда', 6), ('ской', 6), ('▁элит', 6), ('▁Российской', 6), ('▁НАРОД', 6), ('▁украин', 5), ('▁были', 5), ('▁совет', 5), ('▁сейчас', 5), ('▁в', 5), ('▁И', 5), ('▁страны', 5), ('▁мне', 5), ('▁будет', 5), ('▁себя', 5), ('ов', 5), ('а', 5), ('▁[', 5), ('▁Рус', 5), ('▁Пи', 5), ('▁письма', 5), ('▁может', 5), ('▁Федерального', 5), ('▁Путина', 5), ('и', 4), ('▁детей', 4), ('▁очень', 4), ('▁мир', 4), ('смотри', 4), ('▁от', 4), ('▁Сегодня', 4), ('▁экономики', 4), ('▁социальные', 4), ('▁ли', 4), ('▁было', 4), ('▁считает', 4), ('▁Кон', 4), ('▁которые', 4), ('▁китай', 4), ('▁Я', 4), ('▁светски', 4), ('▁можно', 4), ('▁вас', 4), ('▁Если', 4), ('▁нас', 4), ('▁работы', 4), ('▁чтобы', 4), ('▁мировой', 4), ('▁Франция', 4), ('▁США', 4), ('▁1', 4), ('▁честь', 4), ('▁—', 4), ('▁Запад', 4), ('ет', 4), ('на', 4), ('▁Федерации', 4), ('▁Организаци', 4), ('▁Республики', 4), ('КУ', 4), ('▁Меркел', 4), ('ланд', 4), ('суди', 3), ('бий', 3), ('▁стал', 3), ('▁Украине', 3), ('▁Украин', 3), ('▁зло', 3)]\n",
      "commercial\n",
      "====================================================================================================\n",
      "[('▁', 511), ('.', 115), ('<s>', 71), (',', 68), ('</s>', 44), ('▁:', 33), ('▁\"', 32), ('▁и', 16), ('▁на', 15), ('а', 15), ('▁)', 14), ('▁надеж', 13), ('▁!', 13), ('▁мм', 12), ('▁волос', 11), ('▁кожи', 10), ('▁качества', 10), ('▁?', 10), ('ки', 10), ('▁П', 9), ('▁изготовлен', 8), ('▁что', 8), ('▁вы', 8), ('▁автомобиля', 8), ('▁пыл', 8), ('▁позволяет', 8), ('▁очень', 8), ('▁мотоцикл', 8), ('▁ради', 8), ('уш', 7), ('▁мы', 7), ('▁--', 7), ('▁(', 7), ('>', 7), ('▁с', 7), ('▁компании', 7), ('▁Компания', 7), ('▁для', 7), ('▁Вам', 7), ('шив', 7), ('бель', 6), ('▁волосы', 6), ('▁интерьер', 6), ('▁вашего', 6), ('-', 6), ('▁S', 6), ('▁или', 6), ('▁У', 6), ('▁является', 6), ('▁любой', 6), ('ф', 6), ('▁не', 6), ('▁звук', 6), ('▁текстил', 6), ('▁о', 6), ('▁вентил', 6), ('▁модели', 6), ('е', 6), ('▁в', 6), ('▁-', 6), ('▁вас', 6), ('вес', 6), ('▁я', 6), ('▁до', 6), ('▁Вы', 6), ('▁склад', 6), ('▁инструмент', 5), ('▁#', 5), ('▁кабел', 5), ('▁Мы', 5), ('▁стек', 5), ('▁современ', 5), ('ная', 5), ('▁вес', 5), ('▁заказчик', 5), ('▁клиент', 5), ('▁креп', 5), ('▁нашей', 5), ('▁купить', 5), ('ы', 5), ('▁только', 5), ('▁звуча', 5), ('▁Размер', 5), ('▁масс', 5), ('▁удобен', 5), ('▁об', 5), ('▁регулиров', 5), ('ные', 5), ('▁масло', 5), ('ник', 5), ('▁В', 5), ('▁А', 5), ('▁имеет', 5), ('жу', 5), ('▁металл', 5), ('▁услуг', 5), ('сос', 5), ('▁материалов', 5), ('систем', 4), ('▁стаи', 4)]\n",
      "research\n",
      "====================================================================================================\n",
      "[('▁', 265), ('.', 65), ('▁]', 29), ('▁[', 25), ('<s>', 23), ('▁:', 23), ('▁)', 21), (',', 18), ('▁(', 17), ('▁\"', 11), ('</s>', 10), ('▁1', 10), ('▁исследова', 9), ('▁работа', 7), ('▁автор', 7), ('▁2', 7), ('▁-', 7), ('▁научно', 7), ('▁статьи', 6), ('▁=', 6), ('▁//', 6), ('▁в', 6), ('▁0', 6), ('РАН', 6), ('▁Н', 5), ('ы', 5), ('▁исследования', 5), ('▁литературы', 5), ('▁рассматрива', 5), ('▁модель', 5), ('▁подход', 5), ('▁Метод', 5), ('тация', 5), ('▁АН', 5), ('▁—', 5), ('▁модел', 5), ('▁теории', 5), ('▁о', 5), ('▁анализ', 4), ('▁данной', 4), ('▁статье', 4), ('▁4', 4), ('▁задачи', 4), ('▁научных', 4), ('▁слова', 4), ('▁6', 4), ('▁алгоритм', 4), ('▁журнал', 4), ('▁В', 4), ('▁специально', 4), ('▁Л', 4), ('ется', 4), ('▁работы', 4), ('▁экологическ', 4), ('▁§', 4), ('▁Из', 4), ('▁задача', 4), ('▁от', 4), ('▁социолог', 4), ('▁я', 3), ('▁физик', 3), ('зон', 3), ('▁;', 3), ('▁исследований', 3), ('ятся', 3), ('▁разрешения', 3), ('▁для', 3), ('ьян', 3), ('▁...', 3), ('▁среды', 3), ('▁СО', 3), ('▁Ан', 3), ('▁Раз', 3), ('ирования', 3), ('евич', 3), ('▁работе', 3), ('▁Abstract', 3), ('▁науки', 3), ('▁предлагаем', 3), ('▁будет', 3), ('ний', 3), ('▁наук', 3), ('АЛ', 3), ('▁статья', 3), ('▁спектр', 3), ('▁является', 3), ('ив', 3), ('изма', 3), ('ики', 3), ('руша', 3), ('ДК', 3), ('пи', 3), ('▁проблема', 3), ('▁минерал', 3), ('зер', 3), ('▁Ис', 3), ('образов', 3), ('▁2011', 3), ('▁исследование', 3), ('▁СССР', 3)]\n",
      "personal\n",
      "====================================================================================================\n",
      "[('▁', 228), ('.', 43), ('▁<', 33), (',', 30), ('▁!', 30), ('▁)', 26), ('<s>', 20), ('▁?', 20), ('▁:', 19), ('>', 17), ('▁\"', 17), ('</s>', 16), ('▁...', 14), ('▁мне', 10), ('▁меня', 9), ('▁не', 8), ('▁и', 7), ('p', 7), ('▁я', 7), ('▁что', 6), ('▁люблю', 5), ('▁мы', 5), ('br', 5), ('▁на', 5), ('▁(', 5), ('▁слуша', 5), ('▁будет', 5), ('▁вам', 5), ('▁домой', 4), ('▁сегодня', 4), ('▁у', 4), ('ую', 4), ('▁ты', 4), ('▁А', 4), ('▁-', 4), ('▁жизни', 4), ('▁через', 4), ('/', 4), ('▁чтобы', 3), ('▁была', 3), ('▁всё', 3), ('луж', 3), ('▁нового', 3), ('▁тебе', 3), ('▁И', 3), ('▁это', 3), ('▁кош', 3), ('▁она', 3), ('е', 3), ('▁хочется', 3), ('▁pet', 3), ('▁2012', 3), ('▁радио', 3), ('▁так', 3), ('▁нас', 3), ('▁стих', 3), ('▁очень', 3), ('▁мистер', 3), ('▁знаю', 3), ('▁себя', 3), ('нуть', 3), ('▁года', 3), ('▁дней', 3), ('▁мире', 2), ('▁тебя', 2), ('лга', 2), ('▁совет', 2), ('то', 2), ('▁обычно', 2), ('▁заб', 2), ('▁Со', 2), ('▁компания', 2), ('▁с', 2), ('▁надо', 2), ('▁города', 2), ('▁Вар', 2), ('▁Спасибо', 2), ('▁этого', 2), ('но', 2), ('▁пи', 2), ('▁жал', 2), ('▁ко', 2), ('тан', 2), ('ми', 2), ('лась', 2), ('▁но', 2), ('▁ее', 2), ('дума', 2), ('▁Пи', 2), ('gin', 2), ('▁хорошо', 2), ('ий', 2), ('▁фото', 2), ('хали', 2), ('▁фотограф', 2), ('▁Мы', 2), ('ния', 2), ('ем', 2), ('ные', 2), ('▁люди', 2)]\n",
      "info\n",
      "====================================================================================================\n",
      "[('▁', 125), ('.', 52), ('▁(', 13), ('▁;', 10), ('<s>', 10), ('▁—', 9), ('▁]', 8), ('▁)', 8), ('▁[', 7), ('</s>', 7), ('▁Азербайджан', 6), ('▁о', 6), (',', 6), ('▁2002', 5), ('▁М', 5), ('▁«', 5), ('▁черен', 5), ('вре', 4), ('▁и', 4), ('▁Фил', 4), ('▁Кри', 4), ('▁Закон', 4), ('▁\"', 4), ('▁года', 4), ('▁Шу', 4), ('нсульт', 4), ('▁2', 3), ('▁История', 3), ('▁город', 3), ('ратура', 3), ('▁Ли', 3), ('▁праздник', 3), ('▁»', 3), ('▁расположен', 3), ('теля', 3), ('▁будет', 3), ('ми', 3), ('▁сме', 3), ('▁2010', 3), ('▁продав', 3), ('▁4', 3), ('вед', 3), ('ост', 3), ('▁мост', 3), ('▁фильм', 3), ('▁Ор', 3), ('▁игре', 3), ('НИ', 3), ('ДО', 3), ('▁Республики', 2), ('▁Ба', 2), ('▁рис', 2), ('▁исследова', 2), ('▁этих', 2), ('ку', 2), ('ской', 2), ('▁уче', 2), ('▁был', 2), ('▁компании', 2), ('▁оз', 2), ('▁И', 2), ('▁Olive', 2), ('▁5', 2), ('держание', 2), ('▁1', 2), ('▁пред', 2), ('нные', 2), ('▁2011', 2), ('▁году', 2), ('крытие', 2), ('▁В', 2), ('нду', 2), ('▁строи', 2), ('▁это', 2), ('▁:', 2), ('▁мы', 2), ('ок', 2), ('ле', 2), ('▁ущерб', 2), ('▁какая', 2), ('▁что', 2), ('▁может', 2), ('▁Б', 2), ('лох', 2), ('ж', 2), ('▁автомобиля', 2), ('▁электрическ', 2), ('▁параллел', 2), ('▁Финансов', 2), ('▁между', 2), ('▁средств', 2), ('▁посредник', 2), ('▁финансовые', 2), ('▁покупателя', 2), ('-', 2), ('▁музея', 2), ('сыл', 2), ('▁декабря', 2), ('▁музей', 2), ('▁Музей', 2)]\n",
      "instruct\n",
      "====================================================================================================\n"
     ]
    },
    {
     "name": "stdout",
     "output_type": "stream",
     "text": [
      "[('▁', 87), ('.', 31), ('<s>', 8), ('▁гаджет', 7), (',', 7), ('</s>', 7), ('▁!', 6), ('▁мы', 5), ('▁можно', 5), ('▁нажмите', 4), ('▁што', 4), ('▁)', 4), ('▁фотографии', 4), ('▁(', 4), ('▁обсужден', 4), ('▁•', 3), ('▁работе', 3), ('▁PSD', 3), ('▁картинки', 3), ('▁фото', 3), ('▁вашем', 3), ('▁можете', 3), ('▁:', 3), ('▁нужно', 3), ('ьте', 3), ('▁?', 3), ('▁вред', 3), ('>', 3), ('▁Twitter', 3), ('▁муз', 2), ('вайте', 2), ('ск', 2), ('▁1', 2), ('▁кнопку', 2), ('▁эту', 2), ('▁поэтому', 2), ('▁В', 2), ('▁ознаком', 2), ('▁правилами', 2), ('рез', 2), ('тесь', 2), ('рки', 2), ('▁я', 2), ('▁комп', 2), ('▁что', 2), ('▁формат', 2), ('▁там', 2), ('▁вариант', 2), ('▁интернет', 2), ('груз', 2), ('▁Bluetooth', 2), ('чный', 2), ('▁Однако', 2), ('шту', 2), ('провод', 2), ('▁устройства', 2), ('▁торгов', 2), ('▁обман', 2), ('шен', 2), ('▁мани', 2), ('чества', 2), ('ни', 2), ('▁холодильник', 2), ('▁вы', 2), ('▁только', 2), ('▁повез', 2), ('▁вклад', 2), ('▁i', 2), ('Google', 2), ('▁это', 2), ('▁подели', 2), ('▁статье', 2), ('▁само', 2), ('ружа', 2), ('▁ПО', 2), ('▁скан', 2), ('▁Использу', 2), ('йтесь', 2), ('▁kommer', 2), ('▁[', 2), ('▁результаты', 2), ('ете', 2), ('▁Google', 2), ('сан', 2), ('йте', 2), ('▁воз', 2), ('▁на', 2), ('▁цифр', 2), ('множ', 2), ('▁2.', 2), ('▁позволяет', 2), ('▁архив', 2), ('▁ссылку', 2), ('▁Перейти', 2), ('▁данной', 1), ('▁для', 1), ('ая', 1), ('ол', 1), ('▁Пу', 1), ('▁камер', 1)]\n",
      "eval\n",
      "====================================================================================================\n",
      "[('▁', 148), ('.', 59), (',', 23), ('</s>', 13), ('<s>', 12), ('▁фильм', 12), ('▁\"', 11), ('▁!', 11), ('▁...', 9), ('▁панел', 8), ('▁:', 7), ('▁и', 7), ('▁?', 6), ('▁очень', 6), ('▁в', 6), ('▁(', 6), ('▁)', 6), ('▁за', 5), ('▁книги', 5), ('▁на', 5), ('▁от', 5), ('▁не', 5), ('▁вполне', 4), ('▁вирус', 4), ('▁Можно', 4), ('но', 4), ('▁мне', 4), ('▁это', 4), ('▁вам', 4), ('▁что', 3), ('де', 3), ('е', 3), ('л', 3), ('▁Ре', 3), ('ия', 3), ('▁«', 3), ('▁вроде', 3), ('▁только', 3), ('▁сюжет', 3), ('▁кстати', 3), ('▁Ги', 3), ('-', 3), ('бер', 3), ('▁его', 3), ('▁сайт', 3), ('ешь', 3), ('▁Япон', 3), ('▁песни', 3), ('▁веб', 3), ('▁оригинальн', 2), ('▁для', 2), ('▁читать', 2), ('лась', 2), ('я', 2), ('▁если', 2), ('▁книга', 2), ('▁А', 2), ('▁По', 2), ('▁ее', 2), ('ов', 2), ('▁пример', 2), ('▁ше', 2), ('вр', 2), ('▁прочита', 2), ('▁роман', 2), ('ценз', 2), ('рва', 2), ('▁восторг', 2), ('▁спе', 2), ('▁этого', 2), ('▁аппарат', 2), ('90', 2), ('▁Ken', 2), ('▁K', 2), ('ее', 2), ('▁хор', 2), ('▁килограм', 2), ('льно', 2), ('▁Вы', 2), ('▁нее', 2), ('лен', 2), ('▁девушка', 2), ('▁можно', 2), ('▁она', 2), ('▁роли', 2), ('ист', 2), ('дор', 2), ('▁мастер', 2), ('▁с', 2), ('▁Александр', 2), ('▁пло', 2), ('▁понрави', 2), ('▁вы', 2), ('▁фотограф', 2), ('с', 2), ('▁до', 2), ('▁2013', 2), ('▁играет', 2), ('▁Jan', 2), ('▁персонаж', 2)]\n",
      "fictive\n",
      "====================================================================================================\n",
      "[('▁', 118), ('.', 22), (',', 17), ('▁?', 9), ('▁:', 8), ('▁!', 7), ('<s>', 7), ('▁\"', 6), ('▁ты', 6), ('</s>', 5), ('▁;', 5), ('ть', 4), ('▁Итак', 4), ('▁Гл', 4), ('▁никого', 4), ('▁-', 3), ('жка', 3), ('▁я', 3), ('дь', 3), ('▁Ар', 3), ('▁Степан', 3), ('вин', 3), ('ка', 3), ('▁нашей', 3), ('▁Э', 3), ('▁звезд', 3), ('ен', 3), ('▁тебя', 3), ('▁музыка', 3), ('▁ему', 2), ('ном', 2), ('▁удалось', 2), ('▁г', 2), ('нулся', 2), ('вы', 2), ('▁--', 2), ('▁знаю', 2), ('▁то', 2), ('▁она', 2), ('стой', 2), ('ич', 2), ('▁сказал', 2), ('▁мал', 2), ('▁...', 2), ('▁они', 2), ('▁человек', 2), ('чной', 2), ('▁страны', 2), ('▁моя', 2), ('▁Как', 2), ('▁Сол', 2), ('▁словно', 2), ('▁слова', 2), ('▁Я', 2), ('▁спросил', 2), ('▁ска', 2), ('▁расход', 2), ('▁—', 2), ('▁он', 2), ('тер', 2), ('▁de', 2), ('лись', 2), ('▁что', 2), ('ЛЫ', 2), ('▁улыба', 2), ('▁и', 2), ('▁панталон', 2), ('▁1886', 2), ('▁Той', 2), ('▁не', 2), ('▁Буду', 2), ('▁жизнь', 2), ('▁Пр', 2), ('▁Ты', 2), ('▁глаза', 2), ('▁двор', 2), ('▁здесь', 2), ('▁нет', 2), ('кого', 2), ('▁Здесь', 2), ('▁В', 1), ('▁загад', 1), ('▁имени', 1), ('ины', 1), ('явление', 1), ('тир', 1), ('▁круп', 1), ('▁однако', 1), ('▁посетителей', 1), ('ются', 1), ('▁масс', 1), ('▁встреча', 1), ('▁практически', 1), ('▁Чер', 1), ('▁вес', 1), ('▁о', 1), ('▁Шве', 1), ('▁фраза', 1), ('плю', 1), ('▁купил', 1)]\n",
      "legal\n",
      "====================================================================================================\n",
      "[('▁', 45), ('▁;', 22), ('▁Статья', 17), ('▁)', 16), ('.', 12), ('▁помещения', 7), ('▁:', 6), (',', 6), ('кредит', 5), ('▁Федерального', 4), ('▁закона', 4), ('<s>', 4), ('▁2.', 4), ('▁понятия', 4), ('▁товаров', 4), ('▁Федерации', 4), ('▁Российск', 4), ('▁настоящего', 4), ('▁(', 4), ('▁1.', 4), ('Основные', 3), ('▁1', 3), ('▁таможенн', 3), ('▁может', 3), ('</s>', 3), ('▁граждан', 3), ('▁2', 3), ('▁\"', 3), ('▁полномочия', 3), ('▁4', 3), ('▁вы', 3), ('▁помещений', 3), ('▁осуществляет', 3), ('▁изделий', 2), ('чной', 2), ('▁кур', 2), ('▁Российской', 2), ('ФЗ', 2), ('▁Государственно', 2), ('Настоящи', 2), ('▁вид', 2), ('▁транспортных', 2), ('▁Со', 2), ('держание', 2), ('▁Право', 2), ('▁г', 2), ('▁образования', 2), ('▁соответствии', 2), ('конодательством', 2), ('▁Федеральный', 2), ('▁установленном', 2), ('▁лица', 2), ('▁адрес', 2), ('▁Суд', 2), ('▁вправе', 2), ('▁времени', 2), ('▁лиц', 2), ('▁пользования', 2), ('▁«', 2), ('▁контент', 2), ('▁муниципального', 2), ('▁любое', 2), ('▁Сайт', 2), ('▁обязанности', 2), ('▁4.', 2), ('льц', 2), ('▁u', 2), ('▁av', 2), ('▁назнача', 2), ('▁е', 2), ('▁представляет', 2), ('▁состоит', 2), ('▁недели', 2), ('▁статьи', 2), ('▁Глава', 2), ('▁Суда', 2), ('▁I', 2), ('▁Организация', 2), ('▁Статут', 2), ('▁целях', 1), ('▁производства', 1), ('-', 1), ('ной', 1), ('▁изделия', 1), ('▁применения', 1), ('ения', 1), ('ЕНИЯ', 1), ('ТЕХ', 1), ('▁продукции', 1), ('добре', 1), ('▁В', 1), ('▁основные', 1), ('ую', 1), ('▁Та', 1), ('▁археолог', 1), ('▁1.2', 1), ('▁основания', 1), ('▁Никто', 1), ('▁1.5', 1), ('▁19.', 1)]\n",
      "stuff\n",
      "====================================================================================================\n",
      "[]\n"
     ]
    }
   ],
   "source": [
    "for label in id_to_label.values():\n",
    "    print(label_description[label])\n",
    "    print('=' * 100)\n",
    "    cur_dataset = get_dataset_by_confusion_pair(\n",
    "        sentences, label, label, true_classes, predicted_classes\n",
    "    )\n",
    "    words[label] = get_most_frequent_trigger_words(cur_dataset, dataset_reader.tokenizer, 50, simple_grad)\n",
    "    print(words[label][:100])"
   ]
  },
  {
   "cell_type": "code",
   "execution_count": null,
   "metadata": {},
   "outputs": [],
   "source": []
  },
  {
   "cell_type": "code",
   "execution_count": 25,
   "metadata": {},
   "outputs": [],
   "source": [
    "conflict_pairs = [\n",
    "    ('research', 'info'), ('personal', 'eval'), ('info', 'reporting'), ('personal', 'instruct'), ('legal', 'argum'),\n",
    "    ('info', 'research'), ('eval', 'personal'), ('reporting', 'info'), ('instruct', 'personal'), ('argum', 'legal')\n",
    "]"
   ]
  },
  {
   "cell_type": "code",
   "execution_count": 26,
   "metadata": {},
   "outputs": [
    {
     "name": "stdout",
     "output_type": "stream",
     "text": [
      "{'argum': 'A1', 'emotive': 'A3', 'fictive': 'A4', 'flippant': 'A5', 'informal': 'A6', 'instruct': 'A7', 'reporting': 'A8', 'legal': 'A9', 'personal': 'A11', 'commercial': 'A12', 'propaganda': 'A13', 'research': 'A14', 'specialist': 'A15', 'info': 'A16', 'eval': 'A17', 'poetic': 'A19', 'appeal': 'A20', 'stuff': 'A22'}\n"
     ]
    }
   ],
   "source": [
    "print(description_to_label)"
   ]
  },
  {
   "cell_type": "code",
   "execution_count": 24,
   "metadata": {},
   "outputs": [
    {
     "name": "stderr",
     "output_type": "stream",
     "text": [
      "  0%|          | 0/10 [00:00<?, ?it/s]"
     ]
    },
    {
     "name": "stdout",
     "output_type": "stream",
     "text": [
      "info instead of  research\n",
      "====================================================================================================\n"
     ]
    },
    {
     "name": "stderr",
     "output_type": "stream",
     "text": [
      "\n"
     ]
    },
    {
     "ename": "NameError",
     "evalue": "name 'smooth_grad' is not defined",
     "output_type": "error",
     "traceback": [
      "\u001b[0;31m---------------------------------------------------------------------------\u001b[0m",
      "\u001b[0;31mNameError\u001b[0m                                 Traceback (most recent call last)",
      "\u001b[0;32m<ipython-input-24-897dcb7f263c>\u001b[0m in \u001b[0;36m<module>\u001b[0;34m\u001b[0m\n\u001b[1;32m      9\u001b[0m             \u001b[0msentences\u001b[0m\u001b[0;34m,\u001b[0m \u001b[0mlabel0\u001b[0m\u001b[0;34m,\u001b[0m \u001b[0mlabel1\u001b[0m\u001b[0;34m,\u001b[0m \u001b[0mtrue_classes\u001b[0m\u001b[0;34m,\u001b[0m \u001b[0mpredicted_classes\u001b[0m\u001b[0;34m\u001b[0m\u001b[0;34m\u001b[0m\u001b[0m\n\u001b[1;32m     10\u001b[0m         )\n\u001b[0;32m---> 11\u001b[0;31m         \u001b[0mcur_words\u001b[0m \u001b[0;34m=\u001b[0m \u001b[0mget_most_frequent_trigger_words\u001b[0m\u001b[0;34m(\u001b[0m\u001b[0mcur_dataset\u001b[0m\u001b[0;34m,\u001b[0m \u001b[0mdataset_reader\u001b[0m\u001b[0;34m.\u001b[0m\u001b[0mtokenizer\u001b[0m\u001b[0;34m,\u001b[0m \u001b[0;36m50\u001b[0m\u001b[0;34m,\u001b[0m \u001b[0msmooth_grad\u001b[0m\u001b[0;34m)\u001b[0m\u001b[0;34m\u001b[0m\u001b[0;34m\u001b[0m\u001b[0m\n\u001b[0m\u001b[1;32m     12\u001b[0m         \u001b[0mprint\u001b[0m\u001b[0;34m(\u001b[0m\u001b[0mcur_words\u001b[0m\u001b[0;34m[\u001b[0m\u001b[0;34m:\u001b[0m\u001b[0;36m100\u001b[0m\u001b[0;34m]\u001b[0m\u001b[0;34m)\u001b[0m\u001b[0;34m\u001b[0m\u001b[0;34m\u001b[0m\u001b[0m\n\u001b[1;32m     13\u001b[0m         \u001b[0;32mfor\u001b[0m \u001b[0mword\u001b[0m \u001b[0;32min\u001b[0m \u001b[0mcur_words\u001b[0m\u001b[0;34m[\u001b[0m\u001b[0;34m:\u001b[0m\u001b[0;36m50\u001b[0m\u001b[0;34m]\u001b[0m\u001b[0;34m:\u001b[0m\u001b[0;34m\u001b[0m\u001b[0;34m\u001b[0m\u001b[0m\n",
      "\u001b[0;31mNameError\u001b[0m: name 'smooth_grad' is not defined"
     ]
    }
   ],
   "source": [
    "import tqdm\n",
    "\n",
    "with open('xlm_roberta_conflict_keywords_ru.txt', 'w') as fout:\n",
    "    for label_pair in tqdm.tqdm(conflict_pairs):\n",
    "        print(label_pair[1], 'instead of ', label_pair[0])\n",
    "        label0, label1 = description_to_label[label_pair[0]], description_to_label[label_pair[1]]\n",
    "        print('=' * 100)\n",
    "        cur_dataset = get_dataset_by_confusion_pair(\n",
    "            sentences, label0, label1, true_classes, predicted_classes\n",
    "        )\n",
    "        cur_words = get_most_frequent_trigger_words(cur_dataset, dataset_reader.tokenizer, 50, smooth_grad)\n",
    "        print(cur_words[:100])\n",
    "        for word in cur_words[:50]:\n",
    "            fout.write(f'{label_pair[0]} {label_pair[1]} {word}\\n')"
   ]
  },
  {
   "cell_type": "code",
   "execution_count": null,
   "metadata": {},
   "outputs": [],
   "source": []
  }
 ],
 "metadata": {
  "kernelspec": {
   "display_name": "Python 3",
   "language": "python",
   "name": "python3"
  },
  "language_info": {
   "codemirror_mode": {
    "name": "ipython",
    "version": 3
   },
   "file_extension": ".py",
   "mimetype": "text/x-python",
   "name": "python",
   "nbconvert_exporter": "python",
   "pygments_lexer": "ipython3",
   "version": "3.8.3"
  }
 },
 "nbformat": 4,
 "nbformat_minor": 4
}
