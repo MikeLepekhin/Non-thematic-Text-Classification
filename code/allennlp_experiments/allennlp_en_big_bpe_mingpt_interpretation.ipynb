{
 "cells": [
  {
   "cell_type": "code",
   "execution_count": 1,
   "metadata": {},
   "outputs": [],
   "source": [
    "from os.path import join as pathjoin\n",
    "from data_processing import *\n",
    "from interpretation import *\n",
    "from models import *\n",
    "from training import *"
   ]
  },
  {
   "cell_type": "code",
   "execution_count": 2,
   "metadata": {},
   "outputs": [],
   "source": [
    "DATA_DIR = '/home/mlepekhin/data/min_gpt_big_bpe'\n",
    "MODELS_DIR = '/home/mlepekhin/models'\n",
    "MODEL_ID = 'allennlp_bert_base_cased'\n",
    "CHECKPOINTS_DIR = pathjoin(MODELS_DIR, MODEL_ID, 'checkpoints')\n",
    "BEST_MODEL = pathjoin(CHECKPOINTS_DIR, 'best.th')"
   ]
  },
  {
   "cell_type": "code",
   "execution_count": 3,
   "metadata": {},
   "outputs": [],
   "source": [
    "transformer_model = 'bert-base-cased'\n",
    "MAX_TOKENS = 512"
   ]
  },
  {
   "cell_type": "markdown",
   "metadata": {},
   "source": [
    "### Loading of the pretrained model"
   ]
  },
  {
   "cell_type": "code",
   "execution_count": 4,
   "metadata": {},
   "outputs": [
    {
     "name": "stdout",
     "output_type": "stream",
     "text": [
      "Building the model\n"
     ]
    }
   ],
   "source": [
    "vocab = Vocabulary().from_files(pathjoin(MODELS_DIR, MODEL_ID, 'vocab'))\n",
    "model = build_transformer_model(vocab, transformer_model)"
   ]
  },
  {
   "cell_type": "code",
   "execution_count": 5,
   "metadata": {},
   "outputs": [
    {
     "name": "stdout",
     "output_type": "stream",
     "text": [
      "{0: 'A1', 1: 'A12', 2: 'A7', 3: 'A16', 4: 'A8', 5: 'A22', 6: 'A4', 7: 'A11', 8: 'A14', 9: 'A9', 10: 'A17'}\n",
      "dict_values(['A1', 'A12', 'A7', 'A16', 'A8', 'A22', 'A4', 'A11', 'A14', 'A9', 'A17'])\n"
     ]
    }
   ],
   "source": [
    "id_to_label = vocab.get_index_to_token_vocabulary('labels')\n",
    "print(id_to_label)\n",
    "print(id_to_label.values())"
   ]
  },
  {
   "cell_type": "code",
   "execution_count": 6,
   "metadata": {},
   "outputs": [
    {
     "name": "stdout",
     "output_type": "stream",
     "text": [
      "1\n"
     ]
    },
    {
     "data": {
      "text/plain": [
       "<All keys matched successfully>"
      ]
     },
     "execution_count": 6,
     "metadata": {},
     "output_type": "execute_result"
    }
   ],
   "source": [
    "if torch.cuda.is_available():\n",
    "    cuda_device = 1\n",
    "else:\n",
    "    cuda_device = -1\n",
    "print(cuda_device)\n",
    "model.load_state_dict(torch.load(BEST_MODEL, map_location=f'cuda:{cuda_device}'))"
   ]
  },
  {
   "cell_type": "markdown",
   "metadata": {},
   "source": [
    "### Data loading"
   ]
  },
  {
   "cell_type": "code",
   "execution_count": 7,
   "metadata": {},
   "outputs": [
    {
     "data": {
      "text/html": [
       "<div>\n",
       "<style scoped>\n",
       "    .dataframe tbody tr th:only-of-type {\n",
       "        vertical-align: middle;\n",
       "    }\n",
       "\n",
       "    .dataframe tbody tr th {\n",
       "        vertical-align: top;\n",
       "    }\n",
       "\n",
       "    .dataframe thead th {\n",
       "        text-align: right;\n",
       "    }\n",
       "</style>\n",
       "<table border=\"1\" class=\"dataframe\">\n",
       "  <thead>\n",
       "    <tr style=\"text-align: right;\">\n",
       "      <th></th>\n",
       "      <th>Unnamed: 0</th>\n",
       "      <th>target</th>\n",
       "      <th>text</th>\n",
       "    </tr>\n",
       "  </thead>\n",
       "  <tbody>\n",
       "    <tr>\n",
       "      <th>0</th>\n",
       "      <td>0</td>\n",
       "      <td>A4</td>\n",
       "      <td>immigration are up there ? ' said Herrick . Da...</td>\n",
       "    </tr>\n",
       "    <tr>\n",
       "      <th>1</th>\n",
       "      <td>1</td>\n",
       "      <td>A4</td>\n",
       "      <td>##chenman , who had come to love one . She had...</td>\n",
       "    </tr>\n",
       "    <tr>\n",
       "      <th>2</th>\n",
       "      <td>2</td>\n",
       "      <td>A4</td>\n",
       "      <td>Active BY : The Green Eye of the Little Yellow...</td>\n",
       "    </tr>\n",
       "    <tr>\n",
       "      <th>3</th>\n",
       "      <td>3</td>\n",
       "      <td>A4</td>\n",
       "      <td>utters between those scenes and Madge had been...</td>\n",
       "    </tr>\n",
       "    <tr>\n",
       "      <th>4</th>\n",
       "      <td>4</td>\n",
       "      <td>A4</td>\n",
       "      <td>buckets . He took aim at his dinner and finish...</td>\n",
       "    </tr>\n",
       "  </tbody>\n",
       "</table>\n",
       "</div>"
      ],
      "text/plain": [
       "   Unnamed: 0 target                                               text\n",
       "0           0     A4  immigration are up there ? ' said Herrick . Da...\n",
       "1           1     A4  ##chenman , who had come to love one . She had...\n",
       "2           2     A4  Active BY : The Green Eye of the Little Yellow...\n",
       "3           3     A4  utters between those scenes and Madge had been...\n",
       "4           4     A4  buckets . He took aim at his dinner and finish..."
      ]
     },
     "execution_count": 7,
     "metadata": {},
     "output_type": "execute_result"
    }
   ],
   "source": [
    "en_test_df = pd.read_csv(pathjoin(DATA_DIR, 'en'))\n",
    "en_test_df.head()"
   ]
  },
  {
   "cell_type": "code",
   "execution_count": 8,
   "metadata": {},
   "outputs": [],
   "source": [
    "true_classes = en_test_df.target.values\n",
    "sentences = en_test_df.text.values"
   ]
  },
  {
   "cell_type": "markdown",
   "metadata": {},
   "source": [
    "### Preliminary analysis"
   ]
  },
  {
   "cell_type": "code",
   "execution_count": 9,
   "metadata": {},
   "outputs": [],
   "source": [
    "dataset_reader = build_transformer_dataset_reader(transformer_model, MAX_TOKENS)\n",
    "predictor = TextClassifierPredictor(model, dataset_reader=dataset_reader)\n",
    "predicted_classes = np.array(predict_classes(sentences, predictor, vocab))"
   ]
  },
  {
   "cell_type": "code",
   "execution_count": 10,
   "metadata": {},
   "outputs": [
    {
     "name": "stdout",
     "output_type": "stream",
     "text": [
      "<class 'numpy.ndarray'>\n"
     ]
    }
   ],
   "source": [
    "print(type(predicted_classes == 'A1'))"
   ]
  },
  {
   "cell_type": "code",
   "execution_count": 11,
   "metadata": {},
   "outputs": [
    {
     "name": "stdout",
     "output_type": "stream",
     "text": [
      "11\n"
     ]
    }
   ],
   "source": [
    "print(len(np.unique(true_classes)))"
   ]
  },
  {
   "cell_type": "code",
   "execution_count": 12,
   "metadata": {},
   "outputs": [
    {
     "name": "stdout",
     "output_type": "stream",
     "text": [
      "label (argum) f1_score 0.6938775510204082 precision 0.85 recall 0.5862068965517241\n",
      "label (fictive) f1_score 0.9090909090909091 precision 1.0 recall 0.8333333333333334\n",
      "label (instruct) f1_score 0.8333333333333333 precision 1.0 recall 0.7142857142857143\n",
      "label (reporting) f1_score 0.7567567567567567 precision 0.7 recall 0.8235294117647058\n",
      "label (legal) f1_score 0.787878787878788 precision 0.65 recall 1.0\n",
      "label (personal) f1_score 0.7843137254901961 precision 1.0 recall 0.6451612903225806\n",
      "label (commercial) f1_score 0.6842105263157895 precision 0.65 recall 0.7222222222222222\n",
      "label (research) f1_score 0.7222222222222223 precision 0.65 recall 0.8125\n",
      "label (info) f1_score 0.46808510638297873 precision 0.55 recall 0.4074074074074074\n",
      "label (eval) f1_score 0.5517241379310346 precision 0.4 recall 0.8888888888888888\n",
      "label (stuff) f1_score 0.4999999999999999 precision 0.35 recall 0.875\n",
      "accuracy 0.7090909090909091\n"
     ]
    }
   ],
   "source": [
    "calc_classifier_metrics(predicted_classes, true_classes)"
   ]
  },
  {
   "cell_type": "code",
   "execution_count": 13,
   "metadata": {},
   "outputs": [
    {
     "data": {
      "image/png": "[encoded data removed]",
      "text/plain": [
       "<Figure size 1080x1080 with 2 Axes>"
      ]
     },
     "metadata": {
      "needs_background": "light"
     },
     "output_type": "display_data"
    }
   ],
   "source": [
    "plot_confusion_matrix(predicted_classes, true_classes)"
   ]
  },
  {
   "cell_type": "markdown",
   "metadata": {},
   "source": [
    "### Saliency Gradient Interpretation"
   ]
  },
  {
   "cell_type": "code",
   "execution_count": 14,
   "metadata": {},
   "outputs": [],
   "source": [
    "smooth_grad = SmoothGradient(predictor)\n",
    "simple_grad = SimpleGradient(predictor)\n",
    "integrated_grad = IntegratedGradient(predictor)"
   ]
  },
  {
   "cell_type": "code",
   "execution_count": 15,
   "metadata": {},
   "outputs": [],
   "source": [
    "mistake_ids = []\n",
    "\n",
    "for sent_id in range(len(true_classes)):\n",
    "    if true_classes[sent_id] != predicted_classes[sent_id]:\n",
    "        mistake_ids.append(sent_id)"
   ]
  },
  {
   "cell_type": "code",
   "execution_count": 16,
   "metadata": {},
   "outputs": [
    {
     "name": "stdout",
     "output_type": "stream",
     "text": [
      "TRUE LABEL: research\n",
      "LABEL: info\n",
      "<class 'allennlp.interpret.saliency_interpreters.smooth_gradient.SmoothGradient'> TEXT:\n",
      "Princeton \u001b[31mresearchers\u001b[0m \u001b[31mdiscovered\u001b[0m \u001b[31mthat\u001b[0m \u001b[31mthe\u001b[0m plant ' s first tower \u001b[31mwas\u001b[0m a tech ##no ##genic \u001b[31mbarren\u001b[0m \u001b[31marea\u001b[0m in 1972 \u001b[31mwhen\u001b[0m { \u001b[31menclosed\u001b[0m in 1997 ] the film had been deposited \u001b[31mon\u001b[0m a steel - water interface . This gas \u001b[31mreporting\u001b[0m \u001b[31mproduced\u001b[0m a very high intensity \u001b[31mand\u001b[0m , a fraction of the deposits formed by the Italian group compared to the American species . This was the first to \u001b[31m##c\u001b[0m \u001b[31m##ms\u001b[0m ##ter ##ile of the material , referred to as the ' G ##uin ##s ' ( for the modern \u001b[31mlocation\u001b[0m \u001b[31m)\u001b[0m in the school of advanced residential property were published . \u001b[31mAs\u001b[0m the result of these conclusions the use of the t ##rig ##ram modelling process and \u001b[31mthey\u001b[0m consider this type of analysis \u001b[31m.\u001b[0m The \" Company \" \u001b[31mand\u001b[0m \" \u001b[31mthe\u001b[0m model is simulation ##s that show the performance of the products . Of particular interest is rarely true of the modern major innovations , the C - C - C bond , and are therefore never occupied . \u001b[31mThe\u001b[0m other two - 55 \u001b[31mmodels\u001b[0m \u001b[31mlook\u001b[0m like a spiral . They are no defined under control of a spiral , rigid - read - over ##lay on a de ##ter ##mini ##stic spiral \u001b[31m.\u001b[0m The P ##IM \u001b[31mAs\u001b[0m ##ser ##t mechanism \u001b[31mtakes\u001b[0m \u001b[31ma\u001b[0m single argument \u001b[31mon\u001b[0m a while \u001b[31mit\u001b[0m is in the opposite direction that only if \u001b[31mthe\u001b[0m two \u001b[31melectrons\u001b[0m \u001b[31mexchange\u001b[0m single particles go on a b ##ulge in the horizontal cell . This vector does not change the voltage \u001b[31mgain\u001b[0m up and is immediately split into two passes ##s of a , where the P is wall , the other is the ion . It \u001b[31mis\u001b[0m detected by the expansion \u001b[31mof\u001b[0m the wave equation , and can be explained in the form of the b ##oso \u001b[31m##ns\u001b[0m , the two sensitivity \u001b[31mmeasurements\u001b[0m are accumulated to the size of the next micro \u001b[31m##n\u001b[0m . The next micro ##n counting products from the vessel \u001b[31m(\u001b[0m x , y , h , z ) represents the separation of the second . The f ##er ##roma ##gne ##t is h ##ydro ##ly proportional to the re ##fra ##ctive in ##dices of the source region between the material . The convert ##er plate ##lets are a number of different types of defects , including the monitor , plates and the plates \u001b[31mof\u001b[0m plates \u001b[31m,\u001b[0m plates \u001b[31mand\u001b[0m cylinders . Only the array \u001b[31m##s\u001b[0m of an array of index ##es can be specified , and some of the last three components are themselves . The sum of these distributions of all the p ##ixel ##s is the same as the p ##ixel ##s in column 7 . 000 \u001b[31mp\u001b[0m ##ixel \u001b[31m##s\u001b[0m . a B ##uff ##ered ##I ##mage can hold in data ( Ra ##ster s ##rc , He ##x , S ##Q ) ; Quality ##T ##able in p ##ixel \u001b[31m##s\u001b[0m for RA \u001b[31mand\u001b[0m SF are compatible with this color ##ima ##b . Fi ##lter Name Source \u001b[31mdesignation\u001b[0m , see detailed product entries for the specified [SEP] \n",
      "\n",
      "<class 'allennlp.interpret.saliency_interpreters.simple_gradient.SimpleGradient'> TEXT:\n",
      "\u001b[31mPrinceton\u001b[0m \u001b[31mresearchers\u001b[0m \u001b[31mdiscovered\u001b[0m \u001b[31mthat\u001b[0m \u001b[31mthe\u001b[0m \u001b[31mplant\u001b[0m ' s first tower \u001b[31mwas\u001b[0m a tech ##no ##genic barren \u001b[31marea\u001b[0m in 1972 \u001b[31mwhen\u001b[0m { \u001b[31menclosed\u001b[0m in 1997 ] the film had been deposited on a steel - water interface . This gas reporting \u001b[31mproduced\u001b[0m a very high intensity and , a fraction of the deposits formed by the Italian group compared to the American \u001b[31mspecies\u001b[0m . This was the first to ##c ##ms ##ter ##ile of the material , referred to as the ' G ##uin \u001b[31m##s\u001b[0m ' ( for the modern \u001b[31mlocation\u001b[0m ) \u001b[31min\u001b[0m the school of advanced residential property were published . \u001b[31mAs\u001b[0m the result of these \u001b[31mconclusions\u001b[0m \u001b[31mthe\u001b[0m \u001b[31muse\u001b[0m \u001b[31mof\u001b[0m the t ##rig ##ram modelling process \u001b[31mand\u001b[0m \u001b[31mthey\u001b[0m \u001b[31mconsider\u001b[0m \u001b[31mthis\u001b[0m \u001b[31mtype\u001b[0m of \u001b[31manalysis\u001b[0m . The \" Company \" and \u001b[31m\"\u001b[0m the model is simulation ##s that show the performance of the products . \u001b[31mOf\u001b[0m particular interest is \u001b[31mrarely\u001b[0m true of the modern \u001b[31mmajor\u001b[0m \u001b[31minnovations\u001b[0m , the C - C - C bond , and are therefore never occupied . The other two - \u001b[31m55\u001b[0m \u001b[31mmodels\u001b[0m \u001b[31mlook\u001b[0m like a spiral . They are no defined under control of a spiral , rigid - read - over ##lay on a de ##ter ##mini ##stic spiral \u001b[31m.\u001b[0m The P ##IM As \u001b[31m##ser\u001b[0m ##t mechanism takes a single argument on a \u001b[31mwhile\u001b[0m it is in the opposite direction that \u001b[31monly\u001b[0m if \u001b[31mthe\u001b[0m two electrons \u001b[31mexchange\u001b[0m \u001b[31msingle\u001b[0m particles \u001b[31mgo\u001b[0m on a b ##ulge in the horizontal cell . This vector does not change the voltage \u001b[31mgain\u001b[0m up and is immediately split into two passes ##s of a , where the P is wall \u001b[31m,\u001b[0m the other is the ion . It is detected by the expansion of the wave equation , and can be explained in the form of the b ##oso ##ns , the two \u001b[31msensitivity\u001b[0m measurements are accumulated to the size of the next micro ##n . The next micro ##n counting products from the vessel ( x , y \u001b[31m,\u001b[0m h , z ) represents the separation of the second . The f ##er ##roma ##gne ##t is h ##ydro ##ly proportional to the re ##fra ##ctive in ##dices of the source region between the material . The convert \u001b[31m##er\u001b[0m plate ##lets are a number of different types of defects , including the monitor , plates and the plates of plates , plates and cylinders \u001b[31m.\u001b[0m Only the array ##s of an array of index ##es can be specified , and some of the last three components are themselves . The sum of these distributions of all the p ##ixel ##s is the same as the p ##ixel ##s in column 7 . 000 p ##ixel ##s . a B ##uff ##ered ##I ##mage can hold in data ( Ra ##ster s ##rc , He ##x , S ##Q ) ; \u001b[31mQuality\u001b[0m ##T ##able in p ##ixel ##s for RA and SF are compatible with this color ##ima ##b . Fi ##lter Name Source \u001b[31mdesignation\u001b[0m , see detailed product entries for the specified [SEP] \n",
      "\n",
      "<class 'allennlp.interpret.saliency_interpreters.integrated_gradient.IntegratedGradient'> TEXT:\n",
      "\u001b[31mPrinceton\u001b[0m researchers \u001b[31mdiscovered\u001b[0m \u001b[31mthat\u001b[0m the \u001b[31mplant\u001b[0m \u001b[31m'\u001b[0m s \u001b[31mfirst\u001b[0m tower was a tech ##no ##genic barren area in 1972 when { \u001b[31menclosed\u001b[0m in 1997 ] the film \u001b[31mhad\u001b[0m been deposited \u001b[31mon\u001b[0m a steel \u001b[31m-\u001b[0m water \u001b[31minterface\u001b[0m . \u001b[31mThis\u001b[0m \u001b[31mgas\u001b[0m reporting produced \u001b[31ma\u001b[0m very high intensity \u001b[31mand\u001b[0m , a fraction of the \u001b[31mdeposits\u001b[0m formed by the Italian group compared \u001b[31mto\u001b[0m the American species \u001b[31m.\u001b[0m This \u001b[31mwas\u001b[0m the first \u001b[31mto\u001b[0m ##c ##ms ##ter ##ile of the \u001b[31mmaterial\u001b[0m , \u001b[31mreferred\u001b[0m \u001b[31mto\u001b[0m \u001b[31mas\u001b[0m the ' G ##uin ##s ' ( \u001b[31mfor\u001b[0m the modern location ) in the school \u001b[31mof\u001b[0m advanced residential \u001b[31mproperty\u001b[0m were published . As the result of these \u001b[31mconclusions\u001b[0m \u001b[31mthe\u001b[0m use of the t ##rig ##ram modelling process and they \u001b[31mconsider\u001b[0m this \u001b[31mtype\u001b[0m of analysis . \u001b[31mThe\u001b[0m \u001b[31m\"\u001b[0m Company \" and \" the model is simulation \u001b[31m##s\u001b[0m that show the performance of the products . Of particular interest is rarely true of the modern major innovations , the C - C - C bond , and are therefore never \u001b[31moccupied\u001b[0m . The \u001b[31mother\u001b[0m two - 55 models look like a spiral . They \u001b[31mare\u001b[0m no defined under control of a spiral , rigid - read - over ##lay \u001b[31mon\u001b[0m a de ##ter ##mini ##stic spiral . The P ##IM As ##ser ##t mechanism takes a single argument on a while it is in the opposite direction that only if the two electrons exchange single particles \u001b[31mgo\u001b[0m on a b ##ulge in the horizontal cell . This vector does not change the voltage gain up and is immediately split into two passes ##s of a , where the P is wall , the other is the ion . It is \u001b[31mdetected\u001b[0m by the expansion of the wave equation , and can be explained in the form of the b ##oso ##ns , the two sensitivity measurements are accumulated to the size of the next micro ##n . The next micro ##n counting products from the vessel ( x , y , h , z ) represents the separation of the second . The f ##er ##roma ##gne ##t is h ##ydro \u001b[31m##ly\u001b[0m proportional to the re ##fra ##ctive \u001b[31min\u001b[0m ##dices of the source region between the material . The convert ##er plate ##lets are a number of different types of defects , including the monitor , plates and the plates \u001b[31mof\u001b[0m plates \u001b[31m,\u001b[0m plates and cylinders . Only the array ##s of an array of index ##es can be specified , and some of the last three components are themselves . The \u001b[31msum\u001b[0m \u001b[31mof\u001b[0m these distributions of all the p ##ixel ##s is the same as the p ##ixel \u001b[31m##s\u001b[0m in column 7 . 000 p ##ixel ##s . a B ##uff ##ered ##I ##mage can hold in data ( Ra \u001b[31m##ster\u001b[0m s ##rc , He ##x , S ##Q ) ; Quality \u001b[31m##T\u001b[0m ##able in p ##ixel ##s for RA and SF are compatible with this color ##ima ##b . Fi ##lter Name Source designation , see detailed product entries for the specified [SEP] \n",
      "\n"
     ]
    }
   ],
   "source": [
    "interpret_sentence(\n",
    "    sentences[mistake_ids[0]], dataset_reader.tokenizer, 50, \n",
    "    [smooth_grad, simple_grad, integrated_grad],\n",
    "    label_description[true_classes[mistake_ids[0]]],\n",
    "    label_description[predicted_classes[mistake_ids[0]]]\n",
    ")"
   ]
  },
  {
   "cell_type": "code",
   "execution_count": 17,
   "metadata": {},
   "outputs": [
    {
     "name": "stdout",
     "output_type": "stream",
     "text": [
      "TRUE LABEL: research\n",
      "LABEL: info\n",
      "<class 'allennlp.interpret.saliency_interpreters.smooth_gradient.SmoothGradient'> TEXT:\n",
      "Sabah \u001b[31min\u001b[0m the USA ) . The plant \u001b[31mis\u001b[0m used \u001b[31min\u001b[0m recent improvements \u001b[31min\u001b[0m production of the prescription \u001b[31menhanced\u001b[0m \u001b[31ma\u001b[0m ##qua ##por ##in - based sperm . The flow of nuclei called a n ##uc ##leo ##tide is stab ##ilis ##ed in a number of forms of the s ##po ##nge - like forms of cellular matrix . In addition there are several natural chemical reactions , car ##bo ##hy ##dra ##tes that cat ##aly ##se is ##omer ##s can be incorporated into solutions with as many other common amino acids . The th ##re ##oni \u001b[31m##ne\u001b[0m \u001b[31malso\u001b[0m makes a strong indication that in ##hibition of the metabolism of the body ' s own defence \u001b[31msystem\u001b[0m . In genetic material ( see Fi ##g . 2 . 1 \u001b[31m.\u001b[0m In this view , et al . 1 . 7 . 7 of the reduced - my ##os ##in heads in the p ##ores \u001b[31m,\u001b[0m on the migration \u001b[31mof\u001b[0m in mit ##och ##ond ##ria alter the action of the muscle ( ho ##sp ##hat ##e ) . Messenger synthesis of the work of enzymes \u001b[31min\u001b[0m cell m ##ou ##ld ##s . In ##g . van Thor , J . J . Hell ##ing ##wer ##f , K . J . Hell ##i ##well and K . G . Da ##ute ##nh ##ahn , S . Woods , M . L . Walters and K . Ko ##ay ( \u001b[31m2006\u001b[0m \u001b[31m)\u001b[0m . ' Doing the Right \u001b[31mThing\u001b[0m Wrong ' - Personal ##ity and To ##ler ##ance to Un ##com ##fort ##able Robot \u001b[31mA\u001b[0m ##pp ##roach ##es . To appear in Pro ##ce ##eding \u001b[31mof\u001b[0m IEEE \u001b[31mR\u001b[0m ##O - MA ##N ( \u001b[31mUniversity\u001b[0m \u001b[31mof\u001b[0m Hertfordshire UK , 6 - 8 \u001b[31mSeptember\u001b[0m \u001b[31m2006\u001b[0m \u001b[31m)\u001b[0m . S . Woods , M . Walters \u001b[31m,\u001b[0m K . L . Ko ##ay and K . Da ##ute ##nh ##ahn ( 2006 ) . Co \u001b[31m##mp\u001b[0m ##aring \u001b[31mHuman\u001b[0m Robot \u001b[31mInter\u001b[0m ##action \u001b[31mSc\u001b[0m \u001b[31m##ena\u001b[0m ##rio ##s Using Live and Video Based \u001b[31mMethod\u001b[0m \u001b[31m##s\u001b[0m : Towards a Novel Method ##ological A ##pp ##roach . Pro ##ce ##eding of AMC \u001b[31m'\u001b[0m 06 , The 9th \u001b[31mInternational\u001b[0m Workshop \u001b[31mon\u001b[0m Advanced Motion \u001b[31mControl\u001b[0m ( Istanbul \u001b[31m,\u001b[0m March 2006 \u001b[31m)\u001b[0m , 750 \u001b[31m-\u001b[0m 75 ##5 Again \u001b[31myou\u001b[0m \u001b[31mwill\u001b[0m \u001b[31mnotice\u001b[0m \u001b[31mthat\u001b[0m the details \u001b[31mas\u001b[0m to the markers has diminished at the expense of the newly selected option . Now SA ##GE tags are short o ##li ##gos which define \u001b[31mparts\u001b[0m of an error message , usually from the coding region as shown in the diagram . S ##pec ##ified : \u001b[31mS\u001b[0m ##pecific ##ation ( \u001b[31m5\u001b[0m ) 1 ) 1 ) Des ##cription \u001b[31mand\u001b[0m subsequently performed to establish the surface based on the surface of a fun ##nel - like process . This measurement is then \u001b[31mused\u001b[0m to find out how important the point ##er layer of view of the micro ##scope can be read from the camera and modify the changes . The method allows assessment of the overall shape and size of the robot \u001b[31m,\u001b[0m and the [SEP] \n",
      "\n",
      "<class 'allennlp.interpret.saliency_interpreters.simple_gradient.SimpleGradient'> TEXT:\n",
      "Sabah \u001b[31min\u001b[0m \u001b[31mthe\u001b[0m USA \u001b[31m)\u001b[0m \u001b[31m.\u001b[0m The plant \u001b[31mis\u001b[0m used \u001b[31min\u001b[0m \u001b[31mrecent\u001b[0m \u001b[31mimprovements\u001b[0m in production of the prescription enhanced a ##qua ##por ##in - based sperm . The flow of nuclei called a n ##uc ##leo ##tide is stab ##ilis ##ed in a number of forms of the s ##po ##nge - like forms of cellular matrix . In addition there are several natural chemical reactions , car ##bo ##hy ##dra ##tes that cat ##aly ##se is ##omer ##s can be incorporated into solutions with as many other common amino acids . The th ##re ##oni ##ne also makes a strong indication that in ##hibition of the metabolism of the body ' s own defence system . In \u001b[31mgenetic\u001b[0m material ( see Fi ##g . 2 . 1 . In \u001b[31mthis\u001b[0m view \u001b[31m,\u001b[0m et \u001b[31mal\u001b[0m \u001b[31m.\u001b[0m 1 \u001b[31m.\u001b[0m 7 . 7 of the reduced - my ##os ##in heads in the p ##ores , on the migration of in mit ##och ##ond ##ria alter \u001b[31mthe\u001b[0m action of the muscle ( ho ##sp ##hat ##e ) . Messenger synthesis of the work of enzymes \u001b[31min\u001b[0m cell m ##ou ##ld ##s . In ##g . van Thor , J . J . Hell ##ing ##wer ##f , K . J . Hell ##i ##well and K . G . Da ##ute ##nh ##ahn , S . Woods , M . L . Walters and K . Ko ##ay ( 2006 \u001b[31m)\u001b[0m . ' Doing the Right Thing \u001b[31mWrong\u001b[0m ' - Personal \u001b[31m##ity\u001b[0m and To ##ler ##ance to Un ##com ##fort ##able \u001b[31mRobot\u001b[0m A \u001b[31m##pp\u001b[0m ##roach ##es . \u001b[31mTo\u001b[0m appear in Pro ##ce ##eding of IEEE R ##O - MA ##N ( University of Hertfordshire \u001b[31mUK\u001b[0m \u001b[31m,\u001b[0m 6 - \u001b[31m8\u001b[0m September \u001b[31m2006\u001b[0m \u001b[31m)\u001b[0m \u001b[31m.\u001b[0m \u001b[31mS\u001b[0m . Woods , M . Walters , K . L . Ko ##ay and K . Da ##ute ##nh ##ahn ( 2006 ) . Co \u001b[31m##mp\u001b[0m \u001b[31m##aring\u001b[0m Human Robot Inter ##action \u001b[31mSc\u001b[0m ##ena ##rio ##s Using Live and Video Based Method ##s : \u001b[31mTowards\u001b[0m \u001b[31ma\u001b[0m Novel Method ##ological A ##pp ##roach \u001b[31m.\u001b[0m \u001b[31mPro\u001b[0m \u001b[31m##ce\u001b[0m \u001b[31m##eding\u001b[0m \u001b[31mof\u001b[0m \u001b[31mAMC\u001b[0m ' 06 , The 9th International \u001b[31mWorkshop\u001b[0m on Advanced Motion Control \u001b[31m(\u001b[0m Istanbul , March 2006 ) , 750 - \u001b[31m75\u001b[0m ##5 Again \u001b[31myou\u001b[0m \u001b[31mwill\u001b[0m \u001b[31mnotice\u001b[0m \u001b[31mthat\u001b[0m the details as to the markers \u001b[31mhas\u001b[0m diminished at the expense of the newly selected option . Now SA ##GE tags are short o ##li ##gos which define parts of an error message , usually from the coding region as shown in the diagram . S ##pec ##ified : \u001b[31mS\u001b[0m ##pecific ##ation ( 5 ) 1 ) 1 ) Des ##cription and subsequently performed to establish the surface based on the surface of a fun ##nel - like process . This measurement is then used to find out how \u001b[31mimportant\u001b[0m the point ##er layer of view of the micro ##scope can be read from the camera and modify the changes . The method allows assessment of the overall shape and size of the robot , and the [SEP] \n",
      "\n",
      "<class 'allennlp.interpret.saliency_interpreters.integrated_gradient.IntegratedGradient'> TEXT:\n",
      "\u001b[31mSabah\u001b[0m \u001b[31min\u001b[0m the USA \u001b[31m)\u001b[0m \u001b[31m.\u001b[0m The \u001b[31mplant\u001b[0m \u001b[31mis\u001b[0m used in recent improvements in production \u001b[31mof\u001b[0m the prescription enhanced a ##qua ##por ##in - based sperm \u001b[31m.\u001b[0m The flow of nuclei \u001b[31mcalled\u001b[0m a n ##uc \u001b[31m##leo\u001b[0m ##tide \u001b[31mis\u001b[0m stab ##ilis ##ed in a number of forms of the s ##po ##nge - like forms \u001b[31mof\u001b[0m cellular matrix . In addition there are several natural chemical reactions \u001b[31m,\u001b[0m car ##bo ##hy ##dra ##tes that cat ##aly ##se is ##omer ##s can be incorporated into solutions \u001b[31mwith\u001b[0m as many other common amino acids \u001b[31m.\u001b[0m The \u001b[31mth\u001b[0m ##re ##oni ##ne also makes a strong indication that in ##hibition of the metabolism of the body ' s own defence system . In genetic material \u001b[31m(\u001b[0m see Fi ##g . 2 . 1 . In \u001b[31mthis\u001b[0m \u001b[31mview\u001b[0m , et al . 1 . 7 . 7 of the reduced - my ##os ##in heads in the p ##ores , on the migration of in mit ##och ##ond ##ria alter the action of the muscle ( ho ##sp ##hat ##e ) . Messenger synthesis \u001b[31mof\u001b[0m the work of enzymes \u001b[31min\u001b[0m cell m ##ou ##ld \u001b[31m##s\u001b[0m . In ##g . van \u001b[31mThor\u001b[0m , J . J . Hell ##ing ##wer ##f , K . J . Hell ##i ##well and K . G . Da ##ute ##nh ##ahn , S . Woods , M . L . Walters and K . Ko ##ay ( 2006 \u001b[31m)\u001b[0m . ' Doing the Right Thing Wrong ' - \u001b[31mPersonal\u001b[0m ##ity and To ##ler ##ance to Un ##com ##fort ##able Robot \u001b[31mA\u001b[0m ##pp ##roach ##es . To appear in Pro ##ce ##eding of IEEE \u001b[31mR\u001b[0m ##O - MA ##N ( University of Hertfordshire UK , 6 - 8 \u001b[31mSeptember\u001b[0m \u001b[31m2006\u001b[0m ) \u001b[31m.\u001b[0m \u001b[31mS\u001b[0m . Woods , M . Walters , K . L . Ko ##ay and K . Da ##ute ##nh ##ahn ( 2006 ) . Co ##mp ##aring Human Robot \u001b[31mInter\u001b[0m ##action Sc ##ena ##rio ##s Using Live and Video Based Method ##s : Towards a \u001b[31mNovel\u001b[0m Method ##ological A ##pp \u001b[31m##roach\u001b[0m . Pro ##ce \u001b[31m##eding\u001b[0m of AMC \u001b[31m'\u001b[0m 06 , The 9th International Workshop \u001b[31mon\u001b[0m \u001b[31mAdvanced\u001b[0m Motion Control ( Istanbul , March 2006 ) , 750 \u001b[31m-\u001b[0m 75 ##5 Again you \u001b[31mwill\u001b[0m notice \u001b[31mthat\u001b[0m the details as to the markers has diminished at the expense \u001b[31mof\u001b[0m the newly selected option . Now \u001b[31mSA\u001b[0m ##GE tags are short o ##li ##gos which define parts of an error message , usually \u001b[31mfrom\u001b[0m the coding region as shown in the diagram . \u001b[31mS\u001b[0m ##pec ##ified : \u001b[31mS\u001b[0m ##pecific ##ation ( 5 ) 1 ) 1 ) Des ##cription and subsequently performed to establish the surface based on the surface of a fun ##nel - like process . This measurement is then \u001b[31mused\u001b[0m to find out how important the point ##er layer of view of the micro ##scope can be read from the camera and modify the changes . The \u001b[31mmethod\u001b[0m allows assessment of the overall shape and size of the robot \u001b[31m,\u001b[0m and the [SEP] \n",
      "\n"
     ]
    }
   ],
   "source": [
    "interpret_sentence(\n",
    "    sentences[mistake_ids[1]], dataset_reader.tokenizer, 50, \n",
    "    [smooth_grad, simple_grad, integrated_grad],\n",
    "    label_description[true_classes[mistake_ids[1]]],\n",
    "    label_description[predicted_classes[mistake_ids[1]]]\n",
    ")"
   ]
  },
  {
   "cell_type": "code",
   "execution_count": 18,
   "metadata": {},
   "outputs": [
    {
     "name": "stdout",
     "output_type": "stream",
     "text": [
      "TRUE LABEL: research\n",
      "LABEL: info\n",
      "<class 'allennlp.interpret.saliency_interpreters.smooth_gradient.SmoothGradient'> TEXT:\n",
      "\u001b[31myo\u001b[0m ##gh \u001b[31m##urt\u001b[0m \u001b[31mor\u001b[0m side chain reaction \u001b[31mwith\u001b[0m respect \u001b[31mto\u001b[0m the various states of g ##ating the same type , is seen \u001b[31mas\u001b[0m the shear \u001b[31mstrain\u001b[0m energy applied \u001b[31m.\u001b[0m Where \u001b[31mthe\u001b[0m associated pipe is \u001b[31mthe\u001b[0m T ##hr ##esh ##old , T ##hr ##esh ##old and T ##hr ##esh ##old , \u001b[31mS\u001b[0m ##ym ##bolic \u001b[31m-\u001b[0m manipulation \u001b[31mof\u001b[0m regular pressure curves \u001b[31mwas\u001b[0m \u001b[31mdiscussed\u001b[0m \u001b[31m.\u001b[0m \u001b[31mA\u001b[0m \u001b[31mgeneral\u001b[0m requirement for \u001b[31mthe\u001b[0m experimental prediction of the Na ##vier \u001b[31m-\u001b[0m Stokes \u001b[31mequations\u001b[0m using Green ' s numerical equations was found that for some infinite ##ly def ##orm ##ed plate damp ##ed sin ##us ##oids was similar to the C ##N ##ume ##rov - Mo 2 trans ##ist ##or layer \u001b[31m.\u001b[0m \u001b[31mInitial\u001b[0m \u001b[31mInformation\u001b[0m \u001b[31mThis\u001b[0m work concerned all three case study \u001b[31msections\u001b[0m \u001b[31ma\u001b[0m 2D joint study of the crust ##al motion of a co ##smos \u001b[31m,\u001b[0m laser s ##lough and other insects \u001b[31m,\u001b[0m such as co ##bble \u001b[31m##s\u001b[0m , lands \u001b[31m,\u001b[0m lands , v ##irt ##uous motion and water , and also developing \u001b[31mtheir\u001b[0m study \u001b[31m(\u001b[0m So ##hal ##owski & B ##ik ##strom , 2001 \u001b[31m)\u001b[0m \u001b[31m.\u001b[0m If \u001b[31mthe\u001b[0m l ##igan \u001b[31m##ds\u001b[0m for \u001b[31mmanipulation\u001b[0m \u001b[31mis\u001b[0m carried out as follows : w ch ##ile / o not \u001b[31mmechanical\u001b[0m force . At q = A short condition , the com ##puted \u001b[31mto\u001b[0m cause a potential polymer from the glass , e . g . , through to cause persistent oxidation in the a ##po ##E reaction \u001b[31mto\u001b[0m fall in the rate of change of polymer ##ization . Thus , a polymer co ##llo ##id matrix has a positive charge , and a positive charge on the back of each con ##st ##it ##utive of the stress to improve the interaction of the individual layers is more critical than for super ##con ##duct ##ing . This is the def ##orm ##ation of def ##orm ##ation in terms of def ##orm ##ation density and precipitation \u001b[31mduring\u001b[0m a segment to the p ##orous rock . This process is repeated until the bleeding has significant and the change in the measurement is still strongly reduced . A general relation between the wall and the inter ##fer ##ometer is ##oto ##pe determination of the background s ##tra ##ti ##graphy V , sample tracking technique applying a square ##line si ##mu ##lator that allows the abundance of cope ##po ##ds to be estimated for a wide range of sources in the northern North \u001b[31mSea\u001b[0m \u001b[31m(\u001b[0m \u001b[31min\u001b[0m - September ) and the ##bol spectral \u001b[31mresponse\u001b[0m to the total heat loss data for the di ##sper ##sion , terrestrial and marine ecosystems \u001b[31m.\u001b[0m V ##ege ##tation Classification survey data - base and resolution N ##VC has made it possible to produce peak maps of less than 10 per cent of the limit . Three den ##sities of a 1 . 7 cm \u001b[31m2\u001b[0m s - 2 s - 1 were proved to be in ##con ##ven ##ging . This dip ##ole results in a figure of 38 ##7 Hz ( \u001b[31mthick\u001b[0m ) . All were fore ##see [SEP] \n",
      "\n",
      "<class 'allennlp.interpret.saliency_interpreters.simple_gradient.SimpleGradient'> TEXT:\n",
      "yo \u001b[31m##gh\u001b[0m \u001b[31m##urt\u001b[0m \u001b[31mor\u001b[0m \u001b[31mside\u001b[0m chain reaction \u001b[31mwith\u001b[0m respect \u001b[31mto\u001b[0m the various states of g ##ating the same type , is \u001b[31mseen\u001b[0m as the shear \u001b[31mstrain\u001b[0m energy applied . \u001b[31mWhere\u001b[0m \u001b[31mthe\u001b[0m \u001b[31massociated\u001b[0m pipe is \u001b[31mthe\u001b[0m \u001b[31mT\u001b[0m ##hr ##esh ##old , T ##hr ##esh ##old and T ##hr ##esh \u001b[31m##old\u001b[0m \u001b[31m,\u001b[0m \u001b[31mS\u001b[0m ##ym ##bolic - manipulation \u001b[31mof\u001b[0m \u001b[31mregular\u001b[0m \u001b[31mpressure\u001b[0m \u001b[31mcurves\u001b[0m \u001b[31mwas\u001b[0m \u001b[31mdiscussed\u001b[0m . \u001b[31mA\u001b[0m general \u001b[31mrequirement\u001b[0m for the experimental prediction \u001b[31mof\u001b[0m the Na \u001b[31m##vier\u001b[0m \u001b[31m-\u001b[0m Stokes equations \u001b[31musing\u001b[0m \u001b[31mGreen\u001b[0m ' s numerical equations was \u001b[31mfound\u001b[0m that for some infinite ##ly def ##orm ##ed plate damp ##ed sin ##us ##oids \u001b[31mwas\u001b[0m similar to the C ##N ##ume ##rov - Mo 2 trans ##ist ##or layer . Initial \u001b[31mInformation\u001b[0m This work \u001b[31mconcerned\u001b[0m all three case \u001b[31mstudy\u001b[0m sections a \u001b[31m2D\u001b[0m joint study of the crust ##al motion of a co \u001b[31m##smos\u001b[0m , \u001b[31mlaser\u001b[0m \u001b[31ms\u001b[0m ##lough and other insects , such as co ##bble ##s , lands , lands , v ##irt ##uous motion and water , and also developing their study ( So ##hal ##owski & B ##ik ##strom , 2001 ) \u001b[31m.\u001b[0m \u001b[31mIf\u001b[0m \u001b[31mthe\u001b[0m l \u001b[31m##igan\u001b[0m ##ds for \u001b[31mmanipulation\u001b[0m \u001b[31mis\u001b[0m \u001b[31mcarried\u001b[0m out as follows : \u001b[31mw\u001b[0m ch ##ile / o not mechanical force . At q = A short condition , the com ##puted to cause a potential polymer from the glass , e . g . , through to cause persistent oxidation in the a ##po \u001b[31m##E\u001b[0m \u001b[31mreaction\u001b[0m to fall in the rate of change of polymer ##ization . \u001b[31mThus\u001b[0m , a polymer co ##llo ##id matrix has a positive charge , and a positive charge on the back of each con ##st ##it ##utive of the stress to improve the interaction of the individual layers is more critical than for super ##con ##duct ##ing . This is the def ##orm ##ation of def ##orm ##ation in terms of def ##orm ##ation density and precipitation during a segment to the p ##orous rock . This process is repeated until the bleeding has significant and the change in the measurement is still strongly reduced . A general relation between the wall and the inter ##fer ##ometer is ##oto ##pe determination of the background s ##tra ##ti ##graphy V , sample tracking technique applying a square ##line si ##mu ##lator that allows the abundance of cope ##po \u001b[31m##ds\u001b[0m to be estimated for a wide range of sources in the northern North Sea ( in - September ) and the ##bol spectral response to the total heat loss data for the di ##sper ##sion , terrestrial and marine ecosystems . V ##ege ##tation Classification survey data - base and resolution N ##VC has made it possible to produce peak maps of less than 10 per cent of the limit . Three den ##sities of a 1 . 7 cm 2 s - 2 s - 1 were proved to be in ##con ##ven ##ging . This dip ##ole results in a figure of 38 ##7 Hz ( thick ) . All were fore ##see [SEP] \n",
      "\n",
      "<class 'allennlp.interpret.saliency_interpreters.integrated_gradient.IntegratedGradient'> TEXT:\n",
      "\u001b[31myo\u001b[0m \u001b[31m##gh\u001b[0m ##urt \u001b[31mor\u001b[0m \u001b[31mside\u001b[0m \u001b[31mchain\u001b[0m reaction \u001b[31mwith\u001b[0m respect to the \u001b[31mvarious\u001b[0m states \u001b[31mof\u001b[0m g ##ating the same type , is seen \u001b[31mas\u001b[0m the \u001b[31mshear\u001b[0m \u001b[31mstrain\u001b[0m \u001b[31menergy\u001b[0m \u001b[31mapplied\u001b[0m . Where the associated \u001b[31mpipe\u001b[0m is the T ##hr ##esh ##old , T ##hr \u001b[31m##esh\u001b[0m ##old \u001b[31mand\u001b[0m T ##hr ##esh \u001b[31m##old\u001b[0m , S ##ym \u001b[31m##bolic\u001b[0m \u001b[31m-\u001b[0m manipulation of \u001b[31mregular\u001b[0m pressure \u001b[31mcurves\u001b[0m was discussed . A general requirement for the experimental \u001b[31mprediction\u001b[0m \u001b[31mof\u001b[0m the \u001b[31mNa\u001b[0m ##vier \u001b[31m-\u001b[0m Stokes equations using Green ' s numerical equations was found that for some infinite ##ly def ##orm ##ed plate damp ##ed sin ##us ##oids was similar to the C ##N ##ume ##rov - Mo 2 trans ##ist ##or layer . Initial Information \u001b[31mThis\u001b[0m \u001b[31mwork\u001b[0m concerned all \u001b[31mthree\u001b[0m \u001b[31mcase\u001b[0m study \u001b[31msections\u001b[0m a 2D joint study \u001b[31mof\u001b[0m the crust \u001b[31m##al\u001b[0m motion of a co ##smos , laser \u001b[31ms\u001b[0m ##lough and other insects , such as co ##bble ##s , lands , lands , v ##irt ##uous motion and water , and also developing their study ( So ##hal ##owski & B ##ik ##strom , 2001 ) . If \u001b[31mthe\u001b[0m l ##igan ##ds for manipulation is carried out as follows : w ch ##ile / o not \u001b[31mmechanical\u001b[0m force . At q = A short condition , the com ##puted to cause a potential polymer from the glass , e . g . , through to cause persistent oxidation in the a ##po ##E reaction \u001b[31mto\u001b[0m fall in the rate of change of polymer ##ization . Thus , a polymer co ##llo ##id matrix has a positive charge , and a positive charge on the back of each con ##st ##it ##utive of the stress to improve the interaction of the individual layers is more critical than for super ##con ##duct ##ing . This is the def ##orm ##ation of def ##orm ##ation in terms of def ##orm ##ation density and precipitation \u001b[31mduring\u001b[0m a segment \u001b[31mto\u001b[0m the p ##orous rock . This process is repeated until the bleeding has significant and the change in the measurement is still strongly reduced . A general relation between the wall and the inter ##fer ##ometer is ##oto ##pe determination \u001b[31mof\u001b[0m the background s ##tra ##ti ##graphy V , sample tracking technique applying a square ##line si ##mu ##lator that allows the abundance of cope ##po ##ds to be estimated for a wide range of sources in the northern North Sea ( in - September ) and the ##bol spectral response to the total heat loss data for the di ##sper ##sion , terrestrial \u001b[31mand\u001b[0m marine ecosystems . V ##ege \u001b[31m##tation\u001b[0m Classification \u001b[31msurvey\u001b[0m \u001b[31mdata\u001b[0m - base and resolution N ##VC has made it possible to produce peak maps of less than 10 per cent of the limit . Three \u001b[31mden\u001b[0m ##sities of a 1 . 7 \u001b[31mcm\u001b[0m 2 \u001b[31ms\u001b[0m - 2 \u001b[31ms\u001b[0m - 1 were proved to be in ##con ##ven ##ging . This \u001b[31mdip\u001b[0m ##ole results in a figure of 38 ##7 Hz ( thick ) . All were fore ##see \u001b[31m[SEP]\u001b[0m \n",
      "\n"
     ]
    }
   ],
   "source": [
    "interpret_sentence(\n",
    "    sentences[mistake_ids[2]], dataset_reader.tokenizer, 50, \n",
    "    [smooth_grad, simple_grad, integrated_grad],\n",
    "    label_description[true_classes[mistake_ids[2]]],\n",
    "    label_description[predicted_classes[mistake_ids[2]]]\n",
    ")"
   ]
  }
 ],
 "metadata": {
  "kernelspec": {
   "display_name": "Python 3",
   "language": "python",
   "name": "python3"
  },
  "language_info": {
   "codemirror_mode": {
    "name": "ipython",
    "version": 3
   },
   "file_extension": ".py",
   "mimetype": "text/x-python",
   "name": "python",
   "nbconvert_exporter": "python",
   "pygments_lexer": "ipython3",
   "version": "3.8.3"
  }
 },
 "nbformat": 4,
 "nbformat_minor": 4
}
